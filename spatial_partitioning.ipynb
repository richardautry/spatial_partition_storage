{
 "cells": [
  {
   "cell_type": "code",
   "execution_count": 1,
   "id": "12fe0d36-4a3d-44e4-89d8-e062c7635c19",
   "metadata": {},
   "outputs": [],
   "source": [
    "from utils import *"
   ]
  },
  {
   "cell_type": "code",
   "execution_count": 2,
   "id": "18bfc76c-0c7d-4a94-bbec-fc5be9bcd357",
   "metadata": {},
   "outputs": [
    {
     "data": {
      "text/plain": [
       "[array([[155, 155, 413, 413, 155, 155, 413, 413],\n",
       "        [612,  50,  50, 612, 612,  50,  50, 612],\n",
       "        [362, 362, 362, 362, 492, 492, 492, 492]]),\n",
       " array([[918, 918, 519, 519, 918, 918, 519, 519],\n",
       "        [828, 746, 746, 828, 828, 746, 746, 828],\n",
       "        [772, 772, 772, 772, 895, 895, 895, 895]]),\n",
       " array([[ 75,  75, 454, 454,  75,  75, 454, 454],\n",
       "        [ 11, 278, 278,  11,  11, 278, 278,  11],\n",
       "        [ 59,  59,  59,  59, 972, 972, 972, 972]]),\n",
       " array([[574, 574, 440, 440, 574, 574, 440, 440],\n",
       "        [550, 966, 966, 550, 550, 966, 966, 550],\n",
       "        [593, 593, 593, 593,  83,  83,  83,  83]]),\n",
       " array([[992, 992, 819, 819, 992, 992, 819, 819],\n",
       "        [471, 573, 573, 471, 471, 573, 573, 471],\n",
       "        [783, 783, 783, 783,  91,  91,  91,  91]]),\n",
       " array([[268, 268, 436, 436, 268, 268, 436, 436],\n",
       "        [804, 912, 912, 804, 804, 912, 912, 804],\n",
       "        [568, 568, 568, 568, 129, 129, 129, 129]]),\n",
       " array([[325, 325,  44,  44, 325, 325,  44,  44],\n",
       "        [726, 791, 791, 726, 726, 791, 791, 726],\n",
       "        [835, 835, 835, 835,  40,  40,  40,  40]]),\n",
       " array([[880, 880, 566, 566, 880, 880, 566, 566],\n",
       "        [ 23, 189, 189,  23,  23, 189, 189,  23],\n",
       "        [465, 465, 465, 465, 854, 854, 854, 854]]),\n",
       " array([[833, 833,  70,  70, 833, 833,  70,  70],\n",
       "        [808, 510, 510, 808, 808, 510, 510, 808],\n",
       "        [267, 267, 267, 267, 615, 615, 615, 615]]),\n",
       " array([[604, 604,  84,  84, 604, 604,  84,  84],\n",
       "        [564, 469, 469, 564, 564, 469, 469, 564],\n",
       "        [ 73,  73,  73,  73,  85,  85,  85,  85]])]"
      ]
     },
     "execution_count": 2,
     "metadata": {},
     "output_type": "execute_result"
    }
   ],
   "source": [
    "boxes = [generate_box(0, 1000) for i in range(100)]\n",
    "boxes[:10]"
   ]
  },
  {
   "cell_type": "code",
   "execution_count": 3,
   "id": "9e5c7bda-9e0d-40eb-920b-94c8fb34866d",
   "metadata": {},
   "outputs": [],
   "source": [
    "# Setup API\n",
    "import requests\n",
    "from requests.compat import urljoin\n",
    "import json"
   ]
  },
  {
   "cell_type": "code",
   "execution_count": 4,
   "id": "dffb9676-a351-4458-bbe4-397e07f18f79",
   "metadata": {},
   "outputs": [
    {
     "data": {
      "text/plain": [
       "[{'x_min': 159.0,\n",
       "  'x_max': 414.0,\n",
       "  'y_min': 171.0,\n",
       "  'y_max': 374.0,\n",
       "  'z_min': 64.0,\n",
       "  'z_max': 64.0,\n",
       "  'id': '71a6466e-4b28-48ca-8af1-e5662d2bdb21'}]"
      ]
     },
     "execution_count": 4,
     "metadata": {},
     "output_type": "execute_result"
    }
   ],
   "source": [
    "api_host = \"http://localhost\"\n",
    "boxes_endpoint = \"boxes/\"\n",
    "\n",
    "boxes_url = urljoin(api_host, boxes_endpoint)\n",
    "response = requests.get(url=boxes_url)\n",
    "response.json()[:1]"
   ]
  },
  {
   "cell_type": "code",
   "execution_count": 23,
   "id": "ff4421df-0505-4403-991f-7aaed49430cb",
   "metadata": {},
   "outputs": [
    {
     "name": "stdout",
     "output_type": "stream",
     "text": [
      "{'x_min': 155, 'x_max': 413, 'y_min': 50, 'y_max': 612, 'z_min': 362, 'z_max': 492}\n",
      "{'x_min': 519, 'x_max': 918, 'y_min': 746, 'y_max': 828, 'z_min': 772, 'z_max': 895}\n",
      "{'x_min': 75, 'x_max': 454, 'y_min': 11, 'y_max': 278, 'z_min': 59, 'z_max': 972}\n",
      "{'x_min': 440, 'x_max': 574, 'y_min': 550, 'y_max': 966, 'z_min': 83, 'z_max': 593}\n",
      "{'x_min': 819, 'x_max': 992, 'y_min': 471, 'y_max': 573, 'z_min': 91, 'z_max': 783}\n",
      "{'x_min': 268, 'x_max': 436, 'y_min': 804, 'y_max': 912, 'z_min': 129, 'z_max': 568}\n",
      "{'x_min': 44, 'x_max': 325, 'y_min': 726, 'y_max': 791, 'z_min': 40, 'z_max': 835}\n",
      "{'x_min': 566, 'x_max': 880, 'y_min': 23, 'y_max': 189, 'z_min': 465, 'z_max': 854}\n",
      "{'x_min': 70, 'x_max': 833, 'y_min': 510, 'y_max': 808, 'z_min': 267, 'z_max': 615}\n",
      "{'x_min': 84, 'x_max': 604, 'y_min': 469, 'y_max': 564, 'z_min': 73, 'z_max': 85}\n",
      "{'x_min': 586, 'x_max': 887, 'y_min': 56, 'y_max': 877, 'z_min': 165, 'z_max': 750}\n",
      "{'x_min': 162, 'x_max': 650, 'y_min': 610, 'y_max': 924, 'z_min': 529, 'z_max': 755}\n",
      "{'x_min': 51, 'x_max': 761, 'y_min': 287, 'y_max': 708, 'z_min': 217, 'z_max': 851}\n",
      "{'x_min': 280, 'x_max': 574, 'y_min': 161, 'y_max': 485, 'z_min': 429, 'z_max': 955}\n",
      "{'x_min': 477, 'x_max': 829, 'y_min': 183, 'y_max': 888, 'z_min': 74, 'z_max': 917}\n",
      "{'x_min': 564, 'x_max': 806, 'y_min': 201, 'y_max': 464, 'z_min': 114, 'z_max': 400}\n",
      "{'x_min': 215, 'x_max': 460, 'y_min': 406, 'y_max': 522, 'z_min': 291, 'z_max': 596}\n",
      "{'x_min': 317, 'x_max': 734, 'y_min': 580, 'y_max': 613, 'z_min': 64, 'z_max': 364}\n",
      "{'x_min': 101, 'x_max': 270, 'y_min': 31, 'y_max': 673, 'z_min': 148, 'z_max': 612}\n",
      "{'x_min': 217, 'x_max': 593, 'y_min': 423, 'y_max': 888, 'z_min': 26, 'z_max': 338}\n",
      "{'x_min': 562, 'x_max': 574, 'y_min': 459, 'y_max': 814, 'z_min': 269, 'z_max': 965}\n",
      "{'x_min': 102, 'x_max': 464, 'y_min': 852, 'y_max': 952, 'z_min': 306, 'z_max': 957}\n",
      "{'x_min': 177, 'x_max': 375, 'y_min': 17, 'y_max': 97, 'z_min': 198, 'z_max': 360}\n",
      "{'x_min': 191, 'x_max': 943, 'y_min': 276, 'y_max': 452, 'z_min': 34, 'z_max': 199}\n",
      "{'x_min': 298, 'x_max': 532, 'y_min': 514, 'y_max': 694, 'z_min': 895, 'z_max': 923}\n",
      "{'x_min': 166, 'x_max': 977, 'y_min': 618, 'y_max': 798, 'z_min': 99, 'z_max': 834}\n",
      "{'x_min': 114, 'x_max': 360, 'y_min': 93, 'y_max': 301, 'z_min': 11, 'z_max': 833}\n",
      "{'x_min': 194, 'x_max': 231, 'y_min': 357, 'y_max': 636, 'z_min': 591, 'z_max': 912}\n",
      "{'x_min': 421, 'x_max': 793, 'y_min': 460, 'y_max': 825, 'z_min': 653, 'z_max': 956}\n",
      "{'x_min': 707, 'x_max': 855, 'y_min': 589, 'y_max': 602, 'z_min': 227, 'z_max': 606}\n",
      "{'x_min': 617, 'x_max': 719, 'y_min': 81, 'y_max': 686, 'z_min': 86, 'z_max': 638}\n",
      "{'x_min': 26, 'x_max': 457, 'y_min': 244, 'y_max': 978, 'z_min': 725, 'z_max': 808}\n",
      "{'x_min': 45, 'x_max': 87, 'y_min': 184, 'y_max': 909, 'z_min': 255, 'z_max': 806}\n",
      "{'x_min': 331, 'x_max': 523, 'y_min': 11, 'y_max': 547, 'z_min': 572, 'z_max': 768}\n",
      "{'x_min': 138, 'x_max': 442, 'y_min': 123, 'y_max': 864, 'z_min': 500, 'z_max': 904}\n",
      "{'x_min': 603, 'x_max': 689, 'y_min': 651, 'y_max': 744, 'z_min': 33, 'z_max': 595}\n",
      "{'x_min': 282, 'x_max': 618, 'y_min': 620, 'y_max': 870, 'z_min': 234, 'z_max': 346}\n",
      "{'x_min': 31, 'x_max': 492, 'y_min': 69, 'y_max': 352, 'z_min': 46, 'z_max': 489}\n",
      "{'x_min': 101, 'x_max': 385, 'y_min': 334, 'y_max': 398, 'z_min': 165, 'z_max': 884}\n",
      "{'x_min': 660, 'x_max': 724, 'y_min': 289, 'y_max': 458, 'z_min': 494, 'z_max': 546}\n",
      "{'x_min': 91, 'x_max': 762, 'y_min': 364, 'y_max': 933, 'z_min': 340, 'z_max': 366}\n",
      "{'x_min': 239, 'x_max': 293, 'y_min': 139, 'y_max': 970, 'z_min': 282, 'z_max': 432}\n",
      "{'x_min': 719, 'x_max': 914, 'y_min': 110, 'y_max': 471, 'z_min': 433, 'z_max': 505}\n",
      "{'x_min': 126, 'x_max': 561, 'y_min': 502, 'y_max': 511, 'z_min': 658, 'z_max': 999}\n",
      "{'x_min': 484, 'x_max': 845, 'y_min': 493, 'y_max': 883, 'z_min': 242, 'z_max': 340}\n",
      "{'x_min': 385, 'x_max': 489, 'y_min': 581, 'y_max': 931, 'z_min': 280, 'z_max': 550}\n",
      "{'x_min': 219, 'x_max': 273, 'y_min': 359, 'y_max': 555, 'z_min': 440, 'z_max': 971}\n",
      "{'x_min': 90, 'x_max': 276, 'y_min': 493, 'y_max': 878, 'z_min': 296, 'z_max': 432}\n",
      "{'x_min': 42, 'x_max': 375, 'y_min': 479, 'y_max': 753, 'z_min': 591, 'z_max': 608}\n",
      "{'x_min': 20, 'x_max': 498, 'y_min': 715, 'y_max': 975, 'z_min': 497, 'z_max': 558}\n",
      "{'x_min': 299, 'x_max': 424, 'y_min': 584, 'y_max': 690, 'z_min': 71, 'z_max': 764}\n",
      "{'x_min': 137, 'x_max': 329, 'y_min': 24, 'y_max': 497, 'z_min': 512, 'z_max': 965}\n",
      "{'x_min': 631, 'x_max': 731, 'y_min': 598, 'y_max': 633, 'z_min': 178, 'z_max': 524}\n",
      "{'x_min': 222, 'x_max': 541, 'y_min': 339, 'y_max': 860, 'z_min': 795, 'z_max': 882}\n",
      "{'x_min': 38, 'x_max': 226, 'y_min': 321, 'y_max': 358, 'z_min': 558, 'z_max': 606}\n",
      "{'x_min': 189, 'x_max': 328, 'y_min': 477, 'y_max': 958, 'z_min': 146, 'z_max': 637}\n",
      "{'x_min': 870, 'x_max': 962, 'y_min': 42, 'y_max': 766, 'z_min': 343, 'z_max': 671}\n",
      "{'x_min': 377, 'x_max': 980, 'y_min': 88, 'y_max': 154, 'z_min': 192, 'z_max': 924}\n",
      "{'x_min': 459, 'x_max': 841, 'y_min': 211, 'y_max': 527, 'z_min': 582, 'z_max': 707}\n",
      "{'x_min': 23, 'x_max': 487, 'y_min': 27, 'y_max': 543, 'z_min': 753, 'z_max': 798}\n",
      "{'x_min': 245, 'x_max': 586, 'y_min': 8, 'y_max': 283, 'z_min': 172, 'z_max': 500}\n",
      "{'x_min': 286, 'x_max': 802, 'y_min': 45, 'y_max': 953, 'z_min': 196, 'z_max': 245}\n",
      "{'x_min': 342, 'x_max': 452, 'y_min': 385, 'y_max': 802, 'z_min': 450, 'z_max': 605}\n",
      "{'x_min': 373, 'x_max': 619, 'y_min': 384, 'y_max': 962, 'z_min': 329, 'z_max': 945}\n",
      "{'x_min': 725, 'x_max': 928, 'y_min': 311, 'y_max': 747, 'z_min': 66, 'z_max': 165}\n",
      "{'x_min': 342, 'x_max': 529, 'y_min': 422, 'y_max': 829, 'z_min': 842, 'z_max': 904}\n",
      "{'x_min': 230, 'x_max': 463, 'y_min': 683, 'y_max': 973, 'z_min': 272, 'z_max': 591}\n",
      "{'x_min': 399, 'x_max': 548, 'y_min': 472, 'y_max': 780, 'z_min': 190, 'z_max': 715}\n",
      "{'x_min': 138, 'x_max': 759, 'y_min': 1, 'y_max': 485, 'z_min': 376, 'z_max': 942}\n",
      "{'x_min': 911, 'x_max': 957, 'y_min': 580, 'y_max': 603, 'z_min': 211, 'z_max': 775}\n",
      "{'x_min': 23, 'x_max': 798, 'y_min': 145, 'y_max': 856, 'z_min': 150, 'z_max': 244}\n",
      "{'x_min': 548, 'x_max': 759, 'y_min': 0, 'y_max': 846, 'z_min': 401, 'z_max': 641}\n",
      "{'x_min': 252, 'x_max': 321, 'y_min': 78, 'y_max': 626, 'z_min': 170, 'z_max': 307}\n",
      "{'x_min': 293, 'x_max': 882, 'y_min': 606, 'y_max': 836, 'z_min': 165, 'z_max': 689}\n",
      "{'x_min': 831, 'x_max': 833, 'y_min': 264, 'y_max': 486, 'z_min': 378, 'z_max': 716}\n",
      "{'x_min': 210, 'x_max': 860, 'y_min': 490, 'y_max': 617, 'z_min': 57, 'z_max': 958}\n",
      "{'x_min': 594, 'x_max': 866, 'y_min': 107, 'y_max': 981, 'z_min': 270, 'z_max': 672}\n",
      "{'x_min': 221, 'x_max': 991, 'y_min': 622, 'y_max': 808, 'z_min': 416, 'z_max': 488}\n",
      "{'x_min': 480, 'x_max': 897, 'y_min': 225, 'y_max': 296, 'z_min': 265, 'z_max': 404}\n",
      "{'x_min': 400, 'x_max': 620, 'y_min': 343, 'y_max': 831, 'z_min': 263, 'z_max': 460}\n",
      "{'x_min': 367, 'x_max': 940, 'y_min': 71, 'y_max': 901, 'z_min': 311, 'z_max': 712}\n",
      "{'x_min': 41, 'x_max': 535, 'y_min': 193, 'y_max': 691, 'z_min': 847, 'z_max': 936}\n",
      "{'x_min': 349, 'x_max': 528, 'y_min': 308, 'y_max': 701, 'z_min': 575, 'z_max': 610}\n",
      "{'x_min': 303, 'x_max': 422, 'y_min': 43, 'y_max': 648, 'z_min': 90, 'z_max': 297}\n",
      "{'x_min': 260, 'x_max': 688, 'y_min': 117, 'y_max': 355, 'z_min': 311, 'z_max': 441}\n",
      "{'x_min': 0, 'x_max': 832, 'y_min': 557, 'y_max': 728, 'z_min': 352, 'z_max': 625}\n",
      "{'x_min': 20, 'x_max': 438, 'y_min': 75, 'y_max': 368, 'z_min': 353, 'z_max': 357}\n",
      "{'x_min': 767, 'x_max': 901, 'y_min': 405, 'y_max': 881, 'z_min': 117, 'z_max': 233}\n",
      "{'x_min': 24, 'x_max': 733, 'y_min': 270, 'y_max': 380, 'z_min': 52, 'z_max': 601}\n",
      "{'x_min': 590, 'x_max': 820, 'y_min': 387, 'y_max': 584, 'z_min': 77, 'z_max': 609}\n",
      "{'x_min': 529, 'x_max': 557, 'y_min': 187, 'y_max': 394, 'z_min': 355, 'z_max': 450}\n",
      "{'x_min': 727, 'x_max': 940, 'y_min': 582, 'y_max': 656, 'z_min': 245, 'z_max': 886}\n",
      "{'x_min': 369, 'x_max': 496, 'y_min': 50, 'y_max': 173, 'z_min': 195, 'z_max': 956}\n",
      "{'x_min': 352, 'x_max': 475, 'y_min': 122, 'y_max': 333, 'z_min': 315, 'z_max': 544}\n",
      "{'x_min': 149, 'x_max': 970, 'y_min': 714, 'y_max': 804, 'z_min': 280, 'z_max': 940}\n",
      "{'x_min': 219, 'x_max': 380, 'y_min': 585, 'y_max': 816, 'z_min': 143, 'z_max': 263}\n",
      "{'x_min': 49, 'x_max': 159, 'y_min': 265, 'y_max': 381, 'z_min': 574, 'z_max': 740}\n",
      "{'x_min': 612, 'x_max': 866, 'y_min': 155, 'y_max': 560, 'z_min': 40, 'z_max': 588}\n",
      "{'x_min': 118, 'x_max': 685, 'y_min': 545, 'y_max': 671, 'z_min': 55, 'z_max': 679}\n",
      "{'x_min': 442, 'x_max': 677, 'y_min': 168, 'y_max': 714, 'z_min': 187, 'z_max': 454}\n"
     ]
    }
   ],
   "source": [
    "\n",
    "for box in boxes:\n",
    "    data = {\n",
    "        \"x_min\": min(box[0]),\n",
    "        \"x_max\": max(box[0]),\n",
    "        \"y_min\": min(box[1]),\n",
    "        \"y_max\": max(box[1]),\n",
    "        \"z_min\": min(box[2]),\n",
    "        \"z_max\": max(box[2]),\n",
    "    }\n",
    "    for key, value in data.items():\n",
    "        data[key] = int(value)\n",
    "    print(data)\n",
    "    response = requests.post(urljoin(api_host, boxes_endpoint), json=data)\n",
    "    assert response.status_code == 200, response.json()"
   ]
  },
  {
   "cell_type": "code",
   "execution_count": 11,
   "id": "b1eb043b-5761-40a4-a0ac-e855ed93ffd4",
   "metadata": {},
   "outputs": [],
   "source": [
    "def show_3d_boxes(boxes):\n",
    "    fig = go.Figure()\n",
    "\n",
    "    for box in boxes:\n",
    "        add_mesh_3d(fig, box)\n",
    "\n",
    "    fig.update_layout(\n",
    "        scene = {\n",
    "            \"xaxis\": {\n",
    "                \"nticks\": 4, \n",
    "                \"range\": [0,1000],\n",
    "            },\n",
    "            \"yaxis\": {\n",
    "                \"nticks\": 4, \n",
    "                \"range\": [0, 1000],\n",
    "            },\n",
    "            \"zaxis\": {\n",
    "                \"nticks\": 4, \n",
    "                \"range\": [0,1000],\n",
    "            },\n",
    "        },\n",
    "        width=700,\n",
    "        margin=dict(r=20, l=10, b=10, t=10))\n",
    "\n",
    "    fig.show()"
   ]
  },
  {
   "cell_type": "code",
   "execution_count": 17,
   "id": "34fb2c1d-00a0-4343-a9cd-3a76514824de",
   "metadata": {},
   "outputs": [],
   "source": [
    "response = requests.get(f\"{boxes_url}?x=20&y=500\")"
   ]
  },
  {
   "cell_type": "code",
   "execution_count": 10,
   "id": "ca0677e4-d1be-4aa9-959f-4b599072ecd4",
   "metadata": {},
   "outputs": [
    {
     "data": {
      "text/plain": [
       "array([[ 24.,  24., 965., 965.,  24.,  24., 965., 965.],\n",
       "       [185., 493., 493., 185., 185., 493., 493., 185.],\n",
       "       [374., 374., 374., 374., 374., 374., 374., 374.]])"
      ]
     },
     "execution_count": 10,
     "metadata": {},
     "output_type": "execute_result"
    }
   ],
   "source": [
    "from typing import Dict, Any\n",
    "\n",
    "def convert_box_json_to_nparray(box_obj: Dict[str, Any]):\n",
    "    del box_obj[\"id\"]\n",
    "    box_array = get_box_points_array(\n",
    "        **box_obj\n",
    "    )\n",
    "    return box_array\n",
    "\n",
    "convert_box_json_to_nparray(response.json()[0])"
   ]
  },
  {
   "cell_type": "code",
   "execution_count": 19,
   "id": "119ad1ac-2a50-4b3e-ad62-00c9f94f47b7",
   "metadata": {},
   "outputs": [
    {
     "data": {
      "text/plain": [
       "[array([[  4.,   4.,  99.,  99.,   4.,   4.,  99.,  99.],\n",
       "        [222., 688., 688., 222., 222., 688., 688., 222.],\n",
       "        [111., 111., 111., 111., 111., 111., 111., 111.]]),\n",
       " array([[ 19.,  19., 324., 324.,  19.,  19., 324., 324.],\n",
       "        [144., 816., 816., 144., 144., 816., 816., 144.],\n",
       "        [218., 218., 218., 218., 218., 218., 218., 218.]])]"
      ]
     },
     "execution_count": 19,
     "metadata": {},
     "output_type": "execute_result"
    }
   ],
   "source": [
    "response_boxes = [convert_box_json_to_nparray(box) for box in response.json()]\n",
    "response_boxes[:2]"
   ]
  },
  {
   "cell_type": "code",
   "execution_count": 29,
   "id": "c4831934-853f-46be-9d47-efc7f9cb3ac8",
   "metadata": {},
   "outputs": [
    {
     "name": "stdout",
     "output_type": "stream",
     "text": [
      "23\n"
     ]
    },
    {
     "data": {
      "application/vnd.plotly.v1+json": {
       "config": {
        "plotlyServerURL": "https://plot.ly"
       },
       "data": [
        {
         "colorbar": {
          "title": {
           "text": "z"
          }
         },
         "colorscale": [
          [
           0,
           "gold"
          ],
          [
           0.5,
           "mediumturquoise"
          ],
          [
           1,
           "magenta"
          ]
         ],
         "flatshading": true,
         "i": [
          7,
          0,
          0,
          0,
          4,
          4,
          6,
          6,
          4,
          0,
          3,
          2
         ],
         "intensity": [
          0,
          0.14285714285714285,
          0.2857142857142857,
          0.42857142857142855,
          0.5714285714285714,
          0.7142857142857142,
          0.8571428571428571,
          1
         ],
         "j": [
          3,
          4,
          1,
          2,
          5,
          6,
          5,
          2,
          0,
          1,
          6,
          3
         ],
         "k": [
          0,
          7,
          2,
          3,
          6,
          7,
          1,
          1,
          5,
          5,
          7,
          6
         ],
         "type": "mesh3d",
         "x": [
          24,
          24,
          965,
          965,
          24,
          24,
          965,
          965
         ],
         "y": [
          185,
          493,
          493,
          185,
          185,
          493,
          493,
          185
         ],
         "z": [
          374,
          374,
          374,
          374,
          374,
          374,
          374,
          374
         ]
        },
        {
         "colorbar": {
          "title": {
           "text": "z"
          }
         },
         "colorscale": [
          [
           0,
           "gold"
          ],
          [
           0.5,
           "mediumturquoise"
          ],
          [
           1,
           "magenta"
          ]
         ],
         "flatshading": true,
         "i": [
          7,
          0,
          0,
          0,
          4,
          4,
          6,
          6,
          4,
          0,
          3,
          2
         ],
         "intensity": [
          0,
          0.14285714285714285,
          0.2857142857142857,
          0.42857142857142855,
          0.5714285714285714,
          0.7142857142857142,
          0.8571428571428571,
          1
         ],
         "j": [
          3,
          4,
          1,
          2,
          5,
          6,
          5,
          2,
          0,
          1,
          6,
          3
         ],
         "k": [
          0,
          7,
          2,
          3,
          6,
          7,
          1,
          1,
          5,
          5,
          7,
          6
         ],
         "type": "mesh3d",
         "x": [
          10,
          10,
          795,
          795,
          10,
          10,
          795,
          795
         ],
         "y": [
          207,
          442,
          442,
          207,
          207,
          442,
          442,
          207
         ],
         "z": [
          652,
          652,
          652,
          652,
          652,
          652,
          652,
          652
         ]
        },
        {
         "colorbar": {
          "title": {
           "text": "z"
          }
         },
         "colorscale": [
          [
           0,
           "gold"
          ],
          [
           0.5,
           "mediumturquoise"
          ],
          [
           1,
           "magenta"
          ]
         ],
         "flatshading": true,
         "i": [
          7,
          0,
          0,
          0,
          4,
          4,
          6,
          6,
          4,
          0,
          3,
          2
         ],
         "intensity": [
          0,
          0.14285714285714285,
          0.2857142857142857,
          0.42857142857142855,
          0.5714285714285714,
          0.7142857142857142,
          0.8571428571428571,
          1
         ],
         "j": [
          3,
          4,
          1,
          2,
          5,
          6,
          5,
          2,
          0,
          1,
          6,
          3
         ],
         "k": [
          0,
          7,
          2,
          3,
          6,
          7,
          1,
          1,
          5,
          5,
          7,
          6
         ],
         "type": "mesh3d",
         "x": [
          4,
          4,
          99,
          99,
          4,
          4,
          99,
          99
         ],
         "y": [
          222,
          688,
          688,
          222,
          222,
          688,
          688,
          222
         ],
         "z": [
          111,
          111,
          111,
          111,
          111,
          111,
          111,
          111
         ]
        },
        {
         "colorbar": {
          "title": {
           "text": "z"
          }
         },
         "colorscale": [
          [
           0,
           "gold"
          ],
          [
           0.5,
           "mediumturquoise"
          ],
          [
           1,
           "magenta"
          ]
         ],
         "flatshading": true,
         "i": [
          7,
          0,
          0,
          0,
          4,
          4,
          6,
          6,
          4,
          0,
          3,
          2
         ],
         "intensity": [
          0,
          0.14285714285714285,
          0.2857142857142857,
          0.42857142857142855,
          0.5714285714285714,
          0.7142857142857142,
          0.8571428571428571,
          1
         ],
         "j": [
          3,
          4,
          1,
          2,
          5,
          6,
          5,
          2,
          0,
          1,
          6,
          3
         ],
         "k": [
          0,
          7,
          2,
          3,
          6,
          7,
          1,
          1,
          5,
          5,
          7,
          6
         ],
         "type": "mesh3d",
         "x": [
          17,
          17,
          211,
          211,
          17,
          17,
          211,
          211
         ],
         "y": [
          332,
          454,
          454,
          332,
          332,
          454,
          454,
          332
         ],
         "z": [
          18,
          18,
          18,
          18,
          18,
          18,
          18,
          18
         ]
        },
        {
         "colorbar": {
          "title": {
           "text": "z"
          }
         },
         "colorscale": [
          [
           0,
           "gold"
          ],
          [
           0.5,
           "mediumturquoise"
          ],
          [
           1,
           "magenta"
          ]
         ],
         "flatshading": true,
         "i": [
          7,
          0,
          0,
          0,
          4,
          4,
          6,
          6,
          4,
          0,
          3,
          2
         ],
         "intensity": [
          0,
          0.14285714285714285,
          0.2857142857142857,
          0.42857142857142855,
          0.5714285714285714,
          0.7142857142857142,
          0.8571428571428571,
          1
         ],
         "j": [
          3,
          4,
          1,
          2,
          5,
          6,
          5,
          2,
          0,
          1,
          6,
          3
         ],
         "k": [
          0,
          7,
          2,
          3,
          6,
          7,
          1,
          1,
          5,
          5,
          7,
          6
         ],
         "type": "mesh3d",
         "x": [
          5,
          5,
          721,
          721,
          5,
          5,
          721,
          721
         ],
         "y": [
          46,
          190,
          190,
          46,
          46,
          190,
          190,
          46
         ],
         "z": [
          350,
          350,
          350,
          350,
          350,
          350,
          350,
          350
         ]
        },
        {
         "colorbar": {
          "title": {
           "text": "z"
          }
         },
         "colorscale": [
          [
           0,
           "gold"
          ],
          [
           0.5,
           "mediumturquoise"
          ],
          [
           1,
           "magenta"
          ]
         ],
         "flatshading": true,
         "i": [
          7,
          0,
          0,
          0,
          4,
          4,
          6,
          6,
          4,
          0,
          3,
          2
         ],
         "intensity": [
          0,
          0.14285714285714285,
          0.2857142857142857,
          0.42857142857142855,
          0.5714285714285714,
          0.7142857142857142,
          0.8571428571428571,
          1
         ],
         "j": [
          3,
          4,
          1,
          2,
          5,
          6,
          5,
          2,
          0,
          1,
          6,
          3
         ],
         "k": [
          0,
          7,
          2,
          3,
          6,
          7,
          1,
          1,
          5,
          5,
          7,
          6
         ],
         "type": "mesh3d",
         "x": [
          19,
          19,
          324,
          324,
          19,
          19,
          324,
          324
         ],
         "y": [
          144,
          816,
          816,
          144,
          144,
          816,
          816,
          144
         ],
         "z": [
          218,
          218,
          218,
          218,
          218,
          218,
          218,
          218
         ]
        },
        {
         "colorbar": {
          "title": {
           "text": "z"
          }
         },
         "colorscale": [
          [
           0,
           "gold"
          ],
          [
           0.5,
           "mediumturquoise"
          ],
          [
           1,
           "magenta"
          ]
         ],
         "flatshading": true,
         "i": [
          7,
          0,
          0,
          0,
          4,
          4,
          6,
          6,
          4,
          0,
          3,
          2
         ],
         "intensity": [
          0,
          0.14285714285714285,
          0.2857142857142857,
          0.42857142857142855,
          0.5714285714285714,
          0.7142857142857142,
          0.8571428571428571,
          1
         ],
         "j": [
          3,
          4,
          1,
          2,
          5,
          6,
          5,
          2,
          0,
          1,
          6,
          3
         ],
         "k": [
          0,
          7,
          2,
          3,
          6,
          7,
          1,
          1,
          5,
          5,
          7,
          6
         ],
         "type": "mesh3d",
         "x": [
          11,
          11,
          107,
          107,
          11,
          11,
          107,
          107
         ],
         "y": [
          544,
          791,
          791,
          544,
          544,
          791,
          791,
          544
         ],
         "z": [
          160,
          160,
          160,
          160,
          160,
          160,
          160,
          160
         ]
        },
        {
         "colorbar": {
          "title": {
           "text": "z"
          }
         },
         "colorscale": [
          [
           0,
           "gold"
          ],
          [
           0.5,
           "mediumturquoise"
          ],
          [
           1,
           "magenta"
          ]
         ],
         "flatshading": true,
         "i": [
          7,
          0,
          0,
          0,
          4,
          4,
          6,
          6,
          4,
          0,
          3,
          2
         ],
         "intensity": [
          0,
          0.14285714285714285,
          0.2857142857142857,
          0.42857142857142855,
          0.5714285714285714,
          0.7142857142857142,
          0.8571428571428571,
          1
         ],
         "j": [
          3,
          4,
          1,
          2,
          5,
          6,
          5,
          2,
          0,
          1,
          6,
          3
         ],
         "k": [
          0,
          7,
          2,
          3,
          6,
          7,
          1,
          1,
          5,
          5,
          7,
          6
         ],
         "type": "mesh3d",
         "x": [
          8,
          8,
          976,
          976,
          8,
          8,
          976,
          976
         ],
         "y": [
          444,
          712,
          712,
          444,
          444,
          712,
          712,
          444
         ],
         "z": [
          391,
          391,
          391,
          391,
          391,
          391,
          391,
          391
         ]
        },
        {
         "colorbar": {
          "title": {
           "text": "z"
          }
         },
         "colorscale": [
          [
           0,
           "gold"
          ],
          [
           0.5,
           "mediumturquoise"
          ],
          [
           1,
           "magenta"
          ]
         ],
         "flatshading": true,
         "i": [
          7,
          0,
          0,
          0,
          4,
          4,
          6,
          6,
          4,
          0,
          3,
          2
         ],
         "intensity": [
          0,
          0.14285714285714285,
          0.2857142857142857,
          0.42857142857142855,
          0.5714285714285714,
          0.7142857142857142,
          0.8571428571428571,
          1
         ],
         "j": [
          3,
          4,
          1,
          2,
          5,
          6,
          5,
          2,
          0,
          1,
          6,
          3
         ],
         "k": [
          0,
          7,
          2,
          3,
          6,
          7,
          1,
          1,
          5,
          5,
          7,
          6
         ],
         "type": "mesh3d",
         "x": [
          14,
          14,
          366,
          366,
          14,
          14,
          366,
          366
         ],
         "y": [
          255,
          989,
          989,
          255,
          255,
          989,
          989,
          255
         ],
         "z": [
          141,
          141,
          141,
          141,
          141,
          141,
          141,
          141
         ]
        },
        {
         "colorbar": {
          "title": {
           "text": "z"
          }
         },
         "colorscale": [
          [
           0,
           "gold"
          ],
          [
           0.5,
           "mediumturquoise"
          ],
          [
           1,
           "magenta"
          ]
         ],
         "flatshading": true,
         "i": [
          7,
          0,
          0,
          0,
          4,
          4,
          6,
          6,
          4,
          0,
          3,
          2
         ],
         "intensity": [
          0,
          0.14285714285714285,
          0.2857142857142857,
          0.42857142857142855,
          0.5714285714285714,
          0.7142857142857142,
          0.8571428571428571,
          1
         ],
         "j": [
          3,
          4,
          1,
          2,
          5,
          6,
          5,
          2,
          0,
          1,
          6,
          3
         ],
         "k": [
          0,
          7,
          2,
          3,
          6,
          7,
          1,
          1,
          5,
          5,
          7,
          6
         ],
         "type": "mesh3d",
         "x": [
          26,
          26,
          457,
          457,
          26,
          26,
          457,
          457
         ],
         "y": [
          244,
          978,
          978,
          244,
          244,
          978,
          978,
          244
         ],
         "z": [
          725,
          725,
          725,
          725,
          725,
          725,
          725,
          725
         ]
        },
        {
         "colorbar": {
          "title": {
           "text": "z"
          }
         },
         "colorscale": [
          [
           0,
           "gold"
          ],
          [
           0.5,
           "mediumturquoise"
          ],
          [
           1,
           "magenta"
          ]
         ],
         "flatshading": true,
         "i": [
          7,
          0,
          0,
          0,
          4,
          4,
          6,
          6,
          4,
          0,
          3,
          2
         ],
         "intensity": [
          0,
          0.14285714285714285,
          0.2857142857142857,
          0.42857142857142855,
          0.5714285714285714,
          0.7142857142857142,
          0.8571428571428571,
          1
         ],
         "j": [
          3,
          4,
          1,
          2,
          5,
          6,
          5,
          2,
          0,
          1,
          6,
          3
         ],
         "k": [
          0,
          7,
          2,
          3,
          6,
          7,
          1,
          1,
          5,
          5,
          7,
          6
         ],
         "type": "mesh3d",
         "x": [
          20,
          20,
          498,
          498,
          20,
          20,
          498,
          498
         ],
         "y": [
          715,
          975,
          975,
          715,
          715,
          975,
          975,
          715
         ],
         "z": [
          497,
          497,
          497,
          497,
          497,
          497,
          497,
          497
         ]
        },
        {
         "colorbar": {
          "title": {
           "text": "z"
          }
         },
         "colorscale": [
          [
           0,
           "gold"
          ],
          [
           0.5,
           "mediumturquoise"
          ],
          [
           1,
           "magenta"
          ]
         ],
         "flatshading": true,
         "i": [
          7,
          0,
          0,
          0,
          4,
          4,
          6,
          6,
          4,
          0,
          3,
          2
         ],
         "intensity": [
          0,
          0.14285714285714285,
          0.2857142857142857,
          0.42857142857142855,
          0.5714285714285714,
          0.7142857142857142,
          0.8571428571428571,
          1
         ],
         "j": [
          3,
          4,
          1,
          2,
          5,
          6,
          5,
          2,
          0,
          1,
          6,
          3
         ],
         "k": [
          0,
          7,
          2,
          3,
          6,
          7,
          1,
          1,
          5,
          5,
          7,
          6
         ],
         "type": "mesh3d",
         "x": [
          23,
          23,
          487,
          487,
          23,
          23,
          487,
          487
         ],
         "y": [
          27,
          543,
          543,
          27,
          27,
          543,
          543,
          27
         ],
         "z": [
          753,
          753,
          753,
          753,
          753,
          753,
          753,
          753
         ]
        },
        {
         "colorbar": {
          "title": {
           "text": "z"
          }
         },
         "colorscale": [
          [
           0,
           "gold"
          ],
          [
           0.5,
           "mediumturquoise"
          ],
          [
           1,
           "magenta"
          ]
         ],
         "flatshading": true,
         "i": [
          7,
          0,
          0,
          0,
          4,
          4,
          6,
          6,
          4,
          0,
          3,
          2
         ],
         "intensity": [
          0,
          0.14285714285714285,
          0.2857142857142857,
          0.42857142857142855,
          0.5714285714285714,
          0.7142857142857142,
          0.8571428571428571,
          1
         ],
         "j": [
          3,
          4,
          1,
          2,
          5,
          6,
          5,
          2,
          0,
          1,
          6,
          3
         ],
         "k": [
          0,
          7,
          2,
          3,
          6,
          7,
          1,
          1,
          5,
          5,
          7,
          6
         ],
         "type": "mesh3d",
         "x": [
          23,
          23,
          798,
          798,
          23,
          23,
          798,
          798
         ],
         "y": [
          145,
          856,
          856,
          145,
          145,
          856,
          856,
          145
         ],
         "z": [
          150,
          150,
          150,
          150,
          150,
          150,
          150,
          150
         ]
        },
        {
         "colorbar": {
          "title": {
           "text": "z"
          }
         },
         "colorscale": [
          [
           0,
           "gold"
          ],
          [
           0.5,
           "mediumturquoise"
          ],
          [
           1,
           "magenta"
          ]
         ],
         "flatshading": true,
         "i": [
          7,
          0,
          0,
          0,
          4,
          4,
          6,
          6,
          4,
          0,
          3,
          2
         ],
         "intensity": [
          0,
          0.14285714285714285,
          0.2857142857142857,
          0.42857142857142855,
          0.5714285714285714,
          0.7142857142857142,
          0.8571428571428571,
          1
         ],
         "j": [
          3,
          4,
          1,
          2,
          5,
          6,
          5,
          2,
          0,
          1,
          6,
          3
         ],
         "k": [
          0,
          7,
          2,
          3,
          6,
          7,
          1,
          1,
          5,
          5,
          7,
          6
         ],
         "type": "mesh3d",
         "x": [
          0,
          0,
          832,
          832,
          0,
          0,
          832,
          832
         ],
         "y": [
          557,
          728,
          728,
          557,
          557,
          728,
          728,
          557
         ],
         "z": [
          352,
          352,
          352,
          352,
          352,
          352,
          352,
          352
         ]
        },
        {
         "colorbar": {
          "title": {
           "text": "z"
          }
         },
         "colorscale": [
          [
           0,
           "gold"
          ],
          [
           0.5,
           "mediumturquoise"
          ],
          [
           1,
           "magenta"
          ]
         ],
         "flatshading": true,
         "i": [
          7,
          0,
          0,
          0,
          4,
          4,
          6,
          6,
          4,
          0,
          3,
          2
         ],
         "intensity": [
          0,
          0.14285714285714285,
          0.2857142857142857,
          0.42857142857142855,
          0.5714285714285714,
          0.7142857142857142,
          0.8571428571428571,
          1
         ],
         "j": [
          3,
          4,
          1,
          2,
          5,
          6,
          5,
          2,
          0,
          1,
          6,
          3
         ],
         "k": [
          0,
          7,
          2,
          3,
          6,
          7,
          1,
          1,
          5,
          5,
          7,
          6
         ],
         "type": "mesh3d",
         "x": [
          20,
          20,
          438,
          438,
          20,
          20,
          438,
          438
         ],
         "y": [
          75,
          368,
          368,
          75,
          75,
          368,
          368,
          75
         ],
         "z": [
          353,
          353,
          353,
          353,
          353,
          353,
          353,
          353
         ]
        },
        {
         "colorbar": {
          "title": {
           "text": "z"
          }
         },
         "colorscale": [
          [
           0,
           "gold"
          ],
          [
           0.5,
           "mediumturquoise"
          ],
          [
           1,
           "magenta"
          ]
         ],
         "flatshading": true,
         "i": [
          7,
          0,
          0,
          0,
          4,
          4,
          6,
          6,
          4,
          0,
          3,
          2
         ],
         "intensity": [
          0,
          0.14285714285714285,
          0.2857142857142857,
          0.42857142857142855,
          0.5714285714285714,
          0.7142857142857142,
          0.8571428571428571,
          1
         ],
         "j": [
          3,
          4,
          1,
          2,
          5,
          6,
          5,
          2,
          0,
          1,
          6,
          3
         ],
         "k": [
          0,
          7,
          2,
          3,
          6,
          7,
          1,
          1,
          5,
          5,
          7,
          6
         ],
         "type": "mesh3d",
         "x": [
          24,
          24,
          733,
          733,
          24,
          24,
          733,
          733
         ],
         "y": [
          270,
          380,
          380,
          270,
          270,
          380,
          380,
          270
         ],
         "z": [
          52,
          52,
          52,
          52,
          52,
          52,
          52,
          52
         ]
        },
        {
         "colorbar": {
          "title": {
           "text": "z"
          }
         },
         "colorscale": [
          [
           0,
           "gold"
          ],
          [
           0.5,
           "mediumturquoise"
          ],
          [
           1,
           "magenta"
          ]
         ],
         "flatshading": true,
         "i": [
          7,
          0,
          0,
          0,
          4,
          4,
          6,
          6,
          4,
          0,
          3,
          2
         ],
         "intensity": [
          0,
          0.14285714285714285,
          0.2857142857142857,
          0.42857142857142855,
          0.5714285714285714,
          0.7142857142857142,
          0.8571428571428571,
          1
         ],
         "j": [
          3,
          4,
          1,
          2,
          5,
          6,
          5,
          2,
          0,
          1,
          6,
          3
         ],
         "k": [
          0,
          7,
          2,
          3,
          6,
          7,
          1,
          1,
          5,
          5,
          7,
          6
         ],
         "type": "mesh3d",
         "x": [
          26,
          26,
          457,
          457,
          26,
          26,
          457,
          457
         ],
         "y": [
          244,
          978,
          978,
          244,
          244,
          978,
          978,
          244
         ],
         "z": [
          725,
          725,
          725,
          725,
          808,
          808,
          808,
          808
         ]
        },
        {
         "colorbar": {
          "title": {
           "text": "z"
          }
         },
         "colorscale": [
          [
           0,
           "gold"
          ],
          [
           0.5,
           "mediumturquoise"
          ],
          [
           1,
           "magenta"
          ]
         ],
         "flatshading": true,
         "i": [
          7,
          0,
          0,
          0,
          4,
          4,
          6,
          6,
          4,
          0,
          3,
          2
         ],
         "intensity": [
          0,
          0.14285714285714285,
          0.2857142857142857,
          0.42857142857142855,
          0.5714285714285714,
          0.7142857142857142,
          0.8571428571428571,
          1
         ],
         "j": [
          3,
          4,
          1,
          2,
          5,
          6,
          5,
          2,
          0,
          1,
          6,
          3
         ],
         "k": [
          0,
          7,
          2,
          3,
          6,
          7,
          1,
          1,
          5,
          5,
          7,
          6
         ],
         "type": "mesh3d",
         "x": [
          20,
          20,
          498,
          498,
          20,
          20,
          498,
          498
         ],
         "y": [
          715,
          975,
          975,
          715,
          715,
          975,
          975,
          715
         ],
         "z": [
          497,
          497,
          497,
          497,
          558,
          558,
          558,
          558
         ]
        },
        {
         "colorbar": {
          "title": {
           "text": "z"
          }
         },
         "colorscale": [
          [
           0,
           "gold"
          ],
          [
           0.5,
           "mediumturquoise"
          ],
          [
           1,
           "magenta"
          ]
         ],
         "flatshading": true,
         "i": [
          7,
          0,
          0,
          0,
          4,
          4,
          6,
          6,
          4,
          0,
          3,
          2
         ],
         "intensity": [
          0,
          0.14285714285714285,
          0.2857142857142857,
          0.42857142857142855,
          0.5714285714285714,
          0.7142857142857142,
          0.8571428571428571,
          1
         ],
         "j": [
          3,
          4,
          1,
          2,
          5,
          6,
          5,
          2,
          0,
          1,
          6,
          3
         ],
         "k": [
          0,
          7,
          2,
          3,
          6,
          7,
          1,
          1,
          5,
          5,
          7,
          6
         ],
         "type": "mesh3d",
         "x": [
          23,
          23,
          487,
          487,
          23,
          23,
          487,
          487
         ],
         "y": [
          27,
          543,
          543,
          27,
          27,
          543,
          543,
          27
         ],
         "z": [
          753,
          753,
          753,
          753,
          798,
          798,
          798,
          798
         ]
        },
        {
         "colorbar": {
          "title": {
           "text": "z"
          }
         },
         "colorscale": [
          [
           0,
           "gold"
          ],
          [
           0.5,
           "mediumturquoise"
          ],
          [
           1,
           "magenta"
          ]
         ],
         "flatshading": true,
         "i": [
          7,
          0,
          0,
          0,
          4,
          4,
          6,
          6,
          4,
          0,
          3,
          2
         ],
         "intensity": [
          0,
          0.14285714285714285,
          0.2857142857142857,
          0.42857142857142855,
          0.5714285714285714,
          0.7142857142857142,
          0.8571428571428571,
          1
         ],
         "j": [
          3,
          4,
          1,
          2,
          5,
          6,
          5,
          2,
          0,
          1,
          6,
          3
         ],
         "k": [
          0,
          7,
          2,
          3,
          6,
          7,
          1,
          1,
          5,
          5,
          7,
          6
         ],
         "type": "mesh3d",
         "x": [
          23,
          23,
          798,
          798,
          23,
          23,
          798,
          798
         ],
         "y": [
          145,
          856,
          856,
          145,
          145,
          856,
          856,
          145
         ],
         "z": [
          150,
          150,
          150,
          150,
          244,
          244,
          244,
          244
         ]
        },
        {
         "colorbar": {
          "title": {
           "text": "z"
          }
         },
         "colorscale": [
          [
           0,
           "gold"
          ],
          [
           0.5,
           "mediumturquoise"
          ],
          [
           1,
           "magenta"
          ]
         ],
         "flatshading": true,
         "i": [
          7,
          0,
          0,
          0,
          4,
          4,
          6,
          6,
          4,
          0,
          3,
          2
         ],
         "intensity": [
          0,
          0.14285714285714285,
          0.2857142857142857,
          0.42857142857142855,
          0.5714285714285714,
          0.7142857142857142,
          0.8571428571428571,
          1
         ],
         "j": [
          3,
          4,
          1,
          2,
          5,
          6,
          5,
          2,
          0,
          1,
          6,
          3
         ],
         "k": [
          0,
          7,
          2,
          3,
          6,
          7,
          1,
          1,
          5,
          5,
          7,
          6
         ],
         "type": "mesh3d",
         "x": [
          0,
          0,
          832,
          832,
          0,
          0,
          832,
          832
         ],
         "y": [
          557,
          728,
          728,
          557,
          557,
          728,
          728,
          557
         ],
         "z": [
          352,
          352,
          352,
          352,
          625,
          625,
          625,
          625
         ]
        },
        {
         "colorbar": {
          "title": {
           "text": "z"
          }
         },
         "colorscale": [
          [
           0,
           "gold"
          ],
          [
           0.5,
           "mediumturquoise"
          ],
          [
           1,
           "magenta"
          ]
         ],
         "flatshading": true,
         "i": [
          7,
          0,
          0,
          0,
          4,
          4,
          6,
          6,
          4,
          0,
          3,
          2
         ],
         "intensity": [
          0,
          0.14285714285714285,
          0.2857142857142857,
          0.42857142857142855,
          0.5714285714285714,
          0.7142857142857142,
          0.8571428571428571,
          1
         ],
         "j": [
          3,
          4,
          1,
          2,
          5,
          6,
          5,
          2,
          0,
          1,
          6,
          3
         ],
         "k": [
          0,
          7,
          2,
          3,
          6,
          7,
          1,
          1,
          5,
          5,
          7,
          6
         ],
         "type": "mesh3d",
         "x": [
          20,
          20,
          438,
          438,
          20,
          20,
          438,
          438
         ],
         "y": [
          75,
          368,
          368,
          75,
          75,
          368,
          368,
          75
         ],
         "z": [
          353,
          353,
          353,
          353,
          357,
          357,
          357,
          357
         ]
        },
        {
         "colorbar": {
          "title": {
           "text": "z"
          }
         },
         "colorscale": [
          [
           0,
           "gold"
          ],
          [
           0.5,
           "mediumturquoise"
          ],
          [
           1,
           "magenta"
          ]
         ],
         "flatshading": true,
         "i": [
          7,
          0,
          0,
          0,
          4,
          4,
          6,
          6,
          4,
          0,
          3,
          2
         ],
         "intensity": [
          0,
          0.14285714285714285,
          0.2857142857142857,
          0.42857142857142855,
          0.5714285714285714,
          0.7142857142857142,
          0.8571428571428571,
          1
         ],
         "j": [
          3,
          4,
          1,
          2,
          5,
          6,
          5,
          2,
          0,
          1,
          6,
          3
         ],
         "k": [
          0,
          7,
          2,
          3,
          6,
          7,
          1,
          1,
          5,
          5,
          7,
          6
         ],
         "type": "mesh3d",
         "x": [
          24,
          24,
          733,
          733,
          24,
          24,
          733,
          733
         ],
         "y": [
          270,
          380,
          380,
          270,
          270,
          380,
          380,
          270
         ],
         "z": [
          52,
          52,
          52,
          52,
          601,
          601,
          601,
          601
         ]
        }
       ],
       "layout": {
        "autosize": true,
        "margin": {
         "b": 10,
         "l": 10,
         "r": 20,
         "t": 10
        },
        "scene": {
         "aspectmode": "auto",
         "aspectratio": {
          "x": 1.0781995775588495,
          "y": 1.0627336000118988,
          "z": 0.8727230187207902
         },
         "xaxis": {
          "nticks": 4,
          "range": [
           0,
           1000
          ],
          "type": "linear"
         },
         "yaxis": {
          "nticks": 4,
          "range": [
           0,
           1000
          ],
          "type": "linear"
         },
         "zaxis": {
          "nticks": 4,
          "range": [
           0,
           1000
          ],
          "type": "linear"
         }
        },
        "template": {
         "data": {
          "bar": [
           {
            "error_x": {
             "color": "#2a3f5f"
            },
            "error_y": {
             "color": "#2a3f5f"
            },
            "marker": {
             "line": {
              "color": "#E5ECF6",
              "width": 0.5
             },
             "pattern": {
              "fillmode": "overlay",
              "size": 10,
              "solidity": 0.2
             }
            },
            "type": "bar"
           }
          ],
          "barpolar": [
           {
            "marker": {
             "line": {
              "color": "#E5ECF6",
              "width": 0.5
             },
             "pattern": {
              "fillmode": "overlay",
              "size": 10,
              "solidity": 0.2
             }
            },
            "type": "barpolar"
           }
          ],
          "carpet": [
           {
            "aaxis": {
             "endlinecolor": "#2a3f5f",
             "gridcolor": "white",
             "linecolor": "white",
             "minorgridcolor": "white",
             "startlinecolor": "#2a3f5f"
            },
            "baxis": {
             "endlinecolor": "#2a3f5f",
             "gridcolor": "white",
             "linecolor": "white",
             "minorgridcolor": "white",
             "startlinecolor": "#2a3f5f"
            },
            "type": "carpet"
           }
          ],
          "choropleth": [
           {
            "colorbar": {
             "outlinewidth": 0,
             "ticks": ""
            },
            "type": "choropleth"
           }
          ],
          "contour": [
           {
            "colorbar": {
             "outlinewidth": 0,
             "ticks": ""
            },
            "colorscale": [
             [
              0,
              "#0d0887"
             ],
             [
              0.1111111111111111,
              "#46039f"
             ],
             [
              0.2222222222222222,
              "#7201a8"
             ],
             [
              0.3333333333333333,
              "#9c179e"
             ],
             [
              0.4444444444444444,
              "#bd3786"
             ],
             [
              0.5555555555555556,
              "#d8576b"
             ],
             [
              0.6666666666666666,
              "#ed7953"
             ],
             [
              0.7777777777777778,
              "#fb9f3a"
             ],
             [
              0.8888888888888888,
              "#fdca26"
             ],
             [
              1,
              "#f0f921"
             ]
            ],
            "type": "contour"
           }
          ],
          "contourcarpet": [
           {
            "colorbar": {
             "outlinewidth": 0,
             "ticks": ""
            },
            "type": "contourcarpet"
           }
          ],
          "heatmap": [
           {
            "colorbar": {
             "outlinewidth": 0,
             "ticks": ""
            },
            "colorscale": [
             [
              0,
              "#0d0887"
             ],
             [
              0.1111111111111111,
              "#46039f"
             ],
             [
              0.2222222222222222,
              "#7201a8"
             ],
             [
              0.3333333333333333,
              "#9c179e"
             ],
             [
              0.4444444444444444,
              "#bd3786"
             ],
             [
              0.5555555555555556,
              "#d8576b"
             ],
             [
              0.6666666666666666,
              "#ed7953"
             ],
             [
              0.7777777777777778,
              "#fb9f3a"
             ],
             [
              0.8888888888888888,
              "#fdca26"
             ],
             [
              1,
              "#f0f921"
             ]
            ],
            "type": "heatmap"
           }
          ],
          "heatmapgl": [
           {
            "colorbar": {
             "outlinewidth": 0,
             "ticks": ""
            },
            "colorscale": [
             [
              0,
              "#0d0887"
             ],
             [
              0.1111111111111111,
              "#46039f"
             ],
             [
              0.2222222222222222,
              "#7201a8"
             ],
             [
              0.3333333333333333,
              "#9c179e"
             ],
             [
              0.4444444444444444,
              "#bd3786"
             ],
             [
              0.5555555555555556,
              "#d8576b"
             ],
             [
              0.6666666666666666,
              "#ed7953"
             ],
             [
              0.7777777777777778,
              "#fb9f3a"
             ],
             [
              0.8888888888888888,
              "#fdca26"
             ],
             [
              1,
              "#f0f921"
             ]
            ],
            "type": "heatmapgl"
           }
          ],
          "histogram": [
           {
            "marker": {
             "pattern": {
              "fillmode": "overlay",
              "size": 10,
              "solidity": 0.2
             }
            },
            "type": "histogram"
           }
          ],
          "histogram2d": [
           {
            "colorbar": {
             "outlinewidth": 0,
             "ticks": ""
            },
            "colorscale": [
             [
              0,
              "#0d0887"
             ],
             [
              0.1111111111111111,
              "#46039f"
             ],
             [
              0.2222222222222222,
              "#7201a8"
             ],
             [
              0.3333333333333333,
              "#9c179e"
             ],
             [
              0.4444444444444444,
              "#bd3786"
             ],
             [
              0.5555555555555556,
              "#d8576b"
             ],
             [
              0.6666666666666666,
              "#ed7953"
             ],
             [
              0.7777777777777778,
              "#fb9f3a"
             ],
             [
              0.8888888888888888,
              "#fdca26"
             ],
             [
              1,
              "#f0f921"
             ]
            ],
            "type": "histogram2d"
           }
          ],
          "histogram2dcontour": [
           {
            "colorbar": {
             "outlinewidth": 0,
             "ticks": ""
            },
            "colorscale": [
             [
              0,
              "#0d0887"
             ],
             [
              0.1111111111111111,
              "#46039f"
             ],
             [
              0.2222222222222222,
              "#7201a8"
             ],
             [
              0.3333333333333333,
              "#9c179e"
             ],
             [
              0.4444444444444444,
              "#bd3786"
             ],
             [
              0.5555555555555556,
              "#d8576b"
             ],
             [
              0.6666666666666666,
              "#ed7953"
             ],
             [
              0.7777777777777778,
              "#fb9f3a"
             ],
             [
              0.8888888888888888,
              "#fdca26"
             ],
             [
              1,
              "#f0f921"
             ]
            ],
            "type": "histogram2dcontour"
           }
          ],
          "mesh3d": [
           {
            "colorbar": {
             "outlinewidth": 0,
             "ticks": ""
            },
            "type": "mesh3d"
           }
          ],
          "parcoords": [
           {
            "line": {
             "colorbar": {
              "outlinewidth": 0,
              "ticks": ""
             }
            },
            "type": "parcoords"
           }
          ],
          "pie": [
           {
            "automargin": true,
            "type": "pie"
           }
          ],
          "scatter": [
           {
            "fillpattern": {
             "fillmode": "overlay",
             "size": 10,
             "solidity": 0.2
            },
            "type": "scatter"
           }
          ],
          "scatter3d": [
           {
            "line": {
             "colorbar": {
              "outlinewidth": 0,
              "ticks": ""
             }
            },
            "marker": {
             "colorbar": {
              "outlinewidth": 0,
              "ticks": ""
             }
            },
            "type": "scatter3d"
           }
          ],
          "scattercarpet": [
           {
            "marker": {
             "colorbar": {
              "outlinewidth": 0,
              "ticks": ""
             }
            },
            "type": "scattercarpet"
           }
          ],
          "scattergeo": [
           {
            "marker": {
             "colorbar": {
              "outlinewidth": 0,
              "ticks": ""
             }
            },
            "type": "scattergeo"
           }
          ],
          "scattergl": [
           {
            "marker": {
             "colorbar": {
              "outlinewidth": 0,
              "ticks": ""
             }
            },
            "type": "scattergl"
           }
          ],
          "scattermapbox": [
           {
            "marker": {
             "colorbar": {
              "outlinewidth": 0,
              "ticks": ""
             }
            },
            "type": "scattermapbox"
           }
          ],
          "scatterpolar": [
           {
            "marker": {
             "colorbar": {
              "outlinewidth": 0,
              "ticks": ""
             }
            },
            "type": "scatterpolar"
           }
          ],
          "scatterpolargl": [
           {
            "marker": {
             "colorbar": {
              "outlinewidth": 0,
              "ticks": ""
             }
            },
            "type": "scatterpolargl"
           }
          ],
          "scatterternary": [
           {
            "marker": {
             "colorbar": {
              "outlinewidth": 0,
              "ticks": ""
             }
            },
            "type": "scatterternary"
           }
          ],
          "surface": [
           {
            "colorbar": {
             "outlinewidth": 0,
             "ticks": ""
            },
            "colorscale": [
             [
              0,
              "#0d0887"
             ],
             [
              0.1111111111111111,
              "#46039f"
             ],
             [
              0.2222222222222222,
              "#7201a8"
             ],
             [
              0.3333333333333333,
              "#9c179e"
             ],
             [
              0.4444444444444444,
              "#bd3786"
             ],
             [
              0.5555555555555556,
              "#d8576b"
             ],
             [
              0.6666666666666666,
              "#ed7953"
             ],
             [
              0.7777777777777778,
              "#fb9f3a"
             ],
             [
              0.8888888888888888,
              "#fdca26"
             ],
             [
              1,
              "#f0f921"
             ]
            ],
            "type": "surface"
           }
          ],
          "table": [
           {
            "cells": {
             "fill": {
              "color": "#EBF0F8"
             },
             "line": {
              "color": "white"
             }
            },
            "header": {
             "fill": {
              "color": "#C8D4E3"
             },
             "line": {
              "color": "white"
             }
            },
            "type": "table"
           }
          ]
         },
         "layout": {
          "annotationdefaults": {
           "arrowcolor": "#2a3f5f",
           "arrowhead": 0,
           "arrowwidth": 1
          },
          "autotypenumbers": "strict",
          "coloraxis": {
           "colorbar": {
            "outlinewidth": 0,
            "ticks": ""
           }
          },
          "colorscale": {
           "diverging": [
            [
             0,
             "#8e0152"
            ],
            [
             0.1,
             "#c51b7d"
            ],
            [
             0.2,
             "#de77ae"
            ],
            [
             0.3,
             "#f1b6da"
            ],
            [
             0.4,
             "#fde0ef"
            ],
            [
             0.5,
             "#f7f7f7"
            ],
            [
             0.6,
             "#e6f5d0"
            ],
            [
             0.7,
             "#b8e186"
            ],
            [
             0.8,
             "#7fbc41"
            ],
            [
             0.9,
             "#4d9221"
            ],
            [
             1,
             "#276419"
            ]
           ],
           "sequential": [
            [
             0,
             "#0d0887"
            ],
            [
             0.1111111111111111,
             "#46039f"
            ],
            [
             0.2222222222222222,
             "#7201a8"
            ],
            [
             0.3333333333333333,
             "#9c179e"
            ],
            [
             0.4444444444444444,
             "#bd3786"
            ],
            [
             0.5555555555555556,
             "#d8576b"
            ],
            [
             0.6666666666666666,
             "#ed7953"
            ],
            [
             0.7777777777777778,
             "#fb9f3a"
            ],
            [
             0.8888888888888888,
             "#fdca26"
            ],
            [
             1,
             "#f0f921"
            ]
           ],
           "sequentialminus": [
            [
             0,
             "#0d0887"
            ],
            [
             0.1111111111111111,
             "#46039f"
            ],
            [
             0.2222222222222222,
             "#7201a8"
            ],
            [
             0.3333333333333333,
             "#9c179e"
            ],
            [
             0.4444444444444444,
             "#bd3786"
            ],
            [
             0.5555555555555556,
             "#d8576b"
            ],
            [
             0.6666666666666666,
             "#ed7953"
            ],
            [
             0.7777777777777778,
             "#fb9f3a"
            ],
            [
             0.8888888888888888,
             "#fdca26"
            ],
            [
             1,
             "#f0f921"
            ]
           ]
          },
          "colorway": [
           "#636efa",
           "#EF553B",
           "#00cc96",
           "#ab63fa",
           "#FFA15A",
           "#19d3f3",
           "#FF6692",
           "#B6E880",
           "#FF97FF",
           "#FECB52"
          ],
          "font": {
           "color": "#2a3f5f"
          },
          "geo": {
           "bgcolor": "white",
           "lakecolor": "white",
           "landcolor": "#E5ECF6",
           "showlakes": true,
           "showland": true,
           "subunitcolor": "white"
          },
          "hoverlabel": {
           "align": "left"
          },
          "hovermode": "closest",
          "mapbox": {
           "style": "light"
          },
          "paper_bgcolor": "white",
          "plot_bgcolor": "#E5ECF6",
          "polar": {
           "angularaxis": {
            "gridcolor": "white",
            "linecolor": "white",
            "ticks": ""
           },
           "bgcolor": "#E5ECF6",
           "radialaxis": {
            "gridcolor": "white",
            "linecolor": "white",
            "ticks": ""
           }
          },
          "scene": {
           "xaxis": {
            "backgroundcolor": "#E5ECF6",
            "gridcolor": "white",
            "gridwidth": 2,
            "linecolor": "white",
            "showbackground": true,
            "ticks": "",
            "zerolinecolor": "white"
           },
           "yaxis": {
            "backgroundcolor": "#E5ECF6",
            "gridcolor": "white",
            "gridwidth": 2,
            "linecolor": "white",
            "showbackground": true,
            "ticks": "",
            "zerolinecolor": "white"
           },
           "zaxis": {
            "backgroundcolor": "#E5ECF6",
            "gridcolor": "white",
            "gridwidth": 2,
            "linecolor": "white",
            "showbackground": true,
            "ticks": "",
            "zerolinecolor": "white"
           }
          },
          "shapedefaults": {
           "line": {
            "color": "#2a3f5f"
           }
          },
          "ternary": {
           "aaxis": {
            "gridcolor": "white",
            "linecolor": "white",
            "ticks": ""
           },
           "baxis": {
            "gridcolor": "white",
            "linecolor": "white",
            "ticks": ""
           },
           "bgcolor": "#E5ECF6",
           "caxis": {
            "gridcolor": "white",
            "linecolor": "white",
            "ticks": ""
           }
          },
          "title": {
           "x": 0.05
          },
          "xaxis": {
           "automargin": true,
           "gridcolor": "white",
           "linecolor": "white",
           "ticks": "",
           "title": {
            "standoff": 15
           },
           "zerolinecolor": "white",
           "zerolinewidth": 2
          },
          "yaxis": {
           "automargin": true,
           "gridcolor": "white",
           "linecolor": "white",
           "ticks": "",
           "title": {
            "standoff": 15
           },
           "zerolinecolor": "white",
           "zerolinewidth": 2
          }
         }
        }
       }
      },
      "image/png": "[encoded data removed]",
      "text/html": [
       "<div>                            <div id=\"7b39918c-9a17-4d38-b971-db5f071d30c0\" class=\"plotly-graph-div\" style=\"height:525px; width:700px;\"></div>            <script type=\"text/javascript\">                require([\"plotly\"], function(Plotly) {                    window.PLOTLYENV=window.PLOTLYENV || {};                                    if (document.getElementById(\"7b39918c-9a17-4d38-b971-db5f071d30c0\")) {                    Plotly.newPlot(                        \"7b39918c-9a17-4d38-b971-db5f071d30c0\",                        [{\"colorbar\":{\"title\":{\"text\":\"z\"}},\"colorscale\":[[0,\"gold\"],[0.5,\"mediumturquoise\"],[1,\"magenta\"]],\"flatshading\":true,\"i\":[7,0,0,0,4,4,6,6,4,0,3,2],\"intensity\":[0.0,0.14285714285714285,0.2857142857142857,0.42857142857142855,0.5714285714285714,0.7142857142857142,0.8571428571428571,1.0],\"j\":[3,4,1,2,5,6,5,2,0,1,6,3],\"k\":[0,7,2,3,6,7,1,1,5,5,7,6],\"x\":[24.0,24.0,965.0,965.0,24.0,24.0,965.0,965.0],\"y\":[185.0,493.0,493.0,185.0,185.0,493.0,493.0,185.0],\"z\":[374.0,374.0,374.0,374.0,374.0,374.0,374.0,374.0],\"type\":\"mesh3d\"},{\"colorbar\":{\"title\":{\"text\":\"z\"}},\"colorscale\":[[0,\"gold\"],[0.5,\"mediumturquoise\"],[1,\"magenta\"]],\"flatshading\":true,\"i\":[7,0,0,0,4,4,6,6,4,0,3,2],\"intensity\":[0.0,0.14285714285714285,0.2857142857142857,0.42857142857142855,0.5714285714285714,0.7142857142857142,0.8571428571428571,1.0],\"j\":[3,4,1,2,5,6,5,2,0,1,6,3],\"k\":[0,7,2,3,6,7,1,1,5,5,7,6],\"x\":[10.0,10.0,795.0,795.0,10.0,10.0,795.0,795.0],\"y\":[207.0,442.0,442.0,207.0,207.0,442.0,442.0,207.0],\"z\":[652.0,652.0,652.0,652.0,652.0,652.0,652.0,652.0],\"type\":\"mesh3d\"},{\"colorbar\":{\"title\":{\"text\":\"z\"}},\"colorscale\":[[0,\"gold\"],[0.5,\"mediumturquoise\"],[1,\"magenta\"]],\"flatshading\":true,\"i\":[7,0,0,0,4,4,6,6,4,0,3,2],\"intensity\":[0.0,0.14285714285714285,0.2857142857142857,0.42857142857142855,0.5714285714285714,0.7142857142857142,0.8571428571428571,1.0],\"j\":[3,4,1,2,5,6,5,2,0,1,6,3],\"k\":[0,7,2,3,6,7,1,1,5,5,7,6],\"x\":[4.0,4.0,99.0,99.0,4.0,4.0,99.0,99.0],\"y\":[222.0,688.0,688.0,222.0,222.0,688.0,688.0,222.0],\"z\":[111.0,111.0,111.0,111.0,111.0,111.0,111.0,111.0],\"type\":\"mesh3d\"},{\"colorbar\":{\"title\":{\"text\":\"z\"}},\"colorscale\":[[0,\"gold\"],[0.5,\"mediumturquoise\"],[1,\"magenta\"]],\"flatshading\":true,\"i\":[7,0,0,0,4,4,6,6,4,0,3,2],\"intensity\":[0.0,0.14285714285714285,0.2857142857142857,0.42857142857142855,0.5714285714285714,0.7142857142857142,0.8571428571428571,1.0],\"j\":[3,4,1,2,5,6,5,2,0,1,6,3],\"k\":[0,7,2,3,6,7,1,1,5,5,7,6],\"x\":[17.0,17.0,211.0,211.0,17.0,17.0,211.0,211.0],\"y\":[332.0,454.0,454.0,332.0,332.0,454.0,454.0,332.0],\"z\":[18.0,18.0,18.0,18.0,18.0,18.0,18.0,18.0],\"type\":\"mesh3d\"},{\"colorbar\":{\"title\":{\"text\":\"z\"}},\"colorscale\":[[0,\"gold\"],[0.5,\"mediumturquoise\"],[1,\"magenta\"]],\"flatshading\":true,\"i\":[7,0,0,0,4,4,6,6,4,0,3,2],\"intensity\":[0.0,0.14285714285714285,0.2857142857142857,0.42857142857142855,0.5714285714285714,0.7142857142857142,0.8571428571428571,1.0],\"j\":[3,4,1,2,5,6,5,2,0,1,6,3],\"k\":[0,7,2,3,6,7,1,1,5,5,7,6],\"x\":[5.0,5.0,721.0,721.0,5.0,5.0,721.0,721.0],\"y\":[46.0,190.0,190.0,46.0,46.0,190.0,190.0,46.0],\"z\":[350.0,350.0,350.0,350.0,350.0,350.0,350.0,350.0],\"type\":\"mesh3d\"},{\"colorbar\":{\"title\":{\"text\":\"z\"}},\"colorscale\":[[0,\"gold\"],[0.5,\"mediumturquoise\"],[1,\"magenta\"]],\"flatshading\":true,\"i\":[7,0,0,0,4,4,6,6,4,0,3,2],\"intensity\":[0.0,0.14285714285714285,0.2857142857142857,0.42857142857142855,0.5714285714285714,0.7142857142857142,0.8571428571428571,1.0],\"j\":[3,4,1,2,5,6,5,2,0,1,6,3],\"k\":[0,7,2,3,6,7,1,1,5,5,7,6],\"x\":[19.0,19.0,324.0,324.0,19.0,19.0,324.0,324.0],\"y\":[144.0,816.0,816.0,144.0,144.0,816.0,816.0,144.0],\"z\":[218.0,218.0,218.0,218.0,218.0,218.0,218.0,218.0],\"type\":\"mesh3d\"},{\"colorbar\":{\"title\":{\"text\":\"z\"}},\"colorscale\":[[0,\"gold\"],[0.5,\"mediumturquoise\"],[1,\"magenta\"]],\"flatshading\":true,\"i\":[7,0,0,0,4,4,6,6,4,0,3,2],\"intensity\":[0.0,0.14285714285714285,0.2857142857142857,0.42857142857142855,0.5714285714285714,0.7142857142857142,0.8571428571428571,1.0],\"j\":[3,4,1,2,5,6,5,2,0,1,6,3],\"k\":[0,7,2,3,6,7,1,1,5,5,7,6],\"x\":[11.0,11.0,107.0,107.0,11.0,11.0,107.0,107.0],\"y\":[544.0,791.0,791.0,544.0,544.0,791.0,791.0,544.0],\"z\":[160.0,160.0,160.0,160.0,160.0,160.0,160.0,160.0],\"type\":\"mesh3d\"},{\"colorbar\":{\"title\":{\"text\":\"z\"}},\"colorscale\":[[0,\"gold\"],[0.5,\"mediumturquoise\"],[1,\"magenta\"]],\"flatshading\":true,\"i\":[7,0,0,0,4,4,6,6,4,0,3,2],\"intensity\":[0.0,0.14285714285714285,0.2857142857142857,0.42857142857142855,0.5714285714285714,0.7142857142857142,0.8571428571428571,1.0],\"j\":[3,4,1,2,5,6,5,2,0,1,6,3],\"k\":[0,7,2,3,6,7,1,1,5,5,7,6],\"x\":[8.0,8.0,976.0,976.0,8.0,8.0,976.0,976.0],\"y\":[444.0,712.0,712.0,444.0,444.0,712.0,712.0,444.0],\"z\":[391.0,391.0,391.0,391.0,391.0,391.0,391.0,391.0],\"type\":\"mesh3d\"},{\"colorbar\":{\"title\":{\"text\":\"z\"}},\"colorscale\":[[0,\"gold\"],[0.5,\"mediumturquoise\"],[1,\"magenta\"]],\"flatshading\":true,\"i\":[7,0,0,0,4,4,6,6,4,0,3,2],\"intensity\":[0.0,0.14285714285714285,0.2857142857142857,0.42857142857142855,0.5714285714285714,0.7142857142857142,0.8571428571428571,1.0],\"j\":[3,4,1,2,5,6,5,2,0,1,6,3],\"k\":[0,7,2,3,6,7,1,1,5,5,7,6],\"x\":[14.0,14.0,366.0,366.0,14.0,14.0,366.0,366.0],\"y\":[255.0,989.0,989.0,255.0,255.0,989.0,989.0,255.0],\"z\":[141.0,141.0,141.0,141.0,141.0,141.0,141.0,141.0],\"type\":\"mesh3d\"},{\"colorbar\":{\"title\":{\"text\":\"z\"}},\"colorscale\":[[0,\"gold\"],[0.5,\"mediumturquoise\"],[1,\"magenta\"]],\"flatshading\":true,\"i\":[7,0,0,0,4,4,6,6,4,0,3,2],\"intensity\":[0.0,0.14285714285714285,0.2857142857142857,0.42857142857142855,0.5714285714285714,0.7142857142857142,0.8571428571428571,1.0],\"j\":[3,4,1,2,5,6,5,2,0,1,6,3],\"k\":[0,7,2,3,6,7,1,1,5,5,7,6],\"x\":[26.0,26.0,457.0,457.0,26.0,26.0,457.0,457.0],\"y\":[244.0,978.0,978.0,244.0,244.0,978.0,978.0,244.0],\"z\":[725.0,725.0,725.0,725.0,725.0,725.0,725.0,725.0],\"type\":\"mesh3d\"},{\"colorbar\":{\"title\":{\"text\":\"z\"}},\"colorscale\":[[0,\"gold\"],[0.5,\"mediumturquoise\"],[1,\"magenta\"]],\"flatshading\":true,\"i\":[7,0,0,0,4,4,6,6,4,0,3,2],\"intensity\":[0.0,0.14285714285714285,0.2857142857142857,0.42857142857142855,0.5714285714285714,0.7142857142857142,0.8571428571428571,1.0],\"j\":[3,4,1,2,5,6,5,2,0,1,6,3],\"k\":[0,7,2,3,6,7,1,1,5,5,7,6],\"x\":[20.0,20.0,498.0,498.0,20.0,20.0,498.0,498.0],\"y\":[715.0,975.0,975.0,715.0,715.0,975.0,975.0,715.0],\"z\":[497.0,497.0,497.0,497.0,497.0,497.0,497.0,497.0],\"type\":\"mesh3d\"},{\"colorbar\":{\"title\":{\"text\":\"z\"}},\"colorscale\":[[0,\"gold\"],[0.5,\"mediumturquoise\"],[1,\"magenta\"]],\"flatshading\":true,\"i\":[7,0,0,0,4,4,6,6,4,0,3,2],\"intensity\":[0.0,0.14285714285714285,0.2857142857142857,0.42857142857142855,0.5714285714285714,0.7142857142857142,0.8571428571428571,1.0],\"j\":[3,4,1,2,5,6,5,2,0,1,6,3],\"k\":[0,7,2,3,6,7,1,1,5,5,7,6],\"x\":[23.0,23.0,487.0,487.0,23.0,23.0,487.0,487.0],\"y\":[27.0,543.0,543.0,27.0,27.0,543.0,543.0,27.0],\"z\":[753.0,753.0,753.0,753.0,753.0,753.0,753.0,753.0],\"type\":\"mesh3d\"},{\"colorbar\":{\"title\":{\"text\":\"z\"}},\"colorscale\":[[0,\"gold\"],[0.5,\"mediumturquoise\"],[1,\"magenta\"]],\"flatshading\":true,\"i\":[7,0,0,0,4,4,6,6,4,0,3,2],\"intensity\":[0.0,0.14285714285714285,0.2857142857142857,0.42857142857142855,0.5714285714285714,0.7142857142857142,0.8571428571428571,1.0],\"j\":[3,4,1,2,5,6,5,2,0,1,6,3],\"k\":[0,7,2,3,6,7,1,1,5,5,7,6],\"x\":[23.0,23.0,798.0,798.0,23.0,23.0,798.0,798.0],\"y\":[145.0,856.0,856.0,145.0,145.0,856.0,856.0,145.0],\"z\":[150.0,150.0,150.0,150.0,150.0,150.0,150.0,150.0],\"type\":\"mesh3d\"},{\"colorbar\":{\"title\":{\"text\":\"z\"}},\"colorscale\":[[0,\"gold\"],[0.5,\"mediumturquoise\"],[1,\"magenta\"]],\"flatshading\":true,\"i\":[7,0,0,0,4,4,6,6,4,0,3,2],\"intensity\":[0.0,0.14285714285714285,0.2857142857142857,0.42857142857142855,0.5714285714285714,0.7142857142857142,0.8571428571428571,1.0],\"j\":[3,4,1,2,5,6,5,2,0,1,6,3],\"k\":[0,7,2,3,6,7,1,1,5,5,7,6],\"x\":[0.0,0.0,832.0,832.0,0.0,0.0,832.0,832.0],\"y\":[557.0,728.0,728.0,557.0,557.0,728.0,728.0,557.0],\"z\":[352.0,352.0,352.0,352.0,352.0,352.0,352.0,352.0],\"type\":\"mesh3d\"},{\"colorbar\":{\"title\":{\"text\":\"z\"}},\"colorscale\":[[0,\"gold\"],[0.5,\"mediumturquoise\"],[1,\"magenta\"]],\"flatshading\":true,\"i\":[7,0,0,0,4,4,6,6,4,0,3,2],\"intensity\":[0.0,0.14285714285714285,0.2857142857142857,0.42857142857142855,0.5714285714285714,0.7142857142857142,0.8571428571428571,1.0],\"j\":[3,4,1,2,5,6,5,2,0,1,6,3],\"k\":[0,7,2,3,6,7,1,1,5,5,7,6],\"x\":[20.0,20.0,438.0,438.0,20.0,20.0,438.0,438.0],\"y\":[75.0,368.0,368.0,75.0,75.0,368.0,368.0,75.0],\"z\":[353.0,353.0,353.0,353.0,353.0,353.0,353.0,353.0],\"type\":\"mesh3d\"},{\"colorbar\":{\"title\":{\"text\":\"z\"}},\"colorscale\":[[0,\"gold\"],[0.5,\"mediumturquoise\"],[1,\"magenta\"]],\"flatshading\":true,\"i\":[7,0,0,0,4,4,6,6,4,0,3,2],\"intensity\":[0.0,0.14285714285714285,0.2857142857142857,0.42857142857142855,0.5714285714285714,0.7142857142857142,0.8571428571428571,1.0],\"j\":[3,4,1,2,5,6,5,2,0,1,6,3],\"k\":[0,7,2,3,6,7,1,1,5,5,7,6],\"x\":[24.0,24.0,733.0,733.0,24.0,24.0,733.0,733.0],\"y\":[270.0,380.0,380.0,270.0,270.0,380.0,380.0,270.0],\"z\":[52.0,52.0,52.0,52.0,52.0,52.0,52.0,52.0],\"type\":\"mesh3d\"},{\"colorbar\":{\"title\":{\"text\":\"z\"}},\"colorscale\":[[0,\"gold\"],[0.5,\"mediumturquoise\"],[1,\"magenta\"]],\"flatshading\":true,\"i\":[7,0,0,0,4,4,6,6,4,0,3,2],\"intensity\":[0.0,0.14285714285714285,0.2857142857142857,0.42857142857142855,0.5714285714285714,0.7142857142857142,0.8571428571428571,1.0],\"j\":[3,4,1,2,5,6,5,2,0,1,6,3],\"k\":[0,7,2,3,6,7,1,1,5,5,7,6],\"x\":[26.0,26.0,457.0,457.0,26.0,26.0,457.0,457.0],\"y\":[244.0,978.0,978.0,244.0,244.0,978.0,978.0,244.0],\"z\":[725.0,725.0,725.0,725.0,808.0,808.0,808.0,808.0],\"type\":\"mesh3d\"},{\"colorbar\":{\"title\":{\"text\":\"z\"}},\"colorscale\":[[0,\"gold\"],[0.5,\"mediumturquoise\"],[1,\"magenta\"]],\"flatshading\":true,\"i\":[7,0,0,0,4,4,6,6,4,0,3,2],\"intensity\":[0.0,0.14285714285714285,0.2857142857142857,0.42857142857142855,0.5714285714285714,0.7142857142857142,0.8571428571428571,1.0],\"j\":[3,4,1,2,5,6,5,2,0,1,6,3],\"k\":[0,7,2,3,6,7,1,1,5,5,7,6],\"x\":[20.0,20.0,498.0,498.0,20.0,20.0,498.0,498.0],\"y\":[715.0,975.0,975.0,715.0,715.0,975.0,975.0,715.0],\"z\":[497.0,497.0,497.0,497.0,558.0,558.0,558.0,558.0],\"type\":\"mesh3d\"},{\"colorbar\":{\"title\":{\"text\":\"z\"}},\"colorscale\":[[0,\"gold\"],[0.5,\"mediumturquoise\"],[1,\"magenta\"]],\"flatshading\":true,\"i\":[7,0,0,0,4,4,6,6,4,0,3,2],\"intensity\":[0.0,0.14285714285714285,0.2857142857142857,0.42857142857142855,0.5714285714285714,0.7142857142857142,0.8571428571428571,1.0],\"j\":[3,4,1,2,5,6,5,2,0,1,6,3],\"k\":[0,7,2,3,6,7,1,1,5,5,7,6],\"x\":[23.0,23.0,487.0,487.0,23.0,23.0,487.0,487.0],\"y\":[27.0,543.0,543.0,27.0,27.0,543.0,543.0,27.0],\"z\":[753.0,753.0,753.0,753.0,798.0,798.0,798.0,798.0],\"type\":\"mesh3d\"},{\"colorbar\":{\"title\":{\"text\":\"z\"}},\"colorscale\":[[0,\"gold\"],[0.5,\"mediumturquoise\"],[1,\"magenta\"]],\"flatshading\":true,\"i\":[7,0,0,0,4,4,6,6,4,0,3,2],\"intensity\":[0.0,0.14285714285714285,0.2857142857142857,0.42857142857142855,0.5714285714285714,0.7142857142857142,0.8571428571428571,1.0],\"j\":[3,4,1,2,5,6,5,2,0,1,6,3],\"k\":[0,7,2,3,6,7,1,1,5,5,7,6],\"x\":[23.0,23.0,798.0,798.0,23.0,23.0,798.0,798.0],\"y\":[145.0,856.0,856.0,145.0,145.0,856.0,856.0,145.0],\"z\":[150.0,150.0,150.0,150.0,244.0,244.0,244.0,244.0],\"type\":\"mesh3d\"},{\"colorbar\":{\"title\":{\"text\":\"z\"}},\"colorscale\":[[0,\"gold\"],[0.5,\"mediumturquoise\"],[1,\"magenta\"]],\"flatshading\":true,\"i\":[7,0,0,0,4,4,6,6,4,0,3,2],\"intensity\":[0.0,0.14285714285714285,0.2857142857142857,0.42857142857142855,0.5714285714285714,0.7142857142857142,0.8571428571428571,1.0],\"j\":[3,4,1,2,5,6,5,2,0,1,6,3],\"k\":[0,7,2,3,6,7,1,1,5,5,7,6],\"x\":[0.0,0.0,832.0,832.0,0.0,0.0,832.0,832.0],\"y\":[557.0,728.0,728.0,557.0,557.0,728.0,728.0,557.0],\"z\":[352.0,352.0,352.0,352.0,625.0,625.0,625.0,625.0],\"type\":\"mesh3d\"},{\"colorbar\":{\"title\":{\"text\":\"z\"}},\"colorscale\":[[0,\"gold\"],[0.5,\"mediumturquoise\"],[1,\"magenta\"]],\"flatshading\":true,\"i\":[7,0,0,0,4,4,6,6,4,0,3,2],\"intensity\":[0.0,0.14285714285714285,0.2857142857142857,0.42857142857142855,0.5714285714285714,0.7142857142857142,0.8571428571428571,1.0],\"j\":[3,4,1,2,5,6,5,2,0,1,6,3],\"k\":[0,7,2,3,6,7,1,1,5,5,7,6],\"x\":[20.0,20.0,438.0,438.0,20.0,20.0,438.0,438.0],\"y\":[75.0,368.0,368.0,75.0,75.0,368.0,368.0,75.0],\"z\":[353.0,353.0,353.0,353.0,357.0,357.0,357.0,357.0],\"type\":\"mesh3d\"},{\"colorbar\":{\"title\":{\"text\":\"z\"}},\"colorscale\":[[0,\"gold\"],[0.5,\"mediumturquoise\"],[1,\"magenta\"]],\"flatshading\":true,\"i\":[7,0,0,0,4,4,6,6,4,0,3,2],\"intensity\":[0.0,0.14285714285714285,0.2857142857142857,0.42857142857142855,0.5714285714285714,0.7142857142857142,0.8571428571428571,1.0],\"j\":[3,4,1,2,5,6,5,2,0,1,6,3],\"k\":[0,7,2,3,6,7,1,1,5,5,7,6],\"x\":[24.0,24.0,733.0,733.0,24.0,24.0,733.0,733.0],\"y\":[270.0,380.0,380.0,270.0,270.0,380.0,380.0,270.0],\"z\":[52.0,52.0,52.0,52.0,601.0,601.0,601.0,601.0],\"type\":\"mesh3d\"}],                        {\"template\":{\"data\":{\"histogram2dcontour\":[{\"type\":\"histogram2dcontour\",\"colorbar\":{\"outlinewidth\":0,\"ticks\":\"\"},\"colorscale\":[[0.0,\"#0d0887\"],[0.1111111111111111,\"#46039f\"],[0.2222222222222222,\"#7201a8\"],[0.3333333333333333,\"#9c179e\"],[0.4444444444444444,\"#bd3786\"],[0.5555555555555556,\"#d8576b\"],[0.6666666666666666,\"#ed7953\"],[0.7777777777777778,\"#fb9f3a\"],[0.8888888888888888,\"#fdca26\"],[1.0,\"#f0f921\"]]}],\"choropleth\":[{\"type\":\"choropleth\",\"colorbar\":{\"outlinewidth\":0,\"ticks\":\"\"}}],\"histogram2d\":[{\"type\":\"histogram2d\",\"colorbar\":{\"outlinewidth\":0,\"ticks\":\"\"},\"colorscale\":[[0.0,\"#0d0887\"],[0.1111111111111111,\"#46039f\"],[0.2222222222222222,\"#7201a8\"],[0.3333333333333333,\"#9c179e\"],[0.4444444444444444,\"#bd3786\"],[0.5555555555555556,\"#d8576b\"],[0.6666666666666666,\"#ed7953\"],[0.7777777777777778,\"#fb9f3a\"],[0.8888888888888888,\"#fdca26\"],[1.0,\"#f0f921\"]]}],\"heatmap\":[{\"type\":\"heatmap\",\"colorbar\":{\"outlinewidth\":0,\"ticks\":\"\"},\"colorscale\":[[0.0,\"#0d0887\"],[0.1111111111111111,\"#46039f\"],[0.2222222222222222,\"#7201a8\"],[0.3333333333333333,\"#9c179e\"],[0.4444444444444444,\"#bd3786\"],[0.5555555555555556,\"#d8576b\"],[0.6666666666666666,\"#ed7953\"],[0.7777777777777778,\"#fb9f3a\"],[0.8888888888888888,\"#fdca26\"],[1.0,\"#f0f921\"]]}],\"heatmapgl\":[{\"type\":\"heatmapgl\",\"colorbar\":{\"outlinewidth\":0,\"ticks\":\"\"},\"colorscale\":[[0.0,\"#0d0887\"],[0.1111111111111111,\"#46039f\"],[0.2222222222222222,\"#7201a8\"],[0.3333333333333333,\"#9c179e\"],[0.4444444444444444,\"#bd3786\"],[0.5555555555555556,\"#d8576b\"],[0.6666666666666666,\"#ed7953\"],[0.7777777777777778,\"#fb9f3a\"],[0.8888888888888888,\"#fdca26\"],[1.0,\"#f0f921\"]]}],\"contourcarpet\":[{\"type\":\"contourcarpet\",\"colorbar\":{\"outlinewidth\":0,\"ticks\":\"\"}}],\"contour\":[{\"type\":\"contour\",\"colorbar\":{\"outlinewidth\":0,\"ticks\":\"\"},\"colorscale\":[[0.0,\"#0d0887\"],[0.1111111111111111,\"#46039f\"],[0.2222222222222222,\"#7201a8\"],[0.3333333333333333,\"#9c179e\"],[0.4444444444444444,\"#bd3786\"],[0.5555555555555556,\"#d8576b\"],[0.6666666666666666,\"#ed7953\"],[0.7777777777777778,\"#fb9f3a\"],[0.8888888888888888,\"#fdca26\"],[1.0,\"#f0f921\"]]}],\"surface\":[{\"type\":\"surface\",\"colorbar\":{\"outlinewidth\":0,\"ticks\":\"\"},\"colorscale\":[[0.0,\"#0d0887\"],[0.1111111111111111,\"#46039f\"],[0.2222222222222222,\"#7201a8\"],[0.3333333333333333,\"#9c179e\"],[0.4444444444444444,\"#bd3786\"],[0.5555555555555556,\"#d8576b\"],[0.6666666666666666,\"#ed7953\"],[0.7777777777777778,\"#fb9f3a\"],[0.8888888888888888,\"#fdca26\"],[1.0,\"#f0f921\"]]}],\"mesh3d\":[{\"type\":\"mesh3d\",\"colorbar\":{\"outlinewidth\":0,\"ticks\":\"\"}}],\"scatter\":[{\"fillpattern\":{\"fillmode\":\"overlay\",\"size\":10,\"solidity\":0.2},\"type\":\"scatter\"}],\"parcoords\":[{\"type\":\"parcoords\",\"line\":{\"colorbar\":{\"outlinewidth\":0,\"ticks\":\"\"}}}],\"scatterpolargl\":[{\"type\":\"scatterpolargl\",\"marker\":{\"colorbar\":{\"outlinewidth\":0,\"ticks\":\"\"}}}],\"bar\":[{\"error_x\":{\"color\":\"#2a3f5f\"},\"error_y\":{\"color\":\"#2a3f5f\"},\"marker\":{\"line\":{\"color\":\"#E5ECF6\",\"width\":0.5},\"pattern\":{\"fillmode\":\"overlay\",\"size\":10,\"solidity\":0.2}},\"type\":\"bar\"}],\"scattergeo\":[{\"type\":\"scattergeo\",\"marker\":{\"colorbar\":{\"outlinewidth\":0,\"ticks\":\"\"}}}],\"scatterpolar\":[{\"type\":\"scatterpolar\",\"marker\":{\"colorbar\":{\"outlinewidth\":0,\"ticks\":\"\"}}}],\"histogram\":[{\"marker\":{\"pattern\":{\"fillmode\":\"overlay\",\"size\":10,\"solidity\":0.2}},\"type\":\"histogram\"}],\"scattergl\":[{\"type\":\"scattergl\",\"marker\":{\"colorbar\":{\"outlinewidth\":0,\"ticks\":\"\"}}}],\"scatter3d\":[{\"type\":\"scatter3d\",\"line\":{\"colorbar\":{\"outlinewidth\":0,\"ticks\":\"\"}},\"marker\":{\"colorbar\":{\"outlinewidth\":0,\"ticks\":\"\"}}}],\"scattermapbox\":[{\"type\":\"scattermapbox\",\"marker\":{\"colorbar\":{\"outlinewidth\":0,\"ticks\":\"\"}}}],\"scatterternary\":[{\"type\":\"scatterternary\",\"marker\":{\"colorbar\":{\"outlinewidth\":0,\"ticks\":\"\"}}}],\"scattercarpet\":[{\"type\":\"scattercarpet\",\"marker\":{\"colorbar\":{\"outlinewidth\":0,\"ticks\":\"\"}}}],\"carpet\":[{\"aaxis\":{\"endlinecolor\":\"#2a3f5f\",\"gridcolor\":\"white\",\"linecolor\":\"white\",\"minorgridcolor\":\"white\",\"startlinecolor\":\"#2a3f5f\"},\"baxis\":{\"endlinecolor\":\"#2a3f5f\",\"gridcolor\":\"white\",\"linecolor\":\"white\",\"minorgridcolor\":\"white\",\"startlinecolor\":\"#2a3f5f\"},\"type\":\"carpet\"}],\"table\":[{\"cells\":{\"fill\":{\"color\":\"#EBF0F8\"},\"line\":{\"color\":\"white\"}},\"header\":{\"fill\":{\"color\":\"#C8D4E3\"},\"line\":{\"color\":\"white\"}},\"type\":\"table\"}],\"barpolar\":[{\"marker\":{\"line\":{\"color\":\"#E5ECF6\",\"width\":0.5},\"pattern\":{\"fillmode\":\"overlay\",\"size\":10,\"solidity\":0.2}},\"type\":\"barpolar\"}],\"pie\":[{\"automargin\":true,\"type\":\"pie\"}]},\"layout\":{\"autotypenumbers\":\"strict\",\"colorway\":[\"#636efa\",\"#EF553B\",\"#00cc96\",\"#ab63fa\",\"#FFA15A\",\"#19d3f3\",\"#FF6692\",\"#B6E880\",\"#FF97FF\",\"#FECB52\"],\"font\":{\"color\":\"#2a3f5f\"},\"hovermode\":\"closest\",\"hoverlabel\":{\"align\":\"left\"},\"paper_bgcolor\":\"white\",\"plot_bgcolor\":\"#E5ECF6\",\"polar\":{\"bgcolor\":\"#E5ECF6\",\"angularaxis\":{\"gridcolor\":\"white\",\"linecolor\":\"white\",\"ticks\":\"\"},\"radialaxis\":{\"gridcolor\":\"white\",\"linecolor\":\"white\",\"ticks\":\"\"}},\"ternary\":{\"bgcolor\":\"#E5ECF6\",\"aaxis\":{\"gridcolor\":\"white\",\"linecolor\":\"white\",\"ticks\":\"\"},\"baxis\":{\"gridcolor\":\"white\",\"linecolor\":\"white\",\"ticks\":\"\"},\"caxis\":{\"gridcolor\":\"white\",\"linecolor\":\"white\",\"ticks\":\"\"}},\"coloraxis\":{\"colorbar\":{\"outlinewidth\":0,\"ticks\":\"\"}},\"colorscale\":{\"sequential\":[[0.0,\"#0d0887\"],[0.1111111111111111,\"#46039f\"],[0.2222222222222222,\"#7201a8\"],[0.3333333333333333,\"#9c179e\"],[0.4444444444444444,\"#bd3786\"],[0.5555555555555556,\"#d8576b\"],[0.6666666666666666,\"#ed7953\"],[0.7777777777777778,\"#fb9f3a\"],[0.8888888888888888,\"#fdca26\"],[1.0,\"#f0f921\"]],\"sequentialminus\":[[0.0,\"#0d0887\"],[0.1111111111111111,\"#46039f\"],[0.2222222222222222,\"#7201a8\"],[0.3333333333333333,\"#9c179e\"],[0.4444444444444444,\"#bd3786\"],[0.5555555555555556,\"#d8576b\"],[0.6666666666666666,\"#ed7953\"],[0.7777777777777778,\"#fb9f3a\"],[0.8888888888888888,\"#fdca26\"],[1.0,\"#f0f921\"]],\"diverging\":[[0,\"#8e0152\"],[0.1,\"#c51b7d\"],[0.2,\"#de77ae\"],[0.3,\"#f1b6da\"],[0.4,\"#fde0ef\"],[0.5,\"#f7f7f7\"],[0.6,\"#e6f5d0\"],[0.7,\"#b8e186\"],[0.8,\"#7fbc41\"],[0.9,\"#4d9221\"],[1,\"#276419\"]]},\"xaxis\":{\"gridcolor\":\"white\",\"linecolor\":\"white\",\"ticks\":\"\",\"title\":{\"standoff\":15},\"zerolinecolor\":\"white\",\"automargin\":true,\"zerolinewidth\":2},\"yaxis\":{\"gridcolor\":\"white\",\"linecolor\":\"white\",\"ticks\":\"\",\"title\":{\"standoff\":15},\"zerolinecolor\":\"white\",\"automargin\":true,\"zerolinewidth\":2},\"scene\":{\"xaxis\":{\"backgroundcolor\":\"#E5ECF6\",\"gridcolor\":\"white\",\"linecolor\":\"white\",\"showbackground\":true,\"ticks\":\"\",\"zerolinecolor\":\"white\",\"gridwidth\":2},\"yaxis\":{\"backgroundcolor\":\"#E5ECF6\",\"gridcolor\":\"white\",\"linecolor\":\"white\",\"showbackground\":true,\"ticks\":\"\",\"zerolinecolor\":\"white\",\"gridwidth\":2},\"zaxis\":{\"backgroundcolor\":\"#E5ECF6\",\"gridcolor\":\"white\",\"linecolor\":\"white\",\"showbackground\":true,\"ticks\":\"\",\"zerolinecolor\":\"white\",\"gridwidth\":2}},\"shapedefaults\":{\"line\":{\"color\":\"#2a3f5f\"}},\"annotationdefaults\":{\"arrowcolor\":\"#2a3f5f\",\"arrowhead\":0,\"arrowwidth\":1},\"geo\":{\"bgcolor\":\"white\",\"landcolor\":\"#E5ECF6\",\"subunitcolor\":\"white\",\"showland\":true,\"showlakes\":true,\"lakecolor\":\"white\"},\"title\":{\"x\":0.05},\"mapbox\":{\"style\":\"light\"}}},\"scene\":{\"xaxis\":{\"nticks\":4,\"range\":[0,1000]},\"yaxis\":{\"nticks\":4,\"range\":[0,1000]},\"zaxis\":{\"nticks\":4,\"range\":[0,1000]}},\"margin\":{\"r\":20,\"l\":10,\"b\":10,\"t\":10},\"width\":700},                        {\"responsive\": true}                    ).then(function(){\n",
       "                            \n",
       "var gd = document.getElementById('7b39918c-9a17-4d38-b971-db5f071d30c0');\n",
       "var x = new MutationObserver(function (mutations, observer) {{\n",
       "        var display = window.getComputedStyle(gd).display;\n",
       "        if (!display || display === 'none') {{\n",
       "            console.log([gd, 'removed!']);\n",
       "            Plotly.purge(gd);\n",
       "            observer.disconnect();\n",
       "        }}\n",
       "}});\n",
       "\n",
       "// Listen for the removal of the full notebook cells\n",
       "var notebookContainer = gd.closest('#notebook-container');\n",
       "if (notebookContainer) {{\n",
       "    x.observe(notebookContainer, {childList: true});\n",
       "}}\n",
       "\n",
       "// Listen for the clearing of the current output cell\n",
       "var outputEl = gd.closest('.output');\n",
       "if (outputEl) {{\n",
       "    x.observe(outputEl, {childList: true});\n",
       "}}\n",
       "\n",
       "                        })                };                });            </script>        </div>"
      ]
     },
     "metadata": {},
     "output_type": "display_data"
    }
   ],
   "source": [
    "response = requests.get(f\"{boxes_url}?x=20\")\n",
    "response_boxes = [convert_box_json_to_nparray(box) for box in response.json()]\n",
    "print(f\"{len(response_boxes)})\n",
    "show_3d_boxes(response_boxes)"
   ]
  }
 ],
 "metadata": {
  "kernelspec": {
   "display_name": "Python 3 (ipykernel)",
   "language": "python",
   "name": "python3"
  },
  "language_info": {
   "codemirror_mode": {
    "name": "ipython",
    "version": 3
   },
   "file_extension": ".py",
   "mimetype": "text/x-python",
   "name": "python",
   "nbconvert_exporter": "python",
   "pygments_lexer": "ipython3",
   "version": "3.8.10"
  }
 },
 "nbformat": 4,
 "nbformat_minor": 5
}
