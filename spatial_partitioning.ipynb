{
 "cells": [
  {
   "cell_type": "code",
   "execution_count": 2,
   "id": "12fe0d36-4a3d-44e4-89d8-e062c7635c19",
   "metadata": {},
   "outputs": [],
   "source": [
    "from utils import *"
   ]
  },
  {
   "cell_type": "code",
   "execution_count": 3,
   "id": "18bfc76c-0c7d-4a94-bbec-fc5be9bcd357",
   "metadata": {},
   "outputs": [
    {
     "data": {
      "text/plain": [
       "[array([[330, 330, 112, 112, 330, 330, 112, 112],\n",
       "        [742, 601, 601, 742, 742, 601, 601, 742],\n",
       "        [ 45,  45,  45,  45, 484, 484, 484, 484]]),\n",
       " array([[929, 929, 268, 268, 929, 929, 268, 268],\n",
       "        [225, 718, 718, 225, 225, 718, 718, 225],\n",
       "        [726, 726, 726, 726, 182, 182, 182, 182]]),\n",
       " array([[461, 461, 789, 789, 461, 461, 789, 789],\n",
       "        [514, 503, 503, 514, 514, 503, 503, 514],\n",
       "        [ 86,  86,  86,  86, 658, 658, 658, 658]]),\n",
       " array([[ 93,  93, 729, 729,  93,  93, 729, 729],\n",
       "        [336, 550, 550, 336, 336, 550, 550, 336],\n",
       "        [155, 155, 155, 155, 343, 343, 343, 343]]),\n",
       " array([[ 56,  56, 958, 958,  56,  56, 958, 958],\n",
       "        [ 28, 651, 651,  28,  28, 651, 651,  28],\n",
       "        [948, 948, 948, 948, 274, 274, 274, 274]]),\n",
       " array([[502, 502, 419, 419, 502, 502, 419, 419],\n",
       "        [320, 658, 658, 320, 320, 658, 658, 320],\n",
       "        [424, 424, 424, 424, 754, 754, 754, 754]]),\n",
       " array([[363, 363, 222, 222, 363, 363, 222, 222],\n",
       "        [ 70, 381, 381,  70,  70, 381, 381,  70],\n",
       "        [568, 568, 568, 568, 152, 152, 152, 152]]),\n",
       " array([[980, 980, 712, 712, 980, 980, 712, 712],\n",
       "        [905, 902, 902, 905, 905, 902, 902, 905],\n",
       "        [320, 320, 320, 320, 503, 503, 503, 503]]),\n",
       " array([[964, 964, 315, 315, 964, 964, 315, 315],\n",
       "        [248,  48,  48, 248, 248,  48,  48, 248],\n",
       "        [511, 511, 511, 511, 129, 129, 129, 129]]),\n",
       " array([[342, 342,  18,  18, 342, 342,  18,  18],\n",
       "        [650, 498, 498, 650, 650, 498, 498, 650],\n",
       "        [414, 414, 414, 414, 796, 796, 796, 796]])]"
      ]
     },
     "execution_count": 3,
     "metadata": {},
     "output_type": "execute_result"
    }
   ],
   "source": [
    "boxes = [generate_box(0, 1000) for i in range(100)]\n",
    "boxes[:10]"
   ]
  },
  {
   "cell_type": "code",
   "execution_count": 4,
   "id": "9e5c7bda-9e0d-40eb-920b-94c8fb34866d",
   "metadata": {},
   "outputs": [],
   "source": [
    "# Setup API\n",
    "import requests\n",
    "from requests.compat import urljoin\n",
    "import json\n",
    "from time import perf_counter"
   ]
  },
  {
   "cell_type": "code",
   "execution_count": 5,
   "id": "dffb9676-a351-4458-bbe4-397e07f18f79",
   "metadata": {},
   "outputs": [
    {
     "data": {
      "text/plain": [
       "[{'x_min': 159.0,\n",
       "  'x_max': 414.0,\n",
       "  'y_min': 171.0,\n",
       "  'y_max': 374.0,\n",
       "  'z_min': 64.0,\n",
       "  'z_max': 64.0,\n",
       "  'id': '71a6466e-4b28-48ca-8af1-e5662d2bdb21'}]"
      ]
     },
     "execution_count": 5,
     "metadata": {},
     "output_type": "execute_result"
    }
   ],
   "source": [
    "api_host = \"http://localhost\"\n",
    "boxes_endpoint = \"boxes/\"\n",
    "\n",
    "boxes_url = urljoin(api_host, boxes_endpoint)\n",
    "response = requests.get(url=boxes_url)\n",
    "response.json()[:1]"
   ]
  },
  {
   "cell_type": "code",
   "execution_count": 6,
   "id": "ff4421df-0505-4403-991f-7aaed49430cb",
   "metadata": {},
   "outputs": [
    {
     "name": "stdout",
     "output_type": "stream",
     "text": [
      "{'x_min': 112, 'x_max': 330, 'y_min': 601, 'y_max': 742, 'z_min': 45, 'z_max': 484}\n",
      "{'x_min': 268, 'x_max': 929, 'y_min': 225, 'y_max': 718, 'z_min': 182, 'z_max': 726}\n",
      "{'x_min': 461, 'x_max': 789, 'y_min': 503, 'y_max': 514, 'z_min': 86, 'z_max': 658}\n",
      "{'x_min': 93, 'x_max': 729, 'y_min': 336, 'y_max': 550, 'z_min': 155, 'z_max': 343}\n",
      "{'x_min': 56, 'x_max': 958, 'y_min': 28, 'y_max': 651, 'z_min': 274, 'z_max': 948}\n",
      "{'x_min': 419, 'x_max': 502, 'y_min': 320, 'y_max': 658, 'z_min': 424, 'z_max': 754}\n",
      "{'x_min': 222, 'x_max': 363, 'y_min': 70, 'y_max': 381, 'z_min': 152, 'z_max': 568}\n",
      "{'x_min': 712, 'x_max': 980, 'y_min': 902, 'y_max': 905, 'z_min': 320, 'z_max': 503}\n",
      "{'x_min': 315, 'x_max': 964, 'y_min': 48, 'y_max': 248, 'z_min': 129, 'z_max': 511}\n",
      "{'x_min': 18, 'x_max': 342, 'y_min': 498, 'y_max': 650, 'z_min': 414, 'z_max': 796}\n",
      "{'x_min': 165, 'x_max': 455, 'y_min': 664, 'y_max': 906, 'z_min': 30, 'z_max': 136}\n",
      "{'x_min': 125, 'x_max': 906, 'y_min': 808, 'y_max': 948, 'z_min': 502, 'z_max': 573}\n",
      "{'x_min': 531, 'x_max': 873, 'y_min': 233, 'y_max': 321, 'z_min': 415, 'z_max': 962}\n",
      "{'x_min': 130, 'x_max': 470, 'y_min': 749, 'y_max': 968, 'z_min': 530, 'z_max': 652}\n",
      "{'x_min': 377, 'x_max': 779, 'y_min': 808, 'y_max': 913, 'z_min': 3, 'z_max': 533}\n",
      "{'x_min': 208, 'x_max': 766, 'y_min': 833, 'y_max': 891, 'z_min': 534, 'z_max': 812}\n",
      "{'x_min': 290, 'x_max': 625, 'y_min': 891, 'y_max': 947, 'z_min': 887, 'z_max': 902}\n",
      "{'x_min': 134, 'x_max': 448, 'y_min': 254, 'y_max': 818, 'z_min': 76, 'z_max': 141}\n",
      "{'x_min': 326, 'x_max': 565, 'y_min': 724, 'y_max': 737, 'z_min': 50, 'z_max': 623}\n",
      "{'x_min': 43, 'x_max': 819, 'y_min': 222, 'y_max': 322, 'z_min': 309, 'z_max': 768}\n",
      "{'x_min': 444, 'x_max': 969, 'y_min': 267, 'y_max': 815, 'z_min': 314, 'z_max': 708}\n",
      "{'x_min': 174, 'x_max': 602, 'y_min': 405, 'y_max': 691, 'z_min': 191, 'z_max': 911}\n",
      "{'x_min': 975, 'x_max': 985, 'y_min': 55, 'y_max': 258, 'z_min': 254, 'z_max': 350}\n",
      "{'x_min': 133, 'x_max': 180, 'y_min': 631, 'y_max': 909, 'z_min': 168, 'z_max': 758}\n",
      "{'x_min': 466, 'x_max': 989, 'y_min': 125, 'y_max': 683, 'z_min': 178, 'z_max': 239}\n",
      "{'x_min': 53, 'x_max': 145, 'y_min': 863, 'y_max': 939, 'z_min': 44, 'z_max': 654}\n",
      "{'x_min': 201, 'x_max': 640, 'y_min': 137, 'y_max': 163, 'z_min': 160, 'z_max': 733}\n",
      "{'x_min': 378, 'x_max': 709, 'y_min': 548, 'y_max': 633, 'z_min': 136, 'z_max': 872}\n",
      "{'x_min': 287, 'x_max': 885, 'y_min': 417, 'y_max': 498, 'z_min': 157, 'z_max': 167}\n",
      "{'x_min': 258, 'x_max': 631, 'y_min': 661, 'y_max': 868, 'z_min': 114, 'z_max': 772}\n",
      "{'x_min': 194, 'x_max': 515, 'y_min': 607, 'y_max': 949, 'z_min': 219, 'z_max': 260}\n",
      "{'x_min': 741, 'x_max': 867, 'y_min': 313, 'y_max': 775, 'z_min': 541, 'z_max': 848}\n",
      "{'x_min': 151, 'x_max': 459, 'y_min': 183, 'y_max': 960, 'z_min': 314, 'z_max': 461}\n",
      "{'x_min': 66, 'x_max': 302, 'y_min': 432, 'y_max': 967, 'z_min': 159, 'z_max': 463}\n",
      "{'x_min': 489, 'x_max': 564, 'y_min': 430, 'y_max': 613, 'z_min': 359, 'z_max': 881}\n",
      "{'x_min': 514, 'x_max': 765, 'y_min': 460, 'y_max': 693, 'z_min': 75, 'z_max': 675}\n",
      "{'x_min': 53, 'x_max': 924, 'y_min': 99, 'y_max': 473, 'z_min': 92, 'z_max': 885}\n",
      "{'x_min': 325, 'x_max': 362, 'y_min': 776, 'y_max': 900, 'z_min': 221, 'z_max': 738}\n",
      "{'x_min': 558, 'x_max': 722, 'y_min': 36, 'y_max': 368, 'z_min': 152, 'z_max': 390}\n",
      "{'x_min': 246, 'x_max': 572, 'y_min': 640, 'y_max': 667, 'z_min': 55, 'z_max': 625}\n",
      "{'x_min': 172, 'x_max': 518, 'y_min': 615, 'y_max': 878, 'z_min': 840, 'z_max': 965}\n",
      "{'x_min': 128, 'x_max': 258, 'y_min': 331, 'y_max': 504, 'z_min': 83, 'z_max': 668}\n",
      "{'x_min': 422, 'x_max': 970, 'y_min': 220, 'y_max': 657, 'z_min': 680, 'z_max': 898}\n",
      "{'x_min': 938, 'x_max': 962, 'y_min': 280, 'y_max': 759, 'z_min': 46, 'z_max': 702}\n",
      "{'x_min': 456, 'x_max': 887, 'y_min': 579, 'y_max': 638, 'z_min': 653, 'z_max': 729}\n",
      "{'x_min': 702, 'x_max': 967, 'y_min': 298, 'y_max': 404, 'z_min': 214, 'z_max': 656}\n",
      "{'x_min': 390, 'x_max': 401, 'y_min': 595, 'y_max': 630, 'z_min': 275, 'z_max': 408}\n",
      "{'x_min': 119, 'x_max': 208, 'y_min': 420, 'y_max': 997, 'z_min': 133, 'z_max': 949}\n",
      "{'x_min': 2, 'x_max': 555, 'y_min': 175, 'y_max': 944, 'z_min': 199, 'z_max': 827}\n",
      "{'x_min': 67, 'x_max': 477, 'y_min': 0, 'y_max': 383, 'z_min': 848, 'z_max': 946}\n",
      "{'x_min': 735, 'x_max': 737, 'y_min': 54, 'y_max': 729, 'z_min': 464, 'z_max': 501}\n",
      "{'x_min': 344, 'x_max': 611, 'y_min': 599, 'y_max': 693, 'z_min': 67, 'z_max': 813}\n",
      "{'x_min': 315, 'x_max': 703, 'y_min': 529, 'y_max': 782, 'z_min': 292, 'z_max': 698}\n",
      "{'x_min': 268, 'x_max': 893, 'y_min': 290, 'y_max': 836, 'z_min': 995, 'z_max': 999}\n",
      "{'x_min': 639, 'x_max': 873, 'y_min': 328, 'y_max': 827, 'z_min': 194, 'z_max': 657}\n",
      "{'x_min': 33, 'x_max': 114, 'y_min': 205, 'y_max': 226, 'z_min': 106, 'z_max': 761}\n",
      "{'x_min': 147, 'x_max': 500, 'y_min': 177, 'y_max': 204, 'z_min': 364, 'z_max': 870}\n",
      "{'x_min': 214, 'x_max': 364, 'y_min': 229, 'y_max': 459, 'z_min': 243, 'z_max': 639}\n",
      "{'x_min': 304, 'x_max': 455, 'y_min': 319, 'y_max': 381, 'z_min': 445, 'z_max': 535}\n",
      "{'x_min': 321, 'x_max': 455, 'y_min': 117, 'y_max': 467, 'z_min': 402, 'z_max': 999}\n",
      "{'x_min': 106, 'x_max': 224, 'y_min': 49, 'y_max': 378, 'z_min': 82, 'z_max': 515}\n",
      "{'x_min': 309, 'x_max': 912, 'y_min': 231, 'y_max': 697, 'z_min': 524, 'z_max': 822}\n",
      "{'x_min': 3, 'x_max': 873, 'y_min': 511, 'y_max': 592, 'z_min': 164, 'z_max': 404}\n",
      "{'x_min': 369, 'x_max': 375, 'y_min': 417, 'y_max': 947, 'z_min': 269, 'z_max': 458}\n",
      "{'x_min': 435, 'x_max': 473, 'y_min': 268, 'y_max': 772, 'z_min': 189, 'z_max': 246}\n",
      "{'x_min': 55, 'x_max': 312, 'y_min': 376, 'y_max': 944, 'z_min': 751, 'z_max': 809}\n",
      "{'x_min': 217, 'x_max': 679, 'y_min': 580, 'y_max': 710, 'z_min': 343, 'z_max': 577}\n",
      "{'x_min': 165, 'x_max': 789, 'y_min': 106, 'y_max': 882, 'z_min': 24, 'z_max': 970}\n",
      "{'x_min': 827, 'x_max': 874, 'y_min': 322, 'y_max': 615, 'z_min': 833, 'z_max': 879}\n",
      "{'x_min': 496, 'x_max': 818, 'y_min': 945, 'y_max': 981, 'z_min': 385, 'z_max': 595}\n",
      "{'x_min': 220, 'x_max': 490, 'y_min': 111, 'y_max': 514, 'z_min': 115, 'z_max': 191}\n",
      "{'x_min': 128, 'x_max': 862, 'y_min': 511, 'y_max': 858, 'z_min': 268, 'z_max': 627}\n",
      "{'x_min': 794, 'x_max': 954, 'y_min': 79, 'y_max': 827, 'z_min': 563, 'z_max': 708}\n",
      "{'x_min': 526, 'x_max': 530, 'y_min': 454, 'y_max': 873, 'z_min': 30, 'z_max': 920}\n",
      "{'x_min': 567, 'x_max': 663, 'y_min': 618, 'y_max': 818, 'z_min': 92, 'z_max': 811}\n",
      "{'x_min': 134, 'x_max': 512, 'y_min': 743, 'y_max': 858, 'z_min': 248, 'z_max': 327}\n",
      "{'x_min': 173, 'x_max': 827, 'y_min': 379, 'y_max': 817, 'z_min': 146, 'z_max': 297}\n",
      "{'x_min': 53, 'x_max': 105, 'y_min': 260, 'y_max': 569, 'z_min': 716, 'z_max': 921}\n",
      "{'x_min': 369, 'x_max': 839, 'y_min': 236, 'y_max': 441, 'z_min': 871, 'z_max': 889}\n",
      "{'x_min': 61, 'x_max': 399, 'y_min': 114, 'y_max': 670, 'z_min': 475, 'z_max': 814}\n",
      "{'x_min': 220, 'x_max': 672, 'y_min': 289, 'y_max': 845, 'z_min': 64, 'z_max': 286}\n",
      "{'x_min': 193, 'x_max': 775, 'y_min': 195, 'y_max': 260, 'z_min': 541, 'z_max': 580}\n",
      "{'x_min': 140, 'x_max': 609, 'y_min': 207, 'y_max': 234, 'z_min': 791, 'z_max': 842}\n",
      "{'x_min': 103, 'x_max': 741, 'y_min': 154, 'y_max': 496, 'z_min': 823, 'z_max': 856}\n",
      "{'x_min': 36, 'x_max': 62, 'y_min': 301, 'y_max': 480, 'z_min': 190, 'z_max': 835}\n",
      "{'x_min': 101, 'x_max': 463, 'y_min': 88, 'y_max': 336, 'z_min': 75, 'z_max': 139}\n",
      "{'x_min': 180, 'x_max': 730, 'y_min': 628, 'y_max': 915, 'z_min': 143, 'z_max': 294}\n",
      "{'x_min': 365, 'x_max': 722, 'y_min': 329, 'y_max': 651, 'z_min': 235, 'z_max': 663}\n",
      "{'x_min': 764, 'x_max': 934, 'y_min': 674, 'y_max': 830, 'z_min': 67, 'z_max': 734}\n",
      "{'x_min': 150, 'x_max': 592, 'y_min': 702, 'y_max': 918, 'z_min': 487, 'z_max': 607}\n",
      "{'x_min': 60, 'x_max': 827, 'y_min': 644, 'y_max': 778, 'z_min': 325, 'z_max': 942}\n",
      "{'x_min': 580, 'x_max': 846, 'y_min': 259, 'y_max': 347, 'z_min': 338, 'z_max': 467}\n",
      "{'x_min': 314, 'x_max': 751, 'y_min': 522, 'y_max': 617, 'z_min': 83, 'z_max': 397}\n",
      "{'x_min': 14, 'x_max': 118, 'y_min': 434, 'y_max': 859, 'z_min': 243, 'z_max': 395}\n",
      "{'x_min': 410, 'x_max': 460, 'y_min': 693, 'y_max': 932, 'z_min': 574, 'z_max': 954}\n",
      "{'x_min': 469, 'x_max': 608, 'y_min': 274, 'y_max': 439, 'z_min': 687, 'z_max': 918}\n",
      "{'x_min': 182, 'x_max': 309, 'y_min': 292, 'y_max': 790, 'z_min': 139, 'z_max': 169}\n",
      "{'x_min': 841, 'x_max': 952, 'y_min': 526, 'y_max': 835, 'z_min': 319, 'z_max': 920}\n",
      "{'x_min': 41, 'x_max': 796, 'y_min': 435, 'y_max': 502, 'z_min': 348, 'z_max': 917}\n",
      "{'x_min': 328, 'x_max': 514, 'y_min': 220, 'y_max': 269, 'z_min': 216, 'z_max': 471}\n"
     ]
    }
   ],
   "source": [
    "\n",
    "for box in boxes:\n",
    "    data = {\n",
    "        \"x_min\": min(box[0]),\n",
    "        \"x_max\": max(box[0]),\n",
    "        \"y_min\": min(box[1]),\n",
    "        \"y_max\": max(box[1]),\n",
    "        \"z_min\": min(box[2]),\n",
    "        \"z_max\": max(box[2]),\n",
    "    }\n",
    "    for key, value in data.items():\n",
    "        data[key] = int(value)\n",
    "    print(data)\n",
    "    response = requests.post(urljoin(api_host, boxes_endpoint), json=data)\n",
    "    assert response.status_code == 200, response.json()"
   ]
  },
  {
   "cell_type": "code",
   "execution_count": 7,
   "id": "b1eb043b-5761-40a4-a0ac-e855ed93ffd4",
   "metadata": {},
   "outputs": [],
   "source": [
    "def show_3d_boxes(boxes):\n",
    "    fig = go.Figure()\n",
    "\n",
    "    for box in boxes:\n",
    "        add_mesh_3d(fig, box)\n",
    "\n",
    "    fig.update_layout(\n",
    "        scene = {\n",
    "            \"xaxis\": {\n",
    "                \"nticks\": 4, \n",
    "                \"range\": [0,1000],\n",
    "            },\n",
    "            \"yaxis\": {\n",
    "                \"nticks\": 4, \n",
    "                \"range\": [0, 1000],\n",
    "            },\n",
    "            \"zaxis\": {\n",
    "                \"nticks\": 4, \n",
    "                \"range\": [0,1000],\n",
    "            },\n",
    "        },\n",
    "        width=700,\n",
    "        margin=dict(r=20, l=10, b=10, t=10))\n",
    "\n",
    "    fig.show()"
   ]
  },
  {
   "cell_type": "code",
   "execution_count": 8,
   "id": "34fb2c1d-00a0-4343-a9cd-3a76514824de",
   "metadata": {},
   "outputs": [],
   "source": [
    "response = requests.get(f\"{boxes_url}?x=20&y=500\")"
   ]
  },
  {
   "cell_type": "code",
   "execution_count": 9,
   "id": "ca0677e4-d1be-4aa9-959f-4b599072ecd4",
   "metadata": {},
   "outputs": [
    {
     "data": {
      "text/plain": [
       "array([[  4.,   4.,  99.,  99.,   4.,   4.,  99.,  99.],\n",
       "       [222., 688., 688., 222., 222., 688., 688., 222.],\n",
       "       [111., 111., 111., 111., 111., 111., 111., 111.]])"
      ]
     },
     "execution_count": 9,
     "metadata": {},
     "output_type": "execute_result"
    }
   ],
   "source": [
    "from typing import Dict, Any\n",
    "\n",
    "def convert_box_json_to_nparray(box_obj: Dict[str, Any]):\n",
    "    del box_obj[\"id\"]\n",
    "    box_array = get_box_points_array(\n",
    "        **box_obj\n",
    "    )\n",
    "    return box_array\n",
    "\n",
    "convert_box_json_to_nparray(response.json()[0])"
   ]
  },
  {
   "cell_type": "code",
   "execution_count": 10,
   "id": "119ad1ac-2a50-4b3e-ad62-00c9f94f47b7",
   "metadata": {},
   "outputs": [
    {
     "data": {
      "text/plain": [
       "[array([[  4.,   4.,  99.,  99.,   4.,   4.,  99.,  99.],\n",
       "        [222., 688., 688., 222., 222., 688., 688., 222.],\n",
       "        [111., 111., 111., 111., 111., 111., 111., 111.]]),\n",
       " array([[ 19.,  19., 324., 324.,  19.,  19., 324., 324.],\n",
       "        [144., 816., 816., 144., 144., 816., 816., 144.],\n",
       "        [218., 218., 218., 218., 218., 218., 218., 218.]])]"
      ]
     },
     "execution_count": 10,
     "metadata": {},
     "output_type": "execute_result"
    }
   ],
   "source": [
    "response_boxes = [convert_box_json_to_nparray(box) for box in response.json()]\n",
    "response_boxes[:2]"
   ]
  },
  {
   "cell_type": "code",
   "execution_count": 14,
   "id": "c4831934-853f-46be-9d47-efc7f9cb3ac8",
   "metadata": {},
   "outputs": [
    {
     "name": "stdout",
     "output_type": "stream",
     "text": [
      "Response Time: 0.051998696002556244\n",
      "Showing 239 Boxes\n"
     ]
    },
    {
     "data": {
      "application/vnd.plotly.v1+json": {
       "config": {
        "plotlyServerURL": "https://plot.ly"
       },
       "data": [
        {
         "colorbar": {
          "title": {
           "text": "z"
          }
         },
         "colorscale": [
          [
           0,
           "gold"
          ],
          [
           0.5,
           "mediumturquoise"
          ],
          [
           1,
           "magenta"
          ]
         ],
         "flatshading": true,
         "i": [
          7,
          0,
          0,
          0,
          4,
          4,
          6,
          6,
          4,
          0,
          3,
          2
         ],
         "intensity": [
          0,
          0.14285714285714285,
          0.2857142857142857,
          0.42857142857142855,
          0.5714285714285714,
          0.7142857142857142,
          0.8571428571428571,
          1
         ],
         "j": [
          3,
          4,
          1,
          2,
          5,
          6,
          5,
          2,
          0,
          1,
          6,
          3
         ],
         "k": [
          0,
          7,
          2,
          3,
          6,
          7,
          1,
          1,
          5,
          5,
          7,
          6
         ],
         "type": "mesh3d",
         "x": [
          169,
          169,
          757,
          757,
          169,
          169,
          757,
          757
         ],
         "y": [
          40,
          737,
          737,
          40,
          40,
          737,
          737,
          40
         ],
         "z": [
          106,
          106,
          106,
          106,
          106,
          106,
          106,
          106
         ]
        },
        {
         "colorbar": {
          "title": {
           "text": "z"
          }
         },
         "colorscale": [
          [
           0,
           "gold"
          ],
          [
           0.5,
           "mediumturquoise"
          ],
          [
           1,
           "magenta"
          ]
         ],
         "flatshading": true,
         "i": [
          7,
          0,
          0,
          0,
          4,
          4,
          6,
          6,
          4,
          0,
          3,
          2
         ],
         "intensity": [
          0,
          0.14285714285714285,
          0.2857142857142857,
          0.42857142857142855,
          0.5714285714285714,
          0.7142857142857142,
          0.8571428571428571,
          1
         ],
         "j": [
          3,
          4,
          1,
          2,
          5,
          6,
          5,
          2,
          0,
          1,
          6,
          3
         ],
         "k": [
          0,
          7,
          2,
          3,
          6,
          7,
          1,
          1,
          5,
          5,
          7,
          6
         ],
         "type": "mesh3d",
         "x": [
          169,
          169,
          757,
          757,
          169,
          169,
          757,
          757
         ],
         "y": [
          40,
          737,
          737,
          40,
          40,
          737,
          737,
          40
         ],
         "z": [
          106,
          106,
          106,
          106,
          106,
          106,
          106,
          106
         ]
        },
        {
         "colorbar": {
          "title": {
           "text": "z"
          }
         },
         "colorscale": [
          [
           0,
           "gold"
          ],
          [
           0.5,
           "mediumturquoise"
          ],
          [
           1,
           "magenta"
          ]
         ],
         "flatshading": true,
         "i": [
          7,
          0,
          0,
          0,
          4,
          4,
          6,
          6,
          4,
          0,
          3,
          2
         ],
         "intensity": [
          0,
          0.14285714285714285,
          0.2857142857142857,
          0.42857142857142855,
          0.5714285714285714,
          0.7142857142857142,
          0.8571428571428571,
          1
         ],
         "j": [
          3,
          4,
          1,
          2,
          5,
          6,
          5,
          2,
          0,
          1,
          6,
          3
         ],
         "k": [
          0,
          7,
          2,
          3,
          6,
          7,
          1,
          1,
          5,
          5,
          7,
          6
         ],
         "type": "mesh3d",
         "x": [
          169,
          169,
          757,
          757,
          169,
          169,
          757,
          757
         ],
         "y": [
          40,
          737,
          737,
          40,
          40,
          737,
          737,
          40
         ],
         "z": [
          106,
          106,
          106,
          106,
          106,
          106,
          106,
          106
         ]
        },
        {
         "colorbar": {
          "title": {
           "text": "z"
          }
         },
         "colorscale": [
          [
           0,
           "gold"
          ],
          [
           0.5,
           "mediumturquoise"
          ],
          [
           1,
           "magenta"
          ]
         ],
         "flatshading": true,
         "i": [
          7,
          0,
          0,
          0,
          4,
          4,
          6,
          6,
          4,
          0,
          3,
          2
         ],
         "intensity": [
          0,
          0.14285714285714285,
          0.2857142857142857,
          0.42857142857142855,
          0.5714285714285714,
          0.7142857142857142,
          0.8571428571428571,
          1
         ],
         "j": [
          3,
          4,
          1,
          2,
          5,
          6,
          5,
          2,
          0,
          1,
          6,
          3
         ],
         "k": [
          0,
          7,
          2,
          3,
          6,
          7,
          1,
          1,
          5,
          5,
          7,
          6
         ],
         "type": "mesh3d",
         "x": [
          169,
          169,
          757,
          757,
          169,
          169,
          757,
          757
         ],
         "y": [
          40,
          737,
          737,
          40,
          40,
          737,
          737,
          40
         ],
         "z": [
          106,
          106,
          106,
          106,
          106,
          106,
          106,
          106
         ]
        },
        {
         "colorbar": {
          "title": {
           "text": "z"
          }
         },
         "colorscale": [
          [
           0,
           "gold"
          ],
          [
           0.5,
           "mediumturquoise"
          ],
          [
           1,
           "magenta"
          ]
         ],
         "flatshading": true,
         "i": [
          7,
          0,
          0,
          0,
          4,
          4,
          6,
          6,
          4,
          0,
          3,
          2
         ],
         "intensity": [
          0,
          0.14285714285714285,
          0.2857142857142857,
          0.42857142857142855,
          0.5714285714285714,
          0.7142857142857142,
          0.8571428571428571,
          1
         ],
         "j": [
          3,
          4,
          1,
          2,
          5,
          6,
          5,
          2,
          0,
          1,
          6,
          3
         ],
         "k": [
          0,
          7,
          2,
          3,
          6,
          7,
          1,
          1,
          5,
          5,
          7,
          6
         ],
         "type": "mesh3d",
         "x": [
          169,
          169,
          757,
          757,
          169,
          169,
          757,
          757
         ],
         "y": [
          40,
          737,
          737,
          40,
          40,
          737,
          737,
          40
         ],
         "z": [
          106,
          106,
          106,
          106,
          106,
          106,
          106,
          106
         ]
        },
        {
         "colorbar": {
          "title": {
           "text": "z"
          }
         },
         "colorscale": [
          [
           0,
           "gold"
          ],
          [
           0.5,
           "mediumturquoise"
          ],
          [
           1,
           "magenta"
          ]
         ],
         "flatshading": true,
         "i": [
          7,
          0,
          0,
          0,
          4,
          4,
          6,
          6,
          4,
          0,
          3,
          2
         ],
         "intensity": [
          0,
          0.14285714285714285,
          0.2857142857142857,
          0.42857142857142855,
          0.5714285714285714,
          0.7142857142857142,
          0.8571428571428571,
          1
         ],
         "j": [
          3,
          4,
          1,
          2,
          5,
          6,
          5,
          2,
          0,
          1,
          6,
          3
         ],
         "k": [
          0,
          7,
          2,
          3,
          6,
          7,
          1,
          1,
          5,
          5,
          7,
          6
         ],
         "type": "mesh3d",
         "x": [
          75,
          75,
          454,
          454,
          75,
          75,
          454,
          454
         ],
         "y": [
          11,
          278,
          278,
          11,
          11,
          278,
          278,
          11
         ],
         "z": [
          59,
          59,
          59,
          59,
          972,
          972,
          972,
          972
         ]
        },
        {
         "colorbar": {
          "title": {
           "text": "z"
          }
         },
         "colorscale": [
          [
           0,
           "gold"
          ],
          [
           0.5,
           "mediumturquoise"
          ],
          [
           1,
           "magenta"
          ]
         ],
         "flatshading": true,
         "i": [
          7,
          0,
          0,
          0,
          4,
          4,
          6,
          6,
          4,
          0,
          3,
          2
         ],
         "intensity": [
          0,
          0.14285714285714285,
          0.2857142857142857,
          0.42857142857142855,
          0.5714285714285714,
          0.7142857142857142,
          0.8571428571428571,
          1
         ],
         "j": [
          3,
          4,
          1,
          2,
          5,
          6,
          5,
          2,
          0,
          1,
          6,
          3
         ],
         "k": [
          0,
          7,
          2,
          3,
          6,
          7,
          1,
          1,
          5,
          5,
          7,
          6
         ],
         "type": "mesh3d",
         "x": [
          75,
          75,
          454,
          454,
          75,
          75,
          454,
          454
         ],
         "y": [
          11,
          278,
          278,
          11,
          11,
          278,
          278,
          11
         ],
         "z": [
          59,
          59,
          59,
          59,
          972,
          972,
          972,
          972
         ]
        },
        {
         "colorbar": {
          "title": {
           "text": "z"
          }
         },
         "colorscale": [
          [
           0,
           "gold"
          ],
          [
           0.5,
           "mediumturquoise"
          ],
          [
           1,
           "magenta"
          ]
         ],
         "flatshading": true,
         "i": [
          7,
          0,
          0,
          0,
          4,
          4,
          6,
          6,
          4,
          0,
          3,
          2
         ],
         "intensity": [
          0,
          0.14285714285714285,
          0.2857142857142857,
          0.42857142857142855,
          0.5714285714285714,
          0.7142857142857142,
          0.8571428571428571,
          1
         ],
         "j": [
          3,
          4,
          1,
          2,
          5,
          6,
          5,
          2,
          0,
          1,
          6,
          3
         ],
         "k": [
          0,
          7,
          2,
          3,
          6,
          7,
          1,
          1,
          5,
          5,
          7,
          6
         ],
         "type": "mesh3d",
         "x": [
          75,
          75,
          454,
          454,
          75,
          75,
          454,
          454
         ],
         "y": [
          11,
          278,
          278,
          11,
          11,
          278,
          278,
          11
         ],
         "z": [
          59,
          59,
          59,
          59,
          972,
          972,
          972,
          972
         ]
        },
        {
         "colorbar": {
          "title": {
           "text": "z"
          }
         },
         "colorscale": [
          [
           0,
           "gold"
          ],
          [
           0.5,
           "mediumturquoise"
          ],
          [
           1,
           "magenta"
          ]
         ],
         "flatshading": true,
         "i": [
          7,
          0,
          0,
          0,
          4,
          4,
          6,
          6,
          4,
          0,
          3,
          2
         ],
         "intensity": [
          0,
          0.14285714285714285,
          0.2857142857142857,
          0.42857142857142855,
          0.5714285714285714,
          0.7142857142857142,
          0.8571428571428571,
          1
         ],
         "j": [
          3,
          4,
          1,
          2,
          5,
          6,
          5,
          2,
          0,
          1,
          6,
          3
         ],
         "k": [
          0,
          7,
          2,
          3,
          6,
          7,
          1,
          1,
          5,
          5,
          7,
          6
         ],
         "type": "mesh3d",
         "x": [
          75,
          75,
          454,
          454,
          75,
          75,
          454,
          454
         ],
         "y": [
          11,
          278,
          278,
          11,
          11,
          278,
          278,
          11
         ],
         "z": [
          59,
          59,
          59,
          59,
          972,
          972,
          972,
          972
         ]
        },
        {
         "colorbar": {
          "title": {
           "text": "z"
          }
         },
         "colorscale": [
          [
           0,
           "gold"
          ],
          [
           0.5,
           "mediumturquoise"
          ],
          [
           1,
           "magenta"
          ]
         ],
         "flatshading": true,
         "i": [
          7,
          0,
          0,
          0,
          4,
          4,
          6,
          6,
          4,
          0,
          3,
          2
         ],
         "intensity": [
          0,
          0.14285714285714285,
          0.2857142857142857,
          0.42857142857142855,
          0.5714285714285714,
          0.7142857142857142,
          0.8571428571428571,
          1
         ],
         "j": [
          3,
          4,
          1,
          2,
          5,
          6,
          5,
          2,
          0,
          1,
          6,
          3
         ],
         "k": [
          0,
          7,
          2,
          3,
          6,
          7,
          1,
          1,
          5,
          5,
          7,
          6
         ],
         "type": "mesh3d",
         "x": [
          75,
          75,
          454,
          454,
          75,
          75,
          454,
          454
         ],
         "y": [
          11,
          278,
          278,
          11,
          11,
          278,
          278,
          11
         ],
         "z": [
          59,
          59,
          59,
          59,
          972,
          972,
          972,
          972
         ]
        },
        {
         "colorbar": {
          "title": {
           "text": "z"
          }
         },
         "colorscale": [
          [
           0,
           "gold"
          ],
          [
           0.5,
           "mediumturquoise"
          ],
          [
           1,
           "magenta"
          ]
         ],
         "flatshading": true,
         "i": [
          7,
          0,
          0,
          0,
          4,
          4,
          6,
          6,
          4,
          0,
          3,
          2
         ],
         "intensity": [
          0,
          0.14285714285714285,
          0.2857142857142857,
          0.42857142857142855,
          0.5714285714285714,
          0.7142857142857142,
          0.8571428571428571,
          1
         ],
         "j": [
          3,
          4,
          1,
          2,
          5,
          6,
          5,
          2,
          0,
          1,
          6,
          3
         ],
         "k": [
          0,
          7,
          2,
          3,
          6,
          7,
          1,
          1,
          5,
          5,
          7,
          6
         ],
         "type": "mesh3d",
         "x": [
          75,
          75,
          454,
          454,
          75,
          75,
          454,
          454
         ],
         "y": [
          11,
          278,
          278,
          11,
          11,
          278,
          278,
          11
         ],
         "z": [
          59,
          59,
          59,
          59,
          972,
          972,
          972,
          972
         ]
        },
        {
         "colorbar": {
          "title": {
           "text": "z"
          }
         },
         "colorscale": [
          [
           0,
           "gold"
          ],
          [
           0.5,
           "mediumturquoise"
          ],
          [
           1,
           "magenta"
          ]
         ],
         "flatshading": true,
         "i": [
          7,
          0,
          0,
          0,
          4,
          4,
          6,
          6,
          4,
          0,
          3,
          2
         ],
         "intensity": [
          0,
          0.14285714285714285,
          0.2857142857142857,
          0.42857142857142855,
          0.5714285714285714,
          0.7142857142857142,
          0.8571428571428571,
          1
         ],
         "j": [
          3,
          4,
          1,
          2,
          5,
          6,
          5,
          2,
          0,
          1,
          6,
          3
         ],
         "k": [
          0,
          7,
          2,
          3,
          6,
          7,
          1,
          1,
          5,
          5,
          7,
          6
         ],
         "type": "mesh3d",
         "x": [
          75,
          75,
          454,
          454,
          75,
          75,
          454,
          454
         ],
         "y": [
          11,
          278,
          278,
          11,
          11,
          278,
          278,
          11
         ],
         "z": [
          59,
          59,
          59,
          59,
          972,
          972,
          972,
          972
         ]
        },
        {
         "colorbar": {
          "title": {
           "text": "z"
          }
         },
         "colorscale": [
          [
           0,
           "gold"
          ],
          [
           0.5,
           "mediumturquoise"
          ],
          [
           1,
           "magenta"
          ]
         ],
         "flatshading": true,
         "i": [
          7,
          0,
          0,
          0,
          4,
          4,
          6,
          6,
          4,
          0,
          3,
          2
         ],
         "intensity": [
          0,
          0.14285714285714285,
          0.2857142857142857,
          0.42857142857142855,
          0.5714285714285714,
          0.7142857142857142,
          0.8571428571428571,
          1
         ],
         "j": [
          3,
          4,
          1,
          2,
          5,
          6,
          5,
          2,
          0,
          1,
          6,
          3
         ],
         "k": [
          0,
          7,
          2,
          3,
          6,
          7,
          1,
          1,
          5,
          5,
          7,
          6
         ],
         "type": "mesh3d",
         "x": [
          75,
          75,
          454,
          454,
          75,
          75,
          454,
          454
         ],
         "y": [
          11,
          278,
          278,
          11,
          11,
          278,
          278,
          11
         ],
         "z": [
          59,
          59,
          59,
          59,
          972,
          972,
          972,
          972
         ]
        },
        {
         "colorbar": {
          "title": {
           "text": "z"
          }
         },
         "colorscale": [
          [
           0,
           "gold"
          ],
          [
           0.5,
           "mediumturquoise"
          ],
          [
           1,
           "magenta"
          ]
         ],
         "flatshading": true,
         "i": [
          7,
          0,
          0,
          0,
          4,
          4,
          6,
          6,
          4,
          0,
          3,
          2
         ],
         "intensity": [
          0,
          0.14285714285714285,
          0.2857142857142857,
          0.42857142857142855,
          0.5714285714285714,
          0.7142857142857142,
          0.8571428571428571,
          1
         ],
         "j": [
          3,
          4,
          1,
          2,
          5,
          6,
          5,
          2,
          0,
          1,
          6,
          3
         ],
         "k": [
          0,
          7,
          2,
          3,
          6,
          7,
          1,
          1,
          5,
          5,
          7,
          6
         ],
         "type": "mesh3d",
         "x": [
          75,
          75,
          454,
          454,
          75,
          75,
          454,
          454
         ],
         "y": [
          11,
          278,
          278,
          11,
          11,
          278,
          278,
          11
         ],
         "z": [
          59,
          59,
          59,
          59,
          972,
          972,
          972,
          972
         ]
        },
        {
         "colorbar": {
          "title": {
           "text": "z"
          }
         },
         "colorscale": [
          [
           0,
           "gold"
          ],
          [
           0.5,
           "mediumturquoise"
          ],
          [
           1,
           "magenta"
          ]
         ],
         "flatshading": true,
         "i": [
          7,
          0,
          0,
          0,
          4,
          4,
          6,
          6,
          4,
          0,
          3,
          2
         ],
         "intensity": [
          0,
          0.14285714285714285,
          0.2857142857142857,
          0.42857142857142855,
          0.5714285714285714,
          0.7142857142857142,
          0.8571428571428571,
          1
         ],
         "j": [
          3,
          4,
          1,
          2,
          5,
          6,
          5,
          2,
          0,
          1,
          6,
          3
         ],
         "k": [
          0,
          7,
          2,
          3,
          6,
          7,
          1,
          1,
          5,
          5,
          7,
          6
         ],
         "type": "mesh3d",
         "x": [
          75,
          75,
          454,
          454,
          75,
          75,
          454,
          454
         ],
         "y": [
          11,
          278,
          278,
          11,
          11,
          278,
          278,
          11
         ],
         "z": [
          59,
          59,
          59,
          59,
          972,
          972,
          972,
          972
         ]
        },
        {
         "colorbar": {
          "title": {
           "text": "z"
          }
         },
         "colorscale": [
          [
           0,
           "gold"
          ],
          [
           0.5,
           "mediumturquoise"
          ],
          [
           1,
           "magenta"
          ]
         ],
         "flatshading": true,
         "i": [
          7,
          0,
          0,
          0,
          4,
          4,
          6,
          6,
          4,
          0,
          3,
          2
         ],
         "intensity": [
          0,
          0.14285714285714285,
          0.2857142857142857,
          0.42857142857142855,
          0.5714285714285714,
          0.7142857142857142,
          0.8571428571428571,
          1
         ],
         "j": [
          3,
          4,
          1,
          2,
          5,
          6,
          5,
          2,
          0,
          1,
          6,
          3
         ],
         "k": [
          0,
          7,
          2,
          3,
          6,
          7,
          1,
          1,
          5,
          5,
          7,
          6
         ],
         "type": "mesh3d",
         "x": [
          75,
          75,
          454,
          454,
          75,
          75,
          454,
          454
         ],
         "y": [
          11,
          278,
          278,
          11,
          11,
          278,
          278,
          11
         ],
         "z": [
          59,
          59,
          59,
          59,
          972,
          972,
          972,
          972
         ]
        },
        {
         "colorbar": {
          "title": {
           "text": "z"
          }
         },
         "colorscale": [
          [
           0,
           "gold"
          ],
          [
           0.5,
           "mediumturquoise"
          ],
          [
           1,
           "magenta"
          ]
         ],
         "flatshading": true,
         "i": [
          7,
          0,
          0,
          0,
          4,
          4,
          6,
          6,
          4,
          0,
          3,
          2
         ],
         "intensity": [
          0,
          0.14285714285714285,
          0.2857142857142857,
          0.42857142857142855,
          0.5714285714285714,
          0.7142857142857142,
          0.8571428571428571,
          1
         ],
         "j": [
          3,
          4,
          1,
          2,
          5,
          6,
          5,
          2,
          0,
          1,
          6,
          3
         ],
         "k": [
          0,
          7,
          2,
          3,
          6,
          7,
          1,
          1,
          5,
          5,
          7,
          6
         ],
         "type": "mesh3d",
         "x": [
          114,
          114,
          360,
          360,
          114,
          114,
          360,
          360
         ],
         "y": [
          93,
          301,
          301,
          93,
          93,
          301,
          301,
          93
         ],
         "z": [
          11,
          11,
          11,
          11,
          833,
          833,
          833,
          833
         ]
        },
        {
         "colorbar": {
          "title": {
           "text": "z"
          }
         },
         "colorscale": [
          [
           0,
           "gold"
          ],
          [
           0.5,
           "mediumturquoise"
          ],
          [
           1,
           "magenta"
          ]
         ],
         "flatshading": true,
         "i": [
          7,
          0,
          0,
          0,
          4,
          4,
          6,
          6,
          4,
          0,
          3,
          2
         ],
         "intensity": [
          0,
          0.14285714285714285,
          0.2857142857142857,
          0.42857142857142855,
          0.5714285714285714,
          0.7142857142857142,
          0.8571428571428571,
          1
         ],
         "j": [
          3,
          4,
          1,
          2,
          5,
          6,
          5,
          2,
          0,
          1,
          6,
          3
         ],
         "k": [
          0,
          7,
          2,
          3,
          6,
          7,
          1,
          1,
          5,
          5,
          7,
          6
         ],
         "type": "mesh3d",
         "x": [
          114,
          114,
          360,
          360,
          114,
          114,
          360,
          360
         ],
         "y": [
          93,
          301,
          301,
          93,
          93,
          301,
          301,
          93
         ],
         "z": [
          11,
          11,
          11,
          11,
          833,
          833,
          833,
          833
         ]
        },
        {
         "colorbar": {
          "title": {
           "text": "z"
          }
         },
         "colorscale": [
          [
           0,
           "gold"
          ],
          [
           0.5,
           "mediumturquoise"
          ],
          [
           1,
           "magenta"
          ]
         ],
         "flatshading": true,
         "i": [
          7,
          0,
          0,
          0,
          4,
          4,
          6,
          6,
          4,
          0,
          3,
          2
         ],
         "intensity": [
          0,
          0.14285714285714285,
          0.2857142857142857,
          0.42857142857142855,
          0.5714285714285714,
          0.7142857142857142,
          0.8571428571428571,
          1
         ],
         "j": [
          3,
          4,
          1,
          2,
          5,
          6,
          5,
          2,
          0,
          1,
          6,
          3
         ],
         "k": [
          0,
          7,
          2,
          3,
          6,
          7,
          1,
          1,
          5,
          5,
          7,
          6
         ],
         "type": "mesh3d",
         "x": [
          114,
          114,
          360,
          360,
          114,
          114,
          360,
          360
         ],
         "y": [
          93,
          301,
          301,
          93,
          93,
          301,
          301,
          93
         ],
         "z": [
          11,
          11,
          11,
          11,
          833,
          833,
          833,
          833
         ]
        },
        {
         "colorbar": {
          "title": {
           "text": "z"
          }
         },
         "colorscale": [
          [
           0,
           "gold"
          ],
          [
           0.5,
           "mediumturquoise"
          ],
          [
           1,
           "magenta"
          ]
         ],
         "flatshading": true,
         "i": [
          7,
          0,
          0,
          0,
          4,
          4,
          6,
          6,
          4,
          0,
          3,
          2
         ],
         "intensity": [
          0,
          0.14285714285714285,
          0.2857142857142857,
          0.42857142857142855,
          0.5714285714285714,
          0.7142857142857142,
          0.8571428571428571,
          1
         ],
         "j": [
          3,
          4,
          1,
          2,
          5,
          6,
          5,
          2,
          0,
          1,
          6,
          3
         ],
         "k": [
          0,
          7,
          2,
          3,
          6,
          7,
          1,
          1,
          5,
          5,
          7,
          6
         ],
         "type": "mesh3d",
         "x": [
          114,
          114,
          360,
          360,
          114,
          114,
          360,
          360
         ],
         "y": [
          93,
          301,
          301,
          93,
          93,
          301,
          301,
          93
         ],
         "z": [
          11,
          11,
          11,
          11,
          833,
          833,
          833,
          833
         ]
        },
        {
         "colorbar": {
          "title": {
           "text": "z"
          }
         },
         "colorscale": [
          [
           0,
           "gold"
          ],
          [
           0.5,
           "mediumturquoise"
          ],
          [
           1,
           "magenta"
          ]
         ],
         "flatshading": true,
         "i": [
          7,
          0,
          0,
          0,
          4,
          4,
          6,
          6,
          4,
          0,
          3,
          2
         ],
         "intensity": [
          0,
          0.14285714285714285,
          0.2857142857142857,
          0.42857142857142855,
          0.5714285714285714,
          0.7142857142857142,
          0.8571428571428571,
          1
         ],
         "j": [
          3,
          4,
          1,
          2,
          5,
          6,
          5,
          2,
          0,
          1,
          6,
          3
         ],
         "k": [
          0,
          7,
          2,
          3,
          6,
          7,
          1,
          1,
          5,
          5,
          7,
          6
         ],
         "type": "mesh3d",
         "x": [
          114,
          114,
          360,
          360,
          114,
          114,
          360,
          360
         ],
         "y": [
          93,
          301,
          301,
          93,
          93,
          301,
          301,
          93
         ],
         "z": [
          11,
          11,
          11,
          11,
          833,
          833,
          833,
          833
         ]
        },
        {
         "colorbar": {
          "title": {
           "text": "z"
          }
         },
         "colorscale": [
          [
           0,
           "gold"
          ],
          [
           0.5,
           "mediumturquoise"
          ],
          [
           1,
           "magenta"
          ]
         ],
         "flatshading": true,
         "i": [
          7,
          0,
          0,
          0,
          4,
          4,
          6,
          6,
          4,
          0,
          3,
          2
         ],
         "intensity": [
          0,
          0.14285714285714285,
          0.2857142857142857,
          0.42857142857142855,
          0.5714285714285714,
          0.7142857142857142,
          0.8571428571428571,
          1
         ],
         "j": [
          3,
          4,
          1,
          2,
          5,
          6,
          5,
          2,
          0,
          1,
          6,
          3
         ],
         "k": [
          0,
          7,
          2,
          3,
          6,
          7,
          1,
          1,
          5,
          5,
          7,
          6
         ],
         "type": "mesh3d",
         "x": [
          114,
          114,
          360,
          360,
          114,
          114,
          360,
          360
         ],
         "y": [
          93,
          301,
          301,
          93,
          93,
          301,
          301,
          93
         ],
         "z": [
          11,
          11,
          11,
          11,
          833,
          833,
          833,
          833
         ]
        },
        {
         "colorbar": {
          "title": {
           "text": "z"
          }
         },
         "colorscale": [
          [
           0,
           "gold"
          ],
          [
           0.5,
           "mediumturquoise"
          ],
          [
           1,
           "magenta"
          ]
         ],
         "flatshading": true,
         "i": [
          7,
          0,
          0,
          0,
          4,
          4,
          6,
          6,
          4,
          0,
          3,
          2
         ],
         "intensity": [
          0,
          0.14285714285714285,
          0.2857142857142857,
          0.42857142857142855,
          0.5714285714285714,
          0.7142857142857142,
          0.8571428571428571,
          1
         ],
         "j": [
          3,
          4,
          1,
          2,
          5,
          6,
          5,
          2,
          0,
          1,
          6,
          3
         ],
         "k": [
          0,
          7,
          2,
          3,
          6,
          7,
          1,
          1,
          5,
          5,
          7,
          6
         ],
         "type": "mesh3d",
         "x": [
          114,
          114,
          360,
          360,
          114,
          114,
          360,
          360
         ],
         "y": [
          93,
          301,
          301,
          93,
          93,
          301,
          301,
          93
         ],
         "z": [
          11,
          11,
          11,
          11,
          833,
          833,
          833,
          833
         ]
        },
        {
         "colorbar": {
          "title": {
           "text": "z"
          }
         },
         "colorscale": [
          [
           0,
           "gold"
          ],
          [
           0.5,
           "mediumturquoise"
          ],
          [
           1,
           "magenta"
          ]
         ],
         "flatshading": true,
         "i": [
          7,
          0,
          0,
          0,
          4,
          4,
          6,
          6,
          4,
          0,
          3,
          2
         ],
         "intensity": [
          0,
          0.14285714285714285,
          0.2857142857142857,
          0.42857142857142855,
          0.5714285714285714,
          0.7142857142857142,
          0.8571428571428571,
          1
         ],
         "j": [
          3,
          4,
          1,
          2,
          5,
          6,
          5,
          2,
          0,
          1,
          6,
          3
         ],
         "k": [
          0,
          7,
          2,
          3,
          6,
          7,
          1,
          1,
          5,
          5,
          7,
          6
         ],
         "type": "mesh3d",
         "x": [
          114,
          114,
          360,
          360,
          114,
          114,
          360,
          360
         ],
         "y": [
          93,
          301,
          301,
          93,
          93,
          301,
          301,
          93
         ],
         "z": [
          11,
          11,
          11,
          11,
          833,
          833,
          833,
          833
         ]
        },
        {
         "colorbar": {
          "title": {
           "text": "z"
          }
         },
         "colorscale": [
          [
           0,
           "gold"
          ],
          [
           0.5,
           "mediumturquoise"
          ],
          [
           1,
           "magenta"
          ]
         ],
         "flatshading": true,
         "i": [
          7,
          0,
          0,
          0,
          4,
          4,
          6,
          6,
          4,
          0,
          3,
          2
         ],
         "intensity": [
          0,
          0.14285714285714285,
          0.2857142857142857,
          0.42857142857142855,
          0.5714285714285714,
          0.7142857142857142,
          0.8571428571428571,
          1
         ],
         "j": [
          3,
          4,
          1,
          2,
          5,
          6,
          5,
          2,
          0,
          1,
          6,
          3
         ],
         "k": [
          0,
          7,
          2,
          3,
          6,
          7,
          1,
          1,
          5,
          5,
          7,
          6
         ],
         "type": "mesh3d",
         "x": [
          114,
          114,
          360,
          360,
          114,
          114,
          360,
          360
         ],
         "y": [
          93,
          301,
          301,
          93,
          93,
          301,
          301,
          93
         ],
         "z": [
          11,
          11,
          11,
          11,
          833,
          833,
          833,
          833
         ]
        },
        {
         "colorbar": {
          "title": {
           "text": "z"
          }
         },
         "colorscale": [
          [
           0,
           "gold"
          ],
          [
           0.5,
           "mediumturquoise"
          ],
          [
           1,
           "magenta"
          ]
         ],
         "flatshading": true,
         "i": [
          7,
          0,
          0,
          0,
          4,
          4,
          6,
          6,
          4,
          0,
          3,
          2
         ],
         "intensity": [
          0,
          0.14285714285714285,
          0.2857142857142857,
          0.42857142857142855,
          0.5714285714285714,
          0.7142857142857142,
          0.8571428571428571,
          1
         ],
         "j": [
          3,
          4,
          1,
          2,
          5,
          6,
          5,
          2,
          0,
          1,
          6,
          3
         ],
         "k": [
          0,
          7,
          2,
          3,
          6,
          7,
          1,
          1,
          5,
          5,
          7,
          6
         ],
         "type": "mesh3d",
         "x": [
          114,
          114,
          360,
          360,
          114,
          114,
          360,
          360
         ],
         "y": [
          93,
          301,
          301,
          93,
          93,
          301,
          301,
          93
         ],
         "z": [
          11,
          11,
          11,
          11,
          833,
          833,
          833,
          833
         ]
        },
        {
         "colorbar": {
          "title": {
           "text": "z"
          }
         },
         "colorscale": [
          [
           0,
           "gold"
          ],
          [
           0.5,
           "mediumturquoise"
          ],
          [
           1,
           "magenta"
          ]
         ],
         "flatshading": true,
         "i": [
          7,
          0,
          0,
          0,
          4,
          4,
          6,
          6,
          4,
          0,
          3,
          2
         ],
         "intensity": [
          0,
          0.14285714285714285,
          0.2857142857142857,
          0.42857142857142855,
          0.5714285714285714,
          0.7142857142857142,
          0.8571428571428571,
          1
         ],
         "j": [
          3,
          4,
          1,
          2,
          5,
          6,
          5,
          2,
          0,
          1,
          6,
          3
         ],
         "k": [
          0,
          7,
          2,
          3,
          6,
          7,
          1,
          1,
          5,
          5,
          7,
          6
         ],
         "type": "mesh3d",
         "x": [
          31,
          31,
          492,
          492,
          31,
          31,
          492,
          492
         ],
         "y": [
          69,
          352,
          352,
          69,
          69,
          352,
          352,
          69
         ],
         "z": [
          46,
          46,
          46,
          46,
          489,
          489,
          489,
          489
         ]
        },
        {
         "colorbar": {
          "title": {
           "text": "z"
          }
         },
         "colorscale": [
          [
           0,
           "gold"
          ],
          [
           0.5,
           "mediumturquoise"
          ],
          [
           1,
           "magenta"
          ]
         ],
         "flatshading": true,
         "i": [
          7,
          0,
          0,
          0,
          4,
          4,
          6,
          6,
          4,
          0,
          3,
          2
         ],
         "intensity": [
          0,
          0.14285714285714285,
          0.2857142857142857,
          0.42857142857142855,
          0.5714285714285714,
          0.7142857142857142,
          0.8571428571428571,
          1
         ],
         "j": [
          3,
          4,
          1,
          2,
          5,
          6,
          5,
          2,
          0,
          1,
          6,
          3
         ],
         "k": [
          0,
          7,
          2,
          3,
          6,
          7,
          1,
          1,
          5,
          5,
          7,
          6
         ],
         "type": "mesh3d",
         "x": [
          31,
          31,
          492,
          492,
          31,
          31,
          492,
          492
         ],
         "y": [
          69,
          352,
          352,
          69,
          69,
          352,
          352,
          69
         ],
         "z": [
          46,
          46,
          46,
          46,
          489,
          489,
          489,
          489
         ]
        },
        {
         "colorbar": {
          "title": {
           "text": "z"
          }
         },
         "colorscale": [
          [
           0,
           "gold"
          ],
          [
           0.5,
           "mediumturquoise"
          ],
          [
           1,
           "magenta"
          ]
         ],
         "flatshading": true,
         "i": [
          7,
          0,
          0,
          0,
          4,
          4,
          6,
          6,
          4,
          0,
          3,
          2
         ],
         "intensity": [
          0,
          0.14285714285714285,
          0.2857142857142857,
          0.42857142857142855,
          0.5714285714285714,
          0.7142857142857142,
          0.8571428571428571,
          1
         ],
         "j": [
          3,
          4,
          1,
          2,
          5,
          6,
          5,
          2,
          0,
          1,
          6,
          3
         ],
         "k": [
          0,
          7,
          2,
          3,
          6,
          7,
          1,
          1,
          5,
          5,
          7,
          6
         ],
         "type": "mesh3d",
         "x": [
          31,
          31,
          492,
          492,
          31,
          31,
          492,
          492
         ],
         "y": [
          69,
          352,
          352,
          69,
          69,
          352,
          352,
          69
         ],
         "z": [
          46,
          46,
          46,
          46,
          489,
          489,
          489,
          489
         ]
        },
        {
         "colorbar": {
          "title": {
           "text": "z"
          }
         },
         "colorscale": [
          [
           0,
           "gold"
          ],
          [
           0.5,
           "mediumturquoise"
          ],
          [
           1,
           "magenta"
          ]
         ],
         "flatshading": true,
         "i": [
          7,
          0,
          0,
          0,
          4,
          4,
          6,
          6,
          4,
          0,
          3,
          2
         ],
         "intensity": [
          0,
          0.14285714285714285,
          0.2857142857142857,
          0.42857142857142855,
          0.5714285714285714,
          0.7142857142857142,
          0.8571428571428571,
          1
         ],
         "j": [
          3,
          4,
          1,
          2,
          5,
          6,
          5,
          2,
          0,
          1,
          6,
          3
         ],
         "k": [
          0,
          7,
          2,
          3,
          6,
          7,
          1,
          1,
          5,
          5,
          7,
          6
         ],
         "type": "mesh3d",
         "x": [
          31,
          31,
          492,
          492,
          31,
          31,
          492,
          492
         ],
         "y": [
          69,
          352,
          352,
          69,
          69,
          352,
          352,
          69
         ],
         "z": [
          46,
          46,
          46,
          46,
          489,
          489,
          489,
          489
         ]
        },
        {
         "colorbar": {
          "title": {
           "text": "z"
          }
         },
         "colorscale": [
          [
           0,
           "gold"
          ],
          [
           0.5,
           "mediumturquoise"
          ],
          [
           1,
           "magenta"
          ]
         ],
         "flatshading": true,
         "i": [
          7,
          0,
          0,
          0,
          4,
          4,
          6,
          6,
          4,
          0,
          3,
          2
         ],
         "intensity": [
          0,
          0.14285714285714285,
          0.2857142857142857,
          0.42857142857142855,
          0.5714285714285714,
          0.7142857142857142,
          0.8571428571428571,
          1
         ],
         "j": [
          3,
          4,
          1,
          2,
          5,
          6,
          5,
          2,
          0,
          1,
          6,
          3
         ],
         "k": [
          0,
          7,
          2,
          3,
          6,
          7,
          1,
          1,
          5,
          5,
          7,
          6
         ],
         "type": "mesh3d",
         "x": [
          31,
          31,
          492,
          492,
          31,
          31,
          492,
          492
         ],
         "y": [
          69,
          352,
          352,
          69,
          69,
          352,
          352,
          69
         ],
         "z": [
          46,
          46,
          46,
          46,
          489,
          489,
          489,
          489
         ]
        },
        {
         "colorbar": {
          "title": {
           "text": "z"
          }
         },
         "colorscale": [
          [
           0,
           "gold"
          ],
          [
           0.5,
           "mediumturquoise"
          ],
          [
           1,
           "magenta"
          ]
         ],
         "flatshading": true,
         "i": [
          7,
          0,
          0,
          0,
          4,
          4,
          6,
          6,
          4,
          0,
          3,
          2
         ],
         "intensity": [
          0,
          0.14285714285714285,
          0.2857142857142857,
          0.42857142857142855,
          0.5714285714285714,
          0.7142857142857142,
          0.8571428571428571,
          1
         ],
         "j": [
          3,
          4,
          1,
          2,
          5,
          6,
          5,
          2,
          0,
          1,
          6,
          3
         ],
         "k": [
          0,
          7,
          2,
          3,
          6,
          7,
          1,
          1,
          5,
          5,
          7,
          6
         ],
         "type": "mesh3d",
         "x": [
          31,
          31,
          492,
          492,
          31,
          31,
          492,
          492
         ],
         "y": [
          69,
          352,
          352,
          69,
          69,
          352,
          352,
          69
         ],
         "z": [
          46,
          46,
          46,
          46,
          489,
          489,
          489,
          489
         ]
        },
        {
         "colorbar": {
          "title": {
           "text": "z"
          }
         },
         "colorscale": [
          [
           0,
           "gold"
          ],
          [
           0.5,
           "mediumturquoise"
          ],
          [
           1,
           "magenta"
          ]
         ],
         "flatshading": true,
         "i": [
          7,
          0,
          0,
          0,
          4,
          4,
          6,
          6,
          4,
          0,
          3,
          2
         ],
         "intensity": [
          0,
          0.14285714285714285,
          0.2857142857142857,
          0.42857142857142855,
          0.5714285714285714,
          0.7142857142857142,
          0.8571428571428571,
          1
         ],
         "j": [
          3,
          4,
          1,
          2,
          5,
          6,
          5,
          2,
          0,
          1,
          6,
          3
         ],
         "k": [
          0,
          7,
          2,
          3,
          6,
          7,
          1,
          1,
          5,
          5,
          7,
          6
         ],
         "type": "mesh3d",
         "x": [
          31,
          31,
          492,
          492,
          31,
          31,
          492,
          492
         ],
         "y": [
          69,
          352,
          352,
          69,
          69,
          352,
          352,
          69
         ],
         "z": [
          46,
          46,
          46,
          46,
          489,
          489,
          489,
          489
         ]
        },
        {
         "colorbar": {
          "title": {
           "text": "z"
          }
         },
         "colorscale": [
          [
           0,
           "gold"
          ],
          [
           0.5,
           "mediumturquoise"
          ],
          [
           1,
           "magenta"
          ]
         ],
         "flatshading": true,
         "i": [
          7,
          0,
          0,
          0,
          4,
          4,
          6,
          6,
          4,
          0,
          3,
          2
         ],
         "intensity": [
          0,
          0.14285714285714285,
          0.2857142857142857,
          0.42857142857142855,
          0.5714285714285714,
          0.7142857142857142,
          0.8571428571428571,
          1
         ],
         "j": [
          3,
          4,
          1,
          2,
          5,
          6,
          5,
          2,
          0,
          1,
          6,
          3
         ],
         "k": [
          0,
          7,
          2,
          3,
          6,
          7,
          1,
          1,
          5,
          5,
          7,
          6
         ],
         "type": "mesh3d",
         "x": [
          31,
          31,
          492,
          492,
          31,
          31,
          492,
          492
         ],
         "y": [
          69,
          352,
          352,
          69,
          69,
          352,
          352,
          69
         ],
         "z": [
          46,
          46,
          46,
          46,
          489,
          489,
          489,
          489
         ]
        },
        {
         "colorbar": {
          "title": {
           "text": "z"
          }
         },
         "colorscale": [
          [
           0,
           "gold"
          ],
          [
           0.5,
           "mediumturquoise"
          ],
          [
           1,
           "magenta"
          ]
         ],
         "flatshading": true,
         "i": [
          7,
          0,
          0,
          0,
          4,
          4,
          6,
          6,
          4,
          0,
          3,
          2
         ],
         "intensity": [
          0,
          0.14285714285714285,
          0.2857142857142857,
          0.42857142857142855,
          0.5714285714285714,
          0.7142857142857142,
          0.8571428571428571,
          1
         ],
         "j": [
          3,
          4,
          1,
          2,
          5,
          6,
          5,
          2,
          0,
          1,
          6,
          3
         ],
         "k": [
          0,
          7,
          2,
          3,
          6,
          7,
          1,
          1,
          5,
          5,
          7,
          6
         ],
         "type": "mesh3d",
         "x": [
          31,
          31,
          492,
          492,
          31,
          31,
          492,
          492
         ],
         "y": [
          69,
          352,
          352,
          69,
          69,
          352,
          352,
          69
         ],
         "z": [
          46,
          46,
          46,
          46,
          489,
          489,
          489,
          489
         ]
        },
        {
         "colorbar": {
          "title": {
           "text": "z"
          }
         },
         "colorscale": [
          [
           0,
           "gold"
          ],
          [
           0.5,
           "mediumturquoise"
          ],
          [
           1,
           "magenta"
          ]
         ],
         "flatshading": true,
         "i": [
          7,
          0,
          0,
          0,
          4,
          4,
          6,
          6,
          4,
          0,
          3,
          2
         ],
         "intensity": [
          0,
          0.14285714285714285,
          0.2857142857142857,
          0.42857142857142855,
          0.5714285714285714,
          0.7142857142857142,
          0.8571428571428571,
          1
         ],
         "j": [
          3,
          4,
          1,
          2,
          5,
          6,
          5,
          2,
          0,
          1,
          6,
          3
         ],
         "k": [
          0,
          7,
          2,
          3,
          6,
          7,
          1,
          1,
          5,
          5,
          7,
          6
         ],
         "type": "mesh3d",
         "x": [
          31,
          31,
          492,
          492,
          31,
          31,
          492,
          492
         ],
         "y": [
          69,
          352,
          352,
          69,
          69,
          352,
          352,
          69
         ],
         "z": [
          46,
          46,
          46,
          46,
          489,
          489,
          489,
          489
         ]
        },
        {
         "colorbar": {
          "title": {
           "text": "z"
          }
         },
         "colorscale": [
          [
           0,
           "gold"
          ],
          [
           0.5,
           "mediumturquoise"
          ],
          [
           1,
           "magenta"
          ]
         ],
         "flatshading": true,
         "i": [
          7,
          0,
          0,
          0,
          4,
          4,
          6,
          6,
          4,
          0,
          3,
          2
         ],
         "intensity": [
          0,
          0.14285714285714285,
          0.2857142857142857,
          0.42857142857142855,
          0.5714285714285714,
          0.7142857142857142,
          0.8571428571428571,
          1
         ],
         "j": [
          3,
          4,
          1,
          2,
          5,
          6,
          5,
          2,
          0,
          1,
          6,
          3
         ],
         "k": [
          0,
          7,
          2,
          3,
          6,
          7,
          1,
          1,
          5,
          5,
          7,
          6
         ],
         "type": "mesh3d",
         "x": [
          31,
          31,
          492,
          492,
          31,
          31,
          492,
          492
         ],
         "y": [
          69,
          352,
          352,
          69,
          69,
          352,
          352,
          69
         ],
         "z": [
          46,
          46,
          46,
          46,
          489,
          489,
          489,
          489
         ]
        },
        {
         "colorbar": {
          "title": {
           "text": "z"
          }
         },
         "colorscale": [
          [
           0,
           "gold"
          ],
          [
           0.5,
           "mediumturquoise"
          ],
          [
           1,
           "magenta"
          ]
         ],
         "flatshading": true,
         "i": [
          7,
          0,
          0,
          0,
          4,
          4,
          6,
          6,
          4,
          0,
          3,
          2
         ],
         "intensity": [
          0,
          0.14285714285714285,
          0.2857142857142857,
          0.42857142857142855,
          0.5714285714285714,
          0.7142857142857142,
          0.8571428571428571,
          1
         ],
         "j": [
          3,
          4,
          1,
          2,
          5,
          6,
          5,
          2,
          0,
          1,
          6,
          3
         ],
         "k": [
          0,
          7,
          2,
          3,
          6,
          7,
          1,
          1,
          5,
          5,
          7,
          6
         ],
         "type": "mesh3d",
         "x": [
          117,
          117,
          703,
          703,
          117,
          117,
          703,
          703
         ],
         "y": [
          80,
          244,
          244,
          80,
          80,
          244,
          244,
          80
         ],
         "z": [
          89,
          89,
          89,
          89,
          923,
          923,
          923,
          923
         ]
        },
        {
         "colorbar": {
          "title": {
           "text": "z"
          }
         },
         "colorscale": [
          [
           0,
           "gold"
          ],
          [
           0.5,
           "mediumturquoise"
          ],
          [
           1,
           "magenta"
          ]
         ],
         "flatshading": true,
         "i": [
          7,
          0,
          0,
          0,
          4,
          4,
          6,
          6,
          4,
          0,
          3,
          2
         ],
         "intensity": [
          0,
          0.14285714285714285,
          0.2857142857142857,
          0.42857142857142855,
          0.5714285714285714,
          0.7142857142857142,
          0.8571428571428571,
          1
         ],
         "j": [
          3,
          4,
          1,
          2,
          5,
          6,
          5,
          2,
          0,
          1,
          6,
          3
         ],
         "k": [
          0,
          7,
          2,
          3,
          6,
          7,
          1,
          1,
          5,
          5,
          7,
          6
         ],
         "type": "mesh3d",
         "x": [
          117,
          117,
          703,
          703,
          117,
          117,
          703,
          703
         ],
         "y": [
          80,
          244,
          244,
          80,
          80,
          244,
          244,
          80
         ],
         "z": [
          89,
          89,
          89,
          89,
          923,
          923,
          923,
          923
         ]
        },
        {
         "colorbar": {
          "title": {
           "text": "z"
          }
         },
         "colorscale": [
          [
           0,
           "gold"
          ],
          [
           0.5,
           "mediumturquoise"
          ],
          [
           1,
           "magenta"
          ]
         ],
         "flatshading": true,
         "i": [
          7,
          0,
          0,
          0,
          4,
          4,
          6,
          6,
          4,
          0,
          3,
          2
         ],
         "intensity": [
          0,
          0.14285714285714285,
          0.2857142857142857,
          0.42857142857142855,
          0.5714285714285714,
          0.7142857142857142,
          0.8571428571428571,
          1
         ],
         "j": [
          3,
          4,
          1,
          2,
          5,
          6,
          5,
          2,
          0,
          1,
          6,
          3
         ],
         "k": [
          0,
          7,
          2,
          3,
          6,
          7,
          1,
          1,
          5,
          5,
          7,
          6
         ],
         "type": "mesh3d",
         "x": [
          117,
          117,
          703,
          703,
          117,
          117,
          703,
          703
         ],
         "y": [
          80,
          244,
          244,
          80,
          80,
          244,
          244,
          80
         ],
         "z": [
          89,
          89,
          89,
          89,
          923,
          923,
          923,
          923
         ]
        },
        {
         "colorbar": {
          "title": {
           "text": "z"
          }
         },
         "colorscale": [
          [
           0,
           "gold"
          ],
          [
           0.5,
           "mediumturquoise"
          ],
          [
           1,
           "magenta"
          ]
         ],
         "flatshading": true,
         "i": [
          7,
          0,
          0,
          0,
          4,
          4,
          6,
          6,
          4,
          0,
          3,
          2
         ],
         "intensity": [
          0,
          0.14285714285714285,
          0.2857142857142857,
          0.42857142857142855,
          0.5714285714285714,
          0.7142857142857142,
          0.8571428571428571,
          1
         ],
         "j": [
          3,
          4,
          1,
          2,
          5,
          6,
          5,
          2,
          0,
          1,
          6,
          3
         ],
         "k": [
          0,
          7,
          2,
          3,
          6,
          7,
          1,
          1,
          5,
          5,
          7,
          6
         ],
         "type": "mesh3d",
         "x": [
          117,
          117,
          703,
          703,
          117,
          117,
          703,
          703
         ],
         "y": [
          80,
          244,
          244,
          80,
          80,
          244,
          244,
          80
         ],
         "z": [
          89,
          89,
          89,
          89,
          923,
          923,
          923,
          923
         ]
        },
        {
         "colorbar": {
          "title": {
           "text": "z"
          }
         },
         "colorscale": [
          [
           0,
           "gold"
          ],
          [
           0.5,
           "mediumturquoise"
          ],
          [
           1,
           "magenta"
          ]
         ],
         "flatshading": true,
         "i": [
          7,
          0,
          0,
          0,
          4,
          4,
          6,
          6,
          4,
          0,
          3,
          2
         ],
         "intensity": [
          0,
          0.14285714285714285,
          0.2857142857142857,
          0.42857142857142855,
          0.5714285714285714,
          0.7142857142857142,
          0.8571428571428571,
          1
         ],
         "j": [
          3,
          4,
          1,
          2,
          5,
          6,
          5,
          2,
          0,
          1,
          6,
          3
         ],
         "k": [
          0,
          7,
          2,
          3,
          6,
          7,
          1,
          1,
          5,
          5,
          7,
          6
         ],
         "type": "mesh3d",
         "x": [
          117,
          117,
          703,
          703,
          117,
          117,
          703,
          703
         ],
         "y": [
          80,
          244,
          244,
          80,
          80,
          244,
          244,
          80
         ],
         "z": [
          89,
          89,
          89,
          89,
          923,
          923,
          923,
          923
         ]
        },
        {
         "colorbar": {
          "title": {
           "text": "z"
          }
         },
         "colorscale": [
          [
           0,
           "gold"
          ],
          [
           0.5,
           "mediumturquoise"
          ],
          [
           1,
           "magenta"
          ]
         ],
         "flatshading": true,
         "i": [
          7,
          0,
          0,
          0,
          4,
          4,
          6,
          6,
          4,
          0,
          3,
          2
         ],
         "intensity": [
          0,
          0.14285714285714285,
          0.2857142857142857,
          0.42857142857142855,
          0.5714285714285714,
          0.7142857142857142,
          0.8571428571428571,
          1
         ],
         "j": [
          3,
          4,
          1,
          2,
          5,
          6,
          5,
          2,
          0,
          1,
          6,
          3
         ],
         "k": [
          0,
          7,
          2,
          3,
          6,
          7,
          1,
          1,
          5,
          5,
          7,
          6
         ],
         "type": "mesh3d",
         "x": [
          117,
          117,
          703,
          703,
          117,
          117,
          703,
          703
         ],
         "y": [
          80,
          244,
          244,
          80,
          80,
          244,
          244,
          80
         ],
         "z": [
          89,
          89,
          89,
          89,
          923,
          923,
          923,
          923
         ]
        },
        {
         "colorbar": {
          "title": {
           "text": "z"
          }
         },
         "colorscale": [
          [
           0,
           "gold"
          ],
          [
           0.5,
           "mediumturquoise"
          ],
          [
           1,
           "magenta"
          ]
         ],
         "flatshading": true,
         "i": [
          7,
          0,
          0,
          0,
          4,
          4,
          6,
          6,
          4,
          0,
          3,
          2
         ],
         "intensity": [
          0,
          0.14285714285714285,
          0.2857142857142857,
          0.42857142857142855,
          0.5714285714285714,
          0.7142857142857142,
          0.8571428571428571,
          1
         ],
         "j": [
          3,
          4,
          1,
          2,
          5,
          6,
          5,
          2,
          0,
          1,
          6,
          3
         ],
         "k": [
          0,
          7,
          2,
          3,
          6,
          7,
          1,
          1,
          5,
          5,
          7,
          6
         ],
         "type": "mesh3d",
         "x": [
          117,
          117,
          703,
          703,
          117,
          117,
          703,
          703
         ],
         "y": [
          80,
          244,
          244,
          80,
          80,
          244,
          244,
          80
         ],
         "z": [
          89,
          89,
          89,
          89,
          923,
          923,
          923,
          923
         ]
        },
        {
         "colorbar": {
          "title": {
           "text": "z"
          }
         },
         "colorscale": [
          [
           0,
           "gold"
          ],
          [
           0.5,
           "mediumturquoise"
          ],
          [
           1,
           "magenta"
          ]
         ],
         "flatshading": true,
         "i": [
          7,
          0,
          0,
          0,
          4,
          4,
          6,
          6,
          4,
          0,
          3,
          2
         ],
         "intensity": [
          0,
          0.14285714285714285,
          0.2857142857142857,
          0.42857142857142855,
          0.5714285714285714,
          0.7142857142857142,
          0.8571428571428571,
          1
         ],
         "j": [
          3,
          4,
          1,
          2,
          5,
          6,
          5,
          2,
          0,
          1,
          6,
          3
         ],
         "k": [
          0,
          7,
          2,
          3,
          6,
          7,
          1,
          1,
          5,
          5,
          7,
          6
         ],
         "type": "mesh3d",
         "x": [
          117,
          117,
          703,
          703,
          117,
          117,
          703,
          703
         ],
         "y": [
          80,
          244,
          244,
          80,
          80,
          244,
          244,
          80
         ],
         "z": [
          89,
          89,
          89,
          89,
          923,
          923,
          923,
          923
         ]
        },
        {
         "colorbar": {
          "title": {
           "text": "z"
          }
         },
         "colorscale": [
          [
           0,
           "gold"
          ],
          [
           0.5,
           "mediumturquoise"
          ],
          [
           1,
           "magenta"
          ]
         ],
         "flatshading": true,
         "i": [
          7,
          0,
          0,
          0,
          4,
          4,
          6,
          6,
          4,
          0,
          3,
          2
         ],
         "intensity": [
          0,
          0.14285714285714285,
          0.2857142857142857,
          0.42857142857142855,
          0.5714285714285714,
          0.7142857142857142,
          0.8571428571428571,
          1
         ],
         "j": [
          3,
          4,
          1,
          2,
          5,
          6,
          5,
          2,
          0,
          1,
          6,
          3
         ],
         "k": [
          0,
          7,
          2,
          3,
          6,
          7,
          1,
          1,
          5,
          5,
          7,
          6
         ],
         "type": "mesh3d",
         "x": [
          117,
          117,
          703,
          703,
          117,
          117,
          703,
          703
         ],
         "y": [
          80,
          244,
          244,
          80,
          80,
          244,
          244,
          80
         ],
         "z": [
          89,
          89,
          89,
          89,
          923,
          923,
          923,
          923
         ]
        },
        {
         "colorbar": {
          "title": {
           "text": "z"
          }
         },
         "colorscale": [
          [
           0,
           "gold"
          ],
          [
           0.5,
           "mediumturquoise"
          ],
          [
           1,
           "magenta"
          ]
         ],
         "flatshading": true,
         "i": [
          7,
          0,
          0,
          0,
          4,
          4,
          6,
          6,
          4,
          0,
          3,
          2
         ],
         "intensity": [
          0,
          0.14285714285714285,
          0.2857142857142857,
          0.42857142857142855,
          0.5714285714285714,
          0.7142857142857142,
          0.8571428571428571,
          1
         ],
         "j": [
          3,
          4,
          1,
          2,
          5,
          6,
          5,
          2,
          0,
          1,
          6,
          3
         ],
         "k": [
          0,
          7,
          2,
          3,
          6,
          7,
          1,
          1,
          5,
          5,
          7,
          6
         ],
         "type": "mesh3d",
         "x": [
          117,
          117,
          703,
          703,
          117,
          117,
          703,
          703
         ],
         "y": [
          80,
          244,
          244,
          80,
          80,
          244,
          244,
          80
         ],
         "z": [
          89,
          89,
          89,
          89,
          923,
          923,
          923,
          923
         ]
        },
        {
         "colorbar": {
          "title": {
           "text": "z"
          }
         },
         "colorscale": [
          [
           0,
           "gold"
          ],
          [
           0.5,
           "mediumturquoise"
          ],
          [
           1,
           "magenta"
          ]
         ],
         "flatshading": true,
         "i": [
          7,
          0,
          0,
          0,
          4,
          4,
          6,
          6,
          4,
          0,
          3,
          2
         ],
         "intensity": [
          0,
          0.14285714285714285,
          0.2857142857142857,
          0.42857142857142855,
          0.5714285714285714,
          0.7142857142857142,
          0.8571428571428571,
          1
         ],
         "j": [
          3,
          4,
          1,
          2,
          5,
          6,
          5,
          2,
          0,
          1,
          6,
          3
         ],
         "k": [
          0,
          7,
          2,
          3,
          6,
          7,
          1,
          1,
          5,
          5,
          7,
          6
         ],
         "type": "mesh3d",
         "x": [
          201,
          201,
          373,
          373,
          201,
          201,
          373,
          373
         ],
         "y": [
          81,
          202,
          202,
          81,
          81,
          202,
          202,
          81
         ],
         "z": [
          106,
          106,
          106,
          106,
          687,
          687,
          687,
          687
         ]
        },
        {
         "colorbar": {
          "title": {
           "text": "z"
          }
         },
         "colorscale": [
          [
           0,
           "gold"
          ],
          [
           0.5,
           "mediumturquoise"
          ],
          [
           1,
           "magenta"
          ]
         ],
         "flatshading": true,
         "i": [
          7,
          0,
          0,
          0,
          4,
          4,
          6,
          6,
          4,
          0,
          3,
          2
         ],
         "intensity": [
          0,
          0.14285714285714285,
          0.2857142857142857,
          0.42857142857142855,
          0.5714285714285714,
          0.7142857142857142,
          0.8571428571428571,
          1
         ],
         "j": [
          3,
          4,
          1,
          2,
          5,
          6,
          5,
          2,
          0,
          1,
          6,
          3
         ],
         "k": [
          0,
          7,
          2,
          3,
          6,
          7,
          1,
          1,
          5,
          5,
          7,
          6
         ],
         "type": "mesh3d",
         "x": [
          135,
          135,
          385,
          385,
          135,
          135,
          385,
          385
         ],
         "y": [
          28,
          982,
          982,
          28,
          28,
          982,
          982,
          28
         ],
         "z": [
          100,
          100,
          100,
          100,
          631,
          631,
          631,
          631
         ]
        },
        {
         "colorbar": {
          "title": {
           "text": "z"
          }
         },
         "colorscale": [
          [
           0,
           "gold"
          ],
          [
           0.5,
           "mediumturquoise"
          ],
          [
           1,
           "magenta"
          ]
         ],
         "flatshading": true,
         "i": [
          7,
          0,
          0,
          0,
          4,
          4,
          6,
          6,
          4,
          0,
          3,
          2
         ],
         "intensity": [
          0,
          0.14285714285714285,
          0.2857142857142857,
          0.42857142857142855,
          0.5714285714285714,
          0.7142857142857142,
          0.8571428571428571,
          1
         ],
         "j": [
          3,
          4,
          1,
          2,
          5,
          6,
          5,
          2,
          0,
          1,
          6,
          3
         ],
         "k": [
          0,
          7,
          2,
          3,
          6,
          7,
          1,
          1,
          5,
          5,
          7,
          6
         ],
         "type": "mesh3d",
         "x": [
          135,
          135,
          385,
          385,
          135,
          135,
          385,
          385
         ],
         "y": [
          28,
          982,
          982,
          28,
          28,
          982,
          982,
          28
         ],
         "z": [
          100,
          100,
          100,
          100,
          631,
          631,
          631,
          631
         ]
        },
        {
         "colorbar": {
          "title": {
           "text": "z"
          }
         },
         "colorscale": [
          [
           0,
           "gold"
          ],
          [
           0.5,
           "mediumturquoise"
          ],
          [
           1,
           "magenta"
          ]
         ],
         "flatshading": true,
         "i": [
          7,
          0,
          0,
          0,
          4,
          4,
          6,
          6,
          4,
          0,
          3,
          2
         ],
         "intensity": [
          0,
          0.14285714285714285,
          0.2857142857142857,
          0.42857142857142855,
          0.5714285714285714,
          0.7142857142857142,
          0.8571428571428571,
          1
         ],
         "j": [
          3,
          4,
          1,
          2,
          5,
          6,
          5,
          2,
          0,
          1,
          6,
          3
         ],
         "k": [
          0,
          7,
          2,
          3,
          6,
          7,
          1,
          1,
          5,
          5,
          7,
          6
         ],
         "type": "mesh3d",
         "x": [
          135,
          135,
          385,
          385,
          135,
          135,
          385,
          385
         ],
         "y": [
          28,
          982,
          982,
          28,
          28,
          982,
          982,
          28
         ],
         "z": [
          100,
          100,
          100,
          100,
          631,
          631,
          631,
          631
         ]
        },
        {
         "colorbar": {
          "title": {
           "text": "z"
          }
         },
         "colorscale": [
          [
           0,
           "gold"
          ],
          [
           0.5,
           "mediumturquoise"
          ],
          [
           1,
           "magenta"
          ]
         ],
         "flatshading": true,
         "i": [
          7,
          0,
          0,
          0,
          4,
          4,
          6,
          6,
          4,
          0,
          3,
          2
         ],
         "intensity": [
          0,
          0.14285714285714285,
          0.2857142857142857,
          0.42857142857142855,
          0.5714285714285714,
          0.7142857142857142,
          0.8571428571428571,
          1
         ],
         "j": [
          3,
          4,
          1,
          2,
          5,
          6,
          5,
          2,
          0,
          1,
          6,
          3
         ],
         "k": [
          0,
          7,
          2,
          3,
          6,
          7,
          1,
          1,
          5,
          5,
          7,
          6
         ],
         "type": "mesh3d",
         "x": [
          135,
          135,
          385,
          385,
          135,
          135,
          385,
          385
         ],
         "y": [
          28,
          982,
          982,
          28,
          28,
          982,
          982,
          28
         ],
         "z": [
          100,
          100,
          100,
          100,
          631,
          631,
          631,
          631
         ]
        },
        {
         "colorbar": {
          "title": {
           "text": "z"
          }
         },
         "colorscale": [
          [
           0,
           "gold"
          ],
          [
           0.5,
           "mediumturquoise"
          ],
          [
           1,
           "magenta"
          ]
         ],
         "flatshading": true,
         "i": [
          7,
          0,
          0,
          0,
          4,
          4,
          6,
          6,
          4,
          0,
          3,
          2
         ],
         "intensity": [
          0,
          0.14285714285714285,
          0.2857142857142857,
          0.42857142857142855,
          0.5714285714285714,
          0.7142857142857142,
          0.8571428571428571,
          1
         ],
         "j": [
          3,
          4,
          1,
          2,
          5,
          6,
          5,
          2,
          0,
          1,
          6,
          3
         ],
         "k": [
          0,
          7,
          2,
          3,
          6,
          7,
          1,
          1,
          5,
          5,
          7,
          6
         ],
         "type": "mesh3d",
         "x": [
          135,
          135,
          385,
          385,
          135,
          135,
          385,
          385
         ],
         "y": [
          28,
          982,
          982,
          28,
          28,
          982,
          982,
          28
         ],
         "z": [
          100,
          100,
          100,
          100,
          631,
          631,
          631,
          631
         ]
        },
        {
         "colorbar": {
          "title": {
           "text": "z"
          }
         },
         "colorscale": [
          [
           0,
           "gold"
          ],
          [
           0.5,
           "mediumturquoise"
          ],
          [
           1,
           "magenta"
          ]
         ],
         "flatshading": true,
         "i": [
          7,
          0,
          0,
          0,
          4,
          4,
          6,
          6,
          4,
          0,
          3,
          2
         ],
         "intensity": [
          0,
          0.14285714285714285,
          0.2857142857142857,
          0.42857142857142855,
          0.5714285714285714,
          0.7142857142857142,
          0.8571428571428571,
          1
         ],
         "j": [
          3,
          4,
          1,
          2,
          5,
          6,
          5,
          2,
          0,
          1,
          6,
          3
         ],
         "k": [
          0,
          7,
          2,
          3,
          6,
          7,
          1,
          1,
          5,
          5,
          7,
          6
         ],
         "type": "mesh3d",
         "x": [
          135,
          135,
          385,
          385,
          135,
          135,
          385,
          385
         ],
         "y": [
          28,
          982,
          982,
          28,
          28,
          982,
          982,
          28
         ],
         "z": [
          100,
          100,
          100,
          100,
          631,
          631,
          631,
          631
         ]
        },
        {
         "colorbar": {
          "title": {
           "text": "z"
          }
         },
         "colorscale": [
          [
           0,
           "gold"
          ],
          [
           0.5,
           "mediumturquoise"
          ],
          [
           1,
           "magenta"
          ]
         ],
         "flatshading": true,
         "i": [
          7,
          0,
          0,
          0,
          4,
          4,
          6,
          6,
          4,
          0,
          3,
          2
         ],
         "intensity": [
          0,
          0.14285714285714285,
          0.2857142857142857,
          0.42857142857142855,
          0.5714285714285714,
          0.7142857142857142,
          0.8571428571428571,
          1
         ],
         "j": [
          3,
          4,
          1,
          2,
          5,
          6,
          5,
          2,
          0,
          1,
          6,
          3
         ],
         "k": [
          0,
          7,
          2,
          3,
          6,
          7,
          1,
          1,
          5,
          5,
          7,
          6
         ],
         "type": "mesh3d",
         "x": [
          135,
          135,
          385,
          385,
          135,
          135,
          385,
          385
         ],
         "y": [
          28,
          982,
          982,
          28,
          28,
          982,
          982,
          28
         ],
         "z": [
          100,
          100,
          100,
          100,
          631,
          631,
          631,
          631
         ]
        },
        {
         "colorbar": {
          "title": {
           "text": "z"
          }
         },
         "colorscale": [
          [
           0,
           "gold"
          ],
          [
           0.5,
           "mediumturquoise"
          ],
          [
           1,
           "magenta"
          ]
         ],
         "flatshading": true,
         "i": [
          7,
          0,
          0,
          0,
          4,
          4,
          6,
          6,
          4,
          0,
          3,
          2
         ],
         "intensity": [
          0,
          0.14285714285714285,
          0.2857142857142857,
          0.42857142857142855,
          0.5714285714285714,
          0.7142857142857142,
          0.8571428571428571,
          1
         ],
         "j": [
          3,
          4,
          1,
          2,
          5,
          6,
          5,
          2,
          0,
          1,
          6,
          3
         ],
         "k": [
          0,
          7,
          2,
          3,
          6,
          7,
          1,
          1,
          5,
          5,
          7,
          6
         ],
         "type": "mesh3d",
         "x": [
          135,
          135,
          385,
          385,
          135,
          135,
          385,
          385
         ],
         "y": [
          28,
          982,
          982,
          28,
          28,
          982,
          982,
          28
         ],
         "z": [
          100,
          100,
          100,
          100,
          631,
          631,
          631,
          631
         ]
        },
        {
         "colorbar": {
          "title": {
           "text": "z"
          }
         },
         "colorscale": [
          [
           0,
           "gold"
          ],
          [
           0.5,
           "mediumturquoise"
          ],
          [
           1,
           "magenta"
          ]
         ],
         "flatshading": true,
         "i": [
          7,
          0,
          0,
          0,
          4,
          4,
          6,
          6,
          4,
          0,
          3,
          2
         ],
         "intensity": [
          0,
          0.14285714285714285,
          0.2857142857142857,
          0.42857142857142855,
          0.5714285714285714,
          0.7142857142857142,
          0.8571428571428571,
          1
         ],
         "j": [
          3,
          4,
          1,
          2,
          5,
          6,
          5,
          2,
          0,
          1,
          6,
          3
         ],
         "k": [
          0,
          7,
          2,
          3,
          6,
          7,
          1,
          1,
          5,
          5,
          7,
          6
         ],
         "type": "mesh3d",
         "x": [
          30,
          30,
          763,
          763,
          30,
          30,
          763,
          763
         ],
         "y": [
          17,
          921,
          921,
          17,
          17,
          921,
          921,
          17
         ],
         "z": [
          86,
          86,
          86,
          86,
          671,
          671,
          671,
          671
         ]
        },
        {
         "colorbar": {
          "title": {
           "text": "z"
          }
         },
         "colorscale": [
          [
           0,
           "gold"
          ],
          [
           0.5,
           "mediumturquoise"
          ],
          [
           1,
           "magenta"
          ]
         ],
         "flatshading": true,
         "i": [
          7,
          0,
          0,
          0,
          4,
          4,
          6,
          6,
          4,
          0,
          3,
          2
         ],
         "intensity": [
          0,
          0.14285714285714285,
          0.2857142857142857,
          0.42857142857142855,
          0.5714285714285714,
          0.7142857142857142,
          0.8571428571428571,
          1
         ],
         "j": [
          3,
          4,
          1,
          2,
          5,
          6,
          5,
          2,
          0,
          1,
          6,
          3
         ],
         "k": [
          0,
          7,
          2,
          3,
          6,
          7,
          1,
          1,
          5,
          5,
          7,
          6
         ],
         "type": "mesh3d",
         "x": [
          30,
          30,
          763,
          763,
          30,
          30,
          763,
          763
         ],
         "y": [
          17,
          921,
          921,
          17,
          17,
          921,
          921,
          17
         ],
         "z": [
          86,
          86,
          86,
          86,
          671,
          671,
          671,
          671
         ]
        },
        {
         "colorbar": {
          "title": {
           "text": "z"
          }
         },
         "colorscale": [
          [
           0,
           "gold"
          ],
          [
           0.5,
           "mediumturquoise"
          ],
          [
           1,
           "magenta"
          ]
         ],
         "flatshading": true,
         "i": [
          7,
          0,
          0,
          0,
          4,
          4,
          6,
          6,
          4,
          0,
          3,
          2
         ],
         "intensity": [
          0,
          0.14285714285714285,
          0.2857142857142857,
          0.42857142857142855,
          0.5714285714285714,
          0.7142857142857142,
          0.8571428571428571,
          1
         ],
         "j": [
          3,
          4,
          1,
          2,
          5,
          6,
          5,
          2,
          0,
          1,
          6,
          3
         ],
         "k": [
          0,
          7,
          2,
          3,
          6,
          7,
          1,
          1,
          5,
          5,
          7,
          6
         ],
         "type": "mesh3d",
         "x": [
          30,
          30,
          763,
          763,
          30,
          30,
          763,
          763
         ],
         "y": [
          17,
          921,
          921,
          17,
          17,
          921,
          921,
          17
         ],
         "z": [
          86,
          86,
          86,
          86,
          671,
          671,
          671,
          671
         ]
        },
        {
         "colorbar": {
          "title": {
           "text": "z"
          }
         },
         "colorscale": [
          [
           0,
           "gold"
          ],
          [
           0.5,
           "mediumturquoise"
          ],
          [
           1,
           "magenta"
          ]
         ],
         "flatshading": true,
         "i": [
          7,
          0,
          0,
          0,
          4,
          4,
          6,
          6,
          4,
          0,
          3,
          2
         ],
         "intensity": [
          0,
          0.14285714285714285,
          0.2857142857142857,
          0.42857142857142855,
          0.5714285714285714,
          0.7142857142857142,
          0.8571428571428571,
          1
         ],
         "j": [
          3,
          4,
          1,
          2,
          5,
          6,
          5,
          2,
          0,
          1,
          6,
          3
         ],
         "k": [
          0,
          7,
          2,
          3,
          6,
          7,
          1,
          1,
          5,
          5,
          7,
          6
         ],
         "type": "mesh3d",
         "x": [
          30,
          30,
          763,
          763,
          30,
          30,
          763,
          763
         ],
         "y": [
          17,
          921,
          921,
          17,
          17,
          921,
          921,
          17
         ],
         "z": [
          86,
          86,
          86,
          86,
          671,
          671,
          671,
          671
         ]
        },
        {
         "colorbar": {
          "title": {
           "text": "z"
          }
         },
         "colorscale": [
          [
           0,
           "gold"
          ],
          [
           0.5,
           "mediumturquoise"
          ],
          [
           1,
           "magenta"
          ]
         ],
         "flatshading": true,
         "i": [
          7,
          0,
          0,
          0,
          4,
          4,
          6,
          6,
          4,
          0,
          3,
          2
         ],
         "intensity": [
          0,
          0.14285714285714285,
          0.2857142857142857,
          0.42857142857142855,
          0.5714285714285714,
          0.7142857142857142,
          0.8571428571428571,
          1
         ],
         "j": [
          3,
          4,
          1,
          2,
          5,
          6,
          5,
          2,
          0,
          1,
          6,
          3
         ],
         "k": [
          0,
          7,
          2,
          3,
          6,
          7,
          1,
          1,
          5,
          5,
          7,
          6
         ],
         "type": "mesh3d",
         "x": [
          30,
          30,
          763,
          763,
          30,
          30,
          763,
          763
         ],
         "y": [
          17,
          921,
          921,
          17,
          17,
          921,
          921,
          17
         ],
         "z": [
          86,
          86,
          86,
          86,
          671,
          671,
          671,
          671
         ]
        },
        {
         "colorbar": {
          "title": {
           "text": "z"
          }
         },
         "colorscale": [
          [
           0,
           "gold"
          ],
          [
           0.5,
           "mediumturquoise"
          ],
          [
           1,
           "magenta"
          ]
         ],
         "flatshading": true,
         "i": [
          7,
          0,
          0,
          0,
          4,
          4,
          6,
          6,
          4,
          0,
          3,
          2
         ],
         "intensity": [
          0,
          0.14285714285714285,
          0.2857142857142857,
          0.42857142857142855,
          0.5714285714285714,
          0.7142857142857142,
          0.8571428571428571,
          1
         ],
         "j": [
          3,
          4,
          1,
          2,
          5,
          6,
          5,
          2,
          0,
          1,
          6,
          3
         ],
         "k": [
          0,
          7,
          2,
          3,
          6,
          7,
          1,
          1,
          5,
          5,
          7,
          6
         ],
         "type": "mesh3d",
         "x": [
          30,
          30,
          763,
          763,
          30,
          30,
          763,
          763
         ],
         "y": [
          17,
          921,
          921,
          17,
          17,
          921,
          921,
          17
         ],
         "z": [
          86,
          86,
          86,
          86,
          671,
          671,
          671,
          671
         ]
        },
        {
         "colorbar": {
          "title": {
           "text": "z"
          }
         },
         "colorscale": [
          [
           0,
           "gold"
          ],
          [
           0.5,
           "mediumturquoise"
          ],
          [
           1,
           "magenta"
          ]
         ],
         "flatshading": true,
         "i": [
          7,
          0,
          0,
          0,
          4,
          4,
          6,
          6,
          4,
          0,
          3,
          2
         ],
         "intensity": [
          0,
          0.14285714285714285,
          0.2857142857142857,
          0.42857142857142855,
          0.5714285714285714,
          0.7142857142857142,
          0.8571428571428571,
          1
         ],
         "j": [
          3,
          4,
          1,
          2,
          5,
          6,
          5,
          2,
          0,
          1,
          6,
          3
         ],
         "k": [
          0,
          7,
          2,
          3,
          6,
          7,
          1,
          1,
          5,
          5,
          7,
          6
         ],
         "type": "mesh3d",
         "x": [
          30,
          30,
          763,
          763,
          30,
          30,
          763,
          763
         ],
         "y": [
          17,
          921,
          921,
          17,
          17,
          921,
          921,
          17
         ],
         "z": [
          86,
          86,
          86,
          86,
          671,
          671,
          671,
          671
         ]
        },
        {
         "colorbar": {
          "title": {
           "text": "z"
          }
         },
         "colorscale": [
          [
           0,
           "gold"
          ],
          [
           0.5,
           "mediumturquoise"
          ],
          [
           1,
           "magenta"
          ]
         ],
         "flatshading": true,
         "i": [
          7,
          0,
          0,
          0,
          4,
          4,
          6,
          6,
          4,
          0,
          3,
          2
         ],
         "intensity": [
          0,
          0.14285714285714285,
          0.2857142857142857,
          0.42857142857142855,
          0.5714285714285714,
          0.7142857142857142,
          0.8571428571428571,
          1
         ],
         "j": [
          3,
          4,
          1,
          2,
          5,
          6,
          5,
          2,
          0,
          1,
          6,
          3
         ],
         "k": [
          0,
          7,
          2,
          3,
          6,
          7,
          1,
          1,
          5,
          5,
          7,
          6
         ],
         "type": "mesh3d",
         "x": [
          30,
          30,
          763,
          763,
          30,
          30,
          763,
          763
         ],
         "y": [
          17,
          921,
          921,
          17,
          17,
          921,
          921,
          17
         ],
         "z": [
          86,
          86,
          86,
          86,
          671,
          671,
          671,
          671
         ]
        },
        {
         "colorbar": {
          "title": {
           "text": "z"
          }
         },
         "colorscale": [
          [
           0,
           "gold"
          ],
          [
           0.5,
           "mediumturquoise"
          ],
          [
           1,
           "magenta"
          ]
         ],
         "flatshading": true,
         "i": [
          7,
          0,
          0,
          0,
          4,
          4,
          6,
          6,
          4,
          0,
          3,
          2
         ],
         "intensity": [
          0,
          0.14285714285714285,
          0.2857142857142857,
          0.42857142857142855,
          0.5714285714285714,
          0.7142857142857142,
          0.8571428571428571,
          1
         ],
         "j": [
          3,
          4,
          1,
          2,
          5,
          6,
          5,
          2,
          0,
          1,
          6,
          3
         ],
         "k": [
          0,
          7,
          2,
          3,
          6,
          7,
          1,
          1,
          5,
          5,
          7,
          6
         ],
         "type": "mesh3d",
         "x": [
          30,
          30,
          763,
          763,
          30,
          30,
          763,
          763
         ],
         "y": [
          17,
          921,
          921,
          17,
          17,
          921,
          921,
          17
         ],
         "z": [
          86,
          86,
          86,
          86,
          671,
          671,
          671,
          671
         ]
        },
        {
         "colorbar": {
          "title": {
           "text": "z"
          }
         },
         "colorscale": [
          [
           0,
           "gold"
          ],
          [
           0.5,
           "mediumturquoise"
          ],
          [
           1,
           "magenta"
          ]
         ],
         "flatshading": true,
         "i": [
          7,
          0,
          0,
          0,
          4,
          4,
          6,
          6,
          4,
          0,
          3,
          2
         ],
         "intensity": [
          0,
          0.14285714285714285,
          0.2857142857142857,
          0.42857142857142855,
          0.5714285714285714,
          0.7142857142857142,
          0.8571428571428571,
          1
         ],
         "j": [
          3,
          4,
          1,
          2,
          5,
          6,
          5,
          2,
          0,
          1,
          6,
          3
         ],
         "k": [
          0,
          7,
          2,
          3,
          6,
          7,
          1,
          1,
          5,
          5,
          7,
          6
         ],
         "type": "mesh3d",
         "x": [
          30,
          30,
          763,
          763,
          30,
          30,
          763,
          763
         ],
         "y": [
          17,
          921,
          921,
          17,
          17,
          921,
          921,
          17
         ],
         "z": [
          86,
          86,
          86,
          86,
          671,
          671,
          671,
          671
         ]
        },
        {
         "colorbar": {
          "title": {
           "text": "z"
          }
         },
         "colorscale": [
          [
           0,
           "gold"
          ],
          [
           0.5,
           "mediumturquoise"
          ],
          [
           1,
           "magenta"
          ]
         ],
         "flatshading": true,
         "i": [
          7,
          0,
          0,
          0,
          4,
          4,
          6,
          6,
          4,
          0,
          3,
          2
         ],
         "intensity": [
          0,
          0.14285714285714285,
          0.2857142857142857,
          0.42857142857142855,
          0.5714285714285714,
          0.7142857142857142,
          0.8571428571428571,
          1
         ],
         "j": [
          3,
          4,
          1,
          2,
          5,
          6,
          5,
          2,
          0,
          1,
          6,
          3
         ],
         "k": [
          0,
          7,
          2,
          3,
          6,
          7,
          1,
          1,
          5,
          5,
          7,
          6
         ],
         "type": "mesh3d",
         "x": [
          30,
          30,
          763,
          763,
          30,
          30,
          763,
          763
         ],
         "y": [
          17,
          921,
          921,
          17,
          17,
          921,
          921,
          17
         ],
         "z": [
          86,
          86,
          86,
          86,
          671,
          671,
          671,
          671
         ]
        },
        {
         "colorbar": {
          "title": {
           "text": "z"
          }
         },
         "colorscale": [
          [
           0,
           "gold"
          ],
          [
           0.5,
           "mediumturquoise"
          ],
          [
           1,
           "magenta"
          ]
         ],
         "flatshading": true,
         "i": [
          7,
          0,
          0,
          0,
          4,
          4,
          6,
          6,
          4,
          0,
          3,
          2
         ],
         "intensity": [
          0,
          0.14285714285714285,
          0.2857142857142857,
          0.42857142857142855,
          0.5714285714285714,
          0.7142857142857142,
          0.8571428571428571,
          1
         ],
         "j": [
          3,
          4,
          1,
          2,
          5,
          6,
          5,
          2,
          0,
          1,
          6,
          3
         ],
         "k": [
          0,
          7,
          2,
          3,
          6,
          7,
          1,
          1,
          5,
          5,
          7,
          6
         ],
         "type": "mesh3d",
         "x": [
          38,
          38,
          917,
          917,
          38,
          38,
          917,
          917
         ],
         "y": [
          32,
          538,
          538,
          32,
          32,
          538,
          538,
          32
         ],
         "z": [
          7,
          7,
          7,
          7,
          436,
          436,
          436,
          436
         ]
        },
        {
         "colorbar": {
          "title": {
           "text": "z"
          }
         },
         "colorscale": [
          [
           0,
           "gold"
          ],
          [
           0.5,
           "mediumturquoise"
          ],
          [
           1,
           "magenta"
          ]
         ],
         "flatshading": true,
         "i": [
          7,
          0,
          0,
          0,
          4,
          4,
          6,
          6,
          4,
          0,
          3,
          2
         ],
         "intensity": [
          0,
          0.14285714285714285,
          0.2857142857142857,
          0.42857142857142855,
          0.5714285714285714,
          0.7142857142857142,
          0.8571428571428571,
          1
         ],
         "j": [
          3,
          4,
          1,
          2,
          5,
          6,
          5,
          2,
          0,
          1,
          6,
          3
         ],
         "k": [
          0,
          7,
          2,
          3,
          6,
          7,
          1,
          1,
          5,
          5,
          7,
          6
         ],
         "type": "mesh3d",
         "x": [
          38,
          38,
          917,
          917,
          38,
          38,
          917,
          917
         ],
         "y": [
          32,
          538,
          538,
          32,
          32,
          538,
          538,
          32
         ],
         "z": [
          7,
          7,
          7,
          7,
          436,
          436,
          436,
          436
         ]
        },
        {
         "colorbar": {
          "title": {
           "text": "z"
          }
         },
         "colorscale": [
          [
           0,
           "gold"
          ],
          [
           0.5,
           "mediumturquoise"
          ],
          [
           1,
           "magenta"
          ]
         ],
         "flatshading": true,
         "i": [
          7,
          0,
          0,
          0,
          4,
          4,
          6,
          6,
          4,
          0,
          3,
          2
         ],
         "intensity": [
          0,
          0.14285714285714285,
          0.2857142857142857,
          0.42857142857142855,
          0.5714285714285714,
          0.7142857142857142,
          0.8571428571428571,
          1
         ],
         "j": [
          3,
          4,
          1,
          2,
          5,
          6,
          5,
          2,
          0,
          1,
          6,
          3
         ],
         "k": [
          0,
          7,
          2,
          3,
          6,
          7,
          1,
          1,
          5,
          5,
          7,
          6
         ],
         "type": "mesh3d",
         "x": [
          38,
          38,
          917,
          917,
          38,
          38,
          917,
          917
         ],
         "y": [
          32,
          538,
          538,
          32,
          32,
          538,
          538,
          32
         ],
         "z": [
          7,
          7,
          7,
          7,
          436,
          436,
          436,
          436
         ]
        },
        {
         "colorbar": {
          "title": {
           "text": "z"
          }
         },
         "colorscale": [
          [
           0,
           "gold"
          ],
          [
           0.5,
           "mediumturquoise"
          ],
          [
           1,
           "magenta"
          ]
         ],
         "flatshading": true,
         "i": [
          7,
          0,
          0,
          0,
          4,
          4,
          6,
          6,
          4,
          0,
          3,
          2
         ],
         "intensity": [
          0,
          0.14285714285714285,
          0.2857142857142857,
          0.42857142857142855,
          0.5714285714285714,
          0.7142857142857142,
          0.8571428571428571,
          1
         ],
         "j": [
          3,
          4,
          1,
          2,
          5,
          6,
          5,
          2,
          0,
          1,
          6,
          3
         ],
         "k": [
          0,
          7,
          2,
          3,
          6,
          7,
          1,
          1,
          5,
          5,
          7,
          6
         ],
         "type": "mesh3d",
         "x": [
          38,
          38,
          917,
          917,
          38,
          38,
          917,
          917
         ],
         "y": [
          32,
          538,
          538,
          32,
          32,
          538,
          538,
          32
         ],
         "z": [
          7,
          7,
          7,
          7,
          436,
          436,
          436,
          436
         ]
        },
        {
         "colorbar": {
          "title": {
           "text": "z"
          }
         },
         "colorscale": [
          [
           0,
           "gold"
          ],
          [
           0.5,
           "mediumturquoise"
          ],
          [
           1,
           "magenta"
          ]
         ],
         "flatshading": true,
         "i": [
          7,
          0,
          0,
          0,
          4,
          4,
          6,
          6,
          4,
          0,
          3,
          2
         ],
         "intensity": [
          0,
          0.14285714285714285,
          0.2857142857142857,
          0.42857142857142855,
          0.5714285714285714,
          0.7142857142857142,
          0.8571428571428571,
          1
         ],
         "j": [
          3,
          4,
          1,
          2,
          5,
          6,
          5,
          2,
          0,
          1,
          6,
          3
         ],
         "k": [
          0,
          7,
          2,
          3,
          6,
          7,
          1,
          1,
          5,
          5,
          7,
          6
         ],
         "type": "mesh3d",
         "x": [
          38,
          38,
          917,
          917,
          38,
          38,
          917,
          917
         ],
         "y": [
          32,
          538,
          538,
          32,
          32,
          538,
          538,
          32
         ],
         "z": [
          7,
          7,
          7,
          7,
          436,
          436,
          436,
          436
         ]
        },
        {
         "colorbar": {
          "title": {
           "text": "z"
          }
         },
         "colorscale": [
          [
           0,
           "gold"
          ],
          [
           0.5,
           "mediumturquoise"
          ],
          [
           1,
           "magenta"
          ]
         ],
         "flatshading": true,
         "i": [
          7,
          0,
          0,
          0,
          4,
          4,
          6,
          6,
          4,
          0,
          3,
          2
         ],
         "intensity": [
          0,
          0.14285714285714285,
          0.2857142857142857,
          0.42857142857142855,
          0.5714285714285714,
          0.7142857142857142,
          0.8571428571428571,
          1
         ],
         "j": [
          3,
          4,
          1,
          2,
          5,
          6,
          5,
          2,
          0,
          1,
          6,
          3
         ],
         "k": [
          0,
          7,
          2,
          3,
          6,
          7,
          1,
          1,
          5,
          5,
          7,
          6
         ],
         "type": "mesh3d",
         "x": [
          38,
          38,
          917,
          917,
          38,
          38,
          917,
          917
         ],
         "y": [
          32,
          538,
          538,
          32,
          32,
          538,
          538,
          32
         ],
         "z": [
          7,
          7,
          7,
          7,
          436,
          436,
          436,
          436
         ]
        },
        {
         "colorbar": {
          "title": {
           "text": "z"
          }
         },
         "colorscale": [
          [
           0,
           "gold"
          ],
          [
           0.5,
           "mediumturquoise"
          ],
          [
           1,
           "magenta"
          ]
         ],
         "flatshading": true,
         "i": [
          7,
          0,
          0,
          0,
          4,
          4,
          6,
          6,
          4,
          0,
          3,
          2
         ],
         "intensity": [
          0,
          0.14285714285714285,
          0.2857142857142857,
          0.42857142857142855,
          0.5714285714285714,
          0.7142857142857142,
          0.8571428571428571,
          1
         ],
         "j": [
          3,
          4,
          1,
          2,
          5,
          6,
          5,
          2,
          0,
          1,
          6,
          3
         ],
         "k": [
          0,
          7,
          2,
          3,
          6,
          7,
          1,
          1,
          5,
          5,
          7,
          6
         ],
         "type": "mesh3d",
         "x": [
          38,
          38,
          917,
          917,
          38,
          38,
          917,
          917
         ],
         "y": [
          32,
          538,
          538,
          32,
          32,
          538,
          538,
          32
         ],
         "z": [
          7,
          7,
          7,
          7,
          436,
          436,
          436,
          436
         ]
        },
        {
         "colorbar": {
          "title": {
           "text": "z"
          }
         },
         "colorscale": [
          [
           0,
           "gold"
          ],
          [
           0.5,
           "mediumturquoise"
          ],
          [
           1,
           "magenta"
          ]
         ],
         "flatshading": true,
         "i": [
          7,
          0,
          0,
          0,
          4,
          4,
          6,
          6,
          4,
          0,
          3,
          2
         ],
         "intensity": [
          0,
          0.14285714285714285,
          0.2857142857142857,
          0.42857142857142855,
          0.5714285714285714,
          0.7142857142857142,
          0.8571428571428571,
          1
         ],
         "j": [
          3,
          4,
          1,
          2,
          5,
          6,
          5,
          2,
          0,
          1,
          6,
          3
         ],
         "k": [
          0,
          7,
          2,
          3,
          6,
          7,
          1,
          1,
          5,
          5,
          7,
          6
         ],
         "type": "mesh3d",
         "x": [
          38,
          38,
          917,
          917,
          38,
          38,
          917,
          917
         ],
         "y": [
          32,
          538,
          538,
          32,
          32,
          538,
          538,
          32
         ],
         "z": [
          7,
          7,
          7,
          7,
          436,
          436,
          436,
          436
         ]
        },
        {
         "colorbar": {
          "title": {
           "text": "z"
          }
         },
         "colorscale": [
          [
           0,
           "gold"
          ],
          [
           0.5,
           "mediumturquoise"
          ],
          [
           1,
           "magenta"
          ]
         ],
         "flatshading": true,
         "i": [
          7,
          0,
          0,
          0,
          4,
          4,
          6,
          6,
          4,
          0,
          3,
          2
         ],
         "intensity": [
          0,
          0.14285714285714285,
          0.2857142857142857,
          0.42857142857142855,
          0.5714285714285714,
          0.7142857142857142,
          0.8571428571428571,
          1
         ],
         "j": [
          3,
          4,
          1,
          2,
          5,
          6,
          5,
          2,
          0,
          1,
          6,
          3
         ],
         "k": [
          0,
          7,
          2,
          3,
          6,
          7,
          1,
          1,
          5,
          5,
          7,
          6
         ],
         "type": "mesh3d",
         "x": [
          38,
          38,
          917,
          917,
          38,
          38,
          917,
          917
         ],
         "y": [
          32,
          538,
          538,
          32,
          32,
          538,
          538,
          32
         ],
         "z": [
          7,
          7,
          7,
          7,
          436,
          436,
          436,
          436
         ]
        },
        {
         "colorbar": {
          "title": {
           "text": "z"
          }
         },
         "colorscale": [
          [
           0,
           "gold"
          ],
          [
           0.5,
           "mediumturquoise"
          ],
          [
           1,
           "magenta"
          ]
         ],
         "flatshading": true,
         "i": [
          7,
          0,
          0,
          0,
          4,
          4,
          6,
          6,
          4,
          0,
          3,
          2
         ],
         "intensity": [
          0,
          0.14285714285714285,
          0.2857142857142857,
          0.42857142857142855,
          0.5714285714285714,
          0.7142857142857142,
          0.8571428571428571,
          1
         ],
         "j": [
          3,
          4,
          1,
          2,
          5,
          6,
          5,
          2,
          0,
          1,
          6,
          3
         ],
         "k": [
          0,
          7,
          2,
          3,
          6,
          7,
          1,
          1,
          5,
          5,
          7,
          6
         ],
         "type": "mesh3d",
         "x": [
          38,
          38,
          917,
          917,
          38,
          38,
          917,
          917
         ],
         "y": [
          32,
          538,
          538,
          32,
          32,
          538,
          538,
          32
         ],
         "z": [
          7,
          7,
          7,
          7,
          436,
          436,
          436,
          436
         ]
        },
        {
         "colorbar": {
          "title": {
           "text": "z"
          }
         },
         "colorscale": [
          [
           0,
           "gold"
          ],
          [
           0.5,
           "mediumturquoise"
          ],
          [
           1,
           "magenta"
          ]
         ],
         "flatshading": true,
         "i": [
          7,
          0,
          0,
          0,
          4,
          4,
          6,
          6,
          4,
          0,
          3,
          2
         ],
         "intensity": [
          0,
          0.14285714285714285,
          0.2857142857142857,
          0.42857142857142855,
          0.5714285714285714,
          0.7142857142857142,
          0.8571428571428571,
          1
         ],
         "j": [
          3,
          4,
          1,
          2,
          5,
          6,
          5,
          2,
          0,
          1,
          6,
          3
         ],
         "k": [
          0,
          7,
          2,
          3,
          6,
          7,
          1,
          1,
          5,
          5,
          7,
          6
         ],
         "type": "mesh3d",
         "x": [
          38,
          38,
          917,
          917,
          38,
          38,
          917,
          917
         ],
         "y": [
          32,
          538,
          538,
          32,
          32,
          538,
          538,
          32
         ],
         "z": [
          7,
          7,
          7,
          7,
          436,
          436,
          436,
          436
         ]
        },
        {
         "colorbar": {
          "title": {
           "text": "z"
          }
         },
         "colorscale": [
          [
           0,
           "gold"
          ],
          [
           0.5,
           "mediumturquoise"
          ],
          [
           1,
           "magenta"
          ]
         ],
         "flatshading": true,
         "i": [
          7,
          0,
          0,
          0,
          4,
          4,
          6,
          6,
          4,
          0,
          3,
          2
         ],
         "intensity": [
          0,
          0.14285714285714285,
          0.2857142857142857,
          0.42857142857142855,
          0.5714285714285714,
          0.7142857142857142,
          0.8571428571428571,
          1
         ],
         "j": [
          3,
          4,
          1,
          2,
          5,
          6,
          5,
          2,
          0,
          1,
          6,
          3
         ],
         "k": [
          0,
          7,
          2,
          3,
          6,
          7,
          1,
          1,
          5,
          5,
          7,
          6
         ],
         "type": "mesh3d",
         "x": [
          92,
          92,
          895,
          895,
          92,
          92,
          895,
          895
         ],
         "y": [
          9,
          463,
          463,
          9,
          9,
          463,
          463,
          9
         ],
         "z": [
          55,
          55,
          55,
          55,
          136,
          136,
          136,
          136
         ]
        },
        {
         "colorbar": {
          "title": {
           "text": "z"
          }
         },
         "colorscale": [
          [
           0,
           "gold"
          ],
          [
           0.5,
           "mediumturquoise"
          ],
          [
           1,
           "magenta"
          ]
         ],
         "flatshading": true,
         "i": [
          7,
          0,
          0,
          0,
          4,
          4,
          6,
          6,
          4,
          0,
          3,
          2
         ],
         "intensity": [
          0,
          0.14285714285714285,
          0.2857142857142857,
          0.42857142857142855,
          0.5714285714285714,
          0.7142857142857142,
          0.8571428571428571,
          1
         ],
         "j": [
          3,
          4,
          1,
          2,
          5,
          6,
          5,
          2,
          0,
          1,
          6,
          3
         ],
         "k": [
          0,
          7,
          2,
          3,
          6,
          7,
          1,
          1,
          5,
          5,
          7,
          6
         ],
         "type": "mesh3d",
         "x": [
          92,
          92,
          895,
          895,
          92,
          92,
          895,
          895
         ],
         "y": [
          9,
          463,
          463,
          9,
          9,
          463,
          463,
          9
         ],
         "z": [
          55,
          55,
          55,
          55,
          136,
          136,
          136,
          136
         ]
        },
        {
         "colorbar": {
          "title": {
           "text": "z"
          }
         },
         "colorscale": [
          [
           0,
           "gold"
          ],
          [
           0.5,
           "mediumturquoise"
          ],
          [
           1,
           "magenta"
          ]
         ],
         "flatshading": true,
         "i": [
          7,
          0,
          0,
          0,
          4,
          4,
          6,
          6,
          4,
          0,
          3,
          2
         ],
         "intensity": [
          0,
          0.14285714285714285,
          0.2857142857142857,
          0.42857142857142855,
          0.5714285714285714,
          0.7142857142857142,
          0.8571428571428571,
          1
         ],
         "j": [
          3,
          4,
          1,
          2,
          5,
          6,
          5,
          2,
          0,
          1,
          6,
          3
         ],
         "k": [
          0,
          7,
          2,
          3,
          6,
          7,
          1,
          1,
          5,
          5,
          7,
          6
         ],
         "type": "mesh3d",
         "x": [
          92,
          92,
          895,
          895,
          92,
          92,
          895,
          895
         ],
         "y": [
          9,
          463,
          463,
          9,
          9,
          463,
          463,
          9
         ],
         "z": [
          55,
          55,
          55,
          55,
          136,
          136,
          136,
          136
         ]
        },
        {
         "colorbar": {
          "title": {
           "text": "z"
          }
         },
         "colorscale": [
          [
           0,
           "gold"
          ],
          [
           0.5,
           "mediumturquoise"
          ],
          [
           1,
           "magenta"
          ]
         ],
         "flatshading": true,
         "i": [
          7,
          0,
          0,
          0,
          4,
          4,
          6,
          6,
          4,
          0,
          3,
          2
         ],
         "intensity": [
          0,
          0.14285714285714285,
          0.2857142857142857,
          0.42857142857142855,
          0.5714285714285714,
          0.7142857142857142,
          0.8571428571428571,
          1
         ],
         "j": [
          3,
          4,
          1,
          2,
          5,
          6,
          5,
          2,
          0,
          1,
          6,
          3
         ],
         "k": [
          0,
          7,
          2,
          3,
          6,
          7,
          1,
          1,
          5,
          5,
          7,
          6
         ],
         "type": "mesh3d",
         "x": [
          92,
          92,
          895,
          895,
          92,
          92,
          895,
          895
         ],
         "y": [
          9,
          463,
          463,
          9,
          9,
          463,
          463,
          9
         ],
         "z": [
          55,
          55,
          55,
          55,
          136,
          136,
          136,
          136
         ]
        },
        {
         "colorbar": {
          "title": {
           "text": "z"
          }
         },
         "colorscale": [
          [
           0,
           "gold"
          ],
          [
           0.5,
           "mediumturquoise"
          ],
          [
           1,
           "magenta"
          ]
         ],
         "flatshading": true,
         "i": [
          7,
          0,
          0,
          0,
          4,
          4,
          6,
          6,
          4,
          0,
          3,
          2
         ],
         "intensity": [
          0,
          0.14285714285714285,
          0.2857142857142857,
          0.42857142857142855,
          0.5714285714285714,
          0.7142857142857142,
          0.8571428571428571,
          1
         ],
         "j": [
          3,
          4,
          1,
          2,
          5,
          6,
          5,
          2,
          0,
          1,
          6,
          3
         ],
         "k": [
          0,
          7,
          2,
          3,
          6,
          7,
          1,
          1,
          5,
          5,
          7,
          6
         ],
         "type": "mesh3d",
         "x": [
          92,
          92,
          895,
          895,
          92,
          92,
          895,
          895
         ],
         "y": [
          9,
          463,
          463,
          9,
          9,
          463,
          463,
          9
         ],
         "z": [
          55,
          55,
          55,
          55,
          136,
          136,
          136,
          136
         ]
        },
        {
         "colorbar": {
          "title": {
           "text": "z"
          }
         },
         "colorscale": [
          [
           0,
           "gold"
          ],
          [
           0.5,
           "mediumturquoise"
          ],
          [
           1,
           "magenta"
          ]
         ],
         "flatshading": true,
         "i": [
          7,
          0,
          0,
          0,
          4,
          4,
          6,
          6,
          4,
          0,
          3,
          2
         ],
         "intensity": [
          0,
          0.14285714285714285,
          0.2857142857142857,
          0.42857142857142855,
          0.5714285714285714,
          0.7142857142857142,
          0.8571428571428571,
          1
         ],
         "j": [
          3,
          4,
          1,
          2,
          5,
          6,
          5,
          2,
          0,
          1,
          6,
          3
         ],
         "k": [
          0,
          7,
          2,
          3,
          6,
          7,
          1,
          1,
          5,
          5,
          7,
          6
         ],
         "type": "mesh3d",
         "x": [
          92,
          92,
          895,
          895,
          92,
          92,
          895,
          895
         ],
         "y": [
          9,
          463,
          463,
          9,
          9,
          463,
          463,
          9
         ],
         "z": [
          55,
          55,
          55,
          55,
          136,
          136,
          136,
          136
         ]
        },
        {
         "colorbar": {
          "title": {
           "text": "z"
          }
         },
         "colorscale": [
          [
           0,
           "gold"
          ],
          [
           0.5,
           "mediumturquoise"
          ],
          [
           1,
           "magenta"
          ]
         ],
         "flatshading": true,
         "i": [
          7,
          0,
          0,
          0,
          4,
          4,
          6,
          6,
          4,
          0,
          3,
          2
         ],
         "intensity": [
          0,
          0.14285714285714285,
          0.2857142857142857,
          0.42857142857142855,
          0.5714285714285714,
          0.7142857142857142,
          0.8571428571428571,
          1
         ],
         "j": [
          3,
          4,
          1,
          2,
          5,
          6,
          5,
          2,
          0,
          1,
          6,
          3
         ],
         "k": [
          0,
          7,
          2,
          3,
          6,
          7,
          1,
          1,
          5,
          5,
          7,
          6
         ],
         "type": "mesh3d",
         "x": [
          92,
          92,
          895,
          895,
          92,
          92,
          895,
          895
         ],
         "y": [
          9,
          463,
          463,
          9,
          9,
          463,
          463,
          9
         ],
         "z": [
          55,
          55,
          55,
          55,
          136,
          136,
          136,
          136
         ]
        },
        {
         "colorbar": {
          "title": {
           "text": "z"
          }
         },
         "colorscale": [
          [
           0,
           "gold"
          ],
          [
           0.5,
           "mediumturquoise"
          ],
          [
           1,
           "magenta"
          ]
         ],
         "flatshading": true,
         "i": [
          7,
          0,
          0,
          0,
          4,
          4,
          6,
          6,
          4,
          0,
          3,
          2
         ],
         "intensity": [
          0,
          0.14285714285714285,
          0.2857142857142857,
          0.42857142857142855,
          0.5714285714285714,
          0.7142857142857142,
          0.8571428571428571,
          1
         ],
         "j": [
          3,
          4,
          1,
          2,
          5,
          6,
          5,
          2,
          0,
          1,
          6,
          3
         ],
         "k": [
          0,
          7,
          2,
          3,
          6,
          7,
          1,
          1,
          5,
          5,
          7,
          6
         ],
         "type": "mesh3d",
         "x": [
          92,
          92,
          895,
          895,
          92,
          92,
          895,
          895
         ],
         "y": [
          9,
          463,
          463,
          9,
          9,
          463,
          463,
          9
         ],
         "z": [
          55,
          55,
          55,
          55,
          136,
          136,
          136,
          136
         ]
        },
        {
         "colorbar": {
          "title": {
           "text": "z"
          }
         },
         "colorscale": [
          [
           0,
           "gold"
          ],
          [
           0.5,
           "mediumturquoise"
          ],
          [
           1,
           "magenta"
          ]
         ],
         "flatshading": true,
         "i": [
          7,
          0,
          0,
          0,
          4,
          4,
          6,
          6,
          4,
          0,
          3,
          2
         ],
         "intensity": [
          0,
          0.14285714285714285,
          0.2857142857142857,
          0.42857142857142855,
          0.5714285714285714,
          0.7142857142857142,
          0.8571428571428571,
          1
         ],
         "j": [
          3,
          4,
          1,
          2,
          5,
          6,
          5,
          2,
          0,
          1,
          6,
          3
         ],
         "k": [
          0,
          7,
          2,
          3,
          6,
          7,
          1,
          1,
          5,
          5,
          7,
          6
         ],
         "type": "mesh3d",
         "x": [
          92,
          92,
          895,
          895,
          92,
          92,
          895,
          895
         ],
         "y": [
          9,
          463,
          463,
          9,
          9,
          463,
          463,
          9
         ],
         "z": [
          55,
          55,
          55,
          55,
          136,
          136,
          136,
          136
         ]
        },
        {
         "colorbar": {
          "title": {
           "text": "z"
          }
         },
         "colorscale": [
          [
           0,
           "gold"
          ],
          [
           0.5,
           "mediumturquoise"
          ],
          [
           1,
           "magenta"
          ]
         ],
         "flatshading": true,
         "i": [
          7,
          0,
          0,
          0,
          4,
          4,
          6,
          6,
          4,
          0,
          3,
          2
         ],
         "intensity": [
          0,
          0.14285714285714285,
          0.2857142857142857,
          0.42857142857142855,
          0.5714285714285714,
          0.7142857142857142,
          0.8571428571428571,
          1
         ],
         "j": [
          3,
          4,
          1,
          2,
          5,
          6,
          5,
          2,
          0,
          1,
          6,
          3
         ],
         "k": [
          0,
          7,
          2,
          3,
          6,
          7,
          1,
          1,
          5,
          5,
          7,
          6
         ],
         "type": "mesh3d",
         "x": [
          92,
          92,
          895,
          895,
          92,
          92,
          895,
          895
         ],
         "y": [
          9,
          463,
          463,
          9,
          9,
          463,
          463,
          9
         ],
         "z": [
          55,
          55,
          55,
          55,
          136,
          136,
          136,
          136
         ]
        },
        {
         "colorbar": {
          "title": {
           "text": "z"
          }
         },
         "colorscale": [
          [
           0,
           "gold"
          ],
          [
           0.5,
           "mediumturquoise"
          ],
          [
           1,
           "magenta"
          ]
         ],
         "flatshading": true,
         "i": [
          7,
          0,
          0,
          0,
          4,
          4,
          6,
          6,
          4,
          0,
          3,
          2
         ],
         "intensity": [
          0,
          0.14285714285714285,
          0.2857142857142857,
          0.42857142857142855,
          0.5714285714285714,
          0.7142857142857142,
          0.8571428571428571,
          1
         ],
         "j": [
          3,
          4,
          1,
          2,
          5,
          6,
          5,
          2,
          0,
          1,
          6,
          3
         ],
         "k": [
          0,
          7,
          2,
          3,
          6,
          7,
          1,
          1,
          5,
          5,
          7,
          6
         ],
         "type": "mesh3d",
         "x": [
          92,
          92,
          895,
          895,
          92,
          92,
          895,
          895
         ],
         "y": [
          9,
          463,
          463,
          9,
          9,
          463,
          463,
          9
         ],
         "z": [
          55,
          55,
          55,
          55,
          136,
          136,
          136,
          136
         ]
        },
        {
         "colorbar": {
          "title": {
           "text": "z"
          }
         },
         "colorscale": [
          [
           0,
           "gold"
          ],
          [
           0.5,
           "mediumturquoise"
          ],
          [
           1,
           "magenta"
          ]
         ],
         "flatshading": true,
         "i": [
          7,
          0,
          0,
          0,
          4,
          4,
          6,
          6,
          4,
          0,
          3,
          2
         ],
         "intensity": [
          0,
          0.14285714285714285,
          0.2857142857142857,
          0.42857142857142855,
          0.5714285714285714,
          0.7142857142857142,
          0.8571428571428571,
          1
         ],
         "j": [
          3,
          4,
          1,
          2,
          5,
          6,
          5,
          2,
          0,
          1,
          6,
          3
         ],
         "k": [
          0,
          7,
          2,
          3,
          6,
          7,
          1,
          1,
          5,
          5,
          7,
          6
         ],
         "type": "mesh3d",
         "x": [
          73,
          73,
          251,
          251,
          73,
          73,
          251,
          251
         ],
         "y": [
          64,
          700,
          700,
          64,
          64,
          700,
          700,
          64
         ],
         "z": [
          21,
          21,
          21,
          21,
          366,
          366,
          366,
          366
         ]
        },
        {
         "colorbar": {
          "title": {
           "text": "z"
          }
         },
         "colorscale": [
          [
           0,
           "gold"
          ],
          [
           0.5,
           "mediumturquoise"
          ],
          [
           1,
           "magenta"
          ]
         ],
         "flatshading": true,
         "i": [
          7,
          0,
          0,
          0,
          4,
          4,
          6,
          6,
          4,
          0,
          3,
          2
         ],
         "intensity": [
          0,
          0.14285714285714285,
          0.2857142857142857,
          0.42857142857142855,
          0.5714285714285714,
          0.7142857142857142,
          0.8571428571428571,
          1
         ],
         "j": [
          3,
          4,
          1,
          2,
          5,
          6,
          5,
          2,
          0,
          1,
          6,
          3
         ],
         "k": [
          0,
          7,
          2,
          3,
          6,
          7,
          1,
          1,
          5,
          5,
          7,
          6
         ],
         "type": "mesh3d",
         "x": [
          73,
          73,
          251,
          251,
          73,
          73,
          251,
          251
         ],
         "y": [
          64,
          700,
          700,
          64,
          64,
          700,
          700,
          64
         ],
         "z": [
          21,
          21,
          21,
          21,
          366,
          366,
          366,
          366
         ]
        },
        {
         "colorbar": {
          "title": {
           "text": "z"
          }
         },
         "colorscale": [
          [
           0,
           "gold"
          ],
          [
           0.5,
           "mediumturquoise"
          ],
          [
           1,
           "magenta"
          ]
         ],
         "flatshading": true,
         "i": [
          7,
          0,
          0,
          0,
          4,
          4,
          6,
          6,
          4,
          0,
          3,
          2
         ],
         "intensity": [
          0,
          0.14285714285714285,
          0.2857142857142857,
          0.42857142857142855,
          0.5714285714285714,
          0.7142857142857142,
          0.8571428571428571,
          1
         ],
         "j": [
          3,
          4,
          1,
          2,
          5,
          6,
          5,
          2,
          0,
          1,
          6,
          3
         ],
         "k": [
          0,
          7,
          2,
          3,
          6,
          7,
          1,
          1,
          5,
          5,
          7,
          6
         ],
         "type": "mesh3d",
         "x": [
          73,
          73,
          251,
          251,
          73,
          73,
          251,
          251
         ],
         "y": [
          64,
          700,
          700,
          64,
          64,
          700,
          700,
          64
         ],
         "z": [
          21,
          21,
          21,
          21,
          366,
          366,
          366,
          366
         ]
        },
        {
         "colorbar": {
          "title": {
           "text": "z"
          }
         },
         "colorscale": [
          [
           0,
           "gold"
          ],
          [
           0.5,
           "mediumturquoise"
          ],
          [
           1,
           "magenta"
          ]
         ],
         "flatshading": true,
         "i": [
          7,
          0,
          0,
          0,
          4,
          4,
          6,
          6,
          4,
          0,
          3,
          2
         ],
         "intensity": [
          0,
          0.14285714285714285,
          0.2857142857142857,
          0.42857142857142855,
          0.5714285714285714,
          0.7142857142857142,
          0.8571428571428571,
          1
         ],
         "j": [
          3,
          4,
          1,
          2,
          5,
          6,
          5,
          2,
          0,
          1,
          6,
          3
         ],
         "k": [
          0,
          7,
          2,
          3,
          6,
          7,
          1,
          1,
          5,
          5,
          7,
          6
         ],
         "type": "mesh3d",
         "x": [
          73,
          73,
          251,
          251,
          73,
          73,
          251,
          251
         ],
         "y": [
          64,
          700,
          700,
          64,
          64,
          700,
          700,
          64
         ],
         "z": [
          21,
          21,
          21,
          21,
          366,
          366,
          366,
          366
         ]
        },
        {
         "colorbar": {
          "title": {
           "text": "z"
          }
         },
         "colorscale": [
          [
           0,
           "gold"
          ],
          [
           0.5,
           "mediumturquoise"
          ],
          [
           1,
           "magenta"
          ]
         ],
         "flatshading": true,
         "i": [
          7,
          0,
          0,
          0,
          4,
          4,
          6,
          6,
          4,
          0,
          3,
          2
         ],
         "intensity": [
          0,
          0.14285714285714285,
          0.2857142857142857,
          0.42857142857142855,
          0.5714285714285714,
          0.7142857142857142,
          0.8571428571428571,
          1
         ],
         "j": [
          3,
          4,
          1,
          2,
          5,
          6,
          5,
          2,
          0,
          1,
          6,
          3
         ],
         "k": [
          0,
          7,
          2,
          3,
          6,
          7,
          1,
          1,
          5,
          5,
          7,
          6
         ],
         "type": "mesh3d",
         "x": [
          73,
          73,
          251,
          251,
          73,
          73,
          251,
          251
         ],
         "y": [
          64,
          700,
          700,
          64,
          64,
          700,
          700,
          64
         ],
         "z": [
          21,
          21,
          21,
          21,
          366,
          366,
          366,
          366
         ]
        },
        {
         "colorbar": {
          "title": {
           "text": "z"
          }
         },
         "colorscale": [
          [
           0,
           "gold"
          ],
          [
           0.5,
           "mediumturquoise"
          ],
          [
           1,
           "magenta"
          ]
         ],
         "flatshading": true,
         "i": [
          7,
          0,
          0,
          0,
          4,
          4,
          6,
          6,
          4,
          0,
          3,
          2
         ],
         "intensity": [
          0,
          0.14285714285714285,
          0.2857142857142857,
          0.42857142857142855,
          0.5714285714285714,
          0.7142857142857142,
          0.8571428571428571,
          1
         ],
         "j": [
          3,
          4,
          1,
          2,
          5,
          6,
          5,
          2,
          0,
          1,
          6,
          3
         ],
         "k": [
          0,
          7,
          2,
          3,
          6,
          7,
          1,
          1,
          5,
          5,
          7,
          6
         ],
         "type": "mesh3d",
         "x": [
          73,
          73,
          251,
          251,
          73,
          73,
          251,
          251
         ],
         "y": [
          64,
          700,
          700,
          64,
          64,
          700,
          700,
          64
         ],
         "z": [
          21,
          21,
          21,
          21,
          366,
          366,
          366,
          366
         ]
        },
        {
         "colorbar": {
          "title": {
           "text": "z"
          }
         },
         "colorscale": [
          [
           0,
           "gold"
          ],
          [
           0.5,
           "mediumturquoise"
          ],
          [
           1,
           "magenta"
          ]
         ],
         "flatshading": true,
         "i": [
          7,
          0,
          0,
          0,
          4,
          4,
          6,
          6,
          4,
          0,
          3,
          2
         ],
         "intensity": [
          0,
          0.14285714285714285,
          0.2857142857142857,
          0.42857142857142855,
          0.5714285714285714,
          0.7142857142857142,
          0.8571428571428571,
          1
         ],
         "j": [
          3,
          4,
          1,
          2,
          5,
          6,
          5,
          2,
          0,
          1,
          6,
          3
         ],
         "k": [
          0,
          7,
          2,
          3,
          6,
          7,
          1,
          1,
          5,
          5,
          7,
          6
         ],
         "type": "mesh3d",
         "x": [
          73,
          73,
          251,
          251,
          73,
          73,
          251,
          251
         ],
         "y": [
          64,
          700,
          700,
          64,
          64,
          700,
          700,
          64
         ],
         "z": [
          21,
          21,
          21,
          21,
          366,
          366,
          366,
          366
         ]
        },
        {
         "colorbar": {
          "title": {
           "text": "z"
          }
         },
         "colorscale": [
          [
           0,
           "gold"
          ],
          [
           0.5,
           "mediumturquoise"
          ],
          [
           1,
           "magenta"
          ]
         ],
         "flatshading": true,
         "i": [
          7,
          0,
          0,
          0,
          4,
          4,
          6,
          6,
          4,
          0,
          3,
          2
         ],
         "intensity": [
          0,
          0.14285714285714285,
          0.2857142857142857,
          0.42857142857142855,
          0.5714285714285714,
          0.7142857142857142,
          0.8571428571428571,
          1
         ],
         "j": [
          3,
          4,
          1,
          2,
          5,
          6,
          5,
          2,
          0,
          1,
          6,
          3
         ],
         "k": [
          0,
          7,
          2,
          3,
          6,
          7,
          1,
          1,
          5,
          5,
          7,
          6
         ],
         "type": "mesh3d",
         "x": [
          73,
          73,
          251,
          251,
          73,
          73,
          251,
          251
         ],
         "y": [
          64,
          700,
          700,
          64,
          64,
          700,
          700,
          64
         ],
         "z": [
          21,
          21,
          21,
          21,
          366,
          366,
          366,
          366
         ]
        },
        {
         "colorbar": {
          "title": {
           "text": "z"
          }
         },
         "colorscale": [
          [
           0,
           "gold"
          ],
          [
           0.5,
           "mediumturquoise"
          ],
          [
           1,
           "magenta"
          ]
         ],
         "flatshading": true,
         "i": [
          7,
          0,
          0,
          0,
          4,
          4,
          6,
          6,
          4,
          0,
          3,
          2
         ],
         "intensity": [
          0,
          0.14285714285714285,
          0.2857142857142857,
          0.42857142857142855,
          0.5714285714285714,
          0.7142857142857142,
          0.8571428571428571,
          1
         ],
         "j": [
          3,
          4,
          1,
          2,
          5,
          6,
          5,
          2,
          0,
          1,
          6,
          3
         ],
         "k": [
          0,
          7,
          2,
          3,
          6,
          7,
          1,
          1,
          5,
          5,
          7,
          6
         ],
         "type": "mesh3d",
         "x": [
          73,
          73,
          251,
          251,
          73,
          73,
          251,
          251
         ],
         "y": [
          64,
          700,
          700,
          64,
          64,
          700,
          700,
          64
         ],
         "z": [
          21,
          21,
          21,
          21,
          366,
          366,
          366,
          366
         ]
        },
        {
         "colorbar": {
          "title": {
           "text": "z"
          }
         },
         "colorscale": [
          [
           0,
           "gold"
          ],
          [
           0.5,
           "mediumturquoise"
          ],
          [
           1,
           "magenta"
          ]
         ],
         "flatshading": true,
         "i": [
          7,
          0,
          0,
          0,
          4,
          4,
          6,
          6,
          4,
          0,
          3,
          2
         ],
         "intensity": [
          0,
          0.14285714285714285,
          0.2857142857142857,
          0.42857142857142855,
          0.5714285714285714,
          0.7142857142857142,
          0.8571428571428571,
          1
         ],
         "j": [
          3,
          4,
          1,
          2,
          5,
          6,
          5,
          2,
          0,
          1,
          6,
          3
         ],
         "k": [
          0,
          7,
          2,
          3,
          6,
          7,
          1,
          1,
          5,
          5,
          7,
          6
         ],
         "type": "mesh3d",
         "x": [
          73,
          73,
          251,
          251,
          73,
          73,
          251,
          251
         ],
         "y": [
          64,
          700,
          700,
          64,
          64,
          700,
          700,
          64
         ],
         "z": [
          21,
          21,
          21,
          21,
          366,
          366,
          366,
          366
         ]
        },
        {
         "colorbar": {
          "title": {
           "text": "z"
          }
         },
         "colorscale": [
          [
           0,
           "gold"
          ],
          [
           0.5,
           "mediumturquoise"
          ],
          [
           1,
           "magenta"
          ]
         ],
         "flatshading": true,
         "i": [
          7,
          0,
          0,
          0,
          4,
          4,
          6,
          6,
          4,
          0,
          3,
          2
         ],
         "intensity": [
          0,
          0.14285714285714285,
          0.2857142857142857,
          0.42857142857142855,
          0.5714285714285714,
          0.7142857142857142,
          0.8571428571428571,
          1
         ],
         "j": [
          3,
          4,
          1,
          2,
          5,
          6,
          5,
          2,
          0,
          1,
          6,
          3
         ],
         "k": [
          0,
          7,
          2,
          3,
          6,
          7,
          1,
          1,
          5,
          5,
          7,
          6
         ],
         "type": "mesh3d",
         "x": [
          73,
          73,
          251,
          251,
          73,
          73,
          251,
          251
         ],
         "y": [
          64,
          700,
          700,
          64,
          64,
          700,
          700,
          64
         ],
         "z": [
          21,
          21,
          21,
          21,
          366,
          366,
          366,
          366
         ]
        }
       ],
       "layout": {
        "autosize": true,
        "margin": {
         "b": 10,
         "l": 10,
         "r": 20,
         "t": 10
        },
        "scene": {
         "aspectmode": "auto",
         "aspectratio": {
          "x": 0.9427626359593941,
          "y": 1.0341691598517366,
          "z": 1.025666227396635
         },
         "camera": {
          "center": {
           "x": 0,
           "y": 0,
           "z": 0
          },
          "eye": {
           "x": 1.0329420703188004,
           "y": 1.0329420703188001,
           "z": 1.0329420703188004
          },
          "projection": {
           "type": "perspective"
          },
          "up": {
           "x": 0,
           "y": 0,
           "z": 1
          }
         },
         "xaxis": {
          "nticks": 4,
          "range": [
           0,
           1000
          ],
          "type": "linear"
         },
         "yaxis": {
          "nticks": 4,
          "range": [
           0,
           1000
          ],
          "type": "linear"
         },
         "zaxis": {
          "nticks": 4,
          "range": [
           0,
           1000
          ],
          "type": "linear"
         }
        },
        "template": {
         "data": {
          "bar": [
           {
            "error_x": {
             "color": "#2a3f5f"
            },
            "error_y": {
             "color": "#2a3f5f"
            },
            "marker": {
             "line": {
              "color": "#E5ECF6",
              "width": 0.5
             },
             "pattern": {
              "fillmode": "overlay",
              "size": 10,
              "solidity": 0.2
             }
            },
            "type": "bar"
           }
          ],
          "barpolar": [
           {
            "marker": {
             "line": {
              "color": "#E5ECF6",
              "width": 0.5
             },
             "pattern": {
              "fillmode": "overlay",
              "size": 10,
              "solidity": 0.2
             }
            },
            "type": "barpolar"
           }
          ],
          "carpet": [
           {
            "aaxis": {
             "endlinecolor": "#2a3f5f",
             "gridcolor": "white",
             "linecolor": "white",
             "minorgridcolor": "white",
             "startlinecolor": "#2a3f5f"
            },
            "baxis": {
             "endlinecolor": "#2a3f5f",
             "gridcolor": "white",
             "linecolor": "white",
             "minorgridcolor": "white",
             "startlinecolor": "#2a3f5f"
            },
            "type": "carpet"
           }
          ],
          "choropleth": [
           {
            "colorbar": {
             "outlinewidth": 0,
             "ticks": ""
            },
            "type": "choropleth"
           }
          ],
          "contour": [
           {
            "colorbar": {
             "outlinewidth": 0,
             "ticks": ""
            },
            "colorscale": [
             [
              0,
              "#0d0887"
             ],
             [
              0.1111111111111111,
              "#46039f"
             ],
             [
              0.2222222222222222,
              "#7201a8"
             ],
             [
              0.3333333333333333,
              "#9c179e"
             ],
             [
              0.4444444444444444,
              "#bd3786"
             ],
             [
              0.5555555555555556,
              "#d8576b"
             ],
             [
              0.6666666666666666,
              "#ed7953"
             ],
             [
              0.7777777777777778,
              "#fb9f3a"
             ],
             [
              0.8888888888888888,
              "#fdca26"
             ],
             [
              1,
              "#f0f921"
             ]
            ],
            "type": "contour"
           }
          ],
          "contourcarpet": [
           {
            "colorbar": {
             "outlinewidth": 0,
             "ticks": ""
            },
            "type": "contourcarpet"
           }
          ],
          "heatmap": [
           {
            "colorbar": {
             "outlinewidth": 0,
             "ticks": ""
            },
            "colorscale": [
             [
              0,
              "#0d0887"
             ],
             [
              0.1111111111111111,
              "#46039f"
             ],
             [
              0.2222222222222222,
              "#7201a8"
             ],
             [
              0.3333333333333333,
              "#9c179e"
             ],
             [
              0.4444444444444444,
              "#bd3786"
             ],
             [
              0.5555555555555556,
              "#d8576b"
             ],
             [
              0.6666666666666666,
              "#ed7953"
             ],
             [
              0.7777777777777778,
              "#fb9f3a"
             ],
             [
              0.8888888888888888,
              "#fdca26"
             ],
             [
              1,
              "#f0f921"
             ]
            ],
            "type": "heatmap"
           }
          ],
          "heatmapgl": [
           {
            "colorbar": {
             "outlinewidth": 0,
             "ticks": ""
            },
            "colorscale": [
             [
              0,
              "#0d0887"
             ],
             [
              0.1111111111111111,
              "#46039f"
             ],
             [
              0.2222222222222222,
              "#7201a8"
             ],
             [
              0.3333333333333333,
              "#9c179e"
             ],
             [
              0.4444444444444444,
              "#bd3786"
             ],
             [
              0.5555555555555556,
              "#d8576b"
             ],
             [
              0.6666666666666666,
              "#ed7953"
             ],
             [
              0.7777777777777778,
              "#fb9f3a"
             ],
             [
              0.8888888888888888,
              "#fdca26"
             ],
             [
              1,
              "#f0f921"
             ]
            ],
            "type": "heatmapgl"
           }
          ],
          "histogram": [
           {
            "marker": {
             "pattern": {
              "fillmode": "overlay",
              "size": 10,
              "solidity": 0.2
             }
            },
            "type": "histogram"
           }
          ],
          "histogram2d": [
           {
            "colorbar": {
             "outlinewidth": 0,
             "ticks": ""
            },
            "colorscale": [
             [
              0,
              "#0d0887"
             ],
             [
              0.1111111111111111,
              "#46039f"
             ],
             [
              0.2222222222222222,
              "#7201a8"
             ],
             [
              0.3333333333333333,
              "#9c179e"
             ],
             [
              0.4444444444444444,
              "#bd3786"
             ],
             [
              0.5555555555555556,
              "#d8576b"
             ],
             [
              0.6666666666666666,
              "#ed7953"
             ],
             [
              0.7777777777777778,
              "#fb9f3a"
             ],
             [
              0.8888888888888888,
              "#fdca26"
             ],
             [
              1,
              "#f0f921"
             ]
            ],
            "type": "histogram2d"
           }
          ],
          "histogram2dcontour": [
           {
            "colorbar": {
             "outlinewidth": 0,
             "ticks": ""
            },
            "colorscale": [
             [
              0,
              "#0d0887"
             ],
             [
              0.1111111111111111,
              "#46039f"
             ],
             [
              0.2222222222222222,
              "#7201a8"
             ],
             [
              0.3333333333333333,
              "#9c179e"
             ],
             [
              0.4444444444444444,
              "#bd3786"
             ],
             [
              0.5555555555555556,
              "#d8576b"
             ],
             [
              0.6666666666666666,
              "#ed7953"
             ],
             [
              0.7777777777777778,
              "#fb9f3a"
             ],
             [
              0.8888888888888888,
              "#fdca26"
             ],
             [
              1,
              "#f0f921"
             ]
            ],
            "type": "histogram2dcontour"
           }
          ],
          "mesh3d": [
           {
            "colorbar": {
             "outlinewidth": 0,
             "ticks": ""
            },
            "type": "mesh3d"
           }
          ],
          "parcoords": [
           {
            "line": {
             "colorbar": {
              "outlinewidth": 0,
              "ticks": ""
             }
            },
            "type": "parcoords"
           }
          ],
          "pie": [
           {
            "automargin": true,
            "type": "pie"
           }
          ],
          "scatter": [
           {
            "fillpattern": {
             "fillmode": "overlay",
             "size": 10,
             "solidity": 0.2
            },
            "type": "scatter"
           }
          ],
          "scatter3d": [
           {
            "line": {
             "colorbar": {
              "outlinewidth": 0,
              "ticks": ""
             }
            },
            "marker": {
             "colorbar": {
              "outlinewidth": 0,
              "ticks": ""
             }
            },
            "type": "scatter3d"
           }
          ],
          "scattercarpet": [
           {
            "marker": {
             "colorbar": {
              "outlinewidth": 0,
              "ticks": ""
             }
            },
            "type": "scattercarpet"
           }
          ],
          "scattergeo": [
           {
            "marker": {
             "colorbar": {
              "outlinewidth": 0,
              "ticks": ""
             }
            },
            "type": "scattergeo"
           }
          ],
          "scattergl": [
           {
            "marker": {
             "colorbar": {
              "outlinewidth": 0,
              "ticks": ""
             }
            },
            "type": "scattergl"
           }
          ],
          "scattermapbox": [
           {
            "marker": {
             "colorbar": {
              "outlinewidth": 0,
              "ticks": ""
             }
            },
            "type": "scattermapbox"
           }
          ],
          "scatterpolar": [
           {
            "marker": {
             "colorbar": {
              "outlinewidth": 0,
              "ticks": ""
             }
            },
            "type": "scatterpolar"
           }
          ],
          "scatterpolargl": [
           {
            "marker": {
             "colorbar": {
              "outlinewidth": 0,
              "ticks": ""
             }
            },
            "type": "scatterpolargl"
           }
          ],
          "scatterternary": [
           {
            "marker": {
             "colorbar": {
              "outlinewidth": 0,
              "ticks": ""
             }
            },
            "type": "scatterternary"
           }
          ],
          "surface": [
           {
            "colorbar": {
             "outlinewidth": 0,
             "ticks": ""
            },
            "colorscale": [
             [
              0,
              "#0d0887"
             ],
             [
              0.1111111111111111,
              "#46039f"
             ],
             [
              0.2222222222222222,
              "#7201a8"
             ],
             [
              0.3333333333333333,
              "#9c179e"
             ],
             [
              0.4444444444444444,
              "#bd3786"
             ],
             [
              0.5555555555555556,
              "#d8576b"
             ],
             [
              0.6666666666666666,
              "#ed7953"
             ],
             [
              0.7777777777777778,
              "#fb9f3a"
             ],
             [
              0.8888888888888888,
              "#fdca26"
             ],
             [
              1,
              "#f0f921"
             ]
            ],
            "type": "surface"
           }
          ],
          "table": [
           {
            "cells": {
             "fill": {
              "color": "#EBF0F8"
             },
             "line": {
              "color": "white"
             }
            },
            "header": {
             "fill": {
              "color": "#C8D4E3"
             },
             "line": {
              "color": "white"
             }
            },
            "type": "table"
           }
          ]
         },
         "layout": {
          "annotationdefaults": {
           "arrowcolor": "#2a3f5f",
           "arrowhead": 0,
           "arrowwidth": 1
          },
          "autotypenumbers": "strict",
          "coloraxis": {
           "colorbar": {
            "outlinewidth": 0,
            "ticks": ""
           }
          },
          "colorscale": {
           "diverging": [
            [
             0,
             "#8e0152"
            ],
            [
             0.1,
             "#c51b7d"
            ],
            [
             0.2,
             "#de77ae"
            ],
            [
             0.3,
             "#f1b6da"
            ],
            [
             0.4,
             "#fde0ef"
            ],
            [
             0.5,
             "#f7f7f7"
            ],
            [
             0.6,
             "#e6f5d0"
            ],
            [
             0.7,
             "#b8e186"
            ],
            [
             0.8,
             "#7fbc41"
            ],
            [
             0.9,
             "#4d9221"
            ],
            [
             1,
             "#276419"
            ]
           ],
           "sequential": [
            [
             0,
             "#0d0887"
            ],
            [
             0.1111111111111111,
             "#46039f"
            ],
            [
             0.2222222222222222,
             "#7201a8"
            ],
            [
             0.3333333333333333,
             "#9c179e"
            ],
            [
             0.4444444444444444,
             "#bd3786"
            ],
            [
             0.5555555555555556,
             "#d8576b"
            ],
            [
             0.6666666666666666,
             "#ed7953"
            ],
            [
             0.7777777777777778,
             "#fb9f3a"
            ],
            [
             0.8888888888888888,
             "#fdca26"
            ],
            [
             1,
             "#f0f921"
            ]
           ],
           "sequentialminus": [
            [
             0,
             "#0d0887"
            ],
            [
             0.1111111111111111,
             "#46039f"
            ],
            [
             0.2222222222222222,
             "#7201a8"
            ],
            [
             0.3333333333333333,
             "#9c179e"
            ],
            [
             0.4444444444444444,
             "#bd3786"
            ],
            [
             0.5555555555555556,
             "#d8576b"
            ],
            [
             0.6666666666666666,
             "#ed7953"
            ],
            [
             0.7777777777777778,
             "#fb9f3a"
            ],
            [
             0.8888888888888888,
             "#fdca26"
            ],
            [
             1,
             "#f0f921"
            ]
           ]
          },
          "colorway": [
           "#636efa",
           "#EF553B",
           "#00cc96",
           "#ab63fa",
           "#FFA15A",
           "#19d3f3",
           "#FF6692",
           "#B6E880",
           "#FF97FF",
           "#FECB52"
          ],
          "font": {
           "color": "#2a3f5f"
          },
          "geo": {
           "bgcolor": "white",
           "lakecolor": "white",
           "landcolor": "#E5ECF6",
           "showlakes": true,
           "showland": true,
           "subunitcolor": "white"
          },
          "hoverlabel": {
           "align": "left"
          },
          "hovermode": "closest",
          "mapbox": {
           "style": "light"
          },
          "paper_bgcolor": "white",
          "plot_bgcolor": "#E5ECF6",
          "polar": {
           "angularaxis": {
            "gridcolor": "white",
            "linecolor": "white",
            "ticks": ""
           },
           "bgcolor": "#E5ECF6",
           "radialaxis": {
            "gridcolor": "white",
            "linecolor": "white",
            "ticks": ""
           }
          },
          "scene": {
           "xaxis": {
            "backgroundcolor": "#E5ECF6",
            "gridcolor": "white",
            "gridwidth": 2,
            "linecolor": "white",
            "showbackground": true,
            "ticks": "",
            "zerolinecolor": "white"
           },
           "yaxis": {
            "backgroundcolor": "#E5ECF6",
            "gridcolor": "white",
            "gridwidth": 2,
            "linecolor": "white",
            "showbackground": true,
            "ticks": "",
            "zerolinecolor": "white"
           },
           "zaxis": {
            "backgroundcolor": "#E5ECF6",
            "gridcolor": "white",
            "gridwidth": 2,
            "linecolor": "white",
            "showbackground": true,
            "ticks": "",
            "zerolinecolor": "white"
           }
          },
          "shapedefaults": {
           "line": {
            "color": "#2a3f5f"
           }
          },
          "ternary": {
           "aaxis": {
            "gridcolor": "white",
            "linecolor": "white",
            "ticks": ""
           },
           "baxis": {
            "gridcolor": "white",
            "linecolor": "white",
            "ticks": ""
           },
           "bgcolor": "#E5ECF6",
           "caxis": {
            "gridcolor": "white",
            "linecolor": "white",
            "ticks": ""
           }
          },
          "title": {
           "x": 0.05
          },
          "xaxis": {
           "automargin": true,
           "gridcolor": "white",
           "linecolor": "white",
           "ticks": "",
           "title": {
            "standoff": 15
           },
           "zerolinecolor": "white",
           "zerolinewidth": 2
          },
          "yaxis": {
           "automargin": true,
           "gridcolor": "white",
           "linecolor": "white",
           "ticks": "",
           "title": {
            "standoff": 15
           },
           "zerolinecolor": "white",
           "zerolinewidth": 2
          }
         }
        }
       }
      },
      "image/png": "[encoded data removed]",
      "text/html": [
       "<div>                            <div id=\"b8813faa-5f90-489b-886f-5a1c8931f130\" class=\"plotly-graph-div\" style=\"height:525px; width:700px;\"></div>            <script type=\"text/javascript\">                require([\"plotly\"], function(Plotly) {                    window.PLOTLYENV=window.PLOTLYENV || {};                                    if (document.getElementById(\"b8813faa-5f90-489b-886f-5a1c8931f130\")) {                    Plotly.newPlot(                        \"b8813faa-5f90-489b-886f-5a1c8931f130\",                        [{\"colorbar\":{\"title\":{\"text\":\"z\"}},\"colorscale\":[[0,\"gold\"],[0.5,\"mediumturquoise\"],[1,\"magenta\"]],\"flatshading\":true,\"i\":[7,0,0,0,4,4,6,6,4,0,3,2],\"intensity\":[0.0,0.14285714285714285,0.2857142857142857,0.42857142857142855,0.5714285714285714,0.7142857142857142,0.8571428571428571,1.0],\"j\":[3,4,1,2,5,6,5,2,0,1,6,3],\"k\":[0,7,2,3,6,7,1,1,5,5,7,6],\"x\":[169.0,169.0,757.0,757.0,169.0,169.0,757.0,757.0],\"y\":[40.0,737.0,737.0,40.0,40.0,737.0,737.0,40.0],\"z\":[106.0,106.0,106.0,106.0,106.0,106.0,106.0,106.0],\"type\":\"mesh3d\"},{\"colorbar\":{\"title\":{\"text\":\"z\"}},\"colorscale\":[[0,\"gold\"],[0.5,\"mediumturquoise\"],[1,\"magenta\"]],\"flatshading\":true,\"i\":[7,0,0,0,4,4,6,6,4,0,3,2],\"intensity\":[0.0,0.14285714285714285,0.2857142857142857,0.42857142857142855,0.5714285714285714,0.7142857142857142,0.8571428571428571,1.0],\"j\":[3,4,1,2,5,6,5,2,0,1,6,3],\"k\":[0,7,2,3,6,7,1,1,5,5,7,6],\"x\":[169.0,169.0,757.0,757.0,169.0,169.0,757.0,757.0],\"y\":[40.0,737.0,737.0,40.0,40.0,737.0,737.0,40.0],\"z\":[106.0,106.0,106.0,106.0,106.0,106.0,106.0,106.0],\"type\":\"mesh3d\"},{\"colorbar\":{\"title\":{\"text\":\"z\"}},\"colorscale\":[[0,\"gold\"],[0.5,\"mediumturquoise\"],[1,\"magenta\"]],\"flatshading\":true,\"i\":[7,0,0,0,4,4,6,6,4,0,3,2],\"intensity\":[0.0,0.14285714285714285,0.2857142857142857,0.42857142857142855,0.5714285714285714,0.7142857142857142,0.8571428571428571,1.0],\"j\":[3,4,1,2,5,6,5,2,0,1,6,3],\"k\":[0,7,2,3,6,7,1,1,5,5,7,6],\"x\":[169.0,169.0,757.0,757.0,169.0,169.0,757.0,757.0],\"y\":[40.0,737.0,737.0,40.0,40.0,737.0,737.0,40.0],\"z\":[106.0,106.0,106.0,106.0,106.0,106.0,106.0,106.0],\"type\":\"mesh3d\"},{\"colorbar\":{\"title\":{\"text\":\"z\"}},\"colorscale\":[[0,\"gold\"],[0.5,\"mediumturquoise\"],[1,\"magenta\"]],\"flatshading\":true,\"i\":[7,0,0,0,4,4,6,6,4,0,3,2],\"intensity\":[0.0,0.14285714285714285,0.2857142857142857,0.42857142857142855,0.5714285714285714,0.7142857142857142,0.8571428571428571,1.0],\"j\":[3,4,1,2,5,6,5,2,0,1,6,3],\"k\":[0,7,2,3,6,7,1,1,5,5,7,6],\"x\":[169.0,169.0,757.0,757.0,169.0,169.0,757.0,757.0],\"y\":[40.0,737.0,737.0,40.0,40.0,737.0,737.0,40.0],\"z\":[106.0,106.0,106.0,106.0,106.0,106.0,106.0,106.0],\"type\":\"mesh3d\"},{\"colorbar\":{\"title\":{\"text\":\"z\"}},\"colorscale\":[[0,\"gold\"],[0.5,\"mediumturquoise\"],[1,\"magenta\"]],\"flatshading\":true,\"i\":[7,0,0,0,4,4,6,6,4,0,3,2],\"intensity\":[0.0,0.14285714285714285,0.2857142857142857,0.42857142857142855,0.5714285714285714,0.7142857142857142,0.8571428571428571,1.0],\"j\":[3,4,1,2,5,6,5,2,0,1,6,3],\"k\":[0,7,2,3,6,7,1,1,5,5,7,6],\"x\":[169.0,169.0,757.0,757.0,169.0,169.0,757.0,757.0],\"y\":[40.0,737.0,737.0,40.0,40.0,737.0,737.0,40.0],\"z\":[106.0,106.0,106.0,106.0,106.0,106.0,106.0,106.0],\"type\":\"mesh3d\"},{\"colorbar\":{\"title\":{\"text\":\"z\"}},\"colorscale\":[[0,\"gold\"],[0.5,\"mediumturquoise\"],[1,\"magenta\"]],\"flatshading\":true,\"i\":[7,0,0,0,4,4,6,6,4,0,3,2],\"intensity\":[0.0,0.14285714285714285,0.2857142857142857,0.42857142857142855,0.5714285714285714,0.7142857142857142,0.8571428571428571,1.0],\"j\":[3,4,1,2,5,6,5,2,0,1,6,3],\"k\":[0,7,2,3,6,7,1,1,5,5,7,6],\"x\":[75.0,75.0,454.0,454.0,75.0,75.0,454.0,454.0],\"y\":[11.0,278.0,278.0,11.0,11.0,278.0,278.0,11.0],\"z\":[59.0,59.0,59.0,59.0,972.0,972.0,972.0,972.0],\"type\":\"mesh3d\"},{\"colorbar\":{\"title\":{\"text\":\"z\"}},\"colorscale\":[[0,\"gold\"],[0.5,\"mediumturquoise\"],[1,\"magenta\"]],\"flatshading\":true,\"i\":[7,0,0,0,4,4,6,6,4,0,3,2],\"intensity\":[0.0,0.14285714285714285,0.2857142857142857,0.42857142857142855,0.5714285714285714,0.7142857142857142,0.8571428571428571,1.0],\"j\":[3,4,1,2,5,6,5,2,0,1,6,3],\"k\":[0,7,2,3,6,7,1,1,5,5,7,6],\"x\":[75.0,75.0,454.0,454.0,75.0,75.0,454.0,454.0],\"y\":[11.0,278.0,278.0,11.0,11.0,278.0,278.0,11.0],\"z\":[59.0,59.0,59.0,59.0,972.0,972.0,972.0,972.0],\"type\":\"mesh3d\"},{\"colorbar\":{\"title\":{\"text\":\"z\"}},\"colorscale\":[[0,\"gold\"],[0.5,\"mediumturquoise\"],[1,\"magenta\"]],\"flatshading\":true,\"i\":[7,0,0,0,4,4,6,6,4,0,3,2],\"intensity\":[0.0,0.14285714285714285,0.2857142857142857,0.42857142857142855,0.5714285714285714,0.7142857142857142,0.8571428571428571,1.0],\"j\":[3,4,1,2,5,6,5,2,0,1,6,3],\"k\":[0,7,2,3,6,7,1,1,5,5,7,6],\"x\":[75.0,75.0,454.0,454.0,75.0,75.0,454.0,454.0],\"y\":[11.0,278.0,278.0,11.0,11.0,278.0,278.0,11.0],\"z\":[59.0,59.0,59.0,59.0,972.0,972.0,972.0,972.0],\"type\":\"mesh3d\"},{\"colorbar\":{\"title\":{\"text\":\"z\"}},\"colorscale\":[[0,\"gold\"],[0.5,\"mediumturquoise\"],[1,\"magenta\"]],\"flatshading\":true,\"i\":[7,0,0,0,4,4,6,6,4,0,3,2],\"intensity\":[0.0,0.14285714285714285,0.2857142857142857,0.42857142857142855,0.5714285714285714,0.7142857142857142,0.8571428571428571,1.0],\"j\":[3,4,1,2,5,6,5,2,0,1,6,3],\"k\":[0,7,2,3,6,7,1,1,5,5,7,6],\"x\":[75.0,75.0,454.0,454.0,75.0,75.0,454.0,454.0],\"y\":[11.0,278.0,278.0,11.0,11.0,278.0,278.0,11.0],\"z\":[59.0,59.0,59.0,59.0,972.0,972.0,972.0,972.0],\"type\":\"mesh3d\"},{\"colorbar\":{\"title\":{\"text\":\"z\"}},\"colorscale\":[[0,\"gold\"],[0.5,\"mediumturquoise\"],[1,\"magenta\"]],\"flatshading\":true,\"i\":[7,0,0,0,4,4,6,6,4,0,3,2],\"intensity\":[0.0,0.14285714285714285,0.2857142857142857,0.42857142857142855,0.5714285714285714,0.7142857142857142,0.8571428571428571,1.0],\"j\":[3,4,1,2,5,6,5,2,0,1,6,3],\"k\":[0,7,2,3,6,7,1,1,5,5,7,6],\"x\":[75.0,75.0,454.0,454.0,75.0,75.0,454.0,454.0],\"y\":[11.0,278.0,278.0,11.0,11.0,278.0,278.0,11.0],\"z\":[59.0,59.0,59.0,59.0,972.0,972.0,972.0,972.0],\"type\":\"mesh3d\"},{\"colorbar\":{\"title\":{\"text\":\"z\"}},\"colorscale\":[[0,\"gold\"],[0.5,\"mediumturquoise\"],[1,\"magenta\"]],\"flatshading\":true,\"i\":[7,0,0,0,4,4,6,6,4,0,3,2],\"intensity\":[0.0,0.14285714285714285,0.2857142857142857,0.42857142857142855,0.5714285714285714,0.7142857142857142,0.8571428571428571,1.0],\"j\":[3,4,1,2,5,6,5,2,0,1,6,3],\"k\":[0,7,2,3,6,7,1,1,5,5,7,6],\"x\":[75.0,75.0,454.0,454.0,75.0,75.0,454.0,454.0],\"y\":[11.0,278.0,278.0,11.0,11.0,278.0,278.0,11.0],\"z\":[59.0,59.0,59.0,59.0,972.0,972.0,972.0,972.0],\"type\":\"mesh3d\"},{\"colorbar\":{\"title\":{\"text\":\"z\"}},\"colorscale\":[[0,\"gold\"],[0.5,\"mediumturquoise\"],[1,\"magenta\"]],\"flatshading\":true,\"i\":[7,0,0,0,4,4,6,6,4,0,3,2],\"intensity\":[0.0,0.14285714285714285,0.2857142857142857,0.42857142857142855,0.5714285714285714,0.7142857142857142,0.8571428571428571,1.0],\"j\":[3,4,1,2,5,6,5,2,0,1,6,3],\"k\":[0,7,2,3,6,7,1,1,5,5,7,6],\"x\":[75.0,75.0,454.0,454.0,75.0,75.0,454.0,454.0],\"y\":[11.0,278.0,278.0,11.0,11.0,278.0,278.0,11.0],\"z\":[59.0,59.0,59.0,59.0,972.0,972.0,972.0,972.0],\"type\":\"mesh3d\"},{\"colorbar\":{\"title\":{\"text\":\"z\"}},\"colorscale\":[[0,\"gold\"],[0.5,\"mediumturquoise\"],[1,\"magenta\"]],\"flatshading\":true,\"i\":[7,0,0,0,4,4,6,6,4,0,3,2],\"intensity\":[0.0,0.14285714285714285,0.2857142857142857,0.42857142857142855,0.5714285714285714,0.7142857142857142,0.8571428571428571,1.0],\"j\":[3,4,1,2,5,6,5,2,0,1,6,3],\"k\":[0,7,2,3,6,7,1,1,5,5,7,6],\"x\":[75.0,75.0,454.0,454.0,75.0,75.0,454.0,454.0],\"y\":[11.0,278.0,278.0,11.0,11.0,278.0,278.0,11.0],\"z\":[59.0,59.0,59.0,59.0,972.0,972.0,972.0,972.0],\"type\":\"mesh3d\"},{\"colorbar\":{\"title\":{\"text\":\"z\"}},\"colorscale\":[[0,\"gold\"],[0.5,\"mediumturquoise\"],[1,\"magenta\"]],\"flatshading\":true,\"i\":[7,0,0,0,4,4,6,6,4,0,3,2],\"intensity\":[0.0,0.14285714285714285,0.2857142857142857,0.42857142857142855,0.5714285714285714,0.7142857142857142,0.8571428571428571,1.0],\"j\":[3,4,1,2,5,6,5,2,0,1,6,3],\"k\":[0,7,2,3,6,7,1,1,5,5,7,6],\"x\":[75.0,75.0,454.0,454.0,75.0,75.0,454.0,454.0],\"y\":[11.0,278.0,278.0,11.0,11.0,278.0,278.0,11.0],\"z\":[59.0,59.0,59.0,59.0,972.0,972.0,972.0,972.0],\"type\":\"mesh3d\"},{\"colorbar\":{\"title\":{\"text\":\"z\"}},\"colorscale\":[[0,\"gold\"],[0.5,\"mediumturquoise\"],[1,\"magenta\"]],\"flatshading\":true,\"i\":[7,0,0,0,4,4,6,6,4,0,3,2],\"intensity\":[0.0,0.14285714285714285,0.2857142857142857,0.42857142857142855,0.5714285714285714,0.7142857142857142,0.8571428571428571,1.0],\"j\":[3,4,1,2,5,6,5,2,0,1,6,3],\"k\":[0,7,2,3,6,7,1,1,5,5,7,6],\"x\":[75.0,75.0,454.0,454.0,75.0,75.0,454.0,454.0],\"y\":[11.0,278.0,278.0,11.0,11.0,278.0,278.0,11.0],\"z\":[59.0,59.0,59.0,59.0,972.0,972.0,972.0,972.0],\"type\":\"mesh3d\"},{\"colorbar\":{\"title\":{\"text\":\"z\"}},\"colorscale\":[[0,\"gold\"],[0.5,\"mediumturquoise\"],[1,\"magenta\"]],\"flatshading\":true,\"i\":[7,0,0,0,4,4,6,6,4,0,3,2],\"intensity\":[0.0,0.14285714285714285,0.2857142857142857,0.42857142857142855,0.5714285714285714,0.7142857142857142,0.8571428571428571,1.0],\"j\":[3,4,1,2,5,6,5,2,0,1,6,3],\"k\":[0,7,2,3,6,7,1,1,5,5,7,6],\"x\":[75.0,75.0,454.0,454.0,75.0,75.0,454.0,454.0],\"y\":[11.0,278.0,278.0,11.0,11.0,278.0,278.0,11.0],\"z\":[59.0,59.0,59.0,59.0,972.0,972.0,972.0,972.0],\"type\":\"mesh3d\"},{\"colorbar\":{\"title\":{\"text\":\"z\"}},\"colorscale\":[[0,\"gold\"],[0.5,\"mediumturquoise\"],[1,\"magenta\"]],\"flatshading\":true,\"i\":[7,0,0,0,4,4,6,6,4,0,3,2],\"intensity\":[0.0,0.14285714285714285,0.2857142857142857,0.42857142857142855,0.5714285714285714,0.7142857142857142,0.8571428571428571,1.0],\"j\":[3,4,1,2,5,6,5,2,0,1,6,3],\"k\":[0,7,2,3,6,7,1,1,5,5,7,6],\"x\":[114.0,114.0,360.0,360.0,114.0,114.0,360.0,360.0],\"y\":[93.0,301.0,301.0,93.0,93.0,301.0,301.0,93.0],\"z\":[11.0,11.0,11.0,11.0,833.0,833.0,833.0,833.0],\"type\":\"mesh3d\"},{\"colorbar\":{\"title\":{\"text\":\"z\"}},\"colorscale\":[[0,\"gold\"],[0.5,\"mediumturquoise\"],[1,\"magenta\"]],\"flatshading\":true,\"i\":[7,0,0,0,4,4,6,6,4,0,3,2],\"intensity\":[0.0,0.14285714285714285,0.2857142857142857,0.42857142857142855,0.5714285714285714,0.7142857142857142,0.8571428571428571,1.0],\"j\":[3,4,1,2,5,6,5,2,0,1,6,3],\"k\":[0,7,2,3,6,7,1,1,5,5,7,6],\"x\":[114.0,114.0,360.0,360.0,114.0,114.0,360.0,360.0],\"y\":[93.0,301.0,301.0,93.0,93.0,301.0,301.0,93.0],\"z\":[11.0,11.0,11.0,11.0,833.0,833.0,833.0,833.0],\"type\":\"mesh3d\"},{\"colorbar\":{\"title\":{\"text\":\"z\"}},\"colorscale\":[[0,\"gold\"],[0.5,\"mediumturquoise\"],[1,\"magenta\"]],\"flatshading\":true,\"i\":[7,0,0,0,4,4,6,6,4,0,3,2],\"intensity\":[0.0,0.14285714285714285,0.2857142857142857,0.42857142857142855,0.5714285714285714,0.7142857142857142,0.8571428571428571,1.0],\"j\":[3,4,1,2,5,6,5,2,0,1,6,3],\"k\":[0,7,2,3,6,7,1,1,5,5,7,6],\"x\":[114.0,114.0,360.0,360.0,114.0,114.0,360.0,360.0],\"y\":[93.0,301.0,301.0,93.0,93.0,301.0,301.0,93.0],\"z\":[11.0,11.0,11.0,11.0,833.0,833.0,833.0,833.0],\"type\":\"mesh3d\"},{\"colorbar\":{\"title\":{\"text\":\"z\"}},\"colorscale\":[[0,\"gold\"],[0.5,\"mediumturquoise\"],[1,\"magenta\"]],\"flatshading\":true,\"i\":[7,0,0,0,4,4,6,6,4,0,3,2],\"intensity\":[0.0,0.14285714285714285,0.2857142857142857,0.42857142857142855,0.5714285714285714,0.7142857142857142,0.8571428571428571,1.0],\"j\":[3,4,1,2,5,6,5,2,0,1,6,3],\"k\":[0,7,2,3,6,7,1,1,5,5,7,6],\"x\":[114.0,114.0,360.0,360.0,114.0,114.0,360.0,360.0],\"y\":[93.0,301.0,301.0,93.0,93.0,301.0,301.0,93.0],\"z\":[11.0,11.0,11.0,11.0,833.0,833.0,833.0,833.0],\"type\":\"mesh3d\"},{\"colorbar\":{\"title\":{\"text\":\"z\"}},\"colorscale\":[[0,\"gold\"],[0.5,\"mediumturquoise\"],[1,\"magenta\"]],\"flatshading\":true,\"i\":[7,0,0,0,4,4,6,6,4,0,3,2],\"intensity\":[0.0,0.14285714285714285,0.2857142857142857,0.42857142857142855,0.5714285714285714,0.7142857142857142,0.8571428571428571,1.0],\"j\":[3,4,1,2,5,6,5,2,0,1,6,3],\"k\":[0,7,2,3,6,7,1,1,5,5,7,6],\"x\":[114.0,114.0,360.0,360.0,114.0,114.0,360.0,360.0],\"y\":[93.0,301.0,301.0,93.0,93.0,301.0,301.0,93.0],\"z\":[11.0,11.0,11.0,11.0,833.0,833.0,833.0,833.0],\"type\":\"mesh3d\"},{\"colorbar\":{\"title\":{\"text\":\"z\"}},\"colorscale\":[[0,\"gold\"],[0.5,\"mediumturquoise\"],[1,\"magenta\"]],\"flatshading\":true,\"i\":[7,0,0,0,4,4,6,6,4,0,3,2],\"intensity\":[0.0,0.14285714285714285,0.2857142857142857,0.42857142857142855,0.5714285714285714,0.7142857142857142,0.8571428571428571,1.0],\"j\":[3,4,1,2,5,6,5,2,0,1,6,3],\"k\":[0,7,2,3,6,7,1,1,5,5,7,6],\"x\":[114.0,114.0,360.0,360.0,114.0,114.0,360.0,360.0],\"y\":[93.0,301.0,301.0,93.0,93.0,301.0,301.0,93.0],\"z\":[11.0,11.0,11.0,11.0,833.0,833.0,833.0,833.0],\"type\":\"mesh3d\"},{\"colorbar\":{\"title\":{\"text\":\"z\"}},\"colorscale\":[[0,\"gold\"],[0.5,\"mediumturquoise\"],[1,\"magenta\"]],\"flatshading\":true,\"i\":[7,0,0,0,4,4,6,6,4,0,3,2],\"intensity\":[0.0,0.14285714285714285,0.2857142857142857,0.42857142857142855,0.5714285714285714,0.7142857142857142,0.8571428571428571,1.0],\"j\":[3,4,1,2,5,6,5,2,0,1,6,3],\"k\":[0,7,2,3,6,7,1,1,5,5,7,6],\"x\":[114.0,114.0,360.0,360.0,114.0,114.0,360.0,360.0],\"y\":[93.0,301.0,301.0,93.0,93.0,301.0,301.0,93.0],\"z\":[11.0,11.0,11.0,11.0,833.0,833.0,833.0,833.0],\"type\":\"mesh3d\"},{\"colorbar\":{\"title\":{\"text\":\"z\"}},\"colorscale\":[[0,\"gold\"],[0.5,\"mediumturquoise\"],[1,\"magenta\"]],\"flatshading\":true,\"i\":[7,0,0,0,4,4,6,6,4,0,3,2],\"intensity\":[0.0,0.14285714285714285,0.2857142857142857,0.42857142857142855,0.5714285714285714,0.7142857142857142,0.8571428571428571,1.0],\"j\":[3,4,1,2,5,6,5,2,0,1,6,3],\"k\":[0,7,2,3,6,7,1,1,5,5,7,6],\"x\":[114.0,114.0,360.0,360.0,114.0,114.0,360.0,360.0],\"y\":[93.0,301.0,301.0,93.0,93.0,301.0,301.0,93.0],\"z\":[11.0,11.0,11.0,11.0,833.0,833.0,833.0,833.0],\"type\":\"mesh3d\"},{\"colorbar\":{\"title\":{\"text\":\"z\"}},\"colorscale\":[[0,\"gold\"],[0.5,\"mediumturquoise\"],[1,\"magenta\"]],\"flatshading\":true,\"i\":[7,0,0,0,4,4,6,6,4,0,3,2],\"intensity\":[0.0,0.14285714285714285,0.2857142857142857,0.42857142857142855,0.5714285714285714,0.7142857142857142,0.8571428571428571,1.0],\"j\":[3,4,1,2,5,6,5,2,0,1,6,3],\"k\":[0,7,2,3,6,7,1,1,5,5,7,6],\"x\":[114.0,114.0,360.0,360.0,114.0,114.0,360.0,360.0],\"y\":[93.0,301.0,301.0,93.0,93.0,301.0,301.0,93.0],\"z\":[11.0,11.0,11.0,11.0,833.0,833.0,833.0,833.0],\"type\":\"mesh3d\"},{\"colorbar\":{\"title\":{\"text\":\"z\"}},\"colorscale\":[[0,\"gold\"],[0.5,\"mediumturquoise\"],[1,\"magenta\"]],\"flatshading\":true,\"i\":[7,0,0,0,4,4,6,6,4,0,3,2],\"intensity\":[0.0,0.14285714285714285,0.2857142857142857,0.42857142857142855,0.5714285714285714,0.7142857142857142,0.8571428571428571,1.0],\"j\":[3,4,1,2,5,6,5,2,0,1,6,3],\"k\":[0,7,2,3,6,7,1,1,5,5,7,6],\"x\":[114.0,114.0,360.0,360.0,114.0,114.0,360.0,360.0],\"y\":[93.0,301.0,301.0,93.0,93.0,301.0,301.0,93.0],\"z\":[11.0,11.0,11.0,11.0,833.0,833.0,833.0,833.0],\"type\":\"mesh3d\"},{\"colorbar\":{\"title\":{\"text\":\"z\"}},\"colorscale\":[[0,\"gold\"],[0.5,\"mediumturquoise\"],[1,\"magenta\"]],\"flatshading\":true,\"i\":[7,0,0,0,4,4,6,6,4,0,3,2],\"intensity\":[0.0,0.14285714285714285,0.2857142857142857,0.42857142857142855,0.5714285714285714,0.7142857142857142,0.8571428571428571,1.0],\"j\":[3,4,1,2,5,6,5,2,0,1,6,3],\"k\":[0,7,2,3,6,7,1,1,5,5,7,6],\"x\":[31.0,31.0,492.0,492.0,31.0,31.0,492.0,492.0],\"y\":[69.0,352.0,352.0,69.0,69.0,352.0,352.0,69.0],\"z\":[46.0,46.0,46.0,46.0,489.0,489.0,489.0,489.0],\"type\":\"mesh3d\"},{\"colorbar\":{\"title\":{\"text\":\"z\"}},\"colorscale\":[[0,\"gold\"],[0.5,\"mediumturquoise\"],[1,\"magenta\"]],\"flatshading\":true,\"i\":[7,0,0,0,4,4,6,6,4,0,3,2],\"intensity\":[0.0,0.14285714285714285,0.2857142857142857,0.42857142857142855,0.5714285714285714,0.7142857142857142,0.8571428571428571,1.0],\"j\":[3,4,1,2,5,6,5,2,0,1,6,3],\"k\":[0,7,2,3,6,7,1,1,5,5,7,6],\"x\":[31.0,31.0,492.0,492.0,31.0,31.0,492.0,492.0],\"y\":[69.0,352.0,352.0,69.0,69.0,352.0,352.0,69.0],\"z\":[46.0,46.0,46.0,46.0,489.0,489.0,489.0,489.0],\"type\":\"mesh3d\"},{\"colorbar\":{\"title\":{\"text\":\"z\"}},\"colorscale\":[[0,\"gold\"],[0.5,\"mediumturquoise\"],[1,\"magenta\"]],\"flatshading\":true,\"i\":[7,0,0,0,4,4,6,6,4,0,3,2],\"intensity\":[0.0,0.14285714285714285,0.2857142857142857,0.42857142857142855,0.5714285714285714,0.7142857142857142,0.8571428571428571,1.0],\"j\":[3,4,1,2,5,6,5,2,0,1,6,3],\"k\":[0,7,2,3,6,7,1,1,5,5,7,6],\"x\":[31.0,31.0,492.0,492.0,31.0,31.0,492.0,492.0],\"y\":[69.0,352.0,352.0,69.0,69.0,352.0,352.0,69.0],\"z\":[46.0,46.0,46.0,46.0,489.0,489.0,489.0,489.0],\"type\":\"mesh3d\"},{\"colorbar\":{\"title\":{\"text\":\"z\"}},\"colorscale\":[[0,\"gold\"],[0.5,\"mediumturquoise\"],[1,\"magenta\"]],\"flatshading\":true,\"i\":[7,0,0,0,4,4,6,6,4,0,3,2],\"intensity\":[0.0,0.14285714285714285,0.2857142857142857,0.42857142857142855,0.5714285714285714,0.7142857142857142,0.8571428571428571,1.0],\"j\":[3,4,1,2,5,6,5,2,0,1,6,3],\"k\":[0,7,2,3,6,7,1,1,5,5,7,6],\"x\":[31.0,31.0,492.0,492.0,31.0,31.0,492.0,492.0],\"y\":[69.0,352.0,352.0,69.0,69.0,352.0,352.0,69.0],\"z\":[46.0,46.0,46.0,46.0,489.0,489.0,489.0,489.0],\"type\":\"mesh3d\"},{\"colorbar\":{\"title\":{\"text\":\"z\"}},\"colorscale\":[[0,\"gold\"],[0.5,\"mediumturquoise\"],[1,\"magenta\"]],\"flatshading\":true,\"i\":[7,0,0,0,4,4,6,6,4,0,3,2],\"intensity\":[0.0,0.14285714285714285,0.2857142857142857,0.42857142857142855,0.5714285714285714,0.7142857142857142,0.8571428571428571,1.0],\"j\":[3,4,1,2,5,6,5,2,0,1,6,3],\"k\":[0,7,2,3,6,7,1,1,5,5,7,6],\"x\":[31.0,31.0,492.0,492.0,31.0,31.0,492.0,492.0],\"y\":[69.0,352.0,352.0,69.0,69.0,352.0,352.0,69.0],\"z\":[46.0,46.0,46.0,46.0,489.0,489.0,489.0,489.0],\"type\":\"mesh3d\"},{\"colorbar\":{\"title\":{\"text\":\"z\"}},\"colorscale\":[[0,\"gold\"],[0.5,\"mediumturquoise\"],[1,\"magenta\"]],\"flatshading\":true,\"i\":[7,0,0,0,4,4,6,6,4,0,3,2],\"intensity\":[0.0,0.14285714285714285,0.2857142857142857,0.42857142857142855,0.5714285714285714,0.7142857142857142,0.8571428571428571,1.0],\"j\":[3,4,1,2,5,6,5,2,0,1,6,3],\"k\":[0,7,2,3,6,7,1,1,5,5,7,6],\"x\":[31.0,31.0,492.0,492.0,31.0,31.0,492.0,492.0],\"y\":[69.0,352.0,352.0,69.0,69.0,352.0,352.0,69.0],\"z\":[46.0,46.0,46.0,46.0,489.0,489.0,489.0,489.0],\"type\":\"mesh3d\"},{\"colorbar\":{\"title\":{\"text\":\"z\"}},\"colorscale\":[[0,\"gold\"],[0.5,\"mediumturquoise\"],[1,\"magenta\"]],\"flatshading\":true,\"i\":[7,0,0,0,4,4,6,6,4,0,3,2],\"intensity\":[0.0,0.14285714285714285,0.2857142857142857,0.42857142857142855,0.5714285714285714,0.7142857142857142,0.8571428571428571,1.0],\"j\":[3,4,1,2,5,6,5,2,0,1,6,3],\"k\":[0,7,2,3,6,7,1,1,5,5,7,6],\"x\":[31.0,31.0,492.0,492.0,31.0,31.0,492.0,492.0],\"y\":[69.0,352.0,352.0,69.0,69.0,352.0,352.0,69.0],\"z\":[46.0,46.0,46.0,46.0,489.0,489.0,489.0,489.0],\"type\":\"mesh3d\"},{\"colorbar\":{\"title\":{\"text\":\"z\"}},\"colorscale\":[[0,\"gold\"],[0.5,\"mediumturquoise\"],[1,\"magenta\"]],\"flatshading\":true,\"i\":[7,0,0,0,4,4,6,6,4,0,3,2],\"intensity\":[0.0,0.14285714285714285,0.2857142857142857,0.42857142857142855,0.5714285714285714,0.7142857142857142,0.8571428571428571,1.0],\"j\":[3,4,1,2,5,6,5,2,0,1,6,3],\"k\":[0,7,2,3,6,7,1,1,5,5,7,6],\"x\":[31.0,31.0,492.0,492.0,31.0,31.0,492.0,492.0],\"y\":[69.0,352.0,352.0,69.0,69.0,352.0,352.0,69.0],\"z\":[46.0,46.0,46.0,46.0,489.0,489.0,489.0,489.0],\"type\":\"mesh3d\"},{\"colorbar\":{\"title\":{\"text\":\"z\"}},\"colorscale\":[[0,\"gold\"],[0.5,\"mediumturquoise\"],[1,\"magenta\"]],\"flatshading\":true,\"i\":[7,0,0,0,4,4,6,6,4,0,3,2],\"intensity\":[0.0,0.14285714285714285,0.2857142857142857,0.42857142857142855,0.5714285714285714,0.7142857142857142,0.8571428571428571,1.0],\"j\":[3,4,1,2,5,6,5,2,0,1,6,3],\"k\":[0,7,2,3,6,7,1,1,5,5,7,6],\"x\":[31.0,31.0,492.0,492.0,31.0,31.0,492.0,492.0],\"y\":[69.0,352.0,352.0,69.0,69.0,352.0,352.0,69.0],\"z\":[46.0,46.0,46.0,46.0,489.0,489.0,489.0,489.0],\"type\":\"mesh3d\"},{\"colorbar\":{\"title\":{\"text\":\"z\"}},\"colorscale\":[[0,\"gold\"],[0.5,\"mediumturquoise\"],[1,\"magenta\"]],\"flatshading\":true,\"i\":[7,0,0,0,4,4,6,6,4,0,3,2],\"intensity\":[0.0,0.14285714285714285,0.2857142857142857,0.42857142857142855,0.5714285714285714,0.7142857142857142,0.8571428571428571,1.0],\"j\":[3,4,1,2,5,6,5,2,0,1,6,3],\"k\":[0,7,2,3,6,7,1,1,5,5,7,6],\"x\":[31.0,31.0,492.0,492.0,31.0,31.0,492.0,492.0],\"y\":[69.0,352.0,352.0,69.0,69.0,352.0,352.0,69.0],\"z\":[46.0,46.0,46.0,46.0,489.0,489.0,489.0,489.0],\"type\":\"mesh3d\"},{\"colorbar\":{\"title\":{\"text\":\"z\"}},\"colorscale\":[[0,\"gold\"],[0.5,\"mediumturquoise\"],[1,\"magenta\"]],\"flatshading\":true,\"i\":[7,0,0,0,4,4,6,6,4,0,3,2],\"intensity\":[0.0,0.14285714285714285,0.2857142857142857,0.42857142857142855,0.5714285714285714,0.7142857142857142,0.8571428571428571,1.0],\"j\":[3,4,1,2,5,6,5,2,0,1,6,3],\"k\":[0,7,2,3,6,7,1,1,5,5,7,6],\"x\":[31.0,31.0,492.0,492.0,31.0,31.0,492.0,492.0],\"y\":[69.0,352.0,352.0,69.0,69.0,352.0,352.0,69.0],\"z\":[46.0,46.0,46.0,46.0,489.0,489.0,489.0,489.0],\"type\":\"mesh3d\"},{\"colorbar\":{\"title\":{\"text\":\"z\"}},\"colorscale\":[[0,\"gold\"],[0.5,\"mediumturquoise\"],[1,\"magenta\"]],\"flatshading\":true,\"i\":[7,0,0,0,4,4,6,6,4,0,3,2],\"intensity\":[0.0,0.14285714285714285,0.2857142857142857,0.42857142857142855,0.5714285714285714,0.7142857142857142,0.8571428571428571,1.0],\"j\":[3,4,1,2,5,6,5,2,0,1,6,3],\"k\":[0,7,2,3,6,7,1,1,5,5,7,6],\"x\":[117.0,117.0,703.0,703.0,117.0,117.0,703.0,703.0],\"y\":[80.0,244.0,244.0,80.0,80.0,244.0,244.0,80.0],\"z\":[89.0,89.0,89.0,89.0,923.0,923.0,923.0,923.0],\"type\":\"mesh3d\"},{\"colorbar\":{\"title\":{\"text\":\"z\"}},\"colorscale\":[[0,\"gold\"],[0.5,\"mediumturquoise\"],[1,\"magenta\"]],\"flatshading\":true,\"i\":[7,0,0,0,4,4,6,6,4,0,3,2],\"intensity\":[0.0,0.14285714285714285,0.2857142857142857,0.42857142857142855,0.5714285714285714,0.7142857142857142,0.8571428571428571,1.0],\"j\":[3,4,1,2,5,6,5,2,0,1,6,3],\"k\":[0,7,2,3,6,7,1,1,5,5,7,6],\"x\":[117.0,117.0,703.0,703.0,117.0,117.0,703.0,703.0],\"y\":[80.0,244.0,244.0,80.0,80.0,244.0,244.0,80.0],\"z\":[89.0,89.0,89.0,89.0,923.0,923.0,923.0,923.0],\"type\":\"mesh3d\"},{\"colorbar\":{\"title\":{\"text\":\"z\"}},\"colorscale\":[[0,\"gold\"],[0.5,\"mediumturquoise\"],[1,\"magenta\"]],\"flatshading\":true,\"i\":[7,0,0,0,4,4,6,6,4,0,3,2],\"intensity\":[0.0,0.14285714285714285,0.2857142857142857,0.42857142857142855,0.5714285714285714,0.7142857142857142,0.8571428571428571,1.0],\"j\":[3,4,1,2,5,6,5,2,0,1,6,3],\"k\":[0,7,2,3,6,7,1,1,5,5,7,6],\"x\":[117.0,117.0,703.0,703.0,117.0,117.0,703.0,703.0],\"y\":[80.0,244.0,244.0,80.0,80.0,244.0,244.0,80.0],\"z\":[89.0,89.0,89.0,89.0,923.0,923.0,923.0,923.0],\"type\":\"mesh3d\"},{\"colorbar\":{\"title\":{\"text\":\"z\"}},\"colorscale\":[[0,\"gold\"],[0.5,\"mediumturquoise\"],[1,\"magenta\"]],\"flatshading\":true,\"i\":[7,0,0,0,4,4,6,6,4,0,3,2],\"intensity\":[0.0,0.14285714285714285,0.2857142857142857,0.42857142857142855,0.5714285714285714,0.7142857142857142,0.8571428571428571,1.0],\"j\":[3,4,1,2,5,6,5,2,0,1,6,3],\"k\":[0,7,2,3,6,7,1,1,5,5,7,6],\"x\":[117.0,117.0,703.0,703.0,117.0,117.0,703.0,703.0],\"y\":[80.0,244.0,244.0,80.0,80.0,244.0,244.0,80.0],\"z\":[89.0,89.0,89.0,89.0,923.0,923.0,923.0,923.0],\"type\":\"mesh3d\"},{\"colorbar\":{\"title\":{\"text\":\"z\"}},\"colorscale\":[[0,\"gold\"],[0.5,\"mediumturquoise\"],[1,\"magenta\"]],\"flatshading\":true,\"i\":[7,0,0,0,4,4,6,6,4,0,3,2],\"intensity\":[0.0,0.14285714285714285,0.2857142857142857,0.42857142857142855,0.5714285714285714,0.7142857142857142,0.8571428571428571,1.0],\"j\":[3,4,1,2,5,6,5,2,0,1,6,3],\"k\":[0,7,2,3,6,7,1,1,5,5,7,6],\"x\":[117.0,117.0,703.0,703.0,117.0,117.0,703.0,703.0],\"y\":[80.0,244.0,244.0,80.0,80.0,244.0,244.0,80.0],\"z\":[89.0,89.0,89.0,89.0,923.0,923.0,923.0,923.0],\"type\":\"mesh3d\"},{\"colorbar\":{\"title\":{\"text\":\"z\"}},\"colorscale\":[[0,\"gold\"],[0.5,\"mediumturquoise\"],[1,\"magenta\"]],\"flatshading\":true,\"i\":[7,0,0,0,4,4,6,6,4,0,3,2],\"intensity\":[0.0,0.14285714285714285,0.2857142857142857,0.42857142857142855,0.5714285714285714,0.7142857142857142,0.8571428571428571,1.0],\"j\":[3,4,1,2,5,6,5,2,0,1,6,3],\"k\":[0,7,2,3,6,7,1,1,5,5,7,6],\"x\":[117.0,117.0,703.0,703.0,117.0,117.0,703.0,703.0],\"y\":[80.0,244.0,244.0,80.0,80.0,244.0,244.0,80.0],\"z\":[89.0,89.0,89.0,89.0,923.0,923.0,923.0,923.0],\"type\":\"mesh3d\"},{\"colorbar\":{\"title\":{\"text\":\"z\"}},\"colorscale\":[[0,\"gold\"],[0.5,\"mediumturquoise\"],[1,\"magenta\"]],\"flatshading\":true,\"i\":[7,0,0,0,4,4,6,6,4,0,3,2],\"intensity\":[0.0,0.14285714285714285,0.2857142857142857,0.42857142857142855,0.5714285714285714,0.7142857142857142,0.8571428571428571,1.0],\"j\":[3,4,1,2,5,6,5,2,0,1,6,3],\"k\":[0,7,2,3,6,7,1,1,5,5,7,6],\"x\":[117.0,117.0,703.0,703.0,117.0,117.0,703.0,703.0],\"y\":[80.0,244.0,244.0,80.0,80.0,244.0,244.0,80.0],\"z\":[89.0,89.0,89.0,89.0,923.0,923.0,923.0,923.0],\"type\":\"mesh3d\"},{\"colorbar\":{\"title\":{\"text\":\"z\"}},\"colorscale\":[[0,\"gold\"],[0.5,\"mediumturquoise\"],[1,\"magenta\"]],\"flatshading\":true,\"i\":[7,0,0,0,4,4,6,6,4,0,3,2],\"intensity\":[0.0,0.14285714285714285,0.2857142857142857,0.42857142857142855,0.5714285714285714,0.7142857142857142,0.8571428571428571,1.0],\"j\":[3,4,1,2,5,6,5,2,0,1,6,3],\"k\":[0,7,2,3,6,7,1,1,5,5,7,6],\"x\":[117.0,117.0,703.0,703.0,117.0,117.0,703.0,703.0],\"y\":[80.0,244.0,244.0,80.0,80.0,244.0,244.0,80.0],\"z\":[89.0,89.0,89.0,89.0,923.0,923.0,923.0,923.0],\"type\":\"mesh3d\"},{\"colorbar\":{\"title\":{\"text\":\"z\"}},\"colorscale\":[[0,\"gold\"],[0.5,\"mediumturquoise\"],[1,\"magenta\"]],\"flatshading\":true,\"i\":[7,0,0,0,4,4,6,6,4,0,3,2],\"intensity\":[0.0,0.14285714285714285,0.2857142857142857,0.42857142857142855,0.5714285714285714,0.7142857142857142,0.8571428571428571,1.0],\"j\":[3,4,1,2,5,6,5,2,0,1,6,3],\"k\":[0,7,2,3,6,7,1,1,5,5,7,6],\"x\":[117.0,117.0,703.0,703.0,117.0,117.0,703.0,703.0],\"y\":[80.0,244.0,244.0,80.0,80.0,244.0,244.0,80.0],\"z\":[89.0,89.0,89.0,89.0,923.0,923.0,923.0,923.0],\"type\":\"mesh3d\"},{\"colorbar\":{\"title\":{\"text\":\"z\"}},\"colorscale\":[[0,\"gold\"],[0.5,\"mediumturquoise\"],[1,\"magenta\"]],\"flatshading\":true,\"i\":[7,0,0,0,4,4,6,6,4,0,3,2],\"intensity\":[0.0,0.14285714285714285,0.2857142857142857,0.42857142857142855,0.5714285714285714,0.7142857142857142,0.8571428571428571,1.0],\"j\":[3,4,1,2,5,6,5,2,0,1,6,3],\"k\":[0,7,2,3,6,7,1,1,5,5,7,6],\"x\":[117.0,117.0,703.0,703.0,117.0,117.0,703.0,703.0],\"y\":[80.0,244.0,244.0,80.0,80.0,244.0,244.0,80.0],\"z\":[89.0,89.0,89.0,89.0,923.0,923.0,923.0,923.0],\"type\":\"mesh3d\"},{\"colorbar\":{\"title\":{\"text\":\"z\"}},\"colorscale\":[[0,\"gold\"],[0.5,\"mediumturquoise\"],[1,\"magenta\"]],\"flatshading\":true,\"i\":[7,0,0,0,4,4,6,6,4,0,3,2],\"intensity\":[0.0,0.14285714285714285,0.2857142857142857,0.42857142857142855,0.5714285714285714,0.7142857142857142,0.8571428571428571,1.0],\"j\":[3,4,1,2,5,6,5,2,0,1,6,3],\"k\":[0,7,2,3,6,7,1,1,5,5,7,6],\"x\":[201.0,201.0,373.0,373.0,201.0,201.0,373.0,373.0],\"y\":[81.0,202.0,202.0,81.0,81.0,202.0,202.0,81.0],\"z\":[106.0,106.0,106.0,106.0,687.0,687.0,687.0,687.0],\"type\":\"mesh3d\"},{\"colorbar\":{\"title\":{\"text\":\"z\"}},\"colorscale\":[[0,\"gold\"],[0.5,\"mediumturquoise\"],[1,\"magenta\"]],\"flatshading\":true,\"i\":[7,0,0,0,4,4,6,6,4,0,3,2],\"intensity\":[0.0,0.14285714285714285,0.2857142857142857,0.42857142857142855,0.5714285714285714,0.7142857142857142,0.8571428571428571,1.0],\"j\":[3,4,1,2,5,6,5,2,0,1,6,3],\"k\":[0,7,2,3,6,7,1,1,5,5,7,6],\"x\":[135.0,135.0,385.0,385.0,135.0,135.0,385.0,385.0],\"y\":[28.0,982.0,982.0,28.0,28.0,982.0,982.0,28.0],\"z\":[100.0,100.0,100.0,100.0,631.0,631.0,631.0,631.0],\"type\":\"mesh3d\"},{\"colorbar\":{\"title\":{\"text\":\"z\"}},\"colorscale\":[[0,\"gold\"],[0.5,\"mediumturquoise\"],[1,\"magenta\"]],\"flatshading\":true,\"i\":[7,0,0,0,4,4,6,6,4,0,3,2],\"intensity\":[0.0,0.14285714285714285,0.2857142857142857,0.42857142857142855,0.5714285714285714,0.7142857142857142,0.8571428571428571,1.0],\"j\":[3,4,1,2,5,6,5,2,0,1,6,3],\"k\":[0,7,2,3,6,7,1,1,5,5,7,6],\"x\":[135.0,135.0,385.0,385.0,135.0,135.0,385.0,385.0],\"y\":[28.0,982.0,982.0,28.0,28.0,982.0,982.0,28.0],\"z\":[100.0,100.0,100.0,100.0,631.0,631.0,631.0,631.0],\"type\":\"mesh3d\"},{\"colorbar\":{\"title\":{\"text\":\"z\"}},\"colorscale\":[[0,\"gold\"],[0.5,\"mediumturquoise\"],[1,\"magenta\"]],\"flatshading\":true,\"i\":[7,0,0,0,4,4,6,6,4,0,3,2],\"intensity\":[0.0,0.14285714285714285,0.2857142857142857,0.42857142857142855,0.5714285714285714,0.7142857142857142,0.8571428571428571,1.0],\"j\":[3,4,1,2,5,6,5,2,0,1,6,3],\"k\":[0,7,2,3,6,7,1,1,5,5,7,6],\"x\":[135.0,135.0,385.0,385.0,135.0,135.0,385.0,385.0],\"y\":[28.0,982.0,982.0,28.0,28.0,982.0,982.0,28.0],\"z\":[100.0,100.0,100.0,100.0,631.0,631.0,631.0,631.0],\"type\":\"mesh3d\"},{\"colorbar\":{\"title\":{\"text\":\"z\"}},\"colorscale\":[[0,\"gold\"],[0.5,\"mediumturquoise\"],[1,\"magenta\"]],\"flatshading\":true,\"i\":[7,0,0,0,4,4,6,6,4,0,3,2],\"intensity\":[0.0,0.14285714285714285,0.2857142857142857,0.42857142857142855,0.5714285714285714,0.7142857142857142,0.8571428571428571,1.0],\"j\":[3,4,1,2,5,6,5,2,0,1,6,3],\"k\":[0,7,2,3,6,7,1,1,5,5,7,6],\"x\":[135.0,135.0,385.0,385.0,135.0,135.0,385.0,385.0],\"y\":[28.0,982.0,982.0,28.0,28.0,982.0,982.0,28.0],\"z\":[100.0,100.0,100.0,100.0,631.0,631.0,631.0,631.0],\"type\":\"mesh3d\"},{\"colorbar\":{\"title\":{\"text\":\"z\"}},\"colorscale\":[[0,\"gold\"],[0.5,\"mediumturquoise\"],[1,\"magenta\"]],\"flatshading\":true,\"i\":[7,0,0,0,4,4,6,6,4,0,3,2],\"intensity\":[0.0,0.14285714285714285,0.2857142857142857,0.42857142857142855,0.5714285714285714,0.7142857142857142,0.8571428571428571,1.0],\"j\":[3,4,1,2,5,6,5,2,0,1,6,3],\"k\":[0,7,2,3,6,7,1,1,5,5,7,6],\"x\":[135.0,135.0,385.0,385.0,135.0,135.0,385.0,385.0],\"y\":[28.0,982.0,982.0,28.0,28.0,982.0,982.0,28.0],\"z\":[100.0,100.0,100.0,100.0,631.0,631.0,631.0,631.0],\"type\":\"mesh3d\"},{\"colorbar\":{\"title\":{\"text\":\"z\"}},\"colorscale\":[[0,\"gold\"],[0.5,\"mediumturquoise\"],[1,\"magenta\"]],\"flatshading\":true,\"i\":[7,0,0,0,4,4,6,6,4,0,3,2],\"intensity\":[0.0,0.14285714285714285,0.2857142857142857,0.42857142857142855,0.5714285714285714,0.7142857142857142,0.8571428571428571,1.0],\"j\":[3,4,1,2,5,6,5,2,0,1,6,3],\"k\":[0,7,2,3,6,7,1,1,5,5,7,6],\"x\":[135.0,135.0,385.0,385.0,135.0,135.0,385.0,385.0],\"y\":[28.0,982.0,982.0,28.0,28.0,982.0,982.0,28.0],\"z\":[100.0,100.0,100.0,100.0,631.0,631.0,631.0,631.0],\"type\":\"mesh3d\"},{\"colorbar\":{\"title\":{\"text\":\"z\"}},\"colorscale\":[[0,\"gold\"],[0.5,\"mediumturquoise\"],[1,\"magenta\"]],\"flatshading\":true,\"i\":[7,0,0,0,4,4,6,6,4,0,3,2],\"intensity\":[0.0,0.14285714285714285,0.2857142857142857,0.42857142857142855,0.5714285714285714,0.7142857142857142,0.8571428571428571,1.0],\"j\":[3,4,1,2,5,6,5,2,0,1,6,3],\"k\":[0,7,2,3,6,7,1,1,5,5,7,6],\"x\":[135.0,135.0,385.0,385.0,135.0,135.0,385.0,385.0],\"y\":[28.0,982.0,982.0,28.0,28.0,982.0,982.0,28.0],\"z\":[100.0,100.0,100.0,100.0,631.0,631.0,631.0,631.0],\"type\":\"mesh3d\"},{\"colorbar\":{\"title\":{\"text\":\"z\"}},\"colorscale\":[[0,\"gold\"],[0.5,\"mediumturquoise\"],[1,\"magenta\"]],\"flatshading\":true,\"i\":[7,0,0,0,4,4,6,6,4,0,3,2],\"intensity\":[0.0,0.14285714285714285,0.2857142857142857,0.42857142857142855,0.5714285714285714,0.7142857142857142,0.8571428571428571,1.0],\"j\":[3,4,1,2,5,6,5,2,0,1,6,3],\"k\":[0,7,2,3,6,7,1,1,5,5,7,6],\"x\":[135.0,135.0,385.0,385.0,135.0,135.0,385.0,385.0],\"y\":[28.0,982.0,982.0,28.0,28.0,982.0,982.0,28.0],\"z\":[100.0,100.0,100.0,100.0,631.0,631.0,631.0,631.0],\"type\":\"mesh3d\"},{\"colorbar\":{\"title\":{\"text\":\"z\"}},\"colorscale\":[[0,\"gold\"],[0.5,\"mediumturquoise\"],[1,\"magenta\"]],\"flatshading\":true,\"i\":[7,0,0,0,4,4,6,6,4,0,3,2],\"intensity\":[0.0,0.14285714285714285,0.2857142857142857,0.42857142857142855,0.5714285714285714,0.7142857142857142,0.8571428571428571,1.0],\"j\":[3,4,1,2,5,6,5,2,0,1,6,3],\"k\":[0,7,2,3,6,7,1,1,5,5,7,6],\"x\":[30.0,30.0,763.0,763.0,30.0,30.0,763.0,763.0],\"y\":[17.0,921.0,921.0,17.0,17.0,921.0,921.0,17.0],\"z\":[86.0,86.0,86.0,86.0,671.0,671.0,671.0,671.0],\"type\":\"mesh3d\"},{\"colorbar\":{\"title\":{\"text\":\"z\"}},\"colorscale\":[[0,\"gold\"],[0.5,\"mediumturquoise\"],[1,\"magenta\"]],\"flatshading\":true,\"i\":[7,0,0,0,4,4,6,6,4,0,3,2],\"intensity\":[0.0,0.14285714285714285,0.2857142857142857,0.42857142857142855,0.5714285714285714,0.7142857142857142,0.8571428571428571,1.0],\"j\":[3,4,1,2,5,6,5,2,0,1,6,3],\"k\":[0,7,2,3,6,7,1,1,5,5,7,6],\"x\":[30.0,30.0,763.0,763.0,30.0,30.0,763.0,763.0],\"y\":[17.0,921.0,921.0,17.0,17.0,921.0,921.0,17.0],\"z\":[86.0,86.0,86.0,86.0,671.0,671.0,671.0,671.0],\"type\":\"mesh3d\"},{\"colorbar\":{\"title\":{\"text\":\"z\"}},\"colorscale\":[[0,\"gold\"],[0.5,\"mediumturquoise\"],[1,\"magenta\"]],\"flatshading\":true,\"i\":[7,0,0,0,4,4,6,6,4,0,3,2],\"intensity\":[0.0,0.14285714285714285,0.2857142857142857,0.42857142857142855,0.5714285714285714,0.7142857142857142,0.8571428571428571,1.0],\"j\":[3,4,1,2,5,6,5,2,0,1,6,3],\"k\":[0,7,2,3,6,7,1,1,5,5,7,6],\"x\":[30.0,30.0,763.0,763.0,30.0,30.0,763.0,763.0],\"y\":[17.0,921.0,921.0,17.0,17.0,921.0,921.0,17.0],\"z\":[86.0,86.0,86.0,86.0,671.0,671.0,671.0,671.0],\"type\":\"mesh3d\"},{\"colorbar\":{\"title\":{\"text\":\"z\"}},\"colorscale\":[[0,\"gold\"],[0.5,\"mediumturquoise\"],[1,\"magenta\"]],\"flatshading\":true,\"i\":[7,0,0,0,4,4,6,6,4,0,3,2],\"intensity\":[0.0,0.14285714285714285,0.2857142857142857,0.42857142857142855,0.5714285714285714,0.7142857142857142,0.8571428571428571,1.0],\"j\":[3,4,1,2,5,6,5,2,0,1,6,3],\"k\":[0,7,2,3,6,7,1,1,5,5,7,6],\"x\":[30.0,30.0,763.0,763.0,30.0,30.0,763.0,763.0],\"y\":[17.0,921.0,921.0,17.0,17.0,921.0,921.0,17.0],\"z\":[86.0,86.0,86.0,86.0,671.0,671.0,671.0,671.0],\"type\":\"mesh3d\"},{\"colorbar\":{\"title\":{\"text\":\"z\"}},\"colorscale\":[[0,\"gold\"],[0.5,\"mediumturquoise\"],[1,\"magenta\"]],\"flatshading\":true,\"i\":[7,0,0,0,4,4,6,6,4,0,3,2],\"intensity\":[0.0,0.14285714285714285,0.2857142857142857,0.42857142857142855,0.5714285714285714,0.7142857142857142,0.8571428571428571,1.0],\"j\":[3,4,1,2,5,6,5,2,0,1,6,3],\"k\":[0,7,2,3,6,7,1,1,5,5,7,6],\"x\":[30.0,30.0,763.0,763.0,30.0,30.0,763.0,763.0],\"y\":[17.0,921.0,921.0,17.0,17.0,921.0,921.0,17.0],\"z\":[86.0,86.0,86.0,86.0,671.0,671.0,671.0,671.0],\"type\":\"mesh3d\"},{\"colorbar\":{\"title\":{\"text\":\"z\"}},\"colorscale\":[[0,\"gold\"],[0.5,\"mediumturquoise\"],[1,\"magenta\"]],\"flatshading\":true,\"i\":[7,0,0,0,4,4,6,6,4,0,3,2],\"intensity\":[0.0,0.14285714285714285,0.2857142857142857,0.42857142857142855,0.5714285714285714,0.7142857142857142,0.8571428571428571,1.0],\"j\":[3,4,1,2,5,6,5,2,0,1,6,3],\"k\":[0,7,2,3,6,7,1,1,5,5,7,6],\"x\":[30.0,30.0,763.0,763.0,30.0,30.0,763.0,763.0],\"y\":[17.0,921.0,921.0,17.0,17.0,921.0,921.0,17.0],\"z\":[86.0,86.0,86.0,86.0,671.0,671.0,671.0,671.0],\"type\":\"mesh3d\"},{\"colorbar\":{\"title\":{\"text\":\"z\"}},\"colorscale\":[[0,\"gold\"],[0.5,\"mediumturquoise\"],[1,\"magenta\"]],\"flatshading\":true,\"i\":[7,0,0,0,4,4,6,6,4,0,3,2],\"intensity\":[0.0,0.14285714285714285,0.2857142857142857,0.42857142857142855,0.5714285714285714,0.7142857142857142,0.8571428571428571,1.0],\"j\":[3,4,1,2,5,6,5,2,0,1,6,3],\"k\":[0,7,2,3,6,7,1,1,5,5,7,6],\"x\":[30.0,30.0,763.0,763.0,30.0,30.0,763.0,763.0],\"y\":[17.0,921.0,921.0,17.0,17.0,921.0,921.0,17.0],\"z\":[86.0,86.0,86.0,86.0,671.0,671.0,671.0,671.0],\"type\":\"mesh3d\"},{\"colorbar\":{\"title\":{\"text\":\"z\"}},\"colorscale\":[[0,\"gold\"],[0.5,\"mediumturquoise\"],[1,\"magenta\"]],\"flatshading\":true,\"i\":[7,0,0,0,4,4,6,6,4,0,3,2],\"intensity\":[0.0,0.14285714285714285,0.2857142857142857,0.42857142857142855,0.5714285714285714,0.7142857142857142,0.8571428571428571,1.0],\"j\":[3,4,1,2,5,6,5,2,0,1,6,3],\"k\":[0,7,2,3,6,7,1,1,5,5,7,6],\"x\":[30.0,30.0,763.0,763.0,30.0,30.0,763.0,763.0],\"y\":[17.0,921.0,921.0,17.0,17.0,921.0,921.0,17.0],\"z\":[86.0,86.0,86.0,86.0,671.0,671.0,671.0,671.0],\"type\":\"mesh3d\"},{\"colorbar\":{\"title\":{\"text\":\"z\"}},\"colorscale\":[[0,\"gold\"],[0.5,\"mediumturquoise\"],[1,\"magenta\"]],\"flatshading\":true,\"i\":[7,0,0,0,4,4,6,6,4,0,3,2],\"intensity\":[0.0,0.14285714285714285,0.2857142857142857,0.42857142857142855,0.5714285714285714,0.7142857142857142,0.8571428571428571,1.0],\"j\":[3,4,1,2,5,6,5,2,0,1,6,3],\"k\":[0,7,2,3,6,7,1,1,5,5,7,6],\"x\":[30.0,30.0,763.0,763.0,30.0,30.0,763.0,763.0],\"y\":[17.0,921.0,921.0,17.0,17.0,921.0,921.0,17.0],\"z\":[86.0,86.0,86.0,86.0,671.0,671.0,671.0,671.0],\"type\":\"mesh3d\"},{\"colorbar\":{\"title\":{\"text\":\"z\"}},\"colorscale\":[[0,\"gold\"],[0.5,\"mediumturquoise\"],[1,\"magenta\"]],\"flatshading\":true,\"i\":[7,0,0,0,4,4,6,6,4,0,3,2],\"intensity\":[0.0,0.14285714285714285,0.2857142857142857,0.42857142857142855,0.5714285714285714,0.7142857142857142,0.8571428571428571,1.0],\"j\":[3,4,1,2,5,6,5,2,0,1,6,3],\"k\":[0,7,2,3,6,7,1,1,5,5,7,6],\"x\":[30.0,30.0,763.0,763.0,30.0,30.0,763.0,763.0],\"y\":[17.0,921.0,921.0,17.0,17.0,921.0,921.0,17.0],\"z\":[86.0,86.0,86.0,86.0,671.0,671.0,671.0,671.0],\"type\":\"mesh3d\"},{\"colorbar\":{\"title\":{\"text\":\"z\"}},\"colorscale\":[[0,\"gold\"],[0.5,\"mediumturquoise\"],[1,\"magenta\"]],\"flatshading\":true,\"i\":[7,0,0,0,4,4,6,6,4,0,3,2],\"intensity\":[0.0,0.14285714285714285,0.2857142857142857,0.42857142857142855,0.5714285714285714,0.7142857142857142,0.8571428571428571,1.0],\"j\":[3,4,1,2,5,6,5,2,0,1,6,3],\"k\":[0,7,2,3,6,7,1,1,5,5,7,6],\"x\":[30.0,30.0,763.0,763.0,30.0,30.0,763.0,763.0],\"y\":[17.0,921.0,921.0,17.0,17.0,921.0,921.0,17.0],\"z\":[86.0,86.0,86.0,86.0,671.0,671.0,671.0,671.0],\"type\":\"mesh3d\"},{\"colorbar\":{\"title\":{\"text\":\"z\"}},\"colorscale\":[[0,\"gold\"],[0.5,\"mediumturquoise\"],[1,\"magenta\"]],\"flatshading\":true,\"i\":[7,0,0,0,4,4,6,6,4,0,3,2],\"intensity\":[0.0,0.14285714285714285,0.2857142857142857,0.42857142857142855,0.5714285714285714,0.7142857142857142,0.8571428571428571,1.0],\"j\":[3,4,1,2,5,6,5,2,0,1,6,3],\"k\":[0,7,2,3,6,7,1,1,5,5,7,6],\"x\":[38.0,38.0,917.0,917.0,38.0,38.0,917.0,917.0],\"y\":[32.0,538.0,538.0,32.0,32.0,538.0,538.0,32.0],\"z\":[7.0,7.0,7.0,7.0,436.0,436.0,436.0,436.0],\"type\":\"mesh3d\"},{\"colorbar\":{\"title\":{\"text\":\"z\"}},\"colorscale\":[[0,\"gold\"],[0.5,\"mediumturquoise\"],[1,\"magenta\"]],\"flatshading\":true,\"i\":[7,0,0,0,4,4,6,6,4,0,3,2],\"intensity\":[0.0,0.14285714285714285,0.2857142857142857,0.42857142857142855,0.5714285714285714,0.7142857142857142,0.8571428571428571,1.0],\"j\":[3,4,1,2,5,6,5,2,0,1,6,3],\"k\":[0,7,2,3,6,7,1,1,5,5,7,6],\"x\":[38.0,38.0,917.0,917.0,38.0,38.0,917.0,917.0],\"y\":[32.0,538.0,538.0,32.0,32.0,538.0,538.0,32.0],\"z\":[7.0,7.0,7.0,7.0,436.0,436.0,436.0,436.0],\"type\":\"mesh3d\"},{\"colorbar\":{\"title\":{\"text\":\"z\"}},\"colorscale\":[[0,\"gold\"],[0.5,\"mediumturquoise\"],[1,\"magenta\"]],\"flatshading\":true,\"i\":[7,0,0,0,4,4,6,6,4,0,3,2],\"intensity\":[0.0,0.14285714285714285,0.2857142857142857,0.42857142857142855,0.5714285714285714,0.7142857142857142,0.8571428571428571,1.0],\"j\":[3,4,1,2,5,6,5,2,0,1,6,3],\"k\":[0,7,2,3,6,7,1,1,5,5,7,6],\"x\":[38.0,38.0,917.0,917.0,38.0,38.0,917.0,917.0],\"y\":[32.0,538.0,538.0,32.0,32.0,538.0,538.0,32.0],\"z\":[7.0,7.0,7.0,7.0,436.0,436.0,436.0,436.0],\"type\":\"mesh3d\"},{\"colorbar\":{\"title\":{\"text\":\"z\"}},\"colorscale\":[[0,\"gold\"],[0.5,\"mediumturquoise\"],[1,\"magenta\"]],\"flatshading\":true,\"i\":[7,0,0,0,4,4,6,6,4,0,3,2],\"intensity\":[0.0,0.14285714285714285,0.2857142857142857,0.42857142857142855,0.5714285714285714,0.7142857142857142,0.8571428571428571,1.0],\"j\":[3,4,1,2,5,6,5,2,0,1,6,3],\"k\":[0,7,2,3,6,7,1,1,5,5,7,6],\"x\":[38.0,38.0,917.0,917.0,38.0,38.0,917.0,917.0],\"y\":[32.0,538.0,538.0,32.0,32.0,538.0,538.0,32.0],\"z\":[7.0,7.0,7.0,7.0,436.0,436.0,436.0,436.0],\"type\":\"mesh3d\"},{\"colorbar\":{\"title\":{\"text\":\"z\"}},\"colorscale\":[[0,\"gold\"],[0.5,\"mediumturquoise\"],[1,\"magenta\"]],\"flatshading\":true,\"i\":[7,0,0,0,4,4,6,6,4,0,3,2],\"intensity\":[0.0,0.14285714285714285,0.2857142857142857,0.42857142857142855,0.5714285714285714,0.7142857142857142,0.8571428571428571,1.0],\"j\":[3,4,1,2,5,6,5,2,0,1,6,3],\"k\":[0,7,2,3,6,7,1,1,5,5,7,6],\"x\":[38.0,38.0,917.0,917.0,38.0,38.0,917.0,917.0],\"y\":[32.0,538.0,538.0,32.0,32.0,538.0,538.0,32.0],\"z\":[7.0,7.0,7.0,7.0,436.0,436.0,436.0,436.0],\"type\":\"mesh3d\"},{\"colorbar\":{\"title\":{\"text\":\"z\"}},\"colorscale\":[[0,\"gold\"],[0.5,\"mediumturquoise\"],[1,\"magenta\"]],\"flatshading\":true,\"i\":[7,0,0,0,4,4,6,6,4,0,3,2],\"intensity\":[0.0,0.14285714285714285,0.2857142857142857,0.42857142857142855,0.5714285714285714,0.7142857142857142,0.8571428571428571,1.0],\"j\":[3,4,1,2,5,6,5,2,0,1,6,3],\"k\":[0,7,2,3,6,7,1,1,5,5,7,6],\"x\":[38.0,38.0,917.0,917.0,38.0,38.0,917.0,917.0],\"y\":[32.0,538.0,538.0,32.0,32.0,538.0,538.0,32.0],\"z\":[7.0,7.0,7.0,7.0,436.0,436.0,436.0,436.0],\"type\":\"mesh3d\"},{\"colorbar\":{\"title\":{\"text\":\"z\"}},\"colorscale\":[[0,\"gold\"],[0.5,\"mediumturquoise\"],[1,\"magenta\"]],\"flatshading\":true,\"i\":[7,0,0,0,4,4,6,6,4,0,3,2],\"intensity\":[0.0,0.14285714285714285,0.2857142857142857,0.42857142857142855,0.5714285714285714,0.7142857142857142,0.8571428571428571,1.0],\"j\":[3,4,1,2,5,6,5,2,0,1,6,3],\"k\":[0,7,2,3,6,7,1,1,5,5,7,6],\"x\":[38.0,38.0,917.0,917.0,38.0,38.0,917.0,917.0],\"y\":[32.0,538.0,538.0,32.0,32.0,538.0,538.0,32.0],\"z\":[7.0,7.0,7.0,7.0,436.0,436.0,436.0,436.0],\"type\":\"mesh3d\"},{\"colorbar\":{\"title\":{\"text\":\"z\"}},\"colorscale\":[[0,\"gold\"],[0.5,\"mediumturquoise\"],[1,\"magenta\"]],\"flatshading\":true,\"i\":[7,0,0,0,4,4,6,6,4,0,3,2],\"intensity\":[0.0,0.14285714285714285,0.2857142857142857,0.42857142857142855,0.5714285714285714,0.7142857142857142,0.8571428571428571,1.0],\"j\":[3,4,1,2,5,6,5,2,0,1,6,3],\"k\":[0,7,2,3,6,7,1,1,5,5,7,6],\"x\":[38.0,38.0,917.0,917.0,38.0,38.0,917.0,917.0],\"y\":[32.0,538.0,538.0,32.0,32.0,538.0,538.0,32.0],\"z\":[7.0,7.0,7.0,7.0,436.0,436.0,436.0,436.0],\"type\":\"mesh3d\"},{\"colorbar\":{\"title\":{\"text\":\"z\"}},\"colorscale\":[[0,\"gold\"],[0.5,\"mediumturquoise\"],[1,\"magenta\"]],\"flatshading\":true,\"i\":[7,0,0,0,4,4,6,6,4,0,3,2],\"intensity\":[0.0,0.14285714285714285,0.2857142857142857,0.42857142857142855,0.5714285714285714,0.7142857142857142,0.8571428571428571,1.0],\"j\":[3,4,1,2,5,6,5,2,0,1,6,3],\"k\":[0,7,2,3,6,7,1,1,5,5,7,6],\"x\":[38.0,38.0,917.0,917.0,38.0,38.0,917.0,917.0],\"y\":[32.0,538.0,538.0,32.0,32.0,538.0,538.0,32.0],\"z\":[7.0,7.0,7.0,7.0,436.0,436.0,436.0,436.0],\"type\":\"mesh3d\"},{\"colorbar\":{\"title\":{\"text\":\"z\"}},\"colorscale\":[[0,\"gold\"],[0.5,\"mediumturquoise\"],[1,\"magenta\"]],\"flatshading\":true,\"i\":[7,0,0,0,4,4,6,6,4,0,3,2],\"intensity\":[0.0,0.14285714285714285,0.2857142857142857,0.42857142857142855,0.5714285714285714,0.7142857142857142,0.8571428571428571,1.0],\"j\":[3,4,1,2,5,6,5,2,0,1,6,3],\"k\":[0,7,2,3,6,7,1,1,5,5,7,6],\"x\":[38.0,38.0,917.0,917.0,38.0,38.0,917.0,917.0],\"y\":[32.0,538.0,538.0,32.0,32.0,538.0,538.0,32.0],\"z\":[7.0,7.0,7.0,7.0,436.0,436.0,436.0,436.0],\"type\":\"mesh3d\"},{\"colorbar\":{\"title\":{\"text\":\"z\"}},\"colorscale\":[[0,\"gold\"],[0.5,\"mediumturquoise\"],[1,\"magenta\"]],\"flatshading\":true,\"i\":[7,0,0,0,4,4,6,6,4,0,3,2],\"intensity\":[0.0,0.14285714285714285,0.2857142857142857,0.42857142857142855,0.5714285714285714,0.7142857142857142,0.8571428571428571,1.0],\"j\":[3,4,1,2,5,6,5,2,0,1,6,3],\"k\":[0,7,2,3,6,7,1,1,5,5,7,6],\"x\":[38.0,38.0,917.0,917.0,38.0,38.0,917.0,917.0],\"y\":[32.0,538.0,538.0,32.0,32.0,538.0,538.0,32.0],\"z\":[7.0,7.0,7.0,7.0,436.0,436.0,436.0,436.0],\"type\":\"mesh3d\"},{\"colorbar\":{\"title\":{\"text\":\"z\"}},\"colorscale\":[[0,\"gold\"],[0.5,\"mediumturquoise\"],[1,\"magenta\"]],\"flatshading\":true,\"i\":[7,0,0,0,4,4,6,6,4,0,3,2],\"intensity\":[0.0,0.14285714285714285,0.2857142857142857,0.42857142857142855,0.5714285714285714,0.7142857142857142,0.8571428571428571,1.0],\"j\":[3,4,1,2,5,6,5,2,0,1,6,3],\"k\":[0,7,2,3,6,7,1,1,5,5,7,6],\"x\":[92.0,92.0,895.0,895.0,92.0,92.0,895.0,895.0],\"y\":[9.0,463.0,463.0,9.0,9.0,463.0,463.0,9.0],\"z\":[55.0,55.0,55.0,55.0,136.0,136.0,136.0,136.0],\"type\":\"mesh3d\"},{\"colorbar\":{\"title\":{\"text\":\"z\"}},\"colorscale\":[[0,\"gold\"],[0.5,\"mediumturquoise\"],[1,\"magenta\"]],\"flatshading\":true,\"i\":[7,0,0,0,4,4,6,6,4,0,3,2],\"intensity\":[0.0,0.14285714285714285,0.2857142857142857,0.42857142857142855,0.5714285714285714,0.7142857142857142,0.8571428571428571,1.0],\"j\":[3,4,1,2,5,6,5,2,0,1,6,3],\"k\":[0,7,2,3,6,7,1,1,5,5,7,6],\"x\":[92.0,92.0,895.0,895.0,92.0,92.0,895.0,895.0],\"y\":[9.0,463.0,463.0,9.0,9.0,463.0,463.0,9.0],\"z\":[55.0,55.0,55.0,55.0,136.0,136.0,136.0,136.0],\"type\":\"mesh3d\"},{\"colorbar\":{\"title\":{\"text\":\"z\"}},\"colorscale\":[[0,\"gold\"],[0.5,\"mediumturquoise\"],[1,\"magenta\"]],\"flatshading\":true,\"i\":[7,0,0,0,4,4,6,6,4,0,3,2],\"intensity\":[0.0,0.14285714285714285,0.2857142857142857,0.42857142857142855,0.5714285714285714,0.7142857142857142,0.8571428571428571,1.0],\"j\":[3,4,1,2,5,6,5,2,0,1,6,3],\"k\":[0,7,2,3,6,7,1,1,5,5,7,6],\"x\":[92.0,92.0,895.0,895.0,92.0,92.0,895.0,895.0],\"y\":[9.0,463.0,463.0,9.0,9.0,463.0,463.0,9.0],\"z\":[55.0,55.0,55.0,55.0,136.0,136.0,136.0,136.0],\"type\":\"mesh3d\"},{\"colorbar\":{\"title\":{\"text\":\"z\"}},\"colorscale\":[[0,\"gold\"],[0.5,\"mediumturquoise\"],[1,\"magenta\"]],\"flatshading\":true,\"i\":[7,0,0,0,4,4,6,6,4,0,3,2],\"intensity\":[0.0,0.14285714285714285,0.2857142857142857,0.42857142857142855,0.5714285714285714,0.7142857142857142,0.8571428571428571,1.0],\"j\":[3,4,1,2,5,6,5,2,0,1,6,3],\"k\":[0,7,2,3,6,7,1,1,5,5,7,6],\"x\":[92.0,92.0,895.0,895.0,92.0,92.0,895.0,895.0],\"y\":[9.0,463.0,463.0,9.0,9.0,463.0,463.0,9.0],\"z\":[55.0,55.0,55.0,55.0,136.0,136.0,136.0,136.0],\"type\":\"mesh3d\"},{\"colorbar\":{\"title\":{\"text\":\"z\"}},\"colorscale\":[[0,\"gold\"],[0.5,\"mediumturquoise\"],[1,\"magenta\"]],\"flatshading\":true,\"i\":[7,0,0,0,4,4,6,6,4,0,3,2],\"intensity\":[0.0,0.14285714285714285,0.2857142857142857,0.42857142857142855,0.5714285714285714,0.7142857142857142,0.8571428571428571,1.0],\"j\":[3,4,1,2,5,6,5,2,0,1,6,3],\"k\":[0,7,2,3,6,7,1,1,5,5,7,6],\"x\":[92.0,92.0,895.0,895.0,92.0,92.0,895.0,895.0],\"y\":[9.0,463.0,463.0,9.0,9.0,463.0,463.0,9.0],\"z\":[55.0,55.0,55.0,55.0,136.0,136.0,136.0,136.0],\"type\":\"mesh3d\"},{\"colorbar\":{\"title\":{\"text\":\"z\"}},\"colorscale\":[[0,\"gold\"],[0.5,\"mediumturquoise\"],[1,\"magenta\"]],\"flatshading\":true,\"i\":[7,0,0,0,4,4,6,6,4,0,3,2],\"intensity\":[0.0,0.14285714285714285,0.2857142857142857,0.42857142857142855,0.5714285714285714,0.7142857142857142,0.8571428571428571,1.0],\"j\":[3,4,1,2,5,6,5,2,0,1,6,3],\"k\":[0,7,2,3,6,7,1,1,5,5,7,6],\"x\":[92.0,92.0,895.0,895.0,92.0,92.0,895.0,895.0],\"y\":[9.0,463.0,463.0,9.0,9.0,463.0,463.0,9.0],\"z\":[55.0,55.0,55.0,55.0,136.0,136.0,136.0,136.0],\"type\":\"mesh3d\"},{\"colorbar\":{\"title\":{\"text\":\"z\"}},\"colorscale\":[[0,\"gold\"],[0.5,\"mediumturquoise\"],[1,\"magenta\"]],\"flatshading\":true,\"i\":[7,0,0,0,4,4,6,6,4,0,3,2],\"intensity\":[0.0,0.14285714285714285,0.2857142857142857,0.42857142857142855,0.5714285714285714,0.7142857142857142,0.8571428571428571,1.0],\"j\":[3,4,1,2,5,6,5,2,0,1,6,3],\"k\":[0,7,2,3,6,7,1,1,5,5,7,6],\"x\":[92.0,92.0,895.0,895.0,92.0,92.0,895.0,895.0],\"y\":[9.0,463.0,463.0,9.0,9.0,463.0,463.0,9.0],\"z\":[55.0,55.0,55.0,55.0,136.0,136.0,136.0,136.0],\"type\":\"mesh3d\"},{\"colorbar\":{\"title\":{\"text\":\"z\"}},\"colorscale\":[[0,\"gold\"],[0.5,\"mediumturquoise\"],[1,\"magenta\"]],\"flatshading\":true,\"i\":[7,0,0,0,4,4,6,6,4,0,3,2],\"intensity\":[0.0,0.14285714285714285,0.2857142857142857,0.42857142857142855,0.5714285714285714,0.7142857142857142,0.8571428571428571,1.0],\"j\":[3,4,1,2,5,6,5,2,0,1,6,3],\"k\":[0,7,2,3,6,7,1,1,5,5,7,6],\"x\":[92.0,92.0,895.0,895.0,92.0,92.0,895.0,895.0],\"y\":[9.0,463.0,463.0,9.0,9.0,463.0,463.0,9.0],\"z\":[55.0,55.0,55.0,55.0,136.0,136.0,136.0,136.0],\"type\":\"mesh3d\"},{\"colorbar\":{\"title\":{\"text\":\"z\"}},\"colorscale\":[[0,\"gold\"],[0.5,\"mediumturquoise\"],[1,\"magenta\"]],\"flatshading\":true,\"i\":[7,0,0,0,4,4,6,6,4,0,3,2],\"intensity\":[0.0,0.14285714285714285,0.2857142857142857,0.42857142857142855,0.5714285714285714,0.7142857142857142,0.8571428571428571,1.0],\"j\":[3,4,1,2,5,6,5,2,0,1,6,3],\"k\":[0,7,2,3,6,7,1,1,5,5,7,6],\"x\":[92.0,92.0,895.0,895.0,92.0,92.0,895.0,895.0],\"y\":[9.0,463.0,463.0,9.0,9.0,463.0,463.0,9.0],\"z\":[55.0,55.0,55.0,55.0,136.0,136.0,136.0,136.0],\"type\":\"mesh3d\"},{\"colorbar\":{\"title\":{\"text\":\"z\"}},\"colorscale\":[[0,\"gold\"],[0.5,\"mediumturquoise\"],[1,\"magenta\"]],\"flatshading\":true,\"i\":[7,0,0,0,4,4,6,6,4,0,3,2],\"intensity\":[0.0,0.14285714285714285,0.2857142857142857,0.42857142857142855,0.5714285714285714,0.7142857142857142,0.8571428571428571,1.0],\"j\":[3,4,1,2,5,6,5,2,0,1,6,3],\"k\":[0,7,2,3,6,7,1,1,5,5,7,6],\"x\":[92.0,92.0,895.0,895.0,92.0,92.0,895.0,895.0],\"y\":[9.0,463.0,463.0,9.0,9.0,463.0,463.0,9.0],\"z\":[55.0,55.0,55.0,55.0,136.0,136.0,136.0,136.0],\"type\":\"mesh3d\"},{\"colorbar\":{\"title\":{\"text\":\"z\"}},\"colorscale\":[[0,\"gold\"],[0.5,\"mediumturquoise\"],[1,\"magenta\"]],\"flatshading\":true,\"i\":[7,0,0,0,4,4,6,6,4,0,3,2],\"intensity\":[0.0,0.14285714285714285,0.2857142857142857,0.42857142857142855,0.5714285714285714,0.7142857142857142,0.8571428571428571,1.0],\"j\":[3,4,1,2,5,6,5,2,0,1,6,3],\"k\":[0,7,2,3,6,7,1,1,5,5,7,6],\"x\":[92.0,92.0,895.0,895.0,92.0,92.0,895.0,895.0],\"y\":[9.0,463.0,463.0,9.0,9.0,463.0,463.0,9.0],\"z\":[55.0,55.0,55.0,55.0,136.0,136.0,136.0,136.0],\"type\":\"mesh3d\"},{\"colorbar\":{\"title\":{\"text\":\"z\"}},\"colorscale\":[[0,\"gold\"],[0.5,\"mediumturquoise\"],[1,\"magenta\"]],\"flatshading\":true,\"i\":[7,0,0,0,4,4,6,6,4,0,3,2],\"intensity\":[0.0,0.14285714285714285,0.2857142857142857,0.42857142857142855,0.5714285714285714,0.7142857142857142,0.8571428571428571,1.0],\"j\":[3,4,1,2,5,6,5,2,0,1,6,3],\"k\":[0,7,2,3,6,7,1,1,5,5,7,6],\"x\":[73.0,73.0,251.0,251.0,73.0,73.0,251.0,251.0],\"y\":[64.0,700.0,700.0,64.0,64.0,700.0,700.0,64.0],\"z\":[21.0,21.0,21.0,21.0,366.0,366.0,366.0,366.0],\"type\":\"mesh3d\"},{\"colorbar\":{\"title\":{\"text\":\"z\"}},\"colorscale\":[[0,\"gold\"],[0.5,\"mediumturquoise\"],[1,\"magenta\"]],\"flatshading\":true,\"i\":[7,0,0,0,4,4,6,6,4,0,3,2],\"intensity\":[0.0,0.14285714285714285,0.2857142857142857,0.42857142857142855,0.5714285714285714,0.7142857142857142,0.8571428571428571,1.0],\"j\":[3,4,1,2,5,6,5,2,0,1,6,3],\"k\":[0,7,2,3,6,7,1,1,5,5,7,6],\"x\":[73.0,73.0,251.0,251.0,73.0,73.0,251.0,251.0],\"y\":[64.0,700.0,700.0,64.0,64.0,700.0,700.0,64.0],\"z\":[21.0,21.0,21.0,21.0,366.0,366.0,366.0,366.0],\"type\":\"mesh3d\"},{\"colorbar\":{\"title\":{\"text\":\"z\"}},\"colorscale\":[[0,\"gold\"],[0.5,\"mediumturquoise\"],[1,\"magenta\"]],\"flatshading\":true,\"i\":[7,0,0,0,4,4,6,6,4,0,3,2],\"intensity\":[0.0,0.14285714285714285,0.2857142857142857,0.42857142857142855,0.5714285714285714,0.7142857142857142,0.8571428571428571,1.0],\"j\":[3,4,1,2,5,6,5,2,0,1,6,3],\"k\":[0,7,2,3,6,7,1,1,5,5,7,6],\"x\":[73.0,73.0,251.0,251.0,73.0,73.0,251.0,251.0],\"y\":[64.0,700.0,700.0,64.0,64.0,700.0,700.0,64.0],\"z\":[21.0,21.0,21.0,21.0,366.0,366.0,366.0,366.0],\"type\":\"mesh3d\"},{\"colorbar\":{\"title\":{\"text\":\"z\"}},\"colorscale\":[[0,\"gold\"],[0.5,\"mediumturquoise\"],[1,\"magenta\"]],\"flatshading\":true,\"i\":[7,0,0,0,4,4,6,6,4,0,3,2],\"intensity\":[0.0,0.14285714285714285,0.2857142857142857,0.42857142857142855,0.5714285714285714,0.7142857142857142,0.8571428571428571,1.0],\"j\":[3,4,1,2,5,6,5,2,0,1,6,3],\"k\":[0,7,2,3,6,7,1,1,5,5,7,6],\"x\":[73.0,73.0,251.0,251.0,73.0,73.0,251.0,251.0],\"y\":[64.0,700.0,700.0,64.0,64.0,700.0,700.0,64.0],\"z\":[21.0,21.0,21.0,21.0,366.0,366.0,366.0,366.0],\"type\":\"mesh3d\"},{\"colorbar\":{\"title\":{\"text\":\"z\"}},\"colorscale\":[[0,\"gold\"],[0.5,\"mediumturquoise\"],[1,\"magenta\"]],\"flatshading\":true,\"i\":[7,0,0,0,4,4,6,6,4,0,3,2],\"intensity\":[0.0,0.14285714285714285,0.2857142857142857,0.42857142857142855,0.5714285714285714,0.7142857142857142,0.8571428571428571,1.0],\"j\":[3,4,1,2,5,6,5,2,0,1,6,3],\"k\":[0,7,2,3,6,7,1,1,5,5,7,6],\"x\":[73.0,73.0,251.0,251.0,73.0,73.0,251.0,251.0],\"y\":[64.0,700.0,700.0,64.0,64.0,700.0,700.0,64.0],\"z\":[21.0,21.0,21.0,21.0,366.0,366.0,366.0,366.0],\"type\":\"mesh3d\"},{\"colorbar\":{\"title\":{\"text\":\"z\"}},\"colorscale\":[[0,\"gold\"],[0.5,\"mediumturquoise\"],[1,\"magenta\"]],\"flatshading\":true,\"i\":[7,0,0,0,4,4,6,6,4,0,3,2],\"intensity\":[0.0,0.14285714285714285,0.2857142857142857,0.42857142857142855,0.5714285714285714,0.7142857142857142,0.8571428571428571,1.0],\"j\":[3,4,1,2,5,6,5,2,0,1,6,3],\"k\":[0,7,2,3,6,7,1,1,5,5,7,6],\"x\":[73.0,73.0,251.0,251.0,73.0,73.0,251.0,251.0],\"y\":[64.0,700.0,700.0,64.0,64.0,700.0,700.0,64.0],\"z\":[21.0,21.0,21.0,21.0,366.0,366.0,366.0,366.0],\"type\":\"mesh3d\"},{\"colorbar\":{\"title\":{\"text\":\"z\"}},\"colorscale\":[[0,\"gold\"],[0.5,\"mediumturquoise\"],[1,\"magenta\"]],\"flatshading\":true,\"i\":[7,0,0,0,4,4,6,6,4,0,3,2],\"intensity\":[0.0,0.14285714285714285,0.2857142857142857,0.42857142857142855,0.5714285714285714,0.7142857142857142,0.8571428571428571,1.0],\"j\":[3,4,1,2,5,6,5,2,0,1,6,3],\"k\":[0,7,2,3,6,7,1,1,5,5,7,6],\"x\":[73.0,73.0,251.0,251.0,73.0,73.0,251.0,251.0],\"y\":[64.0,700.0,700.0,64.0,64.0,700.0,700.0,64.0],\"z\":[21.0,21.0,21.0,21.0,366.0,366.0,366.0,366.0],\"type\":\"mesh3d\"},{\"colorbar\":{\"title\":{\"text\":\"z\"}},\"colorscale\":[[0,\"gold\"],[0.5,\"mediumturquoise\"],[1,\"magenta\"]],\"flatshading\":true,\"i\":[7,0,0,0,4,4,6,6,4,0,3,2],\"intensity\":[0.0,0.14285714285714285,0.2857142857142857,0.42857142857142855,0.5714285714285714,0.7142857142857142,0.8571428571428571,1.0],\"j\":[3,4,1,2,5,6,5,2,0,1,6,3],\"k\":[0,7,2,3,6,7,1,1,5,5,7,6],\"x\":[73.0,73.0,251.0,251.0,73.0,73.0,251.0,251.0],\"y\":[64.0,700.0,700.0,64.0,64.0,700.0,700.0,64.0],\"z\":[21.0,21.0,21.0,21.0,366.0,366.0,366.0,366.0],\"type\":\"mesh3d\"},{\"colorbar\":{\"title\":{\"text\":\"z\"}},\"colorscale\":[[0,\"gold\"],[0.5,\"mediumturquoise\"],[1,\"magenta\"]],\"flatshading\":true,\"i\":[7,0,0,0,4,4,6,6,4,0,3,2],\"intensity\":[0.0,0.14285714285714285,0.2857142857142857,0.42857142857142855,0.5714285714285714,0.7142857142857142,0.8571428571428571,1.0],\"j\":[3,4,1,2,5,6,5,2,0,1,6,3],\"k\":[0,7,2,3,6,7,1,1,5,5,7,6],\"x\":[73.0,73.0,251.0,251.0,73.0,73.0,251.0,251.0],\"y\":[64.0,700.0,700.0,64.0,64.0,700.0,700.0,64.0],\"z\":[21.0,21.0,21.0,21.0,366.0,366.0,366.0,366.0],\"type\":\"mesh3d\"},{\"colorbar\":{\"title\":{\"text\":\"z\"}},\"colorscale\":[[0,\"gold\"],[0.5,\"mediumturquoise\"],[1,\"magenta\"]],\"flatshading\":true,\"i\":[7,0,0,0,4,4,6,6,4,0,3,2],\"intensity\":[0.0,0.14285714285714285,0.2857142857142857,0.42857142857142855,0.5714285714285714,0.7142857142857142,0.8571428571428571,1.0],\"j\":[3,4,1,2,5,6,5,2,0,1,6,3],\"k\":[0,7,2,3,6,7,1,1,5,5,7,6],\"x\":[73.0,73.0,251.0,251.0,73.0,73.0,251.0,251.0],\"y\":[64.0,700.0,700.0,64.0,64.0,700.0,700.0,64.0],\"z\":[21.0,21.0,21.0,21.0,366.0,366.0,366.0,366.0],\"type\":\"mesh3d\"},{\"colorbar\":{\"title\":{\"text\":\"z\"}},\"colorscale\":[[0,\"gold\"],[0.5,\"mediumturquoise\"],[1,\"magenta\"]],\"flatshading\":true,\"i\":[7,0,0,0,4,4,6,6,4,0,3,2],\"intensity\":[0.0,0.14285714285714285,0.2857142857142857,0.42857142857142855,0.5714285714285714,0.7142857142857142,0.8571428571428571,1.0],\"j\":[3,4,1,2,5,6,5,2,0,1,6,3],\"k\":[0,7,2,3,6,7,1,1,5,5,7,6],\"x\":[73.0,73.0,251.0,251.0,73.0,73.0,251.0,251.0],\"y\":[64.0,700.0,700.0,64.0,64.0,700.0,700.0,64.0],\"z\":[21.0,21.0,21.0,21.0,366.0,366.0,366.0,366.0],\"type\":\"mesh3d\"}],                        {\"template\":{\"data\":{\"histogram2dcontour\":[{\"type\":\"histogram2dcontour\",\"colorbar\":{\"outlinewidth\":0,\"ticks\":\"\"},\"colorscale\":[[0.0,\"#0d0887\"],[0.1111111111111111,\"#46039f\"],[0.2222222222222222,\"#7201a8\"],[0.3333333333333333,\"#9c179e\"],[0.4444444444444444,\"#bd3786\"],[0.5555555555555556,\"#d8576b\"],[0.6666666666666666,\"#ed7953\"],[0.7777777777777778,\"#fb9f3a\"],[0.8888888888888888,\"#fdca26\"],[1.0,\"#f0f921\"]]}],\"choropleth\":[{\"type\":\"choropleth\",\"colorbar\":{\"outlinewidth\":0,\"ticks\":\"\"}}],\"histogram2d\":[{\"type\":\"histogram2d\",\"colorbar\":{\"outlinewidth\":0,\"ticks\":\"\"},\"colorscale\":[[0.0,\"#0d0887\"],[0.1111111111111111,\"#46039f\"],[0.2222222222222222,\"#7201a8\"],[0.3333333333333333,\"#9c179e\"],[0.4444444444444444,\"#bd3786\"],[0.5555555555555556,\"#d8576b\"],[0.6666666666666666,\"#ed7953\"],[0.7777777777777778,\"#fb9f3a\"],[0.8888888888888888,\"#fdca26\"],[1.0,\"#f0f921\"]]}],\"heatmap\":[{\"type\":\"heatmap\",\"colorbar\":{\"outlinewidth\":0,\"ticks\":\"\"},\"colorscale\":[[0.0,\"#0d0887\"],[0.1111111111111111,\"#46039f\"],[0.2222222222222222,\"#7201a8\"],[0.3333333333333333,\"#9c179e\"],[0.4444444444444444,\"#bd3786\"],[0.5555555555555556,\"#d8576b\"],[0.6666666666666666,\"#ed7953\"],[0.7777777777777778,\"#fb9f3a\"],[0.8888888888888888,\"#fdca26\"],[1.0,\"#f0f921\"]]}],\"heatmapgl\":[{\"type\":\"heatmapgl\",\"colorbar\":{\"outlinewidth\":0,\"ticks\":\"\"},\"colorscale\":[[0.0,\"#0d0887\"],[0.1111111111111111,\"#46039f\"],[0.2222222222222222,\"#7201a8\"],[0.3333333333333333,\"#9c179e\"],[0.4444444444444444,\"#bd3786\"],[0.5555555555555556,\"#d8576b\"],[0.6666666666666666,\"#ed7953\"],[0.7777777777777778,\"#fb9f3a\"],[0.8888888888888888,\"#fdca26\"],[1.0,\"#f0f921\"]]}],\"contourcarpet\":[{\"type\":\"contourcarpet\",\"colorbar\":{\"outlinewidth\":0,\"ticks\":\"\"}}],\"contour\":[{\"type\":\"contour\",\"colorbar\":{\"outlinewidth\":0,\"ticks\":\"\"},\"colorscale\":[[0.0,\"#0d0887\"],[0.1111111111111111,\"#46039f\"],[0.2222222222222222,\"#7201a8\"],[0.3333333333333333,\"#9c179e\"],[0.4444444444444444,\"#bd3786\"],[0.5555555555555556,\"#d8576b\"],[0.6666666666666666,\"#ed7953\"],[0.7777777777777778,\"#fb9f3a\"],[0.8888888888888888,\"#fdca26\"],[1.0,\"#f0f921\"]]}],\"surface\":[{\"type\":\"surface\",\"colorbar\":{\"outlinewidth\":0,\"ticks\":\"\"},\"colorscale\":[[0.0,\"#0d0887\"],[0.1111111111111111,\"#46039f\"],[0.2222222222222222,\"#7201a8\"],[0.3333333333333333,\"#9c179e\"],[0.4444444444444444,\"#bd3786\"],[0.5555555555555556,\"#d8576b\"],[0.6666666666666666,\"#ed7953\"],[0.7777777777777778,\"#fb9f3a\"],[0.8888888888888888,\"#fdca26\"],[1.0,\"#f0f921\"]]}],\"mesh3d\":[{\"type\":\"mesh3d\",\"colorbar\":{\"outlinewidth\":0,\"ticks\":\"\"}}],\"scatter\":[{\"fillpattern\":{\"fillmode\":\"overlay\",\"size\":10,\"solidity\":0.2},\"type\":\"scatter\"}],\"parcoords\":[{\"type\":\"parcoords\",\"line\":{\"colorbar\":{\"outlinewidth\":0,\"ticks\":\"\"}}}],\"scatterpolargl\":[{\"type\":\"scatterpolargl\",\"marker\":{\"colorbar\":{\"outlinewidth\":0,\"ticks\":\"\"}}}],\"bar\":[{\"error_x\":{\"color\":\"#2a3f5f\"},\"error_y\":{\"color\":\"#2a3f5f\"},\"marker\":{\"line\":{\"color\":\"#E5ECF6\",\"width\":0.5},\"pattern\":{\"fillmode\":\"overlay\",\"size\":10,\"solidity\":0.2}},\"type\":\"bar\"}],\"scattergeo\":[{\"type\":\"scattergeo\",\"marker\":{\"colorbar\":{\"outlinewidth\":0,\"ticks\":\"\"}}}],\"scatterpolar\":[{\"type\":\"scatterpolar\",\"marker\":{\"colorbar\":{\"outlinewidth\":0,\"ticks\":\"\"}}}],\"histogram\":[{\"marker\":{\"pattern\":{\"fillmode\":\"overlay\",\"size\":10,\"solidity\":0.2}},\"type\":\"histogram\"}],\"scattergl\":[{\"type\":\"scattergl\",\"marker\":{\"colorbar\":{\"outlinewidth\":0,\"ticks\":\"\"}}}],\"scatter3d\":[{\"type\":\"scatter3d\",\"line\":{\"colorbar\":{\"outlinewidth\":0,\"ticks\":\"\"}},\"marker\":{\"colorbar\":{\"outlinewidth\":0,\"ticks\":\"\"}}}],\"scattermapbox\":[{\"type\":\"scattermapbox\",\"marker\":{\"colorbar\":{\"outlinewidth\":0,\"ticks\":\"\"}}}],\"scatterternary\":[{\"type\":\"scatterternary\",\"marker\":{\"colorbar\":{\"outlinewidth\":0,\"ticks\":\"\"}}}],\"scattercarpet\":[{\"type\":\"scattercarpet\",\"marker\":{\"colorbar\":{\"outlinewidth\":0,\"ticks\":\"\"}}}],\"carpet\":[{\"aaxis\":{\"endlinecolor\":\"#2a3f5f\",\"gridcolor\":\"white\",\"linecolor\":\"white\",\"minorgridcolor\":\"white\",\"startlinecolor\":\"#2a3f5f\"},\"baxis\":{\"endlinecolor\":\"#2a3f5f\",\"gridcolor\":\"white\",\"linecolor\":\"white\",\"minorgridcolor\":\"white\",\"startlinecolor\":\"#2a3f5f\"},\"type\":\"carpet\"}],\"table\":[{\"cells\":{\"fill\":{\"color\":\"#EBF0F8\"},\"line\":{\"color\":\"white\"}},\"header\":{\"fill\":{\"color\":\"#C8D4E3\"},\"line\":{\"color\":\"white\"}},\"type\":\"table\"}],\"barpolar\":[{\"marker\":{\"line\":{\"color\":\"#E5ECF6\",\"width\":0.5},\"pattern\":{\"fillmode\":\"overlay\",\"size\":10,\"solidity\":0.2}},\"type\":\"barpolar\"}],\"pie\":[{\"automargin\":true,\"type\":\"pie\"}]},\"layout\":{\"autotypenumbers\":\"strict\",\"colorway\":[\"#636efa\",\"#EF553B\",\"#00cc96\",\"#ab63fa\",\"#FFA15A\",\"#19d3f3\",\"#FF6692\",\"#B6E880\",\"#FF97FF\",\"#FECB52\"],\"font\":{\"color\":\"#2a3f5f\"},\"hovermode\":\"closest\",\"hoverlabel\":{\"align\":\"left\"},\"paper_bgcolor\":\"white\",\"plot_bgcolor\":\"#E5ECF6\",\"polar\":{\"bgcolor\":\"#E5ECF6\",\"angularaxis\":{\"gridcolor\":\"white\",\"linecolor\":\"white\",\"ticks\":\"\"},\"radialaxis\":{\"gridcolor\":\"white\",\"linecolor\":\"white\",\"ticks\":\"\"}},\"ternary\":{\"bgcolor\":\"#E5ECF6\",\"aaxis\":{\"gridcolor\":\"white\",\"linecolor\":\"white\",\"ticks\":\"\"},\"baxis\":{\"gridcolor\":\"white\",\"linecolor\":\"white\",\"ticks\":\"\"},\"caxis\":{\"gridcolor\":\"white\",\"linecolor\":\"white\",\"ticks\":\"\"}},\"coloraxis\":{\"colorbar\":{\"outlinewidth\":0,\"ticks\":\"\"}},\"colorscale\":{\"sequential\":[[0.0,\"#0d0887\"],[0.1111111111111111,\"#46039f\"],[0.2222222222222222,\"#7201a8\"],[0.3333333333333333,\"#9c179e\"],[0.4444444444444444,\"#bd3786\"],[0.5555555555555556,\"#d8576b\"],[0.6666666666666666,\"#ed7953\"],[0.7777777777777778,\"#fb9f3a\"],[0.8888888888888888,\"#fdca26\"],[1.0,\"#f0f921\"]],\"sequentialminus\":[[0.0,\"#0d0887\"],[0.1111111111111111,\"#46039f\"],[0.2222222222222222,\"#7201a8\"],[0.3333333333333333,\"#9c179e\"],[0.4444444444444444,\"#bd3786\"],[0.5555555555555556,\"#d8576b\"],[0.6666666666666666,\"#ed7953\"],[0.7777777777777778,\"#fb9f3a\"],[0.8888888888888888,\"#fdca26\"],[1.0,\"#f0f921\"]],\"diverging\":[[0,\"#8e0152\"],[0.1,\"#c51b7d\"],[0.2,\"#de77ae\"],[0.3,\"#f1b6da\"],[0.4,\"#fde0ef\"],[0.5,\"#f7f7f7\"],[0.6,\"#e6f5d0\"],[0.7,\"#b8e186\"],[0.8,\"#7fbc41\"],[0.9,\"#4d9221\"],[1,\"#276419\"]]},\"xaxis\":{\"gridcolor\":\"white\",\"linecolor\":\"white\",\"ticks\":\"\",\"title\":{\"standoff\":15},\"zerolinecolor\":\"white\",\"automargin\":true,\"zerolinewidth\":2},\"yaxis\":{\"gridcolor\":\"white\",\"linecolor\":\"white\",\"ticks\":\"\",\"title\":{\"standoff\":15},\"zerolinecolor\":\"white\",\"automargin\":true,\"zerolinewidth\":2},\"scene\":{\"xaxis\":{\"backgroundcolor\":\"#E5ECF6\",\"gridcolor\":\"white\",\"linecolor\":\"white\",\"showbackground\":true,\"ticks\":\"\",\"zerolinecolor\":\"white\",\"gridwidth\":2},\"yaxis\":{\"backgroundcolor\":\"#E5ECF6\",\"gridcolor\":\"white\",\"linecolor\":\"white\",\"showbackground\":true,\"ticks\":\"\",\"zerolinecolor\":\"white\",\"gridwidth\":2},\"zaxis\":{\"backgroundcolor\":\"#E5ECF6\",\"gridcolor\":\"white\",\"linecolor\":\"white\",\"showbackground\":true,\"ticks\":\"\",\"zerolinecolor\":\"white\",\"gridwidth\":2}},\"shapedefaults\":{\"line\":{\"color\":\"#2a3f5f\"}},\"annotationdefaults\":{\"arrowcolor\":\"#2a3f5f\",\"arrowhead\":0,\"arrowwidth\":1},\"geo\":{\"bgcolor\":\"white\",\"landcolor\":\"#E5ECF6\",\"subunitcolor\":\"white\",\"showland\":true,\"showlakes\":true,\"lakecolor\":\"white\"},\"title\":{\"x\":0.05},\"mapbox\":{\"style\":\"light\"}}},\"scene\":{\"xaxis\":{\"nticks\":4,\"range\":[0,1000]},\"yaxis\":{\"nticks\":4,\"range\":[0,1000]},\"zaxis\":{\"nticks\":4,\"range\":[0,1000]}},\"margin\":{\"r\":20,\"l\":10,\"b\":10,\"t\":10},\"width\":700},                        {\"responsive\": true}                    ).then(function(){\n",
       "                            \n",
       "var gd = document.getElementById('b8813faa-5f90-489b-886f-5a1c8931f130');\n",
       "var x = new MutationObserver(function (mutations, observer) {{\n",
       "        var display = window.getComputedStyle(gd).display;\n",
       "        if (!display || display === 'none') {{\n",
       "            console.log([gd, 'removed!']);\n",
       "            Plotly.purge(gd);\n",
       "            observer.disconnect();\n",
       "        }}\n",
       "}});\n",
       "\n",
       "// Listen for the removal of the full notebook cells\n",
       "var notebookContainer = gd.closest('#notebook-container');\n",
       "if (notebookContainer) {{\n",
       "    x.observe(notebookContainer, {childList: true});\n",
       "}}\n",
       "\n",
       "// Listen for the clearing of the current output cell\n",
       "var outputEl = gd.closest('.output');\n",
       "if (outputEl) {{\n",
       "    x.observe(outputEl, {childList: true});\n",
       "}}\n",
       "\n",
       "                        })                };                });            </script>        </div>"
      ]
     },
     "metadata": {},
     "output_type": "display_data"
    }
   ],
   "source": [
    "start = perf_counter()\n",
    "response = requests.get(f\"{boxes_url}?x_gte=100&x_lte=200&y=100&z=100\")\n",
    "end = perf_counter()\n",
    "response_boxes = [convert_box_json_to_nparray(box) for box in response.json()]\n",
    "print(f\"Response Time: {end - start}\")\n",
    "print(f\"Showing {len(response_boxes)} Boxes\")\n",
    "show_3d_boxes(response_boxes[:100])"
   ]
  },
  {
   "cell_type": "code",
   "execution_count": 15,
   "id": "310281c1-188d-43d7-9493-b84d0fbdeb8b",
   "metadata": {},
   "outputs": [
    {
     "data": {
      "text/plain": [
       "1700"
      ]
     },
     "execution_count": 15,
     "metadata": {},
     "output_type": "execute_result"
    }
   ],
   "source": [
    "response = requests.get(boxes_url)\n",
    "len(response.json())"
   ]
  },
  {
   "cell_type": "code",
   "execution_count": null,
   "id": "8d45b950-b295-4ead-94d9-f4ebe297e946",
   "metadata": {},
   "outputs": [],
   "source": []
  }
 ],
 "metadata": {
  "kernelspec": {
   "display_name": "Python 3 (ipykernel)",
   "language": "python",
   "name": "python3"
  },
  "language_info": {
   "codemirror_mode": {
    "name": "ipython",
    "version": 3
   },
   "file_extension": ".py",
   "mimetype": "text/x-python",
   "name": "python",
   "nbconvert_exporter": "python",
   "pygments_lexer": "ipython3",
   "version": "3.8.10"
  }
 },
 "nbformat": 4,
 "nbformat_minor": 5
}
