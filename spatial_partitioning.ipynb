{
 "cells": [
  {
   "cell_type": "code",
   "execution_count": 1,
   "id": "12fe0d36-4a3d-44e4-89d8-e062c7635c19",
   "metadata": {},
   "outputs": [],
   "source": [
    "from utils import *"
   ]
  },
  {
   "cell_type": "code",
   "execution_count": 2,
   "id": "9e5c7bda-9e0d-40eb-920b-94c8fb34866d",
   "metadata": {},
   "outputs": [],
   "source": [
    "# Setup API\n",
    "import requests\n",
    "from requests.compat import urljoin\n",
    "import json\n",
    "from time import perf_counter_ns"
   ]
  },
  {
   "cell_type": "code",
   "execution_count": 3,
   "id": "dffb9676-a351-4458-bbe4-397e07f18f79",
   "metadata": {},
   "outputs": [
    {
     "data": {
      "text/plain": [
       "[{'x_min': 75.0,\n",
       "  'x_max': 83.0,\n",
       "  'y_min': 36.0,\n",
       "  'y_max': 65.0,\n",
       "  'z_min': 48.0,\n",
       "  'z_max': 70.0,\n",
       "  'id': '79147250-1865-42f0-b28c-82d6131c5052'}]"
      ]
     },
     "execution_count": 3,
     "metadata": {},
     "output_type": "execute_result"
    }
   ],
   "source": [
    "api_host = \"http://localhost\"\n",
    "boxes_endpoint = \"boxes/\"\n",
    "\n",
    "boxes_url = urljoin(api_host, boxes_endpoint)\n",
    "response = requests.get(url=boxes_url)\n",
    "response.json()[:1]"
   ]
  },
  {
   "cell_type": "code",
   "execution_count": 4,
   "id": "ff4421df-0505-4403-991f-7aaed49430cb",
   "metadata": {},
   "outputs": [],
   "source": [
    "\n",
    "# for box in boxes:\n",
    "#     data = {\n",
    "#         \"x_min\": min(box[0]),\n",
    "#         \"x_max\": max(box[0]),\n",
    "#         \"y_min\": min(box[1]),\n",
    "#         \"y_max\": max(box[1]),\n",
    "#         \"z_min\": min(box[2]),\n",
    "#         \"z_max\": max(box[2]),\n",
    "#     }\n",
    "#     for key, value in data.items():\n",
    "#         data[key] = int(value)\n",
    "#     print(data)\n",
    "#     response = requests.post(urljoin(api_host, boxes_endpoint), json=data)\n",
    "#     assert response.status_code == 200, response.json()"
   ]
  },
  {
   "cell_type": "code",
   "execution_count": 5,
   "id": "b1eb043b-5761-40a4-a0ac-e855ed93ffd4",
   "metadata": {},
   "outputs": [],
   "source": [
    "def show_3d_boxes(boxes, lines_args):\n",
    "    fig = go.Figure()\n",
    "\n",
    "    for box in boxes:\n",
    "        add_mesh_3d(fig, box)\n",
    "        \n",
    "    for line_args in lines_args:\n",
    "        add_line_3d(fig, **line_args)\n",
    "\n",
    "    fig.update_layout(\n",
    "        scene = {\n",
    "            \"xaxis\": {\n",
    "                \"nticks\": 4, \n",
    "                \"range\": [0,1000],\n",
    "            },\n",
    "            \"yaxis\": {\n",
    "                \"nticks\": 4, \n",
    "                \"range\": [0, 1000],\n",
    "            },\n",
    "            \"zaxis\": {\n",
    "                \"nticks\": 4, \n",
    "                \"range\": [0,1000],\n",
    "            },\n",
    "            \"aspectmode\": \"cube\"\n",
    "        },\n",
    "        width=700,\n",
    "        margin=dict(r=20, l=10, b=10, t=10),\n",
    "    )\n",
    "\n",
    "    fig.show()\n",
    "    \n",
    "    return fig"
   ]
  },
  {
   "cell_type": "code",
   "execution_count": 6,
   "id": "34fb2c1d-00a0-4343-a9cd-3a76514824de",
   "metadata": {},
   "outputs": [],
   "source": [
    "response = requests.get(f\"{boxes_url}?x=20&y=500\")"
   ]
  },
  {
   "cell_type": "code",
   "execution_count": 7,
   "id": "ca0677e4-d1be-4aa9-959f-4b599072ecd4",
   "metadata": {},
   "outputs": [],
   "source": [
    "from typing import Dict, Any\n",
    "\n",
    "def convert_box_json_to_nparray(box_obj: Dict[str, Any]):\n",
    "    del box_obj[\"id\"]\n",
    "    box_array = get_box_points_array(\n",
    "        **box_obj\n",
    "    )\n",
    "    return box_array\n",
    "\n",
    "# convert_box_json_to_nparray(response.json()[0])"
   ]
  },
  {
   "cell_type": "code",
   "execution_count": 8,
   "id": "119ad1ac-2a50-4b3e-ad62-00c9f94f47b7",
   "metadata": {},
   "outputs": [
    {
     "data": {
      "text/plain": [
       "[array([[  9.,   9.,  48.,  48.,   9.,   9.,  48.,  48.],\n",
       "        [504., 545., 545., 504., 504., 545., 545., 504.],\n",
       "        [512., 512., 512., 512., 597., 597., 597., 597.]])]"
      ]
     },
     "execution_count": 8,
     "metadata": {},
     "output_type": "execute_result"
    }
   ],
   "source": [
    "response_boxes = [convert_box_json_to_nparray(box) for box in response.json()]\n",
    "response_boxes[:2]"
   ]
  },
  {
   "cell_type": "code",
   "execution_count": 9,
   "id": "ebf41ff0-d827-467e-9226-172c36298717",
   "metadata": {},
   "outputs": [],
   "source": [
    "def build_query_string(**kwargs):\n",
    "    query_params = []\n",
    "    for key, val in kwargs.items():\n",
    "        if val:\n",
    "            query_params.append(f\"{key}={val}\")\n",
    "    return \"&\".join(query_params)\n",
    "\n",
    "\n",
    "def get_query_param_lines(x: int, y: int, z: int, axis_min: int, axis_max: int):\n",
    "    x_none = x is None\n",
    "    y_none = y is None\n",
    "    z_none = z is None\n",
    "    query_param_lines = []\n",
    "    if x_none:\n",
    "        x = 0\n",
    "    if y_none:\n",
    "        y = 0\n",
    "    if z_none:\n",
    "        z = 0\n",
    "    \n",
    "    if not x_none:\n",
    "        query_param_lines.append(\n",
    "            {\n",
    "                \"coordinates\":np.array([[x, x], [axis_min, axis_max], [z, z]]),\n",
    "                \"name\": \"x\"\n",
    "            }\n",
    "        )\n",
    "    if not y_none:\n",
    "        query_param_lines.append(\n",
    "            {\n",
    "                \"coordinates\": np.array([[x, x], [y, y], [axis_min, axis_max]]),\n",
    "                \"name\": \"y\",\n",
    "            }\n",
    "        )\n",
    "    if not z_none:\n",
    "        query_param_lines.append(\n",
    "            {\n",
    "                \"coordinates\": np.array([[axis_min, axis_max], [y, y], [z, z]]),\n",
    "                \"name\": \"z\"\n",
    "            }\n",
    "        )\n",
    "    \n",
    "    return query_param_lines"
   ]
  },
  {
   "cell_type": "code",
   "execution_count": 10,
   "id": "6d0a7498-c461-438f-aa72-8fa0dcbc3aa3",
   "metadata": {},
   "outputs": [
    {
     "data": {
      "text/plain": [
       "[0, 9, 1, 8, 3, 6, 7, 2, 4, 5]"
      ]
     },
     "execution_count": 10,
     "metadata": {},
     "output_type": "execute_result"
    }
   ],
   "source": [
    "import random\n",
    "\n",
    "def get_random_distribution_from_list(objects: List[Any], size: int):\n",
    "    \"\"\"\n",
    "    Return a random subset of objects from list\n",
    "    \"\"\"\n",
    "    objects_indexes = list(range(len(objects)))\n",
    "    return_list = []\n",
    "    i = 0\n",
    "    while i < size and objects_indexes:\n",
    "        random_index = random.randrange(len(objects_indexes))\n",
    "        return_list.append(objects[objects_indexes[random_index]])\n",
    "        del objects_indexes[random_index]\n",
    "        i += 1\n",
    "    return return_list\n",
    "\n",
    "\n",
    "some_range = list(range(10))\n",
    "\n",
    "get_random_distribution_from_list(some_range, 100)\n",
    "    "
   ]
  },
  {
   "cell_type": "code",
   "execution_count": 16,
   "id": "c4831934-853f-46be-9d47-efc7f9cb3ac8",
   "metadata": {},
   "outputs": [
    {
     "name": "stdout",
     "output_type": "stream",
     "text": [
      "Query Parameters: \n",
      "Response Time: 175ms\n",
      "2040 Boxes in Response\n",
      "Showing 100 Boxes\n"
     ]
    },
    {
     "data": {
      "application/vnd.plotly.v1+json": {
       "config": {
        "plotlyServerURL": "https://plotly.com"
       },
       "data": [
        {
         "colorscale": [
          [
           0,
           "gold"
          ],
          [
           0.5,
           "mediumturquoise"
          ],
          [
           1,
           "magenta"
          ]
         ],
         "flatshading": true,
         "i": [
          7,
          0,
          0,
          0,
          4,
          4,
          6,
          6,
          4,
          0,
          3,
          2
         ],
         "intensity": [
          0,
          0.14285714285714285,
          0.2857142857142857,
          0.42857142857142855,
          0.5714285714285714,
          0.7142857142857142,
          0.8571428571428571,
          1
         ],
         "j": [
          3,
          4,
          1,
          2,
          5,
          6,
          5,
          2,
          0,
          1,
          6,
          3
         ],
         "k": [
          0,
          7,
          2,
          3,
          6,
          7,
          1,
          1,
          5,
          5,
          7,
          6
         ],
         "showlegend": false,
         "showscale": false,
         "type": "mesh3d",
         "x": [
          396,
          396,
          399,
          399,
          396,
          396,
          399,
          399
         ],
         "y": [
          743,
          784,
          784,
          743,
          743,
          784,
          784,
          743
         ],
         "z": [
          20,
          20,
          20,
          20,
          69,
          69,
          69,
          69
         ]
        },
        {
         "colorscale": [
          [
           0,
           "gold"
          ],
          [
           0.5,
           "mediumturquoise"
          ],
          [
           1,
           "magenta"
          ]
         ],
         "flatshading": true,
         "i": [
          7,
          0,
          0,
          0,
          4,
          4,
          6,
          6,
          4,
          0,
          3,
          2
         ],
         "intensity": [
          0,
          0.14285714285714285,
          0.2857142857142857,
          0.42857142857142855,
          0.5714285714285714,
          0.7142857142857142,
          0.8571428571428571,
          1
         ],
         "j": [
          3,
          4,
          1,
          2,
          5,
          6,
          5,
          2,
          0,
          1,
          6,
          3
         ],
         "k": [
          0,
          7,
          2,
          3,
          6,
          7,
          1,
          1,
          5,
          5,
          7,
          6
         ],
         "showlegend": false,
         "showscale": false,
         "type": "mesh3d",
         "x": [
          845,
          845,
          847,
          847,
          845,
          845,
          847,
          847
         ],
         "y": [
          459,
          472,
          472,
          459,
          459,
          472,
          472,
          459
         ],
         "z": [
          780,
          780,
          780,
          780,
          791,
          791,
          791,
          791
         ]
        },
        {
         "colorscale": [
          [
           0,
           "gold"
          ],
          [
           0.5,
           "mediumturquoise"
          ],
          [
           1,
           "magenta"
          ]
         ],
         "flatshading": true,
         "i": [
          7,
          0,
          0,
          0,
          4,
          4,
          6,
          6,
          4,
          0,
          3,
          2
         ],
         "intensity": [
          0,
          0.14285714285714285,
          0.2857142857142857,
          0.42857142857142855,
          0.5714285714285714,
          0.7142857142857142,
          0.8571428571428571,
          1
         ],
         "j": [
          3,
          4,
          1,
          2,
          5,
          6,
          5,
          2,
          0,
          1,
          6,
          3
         ],
         "k": [
          0,
          7,
          2,
          3,
          6,
          7,
          1,
          1,
          5,
          5,
          7,
          6
         ],
         "showlegend": false,
         "showscale": false,
         "type": "mesh3d",
         "x": [
          340,
          340,
          392,
          392,
          340,
          340,
          392,
          392
         ],
         "y": [
          630,
          631,
          631,
          630,
          630,
          631,
          631,
          630
         ],
         "z": [
          896,
          896,
          896,
          896,
          898,
          898,
          898,
          898
         ]
        },
        {
         "colorscale": [
          [
           0,
           "gold"
          ],
          [
           0.5,
           "mediumturquoise"
          ],
          [
           1,
           "magenta"
          ]
         ],
         "flatshading": true,
         "i": [
          7,
          0,
          0,
          0,
          4,
          4,
          6,
          6,
          4,
          0,
          3,
          2
         ],
         "intensity": [
          0,
          0.14285714285714285,
          0.2857142857142857,
          0.42857142857142855,
          0.5714285714285714,
          0.7142857142857142,
          0.8571428571428571,
          1
         ],
         "j": [
          3,
          4,
          1,
          2,
          5,
          6,
          5,
          2,
          0,
          1,
          6,
          3
         ],
         "k": [
          0,
          7,
          2,
          3,
          6,
          7,
          1,
          1,
          5,
          5,
          7,
          6
         ],
         "showlegend": false,
         "showscale": false,
         "type": "mesh3d",
         "x": [
          71,
          71,
          78,
          78,
          71,
          71,
          78,
          78
         ],
         "y": [
          626,
          649,
          649,
          626,
          626,
          649,
          649,
          626
         ],
         "z": [
          2,
          2,
          2,
          2,
          82,
          82,
          82,
          82
         ]
        },
        {
         "colorscale": [
          [
           0,
           "gold"
          ],
          [
           0.5,
           "mediumturquoise"
          ],
          [
           1,
           "magenta"
          ]
         ],
         "flatshading": true,
         "i": [
          7,
          0,
          0,
          0,
          4,
          4,
          6,
          6,
          4,
          0,
          3,
          2
         ],
         "intensity": [
          0,
          0.14285714285714285,
          0.2857142857142857,
          0.42857142857142855,
          0.5714285714285714,
          0.7142857142857142,
          0.8571428571428571,
          1
         ],
         "j": [
          3,
          4,
          1,
          2,
          5,
          6,
          5,
          2,
          0,
          1,
          6,
          3
         ],
         "k": [
          0,
          7,
          2,
          3,
          6,
          7,
          1,
          1,
          5,
          5,
          7,
          6
         ],
         "showlegend": false,
         "showscale": false,
         "type": "mesh3d",
         "x": [
          582,
          582,
          591,
          591,
          582,
          582,
          591,
          591
         ],
         "y": [
          911,
          912,
          912,
          911,
          911,
          912,
          912,
          911
         ],
         "z": [
          358,
          358,
          358,
          358,
          384,
          384,
          384,
          384
         ]
        },
        {
         "colorscale": [
          [
           0,
           "gold"
          ],
          [
           0.5,
           "mediumturquoise"
          ],
          [
           1,
           "magenta"
          ]
         ],
         "flatshading": true,
         "i": [
          7,
          0,
          0,
          0,
          4,
          4,
          6,
          6,
          4,
          0,
          3,
          2
         ],
         "intensity": [
          0,
          0.14285714285714285,
          0.2857142857142857,
          0.42857142857142855,
          0.5714285714285714,
          0.7142857142857142,
          0.8571428571428571,
          1
         ],
         "j": [
          3,
          4,
          1,
          2,
          5,
          6,
          5,
          2,
          0,
          1,
          6,
          3
         ],
         "k": [
          0,
          7,
          2,
          3,
          6,
          7,
          1,
          1,
          5,
          5,
          7,
          6
         ],
         "showlegend": false,
         "showscale": false,
         "type": "mesh3d",
         "x": [
          994,
          994,
          999,
          999,
          994,
          994,
          999,
          999
         ],
         "y": [
          290,
          299,
          299,
          290,
          290,
          299,
          299,
          290
         ],
         "z": [
          428,
          428,
          428,
          428,
          434,
          434,
          434,
          434
         ]
        },
        {
         "colorscale": [
          [
           0,
           "gold"
          ],
          [
           0.5,
           "mediumturquoise"
          ],
          [
           1,
           "magenta"
          ]
         ],
         "flatshading": true,
         "i": [
          7,
          0,
          0,
          0,
          4,
          4,
          6,
          6,
          4,
          0,
          3,
          2
         ],
         "intensity": [
          0,
          0.14285714285714285,
          0.2857142857142857,
          0.42857142857142855,
          0.5714285714285714,
          0.7142857142857142,
          0.8571428571428571,
          1
         ],
         "j": [
          3,
          4,
          1,
          2,
          5,
          6,
          5,
          2,
          0,
          1,
          6,
          3
         ],
         "k": [
          0,
          7,
          2,
          3,
          6,
          7,
          1,
          1,
          5,
          5,
          7,
          6
         ],
         "showlegend": false,
         "showscale": false,
         "type": "mesh3d",
         "x": [
          45,
          45,
          56,
          56,
          45,
          45,
          56,
          56
         ],
         "y": [
          41,
          62,
          62,
          41,
          41,
          62,
          62,
          41
         ],
         "z": [
          732,
          732,
          732,
          732,
          771,
          771,
          771,
          771
         ]
        },
        {
         "colorscale": [
          [
           0,
           "gold"
          ],
          [
           0.5,
           "mediumturquoise"
          ],
          [
           1,
           "magenta"
          ]
         ],
         "flatshading": true,
         "i": [
          7,
          0,
          0,
          0,
          4,
          4,
          6,
          6,
          4,
          0,
          3,
          2
         ],
         "intensity": [
          0,
          0.14285714285714285,
          0.2857142857142857,
          0.42857142857142855,
          0.5714285714285714,
          0.7142857142857142,
          0.8571428571428571,
          1
         ],
         "j": [
          3,
          4,
          1,
          2,
          5,
          6,
          5,
          2,
          0,
          1,
          6,
          3
         ],
         "k": [
          0,
          7,
          2,
          3,
          6,
          7,
          1,
          1,
          5,
          5,
          7,
          6
         ],
         "showlegend": false,
         "showscale": false,
         "type": "mesh3d",
         "x": [
          749,
          749,
          798,
          798,
          749,
          749,
          798,
          798
         ],
         "y": [
          200,
          204,
          204,
          200,
          200,
          204,
          204,
          200
         ],
         "z": [
          330,
          330,
          330,
          330,
          337,
          337,
          337,
          337
         ]
        },
        {
         "colorscale": [
          [
           0,
           "gold"
          ],
          [
           0.5,
           "mediumturquoise"
          ],
          [
           1,
           "magenta"
          ]
         ],
         "flatshading": true,
         "i": [
          7,
          0,
          0,
          0,
          4,
          4,
          6,
          6,
          4,
          0,
          3,
          2
         ],
         "intensity": [
          0,
          0.14285714285714285,
          0.2857142857142857,
          0.42857142857142855,
          0.5714285714285714,
          0.7142857142857142,
          0.8571428571428571,
          1
         ],
         "j": [
          3,
          4,
          1,
          2,
          5,
          6,
          5,
          2,
          0,
          1,
          6,
          3
         ],
         "k": [
          0,
          7,
          2,
          3,
          6,
          7,
          1,
          1,
          5,
          5,
          7,
          6
         ],
         "showlegend": false,
         "showscale": false,
         "type": "mesh3d",
         "x": [
          360,
          360,
          393,
          393,
          360,
          360,
          393,
          393
         ],
         "y": [
          62,
          97,
          97,
          62,
          62,
          97,
          97,
          62
         ],
         "z": [
          248,
          248,
          248,
          248,
          282,
          282,
          282,
          282
         ]
        },
        {
         "colorscale": [
          [
           0,
           "gold"
          ],
          [
           0.5,
           "mediumturquoise"
          ],
          [
           1,
           "magenta"
          ]
         ],
         "flatshading": true,
         "i": [
          7,
          0,
          0,
          0,
          4,
          4,
          6,
          6,
          4,
          0,
          3,
          2
         ],
         "intensity": [
          0,
          0.14285714285714285,
          0.2857142857142857,
          0.42857142857142855,
          0.5714285714285714,
          0.7142857142857142,
          0.8571428571428571,
          1
         ],
         "j": [
          3,
          4,
          1,
          2,
          5,
          6,
          5,
          2,
          0,
          1,
          6,
          3
         ],
         "k": [
          0,
          7,
          2,
          3,
          6,
          7,
          1,
          1,
          5,
          5,
          7,
          6
         ],
         "showlegend": false,
         "showscale": false,
         "type": "mesh3d",
         "x": [
          528,
          528,
          591,
          591,
          528,
          528,
          591,
          591
         ],
         "y": [
          180,
          181,
          181,
          180,
          180,
          181,
          181,
          180
         ],
         "z": [
          806,
          806,
          806,
          806,
          845,
          845,
          845,
          845
         ]
        },
        {
         "colorscale": [
          [
           0,
           "gold"
          ],
          [
           0.5,
           "mediumturquoise"
          ],
          [
           1,
           "magenta"
          ]
         ],
         "flatshading": true,
         "i": [
          7,
          0,
          0,
          0,
          4,
          4,
          6,
          6,
          4,
          0,
          3,
          2
         ],
         "intensity": [
          0,
          0.14285714285714285,
          0.2857142857142857,
          0.42857142857142855,
          0.5714285714285714,
          0.7142857142857142,
          0.8571428571428571,
          1
         ],
         "j": [
          3,
          4,
          1,
          2,
          5,
          6,
          5,
          2,
          0,
          1,
          6,
          3
         ],
         "k": [
          0,
          7,
          2,
          3,
          6,
          7,
          1,
          1,
          5,
          5,
          7,
          6
         ],
         "showlegend": false,
         "showscale": false,
         "type": "mesh3d",
         "x": [
          938,
          938,
          947,
          947,
          938,
          938,
          947,
          947
         ],
         "y": [
          39,
          98,
          98,
          39,
          39,
          98,
          98,
          39
         ],
         "z": [
          389,
          389,
          389,
          389,
          394,
          394,
          394,
          394
         ]
        },
        {
         "colorscale": [
          [
           0,
           "gold"
          ],
          [
           0.5,
           "mediumturquoise"
          ],
          [
           1,
           "magenta"
          ]
         ],
         "flatshading": true,
         "i": [
          7,
          0,
          0,
          0,
          4,
          4,
          6,
          6,
          4,
          0,
          3,
          2
         ],
         "intensity": [
          0,
          0.14285714285714285,
          0.2857142857142857,
          0.42857142857142855,
          0.5714285714285714,
          0.7142857142857142,
          0.8571428571428571,
          1
         ],
         "j": [
          3,
          4,
          1,
          2,
          5,
          6,
          5,
          2,
          0,
          1,
          6,
          3
         ],
         "k": [
          0,
          7,
          2,
          3,
          6,
          7,
          1,
          1,
          5,
          5,
          7,
          6
         ],
         "showlegend": false,
         "showscale": false,
         "type": "mesh3d",
         "x": [
          103,
          103,
          143,
          143,
          103,
          103,
          143,
          143
         ],
         "y": [
          879,
          887,
          887,
          879,
          879,
          887,
          887,
          879
         ],
         "z": [
          956,
          956,
          956,
          956,
          962,
          962,
          962,
          962
         ]
        },
        {
         "colorscale": [
          [
           0,
           "gold"
          ],
          [
           0.5,
           "mediumturquoise"
          ],
          [
           1,
           "magenta"
          ]
         ],
         "flatshading": true,
         "i": [
          7,
          0,
          0,
          0,
          4,
          4,
          6,
          6,
          4,
          0,
          3,
          2
         ],
         "intensity": [
          0,
          0.14285714285714285,
          0.2857142857142857,
          0.42857142857142855,
          0.5714285714285714,
          0.7142857142857142,
          0.8571428571428571,
          1
         ],
         "j": [
          3,
          4,
          1,
          2,
          5,
          6,
          5,
          2,
          0,
          1,
          6,
          3
         ],
         "k": [
          0,
          7,
          2,
          3,
          6,
          7,
          1,
          1,
          5,
          5,
          7,
          6
         ],
         "showlegend": false,
         "showscale": false,
         "type": "mesh3d",
         "x": [
          404,
          404,
          492,
          492,
          404,
          404,
          492,
          492
         ],
         "y": [
          179,
          180,
          180,
          179,
          179,
          180,
          180,
          179
         ],
         "z": [
          621,
          621,
          621,
          621,
          626,
          626,
          626,
          626
         ]
        },
        {
         "colorscale": [
          [
           0,
           "gold"
          ],
          [
           0.5,
           "mediumturquoise"
          ],
          [
           1,
           "magenta"
          ]
         ],
         "flatshading": true,
         "i": [
          7,
          0,
          0,
          0,
          4,
          4,
          6,
          6,
          4,
          0,
          3,
          2
         ],
         "intensity": [
          0,
          0.14285714285714285,
          0.2857142857142857,
          0.42857142857142855,
          0.5714285714285714,
          0.7142857142857142,
          0.8571428571428571,
          1
         ],
         "j": [
          3,
          4,
          1,
          2,
          5,
          6,
          5,
          2,
          0,
          1,
          6,
          3
         ],
         "k": [
          0,
          7,
          2,
          3,
          6,
          7,
          1,
          1,
          5,
          5,
          7,
          6
         ],
         "showlegend": false,
         "showscale": false,
         "type": "mesh3d",
         "x": [
          511,
          511,
          555,
          555,
          511,
          511,
          555,
          555
         ],
         "y": [
          302,
          377,
          377,
          302,
          302,
          377,
          377,
          302
         ],
         "z": [
          748,
          748,
          748,
          748,
          768,
          768,
          768,
          768
         ]
        },
        {
         "colorscale": [
          [
           0,
           "gold"
          ],
          [
           0.5,
           "mediumturquoise"
          ],
          [
           1,
           "magenta"
          ]
         ],
         "flatshading": true,
         "i": [
          7,
          0,
          0,
          0,
          4,
          4,
          6,
          6,
          4,
          0,
          3,
          2
         ],
         "intensity": [
          0,
          0.14285714285714285,
          0.2857142857142857,
          0.42857142857142855,
          0.5714285714285714,
          0.7142857142857142,
          0.8571428571428571,
          1
         ],
         "j": [
          3,
          4,
          1,
          2,
          5,
          6,
          5,
          2,
          0,
          1,
          6,
          3
         ],
         "k": [
          0,
          7,
          2,
          3,
          6,
          7,
          1,
          1,
          5,
          5,
          7,
          6
         ],
         "showlegend": false,
         "showscale": false,
         "type": "mesh3d",
         "x": [
          578,
          578,
          579,
          579,
          578,
          578,
          579,
          579
         ],
         "y": [
          344,
          398,
          398,
          344,
          344,
          398,
          398,
          344
         ],
         "z": [
          910,
          910,
          910,
          910,
          962,
          962,
          962,
          962
         ]
        },
        {
         "colorscale": [
          [
           0,
           "gold"
          ],
          [
           0.5,
           "mediumturquoise"
          ],
          [
           1,
           "magenta"
          ]
         ],
         "flatshading": true,
         "i": [
          7,
          0,
          0,
          0,
          4,
          4,
          6,
          6,
          4,
          0,
          3,
          2
         ],
         "intensity": [
          0,
          0.14285714285714285,
          0.2857142857142857,
          0.42857142857142855,
          0.5714285714285714,
          0.7142857142857142,
          0.8571428571428571,
          1
         ],
         "j": [
          3,
          4,
          1,
          2,
          5,
          6,
          5,
          2,
          0,
          1,
          6,
          3
         ],
         "k": [
          0,
          7,
          2,
          3,
          6,
          7,
          1,
          1,
          5,
          5,
          7,
          6
         ],
         "showlegend": false,
         "showscale": false,
         "type": "mesh3d",
         "x": [
          931,
          931,
          948,
          948,
          931,
          931,
          948,
          948
         ],
         "y": [
          949,
          997,
          997,
          949,
          949,
          997,
          997,
          949
         ],
         "z": [
          627,
          627,
          627,
          627,
          694,
          694,
          694,
          694
         ]
        },
        {
         "colorscale": [
          [
           0,
           "gold"
          ],
          [
           0.5,
           "mediumturquoise"
          ],
          [
           1,
           "magenta"
          ]
         ],
         "flatshading": true,
         "i": [
          7,
          0,
          0,
          0,
          4,
          4,
          6,
          6,
          4,
          0,
          3,
          2
         ],
         "intensity": [
          0,
          0.14285714285714285,
          0.2857142857142857,
          0.42857142857142855,
          0.5714285714285714,
          0.7142857142857142,
          0.8571428571428571,
          1
         ],
         "j": [
          3,
          4,
          1,
          2,
          5,
          6,
          5,
          2,
          0,
          1,
          6,
          3
         ],
         "k": [
          0,
          7,
          2,
          3,
          6,
          7,
          1,
          1,
          5,
          5,
          7,
          6
         ],
         "showlegend": false,
         "showscale": false,
         "type": "mesh3d",
         "x": [
          452,
          452,
          463,
          463,
          452,
          452,
          463,
          463
         ],
         "y": [
          189,
          193,
          193,
          189,
          189,
          193,
          193,
          189
         ],
         "z": [
          351,
          351,
          351,
          351,
          374,
          374,
          374,
          374
         ]
        },
        {
         "colorscale": [
          [
           0,
           "gold"
          ],
          [
           0.5,
           "mediumturquoise"
          ],
          [
           1,
           "magenta"
          ]
         ],
         "flatshading": true,
         "i": [
          7,
          0,
          0,
          0,
          4,
          4,
          6,
          6,
          4,
          0,
          3,
          2
         ],
         "intensity": [
          0,
          0.14285714285714285,
          0.2857142857142857,
          0.42857142857142855,
          0.5714285714285714,
          0.7142857142857142,
          0.8571428571428571,
          1
         ],
         "j": [
          3,
          4,
          1,
          2,
          5,
          6,
          5,
          2,
          0,
          1,
          6,
          3
         ],
         "k": [
          0,
          7,
          2,
          3,
          6,
          7,
          1,
          1,
          5,
          5,
          7,
          6
         ],
         "showlegend": false,
         "showscale": false,
         "type": "mesh3d",
         "x": [
          616,
          616,
          648,
          648,
          616,
          616,
          648,
          648
         ],
         "y": [
          373,
          396,
          396,
          373,
          373,
          396,
          396,
          373
         ],
         "z": [
          382,
          382,
          382,
          382,
          392,
          392,
          392,
          392
         ]
        },
        {
         "colorscale": [
          [
           0,
           "gold"
          ],
          [
           0.5,
           "mediumturquoise"
          ],
          [
           1,
           "magenta"
          ]
         ],
         "flatshading": true,
         "i": [
          7,
          0,
          0,
          0,
          4,
          4,
          6,
          6,
          4,
          0,
          3,
          2
         ],
         "intensity": [
          0,
          0.14285714285714285,
          0.2857142857142857,
          0.42857142857142855,
          0.5714285714285714,
          0.7142857142857142,
          0.8571428571428571,
          1
         ],
         "j": [
          3,
          4,
          1,
          2,
          5,
          6,
          5,
          2,
          0,
          1,
          6,
          3
         ],
         "k": [
          0,
          7,
          2,
          3,
          6,
          7,
          1,
          1,
          5,
          5,
          7,
          6
         ],
         "showlegend": false,
         "showscale": false,
         "type": "mesh3d",
         "x": [
          317,
          317,
          368,
          368,
          317,
          317,
          368,
          368
         ],
         "y": [
          636,
          676,
          676,
          636,
          636,
          676,
          676,
          636
         ],
         "z": [
          130,
          130,
          130,
          130,
          131,
          131,
          131,
          131
         ]
        },
        {
         "colorscale": [
          [
           0,
           "gold"
          ],
          [
           0.5,
           "mediumturquoise"
          ],
          [
           1,
           "magenta"
          ]
         ],
         "flatshading": true,
         "i": [
          7,
          0,
          0,
          0,
          4,
          4,
          6,
          6,
          4,
          0,
          3,
          2
         ],
         "intensity": [
          0,
          0.14285714285714285,
          0.2857142857142857,
          0.42857142857142855,
          0.5714285714285714,
          0.7142857142857142,
          0.8571428571428571,
          1
         ],
         "j": [
          3,
          4,
          1,
          2,
          5,
          6,
          5,
          2,
          0,
          1,
          6,
          3
         ],
         "k": [
          0,
          7,
          2,
          3,
          6,
          7,
          1,
          1,
          5,
          5,
          7,
          6
         ],
         "showlegend": false,
         "showscale": false,
         "type": "mesh3d",
         "x": [
          159,
          159,
          196,
          196,
          159,
          159,
          196,
          196
         ],
         "y": [
          306,
          337,
          337,
          306,
          306,
          337,
          337,
          306
         ],
         "z": [
          423,
          423,
          423,
          423,
          482,
          482,
          482,
          482
         ]
        },
        {
         "colorscale": [
          [
           0,
           "gold"
          ],
          [
           0.5,
           "mediumturquoise"
          ],
          [
           1,
           "magenta"
          ]
         ],
         "flatshading": true,
         "i": [
          7,
          0,
          0,
          0,
          4,
          4,
          6,
          6,
          4,
          0,
          3,
          2
         ],
         "intensity": [
          0,
          0.14285714285714285,
          0.2857142857142857,
          0.42857142857142855,
          0.5714285714285714,
          0.7142857142857142,
          0.8571428571428571,
          1
         ],
         "j": [
          3,
          4,
          1,
          2,
          5,
          6,
          5,
          2,
          0,
          1,
          6,
          3
         ],
         "k": [
          0,
          7,
          2,
          3,
          6,
          7,
          1,
          1,
          5,
          5,
          7,
          6
         ],
         "showlegend": false,
         "showscale": false,
         "type": "mesh3d",
         "x": [
          418,
          418,
          422,
          422,
          418,
          418,
          422,
          422
         ],
         "y": [
          710,
          761,
          761,
          710,
          710,
          761,
          761,
          710
         ],
         "z": [
          226,
          226,
          226,
          226,
          288,
          288,
          288,
          288
         ]
        },
        {
         "colorscale": [
          [
           0,
           "gold"
          ],
          [
           0.5,
           "mediumturquoise"
          ],
          [
           1,
           "magenta"
          ]
         ],
         "flatshading": true,
         "i": [
          7,
          0,
          0,
          0,
          4,
          4,
          6,
          6,
          4,
          0,
          3,
          2
         ],
         "intensity": [
          0,
          0.14285714285714285,
          0.2857142857142857,
          0.42857142857142855,
          0.5714285714285714,
          0.7142857142857142,
          0.8571428571428571,
          1
         ],
         "j": [
          3,
          4,
          1,
          2,
          5,
          6,
          5,
          2,
          0,
          1,
          6,
          3
         ],
         "k": [
          0,
          7,
          2,
          3,
          6,
          7,
          1,
          1,
          5,
          5,
          7,
          6
         ],
         "showlegend": false,
         "showscale": false,
         "type": "mesh3d",
         "x": [
          495,
          495,
          497,
          497,
          495,
          495,
          497,
          497
         ],
         "y": [
          671,
          688,
          688,
          671,
          671,
          688,
          688,
          671
         ],
         "z": [
          100,
          100,
          100,
          100,
          152,
          152,
          152,
          152
         ]
        },
        {
         "colorscale": [
          [
           0,
           "gold"
          ],
          [
           0.5,
           "mediumturquoise"
          ],
          [
           1,
           "magenta"
          ]
         ],
         "flatshading": true,
         "i": [
          7,
          0,
          0,
          0,
          4,
          4,
          6,
          6,
          4,
          0,
          3,
          2
         ],
         "intensity": [
          0,
          0.14285714285714285,
          0.2857142857142857,
          0.42857142857142855,
          0.5714285714285714,
          0.7142857142857142,
          0.8571428571428571,
          1
         ],
         "j": [
          3,
          4,
          1,
          2,
          5,
          6,
          5,
          2,
          0,
          1,
          6,
          3
         ],
         "k": [
          0,
          7,
          2,
          3,
          6,
          7,
          1,
          1,
          5,
          5,
          7,
          6
         ],
         "showlegend": false,
         "showscale": false,
         "type": "mesh3d",
         "x": [
          872,
          872,
          892,
          892,
          872,
          872,
          892,
          892
         ],
         "y": [
          838,
          846,
          846,
          838,
          838,
          846,
          846,
          838
         ],
         "z": [
          664,
          664,
          664,
          664,
          667,
          667,
          667,
          667
         ]
        },
        {
         "colorscale": [
          [
           0,
           "gold"
          ],
          [
           0.5,
           "mediumturquoise"
          ],
          [
           1,
           "magenta"
          ]
         ],
         "flatshading": true,
         "i": [
          7,
          0,
          0,
          0,
          4,
          4,
          6,
          6,
          4,
          0,
          3,
          2
         ],
         "intensity": [
          0,
          0.14285714285714285,
          0.2857142857142857,
          0.42857142857142855,
          0.5714285714285714,
          0.7142857142857142,
          0.8571428571428571,
          1
         ],
         "j": [
          3,
          4,
          1,
          2,
          5,
          6,
          5,
          2,
          0,
          1,
          6,
          3
         ],
         "k": [
          0,
          7,
          2,
          3,
          6,
          7,
          1,
          1,
          5,
          5,
          7,
          6
         ],
         "showlegend": false,
         "showscale": false,
         "type": "mesh3d",
         "x": [
          885,
          885,
          898,
          898,
          885,
          885,
          898,
          898
         ],
         "y": [
          981,
          995,
          995,
          981,
          981,
          995,
          995,
          981
         ],
         "z": [
          468,
          468,
          468,
          468,
          493,
          493,
          493,
          493
         ]
        },
        {
         "colorscale": [
          [
           0,
           "gold"
          ],
          [
           0.5,
           "mediumturquoise"
          ],
          [
           1,
           "magenta"
          ]
         ],
         "flatshading": true,
         "i": [
          7,
          0,
          0,
          0,
          4,
          4,
          6,
          6,
          4,
          0,
          3,
          2
         ],
         "intensity": [
          0,
          0.14285714285714285,
          0.2857142857142857,
          0.42857142857142855,
          0.5714285714285714,
          0.7142857142857142,
          0.8571428571428571,
          1
         ],
         "j": [
          3,
          4,
          1,
          2,
          5,
          6,
          5,
          2,
          0,
          1,
          6,
          3
         ],
         "k": [
          0,
          7,
          2,
          3,
          6,
          7,
          1,
          1,
          5,
          5,
          7,
          6
         ],
         "showlegend": false,
         "showscale": false,
         "type": "mesh3d",
         "x": [
          84,
          84,
          88,
          88,
          84,
          84,
          88,
          88
         ],
         "y": [
          485,
          488,
          488,
          485,
          485,
          488,
          488,
          485
         ],
         "z": [
          551,
          551,
          551,
          551,
          595,
          595,
          595,
          595
         ]
        },
        {
         "colorscale": [
          [
           0,
           "gold"
          ],
          [
           0.5,
           "mediumturquoise"
          ],
          [
           1,
           "magenta"
          ]
         ],
         "flatshading": true,
         "i": [
          7,
          0,
          0,
          0,
          4,
          4,
          6,
          6,
          4,
          0,
          3,
          2
         ],
         "intensity": [
          0,
          0.14285714285714285,
          0.2857142857142857,
          0.42857142857142855,
          0.5714285714285714,
          0.7142857142857142,
          0.8571428571428571,
          1
         ],
         "j": [
          3,
          4,
          1,
          2,
          5,
          6,
          5,
          2,
          0,
          1,
          6,
          3
         ],
         "k": [
          0,
          7,
          2,
          3,
          6,
          7,
          1,
          1,
          5,
          5,
          7,
          6
         ],
         "showlegend": false,
         "showscale": false,
         "type": "mesh3d",
         "x": [
          590,
          590,
          595,
          595,
          590,
          590,
          595,
          595
         ],
         "y": [
          891,
          895,
          895,
          891,
          891,
          895,
          895,
          891
         ],
         "z": [
          622,
          622,
          622,
          622,
          627,
          627,
          627,
          627
         ]
        },
        {
         "colorscale": [
          [
           0,
           "gold"
          ],
          [
           0.5,
           "mediumturquoise"
          ],
          [
           1,
           "magenta"
          ]
         ],
         "flatshading": true,
         "i": [
          7,
          0,
          0,
          0,
          4,
          4,
          6,
          6,
          4,
          0,
          3,
          2
         ],
         "intensity": [
          0,
          0.14285714285714285,
          0.2857142857142857,
          0.42857142857142855,
          0.5714285714285714,
          0.7142857142857142,
          0.8571428571428571,
          1
         ],
         "j": [
          3,
          4,
          1,
          2,
          5,
          6,
          5,
          2,
          0,
          1,
          6,
          3
         ],
         "k": [
          0,
          7,
          2,
          3,
          6,
          7,
          1,
          1,
          5,
          5,
          7,
          6
         ],
         "showlegend": false,
         "showscale": false,
         "type": "mesh3d",
         "x": [
          739,
          739,
          769,
          769,
          739,
          739,
          769,
          769
         ],
         "y": [
          948,
          993,
          993,
          948,
          948,
          993,
          993,
          948
         ],
         "z": [
          518,
          518,
          518,
          518,
          524,
          524,
          524,
          524
         ]
        },
        {
         "colorscale": [
          [
           0,
           "gold"
          ],
          [
           0.5,
           "mediumturquoise"
          ],
          [
           1,
           "magenta"
          ]
         ],
         "flatshading": true,
         "i": [
          7,
          0,
          0,
          0,
          4,
          4,
          6,
          6,
          4,
          0,
          3,
          2
         ],
         "intensity": [
          0,
          0.14285714285714285,
          0.2857142857142857,
          0.42857142857142855,
          0.5714285714285714,
          0.7142857142857142,
          0.8571428571428571,
          1
         ],
         "j": [
          3,
          4,
          1,
          2,
          5,
          6,
          5,
          2,
          0,
          1,
          6,
          3
         ],
         "k": [
          0,
          7,
          2,
          3,
          6,
          7,
          1,
          1,
          5,
          5,
          7,
          6
         ],
         "showlegend": false,
         "showscale": false,
         "type": "mesh3d",
         "x": [
          909,
          909,
          969,
          969,
          909,
          909,
          969,
          969
         ],
         "y": [
          868,
          869,
          869,
          868,
          868,
          869,
          869,
          868
         ],
         "z": [
          979,
          979,
          979,
          979,
          992,
          992,
          992,
          992
         ]
        },
        {
         "colorscale": [
          [
           0,
           "gold"
          ],
          [
           0.5,
           "mediumturquoise"
          ],
          [
           1,
           "magenta"
          ]
         ],
         "flatshading": true,
         "i": [
          7,
          0,
          0,
          0,
          4,
          4,
          6,
          6,
          4,
          0,
          3,
          2
         ],
         "intensity": [
          0,
          0.14285714285714285,
          0.2857142857142857,
          0.42857142857142855,
          0.5714285714285714,
          0.7142857142857142,
          0.8571428571428571,
          1
         ],
         "j": [
          3,
          4,
          1,
          2,
          5,
          6,
          5,
          2,
          0,
          1,
          6,
          3
         ],
         "k": [
          0,
          7,
          2,
          3,
          6,
          7,
          1,
          1,
          5,
          5,
          7,
          6
         ],
         "showlegend": false,
         "showscale": false,
         "type": "mesh3d",
         "x": [
          898,
          898,
          899,
          899,
          898,
          898,
          899,
          899
         ],
         "y": [
          761,
          781,
          781,
          761,
          761,
          781,
          781,
          761
         ],
         "z": [
          687,
          687,
          687,
          687,
          696,
          696,
          696,
          696
         ]
        },
        {
         "colorscale": [
          [
           0,
           "gold"
          ],
          [
           0.5,
           "mediumturquoise"
          ],
          [
           1,
           "magenta"
          ]
         ],
         "flatshading": true,
         "i": [
          7,
          0,
          0,
          0,
          4,
          4,
          6,
          6,
          4,
          0,
          3,
          2
         ],
         "intensity": [
          0,
          0.14285714285714285,
          0.2857142857142857,
          0.42857142857142855,
          0.5714285714285714,
          0.7142857142857142,
          0.8571428571428571,
          1
         ],
         "j": [
          3,
          4,
          1,
          2,
          5,
          6,
          5,
          2,
          0,
          1,
          6,
          3
         ],
         "k": [
          0,
          7,
          2,
          3,
          6,
          7,
          1,
          1,
          5,
          5,
          7,
          6
         ],
         "showlegend": false,
         "showscale": false,
         "type": "mesh3d",
         "x": [
          264,
          264,
          284,
          284,
          264,
          264,
          284,
          284
         ],
         "y": [
          555,
          574,
          574,
          555,
          555,
          574,
          574,
          555
         ],
         "z": [
          449,
          449,
          449,
          449,
          462,
          462,
          462,
          462
         ]
        },
        {
         "colorscale": [
          [
           0,
           "gold"
          ],
          [
           0.5,
           "mediumturquoise"
          ],
          [
           1,
           "magenta"
          ]
         ],
         "flatshading": true,
         "i": [
          7,
          0,
          0,
          0,
          4,
          4,
          6,
          6,
          4,
          0,
          3,
          2
         ],
         "intensity": [
          0,
          0.14285714285714285,
          0.2857142857142857,
          0.42857142857142855,
          0.5714285714285714,
          0.7142857142857142,
          0.8571428571428571,
          1
         ],
         "j": [
          3,
          4,
          1,
          2,
          5,
          6,
          5,
          2,
          0,
          1,
          6,
          3
         ],
         "k": [
          0,
          7,
          2,
          3,
          6,
          7,
          1,
          1,
          5,
          5,
          7,
          6
         ],
         "showlegend": false,
         "showscale": false,
         "type": "mesh3d",
         "x": [
          686,
          686,
          695,
          695,
          686,
          686,
          695,
          695
         ],
         "y": [
          702,
          774,
          774,
          702,
          702,
          774,
          774,
          702
         ],
         "z": [
          245,
          245,
          245,
          245,
          257,
          257,
          257,
          257
         ]
        },
        {
         "colorscale": [
          [
           0,
           "gold"
          ],
          [
           0.5,
           "mediumturquoise"
          ],
          [
           1,
           "magenta"
          ]
         ],
         "flatshading": true,
         "i": [
          7,
          0,
          0,
          0,
          4,
          4,
          6,
          6,
          4,
          0,
          3,
          2
         ],
         "intensity": [
          0,
          0.14285714285714285,
          0.2857142857142857,
          0.42857142857142855,
          0.5714285714285714,
          0.7142857142857142,
          0.8571428571428571,
          1
         ],
         "j": [
          3,
          4,
          1,
          2,
          5,
          6,
          5,
          2,
          0,
          1,
          6,
          3
         ],
         "k": [
          0,
          7,
          2,
          3,
          6,
          7,
          1,
          1,
          5,
          5,
          7,
          6
         ],
         "showlegend": false,
         "showscale": false,
         "type": "mesh3d",
         "x": [
          224,
          224,
          294,
          294,
          224,
          224,
          294,
          294
         ],
         "y": [
          808,
          815,
          815,
          808,
          808,
          815,
          815,
          808
         ],
         "z": [
          395,
          395,
          395,
          395,
          397,
          397,
          397,
          397
         ]
        },
        {
         "colorscale": [
          [
           0,
           "gold"
          ],
          [
           0.5,
           "mediumturquoise"
          ],
          [
           1,
           "magenta"
          ]
         ],
         "flatshading": true,
         "i": [
          7,
          0,
          0,
          0,
          4,
          4,
          6,
          6,
          4,
          0,
          3,
          2
         ],
         "intensity": [
          0,
          0.14285714285714285,
          0.2857142857142857,
          0.42857142857142855,
          0.5714285714285714,
          0.7142857142857142,
          0.8571428571428571,
          1
         ],
         "j": [
          3,
          4,
          1,
          2,
          5,
          6,
          5,
          2,
          0,
          1,
          6,
          3
         ],
         "k": [
          0,
          7,
          2,
          3,
          6,
          7,
          1,
          1,
          5,
          5,
          7,
          6
         ],
         "showlegend": false,
         "showscale": false,
         "type": "mesh3d",
         "x": [
          195,
          195,
          197,
          197,
          195,
          195,
          197,
          197
         ],
         "y": [
          765,
          770,
          770,
          765,
          765,
          770,
          770,
          765
         ],
         "z": [
          745,
          745,
          745,
          745,
          794,
          794,
          794,
          794
         ]
        },
        {
         "colorscale": [
          [
           0,
           "gold"
          ],
          [
           0.5,
           "mediumturquoise"
          ],
          [
           1,
           "magenta"
          ]
         ],
         "flatshading": true,
         "i": [
          7,
          0,
          0,
          0,
          4,
          4,
          6,
          6,
          4,
          0,
          3,
          2
         ],
         "intensity": [
          0,
          0.14285714285714285,
          0.2857142857142857,
          0.42857142857142855,
          0.5714285714285714,
          0.7142857142857142,
          0.8571428571428571,
          1
         ],
         "j": [
          3,
          4,
          1,
          2,
          5,
          6,
          5,
          2,
          0,
          1,
          6,
          3
         ],
         "k": [
          0,
          7,
          2,
          3,
          6,
          7,
          1,
          1,
          5,
          5,
          7,
          6
         ],
         "showlegend": false,
         "showscale": false,
         "type": "mesh3d",
         "x": [
          866,
          866,
          897,
          897,
          866,
          866,
          897,
          897
         ],
         "y": [
          454,
          467,
          467,
          454,
          454,
          467,
          467,
          454
         ],
         "z": [
          583,
          583,
          583,
          583,
          594,
          594,
          594,
          594
         ]
        },
        {
         "colorscale": [
          [
           0,
           "gold"
          ],
          [
           0.5,
           "mediumturquoise"
          ],
          [
           1,
           "magenta"
          ]
         ],
         "flatshading": true,
         "i": [
          7,
          0,
          0,
          0,
          4,
          4,
          6,
          6,
          4,
          0,
          3,
          2
         ],
         "intensity": [
          0,
          0.14285714285714285,
          0.2857142857142857,
          0.42857142857142855,
          0.5714285714285714,
          0.7142857142857142,
          0.8571428571428571,
          1
         ],
         "j": [
          3,
          4,
          1,
          2,
          5,
          6,
          5,
          2,
          0,
          1,
          6,
          3
         ],
         "k": [
          0,
          7,
          2,
          3,
          6,
          7,
          1,
          1,
          5,
          5,
          7,
          6
         ],
         "showlegend": false,
         "showscale": false,
         "type": "mesh3d",
         "x": [
          792,
          792,
          797,
          797,
          792,
          792,
          797,
          797
         ],
         "y": [
          850,
          860,
          860,
          850,
          850,
          860,
          860,
          850
         ],
         "z": [
          934,
          934,
          934,
          934,
          968,
          968,
          968,
          968
         ]
        },
        {
         "colorscale": [
          [
           0,
           "gold"
          ],
          [
           0.5,
           "mediumturquoise"
          ],
          [
           1,
           "magenta"
          ]
         ],
         "flatshading": true,
         "i": [
          7,
          0,
          0,
          0,
          4,
          4,
          6,
          6,
          4,
          0,
          3,
          2
         ],
         "intensity": [
          0,
          0.14285714285714285,
          0.2857142857142857,
          0.42857142857142855,
          0.5714285714285714,
          0.7142857142857142,
          0.8571428571428571,
          1
         ],
         "j": [
          3,
          4,
          1,
          2,
          5,
          6,
          5,
          2,
          0,
          1,
          6,
          3
         ],
         "k": [
          0,
          7,
          2,
          3,
          6,
          7,
          1,
          1,
          5,
          5,
          7,
          6
         ],
         "showlegend": false,
         "showscale": false,
         "type": "mesh3d",
         "x": [
          826,
          826,
          889,
          889,
          826,
          826,
          889,
          889
         ],
         "y": [
          762,
          769,
          769,
          762,
          762,
          769,
          769,
          762
         ],
         "z": [
          777,
          777,
          777,
          777,
          784,
          784,
          784,
          784
         ]
        },
        {
         "colorscale": [
          [
           0,
           "gold"
          ],
          [
           0.5,
           "mediumturquoise"
          ],
          [
           1,
           "magenta"
          ]
         ],
         "flatshading": true,
         "i": [
          7,
          0,
          0,
          0,
          4,
          4,
          6,
          6,
          4,
          0,
          3,
          2
         ],
         "intensity": [
          0,
          0.14285714285714285,
          0.2857142857142857,
          0.42857142857142855,
          0.5714285714285714,
          0.7142857142857142,
          0.8571428571428571,
          1
         ],
         "j": [
          3,
          4,
          1,
          2,
          5,
          6,
          5,
          2,
          0,
          1,
          6,
          3
         ],
         "k": [
          0,
          7,
          2,
          3,
          6,
          7,
          1,
          1,
          5,
          5,
          7,
          6
         ],
         "showlegend": false,
         "showscale": false,
         "type": "mesh3d",
         "x": [
          304,
          304,
          373,
          373,
          304,
          304,
          373,
          373
         ],
         "y": [
          560,
          567,
          567,
          560,
          560,
          567,
          567,
          560
         ],
         "z": [
          935,
          935,
          935,
          935,
          979,
          979,
          979,
          979
         ]
        },
        {
         "colorscale": [
          [
           0,
           "gold"
          ],
          [
           0.5,
           "mediumturquoise"
          ],
          [
           1,
           "magenta"
          ]
         ],
         "flatshading": true,
         "i": [
          7,
          0,
          0,
          0,
          4,
          4,
          6,
          6,
          4,
          0,
          3,
          2
         ],
         "intensity": [
          0,
          0.14285714285714285,
          0.2857142857142857,
          0.42857142857142855,
          0.5714285714285714,
          0.7142857142857142,
          0.8571428571428571,
          1
         ],
         "j": [
          3,
          4,
          1,
          2,
          5,
          6,
          5,
          2,
          0,
          1,
          6,
          3
         ],
         "k": [
          0,
          7,
          2,
          3,
          6,
          7,
          1,
          1,
          5,
          5,
          7,
          6
         ],
         "showlegend": false,
         "showscale": false,
         "type": "mesh3d",
         "x": [
          574,
          574,
          581,
          581,
          574,
          574,
          581,
          581
         ],
         "y": [
          159,
          161,
          161,
          159,
          159,
          161,
          161,
          159
         ],
         "z": [
          235,
          235,
          235,
          235,
          282,
          282,
          282,
          282
         ]
        },
        {
         "colorscale": [
          [
           0,
           "gold"
          ],
          [
           0.5,
           "mediumturquoise"
          ],
          [
           1,
           "magenta"
          ]
         ],
         "flatshading": true,
         "i": [
          7,
          0,
          0,
          0,
          4,
          4,
          6,
          6,
          4,
          0,
          3,
          2
         ],
         "intensity": [
          0,
          0.14285714285714285,
          0.2857142857142857,
          0.42857142857142855,
          0.5714285714285714,
          0.7142857142857142,
          0.8571428571428571,
          1
         ],
         "j": [
          3,
          4,
          1,
          2,
          5,
          6,
          5,
          2,
          0,
          1,
          6,
          3
         ],
         "k": [
          0,
          7,
          2,
          3,
          6,
          7,
          1,
          1,
          5,
          5,
          7,
          6
         ],
         "showlegend": false,
         "showscale": false,
         "type": "mesh3d",
         "x": [
          668,
          668,
          688,
          688,
          668,
          668,
          688,
          688
         ],
         "y": [
          9,
          74,
          74,
          9,
          9,
          74,
          74,
          9
         ],
         "z": [
          497,
          497,
          497,
          497,
          499,
          499,
          499,
          499
         ]
        },
        {
         "colorscale": [
          [
           0,
           "gold"
          ],
          [
           0.5,
           "mediumturquoise"
          ],
          [
           1,
           "magenta"
          ]
         ],
         "flatshading": true,
         "i": [
          7,
          0,
          0,
          0,
          4,
          4,
          6,
          6,
          4,
          0,
          3,
          2
         ],
         "intensity": [
          0,
          0.14285714285714285,
          0.2857142857142857,
          0.42857142857142855,
          0.5714285714285714,
          0.7142857142857142,
          0.8571428571428571,
          1
         ],
         "j": [
          3,
          4,
          1,
          2,
          5,
          6,
          5,
          2,
          0,
          1,
          6,
          3
         ],
         "k": [
          0,
          7,
          2,
          3,
          6,
          7,
          1,
          1,
          5,
          5,
          7,
          6
         ],
         "showlegend": false,
         "showscale": false,
         "type": "mesh3d",
         "x": [
          86,
          86,
          91,
          91,
          86,
          86,
          91,
          91
         ],
         "y": [
          26,
          63,
          63,
          26,
          26,
          63,
          63,
          26
         ],
         "z": [
          110,
          110,
          110,
          110,
          162,
          162,
          162,
          162
         ]
        },
        {
         "colorscale": [
          [
           0,
           "gold"
          ],
          [
           0.5,
           "mediumturquoise"
          ],
          [
           1,
           "magenta"
          ]
         ],
         "flatshading": true,
         "i": [
          7,
          0,
          0,
          0,
          4,
          4,
          6,
          6,
          4,
          0,
          3,
          2
         ],
         "intensity": [
          0,
          0.14285714285714285,
          0.2857142857142857,
          0.42857142857142855,
          0.5714285714285714,
          0.7142857142857142,
          0.8571428571428571,
          1
         ],
         "j": [
          3,
          4,
          1,
          2,
          5,
          6,
          5,
          2,
          0,
          1,
          6,
          3
         ],
         "k": [
          0,
          7,
          2,
          3,
          6,
          7,
          1,
          1,
          5,
          5,
          7,
          6
         ],
         "showlegend": false,
         "showscale": false,
         "type": "mesh3d",
         "x": [
          539,
          539,
          561,
          561,
          539,
          539,
          561,
          561
         ],
         "y": [
          91,
          97,
          97,
          91,
          91,
          97,
          97,
          91
         ],
         "z": [
          559,
          559,
          559,
          559,
          598,
          598,
          598,
          598
         ]
        },
        {
         "colorscale": [
          [
           0,
           "gold"
          ],
          [
           0.5,
           "mediumturquoise"
          ],
          [
           1,
           "magenta"
          ]
         ],
         "flatshading": true,
         "i": [
          7,
          0,
          0,
          0,
          4,
          4,
          6,
          6,
          4,
          0,
          3,
          2
         ],
         "intensity": [
          0,
          0.14285714285714285,
          0.2857142857142857,
          0.42857142857142855,
          0.5714285714285714,
          0.7142857142857142,
          0.8571428571428571,
          1
         ],
         "j": [
          3,
          4,
          1,
          2,
          5,
          6,
          5,
          2,
          0,
          1,
          6,
          3
         ],
         "k": [
          0,
          7,
          2,
          3,
          6,
          7,
          1,
          1,
          5,
          5,
          7,
          6
         ],
         "showlegend": false,
         "showscale": false,
         "type": "mesh3d",
         "x": [
          871,
          871,
          873,
          873,
          871,
          871,
          873,
          873
         ],
         "y": [
          342,
          374,
          374,
          342,
          342,
          374,
          374,
          342
         ],
         "z": [
          779,
          779,
          779,
          779,
          796,
          796,
          796,
          796
         ]
        },
        {
         "colorscale": [
          [
           0,
           "gold"
          ],
          [
           0.5,
           "mediumturquoise"
          ],
          [
           1,
           "magenta"
          ]
         ],
         "flatshading": true,
         "i": [
          7,
          0,
          0,
          0,
          4,
          4,
          6,
          6,
          4,
          0,
          3,
          2
         ],
         "intensity": [
          0,
          0.14285714285714285,
          0.2857142857142857,
          0.42857142857142855,
          0.5714285714285714,
          0.7142857142857142,
          0.8571428571428571,
          1
         ],
         "j": [
          3,
          4,
          1,
          2,
          5,
          6,
          5,
          2,
          0,
          1,
          6,
          3
         ],
         "k": [
          0,
          7,
          2,
          3,
          6,
          7,
          1,
          1,
          5,
          5,
          7,
          6
         ],
         "showlegend": false,
         "showscale": false,
         "type": "mesh3d",
         "x": [
          876,
          876,
          895,
          895,
          876,
          876,
          895,
          895
         ],
         "y": [
          248,
          261,
          261,
          248,
          248,
          261,
          261,
          248
         ],
         "z": [
          939,
          939,
          939,
          939,
          979,
          979,
          979,
          979
         ]
        },
        {
         "colorscale": [
          [
           0,
           "gold"
          ],
          [
           0.5,
           "mediumturquoise"
          ],
          [
           1,
           "magenta"
          ]
         ],
         "flatshading": true,
         "i": [
          7,
          0,
          0,
          0,
          4,
          4,
          6,
          6,
          4,
          0,
          3,
          2
         ],
         "intensity": [
          0,
          0.14285714285714285,
          0.2857142857142857,
          0.42857142857142855,
          0.5714285714285714,
          0.7142857142857142,
          0.8571428571428571,
          1
         ],
         "j": [
          3,
          4,
          1,
          2,
          5,
          6,
          5,
          2,
          0,
          1,
          6,
          3
         ],
         "k": [
          0,
          7,
          2,
          3,
          6,
          7,
          1,
          1,
          5,
          5,
          7,
          6
         ],
         "showlegend": false,
         "showscale": false,
         "type": "mesh3d",
         "x": [
          0,
          0,
          90,
          90,
          0,
          0,
          90,
          90
         ],
         "y": [
          620,
          627,
          627,
          620,
          620,
          627,
          627,
          620
         ],
         "z": [
          37,
          37,
          37,
          37,
          63,
          63,
          63,
          63
         ]
        },
        {
         "colorscale": [
          [
           0,
           "gold"
          ],
          [
           0.5,
           "mediumturquoise"
          ],
          [
           1,
           "magenta"
          ]
         ],
         "flatshading": true,
         "i": [
          7,
          0,
          0,
          0,
          4,
          4,
          6,
          6,
          4,
          0,
          3,
          2
         ],
         "intensity": [
          0,
          0.14285714285714285,
          0.2857142857142857,
          0.42857142857142855,
          0.5714285714285714,
          0.7142857142857142,
          0.8571428571428571,
          1
         ],
         "j": [
          3,
          4,
          1,
          2,
          5,
          6,
          5,
          2,
          0,
          1,
          6,
          3
         ],
         "k": [
          0,
          7,
          2,
          3,
          6,
          7,
          1,
          1,
          5,
          5,
          7,
          6
         ],
         "showlegend": false,
         "showscale": false,
         "type": "mesh3d",
         "x": [
          203,
          203,
          228,
          228,
          203,
          203,
          228,
          228
         ],
         "y": [
          982,
          993,
          993,
          982,
          982,
          993,
          993,
          982
         ],
         "z": [
          464,
          464,
          464,
          464,
          480,
          480,
          480,
          480
         ]
        },
        {
         "colorscale": [
          [
           0,
           "gold"
          ],
          [
           0.5,
           "mediumturquoise"
          ],
          [
           1,
           "magenta"
          ]
         ],
         "flatshading": true,
         "i": [
          7,
          0,
          0,
          0,
          4,
          4,
          6,
          6,
          4,
          0,
          3,
          2
         ],
         "intensity": [
          0,
          0.14285714285714285,
          0.2857142857142857,
          0.42857142857142855,
          0.5714285714285714,
          0.7142857142857142,
          0.8571428571428571,
          1
         ],
         "j": [
          3,
          4,
          1,
          2,
          5,
          6,
          5,
          2,
          0,
          1,
          6,
          3
         ],
         "k": [
          0,
          7,
          2,
          3,
          6,
          7,
          1,
          1,
          5,
          5,
          7,
          6
         ],
         "showlegend": false,
         "showscale": false,
         "type": "mesh3d",
         "x": [
          621,
          621,
          639,
          639,
          621,
          621,
          639,
          639
         ],
         "y": [
          341,
          398,
          398,
          341,
          341,
          398,
          398,
          341
         ],
         "z": [
          961,
          961,
          961,
          961,
          969,
          969,
          969,
          969
         ]
        },
        {
         "colorscale": [
          [
           0,
           "gold"
          ],
          [
           0.5,
           "mediumturquoise"
          ],
          [
           1,
           "magenta"
          ]
         ],
         "flatshading": true,
         "i": [
          7,
          0,
          0,
          0,
          4,
          4,
          6,
          6,
          4,
          0,
          3,
          2
         ],
         "intensity": [
          0,
          0.14285714285714285,
          0.2857142857142857,
          0.42857142857142855,
          0.5714285714285714,
          0.7142857142857142,
          0.8571428571428571,
          1
         ],
         "j": [
          3,
          4,
          1,
          2,
          5,
          6,
          5,
          2,
          0,
          1,
          6,
          3
         ],
         "k": [
          0,
          7,
          2,
          3,
          6,
          7,
          1,
          1,
          5,
          5,
          7,
          6
         ],
         "showlegend": false,
         "showscale": false,
         "type": "mesh3d",
         "x": [
          590,
          590,
          597,
          597,
          590,
          590,
          597,
          597
         ],
         "y": [
          565,
          573,
          573,
          565,
          565,
          573,
          573,
          565
         ],
         "z": [
          935,
          935,
          935,
          935,
          967,
          967,
          967,
          967
         ]
        },
        {
         "colorscale": [
          [
           0,
           "gold"
          ],
          [
           0.5,
           "mediumturquoise"
          ],
          [
           1,
           "magenta"
          ]
         ],
         "flatshading": true,
         "i": [
          7,
          0,
          0,
          0,
          4,
          4,
          6,
          6,
          4,
          0,
          3,
          2
         ],
         "intensity": [
          0,
          0.14285714285714285,
          0.2857142857142857,
          0.42857142857142855,
          0.5714285714285714,
          0.7142857142857142,
          0.8571428571428571,
          1
         ],
         "j": [
          3,
          4,
          1,
          2,
          5,
          6,
          5,
          2,
          0,
          1,
          6,
          3
         ],
         "k": [
          0,
          7,
          2,
          3,
          6,
          7,
          1,
          1,
          5,
          5,
          7,
          6
         ],
         "showlegend": false,
         "showscale": false,
         "type": "mesh3d",
         "x": [
          436,
          436,
          487,
          487,
          436,
          436,
          487,
          487
         ],
         "y": [
          728,
          748,
          748,
          728,
          728,
          748,
          748,
          728
         ],
         "z": [
          445,
          445,
          445,
          445,
          484,
          484,
          484,
          484
         ]
        },
        {
         "colorscale": [
          [
           0,
           "gold"
          ],
          [
           0.5,
           "mediumturquoise"
          ],
          [
           1,
           "magenta"
          ]
         ],
         "flatshading": true,
         "i": [
          7,
          0,
          0,
          0,
          4,
          4,
          6,
          6,
          4,
          0,
          3,
          2
         ],
         "intensity": [
          0,
          0.14285714285714285,
          0.2857142857142857,
          0.42857142857142855,
          0.5714285714285714,
          0.7142857142857142,
          0.8571428571428571,
          1
         ],
         "j": [
          3,
          4,
          1,
          2,
          5,
          6,
          5,
          2,
          0,
          1,
          6,
          3
         ],
         "k": [
          0,
          7,
          2,
          3,
          6,
          7,
          1,
          1,
          5,
          5,
          7,
          6
         ],
         "showlegend": false,
         "showscale": false,
         "type": "mesh3d",
         "x": [
          790,
          790,
          793,
          793,
          790,
          790,
          793,
          793
         ],
         "y": [
          814,
          850,
          850,
          814,
          814,
          850,
          850,
          814
         ],
         "z": [
          373,
          373,
          373,
          373,
          377,
          377,
          377,
          377
         ]
        },
        {
         "colorscale": [
          [
           0,
           "gold"
          ],
          [
           0.5,
           "mediumturquoise"
          ],
          [
           1,
           "magenta"
          ]
         ],
         "flatshading": true,
         "i": [
          7,
          0,
          0,
          0,
          4,
          4,
          6,
          6,
          4,
          0,
          3,
          2
         ],
         "intensity": [
          0,
          0.14285714285714285,
          0.2857142857142857,
          0.42857142857142855,
          0.5714285714285714,
          0.7142857142857142,
          0.8571428571428571,
          1
         ],
         "j": [
          3,
          4,
          1,
          2,
          5,
          6,
          5,
          2,
          0,
          1,
          6,
          3
         ],
         "k": [
          0,
          7,
          2,
          3,
          6,
          7,
          1,
          1,
          5,
          5,
          7,
          6
         ],
         "showlegend": false,
         "showscale": false,
         "type": "mesh3d",
         "x": [
          102,
          102,
          191,
          191,
          102,
          102,
          191,
          191
         ],
         "y": [
          213,
          219,
          219,
          213,
          213,
          219,
          219,
          213
         ],
         "z": [
          517,
          517,
          517,
          517,
          591,
          591,
          591,
          591
         ]
        },
        {
         "colorscale": [
          [
           0,
           "gold"
          ],
          [
           0.5,
           "mediumturquoise"
          ],
          [
           1,
           "magenta"
          ]
         ],
         "flatshading": true,
         "i": [
          7,
          0,
          0,
          0,
          4,
          4,
          6,
          6,
          4,
          0,
          3,
          2
         ],
         "intensity": [
          0,
          0.14285714285714285,
          0.2857142857142857,
          0.42857142857142855,
          0.5714285714285714,
          0.7142857142857142,
          0.8571428571428571,
          1
         ],
         "j": [
          3,
          4,
          1,
          2,
          5,
          6,
          5,
          2,
          0,
          1,
          6,
          3
         ],
         "k": [
          0,
          7,
          2,
          3,
          6,
          7,
          1,
          1,
          5,
          5,
          7,
          6
         ],
         "showlegend": false,
         "showscale": false,
         "type": "mesh3d",
         "x": [
          252,
          252,
          272,
          272,
          252,
          252,
          272,
          272
         ],
         "y": [
          384,
          385,
          385,
          384,
          384,
          385,
          385,
          384
         ],
         "z": [
          105,
          105,
          105,
          105,
          134,
          134,
          134,
          134
         ]
        },
        {
         "colorscale": [
          [
           0,
           "gold"
          ],
          [
           0.5,
           "mediumturquoise"
          ],
          [
           1,
           "magenta"
          ]
         ],
         "flatshading": true,
         "i": [
          7,
          0,
          0,
          0,
          4,
          4,
          6,
          6,
          4,
          0,
          3,
          2
         ],
         "intensity": [
          0,
          0.14285714285714285,
          0.2857142857142857,
          0.42857142857142855,
          0.5714285714285714,
          0.7142857142857142,
          0.8571428571428571,
          1
         ],
         "j": [
          3,
          4,
          1,
          2,
          5,
          6,
          5,
          2,
          0,
          1,
          6,
          3
         ],
         "k": [
          0,
          7,
          2,
          3,
          6,
          7,
          1,
          1,
          5,
          5,
          7,
          6
         ],
         "showlegend": false,
         "showscale": false,
         "type": "mesh3d",
         "x": [
          688,
          688,
          695,
          695,
          688,
          688,
          695,
          695
         ],
         "y": [
          15,
          55,
          55,
          15,
          15,
          55,
          55,
          15
         ],
         "z": [
          392,
          392,
          392,
          392,
          398,
          398,
          398,
          398
         ]
        },
        {
         "colorscale": [
          [
           0,
           "gold"
          ],
          [
           0.5,
           "mediumturquoise"
          ],
          [
           1,
           "magenta"
          ]
         ],
         "flatshading": true,
         "i": [
          7,
          0,
          0,
          0,
          4,
          4,
          6,
          6,
          4,
          0,
          3,
          2
         ],
         "intensity": [
          0,
          0.14285714285714285,
          0.2857142857142857,
          0.42857142857142855,
          0.5714285714285714,
          0.7142857142857142,
          0.8571428571428571,
          1
         ],
         "j": [
          3,
          4,
          1,
          2,
          5,
          6,
          5,
          2,
          0,
          1,
          6,
          3
         ],
         "k": [
          0,
          7,
          2,
          3,
          6,
          7,
          1,
          1,
          5,
          5,
          7,
          6
         ],
         "showlegend": false,
         "showscale": false,
         "type": "mesh3d",
         "x": [
          678,
          678,
          688,
          688,
          678,
          678,
          688,
          688
         ],
         "y": [
          172,
          178,
          178,
          172,
          172,
          178,
          178,
          172
         ],
         "z": [
          579,
          579,
          579,
          579,
          581,
          581,
          581,
          581
         ]
        },
        {
         "colorscale": [
          [
           0,
           "gold"
          ],
          [
           0.5,
           "mediumturquoise"
          ],
          [
           1,
           "magenta"
          ]
         ],
         "flatshading": true,
         "i": [
          7,
          0,
          0,
          0,
          4,
          4,
          6,
          6,
          4,
          0,
          3,
          2
         ],
         "intensity": [
          0,
          0.14285714285714285,
          0.2857142857142857,
          0.42857142857142855,
          0.5714285714285714,
          0.7142857142857142,
          0.8571428571428571,
          1
         ],
         "j": [
          3,
          4,
          1,
          2,
          5,
          6,
          5,
          2,
          0,
          1,
          6,
          3
         ],
         "k": [
          0,
          7,
          2,
          3,
          6,
          7,
          1,
          1,
          5,
          5,
          7,
          6
         ],
         "showlegend": false,
         "showscale": false,
         "type": "mesh3d",
         "x": [
          868,
          868,
          881,
          881,
          868,
          868,
          881,
          881
         ],
         "y": [
          660,
          661,
          661,
          660,
          660,
          661,
          661,
          660
         ],
         "z": [
          237,
          237,
          237,
          237,
          272,
          272,
          272,
          272
         ]
        },
        {
         "colorscale": [
          [
           0,
           "gold"
          ],
          [
           0.5,
           "mediumturquoise"
          ],
          [
           1,
           "magenta"
          ]
         ],
         "flatshading": true,
         "i": [
          7,
          0,
          0,
          0,
          4,
          4,
          6,
          6,
          4,
          0,
          3,
          2
         ],
         "intensity": [
          0,
          0.14285714285714285,
          0.2857142857142857,
          0.42857142857142855,
          0.5714285714285714,
          0.7142857142857142,
          0.8571428571428571,
          1
         ],
         "j": [
          3,
          4,
          1,
          2,
          5,
          6,
          5,
          2,
          0,
          1,
          6,
          3
         ],
         "k": [
          0,
          7,
          2,
          3,
          6,
          7,
          1,
          1,
          5,
          5,
          7,
          6
         ],
         "showlegend": false,
         "showscale": false,
         "type": "mesh3d",
         "x": [
          671,
          671,
          685,
          685,
          671,
          671,
          685,
          685
         ],
         "y": [
          660,
          683,
          683,
          660,
          660,
          683,
          683,
          660
         ],
         "z": [
          836,
          836,
          836,
          836,
          861,
          861,
          861,
          861
         ]
        },
        {
         "colorscale": [
          [
           0,
           "gold"
          ],
          [
           0.5,
           "mediumturquoise"
          ],
          [
           1,
           "magenta"
          ]
         ],
         "flatshading": true,
         "i": [
          7,
          0,
          0,
          0,
          4,
          4,
          6,
          6,
          4,
          0,
          3,
          2
         ],
         "intensity": [
          0,
          0.14285714285714285,
          0.2857142857142857,
          0.42857142857142855,
          0.5714285714285714,
          0.7142857142857142,
          0.8571428571428571,
          1
         ],
         "j": [
          3,
          4,
          1,
          2,
          5,
          6,
          5,
          2,
          0,
          1,
          6,
          3
         ],
         "k": [
          0,
          7,
          2,
          3,
          6,
          7,
          1,
          1,
          5,
          5,
          7,
          6
         ],
         "showlegend": false,
         "showscale": false,
         "type": "mesh3d",
         "x": [
          732,
          732,
          798,
          798,
          732,
          732,
          798,
          798
         ],
         "y": [
          195,
          197,
          197,
          195,
          195,
          197,
          197,
          195
         ],
         "z": [
          374,
          374,
          374,
          374,
          392,
          392,
          392,
          392
         ]
        },
        {
         "colorscale": [
          [
           0,
           "gold"
          ],
          [
           0.5,
           "mediumturquoise"
          ],
          [
           1,
           "magenta"
          ]
         ],
         "flatshading": true,
         "i": [
          7,
          0,
          0,
          0,
          4,
          4,
          6,
          6,
          4,
          0,
          3,
          2
         ],
         "intensity": [
          0,
          0.14285714285714285,
          0.2857142857142857,
          0.42857142857142855,
          0.5714285714285714,
          0.7142857142857142,
          0.8571428571428571,
          1
         ],
         "j": [
          3,
          4,
          1,
          2,
          5,
          6,
          5,
          2,
          0,
          1,
          6,
          3
         ],
         "k": [
          0,
          7,
          2,
          3,
          6,
          7,
          1,
          1,
          5,
          5,
          7,
          6
         ],
         "showlegend": false,
         "showscale": false,
         "type": "mesh3d",
         "x": [
          480,
          480,
          485,
          485,
          480,
          480,
          485,
          485
         ],
         "y": [
          31,
          46,
          46,
          31,
          31,
          46,
          46,
          31
         ],
         "z": [
          946,
          946,
          946,
          946,
          977,
          977,
          977,
          977
         ]
        },
        {
         "colorscale": [
          [
           0,
           "gold"
          ],
          [
           0.5,
           "mediumturquoise"
          ],
          [
           1,
           "magenta"
          ]
         ],
         "flatshading": true,
         "i": [
          7,
          0,
          0,
          0,
          4,
          4,
          6,
          6,
          4,
          0,
          3,
          2
         ],
         "intensity": [
          0,
          0.14285714285714285,
          0.2857142857142857,
          0.42857142857142855,
          0.5714285714285714,
          0.7142857142857142,
          0.8571428571428571,
          1
         ],
         "j": [
          3,
          4,
          1,
          2,
          5,
          6,
          5,
          2,
          0,
          1,
          6,
          3
         ],
         "k": [
          0,
          7,
          2,
          3,
          6,
          7,
          1,
          1,
          5,
          5,
          7,
          6
         ],
         "showlegend": false,
         "showscale": false,
         "type": "mesh3d",
         "x": [
          382,
          382,
          389,
          389,
          382,
          382,
          389,
          389
         ],
         "y": [
          691,
          696,
          696,
          691,
          691,
          696,
          696,
          691
         ],
         "z": [
          777,
          777,
          777,
          777,
          785,
          785,
          785,
          785
         ]
        },
        {
         "colorscale": [
          [
           0,
           "gold"
          ],
          [
           0.5,
           "mediumturquoise"
          ],
          [
           1,
           "magenta"
          ]
         ],
         "flatshading": true,
         "i": [
          7,
          0,
          0,
          0,
          4,
          4,
          6,
          6,
          4,
          0,
          3,
          2
         ],
         "intensity": [
          0,
          0.14285714285714285,
          0.2857142857142857,
          0.42857142857142855,
          0.5714285714285714,
          0.7142857142857142,
          0.8571428571428571,
          1
         ],
         "j": [
          3,
          4,
          1,
          2,
          5,
          6,
          5,
          2,
          0,
          1,
          6,
          3
         ],
         "k": [
          0,
          7,
          2,
          3,
          6,
          7,
          1,
          1,
          5,
          5,
          7,
          6
         ],
         "showlegend": false,
         "showscale": false,
         "type": "mesh3d",
         "x": [
          508,
          508,
          530,
          530,
          508,
          508,
          530,
          530
         ],
         "y": [
          407,
          478,
          478,
          407,
          407,
          478,
          478,
          407
         ],
         "z": [
          353,
          353,
          353,
          353,
          372,
          372,
          372,
          372
         ]
        },
        {
         "colorscale": [
          [
           0,
           "gold"
          ],
          [
           0.5,
           "mediumturquoise"
          ],
          [
           1,
           "magenta"
          ]
         ],
         "flatshading": true,
         "i": [
          7,
          0,
          0,
          0,
          4,
          4,
          6,
          6,
          4,
          0,
          3,
          2
         ],
         "intensity": [
          0,
          0.14285714285714285,
          0.2857142857142857,
          0.42857142857142855,
          0.5714285714285714,
          0.7142857142857142,
          0.8571428571428571,
          1
         ],
         "j": [
          3,
          4,
          1,
          2,
          5,
          6,
          5,
          2,
          0,
          1,
          6,
          3
         ],
         "k": [
          0,
          7,
          2,
          3,
          6,
          7,
          1,
          1,
          5,
          5,
          7,
          6
         ],
         "showlegend": false,
         "showscale": false,
         "type": "mesh3d",
         "x": [
          592,
          592,
          595,
          595,
          592,
          592,
          595,
          595
         ],
         "y": [
          624,
          675,
          675,
          624,
          624,
          675,
          675,
          624
         ],
         "z": [
          289,
          289,
          289,
          289,
          292,
          292,
          292,
          292
         ]
        },
        {
         "colorscale": [
          [
           0,
           "gold"
          ],
          [
           0.5,
           "mediumturquoise"
          ],
          [
           1,
           "magenta"
          ]
         ],
         "flatshading": true,
         "i": [
          7,
          0,
          0,
          0,
          4,
          4,
          6,
          6,
          4,
          0,
          3,
          2
         ],
         "intensity": [
          0,
          0.14285714285714285,
          0.2857142857142857,
          0.42857142857142855,
          0.5714285714285714,
          0.7142857142857142,
          0.8571428571428571,
          1
         ],
         "j": [
          3,
          4,
          1,
          2,
          5,
          6,
          5,
          2,
          0,
          1,
          6,
          3
         ],
         "k": [
          0,
          7,
          2,
          3,
          6,
          7,
          1,
          1,
          5,
          5,
          7,
          6
         ],
         "showlegend": false,
         "showscale": false,
         "type": "mesh3d",
         "x": [
          546,
          546,
          559,
          559,
          546,
          546,
          559,
          559
         ],
         "y": [
          681,
          689,
          689,
          681,
          681,
          689,
          689,
          681
         ],
         "z": [
          313,
          313,
          313,
          313,
          370,
          370,
          370,
          370
         ]
        },
        {
         "colorscale": [
          [
           0,
           "gold"
          ],
          [
           0.5,
           "mediumturquoise"
          ],
          [
           1,
           "magenta"
          ]
         ],
         "flatshading": true,
         "i": [
          7,
          0,
          0,
          0,
          4,
          4,
          6,
          6,
          4,
          0,
          3,
          2
         ],
         "intensity": [
          0,
          0.14285714285714285,
          0.2857142857142857,
          0.42857142857142855,
          0.5714285714285714,
          0.7142857142857142,
          0.8571428571428571,
          1
         ],
         "j": [
          3,
          4,
          1,
          2,
          5,
          6,
          5,
          2,
          0,
          1,
          6,
          3
         ],
         "k": [
          0,
          7,
          2,
          3,
          6,
          7,
          1,
          1,
          5,
          5,
          7,
          6
         ],
         "showlegend": false,
         "showscale": false,
         "type": "mesh3d",
         "x": [
          279,
          279,
          286,
          286,
          279,
          279,
          286,
          286
         ],
         "y": [
          798,
          799,
          799,
          798,
          798,
          799,
          799,
          798
         ],
         "z": [
          313,
          313,
          313,
          313,
          326,
          326,
          326,
          326
         ]
        },
        {
         "colorscale": [
          [
           0,
           "gold"
          ],
          [
           0.5,
           "mediumturquoise"
          ],
          [
           1,
           "magenta"
          ]
         ],
         "flatshading": true,
         "i": [
          7,
          0,
          0,
          0,
          4,
          4,
          6,
          6,
          4,
          0,
          3,
          2
         ],
         "intensity": [
          0,
          0.14285714285714285,
          0.2857142857142857,
          0.42857142857142855,
          0.5714285714285714,
          0.7142857142857142,
          0.8571428571428571,
          1
         ],
         "j": [
          3,
          4,
          1,
          2,
          5,
          6,
          5,
          2,
          0,
          1,
          6,
          3
         ],
         "k": [
          0,
          7,
          2,
          3,
          6,
          7,
          1,
          1,
          5,
          5,
          7,
          6
         ],
         "showlegend": false,
         "showscale": false,
         "type": "mesh3d",
         "x": [
          119,
          119,
          120,
          120,
          119,
          119,
          120,
          120
         ],
         "y": [
          821,
          884,
          884,
          821,
          821,
          884,
          884,
          821
         ],
         "z": [
          722,
          722,
          722,
          722,
          778,
          778,
          778,
          778
         ]
        },
        {
         "colorscale": [
          [
           0,
           "gold"
          ],
          [
           0.5,
           "mediumturquoise"
          ],
          [
           1,
           "magenta"
          ]
         ],
         "flatshading": true,
         "i": [
          7,
          0,
          0,
          0,
          4,
          4,
          6,
          6,
          4,
          0,
          3,
          2
         ],
         "intensity": [
          0,
          0.14285714285714285,
          0.2857142857142857,
          0.42857142857142855,
          0.5714285714285714,
          0.7142857142857142,
          0.8571428571428571,
          1
         ],
         "j": [
          3,
          4,
          1,
          2,
          5,
          6,
          5,
          2,
          0,
          1,
          6,
          3
         ],
         "k": [
          0,
          7,
          2,
          3,
          6,
          7,
          1,
          1,
          5,
          5,
          7,
          6
         ],
         "showlegend": false,
         "showscale": false,
         "type": "mesh3d",
         "x": [
          863,
          863,
          866,
          866,
          863,
          863,
          866,
          866
         ],
         "y": [
          382,
          393,
          393,
          382,
          382,
          393,
          393,
          382
         ],
         "z": [
          163,
          163,
          163,
          163,
          198,
          198,
          198,
          198
         ]
        },
        {
         "colorscale": [
          [
           0,
           "gold"
          ],
          [
           0.5,
           "mediumturquoise"
          ],
          [
           1,
           "magenta"
          ]
         ],
         "flatshading": true,
         "i": [
          7,
          0,
          0,
          0,
          4,
          4,
          6,
          6,
          4,
          0,
          3,
          2
         ],
         "intensity": [
          0,
          0.14285714285714285,
          0.2857142857142857,
          0.42857142857142855,
          0.5714285714285714,
          0.7142857142857142,
          0.8571428571428571,
          1
         ],
         "j": [
          3,
          4,
          1,
          2,
          5,
          6,
          5,
          2,
          0,
          1,
          6,
          3
         ],
         "k": [
          0,
          7,
          2,
          3,
          6,
          7,
          1,
          1,
          5,
          5,
          7,
          6
         ],
         "showlegend": false,
         "showscale": false,
         "type": "mesh3d",
         "x": [
          791,
          791,
          794,
          794,
          791,
          791,
          794,
          794
         ],
         "y": [
          417,
          465,
          465,
          417,
          417,
          465,
          465,
          417
         ],
         "z": [
          191,
          191,
          191,
          191,
          196,
          196,
          196,
          196
         ]
        },
        {
         "colorscale": [
          [
           0,
           "gold"
          ],
          [
           0.5,
           "mediumturquoise"
          ],
          [
           1,
           "magenta"
          ]
         ],
         "flatshading": true,
         "i": [
          7,
          0,
          0,
          0,
          4,
          4,
          6,
          6,
          4,
          0,
          3,
          2
         ],
         "intensity": [
          0,
          0.14285714285714285,
          0.2857142857142857,
          0.42857142857142855,
          0.5714285714285714,
          0.7142857142857142,
          0.8571428571428571,
          1
         ],
         "j": [
          3,
          4,
          1,
          2,
          5,
          6,
          5,
          2,
          0,
          1,
          6,
          3
         ],
         "k": [
          0,
          7,
          2,
          3,
          6,
          7,
          1,
          1,
          5,
          5,
          7,
          6
         ],
         "showlegend": false,
         "showscale": false,
         "type": "mesh3d",
         "x": [
          816,
          816,
          878,
          878,
          816,
          816,
          878,
          878
         ],
         "y": [
          279,
          296,
          296,
          279,
          279,
          296,
          296,
          279
         ],
         "z": [
          613,
          613,
          613,
          613,
          625,
          625,
          625,
          625
         ]
        },
        {
         "colorscale": [
          [
           0,
           "gold"
          ],
          [
           0.5,
           "mediumturquoise"
          ],
          [
           1,
           "magenta"
          ]
         ],
         "flatshading": true,
         "i": [
          7,
          0,
          0,
          0,
          4,
          4,
          6,
          6,
          4,
          0,
          3,
          2
         ],
         "intensity": [
          0,
          0.14285714285714285,
          0.2857142857142857,
          0.42857142857142855,
          0.5714285714285714,
          0.7142857142857142,
          0.8571428571428571,
          1
         ],
         "j": [
          3,
          4,
          1,
          2,
          5,
          6,
          5,
          2,
          0,
          1,
          6,
          3
         ],
         "k": [
          0,
          7,
          2,
          3,
          6,
          7,
          1,
          1,
          5,
          5,
          7,
          6
         ],
         "showlegend": false,
         "showscale": false,
         "type": "mesh3d",
         "x": [
          435,
          435,
          487,
          487,
          435,
          435,
          487,
          487
         ],
         "y": [
          12,
          20,
          20,
          12,
          12,
          20,
          20,
          12
         ],
         "z": [
          190,
          190,
          190,
          190,
          196,
          196,
          196,
          196
         ]
        },
        {
         "colorscale": [
          [
           0,
           "gold"
          ],
          [
           0.5,
           "mediumturquoise"
          ],
          [
           1,
           "magenta"
          ]
         ],
         "flatshading": true,
         "i": [
          7,
          0,
          0,
          0,
          4,
          4,
          6,
          6,
          4,
          0,
          3,
          2
         ],
         "intensity": [
          0,
          0.14285714285714285,
          0.2857142857142857,
          0.42857142857142855,
          0.5714285714285714,
          0.7142857142857142,
          0.8571428571428571,
          1
         ],
         "j": [
          3,
          4,
          1,
          2,
          5,
          6,
          5,
          2,
          0,
          1,
          6,
          3
         ],
         "k": [
          0,
          7,
          2,
          3,
          6,
          7,
          1,
          1,
          5,
          5,
          7,
          6
         ],
         "showlegend": false,
         "showscale": false,
         "type": "mesh3d",
         "x": [
          721,
          721,
          799,
          799,
          721,
          721,
          799,
          799
         ],
         "y": [
          586,
          590,
          590,
          586,
          586,
          590,
          590,
          586
         ],
         "z": [
          395,
          395,
          395,
          395,
          397,
          397,
          397,
          397
         ]
        },
        {
         "colorscale": [
          [
           0,
           "gold"
          ],
          [
           0.5,
           "mediumturquoise"
          ],
          [
           1,
           "magenta"
          ]
         ],
         "flatshading": true,
         "i": [
          7,
          0,
          0,
          0,
          4,
          4,
          6,
          6,
          4,
          0,
          3,
          2
         ],
         "intensity": [
          0,
          0.14285714285714285,
          0.2857142857142857,
          0.42857142857142855,
          0.5714285714285714,
          0.7142857142857142,
          0.8571428571428571,
          1
         ],
         "j": [
          3,
          4,
          1,
          2,
          5,
          6,
          5,
          2,
          0,
          1,
          6,
          3
         ],
         "k": [
          0,
          7,
          2,
          3,
          6,
          7,
          1,
          1,
          5,
          5,
          7,
          6
         ],
         "showlegend": false,
         "showscale": false,
         "type": "mesh3d",
         "x": [
          401,
          401,
          473,
          473,
          401,
          401,
          473,
          473
         ],
         "y": [
          54,
          99,
          99,
          54,
          54,
          99,
          99,
          54
         ],
         "z": [
          356,
          356,
          356,
          356,
          376,
          376,
          376,
          376
         ]
        },
        {
         "colorscale": [
          [
           0,
           "gold"
          ],
          [
           0.5,
           "mediumturquoise"
          ],
          [
           1,
           "magenta"
          ]
         ],
         "flatshading": true,
         "i": [
          7,
          0,
          0,
          0,
          4,
          4,
          6,
          6,
          4,
          0,
          3,
          2
         ],
         "intensity": [
          0,
          0.14285714285714285,
          0.2857142857142857,
          0.42857142857142855,
          0.5714285714285714,
          0.7142857142857142,
          0.8571428571428571,
          1
         ],
         "j": [
          3,
          4,
          1,
          2,
          5,
          6,
          5,
          2,
          0,
          1,
          6,
          3
         ],
         "k": [
          0,
          7,
          2,
          3,
          6,
          7,
          1,
          1,
          5,
          5,
          7,
          6
         ],
         "showlegend": false,
         "showscale": false,
         "type": "mesh3d",
         "x": [
          303,
          303,
          345,
          345,
          303,
          303,
          345,
          345
         ],
         "y": [
          300,
          325,
          325,
          300,
          300,
          325,
          325,
          300
         ],
         "z": [
          738,
          738,
          738,
          738,
          740,
          740,
          740,
          740
         ]
        },
        {
         "colorscale": [
          [
           0,
           "gold"
          ],
          [
           0.5,
           "mediumturquoise"
          ],
          [
           1,
           "magenta"
          ]
         ],
         "flatshading": true,
         "i": [
          7,
          0,
          0,
          0,
          4,
          4,
          6,
          6,
          4,
          0,
          3,
          2
         ],
         "intensity": [
          0,
          0.14285714285714285,
          0.2857142857142857,
          0.42857142857142855,
          0.5714285714285714,
          0.7142857142857142,
          0.8571428571428571,
          1
         ],
         "j": [
          3,
          4,
          1,
          2,
          5,
          6,
          5,
          2,
          0,
          1,
          6,
          3
         ],
         "k": [
          0,
          7,
          2,
          3,
          6,
          7,
          1,
          1,
          5,
          5,
          7,
          6
         ],
         "showlegend": false,
         "showscale": false,
         "type": "mesh3d",
         "x": [
          729,
          729,
          773,
          773,
          729,
          729,
          773,
          773
         ],
         "y": [
          684,
          690,
          690,
          684,
          684,
          690,
          690,
          684
         ],
         "z": [
          961,
          961,
          961,
          961,
          968,
          968,
          968,
          968
         ]
        },
        {
         "colorscale": [
          [
           0,
           "gold"
          ],
          [
           0.5,
           "mediumturquoise"
          ],
          [
           1,
           "magenta"
          ]
         ],
         "flatshading": true,
         "i": [
          7,
          0,
          0,
          0,
          4,
          4,
          6,
          6,
          4,
          0,
          3,
          2
         ],
         "intensity": [
          0,
          0.14285714285714285,
          0.2857142857142857,
          0.42857142857142855,
          0.5714285714285714,
          0.7142857142857142,
          0.8571428571428571,
          1
         ],
         "j": [
          3,
          4,
          1,
          2,
          5,
          6,
          5,
          2,
          0,
          1,
          6,
          3
         ],
         "k": [
          0,
          7,
          2,
          3,
          6,
          7,
          1,
          1,
          5,
          5,
          7,
          6
         ],
         "showlegend": false,
         "showscale": false,
         "type": "mesh3d",
         "x": [
          207,
          207,
          270,
          270,
          207,
          207,
          270,
          270
         ],
         "y": [
          717,
          720,
          720,
          717,
          717,
          720,
          720,
          717
         ],
         "z": [
          965,
          965,
          965,
          965,
          970,
          970,
          970,
          970
         ]
        },
        {
         "colorscale": [
          [
           0,
           "gold"
          ],
          [
           0.5,
           "mediumturquoise"
          ],
          [
           1,
           "magenta"
          ]
         ],
         "flatshading": true,
         "i": [
          7,
          0,
          0,
          0,
          4,
          4,
          6,
          6,
          4,
          0,
          3,
          2
         ],
         "intensity": [
          0,
          0.14285714285714285,
          0.2857142857142857,
          0.42857142857142855,
          0.5714285714285714,
          0.7142857142857142,
          0.8571428571428571,
          1
         ],
         "j": [
          3,
          4,
          1,
          2,
          5,
          6,
          5,
          2,
          0,
          1,
          6,
          3
         ],
         "k": [
          0,
          7,
          2,
          3,
          6,
          7,
          1,
          1,
          5,
          5,
          7,
          6
         ],
         "showlegend": false,
         "showscale": false,
         "type": "mesh3d",
         "x": [
          214,
          214,
          226,
          226,
          214,
          214,
          226,
          226
         ],
         "y": [
          267,
          283,
          283,
          267,
          267,
          283,
          283,
          267
         ],
         "z": [
          563,
          563,
          563,
          563,
          580,
          580,
          580,
          580
         ]
        },
        {
         "colorscale": [
          [
           0,
           "gold"
          ],
          [
           0.5,
           "mediumturquoise"
          ],
          [
           1,
           "magenta"
          ]
         ],
         "flatshading": true,
         "i": [
          7,
          0,
          0,
          0,
          4,
          4,
          6,
          6,
          4,
          0,
          3,
          2
         ],
         "intensity": [
          0,
          0.14285714285714285,
          0.2857142857142857,
          0.42857142857142855,
          0.5714285714285714,
          0.7142857142857142,
          0.8571428571428571,
          1
         ],
         "j": [
          3,
          4,
          1,
          2,
          5,
          6,
          5,
          2,
          0,
          1,
          6,
          3
         ],
         "k": [
          0,
          7,
          2,
          3,
          6,
          7,
          1,
          1,
          5,
          5,
          7,
          6
         ],
         "showlegend": false,
         "showscale": false,
         "type": "mesh3d",
         "x": [
          895,
          895,
          898,
          898,
          895,
          895,
          898,
          898
         ],
         "y": [
          87,
          91,
          91,
          87,
          87,
          91,
          91,
          87
         ],
         "z": [
          769,
          769,
          769,
          769,
          793,
          793,
          793,
          793
         ]
        },
        {
         "colorscale": [
          [
           0,
           "gold"
          ],
          [
           0.5,
           "mediumturquoise"
          ],
          [
           1,
           "magenta"
          ]
         ],
         "flatshading": true,
         "i": [
          7,
          0,
          0,
          0,
          4,
          4,
          6,
          6,
          4,
          0,
          3,
          2
         ],
         "intensity": [
          0,
          0.14285714285714285,
          0.2857142857142857,
          0.42857142857142855,
          0.5714285714285714,
          0.7142857142857142,
          0.8571428571428571,
          1
         ],
         "j": [
          3,
          4,
          1,
          2,
          5,
          6,
          5,
          2,
          0,
          1,
          6,
          3
         ],
         "k": [
          0,
          7,
          2,
          3,
          6,
          7,
          1,
          1,
          5,
          5,
          7,
          6
         ],
         "showlegend": false,
         "showscale": false,
         "type": "mesh3d",
         "x": [
          60,
          60,
          61,
          61,
          60,
          60,
          61,
          61
         ],
         "y": [
          307,
          384,
          384,
          307,
          307,
          384,
          384,
          307
         ],
         "z": [
          357,
          357,
          357,
          357,
          376,
          376,
          376,
          376
         ]
        },
        {
         "colorscale": [
          [
           0,
           "gold"
          ],
          [
           0.5,
           "mediumturquoise"
          ],
          [
           1,
           "magenta"
          ]
         ],
         "flatshading": true,
         "i": [
          7,
          0,
          0,
          0,
          4,
          4,
          6,
          6,
          4,
          0,
          3,
          2
         ],
         "intensity": [
          0,
          0.14285714285714285,
          0.2857142857142857,
          0.42857142857142855,
          0.5714285714285714,
          0.7142857142857142,
          0.8571428571428571,
          1
         ],
         "j": [
          3,
          4,
          1,
          2,
          5,
          6,
          5,
          2,
          0,
          1,
          6,
          3
         ],
         "k": [
          0,
          7,
          2,
          3,
          6,
          7,
          1,
          1,
          5,
          5,
          7,
          6
         ],
         "showlegend": false,
         "showscale": false,
         "type": "mesh3d",
         "x": [
          577,
          577,
          598,
          598,
          577,
          577,
          598,
          598
         ],
         "y": [
          213,
          267,
          267,
          213,
          213,
          267,
          267,
          213
         ],
         "z": [
          708,
          708,
          708,
          708,
          791,
          791,
          791,
          791
         ]
        },
        {
         "colorscale": [
          [
           0,
           "gold"
          ],
          [
           0.5,
           "mediumturquoise"
          ],
          [
           1,
           "magenta"
          ]
         ],
         "flatshading": true,
         "i": [
          7,
          0,
          0,
          0,
          4,
          4,
          6,
          6,
          4,
          0,
          3,
          2
         ],
         "intensity": [
          0,
          0.14285714285714285,
          0.2857142857142857,
          0.42857142857142855,
          0.5714285714285714,
          0.7142857142857142,
          0.8571428571428571,
          1
         ],
         "j": [
          3,
          4,
          1,
          2,
          5,
          6,
          5,
          2,
          0,
          1,
          6,
          3
         ],
         "k": [
          0,
          7,
          2,
          3,
          6,
          7,
          1,
          1,
          5,
          5,
          7,
          6
         ],
         "showlegend": false,
         "showscale": false,
         "type": "mesh3d",
         "x": [
          232,
          232,
          284,
          284,
          232,
          232,
          284,
          284
         ],
         "y": [
          521,
          563,
          563,
          521,
          521,
          563,
          563,
          521
         ],
         "z": [
          606,
          606,
          606,
          606,
          650,
          650,
          650,
          650
         ]
        },
        {
         "colorscale": [
          [
           0,
           "gold"
          ],
          [
           0.5,
           "mediumturquoise"
          ],
          [
           1,
           "magenta"
          ]
         ],
         "flatshading": true,
         "i": [
          7,
          0,
          0,
          0,
          4,
          4,
          6,
          6,
          4,
          0,
          3,
          2
         ],
         "intensity": [
          0,
          0.14285714285714285,
          0.2857142857142857,
          0.42857142857142855,
          0.5714285714285714,
          0.7142857142857142,
          0.8571428571428571,
          1
         ],
         "j": [
          3,
          4,
          1,
          2,
          5,
          6,
          5,
          2,
          0,
          1,
          6,
          3
         ],
         "k": [
          0,
          7,
          2,
          3,
          6,
          7,
          1,
          1,
          5,
          5,
          7,
          6
         ],
         "showlegend": false,
         "showscale": false,
         "type": "mesh3d",
         "x": [
          336,
          336,
          375,
          375,
          336,
          336,
          375,
          375
         ],
         "y": [
          492,
          493,
          493,
          492,
          492,
          493,
          493,
          492
         ],
         "z": [
          557,
          557,
          557,
          557,
          578,
          578,
          578,
          578
         ]
        },
        {
         "colorscale": [
          [
           0,
           "gold"
          ],
          [
           0.5,
           "mediumturquoise"
          ],
          [
           1,
           "magenta"
          ]
         ],
         "flatshading": true,
         "i": [
          7,
          0,
          0,
          0,
          4,
          4,
          6,
          6,
          4,
          0,
          3,
          2
         ],
         "intensity": [
          0,
          0.14285714285714285,
          0.2857142857142857,
          0.42857142857142855,
          0.5714285714285714,
          0.7142857142857142,
          0.8571428571428571,
          1
         ],
         "j": [
          3,
          4,
          1,
          2,
          5,
          6,
          5,
          2,
          0,
          1,
          6,
          3
         ],
         "k": [
          0,
          7,
          2,
          3,
          6,
          7,
          1,
          1,
          5,
          5,
          7,
          6
         ],
         "showlegend": false,
         "showscale": false,
         "type": "mesh3d",
         "x": [
          384,
          384,
          385,
          385,
          384,
          384,
          385,
          385
         ],
         "y": [
          797,
          799,
          799,
          797,
          797,
          799,
          799,
          797
         ],
         "z": [
          228,
          228,
          228,
          228,
          237,
          237,
          237,
          237
         ]
        },
        {
         "colorscale": [
          [
           0,
           "gold"
          ],
          [
           0.5,
           "mediumturquoise"
          ],
          [
           1,
           "magenta"
          ]
         ],
         "flatshading": true,
         "i": [
          7,
          0,
          0,
          0,
          4,
          4,
          6,
          6,
          4,
          0,
          3,
          2
         ],
         "intensity": [
          0,
          0.14285714285714285,
          0.2857142857142857,
          0.42857142857142855,
          0.5714285714285714,
          0.7142857142857142,
          0.8571428571428571,
          1
         ],
         "j": [
          3,
          4,
          1,
          2,
          5,
          6,
          5,
          2,
          0,
          1,
          6,
          3
         ],
         "k": [
          0,
          7,
          2,
          3,
          6,
          7,
          1,
          1,
          5,
          5,
          7,
          6
         ],
         "showlegend": false,
         "showscale": false,
         "type": "mesh3d",
         "x": [
          671,
          671,
          675,
          675,
          671,
          671,
          675,
          675
         ],
         "y": [
          924,
          962,
          962,
          924,
          924,
          962,
          962,
          924
         ],
         "z": [
          843,
          843,
          843,
          843,
          887,
          887,
          887,
          887
         ]
        },
        {
         "colorscale": [
          [
           0,
           "gold"
          ],
          [
           0.5,
           "mediumturquoise"
          ],
          [
           1,
           "magenta"
          ]
         ],
         "flatshading": true,
         "i": [
          7,
          0,
          0,
          0,
          4,
          4,
          6,
          6,
          4,
          0,
          3,
          2
         ],
         "intensity": [
          0,
          0.14285714285714285,
          0.2857142857142857,
          0.42857142857142855,
          0.5714285714285714,
          0.7142857142857142,
          0.8571428571428571,
          1
         ],
         "j": [
          3,
          4,
          1,
          2,
          5,
          6,
          5,
          2,
          0,
          1,
          6,
          3
         ],
         "k": [
          0,
          7,
          2,
          3,
          6,
          7,
          1,
          1,
          5,
          5,
          7,
          6
         ],
         "showlegend": false,
         "showscale": false,
         "type": "mesh3d",
         "x": [
          837,
          837,
          862,
          862,
          837,
          837,
          862,
          862
         ],
         "y": [
          901,
          911,
          911,
          901,
          901,
          911,
          911,
          901
         ],
         "z": [
          168,
          168,
          168,
          168,
          193,
          193,
          193,
          193
         ]
        },
        {
         "colorscale": [
          [
           0,
           "gold"
          ],
          [
           0.5,
           "mediumturquoise"
          ],
          [
           1,
           "magenta"
          ]
         ],
         "flatshading": true,
         "i": [
          7,
          0,
          0,
          0,
          4,
          4,
          6,
          6,
          4,
          0,
          3,
          2
         ],
         "intensity": [
          0,
          0.14285714285714285,
          0.2857142857142857,
          0.42857142857142855,
          0.5714285714285714,
          0.7142857142857142,
          0.8571428571428571,
          1
         ],
         "j": [
          3,
          4,
          1,
          2,
          5,
          6,
          5,
          2,
          0,
          1,
          6,
          3
         ],
         "k": [
          0,
          7,
          2,
          3,
          6,
          7,
          1,
          1,
          5,
          5,
          7,
          6
         ],
         "showlegend": false,
         "showscale": false,
         "type": "mesh3d",
         "x": [
          904,
          904,
          951,
          951,
          904,
          904,
          951,
          951
         ],
         "y": [
          362,
          370,
          370,
          362,
          362,
          370,
          370,
          362
         ],
         "z": [
          912,
          912,
          912,
          912,
          941,
          941,
          941,
          941
         ]
        },
        {
         "colorscale": [
          [
           0,
           "gold"
          ],
          [
           0.5,
           "mediumturquoise"
          ],
          [
           1,
           "magenta"
          ]
         ],
         "flatshading": true,
         "i": [
          7,
          0,
          0,
          0,
          4,
          4,
          6,
          6,
          4,
          0,
          3,
          2
         ],
         "intensity": [
          0,
          0.14285714285714285,
          0.2857142857142857,
          0.42857142857142855,
          0.5714285714285714,
          0.7142857142857142,
          0.8571428571428571,
          1
         ],
         "j": [
          3,
          4,
          1,
          2,
          5,
          6,
          5,
          2,
          0,
          1,
          6,
          3
         ],
         "k": [
          0,
          7,
          2,
          3,
          6,
          7,
          1,
          1,
          5,
          5,
          7,
          6
         ],
         "showlegend": false,
         "showscale": false,
         "type": "mesh3d",
         "x": [
          688,
          688,
          692,
          692,
          688,
          688,
          692,
          692
         ],
         "y": [
          993,
          996,
          996,
          993,
          993,
          996,
          996,
          993
         ],
         "z": [
          812,
          812,
          812,
          812,
          873,
          873,
          873,
          873
         ]
        },
        {
         "colorscale": [
          [
           0,
           "gold"
          ],
          [
           0.5,
           "mediumturquoise"
          ],
          [
           1,
           "magenta"
          ]
         ],
         "flatshading": true,
         "i": [
          7,
          0,
          0,
          0,
          4,
          4,
          6,
          6,
          4,
          0,
          3,
          2
         ],
         "intensity": [
          0,
          0.14285714285714285,
          0.2857142857142857,
          0.42857142857142855,
          0.5714285714285714,
          0.7142857142857142,
          0.8571428571428571,
          1
         ],
         "j": [
          3,
          4,
          1,
          2,
          5,
          6,
          5,
          2,
          0,
          1,
          6,
          3
         ],
         "k": [
          0,
          7,
          2,
          3,
          6,
          7,
          1,
          1,
          5,
          5,
          7,
          6
         ],
         "showlegend": false,
         "showscale": false,
         "type": "mesh3d",
         "x": [
          883,
          883,
          898,
          898,
          883,
          883,
          898,
          898
         ],
         "y": [
          828,
          886,
          886,
          828,
          828,
          886,
          886,
          828
         ],
         "z": [
          242,
          242,
          242,
          242,
          258,
          258,
          258,
          258
         ]
        },
        {
         "colorscale": [
          [
           0,
           "gold"
          ],
          [
           0.5,
           "mediumturquoise"
          ],
          [
           1,
           "magenta"
          ]
         ],
         "flatshading": true,
         "i": [
          7,
          0,
          0,
          0,
          4,
          4,
          6,
          6,
          4,
          0,
          3,
          2
         ],
         "intensity": [
          0,
          0.14285714285714285,
          0.2857142857142857,
          0.42857142857142855,
          0.5714285714285714,
          0.7142857142857142,
          0.8571428571428571,
          1
         ],
         "j": [
          3,
          4,
          1,
          2,
          5,
          6,
          5,
          2,
          0,
          1,
          6,
          3
         ],
         "k": [
          0,
          7,
          2,
          3,
          6,
          7,
          1,
          1,
          5,
          5,
          7,
          6
         ],
         "showlegend": false,
         "showscale": false,
         "type": "mesh3d",
         "x": [
          755,
          755,
          788,
          788,
          755,
          755,
          788,
          788
         ],
         "y": [
          596,
          597,
          597,
          596,
          596,
          597,
          597,
          596
         ],
         "z": [
          679,
          679,
          679,
          679,
          682,
          682,
          682,
          682
         ]
        },
        {
         "colorscale": [
          [
           0,
           "gold"
          ],
          [
           0.5,
           "mediumturquoise"
          ],
          [
           1,
           "magenta"
          ]
         ],
         "flatshading": true,
         "i": [
          7,
          0,
          0,
          0,
          4,
          4,
          6,
          6,
          4,
          0,
          3,
          2
         ],
         "intensity": [
          0,
          0.14285714285714285,
          0.2857142857142857,
          0.42857142857142855,
          0.5714285714285714,
          0.7142857142857142,
          0.8571428571428571,
          1
         ],
         "j": [
          3,
          4,
          1,
          2,
          5,
          6,
          5,
          2,
          0,
          1,
          6,
          3
         ],
         "k": [
          0,
          7,
          2,
          3,
          6,
          7,
          1,
          1,
          5,
          5,
          7,
          6
         ],
         "showlegend": false,
         "showscale": false,
         "type": "mesh3d",
         "x": [
          172,
          172,
          179,
          179,
          172,
          172,
          179,
          179
         ],
         "y": [
          58,
          72,
          72,
          58,
          58,
          72,
          72,
          58
         ],
         "z": [
          374,
          374,
          374,
          374,
          386,
          386,
          386,
          386
         ]
        },
        {
         "colorscale": [
          [
           0,
           "gold"
          ],
          [
           0.5,
           "mediumturquoise"
          ],
          [
           1,
           "magenta"
          ]
         ],
         "flatshading": true,
         "i": [
          7,
          0,
          0,
          0,
          4,
          4,
          6,
          6,
          4,
          0,
          3,
          2
         ],
         "intensity": [
          0,
          0.14285714285714285,
          0.2857142857142857,
          0.42857142857142855,
          0.5714285714285714,
          0.7142857142857142,
          0.8571428571428571,
          1
         ],
         "j": [
          3,
          4,
          1,
          2,
          5,
          6,
          5,
          2,
          0,
          1,
          6,
          3
         ],
         "k": [
          0,
          7,
          2,
          3,
          6,
          7,
          1,
          1,
          5,
          5,
          7,
          6
         ],
         "showlegend": false,
         "showscale": false,
         "type": "mesh3d",
         "x": [
          666,
          666,
          691,
          691,
          666,
          666,
          691,
          691
         ],
         "y": [
          292,
          294,
          294,
          292,
          292,
          294,
          294,
          292
         ],
         "z": [
          683,
          683,
          683,
          683,
          696,
          696,
          696,
          696
         ]
        },
        {
         "colorscale": [
          [
           0,
           "gold"
          ],
          [
           0.5,
           "mediumturquoise"
          ],
          [
           1,
           "magenta"
          ]
         ],
         "flatshading": true,
         "i": [
          7,
          0,
          0,
          0,
          4,
          4,
          6,
          6,
          4,
          0,
          3,
          2
         ],
         "intensity": [
          0,
          0.14285714285714285,
          0.2857142857142857,
          0.42857142857142855,
          0.5714285714285714,
          0.7142857142857142,
          0.8571428571428571,
          1
         ],
         "j": [
          3,
          4,
          1,
          2,
          5,
          6,
          5,
          2,
          0,
          1,
          6,
          3
         ],
         "k": [
          0,
          7,
          2,
          3,
          6,
          7,
          1,
          1,
          5,
          5,
          7,
          6
         ],
         "showlegend": false,
         "showscale": false,
         "type": "mesh3d",
         "x": [
          466,
          466,
          490,
          490,
          466,
          466,
          490,
          490
         ],
         "y": [
          710,
          716,
          716,
          710,
          710,
          716,
          716,
          710
         ],
         "z": [
          726,
          726,
          726,
          726,
          756,
          756,
          756,
          756
         ]
        },
        {
         "colorscale": [
          [
           0,
           "gold"
          ],
          [
           0.5,
           "mediumturquoise"
          ],
          [
           1,
           "magenta"
          ]
         ],
         "flatshading": true,
         "i": [
          7,
          0,
          0,
          0,
          4,
          4,
          6,
          6,
          4,
          0,
          3,
          2
         ],
         "intensity": [
          0,
          0.14285714285714285,
          0.2857142857142857,
          0.42857142857142855,
          0.5714285714285714,
          0.7142857142857142,
          0.8571428571428571,
          1
         ],
         "j": [
          3,
          4,
          1,
          2,
          5,
          6,
          5,
          2,
          0,
          1,
          6,
          3
         ],
         "k": [
          0,
          7,
          2,
          3,
          6,
          7,
          1,
          1,
          5,
          5,
          7,
          6
         ],
         "showlegend": false,
         "showscale": false,
         "type": "mesh3d",
         "x": [
          800,
          800,
          871,
          871,
          800,
          800,
          871,
          871
         ],
         "y": [
          333,
          343,
          343,
          333,
          333,
          343,
          343,
          333
         ],
         "z": [
          17,
          17,
          17,
          17,
          37,
          37,
          37,
          37
         ]
        },
        {
         "colorscale": [
          [
           0,
           "gold"
          ],
          [
           0.5,
           "mediumturquoise"
          ],
          [
           1,
           "magenta"
          ]
         ],
         "flatshading": true,
         "i": [
          7,
          0,
          0,
          0,
          4,
          4,
          6,
          6,
          4,
          0,
          3,
          2
         ],
         "intensity": [
          0,
          0.14285714285714285,
          0.2857142857142857,
          0.42857142857142855,
          0.5714285714285714,
          0.7142857142857142,
          0.8571428571428571,
          1
         ],
         "j": [
          3,
          4,
          1,
          2,
          5,
          6,
          5,
          2,
          0,
          1,
          6,
          3
         ],
         "k": [
          0,
          7,
          2,
          3,
          6,
          7,
          1,
          1,
          5,
          5,
          7,
          6
         ],
         "showlegend": false,
         "showscale": false,
         "type": "mesh3d",
         "x": [
          145,
          145,
          162,
          162,
          145,
          145,
          162,
          162
         ],
         "y": [
          915,
          953,
          953,
          915,
          915,
          953,
          953,
          915
         ],
         "z": [
          686,
          686,
          686,
          686,
          691,
          691,
          691,
          691
         ]
        },
        {
         "colorscale": [
          [
           0,
           "gold"
          ],
          [
           0.5,
           "mediumturquoise"
          ],
          [
           1,
           "magenta"
          ]
         ],
         "flatshading": true,
         "i": [
          7,
          0,
          0,
          0,
          4,
          4,
          6,
          6,
          4,
          0,
          3,
          2
         ],
         "intensity": [
          0,
          0.14285714285714285,
          0.2857142857142857,
          0.42857142857142855,
          0.5714285714285714,
          0.7142857142857142,
          0.8571428571428571,
          1
         ],
         "j": [
          3,
          4,
          1,
          2,
          5,
          6,
          5,
          2,
          0,
          1,
          6,
          3
         ],
         "k": [
          0,
          7,
          2,
          3,
          6,
          7,
          1,
          1,
          5,
          5,
          7,
          6
         ],
         "showlegend": false,
         "showscale": false,
         "type": "mesh3d",
         "x": [
          529,
          529,
          532,
          532,
          529,
          529,
          532,
          532
         ],
         "y": [
          935,
          991,
          991,
          935,
          935,
          991,
          991,
          935
         ],
         "z": [
          677,
          677,
          677,
          677,
          692,
          692,
          692,
          692
         ]
        },
        {
         "colorscale": [
          [
           0,
           "gold"
          ],
          [
           0.5,
           "mediumturquoise"
          ],
          [
           1,
           "magenta"
          ]
         ],
         "flatshading": true,
         "i": [
          7,
          0,
          0,
          0,
          4,
          4,
          6,
          6,
          4,
          0,
          3,
          2
         ],
         "intensity": [
          0,
          0.14285714285714285,
          0.2857142857142857,
          0.42857142857142855,
          0.5714285714285714,
          0.7142857142857142,
          0.8571428571428571,
          1
         ],
         "j": [
          3,
          4,
          1,
          2,
          5,
          6,
          5,
          2,
          0,
          1,
          6,
          3
         ],
         "k": [
          0,
          7,
          2,
          3,
          6,
          7,
          1,
          1,
          5,
          5,
          7,
          6
         ],
         "showlegend": false,
         "showscale": false,
         "type": "mesh3d",
         "x": [
          244,
          244,
          267,
          267,
          244,
          244,
          267,
          267
         ],
         "y": [
          663,
          664,
          664,
          663,
          663,
          664,
          664,
          663
         ],
         "z": [
          650,
          650,
          650,
          650,
          655,
          655,
          655,
          655
         ]
        },
        {
         "colorscale": [
          [
           0,
           "gold"
          ],
          [
           0.5,
           "mediumturquoise"
          ],
          [
           1,
           "magenta"
          ]
         ],
         "flatshading": true,
         "i": [
          7,
          0,
          0,
          0,
          4,
          4,
          6,
          6,
          4,
          0,
          3,
          2
         ],
         "intensity": [
          0,
          0.14285714285714285,
          0.2857142857142857,
          0.42857142857142855,
          0.5714285714285714,
          0.7142857142857142,
          0.8571428571428571,
          1
         ],
         "j": [
          3,
          4,
          1,
          2,
          5,
          6,
          5,
          2,
          0,
          1,
          6,
          3
         ],
         "k": [
          0,
          7,
          2,
          3,
          6,
          7,
          1,
          1,
          5,
          5,
          7,
          6
         ],
         "showlegend": false,
         "showscale": false,
         "type": "mesh3d",
         "x": [
          133,
          133,
          172,
          172,
          133,
          133,
          172,
          172
         ],
         "y": [
          182,
          192,
          192,
          182,
          182,
          192,
          192,
          182
         ],
         "z": [
          407,
          407,
          407,
          407,
          493,
          493,
          493,
          493
         ]
        },
        {
         "colorscale": [
          [
           0,
           "gold"
          ],
          [
           0.5,
           "mediumturquoise"
          ],
          [
           1,
           "magenta"
          ]
         ],
         "flatshading": true,
         "i": [
          7,
          0,
          0,
          0,
          4,
          4,
          6,
          6,
          4,
          0,
          3,
          2
         ],
         "intensity": [
          0,
          0.14285714285714285,
          0.2857142857142857,
          0.42857142857142855,
          0.5714285714285714,
          0.7142857142857142,
          0.8571428571428571,
          1
         ],
         "j": [
          3,
          4,
          1,
          2,
          5,
          6,
          5,
          2,
          0,
          1,
          6,
          3
         ],
         "k": [
          0,
          7,
          2,
          3,
          6,
          7,
          1,
          1,
          5,
          5,
          7,
          6
         ],
         "showlegend": false,
         "showscale": false,
         "type": "mesh3d",
         "x": [
          730,
          730,
          745,
          745,
          730,
          730,
          745,
          745
         ],
         "y": [
          212,
          236,
          236,
          212,
          212,
          236,
          236,
          212
         ],
         "z": [
          197,
          197,
          197,
          197,
          199,
          199,
          199,
          199
         ]
        },
        {
         "colorscale": [
          [
           0,
           "gold"
          ],
          [
           0.5,
           "mediumturquoise"
          ],
          [
           1,
           "magenta"
          ]
         ],
         "flatshading": true,
         "i": [
          7,
          0,
          0,
          0,
          4,
          4,
          6,
          6,
          4,
          0,
          3,
          2
         ],
         "intensity": [
          0,
          0.14285714285714285,
          0.2857142857142857,
          0.42857142857142855,
          0.5714285714285714,
          0.7142857142857142,
          0.8571428571428571,
          1
         ],
         "j": [
          3,
          4,
          1,
          2,
          5,
          6,
          5,
          2,
          0,
          1,
          6,
          3
         ],
         "k": [
          0,
          7,
          2,
          3,
          6,
          7,
          1,
          1,
          5,
          5,
          7,
          6
         ],
         "showlegend": false,
         "showscale": false,
         "type": "mesh3d",
         "x": [
          270,
          270,
          291,
          291,
          270,
          270,
          291,
          291
         ],
         "y": [
          591,
          595,
          595,
          591,
          591,
          595,
          595,
          591
         ],
         "z": [
          908,
          908,
          908,
          908,
          913,
          913,
          913,
          913
         ]
        },
        {
         "colorscale": [
          [
           0,
           "gold"
          ],
          [
           0.5,
           "mediumturquoise"
          ],
          [
           1,
           "magenta"
          ]
         ],
         "flatshading": true,
         "i": [
          7,
          0,
          0,
          0,
          4,
          4,
          6,
          6,
          4,
          0,
          3,
          2
         ],
         "intensity": [
          0,
          0.14285714285714285,
          0.2857142857142857,
          0.42857142857142855,
          0.5714285714285714,
          0.7142857142857142,
          0.8571428571428571,
          1
         ],
         "j": [
          3,
          4,
          1,
          2,
          5,
          6,
          5,
          2,
          0,
          1,
          6,
          3
         ],
         "k": [
          0,
          7,
          2,
          3,
          6,
          7,
          1,
          1,
          5,
          5,
          7,
          6
         ],
         "showlegend": false,
         "showscale": false,
         "type": "mesh3d",
         "x": [
          576,
          576,
          582,
          582,
          576,
          576,
          582,
          582
         ],
         "y": [
          146,
          170,
          170,
          146,
          146,
          170,
          170,
          146
         ],
         "z": [
          909,
          909,
          909,
          909,
          983,
          983,
          983,
          983
         ]
        },
        {
         "colorscale": [
          [
           0,
           "gold"
          ],
          [
           0.5,
           "mediumturquoise"
          ],
          [
           1,
           "magenta"
          ]
         ],
         "flatshading": true,
         "i": [
          7,
          0,
          0,
          0,
          4,
          4,
          6,
          6,
          4,
          0,
          3,
          2
         ],
         "intensity": [
          0,
          0.14285714285714285,
          0.2857142857142857,
          0.42857142857142855,
          0.5714285714285714,
          0.7142857142857142,
          0.8571428571428571,
          1
         ],
         "j": [
          3,
          4,
          1,
          2,
          5,
          6,
          5,
          2,
          0,
          1,
          6,
          3
         ],
         "k": [
          0,
          7,
          2,
          3,
          6,
          7,
          1,
          1,
          5,
          5,
          7,
          6
         ],
         "showlegend": false,
         "showscale": false,
         "type": "mesh3d",
         "x": [
          627,
          627,
          663,
          663,
          627,
          627,
          663,
          663
         ],
         "y": [
          86,
          93,
          93,
          86,
          86,
          93,
          93,
          86
         ],
         "z": [
          736,
          736,
          736,
          736,
          791,
          791,
          791,
          791
         ]
        },
        {
         "colorscale": [
          [
           0,
           "gold"
          ],
          [
           0.5,
           "mediumturquoise"
          ],
          [
           1,
           "magenta"
          ]
         ],
         "flatshading": true,
         "i": [
          7,
          0,
          0,
          0,
          4,
          4,
          6,
          6,
          4,
          0,
          3,
          2
         ],
         "intensity": [
          0,
          0.14285714285714285,
          0.2857142857142857,
          0.42857142857142855,
          0.5714285714285714,
          0.7142857142857142,
          0.8571428571428571,
          1
         ],
         "j": [
          3,
          4,
          1,
          2,
          5,
          6,
          5,
          2,
          0,
          1,
          6,
          3
         ],
         "k": [
          0,
          7,
          2,
          3,
          6,
          7,
          1,
          1,
          5,
          5,
          7,
          6
         ],
         "showlegend": false,
         "showscale": false,
         "type": "mesh3d",
         "x": [
          11,
          11,
          80,
          80,
          11,
          11,
          80,
          80
         ],
         "y": [
          78,
          99,
          99,
          78,
          78,
          99,
          99,
          78
         ],
         "z": [
          975,
          975,
          975,
          975,
          986,
          986,
          986,
          986
         ]
        },
        {
         "colorscale": [
          [
           0,
           "gold"
          ],
          [
           0.5,
           "mediumturquoise"
          ],
          [
           1,
           "magenta"
          ]
         ],
         "flatshading": true,
         "i": [
          7,
          0,
          0,
          0,
          4,
          4,
          6,
          6,
          4,
          0,
          3,
          2
         ],
         "intensity": [
          0,
          0.14285714285714285,
          0.2857142857142857,
          0.42857142857142855,
          0.5714285714285714,
          0.7142857142857142,
          0.8571428571428571,
          1
         ],
         "j": [
          3,
          4,
          1,
          2,
          5,
          6,
          5,
          2,
          0,
          1,
          6,
          3
         ],
         "k": [
          0,
          7,
          2,
          3,
          6,
          7,
          1,
          1,
          5,
          5,
          7,
          6
         ],
         "showlegend": false,
         "showscale": false,
         "type": "mesh3d",
         "x": [
          211,
          211,
          281,
          281,
          211,
          211,
          281,
          281
         ],
         "y": [
          151,
          174,
          174,
          151,
          151,
          174,
          174,
          151
         ],
         "z": [
          57,
          57,
          57,
          57,
          84,
          84,
          84,
          84
         ]
        },
        {
         "colorscale": [
          [
           0,
           "gold"
          ],
          [
           0.5,
           "mediumturquoise"
          ],
          [
           1,
           "magenta"
          ]
         ],
         "flatshading": true,
         "i": [
          7,
          0,
          0,
          0,
          4,
          4,
          6,
          6,
          4,
          0,
          3,
          2
         ],
         "intensity": [
          0,
          0.14285714285714285,
          0.2857142857142857,
          0.42857142857142855,
          0.5714285714285714,
          0.7142857142857142,
          0.8571428571428571,
          1
         ],
         "j": [
          3,
          4,
          1,
          2,
          5,
          6,
          5,
          2,
          0,
          1,
          6,
          3
         ],
         "k": [
          0,
          7,
          2,
          3,
          6,
          7,
          1,
          1,
          5,
          5,
          7,
          6
         ],
         "showlegend": false,
         "showscale": false,
         "type": "mesh3d",
         "x": [
          513,
          513,
          567,
          567,
          513,
          513,
          567,
          567
         ],
         "y": [
          209,
          278,
          278,
          209,
          209,
          278,
          278,
          209
         ],
         "z": [
          802,
          802,
          802,
          802,
          866,
          866,
          866,
          866
         ]
        }
       ],
       "layout": {
        "autosize": true,
        "margin": {
         "b": 10,
         "l": 10,
         "r": 20,
         "t": 10
        },
        "scene": {
         "aspectmode": "cube",
         "aspectratio": {
          "x": 1,
          "y": 1,
          "z": 1
         },
         "xaxis": {
          "nticks": 4,
          "range": [
           0,
           1000
          ],
          "type": "linear"
         },
         "yaxis": {
          "nticks": 4,
          "range": [
           0,
           1000
          ],
          "type": "linear"
         },
         "zaxis": {
          "nticks": 4,
          "range": [
           0,
           1000
          ],
          "type": "linear"
         }
        },
        "template": {
         "data": {
          "bar": [
           {
            "error_x": {
             "color": "#2a3f5f"
            },
            "error_y": {
             "color": "#2a3f5f"
            },
            "marker": {
             "line": {
              "color": "#E5ECF6",
              "width": 0.5
             },
             "pattern": {
              "fillmode": "overlay",
              "size": 10,
              "solidity": 0.2
             }
            },
            "type": "bar"
           }
          ],
          "barpolar": [
           {
            "marker": {
             "line": {
              "color": "#E5ECF6",
              "width": 0.5
             },
             "pattern": {
              "fillmode": "overlay",
              "size": 10,
              "solidity": 0.2
             }
            },
            "type": "barpolar"
           }
          ],
          "carpet": [
           {
            "aaxis": {
             "endlinecolor": "#2a3f5f",
             "gridcolor": "white",
             "linecolor": "white",
             "minorgridcolor": "white",
             "startlinecolor": "#2a3f5f"
            },
            "baxis": {
             "endlinecolor": "#2a3f5f",
             "gridcolor": "white",
             "linecolor": "white",
             "minorgridcolor": "white",
             "startlinecolor": "#2a3f5f"
            },
            "type": "carpet"
           }
          ],
          "choropleth": [
           {
            "colorbar": {
             "outlinewidth": 0,
             "ticks": ""
            },
            "type": "choropleth"
           }
          ],
          "contour": [
           {
            "colorbar": {
             "outlinewidth": 0,
             "ticks": ""
            },
            "colorscale": [
             [
              0,
              "#0d0887"
             ],
             [
              0.1111111111111111,
              "#46039f"
             ],
             [
              0.2222222222222222,
              "#7201a8"
             ],
             [
              0.3333333333333333,
              "#9c179e"
             ],
             [
              0.4444444444444444,
              "#bd3786"
             ],
             [
              0.5555555555555556,
              "#d8576b"
             ],
             [
              0.6666666666666666,
              "#ed7953"
             ],
             [
              0.7777777777777778,
              "#fb9f3a"
             ],
             [
              0.8888888888888888,
              "#fdca26"
             ],
             [
              1,
              "#f0f921"
             ]
            ],
            "type": "contour"
           }
          ],
          "contourcarpet": [
           {
            "colorbar": {
             "outlinewidth": 0,
             "ticks": ""
            },
            "type": "contourcarpet"
           }
          ],
          "heatmap": [
           {
            "colorbar": {
             "outlinewidth": 0,
             "ticks": ""
            },
            "colorscale": [
             [
              0,
              "#0d0887"
             ],
             [
              0.1111111111111111,
              "#46039f"
             ],
             [
              0.2222222222222222,
              "#7201a8"
             ],
             [
              0.3333333333333333,
              "#9c179e"
             ],
             [
              0.4444444444444444,
              "#bd3786"
             ],
             [
              0.5555555555555556,
              "#d8576b"
             ],
             [
              0.6666666666666666,
              "#ed7953"
             ],
             [
              0.7777777777777778,
              "#fb9f3a"
             ],
             [
              0.8888888888888888,
              "#fdca26"
             ],
             [
              1,
              "#f0f921"
             ]
            ],
            "type": "heatmap"
           }
          ],
          "heatmapgl": [
           {
            "colorbar": {
             "outlinewidth": 0,
             "ticks": ""
            },
            "colorscale": [
             [
              0,
              "#0d0887"
             ],
             [
              0.1111111111111111,
              "#46039f"
             ],
             [
              0.2222222222222222,
              "#7201a8"
             ],
             [
              0.3333333333333333,
              "#9c179e"
             ],
             [
              0.4444444444444444,
              "#bd3786"
             ],
             [
              0.5555555555555556,
              "#d8576b"
             ],
             [
              0.6666666666666666,
              "#ed7953"
             ],
             [
              0.7777777777777778,
              "#fb9f3a"
             ],
             [
              0.8888888888888888,
              "#fdca26"
             ],
             [
              1,
              "#f0f921"
             ]
            ],
            "type": "heatmapgl"
           }
          ],
          "histogram": [
           {
            "marker": {
             "pattern": {
              "fillmode": "overlay",
              "size": 10,
              "solidity": 0.2
             }
            },
            "type": "histogram"
           }
          ],
          "histogram2d": [
           {
            "colorbar": {
             "outlinewidth": 0,
             "ticks": ""
            },
            "colorscale": [
             [
              0,
              "#0d0887"
             ],
             [
              0.1111111111111111,
              "#46039f"
             ],
             [
              0.2222222222222222,
              "#7201a8"
             ],
             [
              0.3333333333333333,
              "#9c179e"
             ],
             [
              0.4444444444444444,
              "#bd3786"
             ],
             [
              0.5555555555555556,
              "#d8576b"
             ],
             [
              0.6666666666666666,
              "#ed7953"
             ],
             [
              0.7777777777777778,
              "#fb9f3a"
             ],
             [
              0.8888888888888888,
              "#fdca26"
             ],
             [
              1,
              "#f0f921"
             ]
            ],
            "type": "histogram2d"
           }
          ],
          "histogram2dcontour": [
           {
            "colorbar": {
             "outlinewidth": 0,
             "ticks": ""
            },
            "colorscale": [
             [
              0,
              "#0d0887"
             ],
             [
              0.1111111111111111,
              "#46039f"
             ],
             [
              0.2222222222222222,
              "#7201a8"
             ],
             [
              0.3333333333333333,
              "#9c179e"
             ],
             [
              0.4444444444444444,
              "#bd3786"
             ],
             [
              0.5555555555555556,
              "#d8576b"
             ],
             [
              0.6666666666666666,
              "#ed7953"
             ],
             [
              0.7777777777777778,
              "#fb9f3a"
             ],
             [
              0.8888888888888888,
              "#fdca26"
             ],
             [
              1,
              "#f0f921"
             ]
            ],
            "type": "histogram2dcontour"
           }
          ],
          "mesh3d": [
           {
            "colorbar": {
             "outlinewidth": 0,
             "ticks": ""
            },
            "type": "mesh3d"
           }
          ],
          "parcoords": [
           {
            "line": {
             "colorbar": {
              "outlinewidth": 0,
              "ticks": ""
             }
            },
            "type": "parcoords"
           }
          ],
          "pie": [
           {
            "automargin": true,
            "type": "pie"
           }
          ],
          "scatter": [
           {
            "fillpattern": {
             "fillmode": "overlay",
             "size": 10,
             "solidity": 0.2
            },
            "type": "scatter"
           }
          ],
          "scatter3d": [
           {
            "line": {
             "colorbar": {
              "outlinewidth": 0,
              "ticks": ""
             }
            },
            "marker": {
             "colorbar": {
              "outlinewidth": 0,
              "ticks": ""
             }
            },
            "type": "scatter3d"
           }
          ],
          "scattercarpet": [
           {
            "marker": {
             "colorbar": {
              "outlinewidth": 0,
              "ticks": ""
             }
            },
            "type": "scattercarpet"
           }
          ],
          "scattergeo": [
           {
            "marker": {
             "colorbar": {
              "outlinewidth": 0,
              "ticks": ""
             }
            },
            "type": "scattergeo"
           }
          ],
          "scattergl": [
           {
            "marker": {
             "colorbar": {
              "outlinewidth": 0,
              "ticks": ""
             }
            },
            "type": "scattergl"
           }
          ],
          "scattermapbox": [
           {
            "marker": {
             "colorbar": {
              "outlinewidth": 0,
              "ticks": ""
             }
            },
            "type": "scattermapbox"
           }
          ],
          "scatterpolar": [
           {
            "marker": {
             "colorbar": {
              "outlinewidth": 0,
              "ticks": ""
             }
            },
            "type": "scatterpolar"
           }
          ],
          "scatterpolargl": [
           {
            "marker": {
             "colorbar": {
              "outlinewidth": 0,
              "ticks": ""
             }
            },
            "type": "scatterpolargl"
           }
          ],
          "scatterternary": [
           {
            "marker": {
             "colorbar": {
              "outlinewidth": 0,
              "ticks": ""
             }
            },
            "type": "scatterternary"
           }
          ],
          "surface": [
           {
            "colorbar": {
             "outlinewidth": 0,
             "ticks": ""
            },
            "colorscale": [
             [
              0,
              "#0d0887"
             ],
             [
              0.1111111111111111,
              "#46039f"
             ],
             [
              0.2222222222222222,
              "#7201a8"
             ],
             [
              0.3333333333333333,
              "#9c179e"
             ],
             [
              0.4444444444444444,
              "#bd3786"
             ],
             [
              0.5555555555555556,
              "#d8576b"
             ],
             [
              0.6666666666666666,
              "#ed7953"
             ],
             [
              0.7777777777777778,
              "#fb9f3a"
             ],
             [
              0.8888888888888888,
              "#fdca26"
             ],
             [
              1,
              "#f0f921"
             ]
            ],
            "type": "surface"
           }
          ],
          "table": [
           {
            "cells": {
             "fill": {
              "color": "#EBF0F8"
             },
             "line": {
              "color": "white"
             }
            },
            "header": {
             "fill": {
              "color": "#C8D4E3"
             },
             "line": {
              "color": "white"
             }
            },
            "type": "table"
           }
          ]
         },
         "layout": {
          "annotationdefaults": {
           "arrowcolor": "#2a3f5f",
           "arrowhead": 0,
           "arrowwidth": 1
          },
          "autotypenumbers": "strict",
          "coloraxis": {
           "colorbar": {
            "outlinewidth": 0,
            "ticks": ""
           }
          },
          "colorscale": {
           "diverging": [
            [
             0,
             "#8e0152"
            ],
            [
             0.1,
             "#c51b7d"
            ],
            [
             0.2,
             "#de77ae"
            ],
            [
             0.3,
             "#f1b6da"
            ],
            [
             0.4,
             "#fde0ef"
            ],
            [
             0.5,
             "#f7f7f7"
            ],
            [
             0.6,
             "#e6f5d0"
            ],
            [
             0.7,
             "#b8e186"
            ],
            [
             0.8,
             "#7fbc41"
            ],
            [
             0.9,
             "#4d9221"
            ],
            [
             1,
             "#276419"
            ]
           ],
           "sequential": [
            [
             0,
             "#0d0887"
            ],
            [
             0.1111111111111111,
             "#46039f"
            ],
            [
             0.2222222222222222,
             "#7201a8"
            ],
            [
             0.3333333333333333,
             "#9c179e"
            ],
            [
             0.4444444444444444,
             "#bd3786"
            ],
            [
             0.5555555555555556,
             "#d8576b"
            ],
            [
             0.6666666666666666,
             "#ed7953"
            ],
            [
             0.7777777777777778,
             "#fb9f3a"
            ],
            [
             0.8888888888888888,
             "#fdca26"
            ],
            [
             1,
             "#f0f921"
            ]
           ],
           "sequentialminus": [
            [
             0,
             "#0d0887"
            ],
            [
             0.1111111111111111,
             "#46039f"
            ],
            [
             0.2222222222222222,
             "#7201a8"
            ],
            [
             0.3333333333333333,
             "#9c179e"
            ],
            [
             0.4444444444444444,
             "#bd3786"
            ],
            [
             0.5555555555555556,
             "#d8576b"
            ],
            [
             0.6666666666666666,
             "#ed7953"
            ],
            [
             0.7777777777777778,
             "#fb9f3a"
            ],
            [
             0.8888888888888888,
             "#fdca26"
            ],
            [
             1,
             "#f0f921"
            ]
           ]
          },
          "colorway": [
           "#636efa",
           "#EF553B",
           "#00cc96",
           "#ab63fa",
           "#FFA15A",
           "#19d3f3",
           "#FF6692",
           "#B6E880",
           "#FF97FF",
           "#FECB52"
          ],
          "font": {
           "color": "#2a3f5f"
          },
          "geo": {
           "bgcolor": "white",
           "lakecolor": "white",
           "landcolor": "#E5ECF6",
           "showlakes": true,
           "showland": true,
           "subunitcolor": "white"
          },
          "hoverlabel": {
           "align": "left"
          },
          "hovermode": "closest",
          "mapbox": {
           "style": "light"
          },
          "paper_bgcolor": "white",
          "plot_bgcolor": "#E5ECF6",
          "polar": {
           "angularaxis": {
            "gridcolor": "white",
            "linecolor": "white",
            "ticks": ""
           },
           "bgcolor": "#E5ECF6",
           "radialaxis": {
            "gridcolor": "white",
            "linecolor": "white",
            "ticks": ""
           }
          },
          "scene": {
           "xaxis": {
            "backgroundcolor": "#E5ECF6",
            "gridcolor": "white",
            "gridwidth": 2,
            "linecolor": "white",
            "showbackground": true,
            "ticks": "",
            "zerolinecolor": "white"
           },
           "yaxis": {
            "backgroundcolor": "#E5ECF6",
            "gridcolor": "white",
            "gridwidth": 2,
            "linecolor": "white",
            "showbackground": true,
            "ticks": "",
            "zerolinecolor": "white"
           },
           "zaxis": {
            "backgroundcolor": "#E5ECF6",
            "gridcolor": "white",
            "gridwidth": 2,
            "linecolor": "white",
            "showbackground": true,
            "ticks": "",
            "zerolinecolor": "white"
           }
          },
          "shapedefaults": {
           "line": {
            "color": "#2a3f5f"
           }
          },
          "ternary": {
           "aaxis": {
            "gridcolor": "white",
            "linecolor": "white",
            "ticks": ""
           },
           "baxis": {
            "gridcolor": "white",
            "linecolor": "white",
            "ticks": ""
           },
           "bgcolor": "#E5ECF6",
           "caxis": {
            "gridcolor": "white",
            "linecolor": "white",
            "ticks": ""
           }
          },
          "title": {
           "x": 0.05
          },
          "xaxis": {
           "automargin": true,
           "gridcolor": "white",
           "linecolor": "white",
           "ticks": "",
           "title": {
            "standoff": 15
           },
           "zerolinecolor": "white",
           "zerolinewidth": 2
          },
          "yaxis": {
           "automargin": true,
           "gridcolor": "white",
           "linecolor": "white",
           "ticks": "",
           "title": {
            "standoff": 15
           },
           "zerolinecolor": "white",
           "zerolinewidth": 2
          }
         }
        }
       }
      },
      "image/png": "[encoded data removed]",
      "text/html": [
       "<div>                            <div id=\"5cc4c734-cef1-4442-a29c-b40908f3f16e\" class=\"plotly-graph-div\" style=\"height:525px; width:700px;\"></div>            <script type=\"text/javascript\">                require([\"plotly\"], function(Plotly) {                    window.PLOTLYENV=window.PLOTLYENV || {};                                    if (document.getElementById(\"5cc4c734-cef1-4442-a29c-b40908f3f16e\")) {                    Plotly.newPlot(                        \"5cc4c734-cef1-4442-a29c-b40908f3f16e\",                        [{\"colorscale\":[[0,\"gold\"],[0.5,\"mediumturquoise\"],[1,\"magenta\"]],\"flatshading\":true,\"i\":[7,0,0,0,4,4,6,6,4,0,3,2],\"intensity\":[0.0,0.14285714285714285,0.2857142857142857,0.42857142857142855,0.5714285714285714,0.7142857142857142,0.8571428571428571,1.0],\"j\":[3,4,1,2,5,6,5,2,0,1,6,3],\"k\":[0,7,2,3,6,7,1,1,5,5,7,6],\"showlegend\":false,\"showscale\":false,\"x\":[396.0,396.0,399.0,399.0,396.0,396.0,399.0,399.0],\"y\":[743.0,784.0,784.0,743.0,743.0,784.0,784.0,743.0],\"z\":[20.0,20.0,20.0,20.0,69.0,69.0,69.0,69.0],\"type\":\"mesh3d\"},{\"colorscale\":[[0,\"gold\"],[0.5,\"mediumturquoise\"],[1,\"magenta\"]],\"flatshading\":true,\"i\":[7,0,0,0,4,4,6,6,4,0,3,2],\"intensity\":[0.0,0.14285714285714285,0.2857142857142857,0.42857142857142855,0.5714285714285714,0.7142857142857142,0.8571428571428571,1.0],\"j\":[3,4,1,2,5,6,5,2,0,1,6,3],\"k\":[0,7,2,3,6,7,1,1,5,5,7,6],\"showlegend\":false,\"showscale\":false,\"x\":[845.0,845.0,847.0,847.0,845.0,845.0,847.0,847.0],\"y\":[459.0,472.0,472.0,459.0,459.0,472.0,472.0,459.0],\"z\":[780.0,780.0,780.0,780.0,791.0,791.0,791.0,791.0],\"type\":\"mesh3d\"},{\"colorscale\":[[0,\"gold\"],[0.5,\"mediumturquoise\"],[1,\"magenta\"]],\"flatshading\":true,\"i\":[7,0,0,0,4,4,6,6,4,0,3,2],\"intensity\":[0.0,0.14285714285714285,0.2857142857142857,0.42857142857142855,0.5714285714285714,0.7142857142857142,0.8571428571428571,1.0],\"j\":[3,4,1,2,5,6,5,2,0,1,6,3],\"k\":[0,7,2,3,6,7,1,1,5,5,7,6],\"showlegend\":false,\"showscale\":false,\"x\":[340.0,340.0,392.0,392.0,340.0,340.0,392.0,392.0],\"y\":[630.0,631.0,631.0,630.0,630.0,631.0,631.0,630.0],\"z\":[896.0,896.0,896.0,896.0,898.0,898.0,898.0,898.0],\"type\":\"mesh3d\"},{\"colorscale\":[[0,\"gold\"],[0.5,\"mediumturquoise\"],[1,\"magenta\"]],\"flatshading\":true,\"i\":[7,0,0,0,4,4,6,6,4,0,3,2],\"intensity\":[0.0,0.14285714285714285,0.2857142857142857,0.42857142857142855,0.5714285714285714,0.7142857142857142,0.8571428571428571,1.0],\"j\":[3,4,1,2,5,6,5,2,0,1,6,3],\"k\":[0,7,2,3,6,7,1,1,5,5,7,6],\"showlegend\":false,\"showscale\":false,\"x\":[71.0,71.0,78.0,78.0,71.0,71.0,78.0,78.0],\"y\":[626.0,649.0,649.0,626.0,626.0,649.0,649.0,626.0],\"z\":[2.0,2.0,2.0,2.0,82.0,82.0,82.0,82.0],\"type\":\"mesh3d\"},{\"colorscale\":[[0,\"gold\"],[0.5,\"mediumturquoise\"],[1,\"magenta\"]],\"flatshading\":true,\"i\":[7,0,0,0,4,4,6,6,4,0,3,2],\"intensity\":[0.0,0.14285714285714285,0.2857142857142857,0.42857142857142855,0.5714285714285714,0.7142857142857142,0.8571428571428571,1.0],\"j\":[3,4,1,2,5,6,5,2,0,1,6,3],\"k\":[0,7,2,3,6,7,1,1,5,5,7,6],\"showlegend\":false,\"showscale\":false,\"x\":[582.0,582.0,591.0,591.0,582.0,582.0,591.0,591.0],\"y\":[911.0,912.0,912.0,911.0,911.0,912.0,912.0,911.0],\"z\":[358.0,358.0,358.0,358.0,384.0,384.0,384.0,384.0],\"type\":\"mesh3d\"},{\"colorscale\":[[0,\"gold\"],[0.5,\"mediumturquoise\"],[1,\"magenta\"]],\"flatshading\":true,\"i\":[7,0,0,0,4,4,6,6,4,0,3,2],\"intensity\":[0.0,0.14285714285714285,0.2857142857142857,0.42857142857142855,0.5714285714285714,0.7142857142857142,0.8571428571428571,1.0],\"j\":[3,4,1,2,5,6,5,2,0,1,6,3],\"k\":[0,7,2,3,6,7,1,1,5,5,7,6],\"showlegend\":false,\"showscale\":false,\"x\":[994.0,994.0,999.0,999.0,994.0,994.0,999.0,999.0],\"y\":[290.0,299.0,299.0,290.0,290.0,299.0,299.0,290.0],\"z\":[428.0,428.0,428.0,428.0,434.0,434.0,434.0,434.0],\"type\":\"mesh3d\"},{\"colorscale\":[[0,\"gold\"],[0.5,\"mediumturquoise\"],[1,\"magenta\"]],\"flatshading\":true,\"i\":[7,0,0,0,4,4,6,6,4,0,3,2],\"intensity\":[0.0,0.14285714285714285,0.2857142857142857,0.42857142857142855,0.5714285714285714,0.7142857142857142,0.8571428571428571,1.0],\"j\":[3,4,1,2,5,6,5,2,0,1,6,3],\"k\":[0,7,2,3,6,7,1,1,5,5,7,6],\"showlegend\":false,\"showscale\":false,\"x\":[45.0,45.0,56.0,56.0,45.0,45.0,56.0,56.0],\"y\":[41.0,62.0,62.0,41.0,41.0,62.0,62.0,41.0],\"z\":[732.0,732.0,732.0,732.0,771.0,771.0,771.0,771.0],\"type\":\"mesh3d\"},{\"colorscale\":[[0,\"gold\"],[0.5,\"mediumturquoise\"],[1,\"magenta\"]],\"flatshading\":true,\"i\":[7,0,0,0,4,4,6,6,4,0,3,2],\"intensity\":[0.0,0.14285714285714285,0.2857142857142857,0.42857142857142855,0.5714285714285714,0.7142857142857142,0.8571428571428571,1.0],\"j\":[3,4,1,2,5,6,5,2,0,1,6,3],\"k\":[0,7,2,3,6,7,1,1,5,5,7,6],\"showlegend\":false,\"showscale\":false,\"x\":[749.0,749.0,798.0,798.0,749.0,749.0,798.0,798.0],\"y\":[200.0,204.0,204.0,200.0,200.0,204.0,204.0,200.0],\"z\":[330.0,330.0,330.0,330.0,337.0,337.0,337.0,337.0],\"type\":\"mesh3d\"},{\"colorscale\":[[0,\"gold\"],[0.5,\"mediumturquoise\"],[1,\"magenta\"]],\"flatshading\":true,\"i\":[7,0,0,0,4,4,6,6,4,0,3,2],\"intensity\":[0.0,0.14285714285714285,0.2857142857142857,0.42857142857142855,0.5714285714285714,0.7142857142857142,0.8571428571428571,1.0],\"j\":[3,4,1,2,5,6,5,2,0,1,6,3],\"k\":[0,7,2,3,6,7,1,1,5,5,7,6],\"showlegend\":false,\"showscale\":false,\"x\":[360.0,360.0,393.0,393.0,360.0,360.0,393.0,393.0],\"y\":[62.0,97.0,97.0,62.0,62.0,97.0,97.0,62.0],\"z\":[248.0,248.0,248.0,248.0,282.0,282.0,282.0,282.0],\"type\":\"mesh3d\"},{\"colorscale\":[[0,\"gold\"],[0.5,\"mediumturquoise\"],[1,\"magenta\"]],\"flatshading\":true,\"i\":[7,0,0,0,4,4,6,6,4,0,3,2],\"intensity\":[0.0,0.14285714285714285,0.2857142857142857,0.42857142857142855,0.5714285714285714,0.7142857142857142,0.8571428571428571,1.0],\"j\":[3,4,1,2,5,6,5,2,0,1,6,3],\"k\":[0,7,2,3,6,7,1,1,5,5,7,6],\"showlegend\":false,\"showscale\":false,\"x\":[528.0,528.0,591.0,591.0,528.0,528.0,591.0,591.0],\"y\":[180.0,181.0,181.0,180.0,180.0,181.0,181.0,180.0],\"z\":[806.0,806.0,806.0,806.0,845.0,845.0,845.0,845.0],\"type\":\"mesh3d\"},{\"colorscale\":[[0,\"gold\"],[0.5,\"mediumturquoise\"],[1,\"magenta\"]],\"flatshading\":true,\"i\":[7,0,0,0,4,4,6,6,4,0,3,2],\"intensity\":[0.0,0.14285714285714285,0.2857142857142857,0.42857142857142855,0.5714285714285714,0.7142857142857142,0.8571428571428571,1.0],\"j\":[3,4,1,2,5,6,5,2,0,1,6,3],\"k\":[0,7,2,3,6,7,1,1,5,5,7,6],\"showlegend\":false,\"showscale\":false,\"x\":[938.0,938.0,947.0,947.0,938.0,938.0,947.0,947.0],\"y\":[39.0,98.0,98.0,39.0,39.0,98.0,98.0,39.0],\"z\":[389.0,389.0,389.0,389.0,394.0,394.0,394.0,394.0],\"type\":\"mesh3d\"},{\"colorscale\":[[0,\"gold\"],[0.5,\"mediumturquoise\"],[1,\"magenta\"]],\"flatshading\":true,\"i\":[7,0,0,0,4,4,6,6,4,0,3,2],\"intensity\":[0.0,0.14285714285714285,0.2857142857142857,0.42857142857142855,0.5714285714285714,0.7142857142857142,0.8571428571428571,1.0],\"j\":[3,4,1,2,5,6,5,2,0,1,6,3],\"k\":[0,7,2,3,6,7,1,1,5,5,7,6],\"showlegend\":false,\"showscale\":false,\"x\":[103.0,103.0,143.0,143.0,103.0,103.0,143.0,143.0],\"y\":[879.0,887.0,887.0,879.0,879.0,887.0,887.0,879.0],\"z\":[956.0,956.0,956.0,956.0,962.0,962.0,962.0,962.0],\"type\":\"mesh3d\"},{\"colorscale\":[[0,\"gold\"],[0.5,\"mediumturquoise\"],[1,\"magenta\"]],\"flatshading\":true,\"i\":[7,0,0,0,4,4,6,6,4,0,3,2],\"intensity\":[0.0,0.14285714285714285,0.2857142857142857,0.42857142857142855,0.5714285714285714,0.7142857142857142,0.8571428571428571,1.0],\"j\":[3,4,1,2,5,6,5,2,0,1,6,3],\"k\":[0,7,2,3,6,7,1,1,5,5,7,6],\"showlegend\":false,\"showscale\":false,\"x\":[404.0,404.0,492.0,492.0,404.0,404.0,492.0,492.0],\"y\":[179.0,180.0,180.0,179.0,179.0,180.0,180.0,179.0],\"z\":[621.0,621.0,621.0,621.0,626.0,626.0,626.0,626.0],\"type\":\"mesh3d\"},{\"colorscale\":[[0,\"gold\"],[0.5,\"mediumturquoise\"],[1,\"magenta\"]],\"flatshading\":true,\"i\":[7,0,0,0,4,4,6,6,4,0,3,2],\"intensity\":[0.0,0.14285714285714285,0.2857142857142857,0.42857142857142855,0.5714285714285714,0.7142857142857142,0.8571428571428571,1.0],\"j\":[3,4,1,2,5,6,5,2,0,1,6,3],\"k\":[0,7,2,3,6,7,1,1,5,5,7,6],\"showlegend\":false,\"showscale\":false,\"x\":[511.0,511.0,555.0,555.0,511.0,511.0,555.0,555.0],\"y\":[302.0,377.0,377.0,302.0,302.0,377.0,377.0,302.0],\"z\":[748.0,748.0,748.0,748.0,768.0,768.0,768.0,768.0],\"type\":\"mesh3d\"},{\"colorscale\":[[0,\"gold\"],[0.5,\"mediumturquoise\"],[1,\"magenta\"]],\"flatshading\":true,\"i\":[7,0,0,0,4,4,6,6,4,0,3,2],\"intensity\":[0.0,0.14285714285714285,0.2857142857142857,0.42857142857142855,0.5714285714285714,0.7142857142857142,0.8571428571428571,1.0],\"j\":[3,4,1,2,5,6,5,2,0,1,6,3],\"k\":[0,7,2,3,6,7,1,1,5,5,7,6],\"showlegend\":false,\"showscale\":false,\"x\":[578.0,578.0,579.0,579.0,578.0,578.0,579.0,579.0],\"y\":[344.0,398.0,398.0,344.0,344.0,398.0,398.0,344.0],\"z\":[910.0,910.0,910.0,910.0,962.0,962.0,962.0,962.0],\"type\":\"mesh3d\"},{\"colorscale\":[[0,\"gold\"],[0.5,\"mediumturquoise\"],[1,\"magenta\"]],\"flatshading\":true,\"i\":[7,0,0,0,4,4,6,6,4,0,3,2],\"intensity\":[0.0,0.14285714285714285,0.2857142857142857,0.42857142857142855,0.5714285714285714,0.7142857142857142,0.8571428571428571,1.0],\"j\":[3,4,1,2,5,6,5,2,0,1,6,3],\"k\":[0,7,2,3,6,7,1,1,5,5,7,6],\"showlegend\":false,\"showscale\":false,\"x\":[931.0,931.0,948.0,948.0,931.0,931.0,948.0,948.0],\"y\":[949.0,997.0,997.0,949.0,949.0,997.0,997.0,949.0],\"z\":[627.0,627.0,627.0,627.0,694.0,694.0,694.0,694.0],\"type\":\"mesh3d\"},{\"colorscale\":[[0,\"gold\"],[0.5,\"mediumturquoise\"],[1,\"magenta\"]],\"flatshading\":true,\"i\":[7,0,0,0,4,4,6,6,4,0,3,2],\"intensity\":[0.0,0.14285714285714285,0.2857142857142857,0.42857142857142855,0.5714285714285714,0.7142857142857142,0.8571428571428571,1.0],\"j\":[3,4,1,2,5,6,5,2,0,1,6,3],\"k\":[0,7,2,3,6,7,1,1,5,5,7,6],\"showlegend\":false,\"showscale\":false,\"x\":[452.0,452.0,463.0,463.0,452.0,452.0,463.0,463.0],\"y\":[189.0,193.0,193.0,189.0,189.0,193.0,193.0,189.0],\"z\":[351.0,351.0,351.0,351.0,374.0,374.0,374.0,374.0],\"type\":\"mesh3d\"},{\"colorscale\":[[0,\"gold\"],[0.5,\"mediumturquoise\"],[1,\"magenta\"]],\"flatshading\":true,\"i\":[7,0,0,0,4,4,6,6,4,0,3,2],\"intensity\":[0.0,0.14285714285714285,0.2857142857142857,0.42857142857142855,0.5714285714285714,0.7142857142857142,0.8571428571428571,1.0],\"j\":[3,4,1,2,5,6,5,2,0,1,6,3],\"k\":[0,7,2,3,6,7,1,1,5,5,7,6],\"showlegend\":false,\"showscale\":false,\"x\":[616.0,616.0,648.0,648.0,616.0,616.0,648.0,648.0],\"y\":[373.0,396.0,396.0,373.0,373.0,396.0,396.0,373.0],\"z\":[382.0,382.0,382.0,382.0,392.0,392.0,392.0,392.0],\"type\":\"mesh3d\"},{\"colorscale\":[[0,\"gold\"],[0.5,\"mediumturquoise\"],[1,\"magenta\"]],\"flatshading\":true,\"i\":[7,0,0,0,4,4,6,6,4,0,3,2],\"intensity\":[0.0,0.14285714285714285,0.2857142857142857,0.42857142857142855,0.5714285714285714,0.7142857142857142,0.8571428571428571,1.0],\"j\":[3,4,1,2,5,6,5,2,0,1,6,3],\"k\":[0,7,2,3,6,7,1,1,5,5,7,6],\"showlegend\":false,\"showscale\":false,\"x\":[317.0,317.0,368.0,368.0,317.0,317.0,368.0,368.0],\"y\":[636.0,676.0,676.0,636.0,636.0,676.0,676.0,636.0],\"z\":[130.0,130.0,130.0,130.0,131.0,131.0,131.0,131.0],\"type\":\"mesh3d\"},{\"colorscale\":[[0,\"gold\"],[0.5,\"mediumturquoise\"],[1,\"magenta\"]],\"flatshading\":true,\"i\":[7,0,0,0,4,4,6,6,4,0,3,2],\"intensity\":[0.0,0.14285714285714285,0.2857142857142857,0.42857142857142855,0.5714285714285714,0.7142857142857142,0.8571428571428571,1.0],\"j\":[3,4,1,2,5,6,5,2,0,1,6,3],\"k\":[0,7,2,3,6,7,1,1,5,5,7,6],\"showlegend\":false,\"showscale\":false,\"x\":[159.0,159.0,196.0,196.0,159.0,159.0,196.0,196.0],\"y\":[306.0,337.0,337.0,306.0,306.0,337.0,337.0,306.0],\"z\":[423.0,423.0,423.0,423.0,482.0,482.0,482.0,482.0],\"type\":\"mesh3d\"},{\"colorscale\":[[0,\"gold\"],[0.5,\"mediumturquoise\"],[1,\"magenta\"]],\"flatshading\":true,\"i\":[7,0,0,0,4,4,6,6,4,0,3,2],\"intensity\":[0.0,0.14285714285714285,0.2857142857142857,0.42857142857142855,0.5714285714285714,0.7142857142857142,0.8571428571428571,1.0],\"j\":[3,4,1,2,5,6,5,2,0,1,6,3],\"k\":[0,7,2,3,6,7,1,1,5,5,7,6],\"showlegend\":false,\"showscale\":false,\"x\":[418.0,418.0,422.0,422.0,418.0,418.0,422.0,422.0],\"y\":[710.0,761.0,761.0,710.0,710.0,761.0,761.0,710.0],\"z\":[226.0,226.0,226.0,226.0,288.0,288.0,288.0,288.0],\"type\":\"mesh3d\"},{\"colorscale\":[[0,\"gold\"],[0.5,\"mediumturquoise\"],[1,\"magenta\"]],\"flatshading\":true,\"i\":[7,0,0,0,4,4,6,6,4,0,3,2],\"intensity\":[0.0,0.14285714285714285,0.2857142857142857,0.42857142857142855,0.5714285714285714,0.7142857142857142,0.8571428571428571,1.0],\"j\":[3,4,1,2,5,6,5,2,0,1,6,3],\"k\":[0,7,2,3,6,7,1,1,5,5,7,6],\"showlegend\":false,\"showscale\":false,\"x\":[495.0,495.0,497.0,497.0,495.0,495.0,497.0,497.0],\"y\":[671.0,688.0,688.0,671.0,671.0,688.0,688.0,671.0],\"z\":[100.0,100.0,100.0,100.0,152.0,152.0,152.0,152.0],\"type\":\"mesh3d\"},{\"colorscale\":[[0,\"gold\"],[0.5,\"mediumturquoise\"],[1,\"magenta\"]],\"flatshading\":true,\"i\":[7,0,0,0,4,4,6,6,4,0,3,2],\"intensity\":[0.0,0.14285714285714285,0.2857142857142857,0.42857142857142855,0.5714285714285714,0.7142857142857142,0.8571428571428571,1.0],\"j\":[3,4,1,2,5,6,5,2,0,1,6,3],\"k\":[0,7,2,3,6,7,1,1,5,5,7,6],\"showlegend\":false,\"showscale\":false,\"x\":[872.0,872.0,892.0,892.0,872.0,872.0,892.0,892.0],\"y\":[838.0,846.0,846.0,838.0,838.0,846.0,846.0,838.0],\"z\":[664.0,664.0,664.0,664.0,667.0,667.0,667.0,667.0],\"type\":\"mesh3d\"},{\"colorscale\":[[0,\"gold\"],[0.5,\"mediumturquoise\"],[1,\"magenta\"]],\"flatshading\":true,\"i\":[7,0,0,0,4,4,6,6,4,0,3,2],\"intensity\":[0.0,0.14285714285714285,0.2857142857142857,0.42857142857142855,0.5714285714285714,0.7142857142857142,0.8571428571428571,1.0],\"j\":[3,4,1,2,5,6,5,2,0,1,6,3],\"k\":[0,7,2,3,6,7,1,1,5,5,7,6],\"showlegend\":false,\"showscale\":false,\"x\":[885.0,885.0,898.0,898.0,885.0,885.0,898.0,898.0],\"y\":[981.0,995.0,995.0,981.0,981.0,995.0,995.0,981.0],\"z\":[468.0,468.0,468.0,468.0,493.0,493.0,493.0,493.0],\"type\":\"mesh3d\"},{\"colorscale\":[[0,\"gold\"],[0.5,\"mediumturquoise\"],[1,\"magenta\"]],\"flatshading\":true,\"i\":[7,0,0,0,4,4,6,6,4,0,3,2],\"intensity\":[0.0,0.14285714285714285,0.2857142857142857,0.42857142857142855,0.5714285714285714,0.7142857142857142,0.8571428571428571,1.0],\"j\":[3,4,1,2,5,6,5,2,0,1,6,3],\"k\":[0,7,2,3,6,7,1,1,5,5,7,6],\"showlegend\":false,\"showscale\":false,\"x\":[84.0,84.0,88.0,88.0,84.0,84.0,88.0,88.0],\"y\":[485.0,488.0,488.0,485.0,485.0,488.0,488.0,485.0],\"z\":[551.0,551.0,551.0,551.0,595.0,595.0,595.0,595.0],\"type\":\"mesh3d\"},{\"colorscale\":[[0,\"gold\"],[0.5,\"mediumturquoise\"],[1,\"magenta\"]],\"flatshading\":true,\"i\":[7,0,0,0,4,4,6,6,4,0,3,2],\"intensity\":[0.0,0.14285714285714285,0.2857142857142857,0.42857142857142855,0.5714285714285714,0.7142857142857142,0.8571428571428571,1.0],\"j\":[3,4,1,2,5,6,5,2,0,1,6,3],\"k\":[0,7,2,3,6,7,1,1,5,5,7,6],\"showlegend\":false,\"showscale\":false,\"x\":[590.0,590.0,595.0,595.0,590.0,590.0,595.0,595.0],\"y\":[891.0,895.0,895.0,891.0,891.0,895.0,895.0,891.0],\"z\":[622.0,622.0,622.0,622.0,627.0,627.0,627.0,627.0],\"type\":\"mesh3d\"},{\"colorscale\":[[0,\"gold\"],[0.5,\"mediumturquoise\"],[1,\"magenta\"]],\"flatshading\":true,\"i\":[7,0,0,0,4,4,6,6,4,0,3,2],\"intensity\":[0.0,0.14285714285714285,0.2857142857142857,0.42857142857142855,0.5714285714285714,0.7142857142857142,0.8571428571428571,1.0],\"j\":[3,4,1,2,5,6,5,2,0,1,6,3],\"k\":[0,7,2,3,6,7,1,1,5,5,7,6],\"showlegend\":false,\"showscale\":false,\"x\":[739.0,739.0,769.0,769.0,739.0,739.0,769.0,769.0],\"y\":[948.0,993.0,993.0,948.0,948.0,993.0,993.0,948.0],\"z\":[518.0,518.0,518.0,518.0,524.0,524.0,524.0,524.0],\"type\":\"mesh3d\"},{\"colorscale\":[[0,\"gold\"],[0.5,\"mediumturquoise\"],[1,\"magenta\"]],\"flatshading\":true,\"i\":[7,0,0,0,4,4,6,6,4,0,3,2],\"intensity\":[0.0,0.14285714285714285,0.2857142857142857,0.42857142857142855,0.5714285714285714,0.7142857142857142,0.8571428571428571,1.0],\"j\":[3,4,1,2,5,6,5,2,0,1,6,3],\"k\":[0,7,2,3,6,7,1,1,5,5,7,6],\"showlegend\":false,\"showscale\":false,\"x\":[909.0,909.0,969.0,969.0,909.0,909.0,969.0,969.0],\"y\":[868.0,869.0,869.0,868.0,868.0,869.0,869.0,868.0],\"z\":[979.0,979.0,979.0,979.0,992.0,992.0,992.0,992.0],\"type\":\"mesh3d\"},{\"colorscale\":[[0,\"gold\"],[0.5,\"mediumturquoise\"],[1,\"magenta\"]],\"flatshading\":true,\"i\":[7,0,0,0,4,4,6,6,4,0,3,2],\"intensity\":[0.0,0.14285714285714285,0.2857142857142857,0.42857142857142855,0.5714285714285714,0.7142857142857142,0.8571428571428571,1.0],\"j\":[3,4,1,2,5,6,5,2,0,1,6,3],\"k\":[0,7,2,3,6,7,1,1,5,5,7,6],\"showlegend\":false,\"showscale\":false,\"x\":[898.0,898.0,899.0,899.0,898.0,898.0,899.0,899.0],\"y\":[761.0,781.0,781.0,761.0,761.0,781.0,781.0,761.0],\"z\":[687.0,687.0,687.0,687.0,696.0,696.0,696.0,696.0],\"type\":\"mesh3d\"},{\"colorscale\":[[0,\"gold\"],[0.5,\"mediumturquoise\"],[1,\"magenta\"]],\"flatshading\":true,\"i\":[7,0,0,0,4,4,6,6,4,0,3,2],\"intensity\":[0.0,0.14285714285714285,0.2857142857142857,0.42857142857142855,0.5714285714285714,0.7142857142857142,0.8571428571428571,1.0],\"j\":[3,4,1,2,5,6,5,2,0,1,6,3],\"k\":[0,7,2,3,6,7,1,1,5,5,7,6],\"showlegend\":false,\"showscale\":false,\"x\":[264.0,264.0,284.0,284.0,264.0,264.0,284.0,284.0],\"y\":[555.0,574.0,574.0,555.0,555.0,574.0,574.0,555.0],\"z\":[449.0,449.0,449.0,449.0,462.0,462.0,462.0,462.0],\"type\":\"mesh3d\"},{\"colorscale\":[[0,\"gold\"],[0.5,\"mediumturquoise\"],[1,\"magenta\"]],\"flatshading\":true,\"i\":[7,0,0,0,4,4,6,6,4,0,3,2],\"intensity\":[0.0,0.14285714285714285,0.2857142857142857,0.42857142857142855,0.5714285714285714,0.7142857142857142,0.8571428571428571,1.0],\"j\":[3,4,1,2,5,6,5,2,0,1,6,3],\"k\":[0,7,2,3,6,7,1,1,5,5,7,6],\"showlegend\":false,\"showscale\":false,\"x\":[686.0,686.0,695.0,695.0,686.0,686.0,695.0,695.0],\"y\":[702.0,774.0,774.0,702.0,702.0,774.0,774.0,702.0],\"z\":[245.0,245.0,245.0,245.0,257.0,257.0,257.0,257.0],\"type\":\"mesh3d\"},{\"colorscale\":[[0,\"gold\"],[0.5,\"mediumturquoise\"],[1,\"magenta\"]],\"flatshading\":true,\"i\":[7,0,0,0,4,4,6,6,4,0,3,2],\"intensity\":[0.0,0.14285714285714285,0.2857142857142857,0.42857142857142855,0.5714285714285714,0.7142857142857142,0.8571428571428571,1.0],\"j\":[3,4,1,2,5,6,5,2,0,1,6,3],\"k\":[0,7,2,3,6,7,1,1,5,5,7,6],\"showlegend\":false,\"showscale\":false,\"x\":[224.0,224.0,294.0,294.0,224.0,224.0,294.0,294.0],\"y\":[808.0,815.0,815.0,808.0,808.0,815.0,815.0,808.0],\"z\":[395.0,395.0,395.0,395.0,397.0,397.0,397.0,397.0],\"type\":\"mesh3d\"},{\"colorscale\":[[0,\"gold\"],[0.5,\"mediumturquoise\"],[1,\"magenta\"]],\"flatshading\":true,\"i\":[7,0,0,0,4,4,6,6,4,0,3,2],\"intensity\":[0.0,0.14285714285714285,0.2857142857142857,0.42857142857142855,0.5714285714285714,0.7142857142857142,0.8571428571428571,1.0],\"j\":[3,4,1,2,5,6,5,2,0,1,6,3],\"k\":[0,7,2,3,6,7,1,1,5,5,7,6],\"showlegend\":false,\"showscale\":false,\"x\":[195.0,195.0,197.0,197.0,195.0,195.0,197.0,197.0],\"y\":[765.0,770.0,770.0,765.0,765.0,770.0,770.0,765.0],\"z\":[745.0,745.0,745.0,745.0,794.0,794.0,794.0,794.0],\"type\":\"mesh3d\"},{\"colorscale\":[[0,\"gold\"],[0.5,\"mediumturquoise\"],[1,\"magenta\"]],\"flatshading\":true,\"i\":[7,0,0,0,4,4,6,6,4,0,3,2],\"intensity\":[0.0,0.14285714285714285,0.2857142857142857,0.42857142857142855,0.5714285714285714,0.7142857142857142,0.8571428571428571,1.0],\"j\":[3,4,1,2,5,6,5,2,0,1,6,3],\"k\":[0,7,2,3,6,7,1,1,5,5,7,6],\"showlegend\":false,\"showscale\":false,\"x\":[866.0,866.0,897.0,897.0,866.0,866.0,897.0,897.0],\"y\":[454.0,467.0,467.0,454.0,454.0,467.0,467.0,454.0],\"z\":[583.0,583.0,583.0,583.0,594.0,594.0,594.0,594.0],\"type\":\"mesh3d\"},{\"colorscale\":[[0,\"gold\"],[0.5,\"mediumturquoise\"],[1,\"magenta\"]],\"flatshading\":true,\"i\":[7,0,0,0,4,4,6,6,4,0,3,2],\"intensity\":[0.0,0.14285714285714285,0.2857142857142857,0.42857142857142855,0.5714285714285714,0.7142857142857142,0.8571428571428571,1.0],\"j\":[3,4,1,2,5,6,5,2,0,1,6,3],\"k\":[0,7,2,3,6,7,1,1,5,5,7,6],\"showlegend\":false,\"showscale\":false,\"x\":[792.0,792.0,797.0,797.0,792.0,792.0,797.0,797.0],\"y\":[850.0,860.0,860.0,850.0,850.0,860.0,860.0,850.0],\"z\":[934.0,934.0,934.0,934.0,968.0,968.0,968.0,968.0],\"type\":\"mesh3d\"},{\"colorscale\":[[0,\"gold\"],[0.5,\"mediumturquoise\"],[1,\"magenta\"]],\"flatshading\":true,\"i\":[7,0,0,0,4,4,6,6,4,0,3,2],\"intensity\":[0.0,0.14285714285714285,0.2857142857142857,0.42857142857142855,0.5714285714285714,0.7142857142857142,0.8571428571428571,1.0],\"j\":[3,4,1,2,5,6,5,2,0,1,6,3],\"k\":[0,7,2,3,6,7,1,1,5,5,7,6],\"showlegend\":false,\"showscale\":false,\"x\":[826.0,826.0,889.0,889.0,826.0,826.0,889.0,889.0],\"y\":[762.0,769.0,769.0,762.0,762.0,769.0,769.0,762.0],\"z\":[777.0,777.0,777.0,777.0,784.0,784.0,784.0,784.0],\"type\":\"mesh3d\"},{\"colorscale\":[[0,\"gold\"],[0.5,\"mediumturquoise\"],[1,\"magenta\"]],\"flatshading\":true,\"i\":[7,0,0,0,4,4,6,6,4,0,3,2],\"intensity\":[0.0,0.14285714285714285,0.2857142857142857,0.42857142857142855,0.5714285714285714,0.7142857142857142,0.8571428571428571,1.0],\"j\":[3,4,1,2,5,6,5,2,0,1,6,3],\"k\":[0,7,2,3,6,7,1,1,5,5,7,6],\"showlegend\":false,\"showscale\":false,\"x\":[304.0,304.0,373.0,373.0,304.0,304.0,373.0,373.0],\"y\":[560.0,567.0,567.0,560.0,560.0,567.0,567.0,560.0],\"z\":[935.0,935.0,935.0,935.0,979.0,979.0,979.0,979.0],\"type\":\"mesh3d\"},{\"colorscale\":[[0,\"gold\"],[0.5,\"mediumturquoise\"],[1,\"magenta\"]],\"flatshading\":true,\"i\":[7,0,0,0,4,4,6,6,4,0,3,2],\"intensity\":[0.0,0.14285714285714285,0.2857142857142857,0.42857142857142855,0.5714285714285714,0.7142857142857142,0.8571428571428571,1.0],\"j\":[3,4,1,2,5,6,5,2,0,1,6,3],\"k\":[0,7,2,3,6,7,1,1,5,5,7,6],\"showlegend\":false,\"showscale\":false,\"x\":[574.0,574.0,581.0,581.0,574.0,574.0,581.0,581.0],\"y\":[159.0,161.0,161.0,159.0,159.0,161.0,161.0,159.0],\"z\":[235.0,235.0,235.0,235.0,282.0,282.0,282.0,282.0],\"type\":\"mesh3d\"},{\"colorscale\":[[0,\"gold\"],[0.5,\"mediumturquoise\"],[1,\"magenta\"]],\"flatshading\":true,\"i\":[7,0,0,0,4,4,6,6,4,0,3,2],\"intensity\":[0.0,0.14285714285714285,0.2857142857142857,0.42857142857142855,0.5714285714285714,0.7142857142857142,0.8571428571428571,1.0],\"j\":[3,4,1,2,5,6,5,2,0,1,6,3],\"k\":[0,7,2,3,6,7,1,1,5,5,7,6],\"showlegend\":false,\"showscale\":false,\"x\":[668.0,668.0,688.0,688.0,668.0,668.0,688.0,688.0],\"y\":[9.0,74.0,74.0,9.0,9.0,74.0,74.0,9.0],\"z\":[497.0,497.0,497.0,497.0,499.0,499.0,499.0,499.0],\"type\":\"mesh3d\"},{\"colorscale\":[[0,\"gold\"],[0.5,\"mediumturquoise\"],[1,\"magenta\"]],\"flatshading\":true,\"i\":[7,0,0,0,4,4,6,6,4,0,3,2],\"intensity\":[0.0,0.14285714285714285,0.2857142857142857,0.42857142857142855,0.5714285714285714,0.7142857142857142,0.8571428571428571,1.0],\"j\":[3,4,1,2,5,6,5,2,0,1,6,3],\"k\":[0,7,2,3,6,7,1,1,5,5,7,6],\"showlegend\":false,\"showscale\":false,\"x\":[86.0,86.0,91.0,91.0,86.0,86.0,91.0,91.0],\"y\":[26.0,63.0,63.0,26.0,26.0,63.0,63.0,26.0],\"z\":[110.0,110.0,110.0,110.0,162.0,162.0,162.0,162.0],\"type\":\"mesh3d\"},{\"colorscale\":[[0,\"gold\"],[0.5,\"mediumturquoise\"],[1,\"magenta\"]],\"flatshading\":true,\"i\":[7,0,0,0,4,4,6,6,4,0,3,2],\"intensity\":[0.0,0.14285714285714285,0.2857142857142857,0.42857142857142855,0.5714285714285714,0.7142857142857142,0.8571428571428571,1.0],\"j\":[3,4,1,2,5,6,5,2,0,1,6,3],\"k\":[0,7,2,3,6,7,1,1,5,5,7,6],\"showlegend\":false,\"showscale\":false,\"x\":[539.0,539.0,561.0,561.0,539.0,539.0,561.0,561.0],\"y\":[91.0,97.0,97.0,91.0,91.0,97.0,97.0,91.0],\"z\":[559.0,559.0,559.0,559.0,598.0,598.0,598.0,598.0],\"type\":\"mesh3d\"},{\"colorscale\":[[0,\"gold\"],[0.5,\"mediumturquoise\"],[1,\"magenta\"]],\"flatshading\":true,\"i\":[7,0,0,0,4,4,6,6,4,0,3,2],\"intensity\":[0.0,0.14285714285714285,0.2857142857142857,0.42857142857142855,0.5714285714285714,0.7142857142857142,0.8571428571428571,1.0],\"j\":[3,4,1,2,5,6,5,2,0,1,6,3],\"k\":[0,7,2,3,6,7,1,1,5,5,7,6],\"showlegend\":false,\"showscale\":false,\"x\":[871.0,871.0,873.0,873.0,871.0,871.0,873.0,873.0],\"y\":[342.0,374.0,374.0,342.0,342.0,374.0,374.0,342.0],\"z\":[779.0,779.0,779.0,779.0,796.0,796.0,796.0,796.0],\"type\":\"mesh3d\"},{\"colorscale\":[[0,\"gold\"],[0.5,\"mediumturquoise\"],[1,\"magenta\"]],\"flatshading\":true,\"i\":[7,0,0,0,4,4,6,6,4,0,3,2],\"intensity\":[0.0,0.14285714285714285,0.2857142857142857,0.42857142857142855,0.5714285714285714,0.7142857142857142,0.8571428571428571,1.0],\"j\":[3,4,1,2,5,6,5,2,0,1,6,3],\"k\":[0,7,2,3,6,7,1,1,5,5,7,6],\"showlegend\":false,\"showscale\":false,\"x\":[876.0,876.0,895.0,895.0,876.0,876.0,895.0,895.0],\"y\":[248.0,261.0,261.0,248.0,248.0,261.0,261.0,248.0],\"z\":[939.0,939.0,939.0,939.0,979.0,979.0,979.0,979.0],\"type\":\"mesh3d\"},{\"colorscale\":[[0,\"gold\"],[0.5,\"mediumturquoise\"],[1,\"magenta\"]],\"flatshading\":true,\"i\":[7,0,0,0,4,4,6,6,4,0,3,2],\"intensity\":[0.0,0.14285714285714285,0.2857142857142857,0.42857142857142855,0.5714285714285714,0.7142857142857142,0.8571428571428571,1.0],\"j\":[3,4,1,2,5,6,5,2,0,1,6,3],\"k\":[0,7,2,3,6,7,1,1,5,5,7,6],\"showlegend\":false,\"showscale\":false,\"x\":[0.0,0.0,90.0,90.0,0.0,0.0,90.0,90.0],\"y\":[620.0,627.0,627.0,620.0,620.0,627.0,627.0,620.0],\"z\":[37.0,37.0,37.0,37.0,63.0,63.0,63.0,63.0],\"type\":\"mesh3d\"},{\"colorscale\":[[0,\"gold\"],[0.5,\"mediumturquoise\"],[1,\"magenta\"]],\"flatshading\":true,\"i\":[7,0,0,0,4,4,6,6,4,0,3,2],\"intensity\":[0.0,0.14285714285714285,0.2857142857142857,0.42857142857142855,0.5714285714285714,0.7142857142857142,0.8571428571428571,1.0],\"j\":[3,4,1,2,5,6,5,2,0,1,6,3],\"k\":[0,7,2,3,6,7,1,1,5,5,7,6],\"showlegend\":false,\"showscale\":false,\"x\":[203.0,203.0,228.0,228.0,203.0,203.0,228.0,228.0],\"y\":[982.0,993.0,993.0,982.0,982.0,993.0,993.0,982.0],\"z\":[464.0,464.0,464.0,464.0,480.0,480.0,480.0,480.0],\"type\":\"mesh3d\"},{\"colorscale\":[[0,\"gold\"],[0.5,\"mediumturquoise\"],[1,\"magenta\"]],\"flatshading\":true,\"i\":[7,0,0,0,4,4,6,6,4,0,3,2],\"intensity\":[0.0,0.14285714285714285,0.2857142857142857,0.42857142857142855,0.5714285714285714,0.7142857142857142,0.8571428571428571,1.0],\"j\":[3,4,1,2,5,6,5,2,0,1,6,3],\"k\":[0,7,2,3,6,7,1,1,5,5,7,6],\"showlegend\":false,\"showscale\":false,\"x\":[621.0,621.0,639.0,639.0,621.0,621.0,639.0,639.0],\"y\":[341.0,398.0,398.0,341.0,341.0,398.0,398.0,341.0],\"z\":[961.0,961.0,961.0,961.0,969.0,969.0,969.0,969.0],\"type\":\"mesh3d\"},{\"colorscale\":[[0,\"gold\"],[0.5,\"mediumturquoise\"],[1,\"magenta\"]],\"flatshading\":true,\"i\":[7,0,0,0,4,4,6,6,4,0,3,2],\"intensity\":[0.0,0.14285714285714285,0.2857142857142857,0.42857142857142855,0.5714285714285714,0.7142857142857142,0.8571428571428571,1.0],\"j\":[3,4,1,2,5,6,5,2,0,1,6,3],\"k\":[0,7,2,3,6,7,1,1,5,5,7,6],\"showlegend\":false,\"showscale\":false,\"x\":[590.0,590.0,597.0,597.0,590.0,590.0,597.0,597.0],\"y\":[565.0,573.0,573.0,565.0,565.0,573.0,573.0,565.0],\"z\":[935.0,935.0,935.0,935.0,967.0,967.0,967.0,967.0],\"type\":\"mesh3d\"},{\"colorscale\":[[0,\"gold\"],[0.5,\"mediumturquoise\"],[1,\"magenta\"]],\"flatshading\":true,\"i\":[7,0,0,0,4,4,6,6,4,0,3,2],\"intensity\":[0.0,0.14285714285714285,0.2857142857142857,0.42857142857142855,0.5714285714285714,0.7142857142857142,0.8571428571428571,1.0],\"j\":[3,4,1,2,5,6,5,2,0,1,6,3],\"k\":[0,7,2,3,6,7,1,1,5,5,7,6],\"showlegend\":false,\"showscale\":false,\"x\":[436.0,436.0,487.0,487.0,436.0,436.0,487.0,487.0],\"y\":[728.0,748.0,748.0,728.0,728.0,748.0,748.0,728.0],\"z\":[445.0,445.0,445.0,445.0,484.0,484.0,484.0,484.0],\"type\":\"mesh3d\"},{\"colorscale\":[[0,\"gold\"],[0.5,\"mediumturquoise\"],[1,\"magenta\"]],\"flatshading\":true,\"i\":[7,0,0,0,4,4,6,6,4,0,3,2],\"intensity\":[0.0,0.14285714285714285,0.2857142857142857,0.42857142857142855,0.5714285714285714,0.7142857142857142,0.8571428571428571,1.0],\"j\":[3,4,1,2,5,6,5,2,0,1,6,3],\"k\":[0,7,2,3,6,7,1,1,5,5,7,6],\"showlegend\":false,\"showscale\":false,\"x\":[790.0,790.0,793.0,793.0,790.0,790.0,793.0,793.0],\"y\":[814.0,850.0,850.0,814.0,814.0,850.0,850.0,814.0],\"z\":[373.0,373.0,373.0,373.0,377.0,377.0,377.0,377.0],\"type\":\"mesh3d\"},{\"colorscale\":[[0,\"gold\"],[0.5,\"mediumturquoise\"],[1,\"magenta\"]],\"flatshading\":true,\"i\":[7,0,0,0,4,4,6,6,4,0,3,2],\"intensity\":[0.0,0.14285714285714285,0.2857142857142857,0.42857142857142855,0.5714285714285714,0.7142857142857142,0.8571428571428571,1.0],\"j\":[3,4,1,2,5,6,5,2,0,1,6,3],\"k\":[0,7,2,3,6,7,1,1,5,5,7,6],\"showlegend\":false,\"showscale\":false,\"x\":[102.0,102.0,191.0,191.0,102.0,102.0,191.0,191.0],\"y\":[213.0,219.0,219.0,213.0,213.0,219.0,219.0,213.0],\"z\":[517.0,517.0,517.0,517.0,591.0,591.0,591.0,591.0],\"type\":\"mesh3d\"},{\"colorscale\":[[0,\"gold\"],[0.5,\"mediumturquoise\"],[1,\"magenta\"]],\"flatshading\":true,\"i\":[7,0,0,0,4,4,6,6,4,0,3,2],\"intensity\":[0.0,0.14285714285714285,0.2857142857142857,0.42857142857142855,0.5714285714285714,0.7142857142857142,0.8571428571428571,1.0],\"j\":[3,4,1,2,5,6,5,2,0,1,6,3],\"k\":[0,7,2,3,6,7,1,1,5,5,7,6],\"showlegend\":false,\"showscale\":false,\"x\":[252.0,252.0,272.0,272.0,252.0,252.0,272.0,272.0],\"y\":[384.0,385.0,385.0,384.0,384.0,385.0,385.0,384.0],\"z\":[105.0,105.0,105.0,105.0,134.0,134.0,134.0,134.0],\"type\":\"mesh3d\"},{\"colorscale\":[[0,\"gold\"],[0.5,\"mediumturquoise\"],[1,\"magenta\"]],\"flatshading\":true,\"i\":[7,0,0,0,4,4,6,6,4,0,3,2],\"intensity\":[0.0,0.14285714285714285,0.2857142857142857,0.42857142857142855,0.5714285714285714,0.7142857142857142,0.8571428571428571,1.0],\"j\":[3,4,1,2,5,6,5,2,0,1,6,3],\"k\":[0,7,2,3,6,7,1,1,5,5,7,6],\"showlegend\":false,\"showscale\":false,\"x\":[688.0,688.0,695.0,695.0,688.0,688.0,695.0,695.0],\"y\":[15.0,55.0,55.0,15.0,15.0,55.0,55.0,15.0],\"z\":[392.0,392.0,392.0,392.0,398.0,398.0,398.0,398.0],\"type\":\"mesh3d\"},{\"colorscale\":[[0,\"gold\"],[0.5,\"mediumturquoise\"],[1,\"magenta\"]],\"flatshading\":true,\"i\":[7,0,0,0,4,4,6,6,4,0,3,2],\"intensity\":[0.0,0.14285714285714285,0.2857142857142857,0.42857142857142855,0.5714285714285714,0.7142857142857142,0.8571428571428571,1.0],\"j\":[3,4,1,2,5,6,5,2,0,1,6,3],\"k\":[0,7,2,3,6,7,1,1,5,5,7,6],\"showlegend\":false,\"showscale\":false,\"x\":[678.0,678.0,688.0,688.0,678.0,678.0,688.0,688.0],\"y\":[172.0,178.0,178.0,172.0,172.0,178.0,178.0,172.0],\"z\":[579.0,579.0,579.0,579.0,581.0,581.0,581.0,581.0],\"type\":\"mesh3d\"},{\"colorscale\":[[0,\"gold\"],[0.5,\"mediumturquoise\"],[1,\"magenta\"]],\"flatshading\":true,\"i\":[7,0,0,0,4,4,6,6,4,0,3,2],\"intensity\":[0.0,0.14285714285714285,0.2857142857142857,0.42857142857142855,0.5714285714285714,0.7142857142857142,0.8571428571428571,1.0],\"j\":[3,4,1,2,5,6,5,2,0,1,6,3],\"k\":[0,7,2,3,6,7,1,1,5,5,7,6],\"showlegend\":false,\"showscale\":false,\"x\":[868.0,868.0,881.0,881.0,868.0,868.0,881.0,881.0],\"y\":[660.0,661.0,661.0,660.0,660.0,661.0,661.0,660.0],\"z\":[237.0,237.0,237.0,237.0,272.0,272.0,272.0,272.0],\"type\":\"mesh3d\"},{\"colorscale\":[[0,\"gold\"],[0.5,\"mediumturquoise\"],[1,\"magenta\"]],\"flatshading\":true,\"i\":[7,0,0,0,4,4,6,6,4,0,3,2],\"intensity\":[0.0,0.14285714285714285,0.2857142857142857,0.42857142857142855,0.5714285714285714,0.7142857142857142,0.8571428571428571,1.0],\"j\":[3,4,1,2,5,6,5,2,0,1,6,3],\"k\":[0,7,2,3,6,7,1,1,5,5,7,6],\"showlegend\":false,\"showscale\":false,\"x\":[671.0,671.0,685.0,685.0,671.0,671.0,685.0,685.0],\"y\":[660.0,683.0,683.0,660.0,660.0,683.0,683.0,660.0],\"z\":[836.0,836.0,836.0,836.0,861.0,861.0,861.0,861.0],\"type\":\"mesh3d\"},{\"colorscale\":[[0,\"gold\"],[0.5,\"mediumturquoise\"],[1,\"magenta\"]],\"flatshading\":true,\"i\":[7,0,0,0,4,4,6,6,4,0,3,2],\"intensity\":[0.0,0.14285714285714285,0.2857142857142857,0.42857142857142855,0.5714285714285714,0.7142857142857142,0.8571428571428571,1.0],\"j\":[3,4,1,2,5,6,5,2,0,1,6,3],\"k\":[0,7,2,3,6,7,1,1,5,5,7,6],\"showlegend\":false,\"showscale\":false,\"x\":[732.0,732.0,798.0,798.0,732.0,732.0,798.0,798.0],\"y\":[195.0,197.0,197.0,195.0,195.0,197.0,197.0,195.0],\"z\":[374.0,374.0,374.0,374.0,392.0,392.0,392.0,392.0],\"type\":\"mesh3d\"},{\"colorscale\":[[0,\"gold\"],[0.5,\"mediumturquoise\"],[1,\"magenta\"]],\"flatshading\":true,\"i\":[7,0,0,0,4,4,6,6,4,0,3,2],\"intensity\":[0.0,0.14285714285714285,0.2857142857142857,0.42857142857142855,0.5714285714285714,0.7142857142857142,0.8571428571428571,1.0],\"j\":[3,4,1,2,5,6,5,2,0,1,6,3],\"k\":[0,7,2,3,6,7,1,1,5,5,7,6],\"showlegend\":false,\"showscale\":false,\"x\":[480.0,480.0,485.0,485.0,480.0,480.0,485.0,485.0],\"y\":[31.0,46.0,46.0,31.0,31.0,46.0,46.0,31.0],\"z\":[946.0,946.0,946.0,946.0,977.0,977.0,977.0,977.0],\"type\":\"mesh3d\"},{\"colorscale\":[[0,\"gold\"],[0.5,\"mediumturquoise\"],[1,\"magenta\"]],\"flatshading\":true,\"i\":[7,0,0,0,4,4,6,6,4,0,3,2],\"intensity\":[0.0,0.14285714285714285,0.2857142857142857,0.42857142857142855,0.5714285714285714,0.7142857142857142,0.8571428571428571,1.0],\"j\":[3,4,1,2,5,6,5,2,0,1,6,3],\"k\":[0,7,2,3,6,7,1,1,5,5,7,6],\"showlegend\":false,\"showscale\":false,\"x\":[382.0,382.0,389.0,389.0,382.0,382.0,389.0,389.0],\"y\":[691.0,696.0,696.0,691.0,691.0,696.0,696.0,691.0],\"z\":[777.0,777.0,777.0,777.0,785.0,785.0,785.0,785.0],\"type\":\"mesh3d\"},{\"colorscale\":[[0,\"gold\"],[0.5,\"mediumturquoise\"],[1,\"magenta\"]],\"flatshading\":true,\"i\":[7,0,0,0,4,4,6,6,4,0,3,2],\"intensity\":[0.0,0.14285714285714285,0.2857142857142857,0.42857142857142855,0.5714285714285714,0.7142857142857142,0.8571428571428571,1.0],\"j\":[3,4,1,2,5,6,5,2,0,1,6,3],\"k\":[0,7,2,3,6,7,1,1,5,5,7,6],\"showlegend\":false,\"showscale\":false,\"x\":[508.0,508.0,530.0,530.0,508.0,508.0,530.0,530.0],\"y\":[407.0,478.0,478.0,407.0,407.0,478.0,478.0,407.0],\"z\":[353.0,353.0,353.0,353.0,372.0,372.0,372.0,372.0],\"type\":\"mesh3d\"},{\"colorscale\":[[0,\"gold\"],[0.5,\"mediumturquoise\"],[1,\"magenta\"]],\"flatshading\":true,\"i\":[7,0,0,0,4,4,6,6,4,0,3,2],\"intensity\":[0.0,0.14285714285714285,0.2857142857142857,0.42857142857142855,0.5714285714285714,0.7142857142857142,0.8571428571428571,1.0],\"j\":[3,4,1,2,5,6,5,2,0,1,6,3],\"k\":[0,7,2,3,6,7,1,1,5,5,7,6],\"showlegend\":false,\"showscale\":false,\"x\":[592.0,592.0,595.0,595.0,592.0,592.0,595.0,595.0],\"y\":[624.0,675.0,675.0,624.0,624.0,675.0,675.0,624.0],\"z\":[289.0,289.0,289.0,289.0,292.0,292.0,292.0,292.0],\"type\":\"mesh3d\"},{\"colorscale\":[[0,\"gold\"],[0.5,\"mediumturquoise\"],[1,\"magenta\"]],\"flatshading\":true,\"i\":[7,0,0,0,4,4,6,6,4,0,3,2],\"intensity\":[0.0,0.14285714285714285,0.2857142857142857,0.42857142857142855,0.5714285714285714,0.7142857142857142,0.8571428571428571,1.0],\"j\":[3,4,1,2,5,6,5,2,0,1,6,3],\"k\":[0,7,2,3,6,7,1,1,5,5,7,6],\"showlegend\":false,\"showscale\":false,\"x\":[546.0,546.0,559.0,559.0,546.0,546.0,559.0,559.0],\"y\":[681.0,689.0,689.0,681.0,681.0,689.0,689.0,681.0],\"z\":[313.0,313.0,313.0,313.0,370.0,370.0,370.0,370.0],\"type\":\"mesh3d\"},{\"colorscale\":[[0,\"gold\"],[0.5,\"mediumturquoise\"],[1,\"magenta\"]],\"flatshading\":true,\"i\":[7,0,0,0,4,4,6,6,4,0,3,2],\"intensity\":[0.0,0.14285714285714285,0.2857142857142857,0.42857142857142855,0.5714285714285714,0.7142857142857142,0.8571428571428571,1.0],\"j\":[3,4,1,2,5,6,5,2,0,1,6,3],\"k\":[0,7,2,3,6,7,1,1,5,5,7,6],\"showlegend\":false,\"showscale\":false,\"x\":[279.0,279.0,286.0,286.0,279.0,279.0,286.0,286.0],\"y\":[798.0,799.0,799.0,798.0,798.0,799.0,799.0,798.0],\"z\":[313.0,313.0,313.0,313.0,326.0,326.0,326.0,326.0],\"type\":\"mesh3d\"},{\"colorscale\":[[0,\"gold\"],[0.5,\"mediumturquoise\"],[1,\"magenta\"]],\"flatshading\":true,\"i\":[7,0,0,0,4,4,6,6,4,0,3,2],\"intensity\":[0.0,0.14285714285714285,0.2857142857142857,0.42857142857142855,0.5714285714285714,0.7142857142857142,0.8571428571428571,1.0],\"j\":[3,4,1,2,5,6,5,2,0,1,6,3],\"k\":[0,7,2,3,6,7,1,1,5,5,7,6],\"showlegend\":false,\"showscale\":false,\"x\":[119.0,119.0,120.0,120.0,119.0,119.0,120.0,120.0],\"y\":[821.0,884.0,884.0,821.0,821.0,884.0,884.0,821.0],\"z\":[722.0,722.0,722.0,722.0,778.0,778.0,778.0,778.0],\"type\":\"mesh3d\"},{\"colorscale\":[[0,\"gold\"],[0.5,\"mediumturquoise\"],[1,\"magenta\"]],\"flatshading\":true,\"i\":[7,0,0,0,4,4,6,6,4,0,3,2],\"intensity\":[0.0,0.14285714285714285,0.2857142857142857,0.42857142857142855,0.5714285714285714,0.7142857142857142,0.8571428571428571,1.0],\"j\":[3,4,1,2,5,6,5,2,0,1,6,3],\"k\":[0,7,2,3,6,7,1,1,5,5,7,6],\"showlegend\":false,\"showscale\":false,\"x\":[863.0,863.0,866.0,866.0,863.0,863.0,866.0,866.0],\"y\":[382.0,393.0,393.0,382.0,382.0,393.0,393.0,382.0],\"z\":[163.0,163.0,163.0,163.0,198.0,198.0,198.0,198.0],\"type\":\"mesh3d\"},{\"colorscale\":[[0,\"gold\"],[0.5,\"mediumturquoise\"],[1,\"magenta\"]],\"flatshading\":true,\"i\":[7,0,0,0,4,4,6,6,4,0,3,2],\"intensity\":[0.0,0.14285714285714285,0.2857142857142857,0.42857142857142855,0.5714285714285714,0.7142857142857142,0.8571428571428571,1.0],\"j\":[3,4,1,2,5,6,5,2,0,1,6,3],\"k\":[0,7,2,3,6,7,1,1,5,5,7,6],\"showlegend\":false,\"showscale\":false,\"x\":[791.0,791.0,794.0,794.0,791.0,791.0,794.0,794.0],\"y\":[417.0,465.0,465.0,417.0,417.0,465.0,465.0,417.0],\"z\":[191.0,191.0,191.0,191.0,196.0,196.0,196.0,196.0],\"type\":\"mesh3d\"},{\"colorscale\":[[0,\"gold\"],[0.5,\"mediumturquoise\"],[1,\"magenta\"]],\"flatshading\":true,\"i\":[7,0,0,0,4,4,6,6,4,0,3,2],\"intensity\":[0.0,0.14285714285714285,0.2857142857142857,0.42857142857142855,0.5714285714285714,0.7142857142857142,0.8571428571428571,1.0],\"j\":[3,4,1,2,5,6,5,2,0,1,6,3],\"k\":[0,7,2,3,6,7,1,1,5,5,7,6],\"showlegend\":false,\"showscale\":false,\"x\":[816.0,816.0,878.0,878.0,816.0,816.0,878.0,878.0],\"y\":[279.0,296.0,296.0,279.0,279.0,296.0,296.0,279.0],\"z\":[613.0,613.0,613.0,613.0,625.0,625.0,625.0,625.0],\"type\":\"mesh3d\"},{\"colorscale\":[[0,\"gold\"],[0.5,\"mediumturquoise\"],[1,\"magenta\"]],\"flatshading\":true,\"i\":[7,0,0,0,4,4,6,6,4,0,3,2],\"intensity\":[0.0,0.14285714285714285,0.2857142857142857,0.42857142857142855,0.5714285714285714,0.7142857142857142,0.8571428571428571,1.0],\"j\":[3,4,1,2,5,6,5,2,0,1,6,3],\"k\":[0,7,2,3,6,7,1,1,5,5,7,6],\"showlegend\":false,\"showscale\":false,\"x\":[435.0,435.0,487.0,487.0,435.0,435.0,487.0,487.0],\"y\":[12.0,20.0,20.0,12.0,12.0,20.0,20.0,12.0],\"z\":[190.0,190.0,190.0,190.0,196.0,196.0,196.0,196.0],\"type\":\"mesh3d\"},{\"colorscale\":[[0,\"gold\"],[0.5,\"mediumturquoise\"],[1,\"magenta\"]],\"flatshading\":true,\"i\":[7,0,0,0,4,4,6,6,4,0,3,2],\"intensity\":[0.0,0.14285714285714285,0.2857142857142857,0.42857142857142855,0.5714285714285714,0.7142857142857142,0.8571428571428571,1.0],\"j\":[3,4,1,2,5,6,5,2,0,1,6,3],\"k\":[0,7,2,3,6,7,1,1,5,5,7,6],\"showlegend\":false,\"showscale\":false,\"x\":[721.0,721.0,799.0,799.0,721.0,721.0,799.0,799.0],\"y\":[586.0,590.0,590.0,586.0,586.0,590.0,590.0,586.0],\"z\":[395.0,395.0,395.0,395.0,397.0,397.0,397.0,397.0],\"type\":\"mesh3d\"},{\"colorscale\":[[0,\"gold\"],[0.5,\"mediumturquoise\"],[1,\"magenta\"]],\"flatshading\":true,\"i\":[7,0,0,0,4,4,6,6,4,0,3,2],\"intensity\":[0.0,0.14285714285714285,0.2857142857142857,0.42857142857142855,0.5714285714285714,0.7142857142857142,0.8571428571428571,1.0],\"j\":[3,4,1,2,5,6,5,2,0,1,6,3],\"k\":[0,7,2,3,6,7,1,1,5,5,7,6],\"showlegend\":false,\"showscale\":false,\"x\":[401.0,401.0,473.0,473.0,401.0,401.0,473.0,473.0],\"y\":[54.0,99.0,99.0,54.0,54.0,99.0,99.0,54.0],\"z\":[356.0,356.0,356.0,356.0,376.0,376.0,376.0,376.0],\"type\":\"mesh3d\"},{\"colorscale\":[[0,\"gold\"],[0.5,\"mediumturquoise\"],[1,\"magenta\"]],\"flatshading\":true,\"i\":[7,0,0,0,4,4,6,6,4,0,3,2],\"intensity\":[0.0,0.14285714285714285,0.2857142857142857,0.42857142857142855,0.5714285714285714,0.7142857142857142,0.8571428571428571,1.0],\"j\":[3,4,1,2,5,6,5,2,0,1,6,3],\"k\":[0,7,2,3,6,7,1,1,5,5,7,6],\"showlegend\":false,\"showscale\":false,\"x\":[303.0,303.0,345.0,345.0,303.0,303.0,345.0,345.0],\"y\":[300.0,325.0,325.0,300.0,300.0,325.0,325.0,300.0],\"z\":[738.0,738.0,738.0,738.0,740.0,740.0,740.0,740.0],\"type\":\"mesh3d\"},{\"colorscale\":[[0,\"gold\"],[0.5,\"mediumturquoise\"],[1,\"magenta\"]],\"flatshading\":true,\"i\":[7,0,0,0,4,4,6,6,4,0,3,2],\"intensity\":[0.0,0.14285714285714285,0.2857142857142857,0.42857142857142855,0.5714285714285714,0.7142857142857142,0.8571428571428571,1.0],\"j\":[3,4,1,2,5,6,5,2,0,1,6,3],\"k\":[0,7,2,3,6,7,1,1,5,5,7,6],\"showlegend\":false,\"showscale\":false,\"x\":[729.0,729.0,773.0,773.0,729.0,729.0,773.0,773.0],\"y\":[684.0,690.0,690.0,684.0,684.0,690.0,690.0,684.0],\"z\":[961.0,961.0,961.0,961.0,968.0,968.0,968.0,968.0],\"type\":\"mesh3d\"},{\"colorscale\":[[0,\"gold\"],[0.5,\"mediumturquoise\"],[1,\"magenta\"]],\"flatshading\":true,\"i\":[7,0,0,0,4,4,6,6,4,0,3,2],\"intensity\":[0.0,0.14285714285714285,0.2857142857142857,0.42857142857142855,0.5714285714285714,0.7142857142857142,0.8571428571428571,1.0],\"j\":[3,4,1,2,5,6,5,2,0,1,6,3],\"k\":[0,7,2,3,6,7,1,1,5,5,7,6],\"showlegend\":false,\"showscale\":false,\"x\":[207.0,207.0,270.0,270.0,207.0,207.0,270.0,270.0],\"y\":[717.0,720.0,720.0,717.0,717.0,720.0,720.0,717.0],\"z\":[965.0,965.0,965.0,965.0,970.0,970.0,970.0,970.0],\"type\":\"mesh3d\"},{\"colorscale\":[[0,\"gold\"],[0.5,\"mediumturquoise\"],[1,\"magenta\"]],\"flatshading\":true,\"i\":[7,0,0,0,4,4,6,6,4,0,3,2],\"intensity\":[0.0,0.14285714285714285,0.2857142857142857,0.42857142857142855,0.5714285714285714,0.7142857142857142,0.8571428571428571,1.0],\"j\":[3,4,1,2,5,6,5,2,0,1,6,3],\"k\":[0,7,2,3,6,7,1,1,5,5,7,6],\"showlegend\":false,\"showscale\":false,\"x\":[214.0,214.0,226.0,226.0,214.0,214.0,226.0,226.0],\"y\":[267.0,283.0,283.0,267.0,267.0,283.0,283.0,267.0],\"z\":[563.0,563.0,563.0,563.0,580.0,580.0,580.0,580.0],\"type\":\"mesh3d\"},{\"colorscale\":[[0,\"gold\"],[0.5,\"mediumturquoise\"],[1,\"magenta\"]],\"flatshading\":true,\"i\":[7,0,0,0,4,4,6,6,4,0,3,2],\"intensity\":[0.0,0.14285714285714285,0.2857142857142857,0.42857142857142855,0.5714285714285714,0.7142857142857142,0.8571428571428571,1.0],\"j\":[3,4,1,2,5,6,5,2,0,1,6,3],\"k\":[0,7,2,3,6,7,1,1,5,5,7,6],\"showlegend\":false,\"showscale\":false,\"x\":[895.0,895.0,898.0,898.0,895.0,895.0,898.0,898.0],\"y\":[87.0,91.0,91.0,87.0,87.0,91.0,91.0,87.0],\"z\":[769.0,769.0,769.0,769.0,793.0,793.0,793.0,793.0],\"type\":\"mesh3d\"},{\"colorscale\":[[0,\"gold\"],[0.5,\"mediumturquoise\"],[1,\"magenta\"]],\"flatshading\":true,\"i\":[7,0,0,0,4,4,6,6,4,0,3,2],\"intensity\":[0.0,0.14285714285714285,0.2857142857142857,0.42857142857142855,0.5714285714285714,0.7142857142857142,0.8571428571428571,1.0],\"j\":[3,4,1,2,5,6,5,2,0,1,6,3],\"k\":[0,7,2,3,6,7,1,1,5,5,7,6],\"showlegend\":false,\"showscale\":false,\"x\":[60.0,60.0,61.0,61.0,60.0,60.0,61.0,61.0],\"y\":[307.0,384.0,384.0,307.0,307.0,384.0,384.0,307.0],\"z\":[357.0,357.0,357.0,357.0,376.0,376.0,376.0,376.0],\"type\":\"mesh3d\"},{\"colorscale\":[[0,\"gold\"],[0.5,\"mediumturquoise\"],[1,\"magenta\"]],\"flatshading\":true,\"i\":[7,0,0,0,4,4,6,6,4,0,3,2],\"intensity\":[0.0,0.14285714285714285,0.2857142857142857,0.42857142857142855,0.5714285714285714,0.7142857142857142,0.8571428571428571,1.0],\"j\":[3,4,1,2,5,6,5,2,0,1,6,3],\"k\":[0,7,2,3,6,7,1,1,5,5,7,6],\"showlegend\":false,\"showscale\":false,\"x\":[577.0,577.0,598.0,598.0,577.0,577.0,598.0,598.0],\"y\":[213.0,267.0,267.0,213.0,213.0,267.0,267.0,213.0],\"z\":[708.0,708.0,708.0,708.0,791.0,791.0,791.0,791.0],\"type\":\"mesh3d\"},{\"colorscale\":[[0,\"gold\"],[0.5,\"mediumturquoise\"],[1,\"magenta\"]],\"flatshading\":true,\"i\":[7,0,0,0,4,4,6,6,4,0,3,2],\"intensity\":[0.0,0.14285714285714285,0.2857142857142857,0.42857142857142855,0.5714285714285714,0.7142857142857142,0.8571428571428571,1.0],\"j\":[3,4,1,2,5,6,5,2,0,1,6,3],\"k\":[0,7,2,3,6,7,1,1,5,5,7,6],\"showlegend\":false,\"showscale\":false,\"x\":[232.0,232.0,284.0,284.0,232.0,232.0,284.0,284.0],\"y\":[521.0,563.0,563.0,521.0,521.0,563.0,563.0,521.0],\"z\":[606.0,606.0,606.0,606.0,650.0,650.0,650.0,650.0],\"type\":\"mesh3d\"},{\"colorscale\":[[0,\"gold\"],[0.5,\"mediumturquoise\"],[1,\"magenta\"]],\"flatshading\":true,\"i\":[7,0,0,0,4,4,6,6,4,0,3,2],\"intensity\":[0.0,0.14285714285714285,0.2857142857142857,0.42857142857142855,0.5714285714285714,0.7142857142857142,0.8571428571428571,1.0],\"j\":[3,4,1,2,5,6,5,2,0,1,6,3],\"k\":[0,7,2,3,6,7,1,1,5,5,7,6],\"showlegend\":false,\"showscale\":false,\"x\":[336.0,336.0,375.0,375.0,336.0,336.0,375.0,375.0],\"y\":[492.0,493.0,493.0,492.0,492.0,493.0,493.0,492.0],\"z\":[557.0,557.0,557.0,557.0,578.0,578.0,578.0,578.0],\"type\":\"mesh3d\"},{\"colorscale\":[[0,\"gold\"],[0.5,\"mediumturquoise\"],[1,\"magenta\"]],\"flatshading\":true,\"i\":[7,0,0,0,4,4,6,6,4,0,3,2],\"intensity\":[0.0,0.14285714285714285,0.2857142857142857,0.42857142857142855,0.5714285714285714,0.7142857142857142,0.8571428571428571,1.0],\"j\":[3,4,1,2,5,6,5,2,0,1,6,3],\"k\":[0,7,2,3,6,7,1,1,5,5,7,6],\"showlegend\":false,\"showscale\":false,\"x\":[384.0,384.0,385.0,385.0,384.0,384.0,385.0,385.0],\"y\":[797.0,799.0,799.0,797.0,797.0,799.0,799.0,797.0],\"z\":[228.0,228.0,228.0,228.0,237.0,237.0,237.0,237.0],\"type\":\"mesh3d\"},{\"colorscale\":[[0,\"gold\"],[0.5,\"mediumturquoise\"],[1,\"magenta\"]],\"flatshading\":true,\"i\":[7,0,0,0,4,4,6,6,4,0,3,2],\"intensity\":[0.0,0.14285714285714285,0.2857142857142857,0.42857142857142855,0.5714285714285714,0.7142857142857142,0.8571428571428571,1.0],\"j\":[3,4,1,2,5,6,5,2,0,1,6,3],\"k\":[0,7,2,3,6,7,1,1,5,5,7,6],\"showlegend\":false,\"showscale\":false,\"x\":[671.0,671.0,675.0,675.0,671.0,671.0,675.0,675.0],\"y\":[924.0,962.0,962.0,924.0,924.0,962.0,962.0,924.0],\"z\":[843.0,843.0,843.0,843.0,887.0,887.0,887.0,887.0],\"type\":\"mesh3d\"},{\"colorscale\":[[0,\"gold\"],[0.5,\"mediumturquoise\"],[1,\"magenta\"]],\"flatshading\":true,\"i\":[7,0,0,0,4,4,6,6,4,0,3,2],\"intensity\":[0.0,0.14285714285714285,0.2857142857142857,0.42857142857142855,0.5714285714285714,0.7142857142857142,0.8571428571428571,1.0],\"j\":[3,4,1,2,5,6,5,2,0,1,6,3],\"k\":[0,7,2,3,6,7,1,1,5,5,7,6],\"showlegend\":false,\"showscale\":false,\"x\":[837.0,837.0,862.0,862.0,837.0,837.0,862.0,862.0],\"y\":[901.0,911.0,911.0,901.0,901.0,911.0,911.0,901.0],\"z\":[168.0,168.0,168.0,168.0,193.0,193.0,193.0,193.0],\"type\":\"mesh3d\"},{\"colorscale\":[[0,\"gold\"],[0.5,\"mediumturquoise\"],[1,\"magenta\"]],\"flatshading\":true,\"i\":[7,0,0,0,4,4,6,6,4,0,3,2],\"intensity\":[0.0,0.14285714285714285,0.2857142857142857,0.42857142857142855,0.5714285714285714,0.7142857142857142,0.8571428571428571,1.0],\"j\":[3,4,1,2,5,6,5,2,0,1,6,3],\"k\":[0,7,2,3,6,7,1,1,5,5,7,6],\"showlegend\":false,\"showscale\":false,\"x\":[904.0,904.0,951.0,951.0,904.0,904.0,951.0,951.0],\"y\":[362.0,370.0,370.0,362.0,362.0,370.0,370.0,362.0],\"z\":[912.0,912.0,912.0,912.0,941.0,941.0,941.0,941.0],\"type\":\"mesh3d\"},{\"colorscale\":[[0,\"gold\"],[0.5,\"mediumturquoise\"],[1,\"magenta\"]],\"flatshading\":true,\"i\":[7,0,0,0,4,4,6,6,4,0,3,2],\"intensity\":[0.0,0.14285714285714285,0.2857142857142857,0.42857142857142855,0.5714285714285714,0.7142857142857142,0.8571428571428571,1.0],\"j\":[3,4,1,2,5,6,5,2,0,1,6,3],\"k\":[0,7,2,3,6,7,1,1,5,5,7,6],\"showlegend\":false,\"showscale\":false,\"x\":[688.0,688.0,692.0,692.0,688.0,688.0,692.0,692.0],\"y\":[993.0,996.0,996.0,993.0,993.0,996.0,996.0,993.0],\"z\":[812.0,812.0,812.0,812.0,873.0,873.0,873.0,873.0],\"type\":\"mesh3d\"},{\"colorscale\":[[0,\"gold\"],[0.5,\"mediumturquoise\"],[1,\"magenta\"]],\"flatshading\":true,\"i\":[7,0,0,0,4,4,6,6,4,0,3,2],\"intensity\":[0.0,0.14285714285714285,0.2857142857142857,0.42857142857142855,0.5714285714285714,0.7142857142857142,0.8571428571428571,1.0],\"j\":[3,4,1,2,5,6,5,2,0,1,6,3],\"k\":[0,7,2,3,6,7,1,1,5,5,7,6],\"showlegend\":false,\"showscale\":false,\"x\":[883.0,883.0,898.0,898.0,883.0,883.0,898.0,898.0],\"y\":[828.0,886.0,886.0,828.0,828.0,886.0,886.0,828.0],\"z\":[242.0,242.0,242.0,242.0,258.0,258.0,258.0,258.0],\"type\":\"mesh3d\"},{\"colorscale\":[[0,\"gold\"],[0.5,\"mediumturquoise\"],[1,\"magenta\"]],\"flatshading\":true,\"i\":[7,0,0,0,4,4,6,6,4,0,3,2],\"intensity\":[0.0,0.14285714285714285,0.2857142857142857,0.42857142857142855,0.5714285714285714,0.7142857142857142,0.8571428571428571,1.0],\"j\":[3,4,1,2,5,6,5,2,0,1,6,3],\"k\":[0,7,2,3,6,7,1,1,5,5,7,6],\"showlegend\":false,\"showscale\":false,\"x\":[755.0,755.0,788.0,788.0,755.0,755.0,788.0,788.0],\"y\":[596.0,597.0,597.0,596.0,596.0,597.0,597.0,596.0],\"z\":[679.0,679.0,679.0,679.0,682.0,682.0,682.0,682.0],\"type\":\"mesh3d\"},{\"colorscale\":[[0,\"gold\"],[0.5,\"mediumturquoise\"],[1,\"magenta\"]],\"flatshading\":true,\"i\":[7,0,0,0,4,4,6,6,4,0,3,2],\"intensity\":[0.0,0.14285714285714285,0.2857142857142857,0.42857142857142855,0.5714285714285714,0.7142857142857142,0.8571428571428571,1.0],\"j\":[3,4,1,2,5,6,5,2,0,1,6,3],\"k\":[0,7,2,3,6,7,1,1,5,5,7,6],\"showlegend\":false,\"showscale\":false,\"x\":[172.0,172.0,179.0,179.0,172.0,172.0,179.0,179.0],\"y\":[58.0,72.0,72.0,58.0,58.0,72.0,72.0,58.0],\"z\":[374.0,374.0,374.0,374.0,386.0,386.0,386.0,386.0],\"type\":\"mesh3d\"},{\"colorscale\":[[0,\"gold\"],[0.5,\"mediumturquoise\"],[1,\"magenta\"]],\"flatshading\":true,\"i\":[7,0,0,0,4,4,6,6,4,0,3,2],\"intensity\":[0.0,0.14285714285714285,0.2857142857142857,0.42857142857142855,0.5714285714285714,0.7142857142857142,0.8571428571428571,1.0],\"j\":[3,4,1,2,5,6,5,2,0,1,6,3],\"k\":[0,7,2,3,6,7,1,1,5,5,7,6],\"showlegend\":false,\"showscale\":false,\"x\":[666.0,666.0,691.0,691.0,666.0,666.0,691.0,691.0],\"y\":[292.0,294.0,294.0,292.0,292.0,294.0,294.0,292.0],\"z\":[683.0,683.0,683.0,683.0,696.0,696.0,696.0,696.0],\"type\":\"mesh3d\"},{\"colorscale\":[[0,\"gold\"],[0.5,\"mediumturquoise\"],[1,\"magenta\"]],\"flatshading\":true,\"i\":[7,0,0,0,4,4,6,6,4,0,3,2],\"intensity\":[0.0,0.14285714285714285,0.2857142857142857,0.42857142857142855,0.5714285714285714,0.7142857142857142,0.8571428571428571,1.0],\"j\":[3,4,1,2,5,6,5,2,0,1,6,3],\"k\":[0,7,2,3,6,7,1,1,5,5,7,6],\"showlegend\":false,\"showscale\":false,\"x\":[466.0,466.0,490.0,490.0,466.0,466.0,490.0,490.0],\"y\":[710.0,716.0,716.0,710.0,710.0,716.0,716.0,710.0],\"z\":[726.0,726.0,726.0,726.0,756.0,756.0,756.0,756.0],\"type\":\"mesh3d\"},{\"colorscale\":[[0,\"gold\"],[0.5,\"mediumturquoise\"],[1,\"magenta\"]],\"flatshading\":true,\"i\":[7,0,0,0,4,4,6,6,4,0,3,2],\"intensity\":[0.0,0.14285714285714285,0.2857142857142857,0.42857142857142855,0.5714285714285714,0.7142857142857142,0.8571428571428571,1.0],\"j\":[3,4,1,2,5,6,5,2,0,1,6,3],\"k\":[0,7,2,3,6,7,1,1,5,5,7,6],\"showlegend\":false,\"showscale\":false,\"x\":[800.0,800.0,871.0,871.0,800.0,800.0,871.0,871.0],\"y\":[333.0,343.0,343.0,333.0,333.0,343.0,343.0,333.0],\"z\":[17.0,17.0,17.0,17.0,37.0,37.0,37.0,37.0],\"type\":\"mesh3d\"},{\"colorscale\":[[0,\"gold\"],[0.5,\"mediumturquoise\"],[1,\"magenta\"]],\"flatshading\":true,\"i\":[7,0,0,0,4,4,6,6,4,0,3,2],\"intensity\":[0.0,0.14285714285714285,0.2857142857142857,0.42857142857142855,0.5714285714285714,0.7142857142857142,0.8571428571428571,1.0],\"j\":[3,4,1,2,5,6,5,2,0,1,6,3],\"k\":[0,7,2,3,6,7,1,1,5,5,7,6],\"showlegend\":false,\"showscale\":false,\"x\":[145.0,145.0,162.0,162.0,145.0,145.0,162.0,162.0],\"y\":[915.0,953.0,953.0,915.0,915.0,953.0,953.0,915.0],\"z\":[686.0,686.0,686.0,686.0,691.0,691.0,691.0,691.0],\"type\":\"mesh3d\"},{\"colorscale\":[[0,\"gold\"],[0.5,\"mediumturquoise\"],[1,\"magenta\"]],\"flatshading\":true,\"i\":[7,0,0,0,4,4,6,6,4,0,3,2],\"intensity\":[0.0,0.14285714285714285,0.2857142857142857,0.42857142857142855,0.5714285714285714,0.7142857142857142,0.8571428571428571,1.0],\"j\":[3,4,1,2,5,6,5,2,0,1,6,3],\"k\":[0,7,2,3,6,7,1,1,5,5,7,6],\"showlegend\":false,\"showscale\":false,\"x\":[529.0,529.0,532.0,532.0,529.0,529.0,532.0,532.0],\"y\":[935.0,991.0,991.0,935.0,935.0,991.0,991.0,935.0],\"z\":[677.0,677.0,677.0,677.0,692.0,692.0,692.0,692.0],\"type\":\"mesh3d\"},{\"colorscale\":[[0,\"gold\"],[0.5,\"mediumturquoise\"],[1,\"magenta\"]],\"flatshading\":true,\"i\":[7,0,0,0,4,4,6,6,4,0,3,2],\"intensity\":[0.0,0.14285714285714285,0.2857142857142857,0.42857142857142855,0.5714285714285714,0.7142857142857142,0.8571428571428571,1.0],\"j\":[3,4,1,2,5,6,5,2,0,1,6,3],\"k\":[0,7,2,3,6,7,1,1,5,5,7,6],\"showlegend\":false,\"showscale\":false,\"x\":[244.0,244.0,267.0,267.0,244.0,244.0,267.0,267.0],\"y\":[663.0,664.0,664.0,663.0,663.0,664.0,664.0,663.0],\"z\":[650.0,650.0,650.0,650.0,655.0,655.0,655.0,655.0],\"type\":\"mesh3d\"},{\"colorscale\":[[0,\"gold\"],[0.5,\"mediumturquoise\"],[1,\"magenta\"]],\"flatshading\":true,\"i\":[7,0,0,0,4,4,6,6,4,0,3,2],\"intensity\":[0.0,0.14285714285714285,0.2857142857142857,0.42857142857142855,0.5714285714285714,0.7142857142857142,0.8571428571428571,1.0],\"j\":[3,4,1,2,5,6,5,2,0,1,6,3],\"k\":[0,7,2,3,6,7,1,1,5,5,7,6],\"showlegend\":false,\"showscale\":false,\"x\":[133.0,133.0,172.0,172.0,133.0,133.0,172.0,172.0],\"y\":[182.0,192.0,192.0,182.0,182.0,192.0,192.0,182.0],\"z\":[407.0,407.0,407.0,407.0,493.0,493.0,493.0,493.0],\"type\":\"mesh3d\"},{\"colorscale\":[[0,\"gold\"],[0.5,\"mediumturquoise\"],[1,\"magenta\"]],\"flatshading\":true,\"i\":[7,0,0,0,4,4,6,6,4,0,3,2],\"intensity\":[0.0,0.14285714285714285,0.2857142857142857,0.42857142857142855,0.5714285714285714,0.7142857142857142,0.8571428571428571,1.0],\"j\":[3,4,1,2,5,6,5,2,0,1,6,3],\"k\":[0,7,2,3,6,7,1,1,5,5,7,6],\"showlegend\":false,\"showscale\":false,\"x\":[730.0,730.0,745.0,745.0,730.0,730.0,745.0,745.0],\"y\":[212.0,236.0,236.0,212.0,212.0,236.0,236.0,212.0],\"z\":[197.0,197.0,197.0,197.0,199.0,199.0,199.0,199.0],\"type\":\"mesh3d\"},{\"colorscale\":[[0,\"gold\"],[0.5,\"mediumturquoise\"],[1,\"magenta\"]],\"flatshading\":true,\"i\":[7,0,0,0,4,4,6,6,4,0,3,2],\"intensity\":[0.0,0.14285714285714285,0.2857142857142857,0.42857142857142855,0.5714285714285714,0.7142857142857142,0.8571428571428571,1.0],\"j\":[3,4,1,2,5,6,5,2,0,1,6,3],\"k\":[0,7,2,3,6,7,1,1,5,5,7,6],\"showlegend\":false,\"showscale\":false,\"x\":[270.0,270.0,291.0,291.0,270.0,270.0,291.0,291.0],\"y\":[591.0,595.0,595.0,591.0,591.0,595.0,595.0,591.0],\"z\":[908.0,908.0,908.0,908.0,913.0,913.0,913.0,913.0],\"type\":\"mesh3d\"},{\"colorscale\":[[0,\"gold\"],[0.5,\"mediumturquoise\"],[1,\"magenta\"]],\"flatshading\":true,\"i\":[7,0,0,0,4,4,6,6,4,0,3,2],\"intensity\":[0.0,0.14285714285714285,0.2857142857142857,0.42857142857142855,0.5714285714285714,0.7142857142857142,0.8571428571428571,1.0],\"j\":[3,4,1,2,5,6,5,2,0,1,6,3],\"k\":[0,7,2,3,6,7,1,1,5,5,7,6],\"showlegend\":false,\"showscale\":false,\"x\":[576.0,576.0,582.0,582.0,576.0,576.0,582.0,582.0],\"y\":[146.0,170.0,170.0,146.0,146.0,170.0,170.0,146.0],\"z\":[909.0,909.0,909.0,909.0,983.0,983.0,983.0,983.0],\"type\":\"mesh3d\"},{\"colorscale\":[[0,\"gold\"],[0.5,\"mediumturquoise\"],[1,\"magenta\"]],\"flatshading\":true,\"i\":[7,0,0,0,4,4,6,6,4,0,3,2],\"intensity\":[0.0,0.14285714285714285,0.2857142857142857,0.42857142857142855,0.5714285714285714,0.7142857142857142,0.8571428571428571,1.0],\"j\":[3,4,1,2,5,6,5,2,0,1,6,3],\"k\":[0,7,2,3,6,7,1,1,5,5,7,6],\"showlegend\":false,\"showscale\":false,\"x\":[627.0,627.0,663.0,663.0,627.0,627.0,663.0,663.0],\"y\":[86.0,93.0,93.0,86.0,86.0,93.0,93.0,86.0],\"z\":[736.0,736.0,736.0,736.0,791.0,791.0,791.0,791.0],\"type\":\"mesh3d\"},{\"colorscale\":[[0,\"gold\"],[0.5,\"mediumturquoise\"],[1,\"magenta\"]],\"flatshading\":true,\"i\":[7,0,0,0,4,4,6,6,4,0,3,2],\"intensity\":[0.0,0.14285714285714285,0.2857142857142857,0.42857142857142855,0.5714285714285714,0.7142857142857142,0.8571428571428571,1.0],\"j\":[3,4,1,2,5,6,5,2,0,1,6,3],\"k\":[0,7,2,3,6,7,1,1,5,5,7,6],\"showlegend\":false,\"showscale\":false,\"x\":[11.0,11.0,80.0,80.0,11.0,11.0,80.0,80.0],\"y\":[78.0,99.0,99.0,78.0,78.0,99.0,99.0,78.0],\"z\":[975.0,975.0,975.0,975.0,986.0,986.0,986.0,986.0],\"type\":\"mesh3d\"},{\"colorscale\":[[0,\"gold\"],[0.5,\"mediumturquoise\"],[1,\"magenta\"]],\"flatshading\":true,\"i\":[7,0,0,0,4,4,6,6,4,0,3,2],\"intensity\":[0.0,0.14285714285714285,0.2857142857142857,0.42857142857142855,0.5714285714285714,0.7142857142857142,0.8571428571428571,1.0],\"j\":[3,4,1,2,5,6,5,2,0,1,6,3],\"k\":[0,7,2,3,6,7,1,1,5,5,7,6],\"showlegend\":false,\"showscale\":false,\"x\":[211.0,211.0,281.0,281.0,211.0,211.0,281.0,281.0],\"y\":[151.0,174.0,174.0,151.0,151.0,174.0,174.0,151.0],\"z\":[57.0,57.0,57.0,57.0,84.0,84.0,84.0,84.0],\"type\":\"mesh3d\"},{\"colorscale\":[[0,\"gold\"],[0.5,\"mediumturquoise\"],[1,\"magenta\"]],\"flatshading\":true,\"i\":[7,0,0,0,4,4,6,6,4,0,3,2],\"intensity\":[0.0,0.14285714285714285,0.2857142857142857,0.42857142857142855,0.5714285714285714,0.7142857142857142,0.8571428571428571,1.0],\"j\":[3,4,1,2,5,6,5,2,0,1,6,3],\"k\":[0,7,2,3,6,7,1,1,5,5,7,6],\"showlegend\":false,\"showscale\":false,\"x\":[513.0,513.0,567.0,567.0,513.0,513.0,567.0,567.0],\"y\":[209.0,278.0,278.0,209.0,209.0,278.0,278.0,209.0],\"z\":[802.0,802.0,802.0,802.0,866.0,866.0,866.0,866.0],\"type\":\"mesh3d\"}],                        {\"template\":{\"data\":{\"histogram2dcontour\":[{\"type\":\"histogram2dcontour\",\"colorbar\":{\"outlinewidth\":0,\"ticks\":\"\"},\"colorscale\":[[0.0,\"#0d0887\"],[0.1111111111111111,\"#46039f\"],[0.2222222222222222,\"#7201a8\"],[0.3333333333333333,\"#9c179e\"],[0.4444444444444444,\"#bd3786\"],[0.5555555555555556,\"#d8576b\"],[0.6666666666666666,\"#ed7953\"],[0.7777777777777778,\"#fb9f3a\"],[0.8888888888888888,\"#fdca26\"],[1.0,\"#f0f921\"]]}],\"choropleth\":[{\"type\":\"choropleth\",\"colorbar\":{\"outlinewidth\":0,\"ticks\":\"\"}}],\"histogram2d\":[{\"type\":\"histogram2d\",\"colorbar\":{\"outlinewidth\":0,\"ticks\":\"\"},\"colorscale\":[[0.0,\"#0d0887\"],[0.1111111111111111,\"#46039f\"],[0.2222222222222222,\"#7201a8\"],[0.3333333333333333,\"#9c179e\"],[0.4444444444444444,\"#bd3786\"],[0.5555555555555556,\"#d8576b\"],[0.6666666666666666,\"#ed7953\"],[0.7777777777777778,\"#fb9f3a\"],[0.8888888888888888,\"#fdca26\"],[1.0,\"#f0f921\"]]}],\"heatmap\":[{\"type\":\"heatmap\",\"colorbar\":{\"outlinewidth\":0,\"ticks\":\"\"},\"colorscale\":[[0.0,\"#0d0887\"],[0.1111111111111111,\"#46039f\"],[0.2222222222222222,\"#7201a8\"],[0.3333333333333333,\"#9c179e\"],[0.4444444444444444,\"#bd3786\"],[0.5555555555555556,\"#d8576b\"],[0.6666666666666666,\"#ed7953\"],[0.7777777777777778,\"#fb9f3a\"],[0.8888888888888888,\"#fdca26\"],[1.0,\"#f0f921\"]]}],\"heatmapgl\":[{\"type\":\"heatmapgl\",\"colorbar\":{\"outlinewidth\":0,\"ticks\":\"\"},\"colorscale\":[[0.0,\"#0d0887\"],[0.1111111111111111,\"#46039f\"],[0.2222222222222222,\"#7201a8\"],[0.3333333333333333,\"#9c179e\"],[0.4444444444444444,\"#bd3786\"],[0.5555555555555556,\"#d8576b\"],[0.6666666666666666,\"#ed7953\"],[0.7777777777777778,\"#fb9f3a\"],[0.8888888888888888,\"#fdca26\"],[1.0,\"#f0f921\"]]}],\"contourcarpet\":[{\"type\":\"contourcarpet\",\"colorbar\":{\"outlinewidth\":0,\"ticks\":\"\"}}],\"contour\":[{\"type\":\"contour\",\"colorbar\":{\"outlinewidth\":0,\"ticks\":\"\"},\"colorscale\":[[0.0,\"#0d0887\"],[0.1111111111111111,\"#46039f\"],[0.2222222222222222,\"#7201a8\"],[0.3333333333333333,\"#9c179e\"],[0.4444444444444444,\"#bd3786\"],[0.5555555555555556,\"#d8576b\"],[0.6666666666666666,\"#ed7953\"],[0.7777777777777778,\"#fb9f3a\"],[0.8888888888888888,\"#fdca26\"],[1.0,\"#f0f921\"]]}],\"surface\":[{\"type\":\"surface\",\"colorbar\":{\"outlinewidth\":0,\"ticks\":\"\"},\"colorscale\":[[0.0,\"#0d0887\"],[0.1111111111111111,\"#46039f\"],[0.2222222222222222,\"#7201a8\"],[0.3333333333333333,\"#9c179e\"],[0.4444444444444444,\"#bd3786\"],[0.5555555555555556,\"#d8576b\"],[0.6666666666666666,\"#ed7953\"],[0.7777777777777778,\"#fb9f3a\"],[0.8888888888888888,\"#fdca26\"],[1.0,\"#f0f921\"]]}],\"mesh3d\":[{\"type\":\"mesh3d\",\"colorbar\":{\"outlinewidth\":0,\"ticks\":\"\"}}],\"scatter\":[{\"fillpattern\":{\"fillmode\":\"overlay\",\"size\":10,\"solidity\":0.2},\"type\":\"scatter\"}],\"parcoords\":[{\"type\":\"parcoords\",\"line\":{\"colorbar\":{\"outlinewidth\":0,\"ticks\":\"\"}}}],\"scatterpolargl\":[{\"type\":\"scatterpolargl\",\"marker\":{\"colorbar\":{\"outlinewidth\":0,\"ticks\":\"\"}}}],\"bar\":[{\"error_x\":{\"color\":\"#2a3f5f\"},\"error_y\":{\"color\":\"#2a3f5f\"},\"marker\":{\"line\":{\"color\":\"#E5ECF6\",\"width\":0.5},\"pattern\":{\"fillmode\":\"overlay\",\"size\":10,\"solidity\":0.2}},\"type\":\"bar\"}],\"scattergeo\":[{\"type\":\"scattergeo\",\"marker\":{\"colorbar\":{\"outlinewidth\":0,\"ticks\":\"\"}}}],\"scatterpolar\":[{\"type\":\"scatterpolar\",\"marker\":{\"colorbar\":{\"outlinewidth\":0,\"ticks\":\"\"}}}],\"histogram\":[{\"marker\":{\"pattern\":{\"fillmode\":\"overlay\",\"size\":10,\"solidity\":0.2}},\"type\":\"histogram\"}],\"scattergl\":[{\"type\":\"scattergl\",\"marker\":{\"colorbar\":{\"outlinewidth\":0,\"ticks\":\"\"}}}],\"scatter3d\":[{\"type\":\"scatter3d\",\"line\":{\"colorbar\":{\"outlinewidth\":0,\"ticks\":\"\"}},\"marker\":{\"colorbar\":{\"outlinewidth\":0,\"ticks\":\"\"}}}],\"scattermapbox\":[{\"type\":\"scattermapbox\",\"marker\":{\"colorbar\":{\"outlinewidth\":0,\"ticks\":\"\"}}}],\"scatterternary\":[{\"type\":\"scatterternary\",\"marker\":{\"colorbar\":{\"outlinewidth\":0,\"ticks\":\"\"}}}],\"scattercarpet\":[{\"type\":\"scattercarpet\",\"marker\":{\"colorbar\":{\"outlinewidth\":0,\"ticks\":\"\"}}}],\"carpet\":[{\"aaxis\":{\"endlinecolor\":\"#2a3f5f\",\"gridcolor\":\"white\",\"linecolor\":\"white\",\"minorgridcolor\":\"white\",\"startlinecolor\":\"#2a3f5f\"},\"baxis\":{\"endlinecolor\":\"#2a3f5f\",\"gridcolor\":\"white\",\"linecolor\":\"white\",\"minorgridcolor\":\"white\",\"startlinecolor\":\"#2a3f5f\"},\"type\":\"carpet\"}],\"table\":[{\"cells\":{\"fill\":{\"color\":\"#EBF0F8\"},\"line\":{\"color\":\"white\"}},\"header\":{\"fill\":{\"color\":\"#C8D4E3\"},\"line\":{\"color\":\"white\"}},\"type\":\"table\"}],\"barpolar\":[{\"marker\":{\"line\":{\"color\":\"#E5ECF6\",\"width\":0.5},\"pattern\":{\"fillmode\":\"overlay\",\"size\":10,\"solidity\":0.2}},\"type\":\"barpolar\"}],\"pie\":[{\"automargin\":true,\"type\":\"pie\"}]},\"layout\":{\"autotypenumbers\":\"strict\",\"colorway\":[\"#636efa\",\"#EF553B\",\"#00cc96\",\"#ab63fa\",\"#FFA15A\",\"#19d3f3\",\"#FF6692\",\"#B6E880\",\"#FF97FF\",\"#FECB52\"],\"font\":{\"color\":\"#2a3f5f\"},\"hovermode\":\"closest\",\"hoverlabel\":{\"align\":\"left\"},\"paper_bgcolor\":\"white\",\"plot_bgcolor\":\"#E5ECF6\",\"polar\":{\"bgcolor\":\"#E5ECF6\",\"angularaxis\":{\"gridcolor\":\"white\",\"linecolor\":\"white\",\"ticks\":\"\"},\"radialaxis\":{\"gridcolor\":\"white\",\"linecolor\":\"white\",\"ticks\":\"\"}},\"ternary\":{\"bgcolor\":\"#E5ECF6\",\"aaxis\":{\"gridcolor\":\"white\",\"linecolor\":\"white\",\"ticks\":\"\"},\"baxis\":{\"gridcolor\":\"white\",\"linecolor\":\"white\",\"ticks\":\"\"},\"caxis\":{\"gridcolor\":\"white\",\"linecolor\":\"white\",\"ticks\":\"\"}},\"coloraxis\":{\"colorbar\":{\"outlinewidth\":0,\"ticks\":\"\"}},\"colorscale\":{\"sequential\":[[0.0,\"#0d0887\"],[0.1111111111111111,\"#46039f\"],[0.2222222222222222,\"#7201a8\"],[0.3333333333333333,\"#9c179e\"],[0.4444444444444444,\"#bd3786\"],[0.5555555555555556,\"#d8576b\"],[0.6666666666666666,\"#ed7953\"],[0.7777777777777778,\"#fb9f3a\"],[0.8888888888888888,\"#fdca26\"],[1.0,\"#f0f921\"]],\"sequentialminus\":[[0.0,\"#0d0887\"],[0.1111111111111111,\"#46039f\"],[0.2222222222222222,\"#7201a8\"],[0.3333333333333333,\"#9c179e\"],[0.4444444444444444,\"#bd3786\"],[0.5555555555555556,\"#d8576b\"],[0.6666666666666666,\"#ed7953\"],[0.7777777777777778,\"#fb9f3a\"],[0.8888888888888888,\"#fdca26\"],[1.0,\"#f0f921\"]],\"diverging\":[[0,\"#8e0152\"],[0.1,\"#c51b7d\"],[0.2,\"#de77ae\"],[0.3,\"#f1b6da\"],[0.4,\"#fde0ef\"],[0.5,\"#f7f7f7\"],[0.6,\"#e6f5d0\"],[0.7,\"#b8e186\"],[0.8,\"#7fbc41\"],[0.9,\"#4d9221\"],[1,\"#276419\"]]},\"xaxis\":{\"gridcolor\":\"white\",\"linecolor\":\"white\",\"ticks\":\"\",\"title\":{\"standoff\":15},\"zerolinecolor\":\"white\",\"automargin\":true,\"zerolinewidth\":2},\"yaxis\":{\"gridcolor\":\"white\",\"linecolor\":\"white\",\"ticks\":\"\",\"title\":{\"standoff\":15},\"zerolinecolor\":\"white\",\"automargin\":true,\"zerolinewidth\":2},\"scene\":{\"xaxis\":{\"backgroundcolor\":\"#E5ECF6\",\"gridcolor\":\"white\",\"linecolor\":\"white\",\"showbackground\":true,\"ticks\":\"\",\"zerolinecolor\":\"white\",\"gridwidth\":2},\"yaxis\":{\"backgroundcolor\":\"#E5ECF6\",\"gridcolor\":\"white\",\"linecolor\":\"white\",\"showbackground\":true,\"ticks\":\"\",\"zerolinecolor\":\"white\",\"gridwidth\":2},\"zaxis\":{\"backgroundcolor\":\"#E5ECF6\",\"gridcolor\":\"white\",\"linecolor\":\"white\",\"showbackground\":true,\"ticks\":\"\",\"zerolinecolor\":\"white\",\"gridwidth\":2}},\"shapedefaults\":{\"line\":{\"color\":\"#2a3f5f\"}},\"annotationdefaults\":{\"arrowcolor\":\"#2a3f5f\",\"arrowhead\":0,\"arrowwidth\":1},\"geo\":{\"bgcolor\":\"white\",\"landcolor\":\"#E5ECF6\",\"subunitcolor\":\"white\",\"showland\":true,\"showlakes\":true,\"lakecolor\":\"white\"},\"title\":{\"x\":0.05},\"mapbox\":{\"style\":\"light\"}}},\"scene\":{\"xaxis\":{\"nticks\":4,\"range\":[0,1000]},\"yaxis\":{\"nticks\":4,\"range\":[0,1000]},\"zaxis\":{\"nticks\":4,\"range\":[0,1000]},\"aspectmode\":\"cube\"},\"margin\":{\"r\":20,\"l\":10,\"b\":10,\"t\":10},\"width\":700},                        {\"responsive\": true}                    ).then(function(){\n",
       "                            \n",
       "var gd = document.getElementById('5cc4c734-cef1-4442-a29c-b40908f3f16e');\n",
       "var x = new MutationObserver(function (mutations, observer) {{\n",
       "        var display = window.getComputedStyle(gd).display;\n",
       "        if (!display || display === 'none') {{\n",
       "            console.log([gd, 'removed!']);\n",
       "            Plotly.purge(gd);\n",
       "            observer.disconnect();\n",
       "        }}\n",
       "}});\n",
       "\n",
       "// Listen for the removal of the full notebook cells\n",
       "var notebookContainer = gd.closest('#notebook-container');\n",
       "if (notebookContainer) {{\n",
       "    x.observe(notebookContainer, {childList: true});\n",
       "}}\n",
       "\n",
       "// Listen for the clearing of the current output cell\n",
       "var outputEl = gd.closest('.output');\n",
       "if (outputEl) {{\n",
       "    x.observe(outputEl, {childList: true});\n",
       "}}\n",
       "\n",
       "                        })                };                });            </script>        </div>"
      ]
     },
     "metadata": {},
     "output_type": "display_data"
    }
   ],
   "source": [
    "# Config and Params\n",
    "num_boxes_show = 100\n",
    "query_args = {\n",
    "    \"x\": None,\n",
    "    \"y\": None,\n",
    "    \"z\": None\n",
    "}\n",
    "query_params = build_query_string(**query_args)\n",
    "print(f\"Query Parameters: {query_params}\")\n",
    "\n",
    "# Request/Response\n",
    "start = perf_counter_ns()\n",
    "response = requests.get(f\"{boxes_url}?{query_params}\")\n",
    "end = perf_counter_ns()\n",
    "\n",
    "# Display\n",
    "response_boxes = [convert_box_json_to_nparray(box) for box in response.json()]\n",
    "response_boxes_show = get_random_distribution_from_list(response_boxes, size=num_boxes_show)\n",
    "query_param_lines = get_query_param_lines(axis_min=0, axis_max=1000, **query_args)\n",
    "# print(query_param_lines)\n",
    "print(f\"Response Time: {format_perf_time(end - start)}\")\n",
    "print(f\"{len(response_boxes)} Boxes in Response\")\n",
    "print(f\"Showing {len(response_boxes_show)} Boxes\")\n",
    "data = show_3d_boxes(response_boxes_show, query_param_lines)"
   ]
  },
  {
   "cell_type": "code",
   "execution_count": 17,
   "id": "310281c1-188d-43d7-9493-b84d0fbdeb8b",
   "metadata": {},
   "outputs": [
    {
     "data": {
      "text/plain": [
       "'https://plotly.com/~richard.autry/12/'"
      ]
     },
     "execution_count": 17,
     "metadata": {},
     "output_type": "execute_result"
    }
   ],
   "source": [
    "import chart_studio.plotly as py\n",
    "py.plot(data, filename='space_partitioning_00', auto_open=True)"
   ]
  },
  {
   "cell_type": "code",
   "execution_count": null,
   "id": "8d45b950-b295-4ead-94d9-f4ebe297e946",
   "metadata": {},
   "outputs": [],
   "source": []
  }
 ],
 "metadata": {
  "kernelspec": {
   "display_name": "Python 3 (ipykernel)",
   "language": "python",
   "name": "python3"
  },
  "language_info": {
   "codemirror_mode": {
    "name": "ipython",
    "version": 3
   },
   "file_extension": ".py",
   "mimetype": "text/x-python",
   "name": "python",
   "nbconvert_exporter": "python",
   "pygments_lexer": "ipython3",
   "version": "3.8.10"
  }
 },
 "nbformat": 4,
 "nbformat_minor": 5
}
