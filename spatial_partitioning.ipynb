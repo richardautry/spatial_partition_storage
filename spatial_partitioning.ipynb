{
 "cells": [
  {
   "cell_type": "code",
   "execution_count": 3,
   "id": "12fe0d36-4a3d-44e4-89d8-e062c7635c19",
   "metadata": {},
   "outputs": [],
   "source": [
    "from utils import *"
   ]
  },
  {
   "cell_type": "code",
   "execution_count": 4,
   "id": "9e5c7bda-9e0d-40eb-920b-94c8fb34866d",
   "metadata": {},
   "outputs": [],
   "source": [
    "# Setup API\n",
    "import requests\n",
    "from requests.compat import urljoin\n",
    "import json\n",
    "from time import perf_counter_ns"
   ]
  },
  {
   "cell_type": "code",
   "execution_count": 5,
   "id": "dffb9676-a351-4458-bbe4-397e07f18f79",
   "metadata": {},
   "outputs": [
    {
     "data": {
      "text/plain": [
       "[{'x_min': 75.0,\n",
       "  'x_max': 83.0,\n",
       "  'y_min': 36.0,\n",
       "  'y_max': 65.0,\n",
       "  'z_min': 48.0,\n",
       "  'z_max': 70.0,\n",
       "  'id': '79147250-1865-42f0-b28c-82d6131c5052'}]"
      ]
     },
     "execution_count": 5,
     "metadata": {},
     "output_type": "execute_result"
    }
   ],
   "source": [
    "api_host = \"http://localhost\"\n",
    "boxes_endpoint = \"boxes/\"\n",
    "\n",
    "boxes_url = urljoin(api_host, boxes_endpoint)\n",
    "response = requests.get(url=boxes_url)\n",
    "response.json()[:1]"
   ]
  },
  {
   "cell_type": "code",
   "execution_count": 6,
   "id": "ff4421df-0505-4403-991f-7aaed49430cb",
   "metadata": {},
   "outputs": [],
   "source": [
    "\n",
    "# for box in boxes:\n",
    "#     data = {\n",
    "#         \"x_min\": min(box[0]),\n",
    "#         \"x_max\": max(box[0]),\n",
    "#         \"y_min\": min(box[1]),\n",
    "#         \"y_max\": max(box[1]),\n",
    "#         \"z_min\": min(box[2]),\n",
    "#         \"z_max\": max(box[2]),\n",
    "#     }\n",
    "#     for key, value in data.items():\n",
    "#         data[key] = int(value)\n",
    "#     print(data)\n",
    "#     response = requests.post(urljoin(api_host, boxes_endpoint), json=data)\n",
    "#     assert response.status_code == 200, response.json()"
   ]
  },
  {
   "cell_type": "code",
   "execution_count": 7,
   "id": "b1eb043b-5761-40a4-a0ac-e855ed93ffd4",
   "metadata": {},
   "outputs": [],
   "source": [
    "def show_3d_boxes(boxes, lines_args):\n",
    "    fig = go.Figure()\n",
    "\n",
    "    for box in boxes:\n",
    "        add_mesh_3d(fig, box)\n",
    "        \n",
    "    for line_args in lines_args:\n",
    "        add_line_3d(fig, **line_args)\n",
    "\n",
    "    fig.update_layout(\n",
    "        scene = {\n",
    "            \"xaxis\": {\n",
    "                \"nticks\": 4, \n",
    "                \"range\": [0,1000],\n",
    "            },\n",
    "            \"yaxis\": {\n",
    "                \"nticks\": 4, \n",
    "                \"range\": [0, 1000],\n",
    "            },\n",
    "            \"zaxis\": {\n",
    "                \"nticks\": 4, \n",
    "                \"range\": [0,1000],\n",
    "            },\n",
    "            \"aspectmode\": \"cube\"\n",
    "        },\n",
    "        width=700,\n",
    "        margin=dict(r=20, l=10, b=10, t=10),\n",
    "    )\n",
    "\n",
    "    fig.show()\n",
    "    \n",
    "    return fig"
   ]
  },
  {
   "cell_type": "code",
   "execution_count": 8,
   "id": "34fb2c1d-00a0-4343-a9cd-3a76514824de",
   "metadata": {},
   "outputs": [],
   "source": [
    "response = requests.get(f\"{boxes_url}?x=20&y=500\")"
   ]
  },
  {
   "cell_type": "code",
   "execution_count": 9,
   "id": "ca0677e4-d1be-4aa9-959f-4b599072ecd4",
   "metadata": {},
   "outputs": [],
   "source": [
    "from typing import Dict, Any\n",
    "\n",
    "def convert_box_json_to_nparray(box_obj: Dict[str, Any]):\n",
    "    del box_obj[\"id\"]\n",
    "    box_array = get_box_points_array(\n",
    "        **box_obj\n",
    "    )\n",
    "    return box_array\n",
    "\n",
    "# convert_box_json_to_nparray(response.json()[0])"
   ]
  },
  {
   "cell_type": "code",
   "execution_count": 10,
   "id": "119ad1ac-2a50-4b3e-ad62-00c9f94f47b7",
   "metadata": {},
   "outputs": [
    {
     "data": {
      "text/plain": [
       "[array([[  9.,   9.,  48.,  48.,   9.,   9.,  48.,  48.],\n",
       "        [504., 545., 545., 504., 504., 545., 545., 504.],\n",
       "        [512., 512., 512., 512., 597., 597., 597., 597.]])]"
      ]
     },
     "execution_count": 10,
     "metadata": {},
     "output_type": "execute_result"
    }
   ],
   "source": [
    "response_boxes = [convert_box_json_to_nparray(box) for box in response.json()]\n",
    "response_boxes[:2]"
   ]
  },
  {
   "cell_type": "code",
   "execution_count": 26,
   "id": "ebf41ff0-d827-467e-9226-172c36298717",
   "metadata": {},
   "outputs": [],
   "source": [
    "def build_query_string(**kwargs):\n",
    "    query_params = []\n",
    "    for key, val in kwargs.items():\n",
    "        if val:\n",
    "            query_params.append(f\"{key}={val}\")\n",
    "    return \"&\".join(query_params)\n",
    "\n",
    "\n",
    "def get_query_param_lines(x: int, y: int, z: int, axis_min: int, axis_max: int):\n",
    "    x_none = x is None\n",
    "    y_none = y is None\n",
    "    z_none = z is None\n",
    "    query_param_lines = []\n",
    "    if x_none:\n",
    "        x = 0\n",
    "    if y_none:\n",
    "        y = 0\n",
    "    if z_none:\n",
    "        z = 0\n",
    "    \n",
    "    if not x_none:\n",
    "        query_param_lines.append(\n",
    "            {\n",
    "                \"coordinates\":np.array([[x, x], [axis_min, axis_max], [z, z]]),\n",
    "                \"name\": \"x\"\n",
    "            }\n",
    "        )\n",
    "    if not y_none:\n",
    "        query_param_lines.append(\n",
    "            {\n",
    "                \"coordinates\": np.array([[x, x], [y, y], [axis_min, axis_max]]),\n",
    "                \"name\": \"y\",\n",
    "            }\n",
    "        )\n",
    "    if not z_none:\n",
    "        query_param_lines.append(\n",
    "            {\n",
    "                \"coordinates\": np.array([[axis_min, axis_max], [y, y], [z, z]]),\n",
    "                \"name\": \"z\"\n",
    "            }\n",
    "        )\n",
    "    \n",
    "    return query_param_lines"
   ]
  },
  {
   "cell_type": "code",
   "execution_count": 34,
   "id": "6d0a7498-c461-438f-aa72-8fa0dcbc3aa3",
   "metadata": {},
   "outputs": [
    {
     "data": {
      "text/plain": [
       "[1, 3, 5, 7, 8, 4, 6, 0, 9, 2]"
      ]
     },
     "execution_count": 34,
     "metadata": {},
     "output_type": "execute_result"
    }
   ],
   "source": [
    "import random\n",
    "\n",
    "def get_random_distribution_from_list(objects: List[Any], size: int):\n",
    "    \"\"\"\n",
    "    Return a random subset of objects from list\n",
    "    \"\"\"\n",
    "    objects_indexes = list(range(len(objects)))\n",
    "    return_list = []\n",
    "    i = 0\n",
    "    while i < size and objects_indexes:\n",
    "        random_index = random.randrange(len(objects_indexes))\n",
    "        return_list.append(objects[objects_indexes[random_index]])\n",
    "        del objects_indexes[random_index]\n",
    "        i += 1\n",
    "    return return_list\n",
    "\n",
    "\n",
    "some_range = list(range(10))\n",
    "\n",
    "get_random_distribution_from_list(some_range, 100)\n",
    "    "
   ]
  },
  {
   "cell_type": "code",
   "execution_count": 36,
   "id": "c4831934-853f-46be-9d47-efc7f9cb3ac8",
   "metadata": {},
   "outputs": [
    {
     "name": "stdout",
     "output_type": "stream",
     "text": [
      "Query Parameters: \n",
      "Response Time: 167ms\n",
      "2040 Boxes in Response\n",
      "Showing 100 Boxes\n"
     ]
    },
    {
     "data": {
      "application/vnd.plotly.v1+json": {
       "config": {
        "plotlyServerURL": "https://plotly.com"
       },
       "data": [
        {
         "colorscale": [
          [
           0,
           "gold"
          ],
          [
           0.5,
           "mediumturquoise"
          ],
          [
           1,
           "magenta"
          ]
         ],
         "flatshading": true,
         "i": [
          7,
          0,
          0,
          0,
          4,
          4,
          6,
          6,
          4,
          0,
          3,
          2
         ],
         "intensity": [
          0,
          0.14285714285714285,
          0.2857142857142857,
          0.42857142857142855,
          0.5714285714285714,
          0.7142857142857142,
          0.8571428571428571,
          1
         ],
         "j": [
          3,
          4,
          1,
          2,
          5,
          6,
          5,
          2,
          0,
          1,
          6,
          3
         ],
         "k": [
          0,
          7,
          2,
          3,
          6,
          7,
          1,
          1,
          5,
          5,
          7,
          6
         ],
         "showlegend": false,
         "showscale": false,
         "type": "mesh3d",
         "x": [
          826,
          826,
          860,
          860,
          826,
          826,
          860,
          860
         ],
         "y": [
          16,
          25,
          25,
          16,
          16,
          25,
          25,
          16
         ],
         "z": [
          807,
          807,
          807,
          807,
          895,
          895,
          895,
          895
         ]
        },
        {
         "colorscale": [
          [
           0,
           "gold"
          ],
          [
           0.5,
           "mediumturquoise"
          ],
          [
           1,
           "magenta"
          ]
         ],
         "flatshading": true,
         "i": [
          7,
          0,
          0,
          0,
          4,
          4,
          6,
          6,
          4,
          0,
          3,
          2
         ],
         "intensity": [
          0,
          0.14285714285714285,
          0.2857142857142857,
          0.42857142857142855,
          0.5714285714285714,
          0.7142857142857142,
          0.8571428571428571,
          1
         ],
         "j": [
          3,
          4,
          1,
          2,
          5,
          6,
          5,
          2,
          0,
          1,
          6,
          3
         ],
         "k": [
          0,
          7,
          2,
          3,
          6,
          7,
          1,
          1,
          5,
          5,
          7,
          6
         ],
         "showlegend": false,
         "showscale": false,
         "type": "mesh3d",
         "x": [
          898,
          898,
          899,
          899,
          898,
          898,
          899,
          899
         ],
         "y": [
          629,
          654,
          654,
          629,
          629,
          654,
          654,
          629
         ],
         "z": [
          898,
          898,
          898,
          898,
          899,
          899,
          899,
          899
         ]
        },
        {
         "colorscale": [
          [
           0,
           "gold"
          ],
          [
           0.5,
           "mediumturquoise"
          ],
          [
           1,
           "magenta"
          ]
         ],
         "flatshading": true,
         "i": [
          7,
          0,
          0,
          0,
          4,
          4,
          6,
          6,
          4,
          0,
          3,
          2
         ],
         "intensity": [
          0,
          0.14285714285714285,
          0.2857142857142857,
          0.42857142857142855,
          0.5714285714285714,
          0.7142857142857142,
          0.8571428571428571,
          1
         ],
         "j": [
          3,
          4,
          1,
          2,
          5,
          6,
          5,
          2,
          0,
          1,
          6,
          3
         ],
         "k": [
          0,
          7,
          2,
          3,
          6,
          7,
          1,
          1,
          5,
          5,
          7,
          6
         ],
         "showlegend": false,
         "showscale": false,
         "type": "mesh3d",
         "x": [
          125,
          125,
          195,
          195,
          125,
          125,
          195,
          195
         ],
         "y": [
          966,
          973,
          973,
          966,
          966,
          973,
          973,
          966
         ],
         "z": [
          726,
          726,
          726,
          726,
          791,
          791,
          791,
          791
         ]
        },
        {
         "colorscale": [
          [
           0,
           "gold"
          ],
          [
           0.5,
           "mediumturquoise"
          ],
          [
           1,
           "magenta"
          ]
         ],
         "flatshading": true,
         "i": [
          7,
          0,
          0,
          0,
          4,
          4,
          6,
          6,
          4,
          0,
          3,
          2
         ],
         "intensity": [
          0,
          0.14285714285714285,
          0.2857142857142857,
          0.42857142857142855,
          0.5714285714285714,
          0.7142857142857142,
          0.8571428571428571,
          1
         ],
         "j": [
          3,
          4,
          1,
          2,
          5,
          6,
          5,
          2,
          0,
          1,
          6,
          3
         ],
         "k": [
          0,
          7,
          2,
          3,
          6,
          7,
          1,
          1,
          5,
          5,
          7,
          6
         ],
         "showlegend": false,
         "showscale": false,
         "type": "mesh3d",
         "x": [
          941,
          941,
          945,
          945,
          941,
          941,
          945,
          945
         ],
         "y": [
          156,
          181,
          181,
          156,
          156,
          181,
          181,
          156
         ],
         "z": [
          904,
          904,
          904,
          904,
          975,
          975,
          975,
          975
         ]
        },
        {
         "colorscale": [
          [
           0,
           "gold"
          ],
          [
           0.5,
           "mediumturquoise"
          ],
          [
           1,
           "magenta"
          ]
         ],
         "flatshading": true,
         "i": [
          7,
          0,
          0,
          0,
          4,
          4,
          6,
          6,
          4,
          0,
          3,
          2
         ],
         "intensity": [
          0,
          0.14285714285714285,
          0.2857142857142857,
          0.42857142857142855,
          0.5714285714285714,
          0.7142857142857142,
          0.8571428571428571,
          1
         ],
         "j": [
          3,
          4,
          1,
          2,
          5,
          6,
          5,
          2,
          0,
          1,
          6,
          3
         ],
         "k": [
          0,
          7,
          2,
          3,
          6,
          7,
          1,
          1,
          5,
          5,
          7,
          6
         ],
         "showlegend": false,
         "showscale": false,
         "type": "mesh3d",
         "x": [
          230,
          230,
          295,
          295,
          230,
          230,
          295,
          295
         ],
         "y": [
          650,
          666,
          666,
          650,
          650,
          666,
          666,
          650
         ],
         "z": [
          963,
          963,
          963,
          963,
          976,
          976,
          976,
          976
         ]
        },
        {
         "colorscale": [
          [
           0,
           "gold"
          ],
          [
           0.5,
           "mediumturquoise"
          ],
          [
           1,
           "magenta"
          ]
         ],
         "flatshading": true,
         "i": [
          7,
          0,
          0,
          0,
          4,
          4,
          6,
          6,
          4,
          0,
          3,
          2
         ],
         "intensity": [
          0,
          0.14285714285714285,
          0.2857142857142857,
          0.42857142857142855,
          0.5714285714285714,
          0.7142857142857142,
          0.8571428571428571,
          1
         ],
         "j": [
          3,
          4,
          1,
          2,
          5,
          6,
          5,
          2,
          0,
          1,
          6,
          3
         ],
         "k": [
          0,
          7,
          2,
          3,
          6,
          7,
          1,
          1,
          5,
          5,
          7,
          6
         ],
         "showlegend": false,
         "showscale": false,
         "type": "mesh3d",
         "x": [
          292,
          292,
          299,
          299,
          292,
          292,
          299,
          299
         ],
         "y": [
          527,
          599,
          599,
          527,
          527,
          599,
          599,
          527
         ],
         "z": [
          10,
          10,
          10,
          10,
          18,
          18,
          18,
          18
         ]
        },
        {
         "colorscale": [
          [
           0,
           "gold"
          ],
          [
           0.5,
           "mediumturquoise"
          ],
          [
           1,
           "magenta"
          ]
         ],
         "flatshading": true,
         "i": [
          7,
          0,
          0,
          0,
          4,
          4,
          6,
          6,
          4,
          0,
          3,
          2
         ],
         "intensity": [
          0,
          0.14285714285714285,
          0.2857142857142857,
          0.42857142857142855,
          0.5714285714285714,
          0.7142857142857142,
          0.8571428571428571,
          1
         ],
         "j": [
          3,
          4,
          1,
          2,
          5,
          6,
          5,
          2,
          0,
          1,
          6,
          3
         ],
         "k": [
          0,
          7,
          2,
          3,
          6,
          7,
          1,
          1,
          5,
          5,
          7,
          6
         ],
         "showlegend": false,
         "showscale": false,
         "type": "mesh3d",
         "x": [
          600,
          600,
          621,
          621,
          600,
          600,
          621,
          621
         ],
         "y": [
          610,
          693,
          693,
          610,
          610,
          693,
          693,
          610
         ],
         "z": [
          381,
          381,
          381,
          381,
          385,
          385,
          385,
          385
         ]
        },
        {
         "colorscale": [
          [
           0,
           "gold"
          ],
          [
           0.5,
           "mediumturquoise"
          ],
          [
           1,
           "magenta"
          ]
         ],
         "flatshading": true,
         "i": [
          7,
          0,
          0,
          0,
          4,
          4,
          6,
          6,
          4,
          0,
          3,
          2
         ],
         "intensity": [
          0,
          0.14285714285714285,
          0.2857142857142857,
          0.42857142857142855,
          0.5714285714285714,
          0.7142857142857142,
          0.8571428571428571,
          1
         ],
         "j": [
          3,
          4,
          1,
          2,
          5,
          6,
          5,
          2,
          0,
          1,
          6,
          3
         ],
         "k": [
          0,
          7,
          2,
          3,
          6,
          7,
          1,
          1,
          5,
          5,
          7,
          6
         ],
         "showlegend": false,
         "showscale": false,
         "type": "mesh3d",
         "x": [
          727,
          727,
          766,
          766,
          727,
          727,
          766,
          766
         ],
         "y": [
          784,
          785,
          785,
          784,
          784,
          785,
          785,
          784
         ],
         "z": [
          667,
          667,
          667,
          667,
          682,
          682,
          682,
          682
         ]
        },
        {
         "colorscale": [
          [
           0,
           "gold"
          ],
          [
           0.5,
           "mediumturquoise"
          ],
          [
           1,
           "magenta"
          ]
         ],
         "flatshading": true,
         "i": [
          7,
          0,
          0,
          0,
          4,
          4,
          6,
          6,
          4,
          0,
          3,
          2
         ],
         "intensity": [
          0,
          0.14285714285714285,
          0.2857142857142857,
          0.42857142857142855,
          0.5714285714285714,
          0.7142857142857142,
          0.8571428571428571,
          1
         ],
         "j": [
          3,
          4,
          1,
          2,
          5,
          6,
          5,
          2,
          0,
          1,
          6,
          3
         ],
         "k": [
          0,
          7,
          2,
          3,
          6,
          7,
          1,
          1,
          5,
          5,
          7,
          6
         ],
         "showlegend": false,
         "showscale": false,
         "type": "mesh3d",
         "x": [
          62,
          62,
          87,
          87,
          62,
          62,
          87,
          87
         ],
         "y": [
          900,
          996,
          996,
          900,
          900,
          996,
          996,
          900
         ],
         "z": [
          143,
          143,
          143,
          143,
          172,
          172,
          172,
          172
         ]
        },
        {
         "colorscale": [
          [
           0,
           "gold"
          ],
          [
           0.5,
           "mediumturquoise"
          ],
          [
           1,
           "magenta"
          ]
         ],
         "flatshading": true,
         "i": [
          7,
          0,
          0,
          0,
          4,
          4,
          6,
          6,
          4,
          0,
          3,
          2
         ],
         "intensity": [
          0,
          0.14285714285714285,
          0.2857142857142857,
          0.42857142857142855,
          0.5714285714285714,
          0.7142857142857142,
          0.8571428571428571,
          1
         ],
         "j": [
          3,
          4,
          1,
          2,
          5,
          6,
          5,
          2,
          0,
          1,
          6,
          3
         ],
         "k": [
          0,
          7,
          2,
          3,
          6,
          7,
          1,
          1,
          5,
          5,
          7,
          6
         ],
         "showlegend": false,
         "showscale": false,
         "type": "mesh3d",
         "x": [
          564,
          564,
          589,
          589,
          564,
          564,
          589,
          589
         ],
         "y": [
          456,
          482,
          482,
          456,
          456,
          482,
          482,
          456
         ],
         "z": [
          508,
          508,
          508,
          508,
          526,
          526,
          526,
          526
         ]
        },
        {
         "colorscale": [
          [
           0,
           "gold"
          ],
          [
           0.5,
           "mediumturquoise"
          ],
          [
           1,
           "magenta"
          ]
         ],
         "flatshading": true,
         "i": [
          7,
          0,
          0,
          0,
          4,
          4,
          6,
          6,
          4,
          0,
          3,
          2
         ],
         "intensity": [
          0,
          0.14285714285714285,
          0.2857142857142857,
          0.42857142857142855,
          0.5714285714285714,
          0.7142857142857142,
          0.8571428571428571,
          1
         ],
         "j": [
          3,
          4,
          1,
          2,
          5,
          6,
          5,
          2,
          0,
          1,
          6,
          3
         ],
         "k": [
          0,
          7,
          2,
          3,
          6,
          7,
          1,
          1,
          5,
          5,
          7,
          6
         ],
         "showlegend": false,
         "showscale": false,
         "type": "mesh3d",
         "x": [
          55,
          55,
          65,
          65,
          55,
          55,
          65,
          65
         ],
         "y": [
          90,
          91,
          91,
          90,
          90,
          91,
          91,
          90
         ],
         "z": [
          126,
          126,
          126,
          126,
          148,
          148,
          148,
          148
         ]
        },
        {
         "colorscale": [
          [
           0,
           "gold"
          ],
          [
           0.5,
           "mediumturquoise"
          ],
          [
           1,
           "magenta"
          ]
         ],
         "flatshading": true,
         "i": [
          7,
          0,
          0,
          0,
          4,
          4,
          6,
          6,
          4,
          0,
          3,
          2
         ],
         "intensity": [
          0,
          0.14285714285714285,
          0.2857142857142857,
          0.42857142857142855,
          0.5714285714285714,
          0.7142857142857142,
          0.8571428571428571,
          1
         ],
         "j": [
          3,
          4,
          1,
          2,
          5,
          6,
          5,
          2,
          0,
          1,
          6,
          3
         ],
         "k": [
          0,
          7,
          2,
          3,
          6,
          7,
          1,
          1,
          5,
          5,
          7,
          6
         ],
         "showlegend": false,
         "showscale": false,
         "type": "mesh3d",
         "x": [
          859,
          859,
          876,
          876,
          859,
          859,
          876,
          876
         ],
         "y": [
          581,
          582,
          582,
          581,
          581,
          582,
          582,
          581
         ],
         "z": [
          276,
          276,
          276,
          276,
          293,
          293,
          293,
          293
         ]
        },
        {
         "colorscale": [
          [
           0,
           "gold"
          ],
          [
           0.5,
           "mediumturquoise"
          ],
          [
           1,
           "magenta"
          ]
         ],
         "flatshading": true,
         "i": [
          7,
          0,
          0,
          0,
          4,
          4,
          6,
          6,
          4,
          0,
          3,
          2
         ],
         "intensity": [
          0,
          0.14285714285714285,
          0.2857142857142857,
          0.42857142857142855,
          0.5714285714285714,
          0.7142857142857142,
          0.8571428571428571,
          1
         ],
         "j": [
          3,
          4,
          1,
          2,
          5,
          6,
          5,
          2,
          0,
          1,
          6,
          3
         ],
         "k": [
          0,
          7,
          2,
          3,
          6,
          7,
          1,
          1,
          5,
          5,
          7,
          6
         ],
         "showlegend": false,
         "showscale": false,
         "type": "mesh3d",
         "x": [
          882,
          882,
          884,
          884,
          882,
          882,
          884,
          884
         ],
         "y": [
          296,
          299,
          299,
          296,
          296,
          299,
          299,
          296
         ],
         "z": [
          26,
          26,
          26,
          26,
          59,
          59,
          59,
          59
         ]
        },
        {
         "colorscale": [
          [
           0,
           "gold"
          ],
          [
           0.5,
           "mediumturquoise"
          ],
          [
           1,
           "magenta"
          ]
         ],
         "flatshading": true,
         "i": [
          7,
          0,
          0,
          0,
          4,
          4,
          6,
          6,
          4,
          0,
          3,
          2
         ],
         "intensity": [
          0,
          0.14285714285714285,
          0.2857142857142857,
          0.42857142857142855,
          0.5714285714285714,
          0.7142857142857142,
          0.8571428571428571,
          1
         ],
         "j": [
          3,
          4,
          1,
          2,
          5,
          6,
          5,
          2,
          0,
          1,
          6,
          3
         ],
         "k": [
          0,
          7,
          2,
          3,
          6,
          7,
          1,
          1,
          5,
          5,
          7,
          6
         ],
         "showlegend": false,
         "showscale": false,
         "type": "mesh3d",
         "x": [
          615,
          615,
          651,
          651,
          615,
          615,
          651,
          651
         ],
         "y": [
          395,
          399,
          399,
          395,
          395,
          399,
          399,
          395
         ],
         "z": [
          720,
          720,
          720,
          720,
          785,
          785,
          785,
          785
         ]
        },
        {
         "colorscale": [
          [
           0,
           "gold"
          ],
          [
           0.5,
           "mediumturquoise"
          ],
          [
           1,
           "magenta"
          ]
         ],
         "flatshading": true,
         "i": [
          7,
          0,
          0,
          0,
          4,
          4,
          6,
          6,
          4,
          0,
          3,
          2
         ],
         "intensity": [
          0,
          0.14285714285714285,
          0.2857142857142857,
          0.42857142857142855,
          0.5714285714285714,
          0.7142857142857142,
          0.8571428571428571,
          1
         ],
         "j": [
          3,
          4,
          1,
          2,
          5,
          6,
          5,
          2,
          0,
          1,
          6,
          3
         ],
         "k": [
          0,
          7,
          2,
          3,
          6,
          7,
          1,
          1,
          5,
          5,
          7,
          6
         ],
         "showlegend": false,
         "showscale": false,
         "type": "mesh3d",
         "x": [
          513,
          513,
          579,
          579,
          513,
          513,
          579,
          579
         ],
         "y": [
          950,
          977,
          977,
          950,
          950,
          977,
          977,
          950
         ],
         "z": [
          447,
          447,
          447,
          447,
          465,
          465,
          465,
          465
         ]
        },
        {
         "colorscale": [
          [
           0,
           "gold"
          ],
          [
           0.5,
           "mediumturquoise"
          ],
          [
           1,
           "magenta"
          ]
         ],
         "flatshading": true,
         "i": [
          7,
          0,
          0,
          0,
          4,
          4,
          6,
          6,
          4,
          0,
          3,
          2
         ],
         "intensity": [
          0,
          0.14285714285714285,
          0.2857142857142857,
          0.42857142857142855,
          0.5714285714285714,
          0.7142857142857142,
          0.8571428571428571,
          1
         ],
         "j": [
          3,
          4,
          1,
          2,
          5,
          6,
          5,
          2,
          0,
          1,
          6,
          3
         ],
         "k": [
          0,
          7,
          2,
          3,
          6,
          7,
          1,
          1,
          5,
          5,
          7,
          6
         ],
         "showlegend": false,
         "showscale": false,
         "type": "mesh3d",
         "x": [
          241,
          241,
          295,
          295,
          241,
          241,
          295,
          295
         ],
         "y": [
          254,
          296,
          296,
          254,
          254,
          296,
          296,
          254
         ],
         "z": [
          704,
          704,
          704,
          704,
          772,
          772,
          772,
          772
         ]
        },
        {
         "colorscale": [
          [
           0,
           "gold"
          ],
          [
           0.5,
           "mediumturquoise"
          ],
          [
           1,
           "magenta"
          ]
         ],
         "flatshading": true,
         "i": [
          7,
          0,
          0,
          0,
          4,
          4,
          6,
          6,
          4,
          0,
          3,
          2
         ],
         "intensity": [
          0,
          0.14285714285714285,
          0.2857142857142857,
          0.42857142857142855,
          0.5714285714285714,
          0.7142857142857142,
          0.8571428571428571,
          1
         ],
         "j": [
          3,
          4,
          1,
          2,
          5,
          6,
          5,
          2,
          0,
          1,
          6,
          3
         ],
         "k": [
          0,
          7,
          2,
          3,
          6,
          7,
          1,
          1,
          5,
          5,
          7,
          6
         ],
         "showlegend": false,
         "showscale": false,
         "type": "mesh3d",
         "x": [
          671,
          671,
          685,
          685,
          671,
          671,
          685,
          685
         ],
         "y": [
          660,
          683,
          683,
          660,
          660,
          683,
          683,
          660
         ],
         "z": [
          836,
          836,
          836,
          836,
          861,
          861,
          861,
          861
         ]
        },
        {
         "colorscale": [
          [
           0,
           "gold"
          ],
          [
           0.5,
           "mediumturquoise"
          ],
          [
           1,
           "magenta"
          ]
         ],
         "flatshading": true,
         "i": [
          7,
          0,
          0,
          0,
          4,
          4,
          6,
          6,
          4,
          0,
          3,
          2
         ],
         "intensity": [
          0,
          0.14285714285714285,
          0.2857142857142857,
          0.42857142857142855,
          0.5714285714285714,
          0.7142857142857142,
          0.8571428571428571,
          1
         ],
         "j": [
          3,
          4,
          1,
          2,
          5,
          6,
          5,
          2,
          0,
          1,
          6,
          3
         ],
         "k": [
          0,
          7,
          2,
          3,
          6,
          7,
          1,
          1,
          5,
          5,
          7,
          6
         ],
         "showlegend": false,
         "showscale": false,
         "type": "mesh3d",
         "x": [
          228,
          228,
          273,
          273,
          228,
          228,
          273,
          273
         ],
         "y": [
          903,
          965,
          965,
          903,
          903,
          965,
          965,
          903
         ],
         "z": [
          972,
          972,
          972,
          972,
          983,
          983,
          983,
          983
         ]
        },
        {
         "colorscale": [
          [
           0,
           "gold"
          ],
          [
           0.5,
           "mediumturquoise"
          ],
          [
           1,
           "magenta"
          ]
         ],
         "flatshading": true,
         "i": [
          7,
          0,
          0,
          0,
          4,
          4,
          6,
          6,
          4,
          0,
          3,
          2
         ],
         "intensity": [
          0,
          0.14285714285714285,
          0.2857142857142857,
          0.42857142857142855,
          0.5714285714285714,
          0.7142857142857142,
          0.8571428571428571,
          1
         ],
         "j": [
          3,
          4,
          1,
          2,
          5,
          6,
          5,
          2,
          0,
          1,
          6,
          3
         ],
         "k": [
          0,
          7,
          2,
          3,
          6,
          7,
          1,
          1,
          5,
          5,
          7,
          6
         ],
         "showlegend": false,
         "showscale": false,
         "type": "mesh3d",
         "x": [
          238,
          238,
          266,
          266,
          238,
          238,
          266,
          266
         ],
         "y": [
          495,
          497,
          497,
          495,
          495,
          497,
          497,
          495
         ],
         "z": [
          451,
          451,
          451,
          451,
          494,
          494,
          494,
          494
         ]
        },
        {
         "colorscale": [
          [
           0,
           "gold"
          ],
          [
           0.5,
           "mediumturquoise"
          ],
          [
           1,
           "magenta"
          ]
         ],
         "flatshading": true,
         "i": [
          7,
          0,
          0,
          0,
          4,
          4,
          6,
          6,
          4,
          0,
          3,
          2
         ],
         "intensity": [
          0,
          0.14285714285714285,
          0.2857142857142857,
          0.42857142857142855,
          0.5714285714285714,
          0.7142857142857142,
          0.8571428571428571,
          1
         ],
         "j": [
          3,
          4,
          1,
          2,
          5,
          6,
          5,
          2,
          0,
          1,
          6,
          3
         ],
         "k": [
          0,
          7,
          2,
          3,
          6,
          7,
          1,
          1,
          5,
          5,
          7,
          6
         ],
         "showlegend": false,
         "showscale": false,
         "type": "mesh3d",
         "x": [
          556,
          556,
          567,
          567,
          556,
          556,
          567,
          567
         ],
         "y": [
          690,
          692,
          692,
          690,
          690,
          692,
          692,
          690
         ],
         "z": [
          687,
          687,
          687,
          687,
          692,
          692,
          692,
          692
         ]
        },
        {
         "colorscale": [
          [
           0,
           "gold"
          ],
          [
           0.5,
           "mediumturquoise"
          ],
          [
           1,
           "magenta"
          ]
         ],
         "flatshading": true,
         "i": [
          7,
          0,
          0,
          0,
          4,
          4,
          6,
          6,
          4,
          0,
          3,
          2
         ],
         "intensity": [
          0,
          0.14285714285714285,
          0.2857142857142857,
          0.42857142857142855,
          0.5714285714285714,
          0.7142857142857142,
          0.8571428571428571,
          1
         ],
         "j": [
          3,
          4,
          1,
          2,
          5,
          6,
          5,
          2,
          0,
          1,
          6,
          3
         ],
         "k": [
          0,
          7,
          2,
          3,
          6,
          7,
          1,
          1,
          5,
          5,
          7,
          6
         ],
         "showlegend": false,
         "showscale": false,
         "type": "mesh3d",
         "x": [
          583,
          583,
          585,
          585,
          583,
          583,
          585,
          585
         ],
         "y": [
          806,
          857,
          857,
          806,
          806,
          857,
          857,
          806
         ],
         "z": [
          615,
          615,
          615,
          615,
          632,
          632,
          632,
          632
         ]
        },
        {
         "colorscale": [
          [
           0,
           "gold"
          ],
          [
           0.5,
           "mediumturquoise"
          ],
          [
           1,
           "magenta"
          ]
         ],
         "flatshading": true,
         "i": [
          7,
          0,
          0,
          0,
          4,
          4,
          6,
          6,
          4,
          0,
          3,
          2
         ],
         "intensity": [
          0,
          0.14285714285714285,
          0.2857142857142857,
          0.42857142857142855,
          0.5714285714285714,
          0.7142857142857142,
          0.8571428571428571,
          1
         ],
         "j": [
          3,
          4,
          1,
          2,
          5,
          6,
          5,
          2,
          0,
          1,
          6,
          3
         ],
         "k": [
          0,
          7,
          2,
          3,
          6,
          7,
          1,
          1,
          5,
          5,
          7,
          6
         ],
         "showlegend": false,
         "showscale": false,
         "type": "mesh3d",
         "x": [
          445,
          445,
          472,
          472,
          445,
          445,
          472,
          472
         ],
         "y": [
          831,
          890,
          890,
          831,
          831,
          890,
          890,
          831
         ],
         "z": [
          25,
          25,
          25,
          25,
          97,
          97,
          97,
          97
         ]
        },
        {
         "colorscale": [
          [
           0,
           "gold"
          ],
          [
           0.5,
           "mediumturquoise"
          ],
          [
           1,
           "magenta"
          ]
         ],
         "flatshading": true,
         "i": [
          7,
          0,
          0,
          0,
          4,
          4,
          6,
          6,
          4,
          0,
          3,
          2
         ],
         "intensity": [
          0,
          0.14285714285714285,
          0.2857142857142857,
          0.42857142857142855,
          0.5714285714285714,
          0.7142857142857142,
          0.8571428571428571,
          1
         ],
         "j": [
          3,
          4,
          1,
          2,
          5,
          6,
          5,
          2,
          0,
          1,
          6,
          3
         ],
         "k": [
          0,
          7,
          2,
          3,
          6,
          7,
          1,
          1,
          5,
          5,
          7,
          6
         ],
         "showlegend": false,
         "showscale": false,
         "type": "mesh3d",
         "x": [
          151,
          151,
          193,
          193,
          151,
          151,
          193,
          193
         ],
         "y": [
          850,
          887,
          887,
          850,
          850,
          887,
          887,
          850
         ],
         "z": [
          386,
          386,
          386,
          386,
          391,
          391,
          391,
          391
         ]
        },
        {
         "colorscale": [
          [
           0,
           "gold"
          ],
          [
           0.5,
           "mediumturquoise"
          ],
          [
           1,
           "magenta"
          ]
         ],
         "flatshading": true,
         "i": [
          7,
          0,
          0,
          0,
          4,
          4,
          6,
          6,
          4,
          0,
          3,
          2
         ],
         "intensity": [
          0,
          0.14285714285714285,
          0.2857142857142857,
          0.42857142857142855,
          0.5714285714285714,
          0.7142857142857142,
          0.8571428571428571,
          1
         ],
         "j": [
          3,
          4,
          1,
          2,
          5,
          6,
          5,
          2,
          0,
          1,
          6,
          3
         ],
         "k": [
          0,
          7,
          2,
          3,
          6,
          7,
          1,
          1,
          5,
          5,
          7,
          6
         ],
         "showlegend": false,
         "showscale": false,
         "type": "mesh3d",
         "x": [
          813,
          813,
          835,
          835,
          813,
          813,
          835,
          835
         ],
         "y": [
          228,
          234,
          234,
          228,
          228,
          234,
          234,
          228
         ],
         "z": [
          717,
          717,
          717,
          717,
          720,
          720,
          720,
          720
         ]
        },
        {
         "colorscale": [
          [
           0,
           "gold"
          ],
          [
           0.5,
           "mediumturquoise"
          ],
          [
           1,
           "magenta"
          ]
         ],
         "flatshading": true,
         "i": [
          7,
          0,
          0,
          0,
          4,
          4,
          6,
          6,
          4,
          0,
          3,
          2
         ],
         "intensity": [
          0,
          0.14285714285714285,
          0.2857142857142857,
          0.42857142857142855,
          0.5714285714285714,
          0.7142857142857142,
          0.8571428571428571,
          1
         ],
         "j": [
          3,
          4,
          1,
          2,
          5,
          6,
          5,
          2,
          0,
          1,
          6,
          3
         ],
         "k": [
          0,
          7,
          2,
          3,
          6,
          7,
          1,
          1,
          5,
          5,
          7,
          6
         ],
         "showlegend": false,
         "showscale": false,
         "type": "mesh3d",
         "x": [
          507,
          507,
          599,
          599,
          507,
          507,
          599,
          599
         ],
         "y": [
          214,
          281,
          281,
          214,
          214,
          281,
          281,
          214
         ],
         "z": [
          369,
          369,
          369,
          369,
          393,
          393,
          393,
          393
         ]
        },
        {
         "colorscale": [
          [
           0,
           "gold"
          ],
          [
           0.5,
           "mediumturquoise"
          ],
          [
           1,
           "magenta"
          ]
         ],
         "flatshading": true,
         "i": [
          7,
          0,
          0,
          0,
          4,
          4,
          6,
          6,
          4,
          0,
          3,
          2
         ],
         "intensity": [
          0,
          0.14285714285714285,
          0.2857142857142857,
          0.42857142857142855,
          0.5714285714285714,
          0.7142857142857142,
          0.8571428571428571,
          1
         ],
         "j": [
          3,
          4,
          1,
          2,
          5,
          6,
          5,
          2,
          0,
          1,
          6,
          3
         ],
         "k": [
          0,
          7,
          2,
          3,
          6,
          7,
          1,
          1,
          5,
          5,
          7,
          6
         ],
         "showlegend": false,
         "showscale": false,
         "type": "mesh3d",
         "x": [
          49,
          49,
          52,
          52,
          49,
          49,
          52,
          52
         ],
         "y": [
          114,
          172,
          172,
          114,
          114,
          172,
          172,
          114
         ],
         "z": [
          652,
          652,
          652,
          652,
          676,
          676,
          676,
          676
         ]
        },
        {
         "colorscale": [
          [
           0,
           "gold"
          ],
          [
           0.5,
           "mediumturquoise"
          ],
          [
           1,
           "magenta"
          ]
         ],
         "flatshading": true,
         "i": [
          7,
          0,
          0,
          0,
          4,
          4,
          6,
          6,
          4,
          0,
          3,
          2
         ],
         "intensity": [
          0,
          0.14285714285714285,
          0.2857142857142857,
          0.42857142857142855,
          0.5714285714285714,
          0.7142857142857142,
          0.8571428571428571,
          1
         ],
         "j": [
          3,
          4,
          1,
          2,
          5,
          6,
          5,
          2,
          0,
          1,
          6,
          3
         ],
         "k": [
          0,
          7,
          2,
          3,
          6,
          7,
          1,
          1,
          5,
          5,
          7,
          6
         ],
         "showlegend": false,
         "showscale": false,
         "type": "mesh3d",
         "x": [
          504,
          504,
          557,
          557,
          504,
          504,
          557,
          557
         ],
         "y": [
          787,
          791,
          791,
          787,
          787,
          791,
          791,
          787
         ],
         "z": [
          458,
          458,
          458,
          458,
          489,
          489,
          489,
          489
         ]
        },
        {
         "colorscale": [
          [
           0,
           "gold"
          ],
          [
           0.5,
           "mediumturquoise"
          ],
          [
           1,
           "magenta"
          ]
         ],
         "flatshading": true,
         "i": [
          7,
          0,
          0,
          0,
          4,
          4,
          6,
          6,
          4,
          0,
          3,
          2
         ],
         "intensity": [
          0,
          0.14285714285714285,
          0.2857142857142857,
          0.42857142857142855,
          0.5714285714285714,
          0.7142857142857142,
          0.8571428571428571,
          1
         ],
         "j": [
          3,
          4,
          1,
          2,
          5,
          6,
          5,
          2,
          0,
          1,
          6,
          3
         ],
         "k": [
          0,
          7,
          2,
          3,
          6,
          7,
          1,
          1,
          5,
          5,
          7,
          6
         ],
         "showlegend": false,
         "showscale": false,
         "type": "mesh3d",
         "x": [
          86,
          86,
          91,
          91,
          86,
          86,
          91,
          91
         ],
         "y": [
          26,
          63,
          63,
          26,
          26,
          63,
          63,
          26
         ],
         "z": [
          110,
          110,
          110,
          110,
          162,
          162,
          162,
          162
         ]
        },
        {
         "colorscale": [
          [
           0,
           "gold"
          ],
          [
           0.5,
           "mediumturquoise"
          ],
          [
           1,
           "magenta"
          ]
         ],
         "flatshading": true,
         "i": [
          7,
          0,
          0,
          0,
          4,
          4,
          6,
          6,
          4,
          0,
          3,
          2
         ],
         "intensity": [
          0,
          0.14285714285714285,
          0.2857142857142857,
          0.42857142857142855,
          0.5714285714285714,
          0.7142857142857142,
          0.8571428571428571,
          1
         ],
         "j": [
          3,
          4,
          1,
          2,
          5,
          6,
          5,
          2,
          0,
          1,
          6,
          3
         ],
         "k": [
          0,
          7,
          2,
          3,
          6,
          7,
          1,
          1,
          5,
          5,
          7,
          6
         ],
         "showlegend": false,
         "showscale": false,
         "type": "mesh3d",
         "x": [
          145,
          145,
          188,
          188,
          145,
          145,
          188,
          188
         ],
         "y": [
          26,
          43,
          43,
          26,
          26,
          43,
          43,
          26
         ],
         "z": [
          839,
          839,
          839,
          839,
          857,
          857,
          857,
          857
         ]
        },
        {
         "colorscale": [
          [
           0,
           "gold"
          ],
          [
           0.5,
           "mediumturquoise"
          ],
          [
           1,
           "magenta"
          ]
         ],
         "flatshading": true,
         "i": [
          7,
          0,
          0,
          0,
          4,
          4,
          6,
          6,
          4,
          0,
          3,
          2
         ],
         "intensity": [
          0,
          0.14285714285714285,
          0.2857142857142857,
          0.42857142857142855,
          0.5714285714285714,
          0.7142857142857142,
          0.8571428571428571,
          1
         ],
         "j": [
          3,
          4,
          1,
          2,
          5,
          6,
          5,
          2,
          0,
          1,
          6,
          3
         ],
         "k": [
          0,
          7,
          2,
          3,
          6,
          7,
          1,
          1,
          5,
          5,
          7,
          6
         ],
         "showlegend": false,
         "showscale": false,
         "type": "mesh3d",
         "x": [
          358,
          358,
          361,
          361,
          358,
          358,
          361,
          361
         ],
         "y": [
          822,
          863,
          863,
          822,
          822,
          863,
          863,
          822
         ],
         "z": [
          191,
          191,
          191,
          191,
          193,
          193,
          193,
          193
         ]
        },
        {
         "colorscale": [
          [
           0,
           "gold"
          ],
          [
           0.5,
           "mediumturquoise"
          ],
          [
           1,
           "magenta"
          ]
         ],
         "flatshading": true,
         "i": [
          7,
          0,
          0,
          0,
          4,
          4,
          6,
          6,
          4,
          0,
          3,
          2
         ],
         "intensity": [
          0,
          0.14285714285714285,
          0.2857142857142857,
          0.42857142857142855,
          0.5714285714285714,
          0.7142857142857142,
          0.8571428571428571,
          1
         ],
         "j": [
          3,
          4,
          1,
          2,
          5,
          6,
          5,
          2,
          0,
          1,
          6,
          3
         ],
         "k": [
          0,
          7,
          2,
          3,
          6,
          7,
          1,
          1,
          5,
          5,
          7,
          6
         ],
         "showlegend": false,
         "showscale": false,
         "type": "mesh3d",
         "x": [
          936,
          936,
          996,
          996,
          936,
          936,
          996,
          996
         ],
         "y": [
          46,
          54,
          54,
          46,
          46,
          54,
          54,
          46
         ],
         "z": [
          659,
          659,
          659,
          659,
          699,
          699,
          699,
          699
         ]
        },
        {
         "colorscale": [
          [
           0,
           "gold"
          ],
          [
           0.5,
           "mediumturquoise"
          ],
          [
           1,
           "magenta"
          ]
         ],
         "flatshading": true,
         "i": [
          7,
          0,
          0,
          0,
          4,
          4,
          6,
          6,
          4,
          0,
          3,
          2
         ],
         "intensity": [
          0,
          0.14285714285714285,
          0.2857142857142857,
          0.42857142857142855,
          0.5714285714285714,
          0.7142857142857142,
          0.8571428571428571,
          1
         ],
         "j": [
          3,
          4,
          1,
          2,
          5,
          6,
          5,
          2,
          0,
          1,
          6,
          3
         ],
         "k": [
          0,
          7,
          2,
          3,
          6,
          7,
          1,
          1,
          5,
          5,
          7,
          6
         ],
         "showlegend": false,
         "showscale": false,
         "type": "mesh3d",
         "x": [
          812,
          812,
          875,
          875,
          812,
          812,
          875,
          875
         ],
         "y": [
          371,
          387,
          387,
          371,
          371,
          387,
          387,
          371
         ],
         "z": [
          959,
          959,
          959,
          959,
          992,
          992,
          992,
          992
         ]
        },
        {
         "colorscale": [
          [
           0,
           "gold"
          ],
          [
           0.5,
           "mediumturquoise"
          ],
          [
           1,
           "magenta"
          ]
         ],
         "flatshading": true,
         "i": [
          7,
          0,
          0,
          0,
          4,
          4,
          6,
          6,
          4,
          0,
          3,
          2
         ],
         "intensity": [
          0,
          0.14285714285714285,
          0.2857142857142857,
          0.42857142857142855,
          0.5714285714285714,
          0.7142857142857142,
          0.8571428571428571,
          1
         ],
         "j": [
          3,
          4,
          1,
          2,
          5,
          6,
          5,
          2,
          0,
          1,
          6,
          3
         ],
         "k": [
          0,
          7,
          2,
          3,
          6,
          7,
          1,
          1,
          5,
          5,
          7,
          6
         ],
         "showlegend": false,
         "showscale": false,
         "type": "mesh3d",
         "x": [
          233,
          233,
          261,
          261,
          233,
          233,
          261,
          261
         ],
         "y": [
          779,
          799,
          799,
          779,
          779,
          799,
          799,
          779
         ],
         "z": [
          729,
          729,
          729,
          729,
          788,
          788,
          788,
          788
         ]
        },
        {
         "colorscale": [
          [
           0,
           "gold"
          ],
          [
           0.5,
           "mediumturquoise"
          ],
          [
           1,
           "magenta"
          ]
         ],
         "flatshading": true,
         "i": [
          7,
          0,
          0,
          0,
          4,
          4,
          6,
          6,
          4,
          0,
          3,
          2
         ],
         "intensity": [
          0,
          0.14285714285714285,
          0.2857142857142857,
          0.42857142857142855,
          0.5714285714285714,
          0.7142857142857142,
          0.8571428571428571,
          1
         ],
         "j": [
          3,
          4,
          1,
          2,
          5,
          6,
          5,
          2,
          0,
          1,
          6,
          3
         ],
         "k": [
          0,
          7,
          2,
          3,
          6,
          7,
          1,
          1,
          5,
          5,
          7,
          6
         ],
         "showlegend": false,
         "showscale": false,
         "type": "mesh3d",
         "x": [
          746,
          746,
          754,
          754,
          746,
          746,
          754,
          754
         ],
         "y": [
          641,
          647,
          647,
          641,
          641,
          647,
          647,
          641
         ],
         "z": [
          328,
          328,
          328,
          328,
          360,
          360,
          360,
          360
         ]
        },
        {
         "colorscale": [
          [
           0,
           "gold"
          ],
          [
           0.5,
           "mediumturquoise"
          ],
          [
           1,
           "magenta"
          ]
         ],
         "flatshading": true,
         "i": [
          7,
          0,
          0,
          0,
          4,
          4,
          6,
          6,
          4,
          0,
          3,
          2
         ],
         "intensity": [
          0,
          0.14285714285714285,
          0.2857142857142857,
          0.42857142857142855,
          0.5714285714285714,
          0.7142857142857142,
          0.8571428571428571,
          1
         ],
         "j": [
          3,
          4,
          1,
          2,
          5,
          6,
          5,
          2,
          0,
          1,
          6,
          3
         ],
         "k": [
          0,
          7,
          2,
          3,
          6,
          7,
          1,
          1,
          5,
          5,
          7,
          6
         ],
         "showlegend": false,
         "showscale": false,
         "type": "mesh3d",
         "x": [
          38,
          38,
          52,
          52,
          38,
          38,
          52,
          52
         ],
         "y": [
          942,
          959,
          959,
          942,
          942,
          959,
          959,
          942
         ],
         "z": [
          17,
          17,
          17,
          17,
          90,
          90,
          90,
          90
         ]
        },
        {
         "colorscale": [
          [
           0,
           "gold"
          ],
          [
           0.5,
           "mediumturquoise"
          ],
          [
           1,
           "magenta"
          ]
         ],
         "flatshading": true,
         "i": [
          7,
          0,
          0,
          0,
          4,
          4,
          6,
          6,
          4,
          0,
          3,
          2
         ],
         "intensity": [
          0,
          0.14285714285714285,
          0.2857142857142857,
          0.42857142857142855,
          0.5714285714285714,
          0.7142857142857142,
          0.8571428571428571,
          1
         ],
         "j": [
          3,
          4,
          1,
          2,
          5,
          6,
          5,
          2,
          0,
          1,
          6,
          3
         ],
         "k": [
          0,
          7,
          2,
          3,
          6,
          7,
          1,
          1,
          5,
          5,
          7,
          6
         ],
         "showlegend": false,
         "showscale": false,
         "type": "mesh3d",
         "x": [
          778,
          778,
          797,
          797,
          778,
          778,
          797,
          797
         ],
         "y": [
          197,
          199,
          199,
          197,
          197,
          199,
          199,
          197
         ],
         "z": [
          583,
          583,
          583,
          583,
          591,
          591,
          591,
          591
         ]
        },
        {
         "colorscale": [
          [
           0,
           "gold"
          ],
          [
           0.5,
           "mediumturquoise"
          ],
          [
           1,
           "magenta"
          ]
         ],
         "flatshading": true,
         "i": [
          7,
          0,
          0,
          0,
          4,
          4,
          6,
          6,
          4,
          0,
          3,
          2
         ],
         "intensity": [
          0,
          0.14285714285714285,
          0.2857142857142857,
          0.42857142857142855,
          0.5714285714285714,
          0.7142857142857142,
          0.8571428571428571,
          1
         ],
         "j": [
          3,
          4,
          1,
          2,
          5,
          6,
          5,
          2,
          0,
          1,
          6,
          3
         ],
         "k": [
          0,
          7,
          2,
          3,
          6,
          7,
          1,
          1,
          5,
          5,
          7,
          6
         ],
         "showlegend": false,
         "showscale": false,
         "type": "mesh3d",
         "x": [
          590,
          590,
          599,
          599,
          590,
          590,
          599,
          599
         ],
         "y": [
          90,
          95,
          95,
          90,
          90,
          95,
          95,
          90
         ],
         "z": [
          680,
          680,
          680,
          680,
          687,
          687,
          687,
          687
         ]
        },
        {
         "colorscale": [
          [
           0,
           "gold"
          ],
          [
           0.5,
           "mediumturquoise"
          ],
          [
           1,
           "magenta"
          ]
         ],
         "flatshading": true,
         "i": [
          7,
          0,
          0,
          0,
          4,
          4,
          6,
          6,
          4,
          0,
          3,
          2
         ],
         "intensity": [
          0,
          0.14285714285714285,
          0.2857142857142857,
          0.42857142857142855,
          0.5714285714285714,
          0.7142857142857142,
          0.8571428571428571,
          1
         ],
         "j": [
          3,
          4,
          1,
          2,
          5,
          6,
          5,
          2,
          0,
          1,
          6,
          3
         ],
         "k": [
          0,
          7,
          2,
          3,
          6,
          7,
          1,
          1,
          5,
          5,
          7,
          6
         ],
         "showlegend": false,
         "showscale": false,
         "type": "mesh3d",
         "x": [
          955,
          955,
          988,
          988,
          955,
          955,
          988,
          988
         ],
         "y": [
          710,
          745,
          745,
          710,
          710,
          745,
          745,
          710
         ],
         "z": [
          985,
          985,
          985,
          985,
          999,
          999,
          999,
          999
         ]
        },
        {
         "colorscale": [
          [
           0,
           "gold"
          ],
          [
           0.5,
           "mediumturquoise"
          ],
          [
           1,
           "magenta"
          ]
         ],
         "flatshading": true,
         "i": [
          7,
          0,
          0,
          0,
          4,
          4,
          6,
          6,
          4,
          0,
          3,
          2
         ],
         "intensity": [
          0,
          0.14285714285714285,
          0.2857142857142857,
          0.42857142857142855,
          0.5714285714285714,
          0.7142857142857142,
          0.8571428571428571,
          1
         ],
         "j": [
          3,
          4,
          1,
          2,
          5,
          6,
          5,
          2,
          0,
          1,
          6,
          3
         ],
         "k": [
          0,
          7,
          2,
          3,
          6,
          7,
          1,
          1,
          5,
          5,
          7,
          6
         ],
         "showlegend": false,
         "showscale": false,
         "type": "mesh3d",
         "x": [
          872,
          872,
          892,
          892,
          872,
          872,
          892,
          892
         ],
         "y": [
          838,
          846,
          846,
          838,
          838,
          846,
          846,
          838
         ],
         "z": [
          664,
          664,
          664,
          664,
          667,
          667,
          667,
          667
         ]
        },
        {
         "colorscale": [
          [
           0,
           "gold"
          ],
          [
           0.5,
           "mediumturquoise"
          ],
          [
           1,
           "magenta"
          ]
         ],
         "flatshading": true,
         "i": [
          7,
          0,
          0,
          0,
          4,
          4,
          6,
          6,
          4,
          0,
          3,
          2
         ],
         "intensity": [
          0,
          0.14285714285714285,
          0.2857142857142857,
          0.42857142857142855,
          0.5714285714285714,
          0.7142857142857142,
          0.8571428571428571,
          1
         ],
         "j": [
          3,
          4,
          1,
          2,
          5,
          6,
          5,
          2,
          0,
          1,
          6,
          3
         ],
         "k": [
          0,
          7,
          2,
          3,
          6,
          7,
          1,
          1,
          5,
          5,
          7,
          6
         ],
         "showlegend": false,
         "showscale": false,
         "type": "mesh3d",
         "x": [
          739,
          739,
          762,
          762,
          739,
          739,
          762,
          762
         ],
         "y": [
          313,
          354,
          354,
          313,
          313,
          354,
          354,
          313
         ],
         "z": [
          61,
          61,
          61,
          61,
          93,
          93,
          93,
          93
         ]
        },
        {
         "colorscale": [
          [
           0,
           "gold"
          ],
          [
           0.5,
           "mediumturquoise"
          ],
          [
           1,
           "magenta"
          ]
         ],
         "flatshading": true,
         "i": [
          7,
          0,
          0,
          0,
          4,
          4,
          6,
          6,
          4,
          0,
          3,
          2
         ],
         "intensity": [
          0,
          0.14285714285714285,
          0.2857142857142857,
          0.42857142857142855,
          0.5714285714285714,
          0.7142857142857142,
          0.8571428571428571,
          1
         ],
         "j": [
          3,
          4,
          1,
          2,
          5,
          6,
          5,
          2,
          0,
          1,
          6,
          3
         ],
         "k": [
          0,
          7,
          2,
          3,
          6,
          7,
          1,
          1,
          5,
          5,
          7,
          6
         ],
         "showlegend": false,
         "showscale": false,
         "type": "mesh3d",
         "x": [
          396,
          396,
          399,
          399,
          396,
          396,
          399,
          399
         ],
         "y": [
          973,
          994,
          994,
          973,
          973,
          994,
          994,
          973
         ],
         "z": [
          604,
          604,
          604,
          604,
          656,
          656,
          656,
          656
         ]
        },
        {
         "colorscale": [
          [
           0,
           "gold"
          ],
          [
           0.5,
           "mediumturquoise"
          ],
          [
           1,
           "magenta"
          ]
         ],
         "flatshading": true,
         "i": [
          7,
          0,
          0,
          0,
          4,
          4,
          6,
          6,
          4,
          0,
          3,
          2
         ],
         "intensity": [
          0,
          0.14285714285714285,
          0.2857142857142857,
          0.42857142857142855,
          0.5714285714285714,
          0.7142857142857142,
          0.8571428571428571,
          1
         ],
         "j": [
          3,
          4,
          1,
          2,
          5,
          6,
          5,
          2,
          0,
          1,
          6,
          3
         ],
         "k": [
          0,
          7,
          2,
          3,
          6,
          7,
          1,
          1,
          5,
          5,
          7,
          6
         ],
         "showlegend": false,
         "showscale": false,
         "type": "mesh3d",
         "x": [
          626,
          626,
          661,
          661,
          626,
          626,
          661,
          661
         ],
         "y": [
          489,
          490,
          490,
          489,
          489,
          490,
          490,
          489
         ],
         "z": [
          76,
          76,
          76,
          76,
          86,
          86,
          86,
          86
         ]
        },
        {
         "colorscale": [
          [
           0,
           "gold"
          ],
          [
           0.5,
           "mediumturquoise"
          ],
          [
           1,
           "magenta"
          ]
         ],
         "flatshading": true,
         "i": [
          7,
          0,
          0,
          0,
          4,
          4,
          6,
          6,
          4,
          0,
          3,
          2
         ],
         "intensity": [
          0,
          0.14285714285714285,
          0.2857142857142857,
          0.42857142857142855,
          0.5714285714285714,
          0.7142857142857142,
          0.8571428571428571,
          1
         ],
         "j": [
          3,
          4,
          1,
          2,
          5,
          6,
          5,
          2,
          0,
          1,
          6,
          3
         ],
         "k": [
          0,
          7,
          2,
          3,
          6,
          7,
          1,
          1,
          5,
          5,
          7,
          6
         ],
         "showlegend": false,
         "showscale": false,
         "type": "mesh3d",
         "x": [
          488,
          488,
          494,
          494,
          488,
          488,
          494,
          494
         ],
         "y": [
          321,
          337,
          337,
          321,
          321,
          337,
          337,
          321
         ],
         "z": [
          370,
          370,
          370,
          370,
          380,
          380,
          380,
          380
         ]
        },
        {
         "colorscale": [
          [
           0,
           "gold"
          ],
          [
           0.5,
           "mediumturquoise"
          ],
          [
           1,
           "magenta"
          ]
         ],
         "flatshading": true,
         "i": [
          7,
          0,
          0,
          0,
          4,
          4,
          6,
          6,
          4,
          0,
          3,
          2
         ],
         "intensity": [
          0,
          0.14285714285714285,
          0.2857142857142857,
          0.42857142857142855,
          0.5714285714285714,
          0.7142857142857142,
          0.8571428571428571,
          1
         ],
         "j": [
          3,
          4,
          1,
          2,
          5,
          6,
          5,
          2,
          0,
          1,
          6,
          3
         ],
         "k": [
          0,
          7,
          2,
          3,
          6,
          7,
          1,
          1,
          5,
          5,
          7,
          6
         ],
         "showlegend": false,
         "showscale": false,
         "type": "mesh3d",
         "x": [
          883,
          883,
          893,
          893,
          883,
          883,
          893,
          893
         ],
         "y": [
          724,
          777,
          777,
          724,
          724,
          777,
          777,
          724
         ],
         "z": [
          448,
          448,
          448,
          448,
          496,
          496,
          496,
          496
         ]
        },
        {
         "colorscale": [
          [
           0,
           "gold"
          ],
          [
           0.5,
           "mediumturquoise"
          ],
          [
           1,
           "magenta"
          ]
         ],
         "flatshading": true,
         "i": [
          7,
          0,
          0,
          0,
          4,
          4,
          6,
          6,
          4,
          0,
          3,
          2
         ],
         "intensity": [
          0,
          0.14285714285714285,
          0.2857142857142857,
          0.42857142857142855,
          0.5714285714285714,
          0.7142857142857142,
          0.8571428571428571,
          1
         ],
         "j": [
          3,
          4,
          1,
          2,
          5,
          6,
          5,
          2,
          0,
          1,
          6,
          3
         ],
         "k": [
          0,
          7,
          2,
          3,
          6,
          7,
          1,
          1,
          5,
          5,
          7,
          6
         ],
         "showlegend": false,
         "showscale": false,
         "type": "mesh3d",
         "x": [
          4,
          4,
          76,
          76,
          4,
          4,
          76,
          76
         ],
         "y": [
          25,
          51,
          51,
          25,
          25,
          51,
          51,
          25
         ],
         "z": [
          77,
          77,
          77,
          77,
          92,
          92,
          92,
          92
         ]
        },
        {
         "colorscale": [
          [
           0,
           "gold"
          ],
          [
           0.5,
           "mediumturquoise"
          ],
          [
           1,
           "magenta"
          ]
         ],
         "flatshading": true,
         "i": [
          7,
          0,
          0,
          0,
          4,
          4,
          6,
          6,
          4,
          0,
          3,
          2
         ],
         "intensity": [
          0,
          0.14285714285714285,
          0.2857142857142857,
          0.42857142857142855,
          0.5714285714285714,
          0.7142857142857142,
          0.8571428571428571,
          1
         ],
         "j": [
          3,
          4,
          1,
          2,
          5,
          6,
          5,
          2,
          0,
          1,
          6,
          3
         ],
         "k": [
          0,
          7,
          2,
          3,
          6,
          7,
          1,
          1,
          5,
          5,
          7,
          6
         ],
         "showlegend": false,
         "showscale": false,
         "type": "mesh3d",
         "x": [
          493,
          493,
          496,
          496,
          493,
          493,
          496,
          496
         ],
         "y": [
          33,
          39,
          39,
          33,
          33,
          39,
          39,
          33
         ],
         "z": [
          585,
          585,
          585,
          585,
          597,
          597,
          597,
          597
         ]
        },
        {
         "colorscale": [
          [
           0,
           "gold"
          ],
          [
           0.5,
           "mediumturquoise"
          ],
          [
           1,
           "magenta"
          ]
         ],
         "flatshading": true,
         "i": [
          7,
          0,
          0,
          0,
          4,
          4,
          6,
          6,
          4,
          0,
          3,
          2
         ],
         "intensity": [
          0,
          0.14285714285714285,
          0.2857142857142857,
          0.42857142857142855,
          0.5714285714285714,
          0.7142857142857142,
          0.8571428571428571,
          1
         ],
         "j": [
          3,
          4,
          1,
          2,
          5,
          6,
          5,
          2,
          0,
          1,
          6,
          3
         ],
         "k": [
          0,
          7,
          2,
          3,
          6,
          7,
          1,
          1,
          5,
          5,
          7,
          6
         ],
         "showlegend": false,
         "showscale": false,
         "type": "mesh3d",
         "x": [
          339,
          339,
          393,
          393,
          339,
          339,
          393,
          393
         ],
         "y": [
          262,
          285,
          285,
          262,
          262,
          285,
          285,
          262
         ],
         "z": [
          585,
          585,
          585,
          585,
          587,
          587,
          587,
          587
         ]
        },
        {
         "colorscale": [
          [
           0,
           "gold"
          ],
          [
           0.5,
           "mediumturquoise"
          ],
          [
           1,
           "magenta"
          ]
         ],
         "flatshading": true,
         "i": [
          7,
          0,
          0,
          0,
          4,
          4,
          6,
          6,
          4,
          0,
          3,
          2
         ],
         "intensity": [
          0,
          0.14285714285714285,
          0.2857142857142857,
          0.42857142857142855,
          0.5714285714285714,
          0.7142857142857142,
          0.8571428571428571,
          1
         ],
         "j": [
          3,
          4,
          1,
          2,
          5,
          6,
          5,
          2,
          0,
          1,
          6,
          3
         ],
         "k": [
          0,
          7,
          2,
          3,
          6,
          7,
          1,
          1,
          5,
          5,
          7,
          6
         ],
         "showlegend": false,
         "showscale": false,
         "type": "mesh3d",
         "x": [
          404,
          404,
          492,
          492,
          404,
          404,
          492,
          492
         ],
         "y": [
          179,
          180,
          180,
          179,
          179,
          180,
          180,
          179
         ],
         "z": [
          621,
          621,
          621,
          621,
          626,
          626,
          626,
          626
         ]
        },
        {
         "colorscale": [
          [
           0,
           "gold"
          ],
          [
           0.5,
           "mediumturquoise"
          ],
          [
           1,
           "magenta"
          ]
         ],
         "flatshading": true,
         "i": [
          7,
          0,
          0,
          0,
          4,
          4,
          6,
          6,
          4,
          0,
          3,
          2
         ],
         "intensity": [
          0,
          0.14285714285714285,
          0.2857142857142857,
          0.42857142857142855,
          0.5714285714285714,
          0.7142857142857142,
          0.8571428571428571,
          1
         ],
         "j": [
          3,
          4,
          1,
          2,
          5,
          6,
          5,
          2,
          0,
          1,
          6,
          3
         ],
         "k": [
          0,
          7,
          2,
          3,
          6,
          7,
          1,
          1,
          5,
          5,
          7,
          6
         ],
         "showlegend": false,
         "showscale": false,
         "type": "mesh3d",
         "x": [
          4,
          4,
          18,
          18,
          4,
          4,
          18,
          18
         ],
         "y": [
          631,
          653,
          653,
          631,
          631,
          653,
          653,
          631
         ],
         "z": [
          109,
          109,
          109,
          109,
          155,
          155,
          155,
          155
         ]
        },
        {
         "colorscale": [
          [
           0,
           "gold"
          ],
          [
           0.5,
           "mediumturquoise"
          ],
          [
           1,
           "magenta"
          ]
         ],
         "flatshading": true,
         "i": [
          7,
          0,
          0,
          0,
          4,
          4,
          6,
          6,
          4,
          0,
          3,
          2
         ],
         "intensity": [
          0,
          0.14285714285714285,
          0.2857142857142857,
          0.42857142857142855,
          0.5714285714285714,
          0.7142857142857142,
          0.8571428571428571,
          1
         ],
         "j": [
          3,
          4,
          1,
          2,
          5,
          6,
          5,
          2,
          0,
          1,
          6,
          3
         ],
         "k": [
          0,
          7,
          2,
          3,
          6,
          7,
          1,
          1,
          5,
          5,
          7,
          6
         ],
         "showlegend": false,
         "showscale": false,
         "type": "mesh3d",
         "x": [
          250,
          250,
          297,
          297,
          250,
          250,
          297,
          297
         ],
         "y": [
          864,
          889,
          889,
          864,
          864,
          889,
          889,
          864
         ],
         "z": [
          936,
          936,
          936,
          936,
          963,
          963,
          963,
          963
         ]
        },
        {
         "colorscale": [
          [
           0,
           "gold"
          ],
          [
           0.5,
           "mediumturquoise"
          ],
          [
           1,
           "magenta"
          ]
         ],
         "flatshading": true,
         "i": [
          7,
          0,
          0,
          0,
          4,
          4,
          6,
          6,
          4,
          0,
          3,
          2
         ],
         "intensity": [
          0,
          0.14285714285714285,
          0.2857142857142857,
          0.42857142857142855,
          0.5714285714285714,
          0.7142857142857142,
          0.8571428571428571,
          1
         ],
         "j": [
          3,
          4,
          1,
          2,
          5,
          6,
          5,
          2,
          0,
          1,
          6,
          3
         ],
         "k": [
          0,
          7,
          2,
          3,
          6,
          7,
          1,
          1,
          5,
          5,
          7,
          6
         ],
         "showlegend": false,
         "showscale": false,
         "type": "mesh3d",
         "x": [
          85,
          85,
          97,
          97,
          85,
          85,
          97,
          97
         ],
         "y": [
          9,
          31,
          31,
          9,
          9,
          31,
          31,
          9
         ],
         "z": [
          637,
          637,
          637,
          637,
          639,
          639,
          639,
          639
         ]
        },
        {
         "colorscale": [
          [
           0,
           "gold"
          ],
          [
           0.5,
           "mediumturquoise"
          ],
          [
           1,
           "magenta"
          ]
         ],
         "flatshading": true,
         "i": [
          7,
          0,
          0,
          0,
          4,
          4,
          6,
          6,
          4,
          0,
          3,
          2
         ],
         "intensity": [
          0,
          0.14285714285714285,
          0.2857142857142857,
          0.42857142857142855,
          0.5714285714285714,
          0.7142857142857142,
          0.8571428571428571,
          1
         ],
         "j": [
          3,
          4,
          1,
          2,
          5,
          6,
          5,
          2,
          0,
          1,
          6,
          3
         ],
         "k": [
          0,
          7,
          2,
          3,
          6,
          7,
          1,
          1,
          5,
          5,
          7,
          6
         ],
         "showlegend": false,
         "showscale": false,
         "type": "mesh3d",
         "x": [
          141,
          141,
          178,
          178,
          141,
          141,
          178,
          178
         ],
         "y": [
          201,
          255,
          255,
          201,
          201,
          255,
          255,
          201
         ],
         "z": [
          378,
          378,
          378,
          378,
          394,
          394,
          394,
          394
         ]
        },
        {
         "colorscale": [
          [
           0,
           "gold"
          ],
          [
           0.5,
           "mediumturquoise"
          ],
          [
           1,
           "magenta"
          ]
         ],
         "flatshading": true,
         "i": [
          7,
          0,
          0,
          0,
          4,
          4,
          6,
          6,
          4,
          0,
          3,
          2
         ],
         "intensity": [
          0,
          0.14285714285714285,
          0.2857142857142857,
          0.42857142857142855,
          0.5714285714285714,
          0.7142857142857142,
          0.8571428571428571,
          1
         ],
         "j": [
          3,
          4,
          1,
          2,
          5,
          6,
          5,
          2,
          0,
          1,
          6,
          3
         ],
         "k": [
          0,
          7,
          2,
          3,
          6,
          7,
          1,
          1,
          5,
          5,
          7,
          6
         ],
         "showlegend": false,
         "showscale": false,
         "type": "mesh3d",
         "x": [
          34,
          34,
          91,
          91,
          34,
          34,
          91,
          91
         ],
         "y": [
          791,
          794,
          794,
          791,
          791,
          794,
          794,
          791
         ],
         "z": [
          537,
          537,
          537,
          537,
          588,
          588,
          588,
          588
         ]
        },
        {
         "colorscale": [
          [
           0,
           "gold"
          ],
          [
           0.5,
           "mediumturquoise"
          ],
          [
           1,
           "magenta"
          ]
         ],
         "flatshading": true,
         "i": [
          7,
          0,
          0,
          0,
          4,
          4,
          6,
          6,
          4,
          0,
          3,
          2
         ],
         "intensity": [
          0,
          0.14285714285714285,
          0.2857142857142857,
          0.42857142857142855,
          0.5714285714285714,
          0.7142857142857142,
          0.8571428571428571,
          1
         ],
         "j": [
          3,
          4,
          1,
          2,
          5,
          6,
          5,
          2,
          0,
          1,
          6,
          3
         ],
         "k": [
          0,
          7,
          2,
          3,
          6,
          7,
          1,
          1,
          5,
          5,
          7,
          6
         ],
         "showlegend": false,
         "showscale": false,
         "type": "mesh3d",
         "x": [
          847,
          847,
          889,
          889,
          847,
          847,
          889,
          889
         ],
         "y": [
          367,
          394,
          394,
          367,
          367,
          394,
          394,
          367
         ],
         "z": [
          357,
          357,
          357,
          357,
          397,
          397,
          397,
          397
         ]
        },
        {
         "colorscale": [
          [
           0,
           "gold"
          ],
          [
           0.5,
           "mediumturquoise"
          ],
          [
           1,
           "magenta"
          ]
         ],
         "flatshading": true,
         "i": [
          7,
          0,
          0,
          0,
          4,
          4,
          6,
          6,
          4,
          0,
          3,
          2
         ],
         "intensity": [
          0,
          0.14285714285714285,
          0.2857142857142857,
          0.42857142857142855,
          0.5714285714285714,
          0.7142857142857142,
          0.8571428571428571,
          1
         ],
         "j": [
          3,
          4,
          1,
          2,
          5,
          6,
          5,
          2,
          0,
          1,
          6,
          3
         ],
         "k": [
          0,
          7,
          2,
          3,
          6,
          7,
          1,
          1,
          5,
          5,
          7,
          6
         ],
         "showlegend": false,
         "showscale": false,
         "type": "mesh3d",
         "x": [
          864,
          864,
          872,
          872,
          864,
          864,
          872,
          872
         ],
         "y": [
          819,
          887,
          887,
          819,
          819,
          887,
          887,
          819
         ],
         "z": [
          519,
          519,
          519,
          519,
          524,
          524,
          524,
          524
         ]
        },
        {
         "colorscale": [
          [
           0,
           "gold"
          ],
          [
           0.5,
           "mediumturquoise"
          ],
          [
           1,
           "magenta"
          ]
         ],
         "flatshading": true,
         "i": [
          7,
          0,
          0,
          0,
          4,
          4,
          6,
          6,
          4,
          0,
          3,
          2
         ],
         "intensity": [
          0,
          0.14285714285714285,
          0.2857142857142857,
          0.42857142857142855,
          0.5714285714285714,
          0.7142857142857142,
          0.8571428571428571,
          1
         ],
         "j": [
          3,
          4,
          1,
          2,
          5,
          6,
          5,
          2,
          0,
          1,
          6,
          3
         ],
         "k": [
          0,
          7,
          2,
          3,
          6,
          7,
          1,
          1,
          5,
          5,
          7,
          6
         ],
         "showlegend": false,
         "showscale": false,
         "type": "mesh3d",
         "x": [
          104,
          104,
          195,
          195,
          104,
          104,
          195,
          195
         ],
         "y": [
          685,
          690,
          690,
          685,
          685,
          690,
          690,
          685
         ],
         "z": [
          934,
          934,
          934,
          934,
          979,
          979,
          979,
          979
         ]
        },
        {
         "colorscale": [
          [
           0,
           "gold"
          ],
          [
           0.5,
           "mediumturquoise"
          ],
          [
           1,
           "magenta"
          ]
         ],
         "flatshading": true,
         "i": [
          7,
          0,
          0,
          0,
          4,
          4,
          6,
          6,
          4,
          0,
          3,
          2
         ],
         "intensity": [
          0,
          0.14285714285714285,
          0.2857142857142857,
          0.42857142857142855,
          0.5714285714285714,
          0.7142857142857142,
          0.8571428571428571,
          1
         ],
         "j": [
          3,
          4,
          1,
          2,
          5,
          6,
          5,
          2,
          0,
          1,
          6,
          3
         ],
         "k": [
          0,
          7,
          2,
          3,
          6,
          7,
          1,
          1,
          5,
          5,
          7,
          6
         ],
         "showlegend": false,
         "showscale": false,
         "type": "mesh3d",
         "x": [
          147,
          147,
          149,
          149,
          147,
          147,
          149,
          149
         ],
         "y": [
          872,
          884,
          884,
          872,
          872,
          884,
          884,
          872
         ],
         "z": [
          172,
          172,
          172,
          172,
          196,
          196,
          196,
          196
         ]
        },
        {
         "colorscale": [
          [
           0,
           "gold"
          ],
          [
           0.5,
           "mediumturquoise"
          ],
          [
           1,
           "magenta"
          ]
         ],
         "flatshading": true,
         "i": [
          7,
          0,
          0,
          0,
          4,
          4,
          6,
          6,
          4,
          0,
          3,
          2
         ],
         "intensity": [
          0,
          0.14285714285714285,
          0.2857142857142857,
          0.42857142857142855,
          0.5714285714285714,
          0.7142857142857142,
          0.8571428571428571,
          1
         ],
         "j": [
          3,
          4,
          1,
          2,
          5,
          6,
          5,
          2,
          0,
          1,
          6,
          3
         ],
         "k": [
          0,
          7,
          2,
          3,
          6,
          7,
          1,
          1,
          5,
          5,
          7,
          6
         ],
         "showlegend": false,
         "showscale": false,
         "type": "mesh3d",
         "x": [
          852,
          852,
          894,
          894,
          852,
          852,
          894,
          894
         ],
         "y": [
          93,
          94,
          94,
          93,
          93,
          94,
          94,
          93
         ],
         "z": [
          468,
          468,
          468,
          468,
          498,
          498,
          498,
          498
         ]
        },
        {
         "colorscale": [
          [
           0,
           "gold"
          ],
          [
           0.5,
           "mediumturquoise"
          ],
          [
           1,
           "magenta"
          ]
         ],
         "flatshading": true,
         "i": [
          7,
          0,
          0,
          0,
          4,
          4,
          6,
          6,
          4,
          0,
          3,
          2
         ],
         "intensity": [
          0,
          0.14285714285714285,
          0.2857142857142857,
          0.42857142857142855,
          0.5714285714285714,
          0.7142857142857142,
          0.8571428571428571,
          1
         ],
         "j": [
          3,
          4,
          1,
          2,
          5,
          6,
          5,
          2,
          0,
          1,
          6,
          3
         ],
         "k": [
          0,
          7,
          2,
          3,
          6,
          7,
          1,
          1,
          5,
          5,
          7,
          6
         ],
         "showlegend": false,
         "showscale": false,
         "type": "mesh3d",
         "x": [
          345,
          345,
          399,
          399,
          345,
          345,
          399,
          399
         ],
         "y": [
          696,
          698,
          698,
          696,
          696,
          698,
          698,
          696
         ],
         "z": [
          603,
          603,
          603,
          603,
          672,
          672,
          672,
          672
         ]
        },
        {
         "colorscale": [
          [
           0,
           "gold"
          ],
          [
           0.5,
           "mediumturquoise"
          ],
          [
           1,
           "magenta"
          ]
         ],
         "flatshading": true,
         "i": [
          7,
          0,
          0,
          0,
          4,
          4,
          6,
          6,
          4,
          0,
          3,
          2
         ],
         "intensity": [
          0,
          0.14285714285714285,
          0.2857142857142857,
          0.42857142857142855,
          0.5714285714285714,
          0.7142857142857142,
          0.8571428571428571,
          1
         ],
         "j": [
          3,
          4,
          1,
          2,
          5,
          6,
          5,
          2,
          0,
          1,
          6,
          3
         ],
         "k": [
          0,
          7,
          2,
          3,
          6,
          7,
          1,
          1,
          5,
          5,
          7,
          6
         ],
         "showlegend": false,
         "showscale": false,
         "type": "mesh3d",
         "x": [
          859,
          859,
          890,
          890,
          859,
          859,
          890,
          890
         ],
         "y": [
          72,
          94,
          94,
          72,
          72,
          94,
          94,
          72
         ],
         "z": [
          95,
          95,
          95,
          95,
          98,
          98,
          98,
          98
         ]
        },
        {
         "colorscale": [
          [
           0,
           "gold"
          ],
          [
           0.5,
           "mediumturquoise"
          ],
          [
           1,
           "magenta"
          ]
         ],
         "flatshading": true,
         "i": [
          7,
          0,
          0,
          0,
          4,
          4,
          6,
          6,
          4,
          0,
          3,
          2
         ],
         "intensity": [
          0,
          0.14285714285714285,
          0.2857142857142857,
          0.42857142857142855,
          0.5714285714285714,
          0.7142857142857142,
          0.8571428571428571,
          1
         ],
         "j": [
          3,
          4,
          1,
          2,
          5,
          6,
          5,
          2,
          0,
          1,
          6,
          3
         ],
         "k": [
          0,
          7,
          2,
          3,
          6,
          7,
          1,
          1,
          5,
          5,
          7,
          6
         ],
         "showlegend": false,
         "showscale": false,
         "type": "mesh3d",
         "x": [
          802,
          802,
          847,
          847,
          802,
          802,
          847,
          847
         ],
         "y": [
          689,
          696,
          696,
          689,
          689,
          696,
          696,
          689
         ],
         "z": [
          913,
          913,
          913,
          913,
          919,
          919,
          919,
          919
         ]
        },
        {
         "colorscale": [
          [
           0,
           "gold"
          ],
          [
           0.5,
           "mediumturquoise"
          ],
          [
           1,
           "magenta"
          ]
         ],
         "flatshading": true,
         "i": [
          7,
          0,
          0,
          0,
          4,
          4,
          6,
          6,
          4,
          0,
          3,
          2
         ],
         "intensity": [
          0,
          0.14285714285714285,
          0.2857142857142857,
          0.42857142857142855,
          0.5714285714285714,
          0.7142857142857142,
          0.8571428571428571,
          1
         ],
         "j": [
          3,
          4,
          1,
          2,
          5,
          6,
          5,
          2,
          0,
          1,
          6,
          3
         ],
         "k": [
          0,
          7,
          2,
          3,
          6,
          7,
          1,
          1,
          5,
          5,
          7,
          6
         ],
         "showlegend": false,
         "showscale": false,
         "type": "mesh3d",
         "x": [
          772,
          772,
          798,
          798,
          772,
          772,
          798,
          798
         ],
         "y": [
          332,
          391,
          391,
          332,
          332,
          391,
          391,
          332
         ],
         "z": [
          587,
          587,
          587,
          587,
          597,
          597,
          597,
          597
         ]
        },
        {
         "colorscale": [
          [
           0,
           "gold"
          ],
          [
           0.5,
           "mediumturquoise"
          ],
          [
           1,
           "magenta"
          ]
         ],
         "flatshading": true,
         "i": [
          7,
          0,
          0,
          0,
          4,
          4,
          6,
          6,
          4,
          0,
          3,
          2
         ],
         "intensity": [
          0,
          0.14285714285714285,
          0.2857142857142857,
          0.42857142857142855,
          0.5714285714285714,
          0.7142857142857142,
          0.8571428571428571,
          1
         ],
         "j": [
          3,
          4,
          1,
          2,
          5,
          6,
          5,
          2,
          0,
          1,
          6,
          3
         ],
         "k": [
          0,
          7,
          2,
          3,
          6,
          7,
          1,
          1,
          5,
          5,
          7,
          6
         ],
         "showlegend": false,
         "showscale": false,
         "type": "mesh3d",
         "x": [
          93,
          93,
          94,
          94,
          93,
          93,
          94,
          94
         ],
         "y": [
          520,
          587,
          587,
          520,
          520,
          587,
          587,
          520
         ],
         "z": [
          198,
          198,
          198,
          198,
          199,
          199,
          199,
          199
         ]
        },
        {
         "colorscale": [
          [
           0,
           "gold"
          ],
          [
           0.5,
           "mediumturquoise"
          ],
          [
           1,
           "magenta"
          ]
         ],
         "flatshading": true,
         "i": [
          7,
          0,
          0,
          0,
          4,
          4,
          6,
          6,
          4,
          0,
          3,
          2
         ],
         "intensity": [
          0,
          0.14285714285714285,
          0.2857142857142857,
          0.42857142857142855,
          0.5714285714285714,
          0.7142857142857142,
          0.8571428571428571,
          1
         ],
         "j": [
          3,
          4,
          1,
          2,
          5,
          6,
          5,
          2,
          0,
          1,
          6,
          3
         ],
         "k": [
          0,
          7,
          2,
          3,
          6,
          7,
          1,
          1,
          5,
          5,
          7,
          6
         ],
         "showlegend": false,
         "showscale": false,
         "type": "mesh3d",
         "x": [
          610,
          610,
          616,
          616,
          610,
          610,
          616,
          616
         ],
         "y": [
          970,
          972,
          972,
          970,
          970,
          972,
          972,
          970
         ],
         "z": [
          536,
          536,
          536,
          536,
          551,
          551,
          551,
          551
         ]
        },
        {
         "colorscale": [
          [
           0,
           "gold"
          ],
          [
           0.5,
           "mediumturquoise"
          ],
          [
           1,
           "magenta"
          ]
         ],
         "flatshading": true,
         "i": [
          7,
          0,
          0,
          0,
          4,
          4,
          6,
          6,
          4,
          0,
          3,
          2
         ],
         "intensity": [
          0,
          0.14285714285714285,
          0.2857142857142857,
          0.42857142857142855,
          0.5714285714285714,
          0.7142857142857142,
          0.8571428571428571,
          1
         ],
         "j": [
          3,
          4,
          1,
          2,
          5,
          6,
          5,
          2,
          0,
          1,
          6,
          3
         ],
         "k": [
          0,
          7,
          2,
          3,
          6,
          7,
          1,
          1,
          5,
          5,
          7,
          6
         ],
         "showlegend": false,
         "showscale": false,
         "type": "mesh3d",
         "x": [
          608,
          608,
          616,
          616,
          608,
          608,
          616,
          616
         ],
         "y": [
          68,
          76,
          76,
          68,
          68,
          76,
          76,
          68
         ],
         "z": [
          393,
          393,
          393,
          393,
          396,
          396,
          396,
          396
         ]
        },
        {
         "colorscale": [
          [
           0,
           "gold"
          ],
          [
           0.5,
           "mediumturquoise"
          ],
          [
           1,
           "magenta"
          ]
         ],
         "flatshading": true,
         "i": [
          7,
          0,
          0,
          0,
          4,
          4,
          6,
          6,
          4,
          0,
          3,
          2
         ],
         "intensity": [
          0,
          0.14285714285714285,
          0.2857142857142857,
          0.42857142857142855,
          0.5714285714285714,
          0.7142857142857142,
          0.8571428571428571,
          1
         ],
         "j": [
          3,
          4,
          1,
          2,
          5,
          6,
          5,
          2,
          0,
          1,
          6,
          3
         ],
         "k": [
          0,
          7,
          2,
          3,
          6,
          7,
          1,
          1,
          5,
          5,
          7,
          6
         ],
         "showlegend": false,
         "showscale": false,
         "type": "mesh3d",
         "x": [
          611,
          611,
          694,
          694,
          611,
          611,
          694,
          694
         ],
         "y": [
          812,
          891,
          891,
          812,
          812,
          891,
          891,
          812
         ],
         "z": [
          338,
          338,
          338,
          338,
          341,
          341,
          341,
          341
         ]
        },
        {
         "colorscale": [
          [
           0,
           "gold"
          ],
          [
           0.5,
           "mediumturquoise"
          ],
          [
           1,
           "magenta"
          ]
         ],
         "flatshading": true,
         "i": [
          7,
          0,
          0,
          0,
          4,
          4,
          6,
          6,
          4,
          0,
          3,
          2
         ],
         "intensity": [
          0,
          0.14285714285714285,
          0.2857142857142857,
          0.42857142857142855,
          0.5714285714285714,
          0.7142857142857142,
          0.8571428571428571,
          1
         ],
         "j": [
          3,
          4,
          1,
          2,
          5,
          6,
          5,
          2,
          0,
          1,
          6,
          3
         ],
         "k": [
          0,
          7,
          2,
          3,
          6,
          7,
          1,
          1,
          5,
          5,
          7,
          6
         ],
         "showlegend": false,
         "showscale": false,
         "type": "mesh3d",
         "x": [
          510,
          510,
          551,
          551,
          510,
          510,
          551,
          551
         ],
         "y": [
          387,
          390,
          390,
          387,
          387,
          390,
          390,
          387
         ],
         "z": [
          355,
          355,
          355,
          355,
          383,
          383,
          383,
          383
         ]
        },
        {
         "colorscale": [
          [
           0,
           "gold"
          ],
          [
           0.5,
           "mediumturquoise"
          ],
          [
           1,
           "magenta"
          ]
         ],
         "flatshading": true,
         "i": [
          7,
          0,
          0,
          0,
          4,
          4,
          6,
          6,
          4,
          0,
          3,
          2
         ],
         "intensity": [
          0,
          0.14285714285714285,
          0.2857142857142857,
          0.42857142857142855,
          0.5714285714285714,
          0.7142857142857142,
          0.8571428571428571,
          1
         ],
         "j": [
          3,
          4,
          1,
          2,
          5,
          6,
          5,
          2,
          0,
          1,
          6,
          3
         ],
         "k": [
          0,
          7,
          2,
          3,
          6,
          7,
          1,
          1,
          5,
          5,
          7,
          6
         ],
         "showlegend": false,
         "showscale": false,
         "type": "mesh3d",
         "x": [
          325,
          325,
          362,
          362,
          325,
          325,
          362,
          362
         ],
         "y": [
          735,
          745,
          745,
          735,
          735,
          745,
          745,
          735
         ],
         "z": [
          641,
          641,
          641,
          641,
          699,
          699,
          699,
          699
         ]
        },
        {
         "colorscale": [
          [
           0,
           "gold"
          ],
          [
           0.5,
           "mediumturquoise"
          ],
          [
           1,
           "magenta"
          ]
         ],
         "flatshading": true,
         "i": [
          7,
          0,
          0,
          0,
          4,
          4,
          6,
          6,
          4,
          0,
          3,
          2
         ],
         "intensity": [
          0,
          0.14285714285714285,
          0.2857142857142857,
          0.42857142857142855,
          0.5714285714285714,
          0.7142857142857142,
          0.8571428571428571,
          1
         ],
         "j": [
          3,
          4,
          1,
          2,
          5,
          6,
          5,
          2,
          0,
          1,
          6,
          3
         ],
         "k": [
          0,
          7,
          2,
          3,
          6,
          7,
          1,
          1,
          5,
          5,
          7,
          6
         ],
         "showlegend": false,
         "showscale": false,
         "type": "mesh3d",
         "x": [
          301,
          301,
          387,
          387,
          301,
          301,
          387,
          387
         ],
         "y": [
          795,
          797,
          797,
          795,
          795,
          797,
          797,
          795
         ],
         "z": [
          505,
          505,
          505,
          505,
          532,
          532,
          532,
          532
         ]
        },
        {
         "colorscale": [
          [
           0,
           "gold"
          ],
          [
           0.5,
           "mediumturquoise"
          ],
          [
           1,
           "magenta"
          ]
         ],
         "flatshading": true,
         "i": [
          7,
          0,
          0,
          0,
          4,
          4,
          6,
          6,
          4,
          0,
          3,
          2
         ],
         "intensity": [
          0,
          0.14285714285714285,
          0.2857142857142857,
          0.42857142857142855,
          0.5714285714285714,
          0.7142857142857142,
          0.8571428571428571,
          1
         ],
         "j": [
          3,
          4,
          1,
          2,
          5,
          6,
          5,
          2,
          0,
          1,
          6,
          3
         ],
         "k": [
          0,
          7,
          2,
          3,
          6,
          7,
          1,
          1,
          5,
          5,
          7,
          6
         ],
         "showlegend": false,
         "showscale": false,
         "type": "mesh3d",
         "x": [
          387,
          387,
          390,
          390,
          387,
          387,
          390,
          390
         ],
         "y": [
          865,
          873,
          873,
          865,
          865,
          873,
          873,
          865
         ],
         "z": [
          550,
          550,
          550,
          550,
          562,
          562,
          562,
          562
         ]
        },
        {
         "colorscale": [
          [
           0,
           "gold"
          ],
          [
           0.5,
           "mediumturquoise"
          ],
          [
           1,
           "magenta"
          ]
         ],
         "flatshading": true,
         "i": [
          7,
          0,
          0,
          0,
          4,
          4,
          6,
          6,
          4,
          0,
          3,
          2
         ],
         "intensity": [
          0,
          0.14285714285714285,
          0.2857142857142857,
          0.42857142857142855,
          0.5714285714285714,
          0.7142857142857142,
          0.8571428571428571,
          1
         ],
         "j": [
          3,
          4,
          1,
          2,
          5,
          6,
          5,
          2,
          0,
          1,
          6,
          3
         ],
         "k": [
          0,
          7,
          2,
          3,
          6,
          7,
          1,
          1,
          5,
          5,
          7,
          6
         ],
         "showlegend": false,
         "showscale": false,
         "type": "mesh3d",
         "x": [
          52,
          52,
          74,
          74,
          52,
          52,
          74,
          74
         ],
         "y": [
          47,
          55,
          55,
          47,
          47,
          55,
          55,
          47
         ],
         "z": [
          360,
          360,
          360,
          360,
          380,
          380,
          380,
          380
         ]
        },
        {
         "colorscale": [
          [
           0,
           "gold"
          ],
          [
           0.5,
           "mediumturquoise"
          ],
          [
           1,
           "magenta"
          ]
         ],
         "flatshading": true,
         "i": [
          7,
          0,
          0,
          0,
          4,
          4,
          6,
          6,
          4,
          0,
          3,
          2
         ],
         "intensity": [
          0,
          0.14285714285714285,
          0.2857142857142857,
          0.42857142857142855,
          0.5714285714285714,
          0.7142857142857142,
          0.8571428571428571,
          1
         ],
         "j": [
          3,
          4,
          1,
          2,
          5,
          6,
          5,
          2,
          0,
          1,
          6,
          3
         ],
         "k": [
          0,
          7,
          2,
          3,
          6,
          7,
          1,
          1,
          5,
          5,
          7,
          6
         ],
         "showlegend": false,
         "showscale": false,
         "type": "mesh3d",
         "x": [
          985,
          985,
          993,
          993,
          985,
          985,
          993,
          993
         ],
         "y": [
          401,
          455,
          455,
          401,
          401,
          455,
          455,
          401
         ],
         "z": [
          678,
          678,
          678,
          678,
          683,
          683,
          683,
          683
         ]
        },
        {
         "colorscale": [
          [
           0,
           "gold"
          ],
          [
           0.5,
           "mediumturquoise"
          ],
          [
           1,
           "magenta"
          ]
         ],
         "flatshading": true,
         "i": [
          7,
          0,
          0,
          0,
          4,
          4,
          6,
          6,
          4,
          0,
          3,
          2
         ],
         "intensity": [
          0,
          0.14285714285714285,
          0.2857142857142857,
          0.42857142857142855,
          0.5714285714285714,
          0.7142857142857142,
          0.8571428571428571,
          1
         ],
         "j": [
          3,
          4,
          1,
          2,
          5,
          6,
          5,
          2,
          0,
          1,
          6,
          3
         ],
         "k": [
          0,
          7,
          2,
          3,
          6,
          7,
          1,
          1,
          5,
          5,
          7,
          6
         ],
         "showlegend": false,
         "showscale": false,
         "type": "mesh3d",
         "x": [
          683,
          683,
          690,
          690,
          683,
          683,
          690,
          690
         ],
         "y": [
          318,
          350,
          350,
          318,
          318,
          350,
          350,
          318
         ],
         "z": [
          148,
          148,
          148,
          148,
          173,
          173,
          173,
          173
         ]
        },
        {
         "colorscale": [
          [
           0,
           "gold"
          ],
          [
           0.5,
           "mediumturquoise"
          ],
          [
           1,
           "magenta"
          ]
         ],
         "flatshading": true,
         "i": [
          7,
          0,
          0,
          0,
          4,
          4,
          6,
          6,
          4,
          0,
          3,
          2
         ],
         "intensity": [
          0,
          0.14285714285714285,
          0.2857142857142857,
          0.42857142857142855,
          0.5714285714285714,
          0.7142857142857142,
          0.8571428571428571,
          1
         ],
         "j": [
          3,
          4,
          1,
          2,
          5,
          6,
          5,
          2,
          0,
          1,
          6,
          3
         ],
         "k": [
          0,
          7,
          2,
          3,
          6,
          7,
          1,
          1,
          5,
          5,
          7,
          6
         ],
         "showlegend": false,
         "showscale": false,
         "type": "mesh3d",
         "x": [
          760,
          760,
          788,
          788,
          760,
          760,
          788,
          788
         ],
         "y": [
          31,
          71,
          71,
          31,
          31,
          71,
          71,
          31
         ],
         "z": [
          932,
          932,
          932,
          932,
          978,
          978,
          978,
          978
         ]
        },
        {
         "colorscale": [
          [
           0,
           "gold"
          ],
          [
           0.5,
           "mediumturquoise"
          ],
          [
           1,
           "magenta"
          ]
         ],
         "flatshading": true,
         "i": [
          7,
          0,
          0,
          0,
          4,
          4,
          6,
          6,
          4,
          0,
          3,
          2
         ],
         "intensity": [
          0,
          0.14285714285714285,
          0.2857142857142857,
          0.42857142857142855,
          0.5714285714285714,
          0.7142857142857142,
          0.8571428571428571,
          1
         ],
         "j": [
          3,
          4,
          1,
          2,
          5,
          6,
          5,
          2,
          0,
          1,
          6,
          3
         ],
         "k": [
          0,
          7,
          2,
          3,
          6,
          7,
          1,
          1,
          5,
          5,
          7,
          6
         ],
         "showlegend": false,
         "showscale": false,
         "type": "mesh3d",
         "x": [
          185,
          185,
          197,
          197,
          185,
          185,
          197,
          197
         ],
         "y": [
          225,
          243,
          243,
          225,
          225,
          243,
          243,
          225
         ],
         "z": [
          463,
          463,
          463,
          463,
          475,
          475,
          475,
          475
         ]
        },
        {
         "colorscale": [
          [
           0,
           "gold"
          ],
          [
           0.5,
           "mediumturquoise"
          ],
          [
           1,
           "magenta"
          ]
         ],
         "flatshading": true,
         "i": [
          7,
          0,
          0,
          0,
          4,
          4,
          6,
          6,
          4,
          0,
          3,
          2
         ],
         "intensity": [
          0,
          0.14285714285714285,
          0.2857142857142857,
          0.42857142857142855,
          0.5714285714285714,
          0.7142857142857142,
          0.8571428571428571,
          1
         ],
         "j": [
          3,
          4,
          1,
          2,
          5,
          6,
          5,
          2,
          0,
          1,
          6,
          3
         ],
         "k": [
          0,
          7,
          2,
          3,
          6,
          7,
          1,
          1,
          5,
          5,
          7,
          6
         ],
         "showlegend": false,
         "showscale": false,
         "type": "mesh3d",
         "x": [
          541,
          541,
          572,
          572,
          541,
          541,
          572,
          572
         ],
         "y": [
          843,
          847,
          847,
          843,
          843,
          847,
          847,
          843
         ],
         "z": [
          447,
          447,
          447,
          447,
          482,
          482,
          482,
          482
         ]
        },
        {
         "colorscale": [
          [
           0,
           "gold"
          ],
          [
           0.5,
           "mediumturquoise"
          ],
          [
           1,
           "magenta"
          ]
         ],
         "flatshading": true,
         "i": [
          7,
          0,
          0,
          0,
          4,
          4,
          6,
          6,
          4,
          0,
          3,
          2
         ],
         "intensity": [
          0,
          0.14285714285714285,
          0.2857142857142857,
          0.42857142857142855,
          0.5714285714285714,
          0.7142857142857142,
          0.8571428571428571,
          1
         ],
         "j": [
          3,
          4,
          1,
          2,
          5,
          6,
          5,
          2,
          0,
          1,
          6,
          3
         ],
         "k": [
          0,
          7,
          2,
          3,
          6,
          7,
          1,
          1,
          5,
          5,
          7,
          6
         ],
         "showlegend": false,
         "showscale": false,
         "type": "mesh3d",
         "x": [
          772,
          772,
          774,
          774,
          772,
          772,
          774,
          774
         ],
         "y": [
          186,
          193,
          193,
          186,
          186,
          193,
          193,
          186
         ],
         "z": [
          530,
          530,
          530,
          530,
          577,
          577,
          577,
          577
         ]
        },
        {
         "colorscale": [
          [
           0,
           "gold"
          ],
          [
           0.5,
           "mediumturquoise"
          ],
          [
           1,
           "magenta"
          ]
         ],
         "flatshading": true,
         "i": [
          7,
          0,
          0,
          0,
          4,
          4,
          6,
          6,
          4,
          0,
          3,
          2
         ],
         "intensity": [
          0,
          0.14285714285714285,
          0.2857142857142857,
          0.42857142857142855,
          0.5714285714285714,
          0.7142857142857142,
          0.8571428571428571,
          1
         ],
         "j": [
          3,
          4,
          1,
          2,
          5,
          6,
          5,
          2,
          0,
          1,
          6,
          3
         ],
         "k": [
          0,
          7,
          2,
          3,
          6,
          7,
          1,
          1,
          5,
          5,
          7,
          6
         ],
         "showlegend": false,
         "showscale": false,
         "type": "mesh3d",
         "x": [
          995,
          995,
          997,
          997,
          995,
          995,
          997,
          997
         ],
         "y": [
          238,
          246,
          246,
          238,
          238,
          246,
          246,
          238
         ],
         "z": [
          559,
          559,
          559,
          559,
          561,
          561,
          561,
          561
         ]
        },
        {
         "colorscale": [
          [
           0,
           "gold"
          ],
          [
           0.5,
           "mediumturquoise"
          ],
          [
           1,
           "magenta"
          ]
         ],
         "flatshading": true,
         "i": [
          7,
          0,
          0,
          0,
          4,
          4,
          6,
          6,
          4,
          0,
          3,
          2
         ],
         "intensity": [
          0,
          0.14285714285714285,
          0.2857142857142857,
          0.42857142857142855,
          0.5714285714285714,
          0.7142857142857142,
          0.8571428571428571,
          1
         ],
         "j": [
          3,
          4,
          1,
          2,
          5,
          6,
          5,
          2,
          0,
          1,
          6,
          3
         ],
         "k": [
          0,
          7,
          2,
          3,
          6,
          7,
          1,
          1,
          5,
          5,
          7,
          6
         ],
         "showlegend": false,
         "showscale": false,
         "type": "mesh3d",
         "x": [
          303,
          303,
          392,
          392,
          303,
          303,
          392,
          392
         ],
         "y": [
          787,
          796,
          796,
          787,
          787,
          796,
          796,
          787
         ],
         "z": [
          733,
          733,
          733,
          733,
          795,
          795,
          795,
          795
         ]
        },
        {
         "colorscale": [
          [
           0,
           "gold"
          ],
          [
           0.5,
           "mediumturquoise"
          ],
          [
           1,
           "magenta"
          ]
         ],
         "flatshading": true,
         "i": [
          7,
          0,
          0,
          0,
          4,
          4,
          6,
          6,
          4,
          0,
          3,
          2
         ],
         "intensity": [
          0,
          0.14285714285714285,
          0.2857142857142857,
          0.42857142857142855,
          0.5714285714285714,
          0.7142857142857142,
          0.8571428571428571,
          1
         ],
         "j": [
          3,
          4,
          1,
          2,
          5,
          6,
          5,
          2,
          0,
          1,
          6,
          3
         ],
         "k": [
          0,
          7,
          2,
          3,
          6,
          7,
          1,
          1,
          5,
          5,
          7,
          6
         ],
         "showlegend": false,
         "showscale": false,
         "type": "mesh3d",
         "x": [
          480,
          480,
          486,
          486,
          480,
          480,
          486,
          486
         ],
         "y": [
          346,
          349,
          349,
          346,
          346,
          349,
          349,
          346
         ],
         "z": [
          935,
          935,
          935,
          935,
          949,
          949,
          949,
          949
         ]
        },
        {
         "colorscale": [
          [
           0,
           "gold"
          ],
          [
           0.5,
           "mediumturquoise"
          ],
          [
           1,
           "magenta"
          ]
         ],
         "flatshading": true,
         "i": [
          7,
          0,
          0,
          0,
          4,
          4,
          6,
          6,
          4,
          0,
          3,
          2
         ],
         "intensity": [
          0,
          0.14285714285714285,
          0.2857142857142857,
          0.42857142857142855,
          0.5714285714285714,
          0.7142857142857142,
          0.8571428571428571,
          1
         ],
         "j": [
          3,
          4,
          1,
          2,
          5,
          6,
          5,
          2,
          0,
          1,
          6,
          3
         ],
         "k": [
          0,
          7,
          2,
          3,
          6,
          7,
          1,
          1,
          5,
          5,
          7,
          6
         ],
         "showlegend": false,
         "showscale": false,
         "type": "mesh3d",
         "x": [
          939,
          939,
          949,
          949,
          939,
          939,
          949,
          949
         ],
         "y": [
          867,
          896,
          896,
          867,
          867,
          896,
          896,
          867
         ],
         "z": [
          788,
          788,
          788,
          788,
          797,
          797,
          797,
          797
         ]
        },
        {
         "colorscale": [
          [
           0,
           "gold"
          ],
          [
           0.5,
           "mediumturquoise"
          ],
          [
           1,
           "magenta"
          ]
         ],
         "flatshading": true,
         "i": [
          7,
          0,
          0,
          0,
          4,
          4,
          6,
          6,
          4,
          0,
          3,
          2
         ],
         "intensity": [
          0,
          0.14285714285714285,
          0.2857142857142857,
          0.42857142857142855,
          0.5714285714285714,
          0.7142857142857142,
          0.8571428571428571,
          1
         ],
         "j": [
          3,
          4,
          1,
          2,
          5,
          6,
          5,
          2,
          0,
          1,
          6,
          3
         ],
         "k": [
          0,
          7,
          2,
          3,
          6,
          7,
          1,
          1,
          5,
          5,
          7,
          6
         ],
         "showlegend": false,
         "showscale": false,
         "type": "mesh3d",
         "x": [
          729,
          729,
          773,
          773,
          729,
          729,
          773,
          773
         ],
         "y": [
          684,
          690,
          690,
          684,
          684,
          690,
          690,
          684
         ],
         "z": [
          961,
          961,
          961,
          961,
          968,
          968,
          968,
          968
         ]
        },
        {
         "colorscale": [
          [
           0,
           "gold"
          ],
          [
           0.5,
           "mediumturquoise"
          ],
          [
           1,
           "magenta"
          ]
         ],
         "flatshading": true,
         "i": [
          7,
          0,
          0,
          0,
          4,
          4,
          6,
          6,
          4,
          0,
          3,
          2
         ],
         "intensity": [
          0,
          0.14285714285714285,
          0.2857142857142857,
          0.42857142857142855,
          0.5714285714285714,
          0.7142857142857142,
          0.8571428571428571,
          1
         ],
         "j": [
          3,
          4,
          1,
          2,
          5,
          6,
          5,
          2,
          0,
          1,
          6,
          3
         ],
         "k": [
          0,
          7,
          2,
          3,
          6,
          7,
          1,
          1,
          5,
          5,
          7,
          6
         ],
         "showlegend": false,
         "showscale": false,
         "type": "mesh3d",
         "x": [
          76,
          76,
          90,
          90,
          76,
          76,
          90,
          90
         ],
         "y": [
          290,
          295,
          295,
          290,
          290,
          295,
          295,
          290
         ],
         "z": [
          801,
          801,
          801,
          801,
          820,
          820,
          820,
          820
         ]
        },
        {
         "colorscale": [
          [
           0,
           "gold"
          ],
          [
           0.5,
           "mediumturquoise"
          ],
          [
           1,
           "magenta"
          ]
         ],
         "flatshading": true,
         "i": [
          7,
          0,
          0,
          0,
          4,
          4,
          6,
          6,
          4,
          0,
          3,
          2
         ],
         "intensity": [
          0,
          0.14285714285714285,
          0.2857142857142857,
          0.42857142857142855,
          0.5714285714285714,
          0.7142857142857142,
          0.8571428571428571,
          1
         ],
         "j": [
          3,
          4,
          1,
          2,
          5,
          6,
          5,
          2,
          0,
          1,
          6,
          3
         ],
         "k": [
          0,
          7,
          2,
          3,
          6,
          7,
          1,
          1,
          5,
          5,
          7,
          6
         ],
         "showlegend": false,
         "showscale": false,
         "type": "mesh3d",
         "x": [
          189,
          189,
          192,
          192,
          189,
          189,
          192,
          192
         ],
         "y": [
          1,
          48,
          48,
          1,
          1,
          48,
          48,
          1
         ],
         "z": [
          955,
          955,
          955,
          955,
          956,
          956,
          956,
          956
         ]
        },
        {
         "colorscale": [
          [
           0,
           "gold"
          ],
          [
           0.5,
           "mediumturquoise"
          ],
          [
           1,
           "magenta"
          ]
         ],
         "flatshading": true,
         "i": [
          7,
          0,
          0,
          0,
          4,
          4,
          6,
          6,
          4,
          0,
          3,
          2
         ],
         "intensity": [
          0,
          0.14285714285714285,
          0.2857142857142857,
          0.42857142857142855,
          0.5714285714285714,
          0.7142857142857142,
          0.8571428571428571,
          1
         ],
         "j": [
          3,
          4,
          1,
          2,
          5,
          6,
          5,
          2,
          0,
          1,
          6,
          3
         ],
         "k": [
          0,
          7,
          2,
          3,
          6,
          7,
          1,
          1,
          5,
          5,
          7,
          6
         ],
         "showlegend": false,
         "showscale": false,
         "type": "mesh3d",
         "x": [
          166,
          166,
          188,
          188,
          166,
          166,
          188,
          188
         ],
         "y": [
          944,
          999,
          999,
          944,
          944,
          999,
          999,
          944
         ],
         "z": [
          731,
          731,
          731,
          731,
          791,
          791,
          791,
          791
         ]
        },
        {
         "colorscale": [
          [
           0,
           "gold"
          ],
          [
           0.5,
           "mediumturquoise"
          ],
          [
           1,
           "magenta"
          ]
         ],
         "flatshading": true,
         "i": [
          7,
          0,
          0,
          0,
          4,
          4,
          6,
          6,
          4,
          0,
          3,
          2
         ],
         "intensity": [
          0,
          0.14285714285714285,
          0.2857142857142857,
          0.42857142857142855,
          0.5714285714285714,
          0.7142857142857142,
          0.8571428571428571,
          1
         ],
         "j": [
          3,
          4,
          1,
          2,
          5,
          6,
          5,
          2,
          0,
          1,
          6,
          3
         ],
         "k": [
          0,
          7,
          2,
          3,
          6,
          7,
          1,
          1,
          5,
          5,
          7,
          6
         ],
         "showlegend": false,
         "showscale": false,
         "type": "mesh3d",
         "x": [
          730,
          730,
          762,
          762,
          730,
          730,
          762,
          762
         ],
         "y": [
          895,
          899,
          899,
          895,
          895,
          899,
          899,
          895
         ],
         "z": [
          641,
          641,
          641,
          641,
          684,
          684,
          684,
          684
         ]
        },
        {
         "colorscale": [
          [
           0,
           "gold"
          ],
          [
           0.5,
           "mediumturquoise"
          ],
          [
           1,
           "magenta"
          ]
         ],
         "flatshading": true,
         "i": [
          7,
          0,
          0,
          0,
          4,
          4,
          6,
          6,
          4,
          0,
          3,
          2
         ],
         "intensity": [
          0,
          0.14285714285714285,
          0.2857142857142857,
          0.42857142857142855,
          0.5714285714285714,
          0.7142857142857142,
          0.8571428571428571,
          1
         ],
         "j": [
          3,
          4,
          1,
          2,
          5,
          6,
          5,
          2,
          0,
          1,
          6,
          3
         ],
         "k": [
          0,
          7,
          2,
          3,
          6,
          7,
          1,
          1,
          5,
          5,
          7,
          6
         ],
         "showlegend": false,
         "showscale": false,
         "type": "mesh3d",
         "x": [
          514,
          514,
          540,
          540,
          514,
          514,
          540,
          540
         ],
         "y": [
          995,
          997,
          997,
          995,
          995,
          997,
          997,
          995
         ],
         "z": [
          584,
          584,
          584,
          584,
          587,
          587,
          587,
          587
         ]
        },
        {
         "colorscale": [
          [
           0,
           "gold"
          ],
          [
           0.5,
           "mediumturquoise"
          ],
          [
           1,
           "magenta"
          ]
         ],
         "flatshading": true,
         "i": [
          7,
          0,
          0,
          0,
          4,
          4,
          6,
          6,
          4,
          0,
          3,
          2
         ],
         "intensity": [
          0,
          0.14285714285714285,
          0.2857142857142857,
          0.42857142857142855,
          0.5714285714285714,
          0.7142857142857142,
          0.8571428571428571,
          1
         ],
         "j": [
          3,
          4,
          1,
          2,
          5,
          6,
          5,
          2,
          0,
          1,
          6,
          3
         ],
         "k": [
          0,
          7,
          2,
          3,
          6,
          7,
          1,
          1,
          5,
          5,
          7,
          6
         ],
         "showlegend": false,
         "showscale": false,
         "type": "mesh3d",
         "x": [
          346,
          346,
          388,
          388,
          346,
          346,
          388,
          388
         ],
         "y": [
          117,
          138,
          138,
          117,
          117,
          138,
          138,
          117
         ],
         "z": [
          304,
          304,
          304,
          304,
          367,
          367,
          367,
          367
         ]
        },
        {
         "colorscale": [
          [
           0,
           "gold"
          ],
          [
           0.5,
           "mediumturquoise"
          ],
          [
           1,
           "magenta"
          ]
         ],
         "flatshading": true,
         "i": [
          7,
          0,
          0,
          0,
          4,
          4,
          6,
          6,
          4,
          0,
          3,
          2
         ],
         "intensity": [
          0,
          0.14285714285714285,
          0.2857142857142857,
          0.42857142857142855,
          0.5714285714285714,
          0.7142857142857142,
          0.8571428571428571,
          1
         ],
         "j": [
          3,
          4,
          1,
          2,
          5,
          6,
          5,
          2,
          0,
          1,
          6,
          3
         ],
         "k": [
          0,
          7,
          2,
          3,
          6,
          7,
          1,
          1,
          5,
          5,
          7,
          6
         ],
         "showlegend": false,
         "showscale": false,
         "type": "mesh3d",
         "x": [
          618,
          618,
          632,
          632,
          618,
          618,
          632,
          632
         ],
         "y": [
          1,
          54,
          54,
          1,
          1,
          54,
          54,
          1
         ],
         "z": [
          612,
          612,
          612,
          612,
          675,
          675,
          675,
          675
         ]
        },
        {
         "colorscale": [
          [
           0,
           "gold"
          ],
          [
           0.5,
           "mediumturquoise"
          ],
          [
           1,
           "magenta"
          ]
         ],
         "flatshading": true,
         "i": [
          7,
          0,
          0,
          0,
          4,
          4,
          6,
          6,
          4,
          0,
          3,
          2
         ],
         "intensity": [
          0,
          0.14285714285714285,
          0.2857142857142857,
          0.42857142857142855,
          0.5714285714285714,
          0.7142857142857142,
          0.8571428571428571,
          1
         ],
         "j": [
          3,
          4,
          1,
          2,
          5,
          6,
          5,
          2,
          0,
          1,
          6,
          3
         ],
         "k": [
          0,
          7,
          2,
          3,
          6,
          7,
          1,
          1,
          5,
          5,
          7,
          6
         ],
         "showlegend": false,
         "showscale": false,
         "type": "mesh3d",
         "x": [
          264,
          264,
          284,
          284,
          264,
          264,
          284,
          284
         ],
         "y": [
          555,
          574,
          574,
          555,
          555,
          574,
          574,
          555
         ],
         "z": [
          449,
          449,
          449,
          449,
          462,
          462,
          462,
          462
         ]
        },
        {
         "colorscale": [
          [
           0,
           "gold"
          ],
          [
           0.5,
           "mediumturquoise"
          ],
          [
           1,
           "magenta"
          ]
         ],
         "flatshading": true,
         "i": [
          7,
          0,
          0,
          0,
          4,
          4,
          6,
          6,
          4,
          0,
          3,
          2
         ],
         "intensity": [
          0,
          0.14285714285714285,
          0.2857142857142857,
          0.42857142857142855,
          0.5714285714285714,
          0.7142857142857142,
          0.8571428571428571,
          1
         ],
         "j": [
          3,
          4,
          1,
          2,
          5,
          6,
          5,
          2,
          0,
          1,
          6,
          3
         ],
         "k": [
          0,
          7,
          2,
          3,
          6,
          7,
          1,
          1,
          5,
          5,
          7,
          6
         ],
         "showlegend": false,
         "showscale": false,
         "type": "mesh3d",
         "x": [
          118,
          118,
          186,
          186,
          118,
          118,
          186,
          186
         ],
         "y": [
          193,
          196,
          196,
          193,
          193,
          196,
          196,
          193
         ],
         "z": [
          831,
          831,
          831,
          831,
          891,
          891,
          891,
          891
         ]
        },
        {
         "colorscale": [
          [
           0,
           "gold"
          ],
          [
           0.5,
           "mediumturquoise"
          ],
          [
           1,
           "magenta"
          ]
         ],
         "flatshading": true,
         "i": [
          7,
          0,
          0,
          0,
          4,
          4,
          6,
          6,
          4,
          0,
          3,
          2
         ],
         "intensity": [
          0,
          0.14285714285714285,
          0.2857142857142857,
          0.42857142857142855,
          0.5714285714285714,
          0.7142857142857142,
          0.8571428571428571,
          1
         ],
         "j": [
          3,
          4,
          1,
          2,
          5,
          6,
          5,
          2,
          0,
          1,
          6,
          3
         ],
         "k": [
          0,
          7,
          2,
          3,
          6,
          7,
          1,
          1,
          5,
          5,
          7,
          6
         ],
         "showlegend": false,
         "showscale": false,
         "type": "mesh3d",
         "x": [
          96,
          96,
          98,
          98,
          96,
          96,
          98,
          98
         ],
         "y": [
          313,
          321,
          321,
          313,
          313,
          321,
          321,
          313
         ],
         "z": [
          665,
          665,
          665,
          665,
          678,
          678,
          678,
          678
         ]
        },
        {
         "colorscale": [
          [
           0,
           "gold"
          ],
          [
           0.5,
           "mediumturquoise"
          ],
          [
           1,
           "magenta"
          ]
         ],
         "flatshading": true,
         "i": [
          7,
          0,
          0,
          0,
          4,
          4,
          6,
          6,
          4,
          0,
          3,
          2
         ],
         "intensity": [
          0,
          0.14285714285714285,
          0.2857142857142857,
          0.42857142857142855,
          0.5714285714285714,
          0.7142857142857142,
          0.8571428571428571,
          1
         ],
         "j": [
          3,
          4,
          1,
          2,
          5,
          6,
          5,
          2,
          0,
          1,
          6,
          3
         ],
         "k": [
          0,
          7,
          2,
          3,
          6,
          7,
          1,
          1,
          5,
          5,
          7,
          6
         ],
         "showlegend": false,
         "showscale": false,
         "type": "mesh3d",
         "x": [
          311,
          311,
          377,
          377,
          311,
          311,
          377,
          377
         ],
         "y": [
          971,
          979,
          979,
          971,
          971,
          979,
          979,
          971
         ],
         "z": [
          500,
          500,
          500,
          500,
          558,
          558,
          558,
          558
         ]
        },
        {
         "colorscale": [
          [
           0,
           "gold"
          ],
          [
           0.5,
           "mediumturquoise"
          ],
          [
           1,
           "magenta"
          ]
         ],
         "flatshading": true,
         "i": [
          7,
          0,
          0,
          0,
          4,
          4,
          6,
          6,
          4,
          0,
          3,
          2
         ],
         "intensity": [
          0,
          0.14285714285714285,
          0.2857142857142857,
          0.42857142857142855,
          0.5714285714285714,
          0.7142857142857142,
          0.8571428571428571,
          1
         ],
         "j": [
          3,
          4,
          1,
          2,
          5,
          6,
          5,
          2,
          0,
          1,
          6,
          3
         ],
         "k": [
          0,
          7,
          2,
          3,
          6,
          7,
          1,
          1,
          5,
          5,
          7,
          6
         ],
         "showlegend": false,
         "showscale": false,
         "type": "mesh3d",
         "x": [
          416,
          416,
          496,
          496,
          416,
          416,
          496,
          496
         ],
         "y": [
          307,
          347,
          347,
          307,
          307,
          347,
          347,
          307
         ],
         "z": [
          951,
          951,
          951,
          951,
          952,
          952,
          952,
          952
         ]
        },
        {
         "colorscale": [
          [
           0,
           "gold"
          ],
          [
           0.5,
           "mediumturquoise"
          ],
          [
           1,
           "magenta"
          ]
         ],
         "flatshading": true,
         "i": [
          7,
          0,
          0,
          0,
          4,
          4,
          6,
          6,
          4,
          0,
          3,
          2
         ],
         "intensity": [
          0,
          0.14285714285714285,
          0.2857142857142857,
          0.42857142857142855,
          0.5714285714285714,
          0.7142857142857142,
          0.8571428571428571,
          1
         ],
         "j": [
          3,
          4,
          1,
          2,
          5,
          6,
          5,
          2,
          0,
          1,
          6,
          3
         ],
         "k": [
          0,
          7,
          2,
          3,
          6,
          7,
          1,
          1,
          5,
          5,
          7,
          6
         ],
         "showlegend": false,
         "showscale": false,
         "type": "mesh3d",
         "x": [
          893,
          893,
          899,
          899,
          893,
          893,
          899,
          899
         ],
         "y": [
          475,
          490,
          490,
          475,
          475,
          490,
          490,
          475
         ],
         "z": [
          53,
          53,
          53,
          53,
          90,
          90,
          90,
          90
         ]
        },
        {
         "colorscale": [
          [
           0,
           "gold"
          ],
          [
           0.5,
           "mediumturquoise"
          ],
          [
           1,
           "magenta"
          ]
         ],
         "flatshading": true,
         "i": [
          7,
          0,
          0,
          0,
          4,
          4,
          6,
          6,
          4,
          0,
          3,
          2
         ],
         "intensity": [
          0,
          0.14285714285714285,
          0.2857142857142857,
          0.42857142857142855,
          0.5714285714285714,
          0.7142857142857142,
          0.8571428571428571,
          1
         ],
         "j": [
          3,
          4,
          1,
          2,
          5,
          6,
          5,
          2,
          0,
          1,
          6,
          3
         ],
         "k": [
          0,
          7,
          2,
          3,
          6,
          7,
          1,
          1,
          5,
          5,
          7,
          6
         ],
         "showlegend": false,
         "showscale": false,
         "type": "mesh3d",
         "x": [
          637,
          637,
          653,
          653,
          637,
          637,
          653,
          653
         ],
         "y": [
          358,
          396,
          396,
          358,
          358,
          396,
          396,
          358
         ],
         "z": [
          566,
          566,
          566,
          566,
          584,
          584,
          584,
          584
         ]
        },
        {
         "colorscale": [
          [
           0,
           "gold"
          ],
          [
           0.5,
           "mediumturquoise"
          ],
          [
           1,
           "magenta"
          ]
         ],
         "flatshading": true,
         "i": [
          7,
          0,
          0,
          0,
          4,
          4,
          6,
          6,
          4,
          0,
          3,
          2
         ],
         "intensity": [
          0,
          0.14285714285714285,
          0.2857142857142857,
          0.42857142857142855,
          0.5714285714285714,
          0.7142857142857142,
          0.8571428571428571,
          1
         ],
         "j": [
          3,
          4,
          1,
          2,
          5,
          6,
          5,
          2,
          0,
          1,
          6,
          3
         ],
         "k": [
          0,
          7,
          2,
          3,
          6,
          7,
          1,
          1,
          5,
          5,
          7,
          6
         ],
         "showlegend": false,
         "showscale": false,
         "type": "mesh3d",
         "x": [
          389,
          389,
          392,
          392,
          389,
          389,
          392,
          392
         ],
         "y": [
          248,
          255,
          255,
          248,
          248,
          255,
          255,
          248
         ],
         "z": [
          619,
          619,
          619,
          619,
          673,
          673,
          673,
          673
         ]
        },
        {
         "colorscale": [
          [
           0,
           "gold"
          ],
          [
           0.5,
           "mediumturquoise"
          ],
          [
           1,
           "magenta"
          ]
         ],
         "flatshading": true,
         "i": [
          7,
          0,
          0,
          0,
          4,
          4,
          6,
          6,
          4,
          0,
          3,
          2
         ],
         "intensity": [
          0,
          0.14285714285714285,
          0.2857142857142857,
          0.42857142857142855,
          0.5714285714285714,
          0.7142857142857142,
          0.8571428571428571,
          1
         ],
         "j": [
          3,
          4,
          1,
          2,
          5,
          6,
          5,
          2,
          0,
          1,
          6,
          3
         ],
         "k": [
          0,
          7,
          2,
          3,
          6,
          7,
          1,
          1,
          5,
          5,
          7,
          6
         ],
         "showlegend": false,
         "showscale": false,
         "type": "mesh3d",
         "x": [
          122,
          122,
          147,
          147,
          122,
          122,
          147,
          147
         ],
         "y": [
          20,
          80,
          80,
          20,
          20,
          80,
          80,
          20
         ],
         "z": [
          408,
          408,
          408,
          408,
          486,
          486,
          486,
          486
         ]
        },
        {
         "colorscale": [
          [
           0,
           "gold"
          ],
          [
           0.5,
           "mediumturquoise"
          ],
          [
           1,
           "magenta"
          ]
         ],
         "flatshading": true,
         "i": [
          7,
          0,
          0,
          0,
          4,
          4,
          6,
          6,
          4,
          0,
          3,
          2
         ],
         "intensity": [
          0,
          0.14285714285714285,
          0.2857142857142857,
          0.42857142857142855,
          0.5714285714285714,
          0.7142857142857142,
          0.8571428571428571,
          1
         ],
         "j": [
          3,
          4,
          1,
          2,
          5,
          6,
          5,
          2,
          0,
          1,
          6,
          3
         ],
         "k": [
          0,
          7,
          2,
          3,
          6,
          7,
          1,
          1,
          5,
          5,
          7,
          6
         ],
         "showlegend": false,
         "showscale": false,
         "type": "mesh3d",
         "x": [
          735,
          735,
          742,
          742,
          735,
          735,
          742,
          742
         ],
         "y": [
          514,
          561,
          561,
          514,
          514,
          561,
          561,
          514
         ],
         "z": [
          204,
          204,
          204,
          204,
          236,
          236,
          236,
          236
         ]
        },
        {
         "colorscale": [
          [
           0,
           "gold"
          ],
          [
           0.5,
           "mediumturquoise"
          ],
          [
           1,
           "magenta"
          ]
         ],
         "flatshading": true,
         "i": [
          7,
          0,
          0,
          0,
          4,
          4,
          6,
          6,
          4,
          0,
          3,
          2
         ],
         "intensity": [
          0,
          0.14285714285714285,
          0.2857142857142857,
          0.42857142857142855,
          0.5714285714285714,
          0.7142857142857142,
          0.8571428571428571,
          1
         ],
         "j": [
          3,
          4,
          1,
          2,
          5,
          6,
          5,
          2,
          0,
          1,
          6,
          3
         ],
         "k": [
          0,
          7,
          2,
          3,
          6,
          7,
          1,
          1,
          5,
          5,
          7,
          6
         ],
         "showlegend": false,
         "showscale": false,
         "type": "mesh3d",
         "x": [
          515,
          515,
          575,
          575,
          515,
          515,
          575,
          575
         ],
         "y": [
          756,
          780,
          780,
          756,
          756,
          780,
          780,
          756
         ],
         "z": [
          603,
          603,
          603,
          603,
          689,
          689,
          689,
          689
         ]
        }
       ],
       "layout": {
        "autosize": true,
        "margin": {
         "b": 10,
         "l": 10,
         "r": 20,
         "t": 10
        },
        "scene": {
         "aspectmode": "cube",
         "aspectratio": {
          "x": 1,
          "y": 1,
          "z": 1
         },
         "camera": {
          "center": {
           "x": 0,
           "y": 0,
           "z": 0
          },
          "eye": {
           "x": 1.6407240519131074,
           "y": -1.1803584239161358,
           "z": 1.1901125022028656
          },
          "projection": {
           "type": "perspective"
          },
          "up": {
           "x": 0,
           "y": 0,
           "z": 1
          }
         },
         "xaxis": {
          "nticks": 4,
          "range": [
           0,
           1000
          ],
          "type": "linear"
         },
         "yaxis": {
          "nticks": 4,
          "range": [
           0,
           1000
          ],
          "type": "linear"
         },
         "zaxis": {
          "nticks": 4,
          "range": [
           0,
           1000
          ],
          "type": "linear"
         }
        },
        "template": {
         "data": {
          "bar": [
           {
            "error_x": {
             "color": "#2a3f5f"
            },
            "error_y": {
             "color": "#2a3f5f"
            },
            "marker": {
             "line": {
              "color": "#E5ECF6",
              "width": 0.5
             },
             "pattern": {
              "fillmode": "overlay",
              "size": 10,
              "solidity": 0.2
             }
            },
            "type": "bar"
           }
          ],
          "barpolar": [
           {
            "marker": {
             "line": {
              "color": "#E5ECF6",
              "width": 0.5
             },
             "pattern": {
              "fillmode": "overlay",
              "size": 10,
              "solidity": 0.2
             }
            },
            "type": "barpolar"
           }
          ],
          "carpet": [
           {
            "aaxis": {
             "endlinecolor": "#2a3f5f",
             "gridcolor": "white",
             "linecolor": "white",
             "minorgridcolor": "white",
             "startlinecolor": "#2a3f5f"
            },
            "baxis": {
             "endlinecolor": "#2a3f5f",
             "gridcolor": "white",
             "linecolor": "white",
             "minorgridcolor": "white",
             "startlinecolor": "#2a3f5f"
            },
            "type": "carpet"
           }
          ],
          "choropleth": [
           {
            "colorbar": {
             "outlinewidth": 0,
             "ticks": ""
            },
            "type": "choropleth"
           }
          ],
          "contour": [
           {
            "colorbar": {
             "outlinewidth": 0,
             "ticks": ""
            },
            "colorscale": [
             [
              0,
              "#0d0887"
             ],
             [
              0.1111111111111111,
              "#46039f"
             ],
             [
              0.2222222222222222,
              "#7201a8"
             ],
             [
              0.3333333333333333,
              "#9c179e"
             ],
             [
              0.4444444444444444,
              "#bd3786"
             ],
             [
              0.5555555555555556,
              "#d8576b"
             ],
             [
              0.6666666666666666,
              "#ed7953"
             ],
             [
              0.7777777777777778,
              "#fb9f3a"
             ],
             [
              0.8888888888888888,
              "#fdca26"
             ],
             [
              1,
              "#f0f921"
             ]
            ],
            "type": "contour"
           }
          ],
          "contourcarpet": [
           {
            "colorbar": {
             "outlinewidth": 0,
             "ticks": ""
            },
            "type": "contourcarpet"
           }
          ],
          "heatmap": [
           {
            "colorbar": {
             "outlinewidth": 0,
             "ticks": ""
            },
            "colorscale": [
             [
              0,
              "#0d0887"
             ],
             [
              0.1111111111111111,
              "#46039f"
             ],
             [
              0.2222222222222222,
              "#7201a8"
             ],
             [
              0.3333333333333333,
              "#9c179e"
             ],
             [
              0.4444444444444444,
              "#bd3786"
             ],
             [
              0.5555555555555556,
              "#d8576b"
             ],
             [
              0.6666666666666666,
              "#ed7953"
             ],
             [
              0.7777777777777778,
              "#fb9f3a"
             ],
             [
              0.8888888888888888,
              "#fdca26"
             ],
             [
              1,
              "#f0f921"
             ]
            ],
            "type": "heatmap"
           }
          ],
          "heatmapgl": [
           {
            "colorbar": {
             "outlinewidth": 0,
             "ticks": ""
            },
            "colorscale": [
             [
              0,
              "#0d0887"
             ],
             [
              0.1111111111111111,
              "#46039f"
             ],
             [
              0.2222222222222222,
              "#7201a8"
             ],
             [
              0.3333333333333333,
              "#9c179e"
             ],
             [
              0.4444444444444444,
              "#bd3786"
             ],
             [
              0.5555555555555556,
              "#d8576b"
             ],
             [
              0.6666666666666666,
              "#ed7953"
             ],
             [
              0.7777777777777778,
              "#fb9f3a"
             ],
             [
              0.8888888888888888,
              "#fdca26"
             ],
             [
              1,
              "#f0f921"
             ]
            ],
            "type": "heatmapgl"
           }
          ],
          "histogram": [
           {
            "marker": {
             "pattern": {
              "fillmode": "overlay",
              "size": 10,
              "solidity": 0.2
             }
            },
            "type": "histogram"
           }
          ],
          "histogram2d": [
           {
            "colorbar": {
             "outlinewidth": 0,
             "ticks": ""
            },
            "colorscale": [
             [
              0,
              "#0d0887"
             ],
             [
              0.1111111111111111,
              "#46039f"
             ],
             [
              0.2222222222222222,
              "#7201a8"
             ],
             [
              0.3333333333333333,
              "#9c179e"
             ],
             [
              0.4444444444444444,
              "#bd3786"
             ],
             [
              0.5555555555555556,
              "#d8576b"
             ],
             [
              0.6666666666666666,
              "#ed7953"
             ],
             [
              0.7777777777777778,
              "#fb9f3a"
             ],
             [
              0.8888888888888888,
              "#fdca26"
             ],
             [
              1,
              "#f0f921"
             ]
            ],
            "type": "histogram2d"
           }
          ],
          "histogram2dcontour": [
           {
            "colorbar": {
             "outlinewidth": 0,
             "ticks": ""
            },
            "colorscale": [
             [
              0,
              "#0d0887"
             ],
             [
              0.1111111111111111,
              "#46039f"
             ],
             [
              0.2222222222222222,
              "#7201a8"
             ],
             [
              0.3333333333333333,
              "#9c179e"
             ],
             [
              0.4444444444444444,
              "#bd3786"
             ],
             [
              0.5555555555555556,
              "#d8576b"
             ],
             [
              0.6666666666666666,
              "#ed7953"
             ],
             [
              0.7777777777777778,
              "#fb9f3a"
             ],
             [
              0.8888888888888888,
              "#fdca26"
             ],
             [
              1,
              "#f0f921"
             ]
            ],
            "type": "histogram2dcontour"
           }
          ],
          "mesh3d": [
           {
            "colorbar": {
             "outlinewidth": 0,
             "ticks": ""
            },
            "type": "mesh3d"
           }
          ],
          "parcoords": [
           {
            "line": {
             "colorbar": {
              "outlinewidth": 0,
              "ticks": ""
             }
            },
            "type": "parcoords"
           }
          ],
          "pie": [
           {
            "automargin": true,
            "type": "pie"
           }
          ],
          "scatter": [
           {
            "fillpattern": {
             "fillmode": "overlay",
             "size": 10,
             "solidity": 0.2
            },
            "type": "scatter"
           }
          ],
          "scatter3d": [
           {
            "line": {
             "colorbar": {
              "outlinewidth": 0,
              "ticks": ""
             }
            },
            "marker": {
             "colorbar": {
              "outlinewidth": 0,
              "ticks": ""
             }
            },
            "type": "scatter3d"
           }
          ],
          "scattercarpet": [
           {
            "marker": {
             "colorbar": {
              "outlinewidth": 0,
              "ticks": ""
             }
            },
            "type": "scattercarpet"
           }
          ],
          "scattergeo": [
           {
            "marker": {
             "colorbar": {
              "outlinewidth": 0,
              "ticks": ""
             }
            },
            "type": "scattergeo"
           }
          ],
          "scattergl": [
           {
            "marker": {
             "colorbar": {
              "outlinewidth": 0,
              "ticks": ""
             }
            },
            "type": "scattergl"
           }
          ],
          "scattermapbox": [
           {
            "marker": {
             "colorbar": {
              "outlinewidth": 0,
              "ticks": ""
             }
            },
            "type": "scattermapbox"
           }
          ],
          "scatterpolar": [
           {
            "marker": {
             "colorbar": {
              "outlinewidth": 0,
              "ticks": ""
             }
            },
            "type": "scatterpolar"
           }
          ],
          "scatterpolargl": [
           {
            "marker": {
             "colorbar": {
              "outlinewidth": 0,
              "ticks": ""
             }
            },
            "type": "scatterpolargl"
           }
          ],
          "scatterternary": [
           {
            "marker": {
             "colorbar": {
              "outlinewidth": 0,
              "ticks": ""
             }
            },
            "type": "scatterternary"
           }
          ],
          "surface": [
           {
            "colorbar": {
             "outlinewidth": 0,
             "ticks": ""
            },
            "colorscale": [
             [
              0,
              "#0d0887"
             ],
             [
              0.1111111111111111,
              "#46039f"
             ],
             [
              0.2222222222222222,
              "#7201a8"
             ],
             [
              0.3333333333333333,
              "#9c179e"
             ],
             [
              0.4444444444444444,
              "#bd3786"
             ],
             [
              0.5555555555555556,
              "#d8576b"
             ],
             [
              0.6666666666666666,
              "#ed7953"
             ],
             [
              0.7777777777777778,
              "#fb9f3a"
             ],
             [
              0.8888888888888888,
              "#fdca26"
             ],
             [
              1,
              "#f0f921"
             ]
            ],
            "type": "surface"
           }
          ],
          "table": [
           {
            "cells": {
             "fill": {
              "color": "#EBF0F8"
             },
             "line": {
              "color": "white"
             }
            },
            "header": {
             "fill": {
              "color": "#C8D4E3"
             },
             "line": {
              "color": "white"
             }
            },
            "type": "table"
           }
          ]
         },
         "layout": {
          "annotationdefaults": {
           "arrowcolor": "#2a3f5f",
           "arrowhead": 0,
           "arrowwidth": 1
          },
          "autotypenumbers": "strict",
          "coloraxis": {
           "colorbar": {
            "outlinewidth": 0,
            "ticks": ""
           }
          },
          "colorscale": {
           "diverging": [
            [
             0,
             "#8e0152"
            ],
            [
             0.1,
             "#c51b7d"
            ],
            [
             0.2,
             "#de77ae"
            ],
            [
             0.3,
             "#f1b6da"
            ],
            [
             0.4,
             "#fde0ef"
            ],
            [
             0.5,
             "#f7f7f7"
            ],
            [
             0.6,
             "#e6f5d0"
            ],
            [
             0.7,
             "#b8e186"
            ],
            [
             0.8,
             "#7fbc41"
            ],
            [
             0.9,
             "#4d9221"
            ],
            [
             1,
             "#276419"
            ]
           ],
           "sequential": [
            [
             0,
             "#0d0887"
            ],
            [
             0.1111111111111111,
             "#46039f"
            ],
            [
             0.2222222222222222,
             "#7201a8"
            ],
            [
             0.3333333333333333,
             "#9c179e"
            ],
            [
             0.4444444444444444,
             "#bd3786"
            ],
            [
             0.5555555555555556,
             "#d8576b"
            ],
            [
             0.6666666666666666,
             "#ed7953"
            ],
            [
             0.7777777777777778,
             "#fb9f3a"
            ],
            [
             0.8888888888888888,
             "#fdca26"
            ],
            [
             1,
             "#f0f921"
            ]
           ],
           "sequentialminus": [
            [
             0,
             "#0d0887"
            ],
            [
             0.1111111111111111,
             "#46039f"
            ],
            [
             0.2222222222222222,
             "#7201a8"
            ],
            [
             0.3333333333333333,
             "#9c179e"
            ],
            [
             0.4444444444444444,
             "#bd3786"
            ],
            [
             0.5555555555555556,
             "#d8576b"
            ],
            [
             0.6666666666666666,
             "#ed7953"
            ],
            [
             0.7777777777777778,
             "#fb9f3a"
            ],
            [
             0.8888888888888888,
             "#fdca26"
            ],
            [
             1,
             "#f0f921"
            ]
           ]
          },
          "colorway": [
           "#636efa",
           "#EF553B",
           "#00cc96",
           "#ab63fa",
           "#FFA15A",
           "#19d3f3",
           "#FF6692",
           "#B6E880",
           "#FF97FF",
           "#FECB52"
          ],
          "font": {
           "color": "#2a3f5f"
          },
          "geo": {
           "bgcolor": "white",
           "lakecolor": "white",
           "landcolor": "#E5ECF6",
           "showlakes": true,
           "showland": true,
           "subunitcolor": "white"
          },
          "hoverlabel": {
           "align": "left"
          },
          "hovermode": "closest",
          "mapbox": {
           "style": "light"
          },
          "paper_bgcolor": "white",
          "plot_bgcolor": "#E5ECF6",
          "polar": {
           "angularaxis": {
            "gridcolor": "white",
            "linecolor": "white",
            "ticks": ""
           },
           "bgcolor": "#E5ECF6",
           "radialaxis": {
            "gridcolor": "white",
            "linecolor": "white",
            "ticks": ""
           }
          },
          "scene": {
           "xaxis": {
            "backgroundcolor": "#E5ECF6",
            "gridcolor": "white",
            "gridwidth": 2,
            "linecolor": "white",
            "showbackground": true,
            "ticks": "",
            "zerolinecolor": "white"
           },
           "yaxis": {
            "backgroundcolor": "#E5ECF6",
            "gridcolor": "white",
            "gridwidth": 2,
            "linecolor": "white",
            "showbackground": true,
            "ticks": "",
            "zerolinecolor": "white"
           },
           "zaxis": {
            "backgroundcolor": "#E5ECF6",
            "gridcolor": "white",
            "gridwidth": 2,
            "linecolor": "white",
            "showbackground": true,
            "ticks": "",
            "zerolinecolor": "white"
           }
          },
          "shapedefaults": {
           "line": {
            "color": "#2a3f5f"
           }
          },
          "ternary": {
           "aaxis": {
            "gridcolor": "white",
            "linecolor": "white",
            "ticks": ""
           },
           "baxis": {
            "gridcolor": "white",
            "linecolor": "white",
            "ticks": ""
           },
           "bgcolor": "#E5ECF6",
           "caxis": {
            "gridcolor": "white",
            "linecolor": "white",
            "ticks": ""
           }
          },
          "title": {
           "x": 0.05
          },
          "xaxis": {
           "automargin": true,
           "gridcolor": "white",
           "linecolor": "white",
           "ticks": "",
           "title": {
            "standoff": 15
           },
           "zerolinecolor": "white",
           "zerolinewidth": 2
          },
          "yaxis": {
           "automargin": true,
           "gridcolor": "white",
           "linecolor": "white",
           "ticks": "",
           "title": {
            "standoff": 15
           },
           "zerolinecolor": "white",
           "zerolinewidth": 2
          }
         }
        }
       }
      },
      "image/png": "[encoded data removed]",
      "text/html": [
       "<div>                            <div id=\"c9eeb6ad-0f17-4af7-8b5b-17078622c2c9\" class=\"plotly-graph-div\" style=\"height:525px; width:700px;\"></div>            <script type=\"text/javascript\">                require([\"plotly\"], function(Plotly) {                    window.PLOTLYENV=window.PLOTLYENV || {};                                    if (document.getElementById(\"c9eeb6ad-0f17-4af7-8b5b-17078622c2c9\")) {                    Plotly.newPlot(                        \"c9eeb6ad-0f17-4af7-8b5b-17078622c2c9\",                        [{\"colorscale\":[[0,\"gold\"],[0.5,\"mediumturquoise\"],[1,\"magenta\"]],\"flatshading\":true,\"i\":[7,0,0,0,4,4,6,6,4,0,3,2],\"intensity\":[0.0,0.14285714285714285,0.2857142857142857,0.42857142857142855,0.5714285714285714,0.7142857142857142,0.8571428571428571,1.0],\"j\":[3,4,1,2,5,6,5,2,0,1,6,3],\"k\":[0,7,2,3,6,7,1,1,5,5,7,6],\"showlegend\":false,\"showscale\":false,\"x\":[826.0,826.0,860.0,860.0,826.0,826.0,860.0,860.0],\"y\":[16.0,25.0,25.0,16.0,16.0,25.0,25.0,16.0],\"z\":[807.0,807.0,807.0,807.0,895.0,895.0,895.0,895.0],\"type\":\"mesh3d\"},{\"colorscale\":[[0,\"gold\"],[0.5,\"mediumturquoise\"],[1,\"magenta\"]],\"flatshading\":true,\"i\":[7,0,0,0,4,4,6,6,4,0,3,2],\"intensity\":[0.0,0.14285714285714285,0.2857142857142857,0.42857142857142855,0.5714285714285714,0.7142857142857142,0.8571428571428571,1.0],\"j\":[3,4,1,2,5,6,5,2,0,1,6,3],\"k\":[0,7,2,3,6,7,1,1,5,5,7,6],\"showlegend\":false,\"showscale\":false,\"x\":[898.0,898.0,899.0,899.0,898.0,898.0,899.0,899.0],\"y\":[629.0,654.0,654.0,629.0,629.0,654.0,654.0,629.0],\"z\":[898.0,898.0,898.0,898.0,899.0,899.0,899.0,899.0],\"type\":\"mesh3d\"},{\"colorscale\":[[0,\"gold\"],[0.5,\"mediumturquoise\"],[1,\"magenta\"]],\"flatshading\":true,\"i\":[7,0,0,0,4,4,6,6,4,0,3,2],\"intensity\":[0.0,0.14285714285714285,0.2857142857142857,0.42857142857142855,0.5714285714285714,0.7142857142857142,0.8571428571428571,1.0],\"j\":[3,4,1,2,5,6,5,2,0,1,6,3],\"k\":[0,7,2,3,6,7,1,1,5,5,7,6],\"showlegend\":false,\"showscale\":false,\"x\":[125.0,125.0,195.0,195.0,125.0,125.0,195.0,195.0],\"y\":[966.0,973.0,973.0,966.0,966.0,973.0,973.0,966.0],\"z\":[726.0,726.0,726.0,726.0,791.0,791.0,791.0,791.0],\"type\":\"mesh3d\"},{\"colorscale\":[[0,\"gold\"],[0.5,\"mediumturquoise\"],[1,\"magenta\"]],\"flatshading\":true,\"i\":[7,0,0,0,4,4,6,6,4,0,3,2],\"intensity\":[0.0,0.14285714285714285,0.2857142857142857,0.42857142857142855,0.5714285714285714,0.7142857142857142,0.8571428571428571,1.0],\"j\":[3,4,1,2,5,6,5,2,0,1,6,3],\"k\":[0,7,2,3,6,7,1,1,5,5,7,6],\"showlegend\":false,\"showscale\":false,\"x\":[941.0,941.0,945.0,945.0,941.0,941.0,945.0,945.0],\"y\":[156.0,181.0,181.0,156.0,156.0,181.0,181.0,156.0],\"z\":[904.0,904.0,904.0,904.0,975.0,975.0,975.0,975.0],\"type\":\"mesh3d\"},{\"colorscale\":[[0,\"gold\"],[0.5,\"mediumturquoise\"],[1,\"magenta\"]],\"flatshading\":true,\"i\":[7,0,0,0,4,4,6,6,4,0,3,2],\"intensity\":[0.0,0.14285714285714285,0.2857142857142857,0.42857142857142855,0.5714285714285714,0.7142857142857142,0.8571428571428571,1.0],\"j\":[3,4,1,2,5,6,5,2,0,1,6,3],\"k\":[0,7,2,3,6,7,1,1,5,5,7,6],\"showlegend\":false,\"showscale\":false,\"x\":[230.0,230.0,295.0,295.0,230.0,230.0,295.0,295.0],\"y\":[650.0,666.0,666.0,650.0,650.0,666.0,666.0,650.0],\"z\":[963.0,963.0,963.0,963.0,976.0,976.0,976.0,976.0],\"type\":\"mesh3d\"},{\"colorscale\":[[0,\"gold\"],[0.5,\"mediumturquoise\"],[1,\"magenta\"]],\"flatshading\":true,\"i\":[7,0,0,0,4,4,6,6,4,0,3,2],\"intensity\":[0.0,0.14285714285714285,0.2857142857142857,0.42857142857142855,0.5714285714285714,0.7142857142857142,0.8571428571428571,1.0],\"j\":[3,4,1,2,5,6,5,2,0,1,6,3],\"k\":[0,7,2,3,6,7,1,1,5,5,7,6],\"showlegend\":false,\"showscale\":false,\"x\":[292.0,292.0,299.0,299.0,292.0,292.0,299.0,299.0],\"y\":[527.0,599.0,599.0,527.0,527.0,599.0,599.0,527.0],\"z\":[10.0,10.0,10.0,10.0,18.0,18.0,18.0,18.0],\"type\":\"mesh3d\"},{\"colorscale\":[[0,\"gold\"],[0.5,\"mediumturquoise\"],[1,\"magenta\"]],\"flatshading\":true,\"i\":[7,0,0,0,4,4,6,6,4,0,3,2],\"intensity\":[0.0,0.14285714285714285,0.2857142857142857,0.42857142857142855,0.5714285714285714,0.7142857142857142,0.8571428571428571,1.0],\"j\":[3,4,1,2,5,6,5,2,0,1,6,3],\"k\":[0,7,2,3,6,7,1,1,5,5,7,6],\"showlegend\":false,\"showscale\":false,\"x\":[600.0,600.0,621.0,621.0,600.0,600.0,621.0,621.0],\"y\":[610.0,693.0,693.0,610.0,610.0,693.0,693.0,610.0],\"z\":[381.0,381.0,381.0,381.0,385.0,385.0,385.0,385.0],\"type\":\"mesh3d\"},{\"colorscale\":[[0,\"gold\"],[0.5,\"mediumturquoise\"],[1,\"magenta\"]],\"flatshading\":true,\"i\":[7,0,0,0,4,4,6,6,4,0,3,2],\"intensity\":[0.0,0.14285714285714285,0.2857142857142857,0.42857142857142855,0.5714285714285714,0.7142857142857142,0.8571428571428571,1.0],\"j\":[3,4,1,2,5,6,5,2,0,1,6,3],\"k\":[0,7,2,3,6,7,1,1,5,5,7,6],\"showlegend\":false,\"showscale\":false,\"x\":[727.0,727.0,766.0,766.0,727.0,727.0,766.0,766.0],\"y\":[784.0,785.0,785.0,784.0,784.0,785.0,785.0,784.0],\"z\":[667.0,667.0,667.0,667.0,682.0,682.0,682.0,682.0],\"type\":\"mesh3d\"},{\"colorscale\":[[0,\"gold\"],[0.5,\"mediumturquoise\"],[1,\"magenta\"]],\"flatshading\":true,\"i\":[7,0,0,0,4,4,6,6,4,0,3,2],\"intensity\":[0.0,0.14285714285714285,0.2857142857142857,0.42857142857142855,0.5714285714285714,0.7142857142857142,0.8571428571428571,1.0],\"j\":[3,4,1,2,5,6,5,2,0,1,6,3],\"k\":[0,7,2,3,6,7,1,1,5,5,7,6],\"showlegend\":false,\"showscale\":false,\"x\":[62.0,62.0,87.0,87.0,62.0,62.0,87.0,87.0],\"y\":[900.0,996.0,996.0,900.0,900.0,996.0,996.0,900.0],\"z\":[143.0,143.0,143.0,143.0,172.0,172.0,172.0,172.0],\"type\":\"mesh3d\"},{\"colorscale\":[[0,\"gold\"],[0.5,\"mediumturquoise\"],[1,\"magenta\"]],\"flatshading\":true,\"i\":[7,0,0,0,4,4,6,6,4,0,3,2],\"intensity\":[0.0,0.14285714285714285,0.2857142857142857,0.42857142857142855,0.5714285714285714,0.7142857142857142,0.8571428571428571,1.0],\"j\":[3,4,1,2,5,6,5,2,0,1,6,3],\"k\":[0,7,2,3,6,7,1,1,5,5,7,6],\"showlegend\":false,\"showscale\":false,\"x\":[564.0,564.0,589.0,589.0,564.0,564.0,589.0,589.0],\"y\":[456.0,482.0,482.0,456.0,456.0,482.0,482.0,456.0],\"z\":[508.0,508.0,508.0,508.0,526.0,526.0,526.0,526.0],\"type\":\"mesh3d\"},{\"colorscale\":[[0,\"gold\"],[0.5,\"mediumturquoise\"],[1,\"magenta\"]],\"flatshading\":true,\"i\":[7,0,0,0,4,4,6,6,4,0,3,2],\"intensity\":[0.0,0.14285714285714285,0.2857142857142857,0.42857142857142855,0.5714285714285714,0.7142857142857142,0.8571428571428571,1.0],\"j\":[3,4,1,2,5,6,5,2,0,1,6,3],\"k\":[0,7,2,3,6,7,1,1,5,5,7,6],\"showlegend\":false,\"showscale\":false,\"x\":[55.0,55.0,65.0,65.0,55.0,55.0,65.0,65.0],\"y\":[90.0,91.0,91.0,90.0,90.0,91.0,91.0,90.0],\"z\":[126.0,126.0,126.0,126.0,148.0,148.0,148.0,148.0],\"type\":\"mesh3d\"},{\"colorscale\":[[0,\"gold\"],[0.5,\"mediumturquoise\"],[1,\"magenta\"]],\"flatshading\":true,\"i\":[7,0,0,0,4,4,6,6,4,0,3,2],\"intensity\":[0.0,0.14285714285714285,0.2857142857142857,0.42857142857142855,0.5714285714285714,0.7142857142857142,0.8571428571428571,1.0],\"j\":[3,4,1,2,5,6,5,2,0,1,6,3],\"k\":[0,7,2,3,6,7,1,1,5,5,7,6],\"showlegend\":false,\"showscale\":false,\"x\":[859.0,859.0,876.0,876.0,859.0,859.0,876.0,876.0],\"y\":[581.0,582.0,582.0,581.0,581.0,582.0,582.0,581.0],\"z\":[276.0,276.0,276.0,276.0,293.0,293.0,293.0,293.0],\"type\":\"mesh3d\"},{\"colorscale\":[[0,\"gold\"],[0.5,\"mediumturquoise\"],[1,\"magenta\"]],\"flatshading\":true,\"i\":[7,0,0,0,4,4,6,6,4,0,3,2],\"intensity\":[0.0,0.14285714285714285,0.2857142857142857,0.42857142857142855,0.5714285714285714,0.7142857142857142,0.8571428571428571,1.0],\"j\":[3,4,1,2,5,6,5,2,0,1,6,3],\"k\":[0,7,2,3,6,7,1,1,5,5,7,6],\"showlegend\":false,\"showscale\":false,\"x\":[882.0,882.0,884.0,884.0,882.0,882.0,884.0,884.0],\"y\":[296.0,299.0,299.0,296.0,296.0,299.0,299.0,296.0],\"z\":[26.0,26.0,26.0,26.0,59.0,59.0,59.0,59.0],\"type\":\"mesh3d\"},{\"colorscale\":[[0,\"gold\"],[0.5,\"mediumturquoise\"],[1,\"magenta\"]],\"flatshading\":true,\"i\":[7,0,0,0,4,4,6,6,4,0,3,2],\"intensity\":[0.0,0.14285714285714285,0.2857142857142857,0.42857142857142855,0.5714285714285714,0.7142857142857142,0.8571428571428571,1.0],\"j\":[3,4,1,2,5,6,5,2,0,1,6,3],\"k\":[0,7,2,3,6,7,1,1,5,5,7,6],\"showlegend\":false,\"showscale\":false,\"x\":[615.0,615.0,651.0,651.0,615.0,615.0,651.0,651.0],\"y\":[395.0,399.0,399.0,395.0,395.0,399.0,399.0,395.0],\"z\":[720.0,720.0,720.0,720.0,785.0,785.0,785.0,785.0],\"type\":\"mesh3d\"},{\"colorscale\":[[0,\"gold\"],[0.5,\"mediumturquoise\"],[1,\"magenta\"]],\"flatshading\":true,\"i\":[7,0,0,0,4,4,6,6,4,0,3,2],\"intensity\":[0.0,0.14285714285714285,0.2857142857142857,0.42857142857142855,0.5714285714285714,0.7142857142857142,0.8571428571428571,1.0],\"j\":[3,4,1,2,5,6,5,2,0,1,6,3],\"k\":[0,7,2,3,6,7,1,1,5,5,7,6],\"showlegend\":false,\"showscale\":false,\"x\":[513.0,513.0,579.0,579.0,513.0,513.0,579.0,579.0],\"y\":[950.0,977.0,977.0,950.0,950.0,977.0,977.0,950.0],\"z\":[447.0,447.0,447.0,447.0,465.0,465.0,465.0,465.0],\"type\":\"mesh3d\"},{\"colorscale\":[[0,\"gold\"],[0.5,\"mediumturquoise\"],[1,\"magenta\"]],\"flatshading\":true,\"i\":[7,0,0,0,4,4,6,6,4,0,3,2],\"intensity\":[0.0,0.14285714285714285,0.2857142857142857,0.42857142857142855,0.5714285714285714,0.7142857142857142,0.8571428571428571,1.0],\"j\":[3,4,1,2,5,6,5,2,0,1,6,3],\"k\":[0,7,2,3,6,7,1,1,5,5,7,6],\"showlegend\":false,\"showscale\":false,\"x\":[241.0,241.0,295.0,295.0,241.0,241.0,295.0,295.0],\"y\":[254.0,296.0,296.0,254.0,254.0,296.0,296.0,254.0],\"z\":[704.0,704.0,704.0,704.0,772.0,772.0,772.0,772.0],\"type\":\"mesh3d\"},{\"colorscale\":[[0,\"gold\"],[0.5,\"mediumturquoise\"],[1,\"magenta\"]],\"flatshading\":true,\"i\":[7,0,0,0,4,4,6,6,4,0,3,2],\"intensity\":[0.0,0.14285714285714285,0.2857142857142857,0.42857142857142855,0.5714285714285714,0.7142857142857142,0.8571428571428571,1.0],\"j\":[3,4,1,2,5,6,5,2,0,1,6,3],\"k\":[0,7,2,3,6,7,1,1,5,5,7,6],\"showlegend\":false,\"showscale\":false,\"x\":[671.0,671.0,685.0,685.0,671.0,671.0,685.0,685.0],\"y\":[660.0,683.0,683.0,660.0,660.0,683.0,683.0,660.0],\"z\":[836.0,836.0,836.0,836.0,861.0,861.0,861.0,861.0],\"type\":\"mesh3d\"},{\"colorscale\":[[0,\"gold\"],[0.5,\"mediumturquoise\"],[1,\"magenta\"]],\"flatshading\":true,\"i\":[7,0,0,0,4,4,6,6,4,0,3,2],\"intensity\":[0.0,0.14285714285714285,0.2857142857142857,0.42857142857142855,0.5714285714285714,0.7142857142857142,0.8571428571428571,1.0],\"j\":[3,4,1,2,5,6,5,2,0,1,6,3],\"k\":[0,7,2,3,6,7,1,1,5,5,7,6],\"showlegend\":false,\"showscale\":false,\"x\":[228.0,228.0,273.0,273.0,228.0,228.0,273.0,273.0],\"y\":[903.0,965.0,965.0,903.0,903.0,965.0,965.0,903.0],\"z\":[972.0,972.0,972.0,972.0,983.0,983.0,983.0,983.0],\"type\":\"mesh3d\"},{\"colorscale\":[[0,\"gold\"],[0.5,\"mediumturquoise\"],[1,\"magenta\"]],\"flatshading\":true,\"i\":[7,0,0,0,4,4,6,6,4,0,3,2],\"intensity\":[0.0,0.14285714285714285,0.2857142857142857,0.42857142857142855,0.5714285714285714,0.7142857142857142,0.8571428571428571,1.0],\"j\":[3,4,1,2,5,6,5,2,0,1,6,3],\"k\":[0,7,2,3,6,7,1,1,5,5,7,6],\"showlegend\":false,\"showscale\":false,\"x\":[238.0,238.0,266.0,266.0,238.0,238.0,266.0,266.0],\"y\":[495.0,497.0,497.0,495.0,495.0,497.0,497.0,495.0],\"z\":[451.0,451.0,451.0,451.0,494.0,494.0,494.0,494.0],\"type\":\"mesh3d\"},{\"colorscale\":[[0,\"gold\"],[0.5,\"mediumturquoise\"],[1,\"magenta\"]],\"flatshading\":true,\"i\":[7,0,0,0,4,4,6,6,4,0,3,2],\"intensity\":[0.0,0.14285714285714285,0.2857142857142857,0.42857142857142855,0.5714285714285714,0.7142857142857142,0.8571428571428571,1.0],\"j\":[3,4,1,2,5,6,5,2,0,1,6,3],\"k\":[0,7,2,3,6,7,1,1,5,5,7,6],\"showlegend\":false,\"showscale\":false,\"x\":[556.0,556.0,567.0,567.0,556.0,556.0,567.0,567.0],\"y\":[690.0,692.0,692.0,690.0,690.0,692.0,692.0,690.0],\"z\":[687.0,687.0,687.0,687.0,692.0,692.0,692.0,692.0],\"type\":\"mesh3d\"},{\"colorscale\":[[0,\"gold\"],[0.5,\"mediumturquoise\"],[1,\"magenta\"]],\"flatshading\":true,\"i\":[7,0,0,0,4,4,6,6,4,0,3,2],\"intensity\":[0.0,0.14285714285714285,0.2857142857142857,0.42857142857142855,0.5714285714285714,0.7142857142857142,0.8571428571428571,1.0],\"j\":[3,4,1,2,5,6,5,2,0,1,6,3],\"k\":[0,7,2,3,6,7,1,1,5,5,7,6],\"showlegend\":false,\"showscale\":false,\"x\":[583.0,583.0,585.0,585.0,583.0,583.0,585.0,585.0],\"y\":[806.0,857.0,857.0,806.0,806.0,857.0,857.0,806.0],\"z\":[615.0,615.0,615.0,615.0,632.0,632.0,632.0,632.0],\"type\":\"mesh3d\"},{\"colorscale\":[[0,\"gold\"],[0.5,\"mediumturquoise\"],[1,\"magenta\"]],\"flatshading\":true,\"i\":[7,0,0,0,4,4,6,6,4,0,3,2],\"intensity\":[0.0,0.14285714285714285,0.2857142857142857,0.42857142857142855,0.5714285714285714,0.7142857142857142,0.8571428571428571,1.0],\"j\":[3,4,1,2,5,6,5,2,0,1,6,3],\"k\":[0,7,2,3,6,7,1,1,5,5,7,6],\"showlegend\":false,\"showscale\":false,\"x\":[445.0,445.0,472.0,472.0,445.0,445.0,472.0,472.0],\"y\":[831.0,890.0,890.0,831.0,831.0,890.0,890.0,831.0],\"z\":[25.0,25.0,25.0,25.0,97.0,97.0,97.0,97.0],\"type\":\"mesh3d\"},{\"colorscale\":[[0,\"gold\"],[0.5,\"mediumturquoise\"],[1,\"magenta\"]],\"flatshading\":true,\"i\":[7,0,0,0,4,4,6,6,4,0,3,2],\"intensity\":[0.0,0.14285714285714285,0.2857142857142857,0.42857142857142855,0.5714285714285714,0.7142857142857142,0.8571428571428571,1.0],\"j\":[3,4,1,2,5,6,5,2,0,1,6,3],\"k\":[0,7,2,3,6,7,1,1,5,5,7,6],\"showlegend\":false,\"showscale\":false,\"x\":[151.0,151.0,193.0,193.0,151.0,151.0,193.0,193.0],\"y\":[850.0,887.0,887.0,850.0,850.0,887.0,887.0,850.0],\"z\":[386.0,386.0,386.0,386.0,391.0,391.0,391.0,391.0],\"type\":\"mesh3d\"},{\"colorscale\":[[0,\"gold\"],[0.5,\"mediumturquoise\"],[1,\"magenta\"]],\"flatshading\":true,\"i\":[7,0,0,0,4,4,6,6,4,0,3,2],\"intensity\":[0.0,0.14285714285714285,0.2857142857142857,0.42857142857142855,0.5714285714285714,0.7142857142857142,0.8571428571428571,1.0],\"j\":[3,4,1,2,5,6,5,2,0,1,6,3],\"k\":[0,7,2,3,6,7,1,1,5,5,7,6],\"showlegend\":false,\"showscale\":false,\"x\":[813.0,813.0,835.0,835.0,813.0,813.0,835.0,835.0],\"y\":[228.0,234.0,234.0,228.0,228.0,234.0,234.0,228.0],\"z\":[717.0,717.0,717.0,717.0,720.0,720.0,720.0,720.0],\"type\":\"mesh3d\"},{\"colorscale\":[[0,\"gold\"],[0.5,\"mediumturquoise\"],[1,\"magenta\"]],\"flatshading\":true,\"i\":[7,0,0,0,4,4,6,6,4,0,3,2],\"intensity\":[0.0,0.14285714285714285,0.2857142857142857,0.42857142857142855,0.5714285714285714,0.7142857142857142,0.8571428571428571,1.0],\"j\":[3,4,1,2,5,6,5,2,0,1,6,3],\"k\":[0,7,2,3,6,7,1,1,5,5,7,6],\"showlegend\":false,\"showscale\":false,\"x\":[507.0,507.0,599.0,599.0,507.0,507.0,599.0,599.0],\"y\":[214.0,281.0,281.0,214.0,214.0,281.0,281.0,214.0],\"z\":[369.0,369.0,369.0,369.0,393.0,393.0,393.0,393.0],\"type\":\"mesh3d\"},{\"colorscale\":[[0,\"gold\"],[0.5,\"mediumturquoise\"],[1,\"magenta\"]],\"flatshading\":true,\"i\":[7,0,0,0,4,4,6,6,4,0,3,2],\"intensity\":[0.0,0.14285714285714285,0.2857142857142857,0.42857142857142855,0.5714285714285714,0.7142857142857142,0.8571428571428571,1.0],\"j\":[3,4,1,2,5,6,5,2,0,1,6,3],\"k\":[0,7,2,3,6,7,1,1,5,5,7,6],\"showlegend\":false,\"showscale\":false,\"x\":[49.0,49.0,52.0,52.0,49.0,49.0,52.0,52.0],\"y\":[114.0,172.0,172.0,114.0,114.0,172.0,172.0,114.0],\"z\":[652.0,652.0,652.0,652.0,676.0,676.0,676.0,676.0],\"type\":\"mesh3d\"},{\"colorscale\":[[0,\"gold\"],[0.5,\"mediumturquoise\"],[1,\"magenta\"]],\"flatshading\":true,\"i\":[7,0,0,0,4,4,6,6,4,0,3,2],\"intensity\":[0.0,0.14285714285714285,0.2857142857142857,0.42857142857142855,0.5714285714285714,0.7142857142857142,0.8571428571428571,1.0],\"j\":[3,4,1,2,5,6,5,2,0,1,6,3],\"k\":[0,7,2,3,6,7,1,1,5,5,7,6],\"showlegend\":false,\"showscale\":false,\"x\":[504.0,504.0,557.0,557.0,504.0,504.0,557.0,557.0],\"y\":[787.0,791.0,791.0,787.0,787.0,791.0,791.0,787.0],\"z\":[458.0,458.0,458.0,458.0,489.0,489.0,489.0,489.0],\"type\":\"mesh3d\"},{\"colorscale\":[[0,\"gold\"],[0.5,\"mediumturquoise\"],[1,\"magenta\"]],\"flatshading\":true,\"i\":[7,0,0,0,4,4,6,6,4,0,3,2],\"intensity\":[0.0,0.14285714285714285,0.2857142857142857,0.42857142857142855,0.5714285714285714,0.7142857142857142,0.8571428571428571,1.0],\"j\":[3,4,1,2,5,6,5,2,0,1,6,3],\"k\":[0,7,2,3,6,7,1,1,5,5,7,6],\"showlegend\":false,\"showscale\":false,\"x\":[86.0,86.0,91.0,91.0,86.0,86.0,91.0,91.0],\"y\":[26.0,63.0,63.0,26.0,26.0,63.0,63.0,26.0],\"z\":[110.0,110.0,110.0,110.0,162.0,162.0,162.0,162.0],\"type\":\"mesh3d\"},{\"colorscale\":[[0,\"gold\"],[0.5,\"mediumturquoise\"],[1,\"magenta\"]],\"flatshading\":true,\"i\":[7,0,0,0,4,4,6,6,4,0,3,2],\"intensity\":[0.0,0.14285714285714285,0.2857142857142857,0.42857142857142855,0.5714285714285714,0.7142857142857142,0.8571428571428571,1.0],\"j\":[3,4,1,2,5,6,5,2,0,1,6,3],\"k\":[0,7,2,3,6,7,1,1,5,5,7,6],\"showlegend\":false,\"showscale\":false,\"x\":[145.0,145.0,188.0,188.0,145.0,145.0,188.0,188.0],\"y\":[26.0,43.0,43.0,26.0,26.0,43.0,43.0,26.0],\"z\":[839.0,839.0,839.0,839.0,857.0,857.0,857.0,857.0],\"type\":\"mesh3d\"},{\"colorscale\":[[0,\"gold\"],[0.5,\"mediumturquoise\"],[1,\"magenta\"]],\"flatshading\":true,\"i\":[7,0,0,0,4,4,6,6,4,0,3,2],\"intensity\":[0.0,0.14285714285714285,0.2857142857142857,0.42857142857142855,0.5714285714285714,0.7142857142857142,0.8571428571428571,1.0],\"j\":[3,4,1,2,5,6,5,2,0,1,6,3],\"k\":[0,7,2,3,6,7,1,1,5,5,7,6],\"showlegend\":false,\"showscale\":false,\"x\":[358.0,358.0,361.0,361.0,358.0,358.0,361.0,361.0],\"y\":[822.0,863.0,863.0,822.0,822.0,863.0,863.0,822.0],\"z\":[191.0,191.0,191.0,191.0,193.0,193.0,193.0,193.0],\"type\":\"mesh3d\"},{\"colorscale\":[[0,\"gold\"],[0.5,\"mediumturquoise\"],[1,\"magenta\"]],\"flatshading\":true,\"i\":[7,0,0,0,4,4,6,6,4,0,3,2],\"intensity\":[0.0,0.14285714285714285,0.2857142857142857,0.42857142857142855,0.5714285714285714,0.7142857142857142,0.8571428571428571,1.0],\"j\":[3,4,1,2,5,6,5,2,0,1,6,3],\"k\":[0,7,2,3,6,7,1,1,5,5,7,6],\"showlegend\":false,\"showscale\":false,\"x\":[936.0,936.0,996.0,996.0,936.0,936.0,996.0,996.0],\"y\":[46.0,54.0,54.0,46.0,46.0,54.0,54.0,46.0],\"z\":[659.0,659.0,659.0,659.0,699.0,699.0,699.0,699.0],\"type\":\"mesh3d\"},{\"colorscale\":[[0,\"gold\"],[0.5,\"mediumturquoise\"],[1,\"magenta\"]],\"flatshading\":true,\"i\":[7,0,0,0,4,4,6,6,4,0,3,2],\"intensity\":[0.0,0.14285714285714285,0.2857142857142857,0.42857142857142855,0.5714285714285714,0.7142857142857142,0.8571428571428571,1.0],\"j\":[3,4,1,2,5,6,5,2,0,1,6,3],\"k\":[0,7,2,3,6,7,1,1,5,5,7,6],\"showlegend\":false,\"showscale\":false,\"x\":[812.0,812.0,875.0,875.0,812.0,812.0,875.0,875.0],\"y\":[371.0,387.0,387.0,371.0,371.0,387.0,387.0,371.0],\"z\":[959.0,959.0,959.0,959.0,992.0,992.0,992.0,992.0],\"type\":\"mesh3d\"},{\"colorscale\":[[0,\"gold\"],[0.5,\"mediumturquoise\"],[1,\"magenta\"]],\"flatshading\":true,\"i\":[7,0,0,0,4,4,6,6,4,0,3,2],\"intensity\":[0.0,0.14285714285714285,0.2857142857142857,0.42857142857142855,0.5714285714285714,0.7142857142857142,0.8571428571428571,1.0],\"j\":[3,4,1,2,5,6,5,2,0,1,6,3],\"k\":[0,7,2,3,6,7,1,1,5,5,7,6],\"showlegend\":false,\"showscale\":false,\"x\":[233.0,233.0,261.0,261.0,233.0,233.0,261.0,261.0],\"y\":[779.0,799.0,799.0,779.0,779.0,799.0,799.0,779.0],\"z\":[729.0,729.0,729.0,729.0,788.0,788.0,788.0,788.0],\"type\":\"mesh3d\"},{\"colorscale\":[[0,\"gold\"],[0.5,\"mediumturquoise\"],[1,\"magenta\"]],\"flatshading\":true,\"i\":[7,0,0,0,4,4,6,6,4,0,3,2],\"intensity\":[0.0,0.14285714285714285,0.2857142857142857,0.42857142857142855,0.5714285714285714,0.7142857142857142,0.8571428571428571,1.0],\"j\":[3,4,1,2,5,6,5,2,0,1,6,3],\"k\":[0,7,2,3,6,7,1,1,5,5,7,6],\"showlegend\":false,\"showscale\":false,\"x\":[746.0,746.0,754.0,754.0,746.0,746.0,754.0,754.0],\"y\":[641.0,647.0,647.0,641.0,641.0,647.0,647.0,641.0],\"z\":[328.0,328.0,328.0,328.0,360.0,360.0,360.0,360.0],\"type\":\"mesh3d\"},{\"colorscale\":[[0,\"gold\"],[0.5,\"mediumturquoise\"],[1,\"magenta\"]],\"flatshading\":true,\"i\":[7,0,0,0,4,4,6,6,4,0,3,2],\"intensity\":[0.0,0.14285714285714285,0.2857142857142857,0.42857142857142855,0.5714285714285714,0.7142857142857142,0.8571428571428571,1.0],\"j\":[3,4,1,2,5,6,5,2,0,1,6,3],\"k\":[0,7,2,3,6,7,1,1,5,5,7,6],\"showlegend\":false,\"showscale\":false,\"x\":[38.0,38.0,52.0,52.0,38.0,38.0,52.0,52.0],\"y\":[942.0,959.0,959.0,942.0,942.0,959.0,959.0,942.0],\"z\":[17.0,17.0,17.0,17.0,90.0,90.0,90.0,90.0],\"type\":\"mesh3d\"},{\"colorscale\":[[0,\"gold\"],[0.5,\"mediumturquoise\"],[1,\"magenta\"]],\"flatshading\":true,\"i\":[7,0,0,0,4,4,6,6,4,0,3,2],\"intensity\":[0.0,0.14285714285714285,0.2857142857142857,0.42857142857142855,0.5714285714285714,0.7142857142857142,0.8571428571428571,1.0],\"j\":[3,4,1,2,5,6,5,2,0,1,6,3],\"k\":[0,7,2,3,6,7,1,1,5,5,7,6],\"showlegend\":false,\"showscale\":false,\"x\":[778.0,778.0,797.0,797.0,778.0,778.0,797.0,797.0],\"y\":[197.0,199.0,199.0,197.0,197.0,199.0,199.0,197.0],\"z\":[583.0,583.0,583.0,583.0,591.0,591.0,591.0,591.0],\"type\":\"mesh3d\"},{\"colorscale\":[[0,\"gold\"],[0.5,\"mediumturquoise\"],[1,\"magenta\"]],\"flatshading\":true,\"i\":[7,0,0,0,4,4,6,6,4,0,3,2],\"intensity\":[0.0,0.14285714285714285,0.2857142857142857,0.42857142857142855,0.5714285714285714,0.7142857142857142,0.8571428571428571,1.0],\"j\":[3,4,1,2,5,6,5,2,0,1,6,3],\"k\":[0,7,2,3,6,7,1,1,5,5,7,6],\"showlegend\":false,\"showscale\":false,\"x\":[590.0,590.0,599.0,599.0,590.0,590.0,599.0,599.0],\"y\":[90.0,95.0,95.0,90.0,90.0,95.0,95.0,90.0],\"z\":[680.0,680.0,680.0,680.0,687.0,687.0,687.0,687.0],\"type\":\"mesh3d\"},{\"colorscale\":[[0,\"gold\"],[0.5,\"mediumturquoise\"],[1,\"magenta\"]],\"flatshading\":true,\"i\":[7,0,0,0,4,4,6,6,4,0,3,2],\"intensity\":[0.0,0.14285714285714285,0.2857142857142857,0.42857142857142855,0.5714285714285714,0.7142857142857142,0.8571428571428571,1.0],\"j\":[3,4,1,2,5,6,5,2,0,1,6,3],\"k\":[0,7,2,3,6,7,1,1,5,5,7,6],\"showlegend\":false,\"showscale\":false,\"x\":[955.0,955.0,988.0,988.0,955.0,955.0,988.0,988.0],\"y\":[710.0,745.0,745.0,710.0,710.0,745.0,745.0,710.0],\"z\":[985.0,985.0,985.0,985.0,999.0,999.0,999.0,999.0],\"type\":\"mesh3d\"},{\"colorscale\":[[0,\"gold\"],[0.5,\"mediumturquoise\"],[1,\"magenta\"]],\"flatshading\":true,\"i\":[7,0,0,0,4,4,6,6,4,0,3,2],\"intensity\":[0.0,0.14285714285714285,0.2857142857142857,0.42857142857142855,0.5714285714285714,0.7142857142857142,0.8571428571428571,1.0],\"j\":[3,4,1,2,5,6,5,2,0,1,6,3],\"k\":[0,7,2,3,6,7,1,1,5,5,7,6],\"showlegend\":false,\"showscale\":false,\"x\":[872.0,872.0,892.0,892.0,872.0,872.0,892.0,892.0],\"y\":[838.0,846.0,846.0,838.0,838.0,846.0,846.0,838.0],\"z\":[664.0,664.0,664.0,664.0,667.0,667.0,667.0,667.0],\"type\":\"mesh3d\"},{\"colorscale\":[[0,\"gold\"],[0.5,\"mediumturquoise\"],[1,\"magenta\"]],\"flatshading\":true,\"i\":[7,0,0,0,4,4,6,6,4,0,3,2],\"intensity\":[0.0,0.14285714285714285,0.2857142857142857,0.42857142857142855,0.5714285714285714,0.7142857142857142,0.8571428571428571,1.0],\"j\":[3,4,1,2,5,6,5,2,0,1,6,3],\"k\":[0,7,2,3,6,7,1,1,5,5,7,6],\"showlegend\":false,\"showscale\":false,\"x\":[739.0,739.0,762.0,762.0,739.0,739.0,762.0,762.0],\"y\":[313.0,354.0,354.0,313.0,313.0,354.0,354.0,313.0],\"z\":[61.0,61.0,61.0,61.0,93.0,93.0,93.0,93.0],\"type\":\"mesh3d\"},{\"colorscale\":[[0,\"gold\"],[0.5,\"mediumturquoise\"],[1,\"magenta\"]],\"flatshading\":true,\"i\":[7,0,0,0,4,4,6,6,4,0,3,2],\"intensity\":[0.0,0.14285714285714285,0.2857142857142857,0.42857142857142855,0.5714285714285714,0.7142857142857142,0.8571428571428571,1.0],\"j\":[3,4,1,2,5,6,5,2,0,1,6,3],\"k\":[0,7,2,3,6,7,1,1,5,5,7,6],\"showlegend\":false,\"showscale\":false,\"x\":[396.0,396.0,399.0,399.0,396.0,396.0,399.0,399.0],\"y\":[973.0,994.0,994.0,973.0,973.0,994.0,994.0,973.0],\"z\":[604.0,604.0,604.0,604.0,656.0,656.0,656.0,656.0],\"type\":\"mesh3d\"},{\"colorscale\":[[0,\"gold\"],[0.5,\"mediumturquoise\"],[1,\"magenta\"]],\"flatshading\":true,\"i\":[7,0,0,0,4,4,6,6,4,0,3,2],\"intensity\":[0.0,0.14285714285714285,0.2857142857142857,0.42857142857142855,0.5714285714285714,0.7142857142857142,0.8571428571428571,1.0],\"j\":[3,4,1,2,5,6,5,2,0,1,6,3],\"k\":[0,7,2,3,6,7,1,1,5,5,7,6],\"showlegend\":false,\"showscale\":false,\"x\":[626.0,626.0,661.0,661.0,626.0,626.0,661.0,661.0],\"y\":[489.0,490.0,490.0,489.0,489.0,490.0,490.0,489.0],\"z\":[76.0,76.0,76.0,76.0,86.0,86.0,86.0,86.0],\"type\":\"mesh3d\"},{\"colorscale\":[[0,\"gold\"],[0.5,\"mediumturquoise\"],[1,\"magenta\"]],\"flatshading\":true,\"i\":[7,0,0,0,4,4,6,6,4,0,3,2],\"intensity\":[0.0,0.14285714285714285,0.2857142857142857,0.42857142857142855,0.5714285714285714,0.7142857142857142,0.8571428571428571,1.0],\"j\":[3,4,1,2,5,6,5,2,0,1,6,3],\"k\":[0,7,2,3,6,7,1,1,5,5,7,6],\"showlegend\":false,\"showscale\":false,\"x\":[488.0,488.0,494.0,494.0,488.0,488.0,494.0,494.0],\"y\":[321.0,337.0,337.0,321.0,321.0,337.0,337.0,321.0],\"z\":[370.0,370.0,370.0,370.0,380.0,380.0,380.0,380.0],\"type\":\"mesh3d\"},{\"colorscale\":[[0,\"gold\"],[0.5,\"mediumturquoise\"],[1,\"magenta\"]],\"flatshading\":true,\"i\":[7,0,0,0,4,4,6,6,4,0,3,2],\"intensity\":[0.0,0.14285714285714285,0.2857142857142857,0.42857142857142855,0.5714285714285714,0.7142857142857142,0.8571428571428571,1.0],\"j\":[3,4,1,2,5,6,5,2,0,1,6,3],\"k\":[0,7,2,3,6,7,1,1,5,5,7,6],\"showlegend\":false,\"showscale\":false,\"x\":[883.0,883.0,893.0,893.0,883.0,883.0,893.0,893.0],\"y\":[724.0,777.0,777.0,724.0,724.0,777.0,777.0,724.0],\"z\":[448.0,448.0,448.0,448.0,496.0,496.0,496.0,496.0],\"type\":\"mesh3d\"},{\"colorscale\":[[0,\"gold\"],[0.5,\"mediumturquoise\"],[1,\"magenta\"]],\"flatshading\":true,\"i\":[7,0,0,0,4,4,6,6,4,0,3,2],\"intensity\":[0.0,0.14285714285714285,0.2857142857142857,0.42857142857142855,0.5714285714285714,0.7142857142857142,0.8571428571428571,1.0],\"j\":[3,4,1,2,5,6,5,2,0,1,6,3],\"k\":[0,7,2,3,6,7,1,1,5,5,7,6],\"showlegend\":false,\"showscale\":false,\"x\":[4.0,4.0,76.0,76.0,4.0,4.0,76.0,76.0],\"y\":[25.0,51.0,51.0,25.0,25.0,51.0,51.0,25.0],\"z\":[77.0,77.0,77.0,77.0,92.0,92.0,92.0,92.0],\"type\":\"mesh3d\"},{\"colorscale\":[[0,\"gold\"],[0.5,\"mediumturquoise\"],[1,\"magenta\"]],\"flatshading\":true,\"i\":[7,0,0,0,4,4,6,6,4,0,3,2],\"intensity\":[0.0,0.14285714285714285,0.2857142857142857,0.42857142857142855,0.5714285714285714,0.7142857142857142,0.8571428571428571,1.0],\"j\":[3,4,1,2,5,6,5,2,0,1,6,3],\"k\":[0,7,2,3,6,7,1,1,5,5,7,6],\"showlegend\":false,\"showscale\":false,\"x\":[493.0,493.0,496.0,496.0,493.0,493.0,496.0,496.0],\"y\":[33.0,39.0,39.0,33.0,33.0,39.0,39.0,33.0],\"z\":[585.0,585.0,585.0,585.0,597.0,597.0,597.0,597.0],\"type\":\"mesh3d\"},{\"colorscale\":[[0,\"gold\"],[0.5,\"mediumturquoise\"],[1,\"magenta\"]],\"flatshading\":true,\"i\":[7,0,0,0,4,4,6,6,4,0,3,2],\"intensity\":[0.0,0.14285714285714285,0.2857142857142857,0.42857142857142855,0.5714285714285714,0.7142857142857142,0.8571428571428571,1.0],\"j\":[3,4,1,2,5,6,5,2,0,1,6,3],\"k\":[0,7,2,3,6,7,1,1,5,5,7,6],\"showlegend\":false,\"showscale\":false,\"x\":[339.0,339.0,393.0,393.0,339.0,339.0,393.0,393.0],\"y\":[262.0,285.0,285.0,262.0,262.0,285.0,285.0,262.0],\"z\":[585.0,585.0,585.0,585.0,587.0,587.0,587.0,587.0],\"type\":\"mesh3d\"},{\"colorscale\":[[0,\"gold\"],[0.5,\"mediumturquoise\"],[1,\"magenta\"]],\"flatshading\":true,\"i\":[7,0,0,0,4,4,6,6,4,0,3,2],\"intensity\":[0.0,0.14285714285714285,0.2857142857142857,0.42857142857142855,0.5714285714285714,0.7142857142857142,0.8571428571428571,1.0],\"j\":[3,4,1,2,5,6,5,2,0,1,6,3],\"k\":[0,7,2,3,6,7,1,1,5,5,7,6],\"showlegend\":false,\"showscale\":false,\"x\":[404.0,404.0,492.0,492.0,404.0,404.0,492.0,492.0],\"y\":[179.0,180.0,180.0,179.0,179.0,180.0,180.0,179.0],\"z\":[621.0,621.0,621.0,621.0,626.0,626.0,626.0,626.0],\"type\":\"mesh3d\"},{\"colorscale\":[[0,\"gold\"],[0.5,\"mediumturquoise\"],[1,\"magenta\"]],\"flatshading\":true,\"i\":[7,0,0,0,4,4,6,6,4,0,3,2],\"intensity\":[0.0,0.14285714285714285,0.2857142857142857,0.42857142857142855,0.5714285714285714,0.7142857142857142,0.8571428571428571,1.0],\"j\":[3,4,1,2,5,6,5,2,0,1,6,3],\"k\":[0,7,2,3,6,7,1,1,5,5,7,6],\"showlegend\":false,\"showscale\":false,\"x\":[4.0,4.0,18.0,18.0,4.0,4.0,18.0,18.0],\"y\":[631.0,653.0,653.0,631.0,631.0,653.0,653.0,631.0],\"z\":[109.0,109.0,109.0,109.0,155.0,155.0,155.0,155.0],\"type\":\"mesh3d\"},{\"colorscale\":[[0,\"gold\"],[0.5,\"mediumturquoise\"],[1,\"magenta\"]],\"flatshading\":true,\"i\":[7,0,0,0,4,4,6,6,4,0,3,2],\"intensity\":[0.0,0.14285714285714285,0.2857142857142857,0.42857142857142855,0.5714285714285714,0.7142857142857142,0.8571428571428571,1.0],\"j\":[3,4,1,2,5,6,5,2,0,1,6,3],\"k\":[0,7,2,3,6,7,1,1,5,5,7,6],\"showlegend\":false,\"showscale\":false,\"x\":[250.0,250.0,297.0,297.0,250.0,250.0,297.0,297.0],\"y\":[864.0,889.0,889.0,864.0,864.0,889.0,889.0,864.0],\"z\":[936.0,936.0,936.0,936.0,963.0,963.0,963.0,963.0],\"type\":\"mesh3d\"},{\"colorscale\":[[0,\"gold\"],[0.5,\"mediumturquoise\"],[1,\"magenta\"]],\"flatshading\":true,\"i\":[7,0,0,0,4,4,6,6,4,0,3,2],\"intensity\":[0.0,0.14285714285714285,0.2857142857142857,0.42857142857142855,0.5714285714285714,0.7142857142857142,0.8571428571428571,1.0],\"j\":[3,4,1,2,5,6,5,2,0,1,6,3],\"k\":[0,7,2,3,6,7,1,1,5,5,7,6],\"showlegend\":false,\"showscale\":false,\"x\":[85.0,85.0,97.0,97.0,85.0,85.0,97.0,97.0],\"y\":[9.0,31.0,31.0,9.0,9.0,31.0,31.0,9.0],\"z\":[637.0,637.0,637.0,637.0,639.0,639.0,639.0,639.0],\"type\":\"mesh3d\"},{\"colorscale\":[[0,\"gold\"],[0.5,\"mediumturquoise\"],[1,\"magenta\"]],\"flatshading\":true,\"i\":[7,0,0,0,4,4,6,6,4,0,3,2],\"intensity\":[0.0,0.14285714285714285,0.2857142857142857,0.42857142857142855,0.5714285714285714,0.7142857142857142,0.8571428571428571,1.0],\"j\":[3,4,1,2,5,6,5,2,0,1,6,3],\"k\":[0,7,2,3,6,7,1,1,5,5,7,6],\"showlegend\":false,\"showscale\":false,\"x\":[141.0,141.0,178.0,178.0,141.0,141.0,178.0,178.0],\"y\":[201.0,255.0,255.0,201.0,201.0,255.0,255.0,201.0],\"z\":[378.0,378.0,378.0,378.0,394.0,394.0,394.0,394.0],\"type\":\"mesh3d\"},{\"colorscale\":[[0,\"gold\"],[0.5,\"mediumturquoise\"],[1,\"magenta\"]],\"flatshading\":true,\"i\":[7,0,0,0,4,4,6,6,4,0,3,2],\"intensity\":[0.0,0.14285714285714285,0.2857142857142857,0.42857142857142855,0.5714285714285714,0.7142857142857142,0.8571428571428571,1.0],\"j\":[3,4,1,2,5,6,5,2,0,1,6,3],\"k\":[0,7,2,3,6,7,1,1,5,5,7,6],\"showlegend\":false,\"showscale\":false,\"x\":[34.0,34.0,91.0,91.0,34.0,34.0,91.0,91.0],\"y\":[791.0,794.0,794.0,791.0,791.0,794.0,794.0,791.0],\"z\":[537.0,537.0,537.0,537.0,588.0,588.0,588.0,588.0],\"type\":\"mesh3d\"},{\"colorscale\":[[0,\"gold\"],[0.5,\"mediumturquoise\"],[1,\"magenta\"]],\"flatshading\":true,\"i\":[7,0,0,0,4,4,6,6,4,0,3,2],\"intensity\":[0.0,0.14285714285714285,0.2857142857142857,0.42857142857142855,0.5714285714285714,0.7142857142857142,0.8571428571428571,1.0],\"j\":[3,4,1,2,5,6,5,2,0,1,6,3],\"k\":[0,7,2,3,6,7,1,1,5,5,7,6],\"showlegend\":false,\"showscale\":false,\"x\":[847.0,847.0,889.0,889.0,847.0,847.0,889.0,889.0],\"y\":[367.0,394.0,394.0,367.0,367.0,394.0,394.0,367.0],\"z\":[357.0,357.0,357.0,357.0,397.0,397.0,397.0,397.0],\"type\":\"mesh3d\"},{\"colorscale\":[[0,\"gold\"],[0.5,\"mediumturquoise\"],[1,\"magenta\"]],\"flatshading\":true,\"i\":[7,0,0,0,4,4,6,6,4,0,3,2],\"intensity\":[0.0,0.14285714285714285,0.2857142857142857,0.42857142857142855,0.5714285714285714,0.7142857142857142,0.8571428571428571,1.0],\"j\":[3,4,1,2,5,6,5,2,0,1,6,3],\"k\":[0,7,2,3,6,7,1,1,5,5,7,6],\"showlegend\":false,\"showscale\":false,\"x\":[864.0,864.0,872.0,872.0,864.0,864.0,872.0,872.0],\"y\":[819.0,887.0,887.0,819.0,819.0,887.0,887.0,819.0],\"z\":[519.0,519.0,519.0,519.0,524.0,524.0,524.0,524.0],\"type\":\"mesh3d\"},{\"colorscale\":[[0,\"gold\"],[0.5,\"mediumturquoise\"],[1,\"magenta\"]],\"flatshading\":true,\"i\":[7,0,0,0,4,4,6,6,4,0,3,2],\"intensity\":[0.0,0.14285714285714285,0.2857142857142857,0.42857142857142855,0.5714285714285714,0.7142857142857142,0.8571428571428571,1.0],\"j\":[3,4,1,2,5,6,5,2,0,1,6,3],\"k\":[0,7,2,3,6,7,1,1,5,5,7,6],\"showlegend\":false,\"showscale\":false,\"x\":[104.0,104.0,195.0,195.0,104.0,104.0,195.0,195.0],\"y\":[685.0,690.0,690.0,685.0,685.0,690.0,690.0,685.0],\"z\":[934.0,934.0,934.0,934.0,979.0,979.0,979.0,979.0],\"type\":\"mesh3d\"},{\"colorscale\":[[0,\"gold\"],[0.5,\"mediumturquoise\"],[1,\"magenta\"]],\"flatshading\":true,\"i\":[7,0,0,0,4,4,6,6,4,0,3,2],\"intensity\":[0.0,0.14285714285714285,0.2857142857142857,0.42857142857142855,0.5714285714285714,0.7142857142857142,0.8571428571428571,1.0],\"j\":[3,4,1,2,5,6,5,2,0,1,6,3],\"k\":[0,7,2,3,6,7,1,1,5,5,7,6],\"showlegend\":false,\"showscale\":false,\"x\":[147.0,147.0,149.0,149.0,147.0,147.0,149.0,149.0],\"y\":[872.0,884.0,884.0,872.0,872.0,884.0,884.0,872.0],\"z\":[172.0,172.0,172.0,172.0,196.0,196.0,196.0,196.0],\"type\":\"mesh3d\"},{\"colorscale\":[[0,\"gold\"],[0.5,\"mediumturquoise\"],[1,\"magenta\"]],\"flatshading\":true,\"i\":[7,0,0,0,4,4,6,6,4,0,3,2],\"intensity\":[0.0,0.14285714285714285,0.2857142857142857,0.42857142857142855,0.5714285714285714,0.7142857142857142,0.8571428571428571,1.0],\"j\":[3,4,1,2,5,6,5,2,0,1,6,3],\"k\":[0,7,2,3,6,7,1,1,5,5,7,6],\"showlegend\":false,\"showscale\":false,\"x\":[852.0,852.0,894.0,894.0,852.0,852.0,894.0,894.0],\"y\":[93.0,94.0,94.0,93.0,93.0,94.0,94.0,93.0],\"z\":[468.0,468.0,468.0,468.0,498.0,498.0,498.0,498.0],\"type\":\"mesh3d\"},{\"colorscale\":[[0,\"gold\"],[0.5,\"mediumturquoise\"],[1,\"magenta\"]],\"flatshading\":true,\"i\":[7,0,0,0,4,4,6,6,4,0,3,2],\"intensity\":[0.0,0.14285714285714285,0.2857142857142857,0.42857142857142855,0.5714285714285714,0.7142857142857142,0.8571428571428571,1.0],\"j\":[3,4,1,2,5,6,5,2,0,1,6,3],\"k\":[0,7,2,3,6,7,1,1,5,5,7,6],\"showlegend\":false,\"showscale\":false,\"x\":[345.0,345.0,399.0,399.0,345.0,345.0,399.0,399.0],\"y\":[696.0,698.0,698.0,696.0,696.0,698.0,698.0,696.0],\"z\":[603.0,603.0,603.0,603.0,672.0,672.0,672.0,672.0],\"type\":\"mesh3d\"},{\"colorscale\":[[0,\"gold\"],[0.5,\"mediumturquoise\"],[1,\"magenta\"]],\"flatshading\":true,\"i\":[7,0,0,0,4,4,6,6,4,0,3,2],\"intensity\":[0.0,0.14285714285714285,0.2857142857142857,0.42857142857142855,0.5714285714285714,0.7142857142857142,0.8571428571428571,1.0],\"j\":[3,4,1,2,5,6,5,2,0,1,6,3],\"k\":[0,7,2,3,6,7,1,1,5,5,7,6],\"showlegend\":false,\"showscale\":false,\"x\":[859.0,859.0,890.0,890.0,859.0,859.0,890.0,890.0],\"y\":[72.0,94.0,94.0,72.0,72.0,94.0,94.0,72.0],\"z\":[95.0,95.0,95.0,95.0,98.0,98.0,98.0,98.0],\"type\":\"mesh3d\"},{\"colorscale\":[[0,\"gold\"],[0.5,\"mediumturquoise\"],[1,\"magenta\"]],\"flatshading\":true,\"i\":[7,0,0,0,4,4,6,6,4,0,3,2],\"intensity\":[0.0,0.14285714285714285,0.2857142857142857,0.42857142857142855,0.5714285714285714,0.7142857142857142,0.8571428571428571,1.0],\"j\":[3,4,1,2,5,6,5,2,0,1,6,3],\"k\":[0,7,2,3,6,7,1,1,5,5,7,6],\"showlegend\":false,\"showscale\":false,\"x\":[802.0,802.0,847.0,847.0,802.0,802.0,847.0,847.0],\"y\":[689.0,696.0,696.0,689.0,689.0,696.0,696.0,689.0],\"z\":[913.0,913.0,913.0,913.0,919.0,919.0,919.0,919.0],\"type\":\"mesh3d\"},{\"colorscale\":[[0,\"gold\"],[0.5,\"mediumturquoise\"],[1,\"magenta\"]],\"flatshading\":true,\"i\":[7,0,0,0,4,4,6,6,4,0,3,2],\"intensity\":[0.0,0.14285714285714285,0.2857142857142857,0.42857142857142855,0.5714285714285714,0.7142857142857142,0.8571428571428571,1.0],\"j\":[3,4,1,2,5,6,5,2,0,1,6,3],\"k\":[0,7,2,3,6,7,1,1,5,5,7,6],\"showlegend\":false,\"showscale\":false,\"x\":[772.0,772.0,798.0,798.0,772.0,772.0,798.0,798.0],\"y\":[332.0,391.0,391.0,332.0,332.0,391.0,391.0,332.0],\"z\":[587.0,587.0,587.0,587.0,597.0,597.0,597.0,597.0],\"type\":\"mesh3d\"},{\"colorscale\":[[0,\"gold\"],[0.5,\"mediumturquoise\"],[1,\"magenta\"]],\"flatshading\":true,\"i\":[7,0,0,0,4,4,6,6,4,0,3,2],\"intensity\":[0.0,0.14285714285714285,0.2857142857142857,0.42857142857142855,0.5714285714285714,0.7142857142857142,0.8571428571428571,1.0],\"j\":[3,4,1,2,5,6,5,2,0,1,6,3],\"k\":[0,7,2,3,6,7,1,1,5,5,7,6],\"showlegend\":false,\"showscale\":false,\"x\":[93.0,93.0,94.0,94.0,93.0,93.0,94.0,94.0],\"y\":[520.0,587.0,587.0,520.0,520.0,587.0,587.0,520.0],\"z\":[198.0,198.0,198.0,198.0,199.0,199.0,199.0,199.0],\"type\":\"mesh3d\"},{\"colorscale\":[[0,\"gold\"],[0.5,\"mediumturquoise\"],[1,\"magenta\"]],\"flatshading\":true,\"i\":[7,0,0,0,4,4,6,6,4,0,3,2],\"intensity\":[0.0,0.14285714285714285,0.2857142857142857,0.42857142857142855,0.5714285714285714,0.7142857142857142,0.8571428571428571,1.0],\"j\":[3,4,1,2,5,6,5,2,0,1,6,3],\"k\":[0,7,2,3,6,7,1,1,5,5,7,6],\"showlegend\":false,\"showscale\":false,\"x\":[610.0,610.0,616.0,616.0,610.0,610.0,616.0,616.0],\"y\":[970.0,972.0,972.0,970.0,970.0,972.0,972.0,970.0],\"z\":[536.0,536.0,536.0,536.0,551.0,551.0,551.0,551.0],\"type\":\"mesh3d\"},{\"colorscale\":[[0,\"gold\"],[0.5,\"mediumturquoise\"],[1,\"magenta\"]],\"flatshading\":true,\"i\":[7,0,0,0,4,4,6,6,4,0,3,2],\"intensity\":[0.0,0.14285714285714285,0.2857142857142857,0.42857142857142855,0.5714285714285714,0.7142857142857142,0.8571428571428571,1.0],\"j\":[3,4,1,2,5,6,5,2,0,1,6,3],\"k\":[0,7,2,3,6,7,1,1,5,5,7,6],\"showlegend\":false,\"showscale\":false,\"x\":[608.0,608.0,616.0,616.0,608.0,608.0,616.0,616.0],\"y\":[68.0,76.0,76.0,68.0,68.0,76.0,76.0,68.0],\"z\":[393.0,393.0,393.0,393.0,396.0,396.0,396.0,396.0],\"type\":\"mesh3d\"},{\"colorscale\":[[0,\"gold\"],[0.5,\"mediumturquoise\"],[1,\"magenta\"]],\"flatshading\":true,\"i\":[7,0,0,0,4,4,6,6,4,0,3,2],\"intensity\":[0.0,0.14285714285714285,0.2857142857142857,0.42857142857142855,0.5714285714285714,0.7142857142857142,0.8571428571428571,1.0],\"j\":[3,4,1,2,5,6,5,2,0,1,6,3],\"k\":[0,7,2,3,6,7,1,1,5,5,7,6],\"showlegend\":false,\"showscale\":false,\"x\":[611.0,611.0,694.0,694.0,611.0,611.0,694.0,694.0],\"y\":[812.0,891.0,891.0,812.0,812.0,891.0,891.0,812.0],\"z\":[338.0,338.0,338.0,338.0,341.0,341.0,341.0,341.0],\"type\":\"mesh3d\"},{\"colorscale\":[[0,\"gold\"],[0.5,\"mediumturquoise\"],[1,\"magenta\"]],\"flatshading\":true,\"i\":[7,0,0,0,4,4,6,6,4,0,3,2],\"intensity\":[0.0,0.14285714285714285,0.2857142857142857,0.42857142857142855,0.5714285714285714,0.7142857142857142,0.8571428571428571,1.0],\"j\":[3,4,1,2,5,6,5,2,0,1,6,3],\"k\":[0,7,2,3,6,7,1,1,5,5,7,6],\"showlegend\":false,\"showscale\":false,\"x\":[510.0,510.0,551.0,551.0,510.0,510.0,551.0,551.0],\"y\":[387.0,390.0,390.0,387.0,387.0,390.0,390.0,387.0],\"z\":[355.0,355.0,355.0,355.0,383.0,383.0,383.0,383.0],\"type\":\"mesh3d\"},{\"colorscale\":[[0,\"gold\"],[0.5,\"mediumturquoise\"],[1,\"magenta\"]],\"flatshading\":true,\"i\":[7,0,0,0,4,4,6,6,4,0,3,2],\"intensity\":[0.0,0.14285714285714285,0.2857142857142857,0.42857142857142855,0.5714285714285714,0.7142857142857142,0.8571428571428571,1.0],\"j\":[3,4,1,2,5,6,5,2,0,1,6,3],\"k\":[0,7,2,3,6,7,1,1,5,5,7,6],\"showlegend\":false,\"showscale\":false,\"x\":[325.0,325.0,362.0,362.0,325.0,325.0,362.0,362.0],\"y\":[735.0,745.0,745.0,735.0,735.0,745.0,745.0,735.0],\"z\":[641.0,641.0,641.0,641.0,699.0,699.0,699.0,699.0],\"type\":\"mesh3d\"},{\"colorscale\":[[0,\"gold\"],[0.5,\"mediumturquoise\"],[1,\"magenta\"]],\"flatshading\":true,\"i\":[7,0,0,0,4,4,6,6,4,0,3,2],\"intensity\":[0.0,0.14285714285714285,0.2857142857142857,0.42857142857142855,0.5714285714285714,0.7142857142857142,0.8571428571428571,1.0],\"j\":[3,4,1,2,5,6,5,2,0,1,6,3],\"k\":[0,7,2,3,6,7,1,1,5,5,7,6],\"showlegend\":false,\"showscale\":false,\"x\":[301.0,301.0,387.0,387.0,301.0,301.0,387.0,387.0],\"y\":[795.0,797.0,797.0,795.0,795.0,797.0,797.0,795.0],\"z\":[505.0,505.0,505.0,505.0,532.0,532.0,532.0,532.0],\"type\":\"mesh3d\"},{\"colorscale\":[[0,\"gold\"],[0.5,\"mediumturquoise\"],[1,\"magenta\"]],\"flatshading\":true,\"i\":[7,0,0,0,4,4,6,6,4,0,3,2],\"intensity\":[0.0,0.14285714285714285,0.2857142857142857,0.42857142857142855,0.5714285714285714,0.7142857142857142,0.8571428571428571,1.0],\"j\":[3,4,1,2,5,6,5,2,0,1,6,3],\"k\":[0,7,2,3,6,7,1,1,5,5,7,6],\"showlegend\":false,\"showscale\":false,\"x\":[387.0,387.0,390.0,390.0,387.0,387.0,390.0,390.0],\"y\":[865.0,873.0,873.0,865.0,865.0,873.0,873.0,865.0],\"z\":[550.0,550.0,550.0,550.0,562.0,562.0,562.0,562.0],\"type\":\"mesh3d\"},{\"colorscale\":[[0,\"gold\"],[0.5,\"mediumturquoise\"],[1,\"magenta\"]],\"flatshading\":true,\"i\":[7,0,0,0,4,4,6,6,4,0,3,2],\"intensity\":[0.0,0.14285714285714285,0.2857142857142857,0.42857142857142855,0.5714285714285714,0.7142857142857142,0.8571428571428571,1.0],\"j\":[3,4,1,2,5,6,5,2,0,1,6,3],\"k\":[0,7,2,3,6,7,1,1,5,5,7,6],\"showlegend\":false,\"showscale\":false,\"x\":[52.0,52.0,74.0,74.0,52.0,52.0,74.0,74.0],\"y\":[47.0,55.0,55.0,47.0,47.0,55.0,55.0,47.0],\"z\":[360.0,360.0,360.0,360.0,380.0,380.0,380.0,380.0],\"type\":\"mesh3d\"},{\"colorscale\":[[0,\"gold\"],[0.5,\"mediumturquoise\"],[1,\"magenta\"]],\"flatshading\":true,\"i\":[7,0,0,0,4,4,6,6,4,0,3,2],\"intensity\":[0.0,0.14285714285714285,0.2857142857142857,0.42857142857142855,0.5714285714285714,0.7142857142857142,0.8571428571428571,1.0],\"j\":[3,4,1,2,5,6,5,2,0,1,6,3],\"k\":[0,7,2,3,6,7,1,1,5,5,7,6],\"showlegend\":false,\"showscale\":false,\"x\":[985.0,985.0,993.0,993.0,985.0,985.0,993.0,993.0],\"y\":[401.0,455.0,455.0,401.0,401.0,455.0,455.0,401.0],\"z\":[678.0,678.0,678.0,678.0,683.0,683.0,683.0,683.0],\"type\":\"mesh3d\"},{\"colorscale\":[[0,\"gold\"],[0.5,\"mediumturquoise\"],[1,\"magenta\"]],\"flatshading\":true,\"i\":[7,0,0,0,4,4,6,6,4,0,3,2],\"intensity\":[0.0,0.14285714285714285,0.2857142857142857,0.42857142857142855,0.5714285714285714,0.7142857142857142,0.8571428571428571,1.0],\"j\":[3,4,1,2,5,6,5,2,0,1,6,3],\"k\":[0,7,2,3,6,7,1,1,5,5,7,6],\"showlegend\":false,\"showscale\":false,\"x\":[683.0,683.0,690.0,690.0,683.0,683.0,690.0,690.0],\"y\":[318.0,350.0,350.0,318.0,318.0,350.0,350.0,318.0],\"z\":[148.0,148.0,148.0,148.0,173.0,173.0,173.0,173.0],\"type\":\"mesh3d\"},{\"colorscale\":[[0,\"gold\"],[0.5,\"mediumturquoise\"],[1,\"magenta\"]],\"flatshading\":true,\"i\":[7,0,0,0,4,4,6,6,4,0,3,2],\"intensity\":[0.0,0.14285714285714285,0.2857142857142857,0.42857142857142855,0.5714285714285714,0.7142857142857142,0.8571428571428571,1.0],\"j\":[3,4,1,2,5,6,5,2,0,1,6,3],\"k\":[0,7,2,3,6,7,1,1,5,5,7,6],\"showlegend\":false,\"showscale\":false,\"x\":[760.0,760.0,788.0,788.0,760.0,760.0,788.0,788.0],\"y\":[31.0,71.0,71.0,31.0,31.0,71.0,71.0,31.0],\"z\":[932.0,932.0,932.0,932.0,978.0,978.0,978.0,978.0],\"type\":\"mesh3d\"},{\"colorscale\":[[0,\"gold\"],[0.5,\"mediumturquoise\"],[1,\"magenta\"]],\"flatshading\":true,\"i\":[7,0,0,0,4,4,6,6,4,0,3,2],\"intensity\":[0.0,0.14285714285714285,0.2857142857142857,0.42857142857142855,0.5714285714285714,0.7142857142857142,0.8571428571428571,1.0],\"j\":[3,4,1,2,5,6,5,2,0,1,6,3],\"k\":[0,7,2,3,6,7,1,1,5,5,7,6],\"showlegend\":false,\"showscale\":false,\"x\":[185.0,185.0,197.0,197.0,185.0,185.0,197.0,197.0],\"y\":[225.0,243.0,243.0,225.0,225.0,243.0,243.0,225.0],\"z\":[463.0,463.0,463.0,463.0,475.0,475.0,475.0,475.0],\"type\":\"mesh3d\"},{\"colorscale\":[[0,\"gold\"],[0.5,\"mediumturquoise\"],[1,\"magenta\"]],\"flatshading\":true,\"i\":[7,0,0,0,4,4,6,6,4,0,3,2],\"intensity\":[0.0,0.14285714285714285,0.2857142857142857,0.42857142857142855,0.5714285714285714,0.7142857142857142,0.8571428571428571,1.0],\"j\":[3,4,1,2,5,6,5,2,0,1,6,3],\"k\":[0,7,2,3,6,7,1,1,5,5,7,6],\"showlegend\":false,\"showscale\":false,\"x\":[541.0,541.0,572.0,572.0,541.0,541.0,572.0,572.0],\"y\":[843.0,847.0,847.0,843.0,843.0,847.0,847.0,843.0],\"z\":[447.0,447.0,447.0,447.0,482.0,482.0,482.0,482.0],\"type\":\"mesh3d\"},{\"colorscale\":[[0,\"gold\"],[0.5,\"mediumturquoise\"],[1,\"magenta\"]],\"flatshading\":true,\"i\":[7,0,0,0,4,4,6,6,4,0,3,2],\"intensity\":[0.0,0.14285714285714285,0.2857142857142857,0.42857142857142855,0.5714285714285714,0.7142857142857142,0.8571428571428571,1.0],\"j\":[3,4,1,2,5,6,5,2,0,1,6,3],\"k\":[0,7,2,3,6,7,1,1,5,5,7,6],\"showlegend\":false,\"showscale\":false,\"x\":[772.0,772.0,774.0,774.0,772.0,772.0,774.0,774.0],\"y\":[186.0,193.0,193.0,186.0,186.0,193.0,193.0,186.0],\"z\":[530.0,530.0,530.0,530.0,577.0,577.0,577.0,577.0],\"type\":\"mesh3d\"},{\"colorscale\":[[0,\"gold\"],[0.5,\"mediumturquoise\"],[1,\"magenta\"]],\"flatshading\":true,\"i\":[7,0,0,0,4,4,6,6,4,0,3,2],\"intensity\":[0.0,0.14285714285714285,0.2857142857142857,0.42857142857142855,0.5714285714285714,0.7142857142857142,0.8571428571428571,1.0],\"j\":[3,4,1,2,5,6,5,2,0,1,6,3],\"k\":[0,7,2,3,6,7,1,1,5,5,7,6],\"showlegend\":false,\"showscale\":false,\"x\":[995.0,995.0,997.0,997.0,995.0,995.0,997.0,997.0],\"y\":[238.0,246.0,246.0,238.0,238.0,246.0,246.0,238.0],\"z\":[559.0,559.0,559.0,559.0,561.0,561.0,561.0,561.0],\"type\":\"mesh3d\"},{\"colorscale\":[[0,\"gold\"],[0.5,\"mediumturquoise\"],[1,\"magenta\"]],\"flatshading\":true,\"i\":[7,0,0,0,4,4,6,6,4,0,3,2],\"intensity\":[0.0,0.14285714285714285,0.2857142857142857,0.42857142857142855,0.5714285714285714,0.7142857142857142,0.8571428571428571,1.0],\"j\":[3,4,1,2,5,6,5,2,0,1,6,3],\"k\":[0,7,2,3,6,7,1,1,5,5,7,6],\"showlegend\":false,\"showscale\":false,\"x\":[303.0,303.0,392.0,392.0,303.0,303.0,392.0,392.0],\"y\":[787.0,796.0,796.0,787.0,787.0,796.0,796.0,787.0],\"z\":[733.0,733.0,733.0,733.0,795.0,795.0,795.0,795.0],\"type\":\"mesh3d\"},{\"colorscale\":[[0,\"gold\"],[0.5,\"mediumturquoise\"],[1,\"magenta\"]],\"flatshading\":true,\"i\":[7,0,0,0,4,4,6,6,4,0,3,2],\"intensity\":[0.0,0.14285714285714285,0.2857142857142857,0.42857142857142855,0.5714285714285714,0.7142857142857142,0.8571428571428571,1.0],\"j\":[3,4,1,2,5,6,5,2,0,1,6,3],\"k\":[0,7,2,3,6,7,1,1,5,5,7,6],\"showlegend\":false,\"showscale\":false,\"x\":[480.0,480.0,486.0,486.0,480.0,480.0,486.0,486.0],\"y\":[346.0,349.0,349.0,346.0,346.0,349.0,349.0,346.0],\"z\":[935.0,935.0,935.0,935.0,949.0,949.0,949.0,949.0],\"type\":\"mesh3d\"},{\"colorscale\":[[0,\"gold\"],[0.5,\"mediumturquoise\"],[1,\"magenta\"]],\"flatshading\":true,\"i\":[7,0,0,0,4,4,6,6,4,0,3,2],\"intensity\":[0.0,0.14285714285714285,0.2857142857142857,0.42857142857142855,0.5714285714285714,0.7142857142857142,0.8571428571428571,1.0],\"j\":[3,4,1,2,5,6,5,2,0,1,6,3],\"k\":[0,7,2,3,6,7,1,1,5,5,7,6],\"showlegend\":false,\"showscale\":false,\"x\":[939.0,939.0,949.0,949.0,939.0,939.0,949.0,949.0],\"y\":[867.0,896.0,896.0,867.0,867.0,896.0,896.0,867.0],\"z\":[788.0,788.0,788.0,788.0,797.0,797.0,797.0,797.0],\"type\":\"mesh3d\"},{\"colorscale\":[[0,\"gold\"],[0.5,\"mediumturquoise\"],[1,\"magenta\"]],\"flatshading\":true,\"i\":[7,0,0,0,4,4,6,6,4,0,3,2],\"intensity\":[0.0,0.14285714285714285,0.2857142857142857,0.42857142857142855,0.5714285714285714,0.7142857142857142,0.8571428571428571,1.0],\"j\":[3,4,1,2,5,6,5,2,0,1,6,3],\"k\":[0,7,2,3,6,7,1,1,5,5,7,6],\"showlegend\":false,\"showscale\":false,\"x\":[729.0,729.0,773.0,773.0,729.0,729.0,773.0,773.0],\"y\":[684.0,690.0,690.0,684.0,684.0,690.0,690.0,684.0],\"z\":[961.0,961.0,961.0,961.0,968.0,968.0,968.0,968.0],\"type\":\"mesh3d\"},{\"colorscale\":[[0,\"gold\"],[0.5,\"mediumturquoise\"],[1,\"magenta\"]],\"flatshading\":true,\"i\":[7,0,0,0,4,4,6,6,4,0,3,2],\"intensity\":[0.0,0.14285714285714285,0.2857142857142857,0.42857142857142855,0.5714285714285714,0.7142857142857142,0.8571428571428571,1.0],\"j\":[3,4,1,2,5,6,5,2,0,1,6,3],\"k\":[0,7,2,3,6,7,1,1,5,5,7,6],\"showlegend\":false,\"showscale\":false,\"x\":[76.0,76.0,90.0,90.0,76.0,76.0,90.0,90.0],\"y\":[290.0,295.0,295.0,290.0,290.0,295.0,295.0,290.0],\"z\":[801.0,801.0,801.0,801.0,820.0,820.0,820.0,820.0],\"type\":\"mesh3d\"},{\"colorscale\":[[0,\"gold\"],[0.5,\"mediumturquoise\"],[1,\"magenta\"]],\"flatshading\":true,\"i\":[7,0,0,0,4,4,6,6,4,0,3,2],\"intensity\":[0.0,0.14285714285714285,0.2857142857142857,0.42857142857142855,0.5714285714285714,0.7142857142857142,0.8571428571428571,1.0],\"j\":[3,4,1,2,5,6,5,2,0,1,6,3],\"k\":[0,7,2,3,6,7,1,1,5,5,7,6],\"showlegend\":false,\"showscale\":false,\"x\":[189.0,189.0,192.0,192.0,189.0,189.0,192.0,192.0],\"y\":[1.0,48.0,48.0,1.0,1.0,48.0,48.0,1.0],\"z\":[955.0,955.0,955.0,955.0,956.0,956.0,956.0,956.0],\"type\":\"mesh3d\"},{\"colorscale\":[[0,\"gold\"],[0.5,\"mediumturquoise\"],[1,\"magenta\"]],\"flatshading\":true,\"i\":[7,0,0,0,4,4,6,6,4,0,3,2],\"intensity\":[0.0,0.14285714285714285,0.2857142857142857,0.42857142857142855,0.5714285714285714,0.7142857142857142,0.8571428571428571,1.0],\"j\":[3,4,1,2,5,6,5,2,0,1,6,3],\"k\":[0,7,2,3,6,7,1,1,5,5,7,6],\"showlegend\":false,\"showscale\":false,\"x\":[166.0,166.0,188.0,188.0,166.0,166.0,188.0,188.0],\"y\":[944.0,999.0,999.0,944.0,944.0,999.0,999.0,944.0],\"z\":[731.0,731.0,731.0,731.0,791.0,791.0,791.0,791.0],\"type\":\"mesh3d\"},{\"colorscale\":[[0,\"gold\"],[0.5,\"mediumturquoise\"],[1,\"magenta\"]],\"flatshading\":true,\"i\":[7,0,0,0,4,4,6,6,4,0,3,2],\"intensity\":[0.0,0.14285714285714285,0.2857142857142857,0.42857142857142855,0.5714285714285714,0.7142857142857142,0.8571428571428571,1.0],\"j\":[3,4,1,2,5,6,5,2,0,1,6,3],\"k\":[0,7,2,3,6,7,1,1,5,5,7,6],\"showlegend\":false,\"showscale\":false,\"x\":[730.0,730.0,762.0,762.0,730.0,730.0,762.0,762.0],\"y\":[895.0,899.0,899.0,895.0,895.0,899.0,899.0,895.0],\"z\":[641.0,641.0,641.0,641.0,684.0,684.0,684.0,684.0],\"type\":\"mesh3d\"},{\"colorscale\":[[0,\"gold\"],[0.5,\"mediumturquoise\"],[1,\"magenta\"]],\"flatshading\":true,\"i\":[7,0,0,0,4,4,6,6,4,0,3,2],\"intensity\":[0.0,0.14285714285714285,0.2857142857142857,0.42857142857142855,0.5714285714285714,0.7142857142857142,0.8571428571428571,1.0],\"j\":[3,4,1,2,5,6,5,2,0,1,6,3],\"k\":[0,7,2,3,6,7,1,1,5,5,7,6],\"showlegend\":false,\"showscale\":false,\"x\":[514.0,514.0,540.0,540.0,514.0,514.0,540.0,540.0],\"y\":[995.0,997.0,997.0,995.0,995.0,997.0,997.0,995.0],\"z\":[584.0,584.0,584.0,584.0,587.0,587.0,587.0,587.0],\"type\":\"mesh3d\"},{\"colorscale\":[[0,\"gold\"],[0.5,\"mediumturquoise\"],[1,\"magenta\"]],\"flatshading\":true,\"i\":[7,0,0,0,4,4,6,6,4,0,3,2],\"intensity\":[0.0,0.14285714285714285,0.2857142857142857,0.42857142857142855,0.5714285714285714,0.7142857142857142,0.8571428571428571,1.0],\"j\":[3,4,1,2,5,6,5,2,0,1,6,3],\"k\":[0,7,2,3,6,7,1,1,5,5,7,6],\"showlegend\":false,\"showscale\":false,\"x\":[346.0,346.0,388.0,388.0,346.0,346.0,388.0,388.0],\"y\":[117.0,138.0,138.0,117.0,117.0,138.0,138.0,117.0],\"z\":[304.0,304.0,304.0,304.0,367.0,367.0,367.0,367.0],\"type\":\"mesh3d\"},{\"colorscale\":[[0,\"gold\"],[0.5,\"mediumturquoise\"],[1,\"magenta\"]],\"flatshading\":true,\"i\":[7,0,0,0,4,4,6,6,4,0,3,2],\"intensity\":[0.0,0.14285714285714285,0.2857142857142857,0.42857142857142855,0.5714285714285714,0.7142857142857142,0.8571428571428571,1.0],\"j\":[3,4,1,2,5,6,5,2,0,1,6,3],\"k\":[0,7,2,3,6,7,1,1,5,5,7,6],\"showlegend\":false,\"showscale\":false,\"x\":[618.0,618.0,632.0,632.0,618.0,618.0,632.0,632.0],\"y\":[1.0,54.0,54.0,1.0,1.0,54.0,54.0,1.0],\"z\":[612.0,612.0,612.0,612.0,675.0,675.0,675.0,675.0],\"type\":\"mesh3d\"},{\"colorscale\":[[0,\"gold\"],[0.5,\"mediumturquoise\"],[1,\"magenta\"]],\"flatshading\":true,\"i\":[7,0,0,0,4,4,6,6,4,0,3,2],\"intensity\":[0.0,0.14285714285714285,0.2857142857142857,0.42857142857142855,0.5714285714285714,0.7142857142857142,0.8571428571428571,1.0],\"j\":[3,4,1,2,5,6,5,2,0,1,6,3],\"k\":[0,7,2,3,6,7,1,1,5,5,7,6],\"showlegend\":false,\"showscale\":false,\"x\":[264.0,264.0,284.0,284.0,264.0,264.0,284.0,284.0],\"y\":[555.0,574.0,574.0,555.0,555.0,574.0,574.0,555.0],\"z\":[449.0,449.0,449.0,449.0,462.0,462.0,462.0,462.0],\"type\":\"mesh3d\"},{\"colorscale\":[[0,\"gold\"],[0.5,\"mediumturquoise\"],[1,\"magenta\"]],\"flatshading\":true,\"i\":[7,0,0,0,4,4,6,6,4,0,3,2],\"intensity\":[0.0,0.14285714285714285,0.2857142857142857,0.42857142857142855,0.5714285714285714,0.7142857142857142,0.8571428571428571,1.0],\"j\":[3,4,1,2,5,6,5,2,0,1,6,3],\"k\":[0,7,2,3,6,7,1,1,5,5,7,6],\"showlegend\":false,\"showscale\":false,\"x\":[118.0,118.0,186.0,186.0,118.0,118.0,186.0,186.0],\"y\":[193.0,196.0,196.0,193.0,193.0,196.0,196.0,193.0],\"z\":[831.0,831.0,831.0,831.0,891.0,891.0,891.0,891.0],\"type\":\"mesh3d\"},{\"colorscale\":[[0,\"gold\"],[0.5,\"mediumturquoise\"],[1,\"magenta\"]],\"flatshading\":true,\"i\":[7,0,0,0,4,4,6,6,4,0,3,2],\"intensity\":[0.0,0.14285714285714285,0.2857142857142857,0.42857142857142855,0.5714285714285714,0.7142857142857142,0.8571428571428571,1.0],\"j\":[3,4,1,2,5,6,5,2,0,1,6,3],\"k\":[0,7,2,3,6,7,1,1,5,5,7,6],\"showlegend\":false,\"showscale\":false,\"x\":[96.0,96.0,98.0,98.0,96.0,96.0,98.0,98.0],\"y\":[313.0,321.0,321.0,313.0,313.0,321.0,321.0,313.0],\"z\":[665.0,665.0,665.0,665.0,678.0,678.0,678.0,678.0],\"type\":\"mesh3d\"},{\"colorscale\":[[0,\"gold\"],[0.5,\"mediumturquoise\"],[1,\"magenta\"]],\"flatshading\":true,\"i\":[7,0,0,0,4,4,6,6,4,0,3,2],\"intensity\":[0.0,0.14285714285714285,0.2857142857142857,0.42857142857142855,0.5714285714285714,0.7142857142857142,0.8571428571428571,1.0],\"j\":[3,4,1,2,5,6,5,2,0,1,6,3],\"k\":[0,7,2,3,6,7,1,1,5,5,7,6],\"showlegend\":false,\"showscale\":false,\"x\":[311.0,311.0,377.0,377.0,311.0,311.0,377.0,377.0],\"y\":[971.0,979.0,979.0,971.0,971.0,979.0,979.0,971.0],\"z\":[500.0,500.0,500.0,500.0,558.0,558.0,558.0,558.0],\"type\":\"mesh3d\"},{\"colorscale\":[[0,\"gold\"],[0.5,\"mediumturquoise\"],[1,\"magenta\"]],\"flatshading\":true,\"i\":[7,0,0,0,4,4,6,6,4,0,3,2],\"intensity\":[0.0,0.14285714285714285,0.2857142857142857,0.42857142857142855,0.5714285714285714,0.7142857142857142,0.8571428571428571,1.0],\"j\":[3,4,1,2,5,6,5,2,0,1,6,3],\"k\":[0,7,2,3,6,7,1,1,5,5,7,6],\"showlegend\":false,\"showscale\":false,\"x\":[416.0,416.0,496.0,496.0,416.0,416.0,496.0,496.0],\"y\":[307.0,347.0,347.0,307.0,307.0,347.0,347.0,307.0],\"z\":[951.0,951.0,951.0,951.0,952.0,952.0,952.0,952.0],\"type\":\"mesh3d\"},{\"colorscale\":[[0,\"gold\"],[0.5,\"mediumturquoise\"],[1,\"magenta\"]],\"flatshading\":true,\"i\":[7,0,0,0,4,4,6,6,4,0,3,2],\"intensity\":[0.0,0.14285714285714285,0.2857142857142857,0.42857142857142855,0.5714285714285714,0.7142857142857142,0.8571428571428571,1.0],\"j\":[3,4,1,2,5,6,5,2,0,1,6,3],\"k\":[0,7,2,3,6,7,1,1,5,5,7,6],\"showlegend\":false,\"showscale\":false,\"x\":[893.0,893.0,899.0,899.0,893.0,893.0,899.0,899.0],\"y\":[475.0,490.0,490.0,475.0,475.0,490.0,490.0,475.0],\"z\":[53.0,53.0,53.0,53.0,90.0,90.0,90.0,90.0],\"type\":\"mesh3d\"},{\"colorscale\":[[0,\"gold\"],[0.5,\"mediumturquoise\"],[1,\"magenta\"]],\"flatshading\":true,\"i\":[7,0,0,0,4,4,6,6,4,0,3,2],\"intensity\":[0.0,0.14285714285714285,0.2857142857142857,0.42857142857142855,0.5714285714285714,0.7142857142857142,0.8571428571428571,1.0],\"j\":[3,4,1,2,5,6,5,2,0,1,6,3],\"k\":[0,7,2,3,6,7,1,1,5,5,7,6],\"showlegend\":false,\"showscale\":false,\"x\":[637.0,637.0,653.0,653.0,637.0,637.0,653.0,653.0],\"y\":[358.0,396.0,396.0,358.0,358.0,396.0,396.0,358.0],\"z\":[566.0,566.0,566.0,566.0,584.0,584.0,584.0,584.0],\"type\":\"mesh3d\"},{\"colorscale\":[[0,\"gold\"],[0.5,\"mediumturquoise\"],[1,\"magenta\"]],\"flatshading\":true,\"i\":[7,0,0,0,4,4,6,6,4,0,3,2],\"intensity\":[0.0,0.14285714285714285,0.2857142857142857,0.42857142857142855,0.5714285714285714,0.7142857142857142,0.8571428571428571,1.0],\"j\":[3,4,1,2,5,6,5,2,0,1,6,3],\"k\":[0,7,2,3,6,7,1,1,5,5,7,6],\"showlegend\":false,\"showscale\":false,\"x\":[389.0,389.0,392.0,392.0,389.0,389.0,392.0,392.0],\"y\":[248.0,255.0,255.0,248.0,248.0,255.0,255.0,248.0],\"z\":[619.0,619.0,619.0,619.0,673.0,673.0,673.0,673.0],\"type\":\"mesh3d\"},{\"colorscale\":[[0,\"gold\"],[0.5,\"mediumturquoise\"],[1,\"magenta\"]],\"flatshading\":true,\"i\":[7,0,0,0,4,4,6,6,4,0,3,2],\"intensity\":[0.0,0.14285714285714285,0.2857142857142857,0.42857142857142855,0.5714285714285714,0.7142857142857142,0.8571428571428571,1.0],\"j\":[3,4,1,2,5,6,5,2,0,1,6,3],\"k\":[0,7,2,3,6,7,1,1,5,5,7,6],\"showlegend\":false,\"showscale\":false,\"x\":[122.0,122.0,147.0,147.0,122.0,122.0,147.0,147.0],\"y\":[20.0,80.0,80.0,20.0,20.0,80.0,80.0,20.0],\"z\":[408.0,408.0,408.0,408.0,486.0,486.0,486.0,486.0],\"type\":\"mesh3d\"},{\"colorscale\":[[0,\"gold\"],[0.5,\"mediumturquoise\"],[1,\"magenta\"]],\"flatshading\":true,\"i\":[7,0,0,0,4,4,6,6,4,0,3,2],\"intensity\":[0.0,0.14285714285714285,0.2857142857142857,0.42857142857142855,0.5714285714285714,0.7142857142857142,0.8571428571428571,1.0],\"j\":[3,4,1,2,5,6,5,2,0,1,6,3],\"k\":[0,7,2,3,6,7,1,1,5,5,7,6],\"showlegend\":false,\"showscale\":false,\"x\":[735.0,735.0,742.0,742.0,735.0,735.0,742.0,742.0],\"y\":[514.0,561.0,561.0,514.0,514.0,561.0,561.0,514.0],\"z\":[204.0,204.0,204.0,204.0,236.0,236.0,236.0,236.0],\"type\":\"mesh3d\"},{\"colorscale\":[[0,\"gold\"],[0.5,\"mediumturquoise\"],[1,\"magenta\"]],\"flatshading\":true,\"i\":[7,0,0,0,4,4,6,6,4,0,3,2],\"intensity\":[0.0,0.14285714285714285,0.2857142857142857,0.42857142857142855,0.5714285714285714,0.7142857142857142,0.8571428571428571,1.0],\"j\":[3,4,1,2,5,6,5,2,0,1,6,3],\"k\":[0,7,2,3,6,7,1,1,5,5,7,6],\"showlegend\":false,\"showscale\":false,\"x\":[515.0,515.0,575.0,575.0,515.0,515.0,575.0,575.0],\"y\":[756.0,780.0,780.0,756.0,756.0,780.0,780.0,756.0],\"z\":[603.0,603.0,603.0,603.0,689.0,689.0,689.0,689.0],\"type\":\"mesh3d\"}],                        {\"template\":{\"data\":{\"histogram2dcontour\":[{\"type\":\"histogram2dcontour\",\"colorbar\":{\"outlinewidth\":0,\"ticks\":\"\"},\"colorscale\":[[0.0,\"#0d0887\"],[0.1111111111111111,\"#46039f\"],[0.2222222222222222,\"#7201a8\"],[0.3333333333333333,\"#9c179e\"],[0.4444444444444444,\"#bd3786\"],[0.5555555555555556,\"#d8576b\"],[0.6666666666666666,\"#ed7953\"],[0.7777777777777778,\"#fb9f3a\"],[0.8888888888888888,\"#fdca26\"],[1.0,\"#f0f921\"]]}],\"choropleth\":[{\"type\":\"choropleth\",\"colorbar\":{\"outlinewidth\":0,\"ticks\":\"\"}}],\"histogram2d\":[{\"type\":\"histogram2d\",\"colorbar\":{\"outlinewidth\":0,\"ticks\":\"\"},\"colorscale\":[[0.0,\"#0d0887\"],[0.1111111111111111,\"#46039f\"],[0.2222222222222222,\"#7201a8\"],[0.3333333333333333,\"#9c179e\"],[0.4444444444444444,\"#bd3786\"],[0.5555555555555556,\"#d8576b\"],[0.6666666666666666,\"#ed7953\"],[0.7777777777777778,\"#fb9f3a\"],[0.8888888888888888,\"#fdca26\"],[1.0,\"#f0f921\"]]}],\"heatmap\":[{\"type\":\"heatmap\",\"colorbar\":{\"outlinewidth\":0,\"ticks\":\"\"},\"colorscale\":[[0.0,\"#0d0887\"],[0.1111111111111111,\"#46039f\"],[0.2222222222222222,\"#7201a8\"],[0.3333333333333333,\"#9c179e\"],[0.4444444444444444,\"#bd3786\"],[0.5555555555555556,\"#d8576b\"],[0.6666666666666666,\"#ed7953\"],[0.7777777777777778,\"#fb9f3a\"],[0.8888888888888888,\"#fdca26\"],[1.0,\"#f0f921\"]]}],\"heatmapgl\":[{\"type\":\"heatmapgl\",\"colorbar\":{\"outlinewidth\":0,\"ticks\":\"\"},\"colorscale\":[[0.0,\"#0d0887\"],[0.1111111111111111,\"#46039f\"],[0.2222222222222222,\"#7201a8\"],[0.3333333333333333,\"#9c179e\"],[0.4444444444444444,\"#bd3786\"],[0.5555555555555556,\"#d8576b\"],[0.6666666666666666,\"#ed7953\"],[0.7777777777777778,\"#fb9f3a\"],[0.8888888888888888,\"#fdca26\"],[1.0,\"#f0f921\"]]}],\"contourcarpet\":[{\"type\":\"contourcarpet\",\"colorbar\":{\"outlinewidth\":0,\"ticks\":\"\"}}],\"contour\":[{\"type\":\"contour\",\"colorbar\":{\"outlinewidth\":0,\"ticks\":\"\"},\"colorscale\":[[0.0,\"#0d0887\"],[0.1111111111111111,\"#46039f\"],[0.2222222222222222,\"#7201a8\"],[0.3333333333333333,\"#9c179e\"],[0.4444444444444444,\"#bd3786\"],[0.5555555555555556,\"#d8576b\"],[0.6666666666666666,\"#ed7953\"],[0.7777777777777778,\"#fb9f3a\"],[0.8888888888888888,\"#fdca26\"],[1.0,\"#f0f921\"]]}],\"surface\":[{\"type\":\"surface\",\"colorbar\":{\"outlinewidth\":0,\"ticks\":\"\"},\"colorscale\":[[0.0,\"#0d0887\"],[0.1111111111111111,\"#46039f\"],[0.2222222222222222,\"#7201a8\"],[0.3333333333333333,\"#9c179e\"],[0.4444444444444444,\"#bd3786\"],[0.5555555555555556,\"#d8576b\"],[0.6666666666666666,\"#ed7953\"],[0.7777777777777778,\"#fb9f3a\"],[0.8888888888888888,\"#fdca26\"],[1.0,\"#f0f921\"]]}],\"mesh3d\":[{\"type\":\"mesh3d\",\"colorbar\":{\"outlinewidth\":0,\"ticks\":\"\"}}],\"scatter\":[{\"fillpattern\":{\"fillmode\":\"overlay\",\"size\":10,\"solidity\":0.2},\"type\":\"scatter\"}],\"parcoords\":[{\"type\":\"parcoords\",\"line\":{\"colorbar\":{\"outlinewidth\":0,\"ticks\":\"\"}}}],\"scatterpolargl\":[{\"type\":\"scatterpolargl\",\"marker\":{\"colorbar\":{\"outlinewidth\":0,\"ticks\":\"\"}}}],\"bar\":[{\"error_x\":{\"color\":\"#2a3f5f\"},\"error_y\":{\"color\":\"#2a3f5f\"},\"marker\":{\"line\":{\"color\":\"#E5ECF6\",\"width\":0.5},\"pattern\":{\"fillmode\":\"overlay\",\"size\":10,\"solidity\":0.2}},\"type\":\"bar\"}],\"scattergeo\":[{\"type\":\"scattergeo\",\"marker\":{\"colorbar\":{\"outlinewidth\":0,\"ticks\":\"\"}}}],\"scatterpolar\":[{\"type\":\"scatterpolar\",\"marker\":{\"colorbar\":{\"outlinewidth\":0,\"ticks\":\"\"}}}],\"histogram\":[{\"marker\":{\"pattern\":{\"fillmode\":\"overlay\",\"size\":10,\"solidity\":0.2}},\"type\":\"histogram\"}],\"scattergl\":[{\"type\":\"scattergl\",\"marker\":{\"colorbar\":{\"outlinewidth\":0,\"ticks\":\"\"}}}],\"scatter3d\":[{\"type\":\"scatter3d\",\"line\":{\"colorbar\":{\"outlinewidth\":0,\"ticks\":\"\"}},\"marker\":{\"colorbar\":{\"outlinewidth\":0,\"ticks\":\"\"}}}],\"scattermapbox\":[{\"type\":\"scattermapbox\",\"marker\":{\"colorbar\":{\"outlinewidth\":0,\"ticks\":\"\"}}}],\"scatterternary\":[{\"type\":\"scatterternary\",\"marker\":{\"colorbar\":{\"outlinewidth\":0,\"ticks\":\"\"}}}],\"scattercarpet\":[{\"type\":\"scattercarpet\",\"marker\":{\"colorbar\":{\"outlinewidth\":0,\"ticks\":\"\"}}}],\"carpet\":[{\"aaxis\":{\"endlinecolor\":\"#2a3f5f\",\"gridcolor\":\"white\",\"linecolor\":\"white\",\"minorgridcolor\":\"white\",\"startlinecolor\":\"#2a3f5f\"},\"baxis\":{\"endlinecolor\":\"#2a3f5f\",\"gridcolor\":\"white\",\"linecolor\":\"white\",\"minorgridcolor\":\"white\",\"startlinecolor\":\"#2a3f5f\"},\"type\":\"carpet\"}],\"table\":[{\"cells\":{\"fill\":{\"color\":\"#EBF0F8\"},\"line\":{\"color\":\"white\"}},\"header\":{\"fill\":{\"color\":\"#C8D4E3\"},\"line\":{\"color\":\"white\"}},\"type\":\"table\"}],\"barpolar\":[{\"marker\":{\"line\":{\"color\":\"#E5ECF6\",\"width\":0.5},\"pattern\":{\"fillmode\":\"overlay\",\"size\":10,\"solidity\":0.2}},\"type\":\"barpolar\"}],\"pie\":[{\"automargin\":true,\"type\":\"pie\"}]},\"layout\":{\"autotypenumbers\":\"strict\",\"colorway\":[\"#636efa\",\"#EF553B\",\"#00cc96\",\"#ab63fa\",\"#FFA15A\",\"#19d3f3\",\"#FF6692\",\"#B6E880\",\"#FF97FF\",\"#FECB52\"],\"font\":{\"color\":\"#2a3f5f\"},\"hovermode\":\"closest\",\"hoverlabel\":{\"align\":\"left\"},\"paper_bgcolor\":\"white\",\"plot_bgcolor\":\"#E5ECF6\",\"polar\":{\"bgcolor\":\"#E5ECF6\",\"angularaxis\":{\"gridcolor\":\"white\",\"linecolor\":\"white\",\"ticks\":\"\"},\"radialaxis\":{\"gridcolor\":\"white\",\"linecolor\":\"white\",\"ticks\":\"\"}},\"ternary\":{\"bgcolor\":\"#E5ECF6\",\"aaxis\":{\"gridcolor\":\"white\",\"linecolor\":\"white\",\"ticks\":\"\"},\"baxis\":{\"gridcolor\":\"white\",\"linecolor\":\"white\",\"ticks\":\"\"},\"caxis\":{\"gridcolor\":\"white\",\"linecolor\":\"white\",\"ticks\":\"\"}},\"coloraxis\":{\"colorbar\":{\"outlinewidth\":0,\"ticks\":\"\"}},\"colorscale\":{\"sequential\":[[0.0,\"#0d0887\"],[0.1111111111111111,\"#46039f\"],[0.2222222222222222,\"#7201a8\"],[0.3333333333333333,\"#9c179e\"],[0.4444444444444444,\"#bd3786\"],[0.5555555555555556,\"#d8576b\"],[0.6666666666666666,\"#ed7953\"],[0.7777777777777778,\"#fb9f3a\"],[0.8888888888888888,\"#fdca26\"],[1.0,\"#f0f921\"]],\"sequentialminus\":[[0.0,\"#0d0887\"],[0.1111111111111111,\"#46039f\"],[0.2222222222222222,\"#7201a8\"],[0.3333333333333333,\"#9c179e\"],[0.4444444444444444,\"#bd3786\"],[0.5555555555555556,\"#d8576b\"],[0.6666666666666666,\"#ed7953\"],[0.7777777777777778,\"#fb9f3a\"],[0.8888888888888888,\"#fdca26\"],[1.0,\"#f0f921\"]],\"diverging\":[[0,\"#8e0152\"],[0.1,\"#c51b7d\"],[0.2,\"#de77ae\"],[0.3,\"#f1b6da\"],[0.4,\"#fde0ef\"],[0.5,\"#f7f7f7\"],[0.6,\"#e6f5d0\"],[0.7,\"#b8e186\"],[0.8,\"#7fbc41\"],[0.9,\"#4d9221\"],[1,\"#276419\"]]},\"xaxis\":{\"gridcolor\":\"white\",\"linecolor\":\"white\",\"ticks\":\"\",\"title\":{\"standoff\":15},\"zerolinecolor\":\"white\",\"automargin\":true,\"zerolinewidth\":2},\"yaxis\":{\"gridcolor\":\"white\",\"linecolor\":\"white\",\"ticks\":\"\",\"title\":{\"standoff\":15},\"zerolinecolor\":\"white\",\"automargin\":true,\"zerolinewidth\":2},\"scene\":{\"xaxis\":{\"backgroundcolor\":\"#E5ECF6\",\"gridcolor\":\"white\",\"linecolor\":\"white\",\"showbackground\":true,\"ticks\":\"\",\"zerolinecolor\":\"white\",\"gridwidth\":2},\"yaxis\":{\"backgroundcolor\":\"#E5ECF6\",\"gridcolor\":\"white\",\"linecolor\":\"white\",\"showbackground\":true,\"ticks\":\"\",\"zerolinecolor\":\"white\",\"gridwidth\":2},\"zaxis\":{\"backgroundcolor\":\"#E5ECF6\",\"gridcolor\":\"white\",\"linecolor\":\"white\",\"showbackground\":true,\"ticks\":\"\",\"zerolinecolor\":\"white\",\"gridwidth\":2}},\"shapedefaults\":{\"line\":{\"color\":\"#2a3f5f\"}},\"annotationdefaults\":{\"arrowcolor\":\"#2a3f5f\",\"arrowhead\":0,\"arrowwidth\":1},\"geo\":{\"bgcolor\":\"white\",\"landcolor\":\"#E5ECF6\",\"subunitcolor\":\"white\",\"showland\":true,\"showlakes\":true,\"lakecolor\":\"white\"},\"title\":{\"x\":0.05},\"mapbox\":{\"style\":\"light\"}}},\"scene\":{\"xaxis\":{\"nticks\":4,\"range\":[0,1000]},\"yaxis\":{\"nticks\":4,\"range\":[0,1000]},\"zaxis\":{\"nticks\":4,\"range\":[0,1000]},\"aspectmode\":\"cube\"},\"margin\":{\"r\":20,\"l\":10,\"b\":10,\"t\":10},\"width\":700},                        {\"responsive\": true}                    ).then(function(){\n",
       "                            \n",
       "var gd = document.getElementById('c9eeb6ad-0f17-4af7-8b5b-17078622c2c9');\n",
       "var x = new MutationObserver(function (mutations, observer) {{\n",
       "        var display = window.getComputedStyle(gd).display;\n",
       "        if (!display || display === 'none') {{\n",
       "            console.log([gd, 'removed!']);\n",
       "            Plotly.purge(gd);\n",
       "            observer.disconnect();\n",
       "        }}\n",
       "}});\n",
       "\n",
       "// Listen for the removal of the full notebook cells\n",
       "var notebookContainer = gd.closest('#notebook-container');\n",
       "if (notebookContainer) {{\n",
       "    x.observe(notebookContainer, {childList: true});\n",
       "}}\n",
       "\n",
       "// Listen for the clearing of the current output cell\n",
       "var outputEl = gd.closest('.output');\n",
       "if (outputEl) {{\n",
       "    x.observe(outputEl, {childList: true});\n",
       "}}\n",
       "\n",
       "                        })                };                });            </script>        </div>"
      ]
     },
     "metadata": {},
     "output_type": "display_data"
    }
   ],
   "source": [
    "# Config and Params\n",
    "num_boxes_show = 100\n",
    "query_args = {\n",
    "    \"x\": None,\n",
    "    \"y\": None,\n",
    "    \"z\": None\n",
    "}\n",
    "query_params = build_query_string(**query_args)\n",
    "print(f\"Query Parameters: {query_params}\")\n",
    "\n",
    "# Request/Response\n",
    "start = perf_counter_ns()\n",
    "response = requests.get(f\"{boxes_url}?{query_params}\")\n",
    "end = perf_counter_ns()\n",
    "\n",
    "# Display\n",
    "response_boxes = [convert_box_json_to_nparray(box) for box in response.json()]\n",
    "response_boxes_show = get_random_distribution_from_list(response_boxes, size=num_boxes_show)\n",
    "query_param_lines = get_query_param_lines(axis_min=0, axis_max=1000, **query_args)\n",
    "# print(query_param_lines)\n",
    "print(f\"Response Time: {format_perf_time(end - start)}\")\n",
    "print(f\"{len(response_boxes)} Boxes in Response\")\n",
    "print(f\"Showing {len(response_boxes_show)} Boxes\")\n",
    "data = show_3d_boxes(response_boxes_show, query_param_lines)"
   ]
  },
  {
   "cell_type": "code",
   "execution_count": 37,
   "id": "310281c1-188d-43d7-9493-b84d0fbdeb8b",
   "metadata": {},
   "outputs": [
    {
     "data": {
      "text/plain": [
       "'https://plotly.com/~richard.autry/5/'"
      ]
     },
     "execution_count": 37,
     "metadata": {},
     "output_type": "execute_result"
    }
   ],
   "source": [
    "import chart_studio.plotly as py\n",
    "py.plot(data, filename='space_partitioning_01', auto_open=True)"
   ]
  },
  {
   "cell_type": "code",
   "execution_count": null,
   "id": "8d45b950-b295-4ead-94d9-f4ebe297e946",
   "metadata": {},
   "outputs": [],
   "source": []
  }
 ],
 "metadata": {
  "kernelspec": {
   "display_name": "Python 3 (ipykernel)",
   "language": "python",
   "name": "python3"
  },
  "language_info": {
   "codemirror_mode": {
    "name": "ipython",
    "version": 3
   },
   "file_extension": ".py",
   "mimetype": "text/x-python",
   "name": "python",
   "nbconvert_exporter": "python",
   "pygments_lexer": "ipython3",
   "version": "3.8.10"
  }
 },
 "nbformat": 4,
 "nbformat_minor": 5
}
