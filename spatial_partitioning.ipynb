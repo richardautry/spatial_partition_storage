{
 "cells": [
  {
   "cell_type": "code",
   "execution_count": 2,
   "id": "12fe0d36-4a3d-44e4-89d8-e062c7635c19",
   "metadata": {},
   "outputs": [],
   "source": [
    "from utils import *"
   ]
  },
  {
   "cell_type": "code",
   "execution_count": 3,
   "id": "9e5c7bda-9e0d-40eb-920b-94c8fb34866d",
   "metadata": {},
   "outputs": [],
   "source": [
    "# Setup API\n",
    "import requests\n",
    "from requests.compat import urljoin\n",
    "import json\n",
    "from time import perf_counter_ns"
   ]
  },
  {
   "cell_type": "code",
   "execution_count": 4,
   "id": "dffb9676-a351-4458-bbe4-397e07f18f79",
   "metadata": {},
   "outputs": [
    {
     "data": {
      "text/plain": [
       "[{'x_min': 75.0,\n",
       "  'x_max': 83.0,\n",
       "  'y_min': 36.0,\n",
       "  'y_max': 65.0,\n",
       "  'z_min': 48.0,\n",
       "  'z_max': 70.0,\n",
       "  'id': '79147250-1865-42f0-b28c-82d6131c5052'}]"
      ]
     },
     "execution_count": 4,
     "metadata": {},
     "output_type": "execute_result"
    }
   ],
   "source": [
    "api_host = \"http://localhost\"\n",
    "boxes_endpoint = \"boxes/\"\n",
    "\n",
    "boxes_url = urljoin(api_host, boxes_endpoint)\n",
    "response = requests.get(url=boxes_url)\n",
    "response.json()[:1]"
   ]
  },
  {
   "cell_type": "code",
   "execution_count": 5,
   "id": "ff4421df-0505-4403-991f-7aaed49430cb",
   "metadata": {},
   "outputs": [],
   "source": [
    "\n",
    "# for box in boxes:\n",
    "#     data = {\n",
    "#         \"x_min\": min(box[0]),\n",
    "#         \"x_max\": max(box[0]),\n",
    "#         \"y_min\": min(box[1]),\n",
    "#         \"y_max\": max(box[1]),\n",
    "#         \"z_min\": min(box[2]),\n",
    "#         \"z_max\": max(box[2]),\n",
    "#     }\n",
    "#     for key, value in data.items():\n",
    "#         data[key] = int(value)\n",
    "#     print(data)\n",
    "#     response = requests.post(urljoin(api_host, boxes_endpoint), json=data)\n",
    "#     assert response.status_code == 200, response.json()"
   ]
  },
  {
   "cell_type": "code",
   "execution_count": 6,
   "id": "b1eb043b-5761-40a4-a0ac-e855ed93ffd4",
   "metadata": {},
   "outputs": [],
   "source": [
    "def show_3d_boxes(boxes, lines_args):\n",
    "    fig = go.Figure()\n",
    "\n",
    "    for box in boxes:\n",
    "        add_mesh_3d(fig, box)\n",
    "        \n",
    "    for line_args in lines_args:\n",
    "        add_line_3d(fig, **line_args)\n",
    "\n",
    "    fig.update_layout(\n",
    "        scene = {\n",
    "            \"xaxis\": {\n",
    "                \"nticks\": 4, \n",
    "                \"range\": [0,1000],\n",
    "            },\n",
    "            \"yaxis\": {\n",
    "                \"nticks\": 4, \n",
    "                \"range\": [0, 1000],\n",
    "            },\n",
    "            \"zaxis\": {\n",
    "                \"nticks\": 4, \n",
    "                \"range\": [0,1000],\n",
    "            },\n",
    "            \"aspectmode\": \"cube\"\n",
    "        },\n",
    "        width=700,\n",
    "        margin=dict(r=20, l=10, b=10, t=10),\n",
    "    )\n",
    "\n",
    "    fig.show()\n",
    "    \n",
    "    return fig"
   ]
  },
  {
   "cell_type": "code",
   "execution_count": 7,
   "id": "34fb2c1d-00a0-4343-a9cd-3a76514824de",
   "metadata": {},
   "outputs": [],
   "source": [
    "response = requests.get(f\"{boxes_url}?x=20&y=500\")"
   ]
  },
  {
   "cell_type": "code",
   "execution_count": 8,
   "id": "ca0677e4-d1be-4aa9-959f-4b599072ecd4",
   "metadata": {},
   "outputs": [],
   "source": [
    "from typing import Dict, Any\n",
    "\n",
    "def convert_box_json_to_nparray(box_obj: Dict[str, Any]):\n",
    "    del box_obj[\"id\"]\n",
    "    box_array = get_box_points_array(\n",
    "        **box_obj\n",
    "    )\n",
    "    return box_array\n",
    "\n",
    "# convert_box_json_to_nparray(response.json()[0])"
   ]
  },
  {
   "cell_type": "code",
   "execution_count": 9,
   "id": "119ad1ac-2a50-4b3e-ad62-00c9f94f47b7",
   "metadata": {},
   "outputs": [
    {
     "data": {
      "text/plain": [
       "[array([[  9.,   9.,  48.,  48.,   9.,   9.,  48.,  48.],\n",
       "        [504., 545., 545., 504., 504., 545., 545., 504.],\n",
       "        [512., 512., 512., 512., 597., 597., 597., 597.]])]"
      ]
     },
     "execution_count": 9,
     "metadata": {},
     "output_type": "execute_result"
    }
   ],
   "source": [
    "response_boxes = [convert_box_json_to_nparray(box) for box in response.json()]\n",
    "response_boxes[:2]"
   ]
  },
  {
   "cell_type": "code",
   "execution_count": 10,
   "id": "ebf41ff0-d827-467e-9226-172c36298717",
   "metadata": {},
   "outputs": [],
   "source": [
    "def build_query_string(**kwargs):\n",
    "    query_params = []\n",
    "    for key, val in kwargs.items():\n",
    "        if val:\n",
    "            query_params.append(f\"{key}={val}\")\n",
    "    return \"&\".join(query_params)\n",
    "\n",
    "\n",
    "def get_query_param_lines(x: int, y: int, z: int, axis_min: int, axis_max: int):\n",
    "    x_none = x is None\n",
    "    y_none = y is None\n",
    "    z_none = z is None\n",
    "    query_param_lines = []\n",
    "    if x_none:\n",
    "        x = 0\n",
    "    if y_none:\n",
    "        y = 0\n",
    "    if z_none:\n",
    "        z = 0\n",
    "    \n",
    "    if not x_none:\n",
    "        query_param_lines.append(\n",
    "            {\n",
    "                \"coordinates\":np.array([[x, x], [axis_min, axis_max], [z, z]]),\n",
    "                \"name\": \"x\"\n",
    "            }\n",
    "        )\n",
    "    if not y_none:\n",
    "        query_param_lines.append(\n",
    "            {\n",
    "                \"coordinates\": np.array([[x, x], [y, y], [axis_min, axis_max]]),\n",
    "                \"name\": \"y\",\n",
    "            }\n",
    "        )\n",
    "    if not z_none:\n",
    "        query_param_lines.append(\n",
    "            {\n",
    "                \"coordinates\": np.array([[axis_min, axis_max], [y, y], [z, z]]),\n",
    "                \"name\": \"z\"\n",
    "            }\n",
    "        )\n",
    "    \n",
    "    return query_param_lines"
   ]
  },
  {
   "cell_type": "code",
   "execution_count": 11,
   "id": "6d0a7498-c461-438f-aa72-8fa0dcbc3aa3",
   "metadata": {},
   "outputs": [
    {
     "data": {
      "text/plain": [
       "[9, 3, 7, 4, 2, 8, 1, 5, 0, 6]"
      ]
     },
     "execution_count": 11,
     "metadata": {},
     "output_type": "execute_result"
    }
   ],
   "source": [
    "import random\n",
    "\n",
    "def get_random_distribution_from_list(objects: List[Any], size: int):\n",
    "    \"\"\"\n",
    "    Return a random subset of objects from list\n",
    "    \"\"\"\n",
    "    objects_indexes = list(range(len(objects)))\n",
    "    return_list = []\n",
    "    i = 0\n",
    "    while i < size and objects_indexes:\n",
    "        random_index = random.randrange(len(objects_indexes))\n",
    "        return_list.append(objects[objects_indexes[random_index]])\n",
    "        del objects_indexes[random_index]\n",
    "        i += 1\n",
    "    return return_list\n",
    "\n",
    "\n",
    "some_range = list(range(10))\n",
    "\n",
    "get_random_distribution_from_list(some_range, 100)\n",
    "    "
   ]
  },
  {
   "cell_type": "code",
   "execution_count": 17,
   "id": "c4831934-853f-46be-9d47-efc7f9cb3ac8",
   "metadata": {},
   "outputs": [
    {
     "name": "stdout",
     "output_type": "stream",
     "text": [
      "Query Parameters: x=500&y=395&z=950\n",
      "Response Time: 27ms\n",
      "1 Boxes in Response\n",
      "Showing 1 Boxes\n"
     ]
    },
    {
     "data": {
      "application/vnd.plotly.v1+json": {
       "config": {
        "plotlyServerURL": "https://plotly.com"
       },
       "data": [
        {
         "colorscale": [
          [
           0,
           "gold"
          ],
          [
           0.5,
           "mediumturquoise"
          ],
          [
           1,
           "magenta"
          ]
         ],
         "flatshading": true,
         "i": [
          7,
          0,
          0,
          0,
          4,
          4,
          6,
          6,
          4,
          0,
          3,
          2
         ],
         "intensity": [
          0,
          0.14285714285714285,
          0.2857142857142857,
          0.42857142857142855,
          0.5714285714285714,
          0.7142857142857142,
          0.8571428571428571,
          1
         ],
         "j": [
          3,
          4,
          1,
          2,
          5,
          6,
          5,
          2,
          0,
          1,
          6,
          3
         ],
         "k": [
          0,
          7,
          2,
          3,
          6,
          7,
          1,
          1,
          5,
          5,
          7,
          6
         ],
         "showlegend": false,
         "showscale": false,
         "type": "mesh3d",
         "x": [
          504,
          504,
          580,
          580,
          504,
          504,
          580,
          580
         ],
         "y": [
          344,
          395,
          395,
          344,
          344,
          395,
          395,
          344
         ],
         "z": [
          949,
          949,
          949,
          949,
          958,
          958,
          958,
          958
         ]
        },
        {
         "line": {
          "width": 4
         },
         "marker": {
          "size": 2
         },
         "name": "x",
         "showlegend": true,
         "type": "scatter3d",
         "x": [
          500,
          500
         ],
         "y": [
          0,
          1000
         ],
         "z": [
          950,
          950
         ]
        },
        {
         "line": {
          "width": 4
         },
         "marker": {
          "size": 2
         },
         "name": "y",
         "showlegend": true,
         "type": "scatter3d",
         "x": [
          500,
          500
         ],
         "y": [
          395,
          395
         ],
         "z": [
          0,
          1000
         ]
        },
        {
         "line": {
          "width": 4
         },
         "marker": {
          "size": 2
         },
         "name": "z",
         "showlegend": true,
         "type": "scatter3d",
         "x": [
          0,
          1000
         ],
         "y": [
          395,
          395
         ],
         "z": [
          950,
          950
         ]
        }
       ],
       "layout": {
        "autosize": true,
        "margin": {
         "b": 10,
         "l": 10,
         "r": 20,
         "t": 10
        },
        "scene": {
         "aspectmode": "cube",
         "aspectratio": {
          "x": 1,
          "y": 1,
          "z": 1
         },
         "camera": {
          "center": {
           "x": 0,
           "y": 0,
           "z": 0
          },
          "eye": {
           "x": 0.7629791814528729,
           "y": -0.06257192913758784,
           "z": 1.3280682338221008
          },
          "projection": {
           "type": "perspective"
          },
          "up": {
           "x": 0.023826701360993022,
           "y": -0.02327190092404828,
           "z": 0.9994451995630553
          }
         },
         "xaxis": {
          "nticks": 4,
          "range": [
           0,
           1000
          ],
          "type": "linear"
         },
         "yaxis": {
          "nticks": 4,
          "range": [
           0,
           1000
          ],
          "type": "linear"
         },
         "zaxis": {
          "nticks": 4,
          "range": [
           0,
           1000
          ],
          "type": "linear"
         }
        },
        "template": {
         "data": {
          "bar": [
           {
            "error_x": {
             "color": "#2a3f5f"
            },
            "error_y": {
             "color": "#2a3f5f"
            },
            "marker": {
             "line": {
              "color": "#E5ECF6",
              "width": 0.5
             },
             "pattern": {
              "fillmode": "overlay",
              "size": 10,
              "solidity": 0.2
             }
            },
            "type": "bar"
           }
          ],
          "barpolar": [
           {
            "marker": {
             "line": {
              "color": "#E5ECF6",
              "width": 0.5
             },
             "pattern": {
              "fillmode": "overlay",
              "size": 10,
              "solidity": 0.2
             }
            },
            "type": "barpolar"
           }
          ],
          "carpet": [
           {
            "aaxis": {
             "endlinecolor": "#2a3f5f",
             "gridcolor": "white",
             "linecolor": "white",
             "minorgridcolor": "white",
             "startlinecolor": "#2a3f5f"
            },
            "baxis": {
             "endlinecolor": "#2a3f5f",
             "gridcolor": "white",
             "linecolor": "white",
             "minorgridcolor": "white",
             "startlinecolor": "#2a3f5f"
            },
            "type": "carpet"
           }
          ],
          "choropleth": [
           {
            "colorbar": {
             "outlinewidth": 0,
             "ticks": ""
            },
            "type": "choropleth"
           }
          ],
          "contour": [
           {
            "colorbar": {
             "outlinewidth": 0,
             "ticks": ""
            },
            "colorscale": [
             [
              0,
              "#0d0887"
             ],
             [
              0.1111111111111111,
              "#46039f"
             ],
             [
              0.2222222222222222,
              "#7201a8"
             ],
             [
              0.3333333333333333,
              "#9c179e"
             ],
             [
              0.4444444444444444,
              "#bd3786"
             ],
             [
              0.5555555555555556,
              "#d8576b"
             ],
             [
              0.6666666666666666,
              "#ed7953"
             ],
             [
              0.7777777777777778,
              "#fb9f3a"
             ],
             [
              0.8888888888888888,
              "#fdca26"
             ],
             [
              1,
              "#f0f921"
             ]
            ],
            "type": "contour"
           }
          ],
          "contourcarpet": [
           {
            "colorbar": {
             "outlinewidth": 0,
             "ticks": ""
            },
            "type": "contourcarpet"
           }
          ],
          "heatmap": [
           {
            "colorbar": {
             "outlinewidth": 0,
             "ticks": ""
            },
            "colorscale": [
             [
              0,
              "#0d0887"
             ],
             [
              0.1111111111111111,
              "#46039f"
             ],
             [
              0.2222222222222222,
              "#7201a8"
             ],
             [
              0.3333333333333333,
              "#9c179e"
             ],
             [
              0.4444444444444444,
              "#bd3786"
             ],
             [
              0.5555555555555556,
              "#d8576b"
             ],
             [
              0.6666666666666666,
              "#ed7953"
             ],
             [
              0.7777777777777778,
              "#fb9f3a"
             ],
             [
              0.8888888888888888,
              "#fdca26"
             ],
             [
              1,
              "#f0f921"
             ]
            ],
            "type": "heatmap"
           }
          ],
          "heatmapgl": [
           {
            "colorbar": {
             "outlinewidth": 0,
             "ticks": ""
            },
            "colorscale": [
             [
              0,
              "#0d0887"
             ],
             [
              0.1111111111111111,
              "#46039f"
             ],
             [
              0.2222222222222222,
              "#7201a8"
             ],
             [
              0.3333333333333333,
              "#9c179e"
             ],
             [
              0.4444444444444444,
              "#bd3786"
             ],
             [
              0.5555555555555556,
              "#d8576b"
             ],
             [
              0.6666666666666666,
              "#ed7953"
             ],
             [
              0.7777777777777778,
              "#fb9f3a"
             ],
             [
              0.8888888888888888,
              "#fdca26"
             ],
             [
              1,
              "#f0f921"
             ]
            ],
            "type": "heatmapgl"
           }
          ],
          "histogram": [
           {
            "marker": {
             "pattern": {
              "fillmode": "overlay",
              "size": 10,
              "solidity": 0.2
             }
            },
            "type": "histogram"
           }
          ],
          "histogram2d": [
           {
            "colorbar": {
             "outlinewidth": 0,
             "ticks": ""
            },
            "colorscale": [
             [
              0,
              "#0d0887"
             ],
             [
              0.1111111111111111,
              "#46039f"
             ],
             [
              0.2222222222222222,
              "#7201a8"
             ],
             [
              0.3333333333333333,
              "#9c179e"
             ],
             [
              0.4444444444444444,
              "#bd3786"
             ],
             [
              0.5555555555555556,
              "#d8576b"
             ],
             [
              0.6666666666666666,
              "#ed7953"
             ],
             [
              0.7777777777777778,
              "#fb9f3a"
             ],
             [
              0.8888888888888888,
              "#fdca26"
             ],
             [
              1,
              "#f0f921"
             ]
            ],
            "type": "histogram2d"
           }
          ],
          "histogram2dcontour": [
           {
            "colorbar": {
             "outlinewidth": 0,
             "ticks": ""
            },
            "colorscale": [
             [
              0,
              "#0d0887"
             ],
             [
              0.1111111111111111,
              "#46039f"
             ],
             [
              0.2222222222222222,
              "#7201a8"
             ],
             [
              0.3333333333333333,
              "#9c179e"
             ],
             [
              0.4444444444444444,
              "#bd3786"
             ],
             [
              0.5555555555555556,
              "#d8576b"
             ],
             [
              0.6666666666666666,
              "#ed7953"
             ],
             [
              0.7777777777777778,
              "#fb9f3a"
             ],
             [
              0.8888888888888888,
              "#fdca26"
             ],
             [
              1,
              "#f0f921"
             ]
            ],
            "type": "histogram2dcontour"
           }
          ],
          "mesh3d": [
           {
            "colorbar": {
             "outlinewidth": 0,
             "ticks": ""
            },
            "type": "mesh3d"
           }
          ],
          "parcoords": [
           {
            "line": {
             "colorbar": {
              "outlinewidth": 0,
              "ticks": ""
             }
            },
            "type": "parcoords"
           }
          ],
          "pie": [
           {
            "automargin": true,
            "type": "pie"
           }
          ],
          "scatter": [
           {
            "fillpattern": {
             "fillmode": "overlay",
             "size": 10,
             "solidity": 0.2
            },
            "type": "scatter"
           }
          ],
          "scatter3d": [
           {
            "line": {
             "colorbar": {
              "outlinewidth": 0,
              "ticks": ""
             }
            },
            "marker": {
             "colorbar": {
              "outlinewidth": 0,
              "ticks": ""
             }
            },
            "type": "scatter3d"
           }
          ],
          "scattercarpet": [
           {
            "marker": {
             "colorbar": {
              "outlinewidth": 0,
              "ticks": ""
             }
            },
            "type": "scattercarpet"
           }
          ],
          "scattergeo": [
           {
            "marker": {
             "colorbar": {
              "outlinewidth": 0,
              "ticks": ""
             }
            },
            "type": "scattergeo"
           }
          ],
          "scattergl": [
           {
            "marker": {
             "colorbar": {
              "outlinewidth": 0,
              "ticks": ""
             }
            },
            "type": "scattergl"
           }
          ],
          "scattermapbox": [
           {
            "marker": {
             "colorbar": {
              "outlinewidth": 0,
              "ticks": ""
             }
            },
            "type": "scattermapbox"
           }
          ],
          "scatterpolar": [
           {
            "marker": {
             "colorbar": {
              "outlinewidth": 0,
              "ticks": ""
             }
            },
            "type": "scatterpolar"
           }
          ],
          "scatterpolargl": [
           {
            "marker": {
             "colorbar": {
              "outlinewidth": 0,
              "ticks": ""
             }
            },
            "type": "scatterpolargl"
           }
          ],
          "scatterternary": [
           {
            "marker": {
             "colorbar": {
              "outlinewidth": 0,
              "ticks": ""
             }
            },
            "type": "scatterternary"
           }
          ],
          "surface": [
           {
            "colorbar": {
             "outlinewidth": 0,
             "ticks": ""
            },
            "colorscale": [
             [
              0,
              "#0d0887"
             ],
             [
              0.1111111111111111,
              "#46039f"
             ],
             [
              0.2222222222222222,
              "#7201a8"
             ],
             [
              0.3333333333333333,
              "#9c179e"
             ],
             [
              0.4444444444444444,
              "#bd3786"
             ],
             [
              0.5555555555555556,
              "#d8576b"
             ],
             [
              0.6666666666666666,
              "#ed7953"
             ],
             [
              0.7777777777777778,
              "#fb9f3a"
             ],
             [
              0.8888888888888888,
              "#fdca26"
             ],
             [
              1,
              "#f0f921"
             ]
            ],
            "type": "surface"
           }
          ],
          "table": [
           {
            "cells": {
             "fill": {
              "color": "#EBF0F8"
             },
             "line": {
              "color": "white"
             }
            },
            "header": {
             "fill": {
              "color": "#C8D4E3"
             },
             "line": {
              "color": "white"
             }
            },
            "type": "table"
           }
          ]
         },
         "layout": {
          "annotationdefaults": {
           "arrowcolor": "#2a3f5f",
           "arrowhead": 0,
           "arrowwidth": 1
          },
          "autotypenumbers": "strict",
          "coloraxis": {
           "colorbar": {
            "outlinewidth": 0,
            "ticks": ""
           }
          },
          "colorscale": {
           "diverging": [
            [
             0,
             "#8e0152"
            ],
            [
             0.1,
             "#c51b7d"
            ],
            [
             0.2,
             "#de77ae"
            ],
            [
             0.3,
             "#f1b6da"
            ],
            [
             0.4,
             "#fde0ef"
            ],
            [
             0.5,
             "#f7f7f7"
            ],
            [
             0.6,
             "#e6f5d0"
            ],
            [
             0.7,
             "#b8e186"
            ],
            [
             0.8,
             "#7fbc41"
            ],
            [
             0.9,
             "#4d9221"
            ],
            [
             1,
             "#276419"
            ]
           ],
           "sequential": [
            [
             0,
             "#0d0887"
            ],
            [
             0.1111111111111111,
             "#46039f"
            ],
            [
             0.2222222222222222,
             "#7201a8"
            ],
            [
             0.3333333333333333,
             "#9c179e"
            ],
            [
             0.4444444444444444,
             "#bd3786"
            ],
            [
             0.5555555555555556,
             "#d8576b"
            ],
            [
             0.6666666666666666,
             "#ed7953"
            ],
            [
             0.7777777777777778,
             "#fb9f3a"
            ],
            [
             0.8888888888888888,
             "#fdca26"
            ],
            [
             1,
             "#f0f921"
            ]
           ],
           "sequentialminus": [
            [
             0,
             "#0d0887"
            ],
            [
             0.1111111111111111,
             "#46039f"
            ],
            [
             0.2222222222222222,
             "#7201a8"
            ],
            [
             0.3333333333333333,
             "#9c179e"
            ],
            [
             0.4444444444444444,
             "#bd3786"
            ],
            [
             0.5555555555555556,
             "#d8576b"
            ],
            [
             0.6666666666666666,
             "#ed7953"
            ],
            [
             0.7777777777777778,
             "#fb9f3a"
            ],
            [
             0.8888888888888888,
             "#fdca26"
            ],
            [
             1,
             "#f0f921"
            ]
           ]
          },
          "colorway": [
           "#636efa",
           "#EF553B",
           "#00cc96",
           "#ab63fa",
           "#FFA15A",
           "#19d3f3",
           "#FF6692",
           "#B6E880",
           "#FF97FF",
           "#FECB52"
          ],
          "font": {
           "color": "#2a3f5f"
          },
          "geo": {
           "bgcolor": "white",
           "lakecolor": "white",
           "landcolor": "#E5ECF6",
           "showlakes": true,
           "showland": true,
           "subunitcolor": "white"
          },
          "hoverlabel": {
           "align": "left"
          },
          "hovermode": "closest",
          "mapbox": {
           "style": "light"
          },
          "paper_bgcolor": "white",
          "plot_bgcolor": "#E5ECF6",
          "polar": {
           "angularaxis": {
            "gridcolor": "white",
            "linecolor": "white",
            "ticks": ""
           },
           "bgcolor": "#E5ECF6",
           "radialaxis": {
            "gridcolor": "white",
            "linecolor": "white",
            "ticks": ""
           }
          },
          "scene": {
           "xaxis": {
            "backgroundcolor": "#E5ECF6",
            "gridcolor": "white",
            "gridwidth": 2,
            "linecolor": "white",
            "showbackground": true,
            "ticks": "",
            "zerolinecolor": "white"
           },
           "yaxis": {
            "backgroundcolor": "#E5ECF6",
            "gridcolor": "white",
            "gridwidth": 2,
            "linecolor": "white",
            "showbackground": true,
            "ticks": "",
            "zerolinecolor": "white"
           },
           "zaxis": {
            "backgroundcolor": "#E5ECF6",
            "gridcolor": "white",
            "gridwidth": 2,
            "linecolor": "white",
            "showbackground": true,
            "ticks": "",
            "zerolinecolor": "white"
           }
          },
          "shapedefaults": {
           "line": {
            "color": "#2a3f5f"
           }
          },
          "ternary": {
           "aaxis": {
            "gridcolor": "white",
            "linecolor": "white",
            "ticks": ""
           },
           "baxis": {
            "gridcolor": "white",
            "linecolor": "white",
            "ticks": ""
           },
           "bgcolor": "#E5ECF6",
           "caxis": {
            "gridcolor": "white",
            "linecolor": "white",
            "ticks": ""
           }
          },
          "title": {
           "x": 0.05
          },
          "xaxis": {
           "automargin": true,
           "gridcolor": "white",
           "linecolor": "white",
           "ticks": "",
           "title": {
            "standoff": 15
           },
           "zerolinecolor": "white",
           "zerolinewidth": 2
          },
          "yaxis": {
           "automargin": true,
           "gridcolor": "white",
           "linecolor": "white",
           "ticks": "",
           "title": {
            "standoff": 15
           },
           "zerolinecolor": "white",
           "zerolinewidth": 2
          }
         }
        }
       }
      },
      "image/png": "[encoded data removed]",
      "text/html": [
       "<div>                            <div id=\"aba4372a-5a21-47b0-a511-2862309d4bd8\" class=\"plotly-graph-div\" style=\"height:525px; width:700px;\"></div>            <script type=\"text/javascript\">                require([\"plotly\"], function(Plotly) {                    window.PLOTLYENV=window.PLOTLYENV || {};                                    if (document.getElementById(\"aba4372a-5a21-47b0-a511-2862309d4bd8\")) {                    Plotly.newPlot(                        \"aba4372a-5a21-47b0-a511-2862309d4bd8\",                        [{\"colorscale\":[[0,\"gold\"],[0.5,\"mediumturquoise\"],[1,\"magenta\"]],\"flatshading\":true,\"i\":[7,0,0,0,4,4,6,6,4,0,3,2],\"intensity\":[0.0,0.14285714285714285,0.2857142857142857,0.42857142857142855,0.5714285714285714,0.7142857142857142,0.8571428571428571,1.0],\"j\":[3,4,1,2,5,6,5,2,0,1,6,3],\"k\":[0,7,2,3,6,7,1,1,5,5,7,6],\"showlegend\":false,\"showscale\":false,\"x\":[504.0,504.0,580.0,580.0,504.0,504.0,580.0,580.0],\"y\":[344.0,395.0,395.0,344.0,344.0,395.0,395.0,344.0],\"z\":[949.0,949.0,949.0,949.0,958.0,958.0,958.0,958.0],\"type\":\"mesh3d\"},{\"line\":{\"width\":4},\"marker\":{\"size\":2},\"name\":\"x\",\"showlegend\":true,\"x\":[500,500],\"y\":[0,1000],\"z\":[950,950],\"type\":\"scatter3d\"},{\"line\":{\"width\":4},\"marker\":{\"size\":2},\"name\":\"y\",\"showlegend\":true,\"x\":[500,500],\"y\":[395,395],\"z\":[0,1000],\"type\":\"scatter3d\"},{\"line\":{\"width\":4},\"marker\":{\"size\":2},\"name\":\"z\",\"showlegend\":true,\"x\":[0,1000],\"y\":[395,395],\"z\":[950,950],\"type\":\"scatter3d\"}],                        {\"template\":{\"data\":{\"histogram2dcontour\":[{\"type\":\"histogram2dcontour\",\"colorbar\":{\"outlinewidth\":0,\"ticks\":\"\"},\"colorscale\":[[0.0,\"#0d0887\"],[0.1111111111111111,\"#46039f\"],[0.2222222222222222,\"#7201a8\"],[0.3333333333333333,\"#9c179e\"],[0.4444444444444444,\"#bd3786\"],[0.5555555555555556,\"#d8576b\"],[0.6666666666666666,\"#ed7953\"],[0.7777777777777778,\"#fb9f3a\"],[0.8888888888888888,\"#fdca26\"],[1.0,\"#f0f921\"]]}],\"choropleth\":[{\"type\":\"choropleth\",\"colorbar\":{\"outlinewidth\":0,\"ticks\":\"\"}}],\"histogram2d\":[{\"type\":\"histogram2d\",\"colorbar\":{\"outlinewidth\":0,\"ticks\":\"\"},\"colorscale\":[[0.0,\"#0d0887\"],[0.1111111111111111,\"#46039f\"],[0.2222222222222222,\"#7201a8\"],[0.3333333333333333,\"#9c179e\"],[0.4444444444444444,\"#bd3786\"],[0.5555555555555556,\"#d8576b\"],[0.6666666666666666,\"#ed7953\"],[0.7777777777777778,\"#fb9f3a\"],[0.8888888888888888,\"#fdca26\"],[1.0,\"#f0f921\"]]}],\"heatmap\":[{\"type\":\"heatmap\",\"colorbar\":{\"outlinewidth\":0,\"ticks\":\"\"},\"colorscale\":[[0.0,\"#0d0887\"],[0.1111111111111111,\"#46039f\"],[0.2222222222222222,\"#7201a8\"],[0.3333333333333333,\"#9c179e\"],[0.4444444444444444,\"#bd3786\"],[0.5555555555555556,\"#d8576b\"],[0.6666666666666666,\"#ed7953\"],[0.7777777777777778,\"#fb9f3a\"],[0.8888888888888888,\"#fdca26\"],[1.0,\"#f0f921\"]]}],\"heatmapgl\":[{\"type\":\"heatmapgl\",\"colorbar\":{\"outlinewidth\":0,\"ticks\":\"\"},\"colorscale\":[[0.0,\"#0d0887\"],[0.1111111111111111,\"#46039f\"],[0.2222222222222222,\"#7201a8\"],[0.3333333333333333,\"#9c179e\"],[0.4444444444444444,\"#bd3786\"],[0.5555555555555556,\"#d8576b\"],[0.6666666666666666,\"#ed7953\"],[0.7777777777777778,\"#fb9f3a\"],[0.8888888888888888,\"#fdca26\"],[1.0,\"#f0f921\"]]}],\"contourcarpet\":[{\"type\":\"contourcarpet\",\"colorbar\":{\"outlinewidth\":0,\"ticks\":\"\"}}],\"contour\":[{\"type\":\"contour\",\"colorbar\":{\"outlinewidth\":0,\"ticks\":\"\"},\"colorscale\":[[0.0,\"#0d0887\"],[0.1111111111111111,\"#46039f\"],[0.2222222222222222,\"#7201a8\"],[0.3333333333333333,\"#9c179e\"],[0.4444444444444444,\"#bd3786\"],[0.5555555555555556,\"#d8576b\"],[0.6666666666666666,\"#ed7953\"],[0.7777777777777778,\"#fb9f3a\"],[0.8888888888888888,\"#fdca26\"],[1.0,\"#f0f921\"]]}],\"surface\":[{\"type\":\"surface\",\"colorbar\":{\"outlinewidth\":0,\"ticks\":\"\"},\"colorscale\":[[0.0,\"#0d0887\"],[0.1111111111111111,\"#46039f\"],[0.2222222222222222,\"#7201a8\"],[0.3333333333333333,\"#9c179e\"],[0.4444444444444444,\"#bd3786\"],[0.5555555555555556,\"#d8576b\"],[0.6666666666666666,\"#ed7953\"],[0.7777777777777778,\"#fb9f3a\"],[0.8888888888888888,\"#fdca26\"],[1.0,\"#f0f921\"]]}],\"mesh3d\":[{\"type\":\"mesh3d\",\"colorbar\":{\"outlinewidth\":0,\"ticks\":\"\"}}],\"scatter\":[{\"fillpattern\":{\"fillmode\":\"overlay\",\"size\":10,\"solidity\":0.2},\"type\":\"scatter\"}],\"parcoords\":[{\"type\":\"parcoords\",\"line\":{\"colorbar\":{\"outlinewidth\":0,\"ticks\":\"\"}}}],\"scatterpolargl\":[{\"type\":\"scatterpolargl\",\"marker\":{\"colorbar\":{\"outlinewidth\":0,\"ticks\":\"\"}}}],\"bar\":[{\"error_x\":{\"color\":\"#2a3f5f\"},\"error_y\":{\"color\":\"#2a3f5f\"},\"marker\":{\"line\":{\"color\":\"#E5ECF6\",\"width\":0.5},\"pattern\":{\"fillmode\":\"overlay\",\"size\":10,\"solidity\":0.2}},\"type\":\"bar\"}],\"scattergeo\":[{\"type\":\"scattergeo\",\"marker\":{\"colorbar\":{\"outlinewidth\":0,\"ticks\":\"\"}}}],\"scatterpolar\":[{\"type\":\"scatterpolar\",\"marker\":{\"colorbar\":{\"outlinewidth\":0,\"ticks\":\"\"}}}],\"histogram\":[{\"marker\":{\"pattern\":{\"fillmode\":\"overlay\",\"size\":10,\"solidity\":0.2}},\"type\":\"histogram\"}],\"scattergl\":[{\"type\":\"scattergl\",\"marker\":{\"colorbar\":{\"outlinewidth\":0,\"ticks\":\"\"}}}],\"scatter3d\":[{\"type\":\"scatter3d\",\"line\":{\"colorbar\":{\"outlinewidth\":0,\"ticks\":\"\"}},\"marker\":{\"colorbar\":{\"outlinewidth\":0,\"ticks\":\"\"}}}],\"scattermapbox\":[{\"type\":\"scattermapbox\",\"marker\":{\"colorbar\":{\"outlinewidth\":0,\"ticks\":\"\"}}}],\"scatterternary\":[{\"type\":\"scatterternary\",\"marker\":{\"colorbar\":{\"outlinewidth\":0,\"ticks\":\"\"}}}],\"scattercarpet\":[{\"type\":\"scattercarpet\",\"marker\":{\"colorbar\":{\"outlinewidth\":0,\"ticks\":\"\"}}}],\"carpet\":[{\"aaxis\":{\"endlinecolor\":\"#2a3f5f\",\"gridcolor\":\"white\",\"linecolor\":\"white\",\"minorgridcolor\":\"white\",\"startlinecolor\":\"#2a3f5f\"},\"baxis\":{\"endlinecolor\":\"#2a3f5f\",\"gridcolor\":\"white\",\"linecolor\":\"white\",\"minorgridcolor\":\"white\",\"startlinecolor\":\"#2a3f5f\"},\"type\":\"carpet\"}],\"table\":[{\"cells\":{\"fill\":{\"color\":\"#EBF0F8\"},\"line\":{\"color\":\"white\"}},\"header\":{\"fill\":{\"color\":\"#C8D4E3\"},\"line\":{\"color\":\"white\"}},\"type\":\"table\"}],\"barpolar\":[{\"marker\":{\"line\":{\"color\":\"#E5ECF6\",\"width\":0.5},\"pattern\":{\"fillmode\":\"overlay\",\"size\":10,\"solidity\":0.2}},\"type\":\"barpolar\"}],\"pie\":[{\"automargin\":true,\"type\":\"pie\"}]},\"layout\":{\"autotypenumbers\":\"strict\",\"colorway\":[\"#636efa\",\"#EF553B\",\"#00cc96\",\"#ab63fa\",\"#FFA15A\",\"#19d3f3\",\"#FF6692\",\"#B6E880\",\"#FF97FF\",\"#FECB52\"],\"font\":{\"color\":\"#2a3f5f\"},\"hovermode\":\"closest\",\"hoverlabel\":{\"align\":\"left\"},\"paper_bgcolor\":\"white\",\"plot_bgcolor\":\"#E5ECF6\",\"polar\":{\"bgcolor\":\"#E5ECF6\",\"angularaxis\":{\"gridcolor\":\"white\",\"linecolor\":\"white\",\"ticks\":\"\"},\"radialaxis\":{\"gridcolor\":\"white\",\"linecolor\":\"white\",\"ticks\":\"\"}},\"ternary\":{\"bgcolor\":\"#E5ECF6\",\"aaxis\":{\"gridcolor\":\"white\",\"linecolor\":\"white\",\"ticks\":\"\"},\"baxis\":{\"gridcolor\":\"white\",\"linecolor\":\"white\",\"ticks\":\"\"},\"caxis\":{\"gridcolor\":\"white\",\"linecolor\":\"white\",\"ticks\":\"\"}},\"coloraxis\":{\"colorbar\":{\"outlinewidth\":0,\"ticks\":\"\"}},\"colorscale\":{\"sequential\":[[0.0,\"#0d0887\"],[0.1111111111111111,\"#46039f\"],[0.2222222222222222,\"#7201a8\"],[0.3333333333333333,\"#9c179e\"],[0.4444444444444444,\"#bd3786\"],[0.5555555555555556,\"#d8576b\"],[0.6666666666666666,\"#ed7953\"],[0.7777777777777778,\"#fb9f3a\"],[0.8888888888888888,\"#fdca26\"],[1.0,\"#f0f921\"]],\"sequentialminus\":[[0.0,\"#0d0887\"],[0.1111111111111111,\"#46039f\"],[0.2222222222222222,\"#7201a8\"],[0.3333333333333333,\"#9c179e\"],[0.4444444444444444,\"#bd3786\"],[0.5555555555555556,\"#d8576b\"],[0.6666666666666666,\"#ed7953\"],[0.7777777777777778,\"#fb9f3a\"],[0.8888888888888888,\"#fdca26\"],[1.0,\"#f0f921\"]],\"diverging\":[[0,\"#8e0152\"],[0.1,\"#c51b7d\"],[0.2,\"#de77ae\"],[0.3,\"#f1b6da\"],[0.4,\"#fde0ef\"],[0.5,\"#f7f7f7\"],[0.6,\"#e6f5d0\"],[0.7,\"#b8e186\"],[0.8,\"#7fbc41\"],[0.9,\"#4d9221\"],[1,\"#276419\"]]},\"xaxis\":{\"gridcolor\":\"white\",\"linecolor\":\"white\",\"ticks\":\"\",\"title\":{\"standoff\":15},\"zerolinecolor\":\"white\",\"automargin\":true,\"zerolinewidth\":2},\"yaxis\":{\"gridcolor\":\"white\",\"linecolor\":\"white\",\"ticks\":\"\",\"title\":{\"standoff\":15},\"zerolinecolor\":\"white\",\"automargin\":true,\"zerolinewidth\":2},\"scene\":{\"xaxis\":{\"backgroundcolor\":\"#E5ECF6\",\"gridcolor\":\"white\",\"linecolor\":\"white\",\"showbackground\":true,\"ticks\":\"\",\"zerolinecolor\":\"white\",\"gridwidth\":2},\"yaxis\":{\"backgroundcolor\":\"#E5ECF6\",\"gridcolor\":\"white\",\"linecolor\":\"white\",\"showbackground\":true,\"ticks\":\"\",\"zerolinecolor\":\"white\",\"gridwidth\":2},\"zaxis\":{\"backgroundcolor\":\"#E5ECF6\",\"gridcolor\":\"white\",\"linecolor\":\"white\",\"showbackground\":true,\"ticks\":\"\",\"zerolinecolor\":\"white\",\"gridwidth\":2}},\"shapedefaults\":{\"line\":{\"color\":\"#2a3f5f\"}},\"annotationdefaults\":{\"arrowcolor\":\"#2a3f5f\",\"arrowhead\":0,\"arrowwidth\":1},\"geo\":{\"bgcolor\":\"white\",\"landcolor\":\"#E5ECF6\",\"subunitcolor\":\"white\",\"showland\":true,\"showlakes\":true,\"lakecolor\":\"white\"},\"title\":{\"x\":0.05},\"mapbox\":{\"style\":\"light\"}}},\"scene\":{\"xaxis\":{\"nticks\":4,\"range\":[0,1000]},\"yaxis\":{\"nticks\":4,\"range\":[0,1000]},\"zaxis\":{\"nticks\":4,\"range\":[0,1000]},\"aspectmode\":\"cube\"},\"margin\":{\"r\":20,\"l\":10,\"b\":10,\"t\":10},\"width\":700},                        {\"responsive\": true}                    ).then(function(){\n",
       "                            \n",
       "var gd = document.getElementById('aba4372a-5a21-47b0-a511-2862309d4bd8');\n",
       "var x = new MutationObserver(function (mutations, observer) {{\n",
       "        var display = window.getComputedStyle(gd).display;\n",
       "        if (!display || display === 'none') {{\n",
       "            console.log([gd, 'removed!']);\n",
       "            Plotly.purge(gd);\n",
       "            observer.disconnect();\n",
       "        }}\n",
       "}});\n",
       "\n",
       "// Listen for the removal of the full notebook cells\n",
       "var notebookContainer = gd.closest('#notebook-container');\n",
       "if (notebookContainer) {{\n",
       "    x.observe(notebookContainer, {childList: true});\n",
       "}}\n",
       "\n",
       "// Listen for the clearing of the current output cell\n",
       "var outputEl = gd.closest('.output');\n",
       "if (outputEl) {{\n",
       "    x.observe(outputEl, {childList: true});\n",
       "}}\n",
       "\n",
       "                        })                };                });            </script>        </div>"
      ]
     },
     "metadata": {},
     "output_type": "display_data"
    }
   ],
   "source": [
    "# Config and Params\n",
    "num_boxes_show = 100\n",
    "query_args = {\n",
    "    \"x\": 500,\n",
    "    \"y\": 395,\n",
    "    \"z\": 950\n",
    "}\n",
    "query_params = build_query_string(**query_args)\n",
    "print(f\"Query Parameters: {query_params}\")\n",
    "\n",
    "# Request/Response\n",
    "start = perf_counter_ns()\n",
    "response = requests.get(f\"{boxes_url}?{query_params}\")\n",
    "end = perf_counter_ns()\n",
    "\n",
    "# Display\n",
    "response_boxes = [convert_box_json_to_nparray(box) for box in response.json()]\n",
    "response_boxes_show = get_random_distribution_from_list(response_boxes, size=num_boxes_show)\n",
    "query_param_lines = get_query_param_lines(axis_min=0, axis_max=1000, **query_args)\n",
    "# print(query_param_lines)\n",
    "print(f\"Response Time: {format_perf_time(end - start)}\")\n",
    "print(f\"{len(response_boxes)} Boxes in Response\")\n",
    "print(f\"Showing {len(response_boxes_show)} Boxes\")\n",
    "data = show_3d_boxes(response_boxes_show, query_param_lines)"
   ]
  },
  {
   "cell_type": "code",
   "execution_count": 13,
   "id": "310281c1-188d-43d7-9493-b84d0fbdeb8b",
   "metadata": {},
   "outputs": [
    {
     "data": {
      "text/plain": [
       "'https://plotly.com/~richard.autry/5/'"
      ]
     },
     "execution_count": 13,
     "metadata": {},
     "output_type": "execute_result"
    }
   ],
   "source": [
    "# import chart_studio.plotly as py\n",
    "# py.plot(data, filename='space_partitioning_01', auto_open=True)"
   ]
  },
  {
   "cell_type": "code",
   "execution_count": null,
   "id": "8d45b950-b295-4ead-94d9-f4ebe297e946",
   "metadata": {},
   "outputs": [],
   "source": []
  }
 ],
 "metadata": {
  "kernelspec": {
   "display_name": "Python 3 (ipykernel)",
   "language": "python",
   "name": "python3"
  },
  "language_info": {
   "codemirror_mode": {
    "name": "ipython",
    "version": 3
   },
   "file_extension": ".py",
   "mimetype": "text/x-python",
   "name": "python",
   "nbconvert_exporter": "python",
   "pygments_lexer": "ipython3",
   "version": "3.8.10"
  }
 },
 "nbformat": 4,
 "nbformat_minor": 5
}
