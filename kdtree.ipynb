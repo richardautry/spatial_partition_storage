{
 "cells": [
  {
   "cell_type": "code",
   "execution_count": 118,
   "id": "6db38814-83b6-4b85-ba55-00481fcabca1",
   "metadata": {},
   "outputs": [],
   "source": [
    "import numpy as np\n",
    "import plotly.graph_objects as go\n",
    "import numpy as np\n",
    "import random\n",
    "from typing import List\n",
    "from scipy.spatial import KDTree"
   ]
  },
  {
   "cell_type": "code",
   "execution_count": 119,
   "id": "89647e8a-4f7a-4640-ac5b-7748a4491b49",
   "metadata": {},
   "outputs": [
    {
     "data": {
      "text/plain": [
       "[0, 1, 2, 3, 4, 5, 7, 8, 9]"
      ]
     },
     "execution_count": 119,
     "metadata": {},
     "output_type": "execute_result"
    }
   ],
   "source": [
    "\n",
    "\n",
    "\n",
    "some_range = list(range(0, 10))\n",
    "some_choice_index = random.choice(list(range(len(some_range))))\n",
    "del some_range[some_choice_index]\n",
    "some_range\n"
   ]
  },
  {
   "cell_type": "code",
   "execution_count": 131,
   "id": "a463215f-3f52-46b3-8bea-0970d11c5dd3",
   "metadata": {},
   "outputs": [
    {
     "data": {
      "text/plain": [
       "{'alpha': array([[6, 6, 0, 0, 6, 6, 0, 0],\n",
       "        [2, 7, 7, 2, 2, 7, 7, 2],\n",
       "        [8, 8, 8, 8, 1, 1, 1, 1]]),\n",
       " 'beta': array([[4, 4, 7, 7, 4, 4, 7, 7],\n",
       "        [2, 6, 6, 2, 2, 6, 6, 2],\n",
       "        [6, 6, 6, 6, 3, 3, 3, 3]]),\n",
       " 'gamma': array([[2, 2, 9, 9, 2, 2, 9, 9],\n",
       "        [4, 6, 6, 4, 4, 6, 6, 4],\n",
       "        [6, 6, 6, 6, 1, 1, 1, 1]]),\n",
       " 'delta': array([[1, 1, 5, 5, 1, 1, 5, 5],\n",
       "        [0, 4, 4, 0, 0, 4, 4, 0],\n",
       "        [8, 8, 8, 8, 6, 6, 6, 6]]),\n",
       " 'epsilon': array([[3, 3, 2, 2, 3, 3, 2, 2],\n",
       "        [7, 5, 5, 7, 7, 5, 5, 7],\n",
       "        [9, 9, 9, 9, 4, 4, 4, 4]])}"
      ]
     },
     "execution_count": 131,
     "metadata": {},
     "output_type": "execute_result"
    }
   ],
   "source": [
    "def get_box_min_max(box_range: List[int]):\n",
    "    index_range = list(range(len(box_range)))\n",
    "    min_index = random.choice(index_range)\n",
    "    del index_range[min_index]\n",
    "    max_index = random.choice(index_range)\n",
    "    \n",
    "    return box_range[min_index], box_range[max_index]\n",
    "\n",
    "\n",
    "def generate_box():\n",
    "    box_range = list(range(0, 10))\n",
    "    \n",
    "    x_min, x_max = get_box_min_max(box_range)\n",
    "    y_min, y_max = get_box_min_max(box_range)\n",
    "    z_min, z_max = get_box_min_max(box_range)\n",
    "    \n",
    "    return np.array([\n",
    "        [x_min, x_min, x_max, x_max, x_min, x_min, x_max, x_max,],\n",
    "        [y_min, y_max, y_max, y_min, y_min, y_max, y_max, y_min,],\n",
    "        [z_min, z_min, z_min, z_min, z_max, z_max, z_max, z_max,]\n",
    "    ])\n",
    "\n",
    "greek_symbols = [\"alpha\", \"beta\", \"gamma\", \"delta\", \"epsilon\", \"zeta\"]\n",
    "\n",
    "# boxes = [generate_box() for _ in range(5)]\n",
    "# boxes\n",
    "\n",
    "boxes = {greek_symbols[i]: generate_box() for i in range(5)}\n",
    "boxes\n"
   ]
  },
  {
   "cell_type": "code",
   "execution_count": 121,
   "id": "e0345287-e089-4598-a2cf-c042959923de",
   "metadata": {},
   "outputs": [
    {
     "data": {
      "text/plain": [
       "array([[0., 1., 3.],\n",
       "       [4., 5., 6.]])"
      ]
     },
     "execution_count": 121,
     "metadata": {},
     "output_type": "execute_result"
    }
   ],
   "source": [
    "some_array = np.array([\n",
    "    [0, 1, 3,],\n",
    "    [4, 5, 6,]\n",
    "])\n",
    "\n",
    "kdtree = KDTree(some_array)\n",
    "\n",
    "kdtree.data"
   ]
  },
  {
   "cell_type": "code",
   "execution_count": 122,
   "id": "0739c15f-5a7a-41f9-8e8b-842991d90d1a",
   "metadata": {},
   "outputs": [
    {
     "data": {
      "text/plain": [
       "10"
      ]
     },
     "execution_count": 122,
     "metadata": {},
     "output_type": "execute_result"
    }
   ],
   "source": [
    "kdtree.leafsize"
   ]
  },
  {
   "cell_type": "code",
   "execution_count": 123,
   "id": "c6079055-c870-4b27-a017-d10262e1d13e",
   "metadata": {},
   "outputs": [],
   "source": [
    "# Query kdtree based on r (radius) around a point (x)\n",
    "matching_point_indices = kdtree.query_ball_point(x=[0, 0 , 0], r=4)"
   ]
  },
  {
   "cell_type": "code",
   "execution_count": 124,
   "id": "884eb57c-9062-411f-b4bb-7547c028b98d",
   "metadata": {},
   "outputs": [
    {
     "name": "stdout",
     "output_type": "stream",
     "text": [
      "[0. 1. 3.]\n"
     ]
    }
   ],
   "source": [
    "for point_index in matching_point_indices:\n",
    "    print(kdtree.data[point_index])"
   ]
  },
  {
   "cell_type": "code",
   "execution_count": 127,
   "id": "9bfdfecc-63c6-472b-bec7-977d102c3839",
   "metadata": {},
   "outputs": [
    {
     "data": {
      "text/plain": [
       "array([[5., 3., 2.],\n",
       "       [5., 7., 2.],\n",
       "       [8., 7., 2.],\n",
       "       [8., 3., 2.],\n",
       "       [5., 3., 7.],\n",
       "       [5., 7., 7.],\n",
       "       [8., 7., 7.],\n",
       "       [8., 3., 7.]])"
      ]
     },
     "execution_count": 127,
     "metadata": {},
     "output_type": "execute_result"
    }
   ],
   "source": [
    "tree_alpha = KDTree(np.transpose(boxes[\"alpha\"]))\n",
    "tree_alpha.data"
   ]
  },
  {
   "cell_type": "code",
   "execution_count": 128,
   "id": "960a3ac8-a30c-4c55-b5f7-4d7d33c7d197",
   "metadata": {},
   "outputs": [
    {
     "data": {
      "text/plain": [
       "[0, 1, 2, 3, 4, 5, 6, 7, 8, 9]"
      ]
     },
     "execution_count": 128,
     "metadata": {},
     "output_type": "execute_result"
    }
   ],
   "source": [
    "list(range(0, 10))"
   ]
  },
  {
   "cell_type": "code",
   "execution_count": 135,
   "id": "9086fda3-24f9-4240-83a6-669fe8938ad8",
   "metadata": {},
   "outputs": [
    {
     "data": {
      "text/plain": [
       "array([[4., 2., 6.],\n",
       "       [4., 6., 6.],\n",
       "       [7., 6., 6.],\n",
       "       [7., 2., 6.],\n",
       "       [4., 2., 3.],\n",
       "       [4., 6., 3.],\n",
       "       [7., 6., 3.],\n",
       "       [7., 2., 3.],\n",
       "       [2., 4., 6.],\n",
       "       [2., 6., 6.],\n",
       "       [9., 6., 6.],\n",
       "       [9., 4., 6.],\n",
       "       [2., 4., 1.],\n",
       "       [2., 6., 1.],\n",
       "       [9., 6., 1.],\n",
       "       [9., 4., 1.],\n",
       "       [1., 0., 8.],\n",
       "       [1., 4., 8.],\n",
       "       [5., 4., 8.],\n",
       "       [5., 0., 8.],\n",
       "       [1., 0., 6.],\n",
       "       [1., 4., 6.],\n",
       "       [5., 4., 6.],\n",
       "       [5., 0., 6.],\n",
       "       [3., 7., 9.],\n",
       "       [3., 5., 9.],\n",
       "       [2., 5., 9.],\n",
       "       [2., 7., 9.],\n",
       "       [3., 7., 4.],\n",
       "       [3., 5., 4.],\n",
       "       [2., 5., 4.],\n",
       "       [2., 7., 4.]])"
      ]
     },
     "execution_count": 135,
     "metadata": {},
     "output_type": "execute_result"
    }
   ],
   "source": [
    "# TODO: next step here is to push ALL datapoints into the kdtree but use a map to their indices\n",
    "# i.e. \n",
    "# example = {\n",
    "#     0: \"beta\",\n",
    "#     ...\n",
    "#     7: \"beta\",\n",
    "#     8: \"gamma\",\n",
    "#     ...\n",
    "#     15: \"gamma\",\n",
    "#     ...\n",
    "# }\n",
    "# Then we can query the original shape/box by its point indices\n",
    "box_names = [\"beta\", \"gamma\", \"delta\", \"epsilon\"]  # TODO: Is there a better way to directly tie the box_name to the given array?\n",
    "transposed_points = np.transpose(boxes[box_names[0]])\n",
    "for box_name in box_names[1:]:\n",
    "    transposed_points = np.append(transposed_points, np.transpose(boxes[box_name]), axis=0)\n",
    "\n",
    "tree_beta = KDTree(transposed_points)\n",
    "tree_beta.data\n",
    "\n",
    "# TODO: Continue translating data to use new 'boxes' dictionary"
   ]
  },
  {
   "cell_type": "code",
   "execution_count": 138,
   "id": "ac17efee-8700-4071-8da9-0e66e0571457",
   "metadata": {},
   "outputs": [
    {
     "data": {
      "text/plain": [
       "1176"
      ]
     },
     "execution_count": 138,
     "metadata": {},
     "output_type": "execute_result"
    }
   ],
   "source": [
    "import sys\n",
    "\n",
    "box_map = {}\n",
    "i = 0\n",
    "\n",
    "for box_name in box_names:\n",
    "    for j in range(0 + i, 8 + i):\n",
    "        box_map[j] = box_name\n",
    "    i += 8\n",
    "\n",
    "sys.getsizeof(box_map)"
   ]
  },
  {
   "cell_type": "code",
   "execution_count": 139,
   "id": "393bf1a6-cee2-4c35-97ba-7f5b6324a186",
   "metadata": {},
   "outputs": [
    {
     "data": {
      "text/plain": [
       "'gamma'"
      ]
     },
     "execution_count": 139,
     "metadata": {},
     "output_type": "execute_result"
    }
   ],
   "source": [
    "box_map[11]"
   ]
  },
  {
   "cell_type": "code",
   "execution_count": 140,
   "id": "8b7b88d8-bc31-4044-9238-cd6622a9ca34",
   "metadata": {},
   "outputs": [
    {
     "data": {
      "text/plain": [
       "[[4, 7],\n",
       " [5, 6, 28],\n",
       " [6, 14],\n",
       " [7, 15],\n",
       " [0, 3, 18, 22],\n",
       " [1, 2, 24],\n",
       " [2, 10],\n",
       " [3, 11]]"
      ]
     },
     "execution_count": 140,
     "metadata": {},
     "output_type": "execute_result"
    }
   ],
   "source": [
    "list_of_indices = tree_alpha.query_ball_tree(other=tree_beta, r=3)\n",
    "list_of_indices"
   ]
  },
  {
   "cell_type": "code",
   "execution_count": 142,
   "id": "012bb526-6735-4d1a-9b54-e9ee6640958d",
   "metadata": {},
   "outputs": [
    {
     "data": {
      "text/plain": [
       "['beta', 'epsilon', 'gamma', 'delta']"
      ]
     },
     "execution_count": 142,
     "metadata": {},
     "output_type": "execute_result"
    }
   ],
   "source": [
    "box_matches = []\n",
    "for indices in list_of_indices:\n",
    "    for i in indices:\n",
    "        if box_map[i] not in box_matches:\n",
    "            box_matches.append(box_map[i])\n",
    "box_matches"
   ]
  },
  {
   "cell_type": "code",
   "execution_count": 143,
   "id": "ae1ed099-0865-41e8-a559-3b90911170ef",
   "metadata": {},
   "outputs": [
    {
     "data": {
      "text/plain": [
       "'beta'"
      ]
     },
     "execution_count": 143,
     "metadata": {},
     "output_type": "execute_result"
    }
   ],
   "source": [
    "box = box_map[0]\n",
    "box"
   ]
  },
  {
   "cell_type": "code",
   "execution_count": 144,
   "id": "d6fe4141-a599-4b50-904d-91506c2cfb9d",
   "metadata": {},
   "outputs": [
    {
     "name": "stdout",
     "output_type": "stream",
     "text": [
      "ALPHA POINT: [5. 3. 2.] -> BETA POINT: [4. 2. 3.]\n",
      "ALPHA POINT: [5. 3. 2.] -> BETA POINT: [7. 2. 3.]\n",
      "ALPHA POINT: [5. 7. 2.] -> BETA POINT: [4. 6. 3.]\n",
      "ALPHA POINT: [5. 7. 2.] -> BETA POINT: [7. 6. 3.]\n",
      "ALPHA POINT: [5. 7. 2.] -> BETA POINT: [3. 7. 4.]\n",
      "ALPHA POINT: [8. 7. 2.] -> BETA POINT: [7. 6. 3.]\n",
      "ALPHA POINT: [8. 7. 2.] -> BETA POINT: [9. 6. 1.]\n",
      "ALPHA POINT: [8. 3. 2.] -> BETA POINT: [7. 2. 3.]\n",
      "ALPHA POINT: [8. 3. 2.] -> BETA POINT: [9. 4. 1.]\n",
      "ALPHA POINT: [5. 3. 7.] -> BETA POINT: [4. 2. 6.]\n",
      "ALPHA POINT: [5. 3. 7.] -> BETA POINT: [7. 2. 6.]\n",
      "ALPHA POINT: [5. 3. 7.] -> BETA POINT: [5. 4. 8.]\n",
      "ALPHA POINT: [5. 3. 7.] -> BETA POINT: [5. 4. 6.]\n",
      "ALPHA POINT: [5. 7. 7.] -> BETA POINT: [4. 6. 6.]\n",
      "ALPHA POINT: [5. 7. 7.] -> BETA POINT: [7. 6. 6.]\n",
      "ALPHA POINT: [5. 7. 7.] -> BETA POINT: [3. 7. 9.]\n",
      "ALPHA POINT: [8. 7. 7.] -> BETA POINT: [7. 6. 6.]\n",
      "ALPHA POINT: [8. 7. 7.] -> BETA POINT: [9. 6. 6.]\n",
      "ALPHA POINT: [8. 3. 7.] -> BETA POINT: [7. 2. 6.]\n",
      "ALPHA POINT: [8. 3. 7.] -> BETA POINT: [9. 4. 6.]\n"
     ]
    },
    {
     "data": {
      "text/plain": [
       "'\\ni.e.\\n  a  b\\n[ \\n [4, 4],  # x\\n [4, 2],  # y\\n [1, 2]   # z\\n]\\n'"
      ]
     },
     "execution_count": 144,
     "metadata": {},
     "output_type": "execute_result"
    }
   ],
   "source": [
    "# for each element in `tree_alpha`, `list_of_indices[i]` is a list of indices of neighbors in `tree_beta.data`\n",
    "# This loop prints all points in alpha that are near beta\n",
    "transformed_points = []\n",
    "for i, indices in enumerate(list_of_indices):\n",
    "    for j in indices:\n",
    "        print(f\"ALPHA POINT: {tree_alpha.data[i]} -> BETA POINT: {tree_beta.data[j]}\")\n",
    "        point = np.array([\n",
    "            tree_alpha.data[i],\n",
    "            tree_beta.data[j]\n",
    "        ])\n",
    "        transformed_points.append(np.transpose(point))\n",
    "\n",
    "# TODO: Need shapes with two points each only to create lines in 3d\n",
    "\"\"\"\n",
    "i.e.\n",
    "  a  b\n",
    "[ \n",
    " [4, 4],  # x\n",
    " [4, 2],  # y\n",
    " [1, 2]   # z\n",
    "]\n",
    "\"\"\""
   ]
  },
  {
   "cell_type": "code",
   "execution_count": 145,
   "id": "8c0bc516-5506-4990-ab8d-f6fdc09b2f70",
   "metadata": {},
   "outputs": [
    {
     "data": {
      "text/plain": [
       "array([[4., 4., 7., 7., 4., 4., 7., 7., 2., 2., 9., 9., 2., 2., 9., 9.,\n",
       "        1., 1., 5., 5., 1., 1., 5., 5., 3., 3., 2., 2., 3., 3., 2., 2.],\n",
       "       [2., 6., 6., 2., 2., 6., 6., 2., 4., 6., 6., 4., 4., 6., 6., 4.,\n",
       "        0., 4., 4., 0., 0., 4., 4., 0., 7., 5., 5., 7., 7., 5., 5., 7.],\n",
       "       [6., 6., 6., 6., 3., 3., 3., 3., 6., 6., 6., 6., 1., 1., 1., 1.,\n",
       "        8., 8., 8., 8., 6., 6., 6., 6., 9., 9., 9., 9., 4., 4., 4., 4.]])"
      ]
     },
     "execution_count": 145,
     "metadata": {},
     "output_type": "execute_result"
    }
   ],
   "source": [
    "np.transpose(tree_beta.data)"
   ]
  },
  {
   "cell_type": "code",
   "execution_count": 146,
   "id": "a5541c3b-bf52-4fd6-ac94-37ef21a88780",
   "metadata": {},
   "outputs": [
    {
     "data": {
      "text/plain": [
       "array([[2., 2., 9., 9., 2., 2., 9., 9.],\n",
       "       [4., 6., 6., 4., 4., 6., 6., 4.],\n",
       "       [6., 6., 6., 6., 1., 1., 1., 1.]])"
      ]
     },
     "execution_count": 146,
     "metadata": {},
     "output_type": "execute_result"
    }
   ],
   "source": [
    "np.transpose(tree_beta.data[8:16])"
   ]
  },
  {
   "cell_type": "code",
   "execution_count": 147,
   "id": "992aaf59-24e2-452d-94a3-9bacf3ce2b1a",
   "metadata": {},
   "outputs": [
    {
     "name": "stdout",
     "output_type": "stream",
     "text": [
      "0\n",
      "8\n",
      "16\n",
      "24\n"
     ]
    },
    {
     "data": {
      "application/vnd.plotly.v1+json": {
       "config": {
        "plotlyServerURL": "https://plot.ly"
       },
       "data": [
        {
         "marker": {
          "color": [
           0,
           1
          ],
          "colorscale": [
           [
            0,
            "rgb(247, 254, 174)"
           ],
           [
            0.16666666666666666,
            "rgb(183, 230, 165)"
           ],
           [
            0.3333333333333333,
            "rgb(124, 203, 162)"
           ],
           [
            0.5,
            "rgb(70, 174, 160)"
           ],
           [
            0.6666666666666666,
            "rgb(8, 144, 153)"
           ],
           [
            0.8333333333333334,
            "rgb(0, 113, 139)"
           ],
           [
            1,
            "rgb(4, 82, 117)"
           ]
          ],
          "size": 4
         },
         "type": "scatter3d",
         "x": [
          5,
          4
         ],
         "y": [
          3,
          2
         ],
         "z": [
          2,
          3
         ]
        },
        {
         "marker": {
          "color": [
           0,
           1
          ],
          "colorscale": [
           [
            0,
            "rgb(247, 254, 174)"
           ],
           [
            0.16666666666666666,
            "rgb(183, 230, 165)"
           ],
           [
            0.3333333333333333,
            "rgb(124, 203, 162)"
           ],
           [
            0.5,
            "rgb(70, 174, 160)"
           ],
           [
            0.6666666666666666,
            "rgb(8, 144, 153)"
           ],
           [
            0.8333333333333334,
            "rgb(0, 113, 139)"
           ],
           [
            1,
            "rgb(4, 82, 117)"
           ]
          ],
          "size": 4
         },
         "type": "scatter3d",
         "x": [
          5,
          7
         ],
         "y": [
          3,
          2
         ],
         "z": [
          2,
          3
         ]
        },
        {
         "marker": {
          "color": [
           0,
           1
          ],
          "colorscale": [
           [
            0,
            "rgb(247, 254, 174)"
           ],
           [
            0.16666666666666666,
            "rgb(183, 230, 165)"
           ],
           [
            0.3333333333333333,
            "rgb(124, 203, 162)"
           ],
           [
            0.5,
            "rgb(70, 174, 160)"
           ],
           [
            0.6666666666666666,
            "rgb(8, 144, 153)"
           ],
           [
            0.8333333333333334,
            "rgb(0, 113, 139)"
           ],
           [
            1,
            "rgb(4, 82, 117)"
           ]
          ],
          "size": 4
         },
         "type": "scatter3d",
         "x": [
          5,
          4
         ],
         "y": [
          7,
          6
         ],
         "z": [
          2,
          3
         ]
        },
        {
         "marker": {
          "color": [
           0,
           1
          ],
          "colorscale": [
           [
            0,
            "rgb(247, 254, 174)"
           ],
           [
            0.16666666666666666,
            "rgb(183, 230, 165)"
           ],
           [
            0.3333333333333333,
            "rgb(124, 203, 162)"
           ],
           [
            0.5,
            "rgb(70, 174, 160)"
           ],
           [
            0.6666666666666666,
            "rgb(8, 144, 153)"
           ],
           [
            0.8333333333333334,
            "rgb(0, 113, 139)"
           ],
           [
            1,
            "rgb(4, 82, 117)"
           ]
          ],
          "size": 4
         },
         "type": "scatter3d",
         "x": [
          5,
          7
         ],
         "y": [
          7,
          6
         ],
         "z": [
          2,
          3
         ]
        },
        {
         "marker": {
          "color": [
           0,
           1
          ],
          "colorscale": [
           [
            0,
            "rgb(247, 254, 174)"
           ],
           [
            0.16666666666666666,
            "rgb(183, 230, 165)"
           ],
           [
            0.3333333333333333,
            "rgb(124, 203, 162)"
           ],
           [
            0.5,
            "rgb(70, 174, 160)"
           ],
           [
            0.6666666666666666,
            "rgb(8, 144, 153)"
           ],
           [
            0.8333333333333334,
            "rgb(0, 113, 139)"
           ],
           [
            1,
            "rgb(4, 82, 117)"
           ]
          ],
          "size": 4
         },
         "type": "scatter3d",
         "x": [
          5,
          3
         ],
         "y": [
          7,
          7
         ],
         "z": [
          2,
          4
         ]
        },
        {
         "marker": {
          "color": [
           0,
           1
          ],
          "colorscale": [
           [
            0,
            "rgb(247, 254, 174)"
           ],
           [
            0.16666666666666666,
            "rgb(183, 230, 165)"
           ],
           [
            0.3333333333333333,
            "rgb(124, 203, 162)"
           ],
           [
            0.5,
            "rgb(70, 174, 160)"
           ],
           [
            0.6666666666666666,
            "rgb(8, 144, 153)"
           ],
           [
            0.8333333333333334,
            "rgb(0, 113, 139)"
           ],
           [
            1,
            "rgb(4, 82, 117)"
           ]
          ],
          "size": 4
         },
         "type": "scatter3d",
         "x": [
          8,
          7
         ],
         "y": [
          7,
          6
         ],
         "z": [
          2,
          3
         ]
        },
        {
         "marker": {
          "color": [
           0,
           1
          ],
          "colorscale": [
           [
            0,
            "rgb(247, 254, 174)"
           ],
           [
            0.16666666666666666,
            "rgb(183, 230, 165)"
           ],
           [
            0.3333333333333333,
            "rgb(124, 203, 162)"
           ],
           [
            0.5,
            "rgb(70, 174, 160)"
           ],
           [
            0.6666666666666666,
            "rgb(8, 144, 153)"
           ],
           [
            0.8333333333333334,
            "rgb(0, 113, 139)"
           ],
           [
            1,
            "rgb(4, 82, 117)"
           ]
          ],
          "size": 4
         },
         "type": "scatter3d",
         "x": [
          8,
          9
         ],
         "y": [
          7,
          6
         ],
         "z": [
          2,
          1
         ]
        },
        {
         "marker": {
          "color": [
           0,
           1
          ],
          "colorscale": [
           [
            0,
            "rgb(247, 254, 174)"
           ],
           [
            0.16666666666666666,
            "rgb(183, 230, 165)"
           ],
           [
            0.3333333333333333,
            "rgb(124, 203, 162)"
           ],
           [
            0.5,
            "rgb(70, 174, 160)"
           ],
           [
            0.6666666666666666,
            "rgb(8, 144, 153)"
           ],
           [
            0.8333333333333334,
            "rgb(0, 113, 139)"
           ],
           [
            1,
            "rgb(4, 82, 117)"
           ]
          ],
          "size": 4
         },
         "type": "scatter3d",
         "x": [
          8,
          7
         ],
         "y": [
          3,
          2
         ],
         "z": [
          2,
          3
         ]
        },
        {
         "marker": {
          "color": [
           0,
           1
          ],
          "colorscale": [
           [
            0,
            "rgb(247, 254, 174)"
           ],
           [
            0.16666666666666666,
            "rgb(183, 230, 165)"
           ],
           [
            0.3333333333333333,
            "rgb(124, 203, 162)"
           ],
           [
            0.5,
            "rgb(70, 174, 160)"
           ],
           [
            0.6666666666666666,
            "rgb(8, 144, 153)"
           ],
           [
            0.8333333333333334,
            "rgb(0, 113, 139)"
           ],
           [
            1,
            "rgb(4, 82, 117)"
           ]
          ],
          "size": 4
         },
         "type": "scatter3d",
         "x": [
          8,
          9
         ],
         "y": [
          3,
          4
         ],
         "z": [
          2,
          1
         ]
        },
        {
         "marker": {
          "color": [
           0,
           1
          ],
          "colorscale": [
           [
            0,
            "rgb(247, 254, 174)"
           ],
           [
            0.16666666666666666,
            "rgb(183, 230, 165)"
           ],
           [
            0.3333333333333333,
            "rgb(124, 203, 162)"
           ],
           [
            0.5,
            "rgb(70, 174, 160)"
           ],
           [
            0.6666666666666666,
            "rgb(8, 144, 153)"
           ],
           [
            0.8333333333333334,
            "rgb(0, 113, 139)"
           ],
           [
            1,
            "rgb(4, 82, 117)"
           ]
          ],
          "size": 4
         },
         "type": "scatter3d",
         "x": [
          5,
          4
         ],
         "y": [
          3,
          2
         ],
         "z": [
          7,
          6
         ]
        },
        {
         "marker": {
          "color": [
           0,
           1
          ],
          "colorscale": [
           [
            0,
            "rgb(247, 254, 174)"
           ],
           [
            0.16666666666666666,
            "rgb(183, 230, 165)"
           ],
           [
            0.3333333333333333,
            "rgb(124, 203, 162)"
           ],
           [
            0.5,
            "rgb(70, 174, 160)"
           ],
           [
            0.6666666666666666,
            "rgb(8, 144, 153)"
           ],
           [
            0.8333333333333334,
            "rgb(0, 113, 139)"
           ],
           [
            1,
            "rgb(4, 82, 117)"
           ]
          ],
          "size": 4
         },
         "type": "scatter3d",
         "x": [
          5,
          7
         ],
         "y": [
          3,
          2
         ],
         "z": [
          7,
          6
         ]
        },
        {
         "marker": {
          "color": [
           0,
           1
          ],
          "colorscale": [
           [
            0,
            "rgb(247, 254, 174)"
           ],
           [
            0.16666666666666666,
            "rgb(183, 230, 165)"
           ],
           [
            0.3333333333333333,
            "rgb(124, 203, 162)"
           ],
           [
            0.5,
            "rgb(70, 174, 160)"
           ],
           [
            0.6666666666666666,
            "rgb(8, 144, 153)"
           ],
           [
            0.8333333333333334,
            "rgb(0, 113, 139)"
           ],
           [
            1,
            "rgb(4, 82, 117)"
           ]
          ],
          "size": 4
         },
         "type": "scatter3d",
         "x": [
          5,
          5
         ],
         "y": [
          3,
          4
         ],
         "z": [
          7,
          8
         ]
        },
        {
         "marker": {
          "color": [
           0,
           1
          ],
          "colorscale": [
           [
            0,
            "rgb(247, 254, 174)"
           ],
           [
            0.16666666666666666,
            "rgb(183, 230, 165)"
           ],
           [
            0.3333333333333333,
            "rgb(124, 203, 162)"
           ],
           [
            0.5,
            "rgb(70, 174, 160)"
           ],
           [
            0.6666666666666666,
            "rgb(8, 144, 153)"
           ],
           [
            0.8333333333333334,
            "rgb(0, 113, 139)"
           ],
           [
            1,
            "rgb(4, 82, 117)"
           ]
          ],
          "size": 4
         },
         "type": "scatter3d",
         "x": [
          5,
          5
         ],
         "y": [
          3,
          4
         ],
         "z": [
          7,
          6
         ]
        },
        {
         "marker": {
          "color": [
           0,
           1
          ],
          "colorscale": [
           [
            0,
            "rgb(247, 254, 174)"
           ],
           [
            0.16666666666666666,
            "rgb(183, 230, 165)"
           ],
           [
            0.3333333333333333,
            "rgb(124, 203, 162)"
           ],
           [
            0.5,
            "rgb(70, 174, 160)"
           ],
           [
            0.6666666666666666,
            "rgb(8, 144, 153)"
           ],
           [
            0.8333333333333334,
            "rgb(0, 113, 139)"
           ],
           [
            1,
            "rgb(4, 82, 117)"
           ]
          ],
          "size": 4
         },
         "type": "scatter3d",
         "x": [
          5,
          4
         ],
         "y": [
          7,
          6
         ],
         "z": [
          7,
          6
         ]
        },
        {
         "marker": {
          "color": [
           0,
           1
          ],
          "colorscale": [
           [
            0,
            "rgb(247, 254, 174)"
           ],
           [
            0.16666666666666666,
            "rgb(183, 230, 165)"
           ],
           [
            0.3333333333333333,
            "rgb(124, 203, 162)"
           ],
           [
            0.5,
            "rgb(70, 174, 160)"
           ],
           [
            0.6666666666666666,
            "rgb(8, 144, 153)"
           ],
           [
            0.8333333333333334,
            "rgb(0, 113, 139)"
           ],
           [
            1,
            "rgb(4, 82, 117)"
           ]
          ],
          "size": 4
         },
         "type": "scatter3d",
         "x": [
          5,
          7
         ],
         "y": [
          7,
          6
         ],
         "z": [
          7,
          6
         ]
        },
        {
         "marker": {
          "color": [
           0,
           1
          ],
          "colorscale": [
           [
            0,
            "rgb(247, 254, 174)"
           ],
           [
            0.16666666666666666,
            "rgb(183, 230, 165)"
           ],
           [
            0.3333333333333333,
            "rgb(124, 203, 162)"
           ],
           [
            0.5,
            "rgb(70, 174, 160)"
           ],
           [
            0.6666666666666666,
            "rgb(8, 144, 153)"
           ],
           [
            0.8333333333333334,
            "rgb(0, 113, 139)"
           ],
           [
            1,
            "rgb(4, 82, 117)"
           ]
          ],
          "size": 4
         },
         "type": "scatter3d",
         "x": [
          5,
          3
         ],
         "y": [
          7,
          7
         ],
         "z": [
          7,
          9
         ]
        },
        {
         "marker": {
          "color": [
           0,
           1
          ],
          "colorscale": [
           [
            0,
            "rgb(247, 254, 174)"
           ],
           [
            0.16666666666666666,
            "rgb(183, 230, 165)"
           ],
           [
            0.3333333333333333,
            "rgb(124, 203, 162)"
           ],
           [
            0.5,
            "rgb(70, 174, 160)"
           ],
           [
            0.6666666666666666,
            "rgb(8, 144, 153)"
           ],
           [
            0.8333333333333334,
            "rgb(0, 113, 139)"
           ],
           [
            1,
            "rgb(4, 82, 117)"
           ]
          ],
          "size": 4
         },
         "type": "scatter3d",
         "x": [
          8,
          7
         ],
         "y": [
          7,
          6
         ],
         "z": [
          7,
          6
         ]
        },
        {
         "marker": {
          "color": [
           0,
           1
          ],
          "colorscale": [
           [
            0,
            "rgb(247, 254, 174)"
           ],
           [
            0.16666666666666666,
            "rgb(183, 230, 165)"
           ],
           [
            0.3333333333333333,
            "rgb(124, 203, 162)"
           ],
           [
            0.5,
            "rgb(70, 174, 160)"
           ],
           [
            0.6666666666666666,
            "rgb(8, 144, 153)"
           ],
           [
            0.8333333333333334,
            "rgb(0, 113, 139)"
           ],
           [
            1,
            "rgb(4, 82, 117)"
           ]
          ],
          "size": 4
         },
         "type": "scatter3d",
         "x": [
          8,
          9
         ],
         "y": [
          7,
          6
         ],
         "z": [
          7,
          6
         ]
        },
        {
         "marker": {
          "color": [
           0,
           1
          ],
          "colorscale": [
           [
            0,
            "rgb(247, 254, 174)"
           ],
           [
            0.16666666666666666,
            "rgb(183, 230, 165)"
           ],
           [
            0.3333333333333333,
            "rgb(124, 203, 162)"
           ],
           [
            0.5,
            "rgb(70, 174, 160)"
           ],
           [
            0.6666666666666666,
            "rgb(8, 144, 153)"
           ],
           [
            0.8333333333333334,
            "rgb(0, 113, 139)"
           ],
           [
            1,
            "rgb(4, 82, 117)"
           ]
          ],
          "size": 4
         },
         "type": "scatter3d",
         "x": [
          8,
          7
         ],
         "y": [
          3,
          2
         ],
         "z": [
          7,
          6
         ]
        },
        {
         "marker": {
          "color": [
           0,
           1
          ],
          "colorscale": [
           [
            0,
            "rgb(247, 254, 174)"
           ],
           [
            0.16666666666666666,
            "rgb(183, 230, 165)"
           ],
           [
            0.3333333333333333,
            "rgb(124, 203, 162)"
           ],
           [
            0.5,
            "rgb(70, 174, 160)"
           ],
           [
            0.6666666666666666,
            "rgb(8, 144, 153)"
           ],
           [
            0.8333333333333334,
            "rgb(0, 113, 139)"
           ],
           [
            1,
            "rgb(4, 82, 117)"
           ]
          ],
          "size": 4
         },
         "type": "scatter3d",
         "x": [
          8,
          9
         ],
         "y": [
          3,
          4
         ],
         "z": [
          7,
          6
         ]
        },
        {
         "colorbar": {
          "title": {
           "text": "z"
          }
         },
         "colorscale": [
          [
           0,
           "gold"
          ],
          [
           0.5,
           "mediumturquoise"
          ],
          [
           1,
           "magenta"
          ]
         ],
         "flatshading": true,
         "i": [
          7,
          0,
          0,
          0,
          4,
          4,
          6,
          6,
          4,
          0,
          3,
          2
         ],
         "intensity": [
          0,
          0.14285714285714285,
          0.2857142857142857,
          0.42857142857142855,
          0.5714285714285714,
          0.7142857142857142,
          0.8571428571428571,
          1
         ],
         "j": [
          3,
          4,
          1,
          2,
          5,
          6,
          5,
          2,
          0,
          1,
          6,
          3
         ],
         "k": [
          0,
          7,
          2,
          3,
          6,
          7,
          1,
          1,
          5,
          5,
          7,
          6
         ],
         "name": "y",
         "type": "mesh3d",
         "x": [
          5,
          5,
          8,
          8,
          5,
          5,
          8,
          8
         ],
         "y": [
          3,
          7,
          7,
          3,
          3,
          7,
          7,
          3
         ],
         "z": [
          2,
          2,
          2,
          2,
          7,
          7,
          7,
          7
         ]
        },
        {
         "colorbar": {
          "title": {
           "text": "z"
          }
         },
         "colorscale": [
          [
           0,
           "gold"
          ],
          [
           0.5,
           "mediumturquoise"
          ],
          [
           1,
           "magenta"
          ]
         ],
         "flatshading": true,
         "i": [
          7,
          0,
          0,
          0,
          4,
          4,
          6,
          6,
          4,
          0,
          3,
          2
         ],
         "intensity": [
          0,
          0.14285714285714285,
          0.2857142857142857,
          0.42857142857142855,
          0.5714285714285714,
          0.7142857142857142,
          0.8571428571428571,
          1
         ],
         "j": [
          3,
          4,
          1,
          2,
          5,
          6,
          5,
          2,
          0,
          1,
          6,
          3
         ],
         "k": [
          0,
          7,
          2,
          3,
          6,
          7,
          1,
          1,
          5,
          5,
          7,
          6
         ],
         "name": "y",
         "type": "mesh3d",
         "x": [
          4,
          4,
          7,
          7,
          4,
          4,
          7,
          7
         ],
         "y": [
          2,
          6,
          6,
          2,
          2,
          6,
          6,
          2
         ],
         "z": [
          6,
          6,
          6,
          6,
          3,
          3,
          3,
          3
         ]
        },
        {
         "colorbar": {
          "title": {
           "text": "z"
          }
         },
         "colorscale": [
          [
           0,
           "gold"
          ],
          [
           0.5,
           "mediumturquoise"
          ],
          [
           1,
           "magenta"
          ]
         ],
         "flatshading": true,
         "i": [
          7,
          0,
          0,
          0,
          4,
          4,
          6,
          6,
          4,
          0,
          3,
          2
         ],
         "intensity": [
          0,
          0.14285714285714285,
          0.2857142857142857,
          0.42857142857142855,
          0.5714285714285714,
          0.7142857142857142,
          0.8571428571428571,
          1
         ],
         "j": [
          3,
          4,
          1,
          2,
          5,
          6,
          5,
          2,
          0,
          1,
          6,
          3
         ],
         "k": [
          0,
          7,
          2,
          3,
          6,
          7,
          1,
          1,
          5,
          5,
          7,
          6
         ],
         "name": "y",
         "type": "mesh3d",
         "x": [
          2,
          2,
          9,
          9,
          2,
          2,
          9,
          9
         ],
         "y": [
          4,
          6,
          6,
          4,
          4,
          6,
          6,
          4
         ],
         "z": [
          6,
          6,
          6,
          6,
          1,
          1,
          1,
          1
         ]
        },
        {
         "colorbar": {
          "title": {
           "text": "z"
          }
         },
         "colorscale": [
          [
           0,
           "gold"
          ],
          [
           0.5,
           "mediumturquoise"
          ],
          [
           1,
           "magenta"
          ]
         ],
         "flatshading": true,
         "i": [
          7,
          0,
          0,
          0,
          4,
          4,
          6,
          6,
          4,
          0,
          3,
          2
         ],
         "intensity": [
          0,
          0.14285714285714285,
          0.2857142857142857,
          0.42857142857142855,
          0.5714285714285714,
          0.7142857142857142,
          0.8571428571428571,
          1
         ],
         "j": [
          3,
          4,
          1,
          2,
          5,
          6,
          5,
          2,
          0,
          1,
          6,
          3
         ],
         "k": [
          0,
          7,
          2,
          3,
          6,
          7,
          1,
          1,
          5,
          5,
          7,
          6
         ],
         "name": "y",
         "type": "mesh3d",
         "x": [
          1,
          1,
          5,
          5,
          1,
          1,
          5,
          5
         ],
         "y": [
          0,
          4,
          4,
          0,
          0,
          4,
          4,
          0
         ],
         "z": [
          8,
          8,
          8,
          8,
          6,
          6,
          6,
          6
         ]
        },
        {
         "colorbar": {
          "title": {
           "text": "z"
          }
         },
         "colorscale": [
          [
           0,
           "gold"
          ],
          [
           0.5,
           "mediumturquoise"
          ],
          [
           1,
           "magenta"
          ]
         ],
         "flatshading": true,
         "i": [
          7,
          0,
          0,
          0,
          4,
          4,
          6,
          6,
          4,
          0,
          3,
          2
         ],
         "intensity": [
          0,
          0.14285714285714285,
          0.2857142857142857,
          0.42857142857142855,
          0.5714285714285714,
          0.7142857142857142,
          0.8571428571428571,
          1
         ],
         "j": [
          3,
          4,
          1,
          2,
          5,
          6,
          5,
          2,
          0,
          1,
          6,
          3
         ],
         "k": [
          0,
          7,
          2,
          3,
          6,
          7,
          1,
          1,
          5,
          5,
          7,
          6
         ],
         "name": "y",
         "type": "mesh3d",
         "x": [
          3,
          3,
          2,
          2,
          3,
          3,
          2,
          2
         ],
         "y": [
          7,
          5,
          5,
          7,
          7,
          5,
          5,
          7
         ],
         "z": [
          9,
          9,
          9,
          9,
          4,
          4,
          4,
          4
         ]
        }
       ],
       "layout": {
        "autosize": true,
        "margin": {
         "b": 10,
         "l": 10,
         "r": 20,
         "t": 10
        },
        "scene": {
         "aspectmode": "auto",
         "aspectratio": {
          "x": 1.0455159171494206,
          "y": 0.9148264275057431,
          "z": 1.0455159171494206
         },
         "camera": {
          "center": {
           "x": 0,
           "y": 0,
           "z": 0
          },
          "eye": {
           "x": 1.3950953087285058,
           "y": -0.3251984415864068,
           "z": 0.6318857229154838
          },
          "projection": {
           "type": "perspective"
          },
          "up": {
           "x": 0,
           "y": 0,
           "z": 1
          }
         },
         "xaxis": {
          "nticks": 4,
          "range": [
           0,
           10
          ],
          "type": "linear"
         },
         "yaxis": {
          "nticks": 4,
          "range": [
           0,
           10
          ],
          "type": "linear"
         },
         "zaxis": {
          "nticks": 4,
          "range": [
           0,
           10
          ],
          "type": "linear"
         }
        },
        "template": {
         "data": {
          "bar": [
           {
            "error_x": {
             "color": "#2a3f5f"
            },
            "error_y": {
             "color": "#2a3f5f"
            },
            "marker": {
             "line": {
              "color": "#E5ECF6",
              "width": 0.5
             },
             "pattern": {
              "fillmode": "overlay",
              "size": 10,
              "solidity": 0.2
             }
            },
            "type": "bar"
           }
          ],
          "barpolar": [
           {
            "marker": {
             "line": {
              "color": "#E5ECF6",
              "width": 0.5
             },
             "pattern": {
              "fillmode": "overlay",
              "size": 10,
              "solidity": 0.2
             }
            },
            "type": "barpolar"
           }
          ],
          "carpet": [
           {
            "aaxis": {
             "endlinecolor": "#2a3f5f",
             "gridcolor": "white",
             "linecolor": "white",
             "minorgridcolor": "white",
             "startlinecolor": "#2a3f5f"
            },
            "baxis": {
             "endlinecolor": "#2a3f5f",
             "gridcolor": "white",
             "linecolor": "white",
             "minorgridcolor": "white",
             "startlinecolor": "#2a3f5f"
            },
            "type": "carpet"
           }
          ],
          "choropleth": [
           {
            "colorbar": {
             "outlinewidth": 0,
             "ticks": ""
            },
            "type": "choropleth"
           }
          ],
          "contour": [
           {
            "colorbar": {
             "outlinewidth": 0,
             "ticks": ""
            },
            "colorscale": [
             [
              0,
              "#0d0887"
             ],
             [
              0.1111111111111111,
              "#46039f"
             ],
             [
              0.2222222222222222,
              "#7201a8"
             ],
             [
              0.3333333333333333,
              "#9c179e"
             ],
             [
              0.4444444444444444,
              "#bd3786"
             ],
             [
              0.5555555555555556,
              "#d8576b"
             ],
             [
              0.6666666666666666,
              "#ed7953"
             ],
             [
              0.7777777777777778,
              "#fb9f3a"
             ],
             [
              0.8888888888888888,
              "#fdca26"
             ],
             [
              1,
              "#f0f921"
             ]
            ],
            "type": "contour"
           }
          ],
          "contourcarpet": [
           {
            "colorbar": {
             "outlinewidth": 0,
             "ticks": ""
            },
            "type": "contourcarpet"
           }
          ],
          "heatmap": [
           {
            "colorbar": {
             "outlinewidth": 0,
             "ticks": ""
            },
            "colorscale": [
             [
              0,
              "#0d0887"
             ],
             [
              0.1111111111111111,
              "#46039f"
             ],
             [
              0.2222222222222222,
              "#7201a8"
             ],
             [
              0.3333333333333333,
              "#9c179e"
             ],
             [
              0.4444444444444444,
              "#bd3786"
             ],
             [
              0.5555555555555556,
              "#d8576b"
             ],
             [
              0.6666666666666666,
              "#ed7953"
             ],
             [
              0.7777777777777778,
              "#fb9f3a"
             ],
             [
              0.8888888888888888,
              "#fdca26"
             ],
             [
              1,
              "#f0f921"
             ]
            ],
            "type": "heatmap"
           }
          ],
          "heatmapgl": [
           {
            "colorbar": {
             "outlinewidth": 0,
             "ticks": ""
            },
            "colorscale": [
             [
              0,
              "#0d0887"
             ],
             [
              0.1111111111111111,
              "#46039f"
             ],
             [
              0.2222222222222222,
              "#7201a8"
             ],
             [
              0.3333333333333333,
              "#9c179e"
             ],
             [
              0.4444444444444444,
              "#bd3786"
             ],
             [
              0.5555555555555556,
              "#d8576b"
             ],
             [
              0.6666666666666666,
              "#ed7953"
             ],
             [
              0.7777777777777778,
              "#fb9f3a"
             ],
             [
              0.8888888888888888,
              "#fdca26"
             ],
             [
              1,
              "#f0f921"
             ]
            ],
            "type": "heatmapgl"
           }
          ],
          "histogram": [
           {
            "marker": {
             "pattern": {
              "fillmode": "overlay",
              "size": 10,
              "solidity": 0.2
             }
            },
            "type": "histogram"
           }
          ],
          "histogram2d": [
           {
            "colorbar": {
             "outlinewidth": 0,
             "ticks": ""
            },
            "colorscale": [
             [
              0,
              "#0d0887"
             ],
             [
              0.1111111111111111,
              "#46039f"
             ],
             [
              0.2222222222222222,
              "#7201a8"
             ],
             [
              0.3333333333333333,
              "#9c179e"
             ],
             [
              0.4444444444444444,
              "#bd3786"
             ],
             [
              0.5555555555555556,
              "#d8576b"
             ],
             [
              0.6666666666666666,
              "#ed7953"
             ],
             [
              0.7777777777777778,
              "#fb9f3a"
             ],
             [
              0.8888888888888888,
              "#fdca26"
             ],
             [
              1,
              "#f0f921"
             ]
            ],
            "type": "histogram2d"
           }
          ],
          "histogram2dcontour": [
           {
            "colorbar": {
             "outlinewidth": 0,
             "ticks": ""
            },
            "colorscale": [
             [
              0,
              "#0d0887"
             ],
             [
              0.1111111111111111,
              "#46039f"
             ],
             [
              0.2222222222222222,
              "#7201a8"
             ],
             [
              0.3333333333333333,
              "#9c179e"
             ],
             [
              0.4444444444444444,
              "#bd3786"
             ],
             [
              0.5555555555555556,
              "#d8576b"
             ],
             [
              0.6666666666666666,
              "#ed7953"
             ],
             [
              0.7777777777777778,
              "#fb9f3a"
             ],
             [
              0.8888888888888888,
              "#fdca26"
             ],
             [
              1,
              "#f0f921"
             ]
            ],
            "type": "histogram2dcontour"
           }
          ],
          "mesh3d": [
           {
            "colorbar": {
             "outlinewidth": 0,
             "ticks": ""
            },
            "type": "mesh3d"
           }
          ],
          "parcoords": [
           {
            "line": {
             "colorbar": {
              "outlinewidth": 0,
              "ticks": ""
             }
            },
            "type": "parcoords"
           }
          ],
          "pie": [
           {
            "automargin": true,
            "type": "pie"
           }
          ],
          "scatter": [
           {
            "fillpattern": {
             "fillmode": "overlay",
             "size": 10,
             "solidity": 0.2
            },
            "type": "scatter"
           }
          ],
          "scatter3d": [
           {
            "line": {
             "colorbar": {
              "outlinewidth": 0,
              "ticks": ""
             }
            },
            "marker": {
             "colorbar": {
              "outlinewidth": 0,
              "ticks": ""
             }
            },
            "type": "scatter3d"
           }
          ],
          "scattercarpet": [
           {
            "marker": {
             "colorbar": {
              "outlinewidth": 0,
              "ticks": ""
             }
            },
            "type": "scattercarpet"
           }
          ],
          "scattergeo": [
           {
            "marker": {
             "colorbar": {
              "outlinewidth": 0,
              "ticks": ""
             }
            },
            "type": "scattergeo"
           }
          ],
          "scattergl": [
           {
            "marker": {
             "colorbar": {
              "outlinewidth": 0,
              "ticks": ""
             }
            },
            "type": "scattergl"
           }
          ],
          "scattermapbox": [
           {
            "marker": {
             "colorbar": {
              "outlinewidth": 0,
              "ticks": ""
             }
            },
            "type": "scattermapbox"
           }
          ],
          "scatterpolar": [
           {
            "marker": {
             "colorbar": {
              "outlinewidth": 0,
              "ticks": ""
             }
            },
            "type": "scatterpolar"
           }
          ],
          "scatterpolargl": [
           {
            "marker": {
             "colorbar": {
              "outlinewidth": 0,
              "ticks": ""
             }
            },
            "type": "scatterpolargl"
           }
          ],
          "scatterternary": [
           {
            "marker": {
             "colorbar": {
              "outlinewidth": 0,
              "ticks": ""
             }
            },
            "type": "scatterternary"
           }
          ],
          "surface": [
           {
            "colorbar": {
             "outlinewidth": 0,
             "ticks": ""
            },
            "colorscale": [
             [
              0,
              "#0d0887"
             ],
             [
              0.1111111111111111,
              "#46039f"
             ],
             [
              0.2222222222222222,
              "#7201a8"
             ],
             [
              0.3333333333333333,
              "#9c179e"
             ],
             [
              0.4444444444444444,
              "#bd3786"
             ],
             [
              0.5555555555555556,
              "#d8576b"
             ],
             [
              0.6666666666666666,
              "#ed7953"
             ],
             [
              0.7777777777777778,
              "#fb9f3a"
             ],
             [
              0.8888888888888888,
              "#fdca26"
             ],
             [
              1,
              "#f0f921"
             ]
            ],
            "type": "surface"
           }
          ],
          "table": [
           {
            "cells": {
             "fill": {
              "color": "#EBF0F8"
             },
             "line": {
              "color": "white"
             }
            },
            "header": {
             "fill": {
              "color": "#C8D4E3"
             },
             "line": {
              "color": "white"
             }
            },
            "type": "table"
           }
          ]
         },
         "layout": {
          "annotationdefaults": {
           "arrowcolor": "#2a3f5f",
           "arrowhead": 0,
           "arrowwidth": 1
          },
          "autotypenumbers": "strict",
          "coloraxis": {
           "colorbar": {
            "outlinewidth": 0,
            "ticks": ""
           }
          },
          "colorscale": {
           "diverging": [
            [
             0,
             "#8e0152"
            ],
            [
             0.1,
             "#c51b7d"
            ],
            [
             0.2,
             "#de77ae"
            ],
            [
             0.3,
             "#f1b6da"
            ],
            [
             0.4,
             "#fde0ef"
            ],
            [
             0.5,
             "#f7f7f7"
            ],
            [
             0.6,
             "#e6f5d0"
            ],
            [
             0.7,
             "#b8e186"
            ],
            [
             0.8,
             "#7fbc41"
            ],
            [
             0.9,
             "#4d9221"
            ],
            [
             1,
             "#276419"
            ]
           ],
           "sequential": [
            [
             0,
             "#0d0887"
            ],
            [
             0.1111111111111111,
             "#46039f"
            ],
            [
             0.2222222222222222,
             "#7201a8"
            ],
            [
             0.3333333333333333,
             "#9c179e"
            ],
            [
             0.4444444444444444,
             "#bd3786"
            ],
            [
             0.5555555555555556,
             "#d8576b"
            ],
            [
             0.6666666666666666,
             "#ed7953"
            ],
            [
             0.7777777777777778,
             "#fb9f3a"
            ],
            [
             0.8888888888888888,
             "#fdca26"
            ],
            [
             1,
             "#f0f921"
            ]
           ],
           "sequentialminus": [
            [
             0,
             "#0d0887"
            ],
            [
             0.1111111111111111,
             "#46039f"
            ],
            [
             0.2222222222222222,
             "#7201a8"
            ],
            [
             0.3333333333333333,
             "#9c179e"
            ],
            [
             0.4444444444444444,
             "#bd3786"
            ],
            [
             0.5555555555555556,
             "#d8576b"
            ],
            [
             0.6666666666666666,
             "#ed7953"
            ],
            [
             0.7777777777777778,
             "#fb9f3a"
            ],
            [
             0.8888888888888888,
             "#fdca26"
            ],
            [
             1,
             "#f0f921"
            ]
           ]
          },
          "colorway": [
           "#636efa",
           "#EF553B",
           "#00cc96",
           "#ab63fa",
           "#FFA15A",
           "#19d3f3",
           "#FF6692",
           "#B6E880",
           "#FF97FF",
           "#FECB52"
          ],
          "font": {
           "color": "#2a3f5f"
          },
          "geo": {
           "bgcolor": "white",
           "lakecolor": "white",
           "landcolor": "#E5ECF6",
           "showlakes": true,
           "showland": true,
           "subunitcolor": "white"
          },
          "hoverlabel": {
           "align": "left"
          },
          "hovermode": "closest",
          "mapbox": {
           "style": "light"
          },
          "paper_bgcolor": "white",
          "plot_bgcolor": "#E5ECF6",
          "polar": {
           "angularaxis": {
            "gridcolor": "white",
            "linecolor": "white",
            "ticks": ""
           },
           "bgcolor": "#E5ECF6",
           "radialaxis": {
            "gridcolor": "white",
            "linecolor": "white",
            "ticks": ""
           }
          },
          "scene": {
           "xaxis": {
            "backgroundcolor": "#E5ECF6",
            "gridcolor": "white",
            "gridwidth": 2,
            "linecolor": "white",
            "showbackground": true,
            "ticks": "",
            "zerolinecolor": "white"
           },
           "yaxis": {
            "backgroundcolor": "#E5ECF6",
            "gridcolor": "white",
            "gridwidth": 2,
            "linecolor": "white",
            "showbackground": true,
            "ticks": "",
            "zerolinecolor": "white"
           },
           "zaxis": {
            "backgroundcolor": "#E5ECF6",
            "gridcolor": "white",
            "gridwidth": 2,
            "linecolor": "white",
            "showbackground": true,
            "ticks": "",
            "zerolinecolor": "white"
           }
          },
          "shapedefaults": {
           "line": {
            "color": "#2a3f5f"
           }
          },
          "ternary": {
           "aaxis": {
            "gridcolor": "white",
            "linecolor": "white",
            "ticks": ""
           },
           "baxis": {
            "gridcolor": "white",
            "linecolor": "white",
            "ticks": ""
           },
           "bgcolor": "#E5ECF6",
           "caxis": {
            "gridcolor": "white",
            "linecolor": "white",
            "ticks": ""
           }
          },
          "title": {
           "x": 0.05
          },
          "xaxis": {
           "automargin": true,
           "gridcolor": "white",
           "linecolor": "white",
           "ticks": "",
           "title": {
            "standoff": 15
           },
           "zerolinecolor": "white",
           "zerolinewidth": 2
          },
          "yaxis": {
           "automargin": true,
           "gridcolor": "white",
           "linecolor": "white",
           "ticks": "",
           "title": {
            "standoff": 15
           },
           "zerolinecolor": "white",
           "zerolinewidth": 2
          }
         }
        }
       }
      },
      "image/png": "[encoded data removed]",
      "text/html": [
       "<div>                            <div id=\"12fc8cbc-64ff-46d9-b870-3ea818ab24d7\" class=\"plotly-graph-div\" style=\"height:525px; width:700px;\"></div>            <script type=\"text/javascript\">                require([\"plotly\"], function(Plotly) {                    window.PLOTLYENV=window.PLOTLYENV || {};                                    if (document.getElementById(\"12fc8cbc-64ff-46d9-b870-3ea818ab24d7\")) {                    Plotly.newPlot(                        \"12fc8cbc-64ff-46d9-b870-3ea818ab24d7\",                        [{\"marker\":{\"color\":[0,1],\"colorscale\":[[0.0,\"rgb(247, 254, 174)\"],[0.16666666666666666,\"rgb(183, 230, 165)\"],[0.3333333333333333,\"rgb(124, 203, 162)\"],[0.5,\"rgb(70, 174, 160)\"],[0.6666666666666666,\"rgb(8, 144, 153)\"],[0.8333333333333334,\"rgb(0, 113, 139)\"],[1.0,\"rgb(4, 82, 117)\"]],\"size\":4},\"x\":[5.0,4.0],\"y\":[3.0,2.0],\"z\":[2.0,3.0],\"type\":\"scatter3d\"},{\"marker\":{\"color\":[0,1],\"colorscale\":[[0.0,\"rgb(247, 254, 174)\"],[0.16666666666666666,\"rgb(183, 230, 165)\"],[0.3333333333333333,\"rgb(124, 203, 162)\"],[0.5,\"rgb(70, 174, 160)\"],[0.6666666666666666,\"rgb(8, 144, 153)\"],[0.8333333333333334,\"rgb(0, 113, 139)\"],[1.0,\"rgb(4, 82, 117)\"]],\"size\":4},\"x\":[5.0,7.0],\"y\":[3.0,2.0],\"z\":[2.0,3.0],\"type\":\"scatter3d\"},{\"marker\":{\"color\":[0,1],\"colorscale\":[[0.0,\"rgb(247, 254, 174)\"],[0.16666666666666666,\"rgb(183, 230, 165)\"],[0.3333333333333333,\"rgb(124, 203, 162)\"],[0.5,\"rgb(70, 174, 160)\"],[0.6666666666666666,\"rgb(8, 144, 153)\"],[0.8333333333333334,\"rgb(0, 113, 139)\"],[1.0,\"rgb(4, 82, 117)\"]],\"size\":4},\"x\":[5.0,4.0],\"y\":[7.0,6.0],\"z\":[2.0,3.0],\"type\":\"scatter3d\"},{\"marker\":{\"color\":[0,1],\"colorscale\":[[0.0,\"rgb(247, 254, 174)\"],[0.16666666666666666,\"rgb(183, 230, 165)\"],[0.3333333333333333,\"rgb(124, 203, 162)\"],[0.5,\"rgb(70, 174, 160)\"],[0.6666666666666666,\"rgb(8, 144, 153)\"],[0.8333333333333334,\"rgb(0, 113, 139)\"],[1.0,\"rgb(4, 82, 117)\"]],\"size\":4},\"x\":[5.0,7.0],\"y\":[7.0,6.0],\"z\":[2.0,3.0],\"type\":\"scatter3d\"},{\"marker\":{\"color\":[0,1],\"colorscale\":[[0.0,\"rgb(247, 254, 174)\"],[0.16666666666666666,\"rgb(183, 230, 165)\"],[0.3333333333333333,\"rgb(124, 203, 162)\"],[0.5,\"rgb(70, 174, 160)\"],[0.6666666666666666,\"rgb(8, 144, 153)\"],[0.8333333333333334,\"rgb(0, 113, 139)\"],[1.0,\"rgb(4, 82, 117)\"]],\"size\":4},\"x\":[5.0,3.0],\"y\":[7.0,7.0],\"z\":[2.0,4.0],\"type\":\"scatter3d\"},{\"marker\":{\"color\":[0,1],\"colorscale\":[[0.0,\"rgb(247, 254, 174)\"],[0.16666666666666666,\"rgb(183, 230, 165)\"],[0.3333333333333333,\"rgb(124, 203, 162)\"],[0.5,\"rgb(70, 174, 160)\"],[0.6666666666666666,\"rgb(8, 144, 153)\"],[0.8333333333333334,\"rgb(0, 113, 139)\"],[1.0,\"rgb(4, 82, 117)\"]],\"size\":4},\"x\":[8.0,7.0],\"y\":[7.0,6.0],\"z\":[2.0,3.0],\"type\":\"scatter3d\"},{\"marker\":{\"color\":[0,1],\"colorscale\":[[0.0,\"rgb(247, 254, 174)\"],[0.16666666666666666,\"rgb(183, 230, 165)\"],[0.3333333333333333,\"rgb(124, 203, 162)\"],[0.5,\"rgb(70, 174, 160)\"],[0.6666666666666666,\"rgb(8, 144, 153)\"],[0.8333333333333334,\"rgb(0, 113, 139)\"],[1.0,\"rgb(4, 82, 117)\"]],\"size\":4},\"x\":[8.0,9.0],\"y\":[7.0,6.0],\"z\":[2.0,1.0],\"type\":\"scatter3d\"},{\"marker\":{\"color\":[0,1],\"colorscale\":[[0.0,\"rgb(247, 254, 174)\"],[0.16666666666666666,\"rgb(183, 230, 165)\"],[0.3333333333333333,\"rgb(124, 203, 162)\"],[0.5,\"rgb(70, 174, 160)\"],[0.6666666666666666,\"rgb(8, 144, 153)\"],[0.8333333333333334,\"rgb(0, 113, 139)\"],[1.0,\"rgb(4, 82, 117)\"]],\"size\":4},\"x\":[8.0,7.0],\"y\":[3.0,2.0],\"z\":[2.0,3.0],\"type\":\"scatter3d\"},{\"marker\":{\"color\":[0,1],\"colorscale\":[[0.0,\"rgb(247, 254, 174)\"],[0.16666666666666666,\"rgb(183, 230, 165)\"],[0.3333333333333333,\"rgb(124, 203, 162)\"],[0.5,\"rgb(70, 174, 160)\"],[0.6666666666666666,\"rgb(8, 144, 153)\"],[0.8333333333333334,\"rgb(0, 113, 139)\"],[1.0,\"rgb(4, 82, 117)\"]],\"size\":4},\"x\":[8.0,9.0],\"y\":[3.0,4.0],\"z\":[2.0,1.0],\"type\":\"scatter3d\"},{\"marker\":{\"color\":[0,1],\"colorscale\":[[0.0,\"rgb(247, 254, 174)\"],[0.16666666666666666,\"rgb(183, 230, 165)\"],[0.3333333333333333,\"rgb(124, 203, 162)\"],[0.5,\"rgb(70, 174, 160)\"],[0.6666666666666666,\"rgb(8, 144, 153)\"],[0.8333333333333334,\"rgb(0, 113, 139)\"],[1.0,\"rgb(4, 82, 117)\"]],\"size\":4},\"x\":[5.0,4.0],\"y\":[3.0,2.0],\"z\":[7.0,6.0],\"type\":\"scatter3d\"},{\"marker\":{\"color\":[0,1],\"colorscale\":[[0.0,\"rgb(247, 254, 174)\"],[0.16666666666666666,\"rgb(183, 230, 165)\"],[0.3333333333333333,\"rgb(124, 203, 162)\"],[0.5,\"rgb(70, 174, 160)\"],[0.6666666666666666,\"rgb(8, 144, 153)\"],[0.8333333333333334,\"rgb(0, 113, 139)\"],[1.0,\"rgb(4, 82, 117)\"]],\"size\":4},\"x\":[5.0,7.0],\"y\":[3.0,2.0],\"z\":[7.0,6.0],\"type\":\"scatter3d\"},{\"marker\":{\"color\":[0,1],\"colorscale\":[[0.0,\"rgb(247, 254, 174)\"],[0.16666666666666666,\"rgb(183, 230, 165)\"],[0.3333333333333333,\"rgb(124, 203, 162)\"],[0.5,\"rgb(70, 174, 160)\"],[0.6666666666666666,\"rgb(8, 144, 153)\"],[0.8333333333333334,\"rgb(0, 113, 139)\"],[1.0,\"rgb(4, 82, 117)\"]],\"size\":4},\"x\":[5.0,5.0],\"y\":[3.0,4.0],\"z\":[7.0,8.0],\"type\":\"scatter3d\"},{\"marker\":{\"color\":[0,1],\"colorscale\":[[0.0,\"rgb(247, 254, 174)\"],[0.16666666666666666,\"rgb(183, 230, 165)\"],[0.3333333333333333,\"rgb(124, 203, 162)\"],[0.5,\"rgb(70, 174, 160)\"],[0.6666666666666666,\"rgb(8, 144, 153)\"],[0.8333333333333334,\"rgb(0, 113, 139)\"],[1.0,\"rgb(4, 82, 117)\"]],\"size\":4},\"x\":[5.0,5.0],\"y\":[3.0,4.0],\"z\":[7.0,6.0],\"type\":\"scatter3d\"},{\"marker\":{\"color\":[0,1],\"colorscale\":[[0.0,\"rgb(247, 254, 174)\"],[0.16666666666666666,\"rgb(183, 230, 165)\"],[0.3333333333333333,\"rgb(124, 203, 162)\"],[0.5,\"rgb(70, 174, 160)\"],[0.6666666666666666,\"rgb(8, 144, 153)\"],[0.8333333333333334,\"rgb(0, 113, 139)\"],[1.0,\"rgb(4, 82, 117)\"]],\"size\":4},\"x\":[5.0,4.0],\"y\":[7.0,6.0],\"z\":[7.0,6.0],\"type\":\"scatter3d\"},{\"marker\":{\"color\":[0,1],\"colorscale\":[[0.0,\"rgb(247, 254, 174)\"],[0.16666666666666666,\"rgb(183, 230, 165)\"],[0.3333333333333333,\"rgb(124, 203, 162)\"],[0.5,\"rgb(70, 174, 160)\"],[0.6666666666666666,\"rgb(8, 144, 153)\"],[0.8333333333333334,\"rgb(0, 113, 139)\"],[1.0,\"rgb(4, 82, 117)\"]],\"size\":4},\"x\":[5.0,7.0],\"y\":[7.0,6.0],\"z\":[7.0,6.0],\"type\":\"scatter3d\"},{\"marker\":{\"color\":[0,1],\"colorscale\":[[0.0,\"rgb(247, 254, 174)\"],[0.16666666666666666,\"rgb(183, 230, 165)\"],[0.3333333333333333,\"rgb(124, 203, 162)\"],[0.5,\"rgb(70, 174, 160)\"],[0.6666666666666666,\"rgb(8, 144, 153)\"],[0.8333333333333334,\"rgb(0, 113, 139)\"],[1.0,\"rgb(4, 82, 117)\"]],\"size\":4},\"x\":[5.0,3.0],\"y\":[7.0,7.0],\"z\":[7.0,9.0],\"type\":\"scatter3d\"},{\"marker\":{\"color\":[0,1],\"colorscale\":[[0.0,\"rgb(247, 254, 174)\"],[0.16666666666666666,\"rgb(183, 230, 165)\"],[0.3333333333333333,\"rgb(124, 203, 162)\"],[0.5,\"rgb(70, 174, 160)\"],[0.6666666666666666,\"rgb(8, 144, 153)\"],[0.8333333333333334,\"rgb(0, 113, 139)\"],[1.0,\"rgb(4, 82, 117)\"]],\"size\":4},\"x\":[8.0,7.0],\"y\":[7.0,6.0],\"z\":[7.0,6.0],\"type\":\"scatter3d\"},{\"marker\":{\"color\":[0,1],\"colorscale\":[[0.0,\"rgb(247, 254, 174)\"],[0.16666666666666666,\"rgb(183, 230, 165)\"],[0.3333333333333333,\"rgb(124, 203, 162)\"],[0.5,\"rgb(70, 174, 160)\"],[0.6666666666666666,\"rgb(8, 144, 153)\"],[0.8333333333333334,\"rgb(0, 113, 139)\"],[1.0,\"rgb(4, 82, 117)\"]],\"size\":4},\"x\":[8.0,9.0],\"y\":[7.0,6.0],\"z\":[7.0,6.0],\"type\":\"scatter3d\"},{\"marker\":{\"color\":[0,1],\"colorscale\":[[0.0,\"rgb(247, 254, 174)\"],[0.16666666666666666,\"rgb(183, 230, 165)\"],[0.3333333333333333,\"rgb(124, 203, 162)\"],[0.5,\"rgb(70, 174, 160)\"],[0.6666666666666666,\"rgb(8, 144, 153)\"],[0.8333333333333334,\"rgb(0, 113, 139)\"],[1.0,\"rgb(4, 82, 117)\"]],\"size\":4},\"x\":[8.0,7.0],\"y\":[3.0,2.0],\"z\":[7.0,6.0],\"type\":\"scatter3d\"},{\"marker\":{\"color\":[0,1],\"colorscale\":[[0.0,\"rgb(247, 254, 174)\"],[0.16666666666666666,\"rgb(183, 230, 165)\"],[0.3333333333333333,\"rgb(124, 203, 162)\"],[0.5,\"rgb(70, 174, 160)\"],[0.6666666666666666,\"rgb(8, 144, 153)\"],[0.8333333333333334,\"rgb(0, 113, 139)\"],[1.0,\"rgb(4, 82, 117)\"]],\"size\":4},\"x\":[8.0,9.0],\"y\":[3.0,4.0],\"z\":[7.0,6.0],\"type\":\"scatter3d\"},{\"colorbar\":{\"title\":{\"text\":\"z\"}},\"colorscale\":[[0,\"gold\"],[0.5,\"mediumturquoise\"],[1,\"magenta\"]],\"flatshading\":true,\"i\":[7,0,0,0,4,4,6,6,4,0,3,2],\"intensity\":[0.0,0.14285714285714285,0.2857142857142857,0.42857142857142855,0.5714285714285714,0.7142857142857142,0.8571428571428571,1.0],\"j\":[3,4,1,2,5,6,5,2,0,1,6,3],\"k\":[0,7,2,3,6,7,1,1,5,5,7,6],\"name\":\"y\",\"x\":[5.0,5.0,8.0,8.0,5.0,5.0,8.0,8.0],\"y\":[3.0,7.0,7.0,3.0,3.0,7.0,7.0,3.0],\"z\":[2.0,2.0,2.0,2.0,7.0,7.0,7.0,7.0],\"type\":\"mesh3d\"},{\"colorbar\":{\"title\":{\"text\":\"z\"}},\"colorscale\":[[0,\"gold\"],[0.5,\"mediumturquoise\"],[1,\"magenta\"]],\"flatshading\":true,\"i\":[7,0,0,0,4,4,6,6,4,0,3,2],\"intensity\":[0.0,0.14285714285714285,0.2857142857142857,0.42857142857142855,0.5714285714285714,0.7142857142857142,0.8571428571428571,1.0],\"j\":[3,4,1,2,5,6,5,2,0,1,6,3],\"k\":[0,7,2,3,6,7,1,1,5,5,7,6],\"name\":\"y\",\"x\":[4.0,4.0,7.0,7.0,4.0,4.0,7.0,7.0],\"y\":[2.0,6.0,6.0,2.0,2.0,6.0,6.0,2.0],\"z\":[6.0,6.0,6.0,6.0,3.0,3.0,3.0,3.0],\"type\":\"mesh3d\"},{\"colorbar\":{\"title\":{\"text\":\"z\"}},\"colorscale\":[[0,\"gold\"],[0.5,\"mediumturquoise\"],[1,\"magenta\"]],\"flatshading\":true,\"i\":[7,0,0,0,4,4,6,6,4,0,3,2],\"intensity\":[0.0,0.14285714285714285,0.2857142857142857,0.42857142857142855,0.5714285714285714,0.7142857142857142,0.8571428571428571,1.0],\"j\":[3,4,1,2,5,6,5,2,0,1,6,3],\"k\":[0,7,2,3,6,7,1,1,5,5,7,6],\"name\":\"y\",\"x\":[2.0,2.0,9.0,9.0,2.0,2.0,9.0,9.0],\"y\":[4.0,6.0,6.0,4.0,4.0,6.0,6.0,4.0],\"z\":[6.0,6.0,6.0,6.0,1.0,1.0,1.0,1.0],\"type\":\"mesh3d\"},{\"colorbar\":{\"title\":{\"text\":\"z\"}},\"colorscale\":[[0,\"gold\"],[0.5,\"mediumturquoise\"],[1,\"magenta\"]],\"flatshading\":true,\"i\":[7,0,0,0,4,4,6,6,4,0,3,2],\"intensity\":[0.0,0.14285714285714285,0.2857142857142857,0.42857142857142855,0.5714285714285714,0.7142857142857142,0.8571428571428571,1.0],\"j\":[3,4,1,2,5,6,5,2,0,1,6,3],\"k\":[0,7,2,3,6,7,1,1,5,5,7,6],\"name\":\"y\",\"x\":[1.0,1.0,5.0,5.0,1.0,1.0,5.0,5.0],\"y\":[0.0,4.0,4.0,0.0,0.0,4.0,4.0,0.0],\"z\":[8.0,8.0,8.0,8.0,6.0,6.0,6.0,6.0],\"type\":\"mesh3d\"},{\"colorbar\":{\"title\":{\"text\":\"z\"}},\"colorscale\":[[0,\"gold\"],[0.5,\"mediumturquoise\"],[1,\"magenta\"]],\"flatshading\":true,\"i\":[7,0,0,0,4,4,6,6,4,0,3,2],\"intensity\":[0.0,0.14285714285714285,0.2857142857142857,0.42857142857142855,0.5714285714285714,0.7142857142857142,0.8571428571428571,1.0],\"j\":[3,4,1,2,5,6,5,2,0,1,6,3],\"k\":[0,7,2,3,6,7,1,1,5,5,7,6],\"name\":\"y\",\"x\":[3.0,3.0,2.0,2.0,3.0,3.0,2.0,2.0],\"y\":[7.0,5.0,5.0,7.0,7.0,5.0,5.0,7.0],\"z\":[9.0,9.0,9.0,9.0,4.0,4.0,4.0,4.0],\"type\":\"mesh3d\"}],                        {\"template\":{\"data\":{\"histogram2dcontour\":[{\"type\":\"histogram2dcontour\",\"colorbar\":{\"outlinewidth\":0,\"ticks\":\"\"},\"colorscale\":[[0.0,\"#0d0887\"],[0.1111111111111111,\"#46039f\"],[0.2222222222222222,\"#7201a8\"],[0.3333333333333333,\"#9c179e\"],[0.4444444444444444,\"#bd3786\"],[0.5555555555555556,\"#d8576b\"],[0.6666666666666666,\"#ed7953\"],[0.7777777777777778,\"#fb9f3a\"],[0.8888888888888888,\"#fdca26\"],[1.0,\"#f0f921\"]]}],\"choropleth\":[{\"type\":\"choropleth\",\"colorbar\":{\"outlinewidth\":0,\"ticks\":\"\"}}],\"histogram2d\":[{\"type\":\"histogram2d\",\"colorbar\":{\"outlinewidth\":0,\"ticks\":\"\"},\"colorscale\":[[0.0,\"#0d0887\"],[0.1111111111111111,\"#46039f\"],[0.2222222222222222,\"#7201a8\"],[0.3333333333333333,\"#9c179e\"],[0.4444444444444444,\"#bd3786\"],[0.5555555555555556,\"#d8576b\"],[0.6666666666666666,\"#ed7953\"],[0.7777777777777778,\"#fb9f3a\"],[0.8888888888888888,\"#fdca26\"],[1.0,\"#f0f921\"]]}],\"heatmap\":[{\"type\":\"heatmap\",\"colorbar\":{\"outlinewidth\":0,\"ticks\":\"\"},\"colorscale\":[[0.0,\"#0d0887\"],[0.1111111111111111,\"#46039f\"],[0.2222222222222222,\"#7201a8\"],[0.3333333333333333,\"#9c179e\"],[0.4444444444444444,\"#bd3786\"],[0.5555555555555556,\"#d8576b\"],[0.6666666666666666,\"#ed7953\"],[0.7777777777777778,\"#fb9f3a\"],[0.8888888888888888,\"#fdca26\"],[1.0,\"#f0f921\"]]}],\"heatmapgl\":[{\"type\":\"heatmapgl\",\"colorbar\":{\"outlinewidth\":0,\"ticks\":\"\"},\"colorscale\":[[0.0,\"#0d0887\"],[0.1111111111111111,\"#46039f\"],[0.2222222222222222,\"#7201a8\"],[0.3333333333333333,\"#9c179e\"],[0.4444444444444444,\"#bd3786\"],[0.5555555555555556,\"#d8576b\"],[0.6666666666666666,\"#ed7953\"],[0.7777777777777778,\"#fb9f3a\"],[0.8888888888888888,\"#fdca26\"],[1.0,\"#f0f921\"]]}],\"contourcarpet\":[{\"type\":\"contourcarpet\",\"colorbar\":{\"outlinewidth\":0,\"ticks\":\"\"}}],\"contour\":[{\"type\":\"contour\",\"colorbar\":{\"outlinewidth\":0,\"ticks\":\"\"},\"colorscale\":[[0.0,\"#0d0887\"],[0.1111111111111111,\"#46039f\"],[0.2222222222222222,\"#7201a8\"],[0.3333333333333333,\"#9c179e\"],[0.4444444444444444,\"#bd3786\"],[0.5555555555555556,\"#d8576b\"],[0.6666666666666666,\"#ed7953\"],[0.7777777777777778,\"#fb9f3a\"],[0.8888888888888888,\"#fdca26\"],[1.0,\"#f0f921\"]]}],\"surface\":[{\"type\":\"surface\",\"colorbar\":{\"outlinewidth\":0,\"ticks\":\"\"},\"colorscale\":[[0.0,\"#0d0887\"],[0.1111111111111111,\"#46039f\"],[0.2222222222222222,\"#7201a8\"],[0.3333333333333333,\"#9c179e\"],[0.4444444444444444,\"#bd3786\"],[0.5555555555555556,\"#d8576b\"],[0.6666666666666666,\"#ed7953\"],[0.7777777777777778,\"#fb9f3a\"],[0.8888888888888888,\"#fdca26\"],[1.0,\"#f0f921\"]]}],\"mesh3d\":[{\"type\":\"mesh3d\",\"colorbar\":{\"outlinewidth\":0,\"ticks\":\"\"}}],\"scatter\":[{\"fillpattern\":{\"fillmode\":\"overlay\",\"size\":10,\"solidity\":0.2},\"type\":\"scatter\"}],\"parcoords\":[{\"type\":\"parcoords\",\"line\":{\"colorbar\":{\"outlinewidth\":0,\"ticks\":\"\"}}}],\"scatterpolargl\":[{\"type\":\"scatterpolargl\",\"marker\":{\"colorbar\":{\"outlinewidth\":0,\"ticks\":\"\"}}}],\"bar\":[{\"error_x\":{\"color\":\"#2a3f5f\"},\"error_y\":{\"color\":\"#2a3f5f\"},\"marker\":{\"line\":{\"color\":\"#E5ECF6\",\"width\":0.5},\"pattern\":{\"fillmode\":\"overlay\",\"size\":10,\"solidity\":0.2}},\"type\":\"bar\"}],\"scattergeo\":[{\"type\":\"scattergeo\",\"marker\":{\"colorbar\":{\"outlinewidth\":0,\"ticks\":\"\"}}}],\"scatterpolar\":[{\"type\":\"scatterpolar\",\"marker\":{\"colorbar\":{\"outlinewidth\":0,\"ticks\":\"\"}}}],\"histogram\":[{\"marker\":{\"pattern\":{\"fillmode\":\"overlay\",\"size\":10,\"solidity\":0.2}},\"type\":\"histogram\"}],\"scattergl\":[{\"type\":\"scattergl\",\"marker\":{\"colorbar\":{\"outlinewidth\":0,\"ticks\":\"\"}}}],\"scatter3d\":[{\"type\":\"scatter3d\",\"line\":{\"colorbar\":{\"outlinewidth\":0,\"ticks\":\"\"}},\"marker\":{\"colorbar\":{\"outlinewidth\":0,\"ticks\":\"\"}}}],\"scattermapbox\":[{\"type\":\"scattermapbox\",\"marker\":{\"colorbar\":{\"outlinewidth\":0,\"ticks\":\"\"}}}],\"scatterternary\":[{\"type\":\"scatterternary\",\"marker\":{\"colorbar\":{\"outlinewidth\":0,\"ticks\":\"\"}}}],\"scattercarpet\":[{\"type\":\"scattercarpet\",\"marker\":{\"colorbar\":{\"outlinewidth\":0,\"ticks\":\"\"}}}],\"carpet\":[{\"aaxis\":{\"endlinecolor\":\"#2a3f5f\",\"gridcolor\":\"white\",\"linecolor\":\"white\",\"minorgridcolor\":\"white\",\"startlinecolor\":\"#2a3f5f\"},\"baxis\":{\"endlinecolor\":\"#2a3f5f\",\"gridcolor\":\"white\",\"linecolor\":\"white\",\"minorgridcolor\":\"white\",\"startlinecolor\":\"#2a3f5f\"},\"type\":\"carpet\"}],\"table\":[{\"cells\":{\"fill\":{\"color\":\"#EBF0F8\"},\"line\":{\"color\":\"white\"}},\"header\":{\"fill\":{\"color\":\"#C8D4E3\"},\"line\":{\"color\":\"white\"}},\"type\":\"table\"}],\"barpolar\":[{\"marker\":{\"line\":{\"color\":\"#E5ECF6\",\"width\":0.5},\"pattern\":{\"fillmode\":\"overlay\",\"size\":10,\"solidity\":0.2}},\"type\":\"barpolar\"}],\"pie\":[{\"automargin\":true,\"type\":\"pie\"}]},\"layout\":{\"autotypenumbers\":\"strict\",\"colorway\":[\"#636efa\",\"#EF553B\",\"#00cc96\",\"#ab63fa\",\"#FFA15A\",\"#19d3f3\",\"#FF6692\",\"#B6E880\",\"#FF97FF\",\"#FECB52\"],\"font\":{\"color\":\"#2a3f5f\"},\"hovermode\":\"closest\",\"hoverlabel\":{\"align\":\"left\"},\"paper_bgcolor\":\"white\",\"plot_bgcolor\":\"#E5ECF6\",\"polar\":{\"bgcolor\":\"#E5ECF6\",\"angularaxis\":{\"gridcolor\":\"white\",\"linecolor\":\"white\",\"ticks\":\"\"},\"radialaxis\":{\"gridcolor\":\"white\",\"linecolor\":\"white\",\"ticks\":\"\"}},\"ternary\":{\"bgcolor\":\"#E5ECF6\",\"aaxis\":{\"gridcolor\":\"white\",\"linecolor\":\"white\",\"ticks\":\"\"},\"baxis\":{\"gridcolor\":\"white\",\"linecolor\":\"white\",\"ticks\":\"\"},\"caxis\":{\"gridcolor\":\"white\",\"linecolor\":\"white\",\"ticks\":\"\"}},\"coloraxis\":{\"colorbar\":{\"outlinewidth\":0,\"ticks\":\"\"}},\"colorscale\":{\"sequential\":[[0.0,\"#0d0887\"],[0.1111111111111111,\"#46039f\"],[0.2222222222222222,\"#7201a8\"],[0.3333333333333333,\"#9c179e\"],[0.4444444444444444,\"#bd3786\"],[0.5555555555555556,\"#d8576b\"],[0.6666666666666666,\"#ed7953\"],[0.7777777777777778,\"#fb9f3a\"],[0.8888888888888888,\"#fdca26\"],[1.0,\"#f0f921\"]],\"sequentialminus\":[[0.0,\"#0d0887\"],[0.1111111111111111,\"#46039f\"],[0.2222222222222222,\"#7201a8\"],[0.3333333333333333,\"#9c179e\"],[0.4444444444444444,\"#bd3786\"],[0.5555555555555556,\"#d8576b\"],[0.6666666666666666,\"#ed7953\"],[0.7777777777777778,\"#fb9f3a\"],[0.8888888888888888,\"#fdca26\"],[1.0,\"#f0f921\"]],\"diverging\":[[0,\"#8e0152\"],[0.1,\"#c51b7d\"],[0.2,\"#de77ae\"],[0.3,\"#f1b6da\"],[0.4,\"#fde0ef\"],[0.5,\"#f7f7f7\"],[0.6,\"#e6f5d0\"],[0.7,\"#b8e186\"],[0.8,\"#7fbc41\"],[0.9,\"#4d9221\"],[1,\"#276419\"]]},\"xaxis\":{\"gridcolor\":\"white\",\"linecolor\":\"white\",\"ticks\":\"\",\"title\":{\"standoff\":15},\"zerolinecolor\":\"white\",\"automargin\":true,\"zerolinewidth\":2},\"yaxis\":{\"gridcolor\":\"white\",\"linecolor\":\"white\",\"ticks\":\"\",\"title\":{\"standoff\":15},\"zerolinecolor\":\"white\",\"automargin\":true,\"zerolinewidth\":2},\"scene\":{\"xaxis\":{\"backgroundcolor\":\"#E5ECF6\",\"gridcolor\":\"white\",\"linecolor\":\"white\",\"showbackground\":true,\"ticks\":\"\",\"zerolinecolor\":\"white\",\"gridwidth\":2},\"yaxis\":{\"backgroundcolor\":\"#E5ECF6\",\"gridcolor\":\"white\",\"linecolor\":\"white\",\"showbackground\":true,\"ticks\":\"\",\"zerolinecolor\":\"white\",\"gridwidth\":2},\"zaxis\":{\"backgroundcolor\":\"#E5ECF6\",\"gridcolor\":\"white\",\"linecolor\":\"white\",\"showbackground\":true,\"ticks\":\"\",\"zerolinecolor\":\"white\",\"gridwidth\":2}},\"shapedefaults\":{\"line\":{\"color\":\"#2a3f5f\"}},\"annotationdefaults\":{\"arrowcolor\":\"#2a3f5f\",\"arrowhead\":0,\"arrowwidth\":1},\"geo\":{\"bgcolor\":\"white\",\"landcolor\":\"#E5ECF6\",\"subunitcolor\":\"white\",\"showland\":true,\"showlakes\":true,\"lakecolor\":\"white\"},\"title\":{\"x\":0.05},\"mapbox\":{\"style\":\"light\"}}},\"scene\":{\"xaxis\":{\"nticks\":4,\"range\":[0,10]},\"yaxis\":{\"nticks\":4,\"range\":[0,10]},\"zaxis\":{\"nticks\":4,\"range\":[0,10]}},\"margin\":{\"r\":20,\"l\":10,\"b\":10,\"t\":10},\"width\":700},                        {\"responsive\": true}                    ).then(function(){\n",
       "                            \n",
       "var gd = document.getElementById('12fc8cbc-64ff-46d9-b870-3ea818ab24d7');\n",
       "var x = new MutationObserver(function (mutations, observer) {{\n",
       "        var display = window.getComputedStyle(gd).display;\n",
       "        if (!display || display === 'none') {{\n",
       "            console.log([gd, 'removed!']);\n",
       "            Plotly.purge(gd);\n",
       "            observer.disconnect();\n",
       "        }}\n",
       "}});\n",
       "\n",
       "// Listen for the removal of the full notebook cells\n",
       "var notebookContainer = gd.closest('#notebook-container');\n",
       "if (notebookContainer) {{\n",
       "    x.observe(notebookContainer, {childList: true});\n",
       "}}\n",
       "\n",
       "// Listen for the clearing of the current output cell\n",
       "var outputEl = gd.closest('.output');\n",
       "if (outputEl) {{\n",
       "    x.observe(outputEl, {childList: true});\n",
       "}}\n",
       "\n",
       "                        })                };                });            </script>        </div>"
      ]
     },
     "metadata": {},
     "output_type": "display_data"
    }
   ],
   "source": [
    "def add_3d_line(fig, coordinates: np.array):\n",
    "    fig.add_trace(\n",
    "        go.Scatter3d(\n",
    "            x=coordinates[0],\n",
    "            y=coordinates[1],\n",
    "            z=coordinates[2],\n",
    "            marker={\n",
    "                \"size\": 4,\n",
    "                \"color\": [0, 1],\n",
    "                \"colorscale\": \"Bluyl\"\n",
    "            }\n",
    "))\n",
    "                \n",
    "\n",
    "fig = go.Figure()\n",
    "\n",
    "for points in transformed_points:\n",
    "    add_3d_line(fig, points)\n",
    "\n",
    "add_mesh_3d(fig, np.transpose(tree_alpha.data))\n",
    "\n",
    "\n",
    "for i in range(0, len(tree_beta.data), 8):\n",
    "    print(i)\n",
    "    add_mesh_3d(fig, np.transpose(tree_beta.data[i:i + 8]))\n",
    "\n",
    "fig.update_layout(\n",
    "    scene = {\n",
    "        \"xaxis\": {\n",
    "            \"nticks\": 4, \n",
    "            \"range\": [0,10],\n",
    "        },\n",
    "        \"yaxis\": {\n",
    "            \"nticks\": 4, \n",
    "            \"range\": [0, 10],\n",
    "        },\n",
    "        \"zaxis\": {\n",
    "            \"nticks\": 4, \n",
    "            \"range\": [0,10],\n",
    "        },\n",
    "    },\n",
    "    width=700,\n",
    "    margin=dict(r=20, l=10, b=10, t=10))\n",
    "\n",
    "fig.show()"
   ]
  },
  {
   "cell_type": "code",
   "execution_count": 149,
   "id": "735eaa5c-fe96-41e8-8f29-9e2c5e4471a9",
   "metadata": {},
   "outputs": [
    {
     "data": {
      "application/vnd.plotly.v1+json": {
       "config": {
        "plotlyServerURL": "https://plot.ly"
       },
       "data": [
        {
         "colorbar": {
          "title": {
           "text": "z"
          }
         },
         "colorscale": [
          [
           0,
           "gold"
          ],
          [
           0.5,
           "mediumturquoise"
          ],
          [
           1,
           "magenta"
          ]
         ],
         "flatshading": true,
         "i": [
          7,
          0,
          0,
          0,
          4,
          4,
          6,
          6,
          4,
          0,
          3,
          2
         ],
         "intensity": [
          0,
          0.14285714285714285,
          0.2857142857142857,
          0.42857142857142855,
          0.5714285714285714,
          0.7142857142857142,
          0.8571428571428571,
          1
         ],
         "j": [
          3,
          4,
          1,
          2,
          5,
          6,
          5,
          2,
          0,
          1,
          6,
          3
         ],
         "k": [
          0,
          7,
          2,
          3,
          6,
          7,
          1,
          1,
          5,
          5,
          7,
          6
         ],
         "name": "y",
         "type": "mesh3d",
         "x": [
          6,
          6,
          0,
          0,
          6,
          6,
          0,
          0
         ],
         "y": [
          2,
          7,
          7,
          2,
          2,
          7,
          7,
          2
         ],
         "z": [
          8,
          8,
          8,
          8,
          1,
          1,
          1,
          1
         ]
        },
        {
         "colorbar": {
          "title": {
           "text": "z"
          }
         },
         "colorscale": [
          [
           0,
           "gold"
          ],
          [
           0.5,
           "mediumturquoise"
          ],
          [
           1,
           "magenta"
          ]
         ],
         "flatshading": true,
         "i": [
          7,
          0,
          0,
          0,
          4,
          4,
          6,
          6,
          4,
          0,
          3,
          2
         ],
         "intensity": [
          0,
          0.14285714285714285,
          0.2857142857142857,
          0.42857142857142855,
          0.5714285714285714,
          0.7142857142857142,
          0.8571428571428571,
          1
         ],
         "j": [
          3,
          4,
          1,
          2,
          5,
          6,
          5,
          2,
          0,
          1,
          6,
          3
         ],
         "k": [
          0,
          7,
          2,
          3,
          6,
          7,
          1,
          1,
          5,
          5,
          7,
          6
         ],
         "name": "y",
         "type": "mesh3d",
         "x": [
          4,
          4,
          7,
          7,
          4,
          4,
          7,
          7
         ],
         "y": [
          2,
          6,
          6,
          2,
          2,
          6,
          6,
          2
         ],
         "z": [
          6,
          6,
          6,
          6,
          3,
          3,
          3,
          3
         ]
        },
        {
         "colorbar": {
          "title": {
           "text": "z"
          }
         },
         "colorscale": [
          [
           0,
           "gold"
          ],
          [
           0.5,
           "mediumturquoise"
          ],
          [
           1,
           "magenta"
          ]
         ],
         "flatshading": true,
         "i": [
          7,
          0,
          0,
          0,
          4,
          4,
          6,
          6,
          4,
          0,
          3,
          2
         ],
         "intensity": [
          0,
          0.14285714285714285,
          0.2857142857142857,
          0.42857142857142855,
          0.5714285714285714,
          0.7142857142857142,
          0.8571428571428571,
          1
         ],
         "j": [
          3,
          4,
          1,
          2,
          5,
          6,
          5,
          2,
          0,
          1,
          6,
          3
         ],
         "k": [
          0,
          7,
          2,
          3,
          6,
          7,
          1,
          1,
          5,
          5,
          7,
          6
         ],
         "name": "y",
         "type": "mesh3d",
         "x": [
          2,
          2,
          9,
          9,
          2,
          2,
          9,
          9
         ],
         "y": [
          4,
          6,
          6,
          4,
          4,
          6,
          6,
          4
         ],
         "z": [
          6,
          6,
          6,
          6,
          1,
          1,
          1,
          1
         ]
        },
        {
         "colorbar": {
          "title": {
           "text": "z"
          }
         },
         "colorscale": [
          [
           0,
           "gold"
          ],
          [
           0.5,
           "mediumturquoise"
          ],
          [
           1,
           "magenta"
          ]
         ],
         "flatshading": true,
         "i": [
          7,
          0,
          0,
          0,
          4,
          4,
          6,
          6,
          4,
          0,
          3,
          2
         ],
         "intensity": [
          0,
          0.14285714285714285,
          0.2857142857142857,
          0.42857142857142855,
          0.5714285714285714,
          0.7142857142857142,
          0.8571428571428571,
          1
         ],
         "j": [
          3,
          4,
          1,
          2,
          5,
          6,
          5,
          2,
          0,
          1,
          6,
          3
         ],
         "k": [
          0,
          7,
          2,
          3,
          6,
          7,
          1,
          1,
          5,
          5,
          7,
          6
         ],
         "name": "y",
         "type": "mesh3d",
         "x": [
          1,
          1,
          5,
          5,
          1,
          1,
          5,
          5
         ],
         "y": [
          0,
          4,
          4,
          0,
          0,
          4,
          4,
          0
         ],
         "z": [
          8,
          8,
          8,
          8,
          6,
          6,
          6,
          6
         ]
        },
        {
         "colorbar": {
          "title": {
           "text": "z"
          }
         },
         "colorscale": [
          [
           0,
           "gold"
          ],
          [
           0.5,
           "mediumturquoise"
          ],
          [
           1,
           "magenta"
          ]
         ],
         "flatshading": true,
         "i": [
          7,
          0,
          0,
          0,
          4,
          4,
          6,
          6,
          4,
          0,
          3,
          2
         ],
         "intensity": [
          0,
          0.14285714285714285,
          0.2857142857142857,
          0.42857142857142855,
          0.5714285714285714,
          0.7142857142857142,
          0.8571428571428571,
          1
         ],
         "j": [
          3,
          4,
          1,
          2,
          5,
          6,
          5,
          2,
          0,
          1,
          6,
          3
         ],
         "k": [
          0,
          7,
          2,
          3,
          6,
          7,
          1,
          1,
          5,
          5,
          7,
          6
         ],
         "name": "y",
         "type": "mesh3d",
         "x": [
          3,
          3,
          2,
          2,
          3,
          3,
          2,
          2
         ],
         "y": [
          7,
          5,
          5,
          7,
          7,
          5,
          5,
          7
         ],
         "z": [
          9,
          9,
          9,
          9,
          4,
          4,
          4,
          4
         ]
        }
       ],
       "layout": {
        "autosize": true,
        "margin": {
         "b": 10,
         "l": 10,
         "r": 20,
         "t": 10
        },
        "scene": {
         "aspectmode": "auto",
         "aspectratio": {
          "x": 1.130921161693731,
          "y": 0.8796053479840129,
          "z": 1.0052632548388718
         },
         "camera": {
          "center": {
           "x": 0,
           "y": 0,
           "z": 0
          },
          "eye": {
           "x": 0.8468549278037204,
           "y": -0.9205948687229664,
           "z": 0.7063937660389006
          },
          "projection": {
           "type": "perspective"
          },
          "up": {
           "x": 0,
           "y": 0,
           "z": 1
          }
         },
         "xaxis": {
          "nticks": 4,
          "range": [
           0,
           10
          ],
          "type": "linear"
         },
         "yaxis": {
          "nticks": 4,
          "range": [
           0,
           10
          ],
          "type": "linear"
         },
         "zaxis": {
          "nticks": 4,
          "range": [
           0,
           10
          ],
          "type": "linear"
         }
        },
        "template": {
         "data": {
          "bar": [
           {
            "error_x": {
             "color": "#2a3f5f"
            },
            "error_y": {
             "color": "#2a3f5f"
            },
            "marker": {
             "line": {
              "color": "#E5ECF6",
              "width": 0.5
             },
             "pattern": {
              "fillmode": "overlay",
              "size": 10,
              "solidity": 0.2
             }
            },
            "type": "bar"
           }
          ],
          "barpolar": [
           {
            "marker": {
             "line": {
              "color": "#E5ECF6",
              "width": 0.5
             },
             "pattern": {
              "fillmode": "overlay",
              "size": 10,
              "solidity": 0.2
             }
            },
            "type": "barpolar"
           }
          ],
          "carpet": [
           {
            "aaxis": {
             "endlinecolor": "#2a3f5f",
             "gridcolor": "white",
             "linecolor": "white",
             "minorgridcolor": "white",
             "startlinecolor": "#2a3f5f"
            },
            "baxis": {
             "endlinecolor": "#2a3f5f",
             "gridcolor": "white",
             "linecolor": "white",
             "minorgridcolor": "white",
             "startlinecolor": "#2a3f5f"
            },
            "type": "carpet"
           }
          ],
          "choropleth": [
           {
            "colorbar": {
             "outlinewidth": 0,
             "ticks": ""
            },
            "type": "choropleth"
           }
          ],
          "contour": [
           {
            "colorbar": {
             "outlinewidth": 0,
             "ticks": ""
            },
            "colorscale": [
             [
              0,
              "#0d0887"
             ],
             [
              0.1111111111111111,
              "#46039f"
             ],
             [
              0.2222222222222222,
              "#7201a8"
             ],
             [
              0.3333333333333333,
              "#9c179e"
             ],
             [
              0.4444444444444444,
              "#bd3786"
             ],
             [
              0.5555555555555556,
              "#d8576b"
             ],
             [
              0.6666666666666666,
              "#ed7953"
             ],
             [
              0.7777777777777778,
              "#fb9f3a"
             ],
             [
              0.8888888888888888,
              "#fdca26"
             ],
             [
              1,
              "#f0f921"
             ]
            ],
            "type": "contour"
           }
          ],
          "contourcarpet": [
           {
            "colorbar": {
             "outlinewidth": 0,
             "ticks": ""
            },
            "type": "contourcarpet"
           }
          ],
          "heatmap": [
           {
            "colorbar": {
             "outlinewidth": 0,
             "ticks": ""
            },
            "colorscale": [
             [
              0,
              "#0d0887"
             ],
             [
              0.1111111111111111,
              "#46039f"
             ],
             [
              0.2222222222222222,
              "#7201a8"
             ],
             [
              0.3333333333333333,
              "#9c179e"
             ],
             [
              0.4444444444444444,
              "#bd3786"
             ],
             [
              0.5555555555555556,
              "#d8576b"
             ],
             [
              0.6666666666666666,
              "#ed7953"
             ],
             [
              0.7777777777777778,
              "#fb9f3a"
             ],
             [
              0.8888888888888888,
              "#fdca26"
             ],
             [
              1,
              "#f0f921"
             ]
            ],
            "type": "heatmap"
           }
          ],
          "heatmapgl": [
           {
            "colorbar": {
             "outlinewidth": 0,
             "ticks": ""
            },
            "colorscale": [
             [
              0,
              "#0d0887"
             ],
             [
              0.1111111111111111,
              "#46039f"
             ],
             [
              0.2222222222222222,
              "#7201a8"
             ],
             [
              0.3333333333333333,
              "#9c179e"
             ],
             [
              0.4444444444444444,
              "#bd3786"
             ],
             [
              0.5555555555555556,
              "#d8576b"
             ],
             [
              0.6666666666666666,
              "#ed7953"
             ],
             [
              0.7777777777777778,
              "#fb9f3a"
             ],
             [
              0.8888888888888888,
              "#fdca26"
             ],
             [
              1,
              "#f0f921"
             ]
            ],
            "type": "heatmapgl"
           }
          ],
          "histogram": [
           {
            "marker": {
             "pattern": {
              "fillmode": "overlay",
              "size": 10,
              "solidity": 0.2
             }
            },
            "type": "histogram"
           }
          ],
          "histogram2d": [
           {
            "colorbar": {
             "outlinewidth": 0,
             "ticks": ""
            },
            "colorscale": [
             [
              0,
              "#0d0887"
             ],
             [
              0.1111111111111111,
              "#46039f"
             ],
             [
              0.2222222222222222,
              "#7201a8"
             ],
             [
              0.3333333333333333,
              "#9c179e"
             ],
             [
              0.4444444444444444,
              "#bd3786"
             ],
             [
              0.5555555555555556,
              "#d8576b"
             ],
             [
              0.6666666666666666,
              "#ed7953"
             ],
             [
              0.7777777777777778,
              "#fb9f3a"
             ],
             [
              0.8888888888888888,
              "#fdca26"
             ],
             [
              1,
              "#f0f921"
             ]
            ],
            "type": "histogram2d"
           }
          ],
          "histogram2dcontour": [
           {
            "colorbar": {
             "outlinewidth": 0,
             "ticks": ""
            },
            "colorscale": [
             [
              0,
              "#0d0887"
             ],
             [
              0.1111111111111111,
              "#46039f"
             ],
             [
              0.2222222222222222,
              "#7201a8"
             ],
             [
              0.3333333333333333,
              "#9c179e"
             ],
             [
              0.4444444444444444,
              "#bd3786"
             ],
             [
              0.5555555555555556,
              "#d8576b"
             ],
             [
              0.6666666666666666,
              "#ed7953"
             ],
             [
              0.7777777777777778,
              "#fb9f3a"
             ],
             [
              0.8888888888888888,
              "#fdca26"
             ],
             [
              1,
              "#f0f921"
             ]
            ],
            "type": "histogram2dcontour"
           }
          ],
          "mesh3d": [
           {
            "colorbar": {
             "outlinewidth": 0,
             "ticks": ""
            },
            "type": "mesh3d"
           }
          ],
          "parcoords": [
           {
            "line": {
             "colorbar": {
              "outlinewidth": 0,
              "ticks": ""
             }
            },
            "type": "parcoords"
           }
          ],
          "pie": [
           {
            "automargin": true,
            "type": "pie"
           }
          ],
          "scatter": [
           {
            "fillpattern": {
             "fillmode": "overlay",
             "size": 10,
             "solidity": 0.2
            },
            "type": "scatter"
           }
          ],
          "scatter3d": [
           {
            "line": {
             "colorbar": {
              "outlinewidth": 0,
              "ticks": ""
             }
            },
            "marker": {
             "colorbar": {
              "outlinewidth": 0,
              "ticks": ""
             }
            },
            "type": "scatter3d"
           }
          ],
          "scattercarpet": [
           {
            "marker": {
             "colorbar": {
              "outlinewidth": 0,
              "ticks": ""
             }
            },
            "type": "scattercarpet"
           }
          ],
          "scattergeo": [
           {
            "marker": {
             "colorbar": {
              "outlinewidth": 0,
              "ticks": ""
             }
            },
            "type": "scattergeo"
           }
          ],
          "scattergl": [
           {
            "marker": {
             "colorbar": {
              "outlinewidth": 0,
              "ticks": ""
             }
            },
            "type": "scattergl"
           }
          ],
          "scattermapbox": [
           {
            "marker": {
             "colorbar": {
              "outlinewidth": 0,
              "ticks": ""
             }
            },
            "type": "scattermapbox"
           }
          ],
          "scatterpolar": [
           {
            "marker": {
             "colorbar": {
              "outlinewidth": 0,
              "ticks": ""
             }
            },
            "type": "scatterpolar"
           }
          ],
          "scatterpolargl": [
           {
            "marker": {
             "colorbar": {
              "outlinewidth": 0,
              "ticks": ""
             }
            },
            "type": "scatterpolargl"
           }
          ],
          "scatterternary": [
           {
            "marker": {
             "colorbar": {
              "outlinewidth": 0,
              "ticks": ""
             }
            },
            "type": "scatterternary"
           }
          ],
          "surface": [
           {
            "colorbar": {
             "outlinewidth": 0,
             "ticks": ""
            },
            "colorscale": [
             [
              0,
              "#0d0887"
             ],
             [
              0.1111111111111111,
              "#46039f"
             ],
             [
              0.2222222222222222,
              "#7201a8"
             ],
             [
              0.3333333333333333,
              "#9c179e"
             ],
             [
              0.4444444444444444,
              "#bd3786"
             ],
             [
              0.5555555555555556,
              "#d8576b"
             ],
             [
              0.6666666666666666,
              "#ed7953"
             ],
             [
              0.7777777777777778,
              "#fb9f3a"
             ],
             [
              0.8888888888888888,
              "#fdca26"
             ],
             [
              1,
              "#f0f921"
             ]
            ],
            "type": "surface"
           }
          ],
          "table": [
           {
            "cells": {
             "fill": {
              "color": "#EBF0F8"
             },
             "line": {
              "color": "white"
             }
            },
            "header": {
             "fill": {
              "color": "#C8D4E3"
             },
             "line": {
              "color": "white"
             }
            },
            "type": "table"
           }
          ]
         },
         "layout": {
          "annotationdefaults": {
           "arrowcolor": "#2a3f5f",
           "arrowhead": 0,
           "arrowwidth": 1
          },
          "autotypenumbers": "strict",
          "coloraxis": {
           "colorbar": {
            "outlinewidth": 0,
            "ticks": ""
           }
          },
          "colorscale": {
           "diverging": [
            [
             0,
             "#8e0152"
            ],
            [
             0.1,
             "#c51b7d"
            ],
            [
             0.2,
             "#de77ae"
            ],
            [
             0.3,
             "#f1b6da"
            ],
            [
             0.4,
             "#fde0ef"
            ],
            [
             0.5,
             "#f7f7f7"
            ],
            [
             0.6,
             "#e6f5d0"
            ],
            [
             0.7,
             "#b8e186"
            ],
            [
             0.8,
             "#7fbc41"
            ],
            [
             0.9,
             "#4d9221"
            ],
            [
             1,
             "#276419"
            ]
           ],
           "sequential": [
            [
             0,
             "#0d0887"
            ],
            [
             0.1111111111111111,
             "#46039f"
            ],
            [
             0.2222222222222222,
             "#7201a8"
            ],
            [
             0.3333333333333333,
             "#9c179e"
            ],
            [
             0.4444444444444444,
             "#bd3786"
            ],
            [
             0.5555555555555556,
             "#d8576b"
            ],
            [
             0.6666666666666666,
             "#ed7953"
            ],
            [
             0.7777777777777778,
             "#fb9f3a"
            ],
            [
             0.8888888888888888,
             "#fdca26"
            ],
            [
             1,
             "#f0f921"
            ]
           ],
           "sequentialminus": [
            [
             0,
             "#0d0887"
            ],
            [
             0.1111111111111111,
             "#46039f"
            ],
            [
             0.2222222222222222,
             "#7201a8"
            ],
            [
             0.3333333333333333,
             "#9c179e"
            ],
            [
             0.4444444444444444,
             "#bd3786"
            ],
            [
             0.5555555555555556,
             "#d8576b"
            ],
            [
             0.6666666666666666,
             "#ed7953"
            ],
            [
             0.7777777777777778,
             "#fb9f3a"
            ],
            [
             0.8888888888888888,
             "#fdca26"
            ],
            [
             1,
             "#f0f921"
            ]
           ]
          },
          "colorway": [
           "#636efa",
           "#EF553B",
           "#00cc96",
           "#ab63fa",
           "#FFA15A",
           "#19d3f3",
           "#FF6692",
           "#B6E880",
           "#FF97FF",
           "#FECB52"
          ],
          "font": {
           "color": "#2a3f5f"
          },
          "geo": {
           "bgcolor": "white",
           "lakecolor": "white",
           "landcolor": "#E5ECF6",
           "showlakes": true,
           "showland": true,
           "subunitcolor": "white"
          },
          "hoverlabel": {
           "align": "left"
          },
          "hovermode": "closest",
          "mapbox": {
           "style": "light"
          },
          "paper_bgcolor": "white",
          "plot_bgcolor": "#E5ECF6",
          "polar": {
           "angularaxis": {
            "gridcolor": "white",
            "linecolor": "white",
            "ticks": ""
           },
           "bgcolor": "#E5ECF6",
           "radialaxis": {
            "gridcolor": "white",
            "linecolor": "white",
            "ticks": ""
           }
          },
          "scene": {
           "xaxis": {
            "backgroundcolor": "#E5ECF6",
            "gridcolor": "white",
            "gridwidth": 2,
            "linecolor": "white",
            "showbackground": true,
            "ticks": "",
            "zerolinecolor": "white"
           },
           "yaxis": {
            "backgroundcolor": "#E5ECF6",
            "gridcolor": "white",
            "gridwidth": 2,
            "linecolor": "white",
            "showbackground": true,
            "ticks": "",
            "zerolinecolor": "white"
           },
           "zaxis": {
            "backgroundcolor": "#E5ECF6",
            "gridcolor": "white",
            "gridwidth": 2,
            "linecolor": "white",
            "showbackground": true,
            "ticks": "",
            "zerolinecolor": "white"
           }
          },
          "shapedefaults": {
           "line": {
            "color": "#2a3f5f"
           }
          },
          "ternary": {
           "aaxis": {
            "gridcolor": "white",
            "linecolor": "white",
            "ticks": ""
           },
           "baxis": {
            "gridcolor": "white",
            "linecolor": "white",
            "ticks": ""
           },
           "bgcolor": "#E5ECF6",
           "caxis": {
            "gridcolor": "white",
            "linecolor": "white",
            "ticks": ""
           }
          },
          "title": {
           "x": 0.05
          },
          "xaxis": {
           "automargin": true,
           "gridcolor": "white",
           "linecolor": "white",
           "ticks": "",
           "title": {
            "standoff": 15
           },
           "zerolinecolor": "white",
           "zerolinewidth": 2
          },
          "yaxis": {
           "automargin": true,
           "gridcolor": "white",
           "linecolor": "white",
           "ticks": "",
           "title": {
            "standoff": 15
           },
           "zerolinecolor": "white",
           "zerolinewidth": 2
          }
         }
        }
       }
      },
      "image/png": "[encoded data removed]",
      "text/html": [
       "<div>                            <div id=\"0c1e3739-516e-4410-a848-8457fde18c15\" class=\"plotly-graph-div\" style=\"height:525px; width:700px;\"></div>            <script type=\"text/javascript\">                require([\"plotly\"], function(Plotly) {                    window.PLOTLYENV=window.PLOTLYENV || {};                                    if (document.getElementById(\"0c1e3739-516e-4410-a848-8457fde18c15\")) {                    Plotly.newPlot(                        \"0c1e3739-516e-4410-a848-8457fde18c15\",                        [{\"colorbar\":{\"title\":{\"text\":\"z\"}},\"colorscale\":[[0,\"gold\"],[0.5,\"mediumturquoise\"],[1,\"magenta\"]],\"flatshading\":true,\"i\":[7,0,0,0,4,4,6,6,4,0,3,2],\"intensity\":[0.0,0.14285714285714285,0.2857142857142857,0.42857142857142855,0.5714285714285714,0.7142857142857142,0.8571428571428571,1.0],\"j\":[3,4,1,2,5,6,5,2,0,1,6,3],\"k\":[0,7,2,3,6,7,1,1,5,5,7,6],\"name\":\"y\",\"x\":[6,6,0,0,6,6,0,0],\"y\":[2,7,7,2,2,7,7,2],\"z\":[8,8,8,8,1,1,1,1],\"type\":\"mesh3d\"},{\"colorbar\":{\"title\":{\"text\":\"z\"}},\"colorscale\":[[0,\"gold\"],[0.5,\"mediumturquoise\"],[1,\"magenta\"]],\"flatshading\":true,\"i\":[7,0,0,0,4,4,6,6,4,0,3,2],\"intensity\":[0.0,0.14285714285714285,0.2857142857142857,0.42857142857142855,0.5714285714285714,0.7142857142857142,0.8571428571428571,1.0],\"j\":[3,4,1,2,5,6,5,2,0,1,6,3],\"k\":[0,7,2,3,6,7,1,1,5,5,7,6],\"name\":\"y\",\"x\":[4,4,7,7,4,4,7,7],\"y\":[2,6,6,2,2,6,6,2],\"z\":[6,6,6,6,3,3,3,3],\"type\":\"mesh3d\"},{\"colorbar\":{\"title\":{\"text\":\"z\"}},\"colorscale\":[[0,\"gold\"],[0.5,\"mediumturquoise\"],[1,\"magenta\"]],\"flatshading\":true,\"i\":[7,0,0,0,4,4,6,6,4,0,3,2],\"intensity\":[0.0,0.14285714285714285,0.2857142857142857,0.42857142857142855,0.5714285714285714,0.7142857142857142,0.8571428571428571,1.0],\"j\":[3,4,1,2,5,6,5,2,0,1,6,3],\"k\":[0,7,2,3,6,7,1,1,5,5,7,6],\"name\":\"y\",\"x\":[2,2,9,9,2,2,9,9],\"y\":[4,6,6,4,4,6,6,4],\"z\":[6,6,6,6,1,1,1,1],\"type\":\"mesh3d\"},{\"colorbar\":{\"title\":{\"text\":\"z\"}},\"colorscale\":[[0,\"gold\"],[0.5,\"mediumturquoise\"],[1,\"magenta\"]],\"flatshading\":true,\"i\":[7,0,0,0,4,4,6,6,4,0,3,2],\"intensity\":[0.0,0.14285714285714285,0.2857142857142857,0.42857142857142855,0.5714285714285714,0.7142857142857142,0.8571428571428571,1.0],\"j\":[3,4,1,2,5,6,5,2,0,1,6,3],\"k\":[0,7,2,3,6,7,1,1,5,5,7,6],\"name\":\"y\",\"x\":[1,1,5,5,1,1,5,5],\"y\":[0,4,4,0,0,4,4,0],\"z\":[8,8,8,8,6,6,6,6],\"type\":\"mesh3d\"},{\"colorbar\":{\"title\":{\"text\":\"z\"}},\"colorscale\":[[0,\"gold\"],[0.5,\"mediumturquoise\"],[1,\"magenta\"]],\"flatshading\":true,\"i\":[7,0,0,0,4,4,6,6,4,0,3,2],\"intensity\":[0.0,0.14285714285714285,0.2857142857142857,0.42857142857142855,0.5714285714285714,0.7142857142857142,0.8571428571428571,1.0],\"j\":[3,4,1,2,5,6,5,2,0,1,6,3],\"k\":[0,7,2,3,6,7,1,1,5,5,7,6],\"name\":\"y\",\"x\":[3,3,2,2,3,3,2,2],\"y\":[7,5,5,7,7,5,5,7],\"z\":[9,9,9,9,4,4,4,4],\"type\":\"mesh3d\"}],                        {\"template\":{\"data\":{\"histogram2dcontour\":[{\"type\":\"histogram2dcontour\",\"colorbar\":{\"outlinewidth\":0,\"ticks\":\"\"},\"colorscale\":[[0.0,\"#0d0887\"],[0.1111111111111111,\"#46039f\"],[0.2222222222222222,\"#7201a8\"],[0.3333333333333333,\"#9c179e\"],[0.4444444444444444,\"#bd3786\"],[0.5555555555555556,\"#d8576b\"],[0.6666666666666666,\"#ed7953\"],[0.7777777777777778,\"#fb9f3a\"],[0.8888888888888888,\"#fdca26\"],[1.0,\"#f0f921\"]]}],\"choropleth\":[{\"type\":\"choropleth\",\"colorbar\":{\"outlinewidth\":0,\"ticks\":\"\"}}],\"histogram2d\":[{\"type\":\"histogram2d\",\"colorbar\":{\"outlinewidth\":0,\"ticks\":\"\"},\"colorscale\":[[0.0,\"#0d0887\"],[0.1111111111111111,\"#46039f\"],[0.2222222222222222,\"#7201a8\"],[0.3333333333333333,\"#9c179e\"],[0.4444444444444444,\"#bd3786\"],[0.5555555555555556,\"#d8576b\"],[0.6666666666666666,\"#ed7953\"],[0.7777777777777778,\"#fb9f3a\"],[0.8888888888888888,\"#fdca26\"],[1.0,\"#f0f921\"]]}],\"heatmap\":[{\"type\":\"heatmap\",\"colorbar\":{\"outlinewidth\":0,\"ticks\":\"\"},\"colorscale\":[[0.0,\"#0d0887\"],[0.1111111111111111,\"#46039f\"],[0.2222222222222222,\"#7201a8\"],[0.3333333333333333,\"#9c179e\"],[0.4444444444444444,\"#bd3786\"],[0.5555555555555556,\"#d8576b\"],[0.6666666666666666,\"#ed7953\"],[0.7777777777777778,\"#fb9f3a\"],[0.8888888888888888,\"#fdca26\"],[1.0,\"#f0f921\"]]}],\"heatmapgl\":[{\"type\":\"heatmapgl\",\"colorbar\":{\"outlinewidth\":0,\"ticks\":\"\"},\"colorscale\":[[0.0,\"#0d0887\"],[0.1111111111111111,\"#46039f\"],[0.2222222222222222,\"#7201a8\"],[0.3333333333333333,\"#9c179e\"],[0.4444444444444444,\"#bd3786\"],[0.5555555555555556,\"#d8576b\"],[0.6666666666666666,\"#ed7953\"],[0.7777777777777778,\"#fb9f3a\"],[0.8888888888888888,\"#fdca26\"],[1.0,\"#f0f921\"]]}],\"contourcarpet\":[{\"type\":\"contourcarpet\",\"colorbar\":{\"outlinewidth\":0,\"ticks\":\"\"}}],\"contour\":[{\"type\":\"contour\",\"colorbar\":{\"outlinewidth\":0,\"ticks\":\"\"},\"colorscale\":[[0.0,\"#0d0887\"],[0.1111111111111111,\"#46039f\"],[0.2222222222222222,\"#7201a8\"],[0.3333333333333333,\"#9c179e\"],[0.4444444444444444,\"#bd3786\"],[0.5555555555555556,\"#d8576b\"],[0.6666666666666666,\"#ed7953\"],[0.7777777777777778,\"#fb9f3a\"],[0.8888888888888888,\"#fdca26\"],[1.0,\"#f0f921\"]]}],\"surface\":[{\"type\":\"surface\",\"colorbar\":{\"outlinewidth\":0,\"ticks\":\"\"},\"colorscale\":[[0.0,\"#0d0887\"],[0.1111111111111111,\"#46039f\"],[0.2222222222222222,\"#7201a8\"],[0.3333333333333333,\"#9c179e\"],[0.4444444444444444,\"#bd3786\"],[0.5555555555555556,\"#d8576b\"],[0.6666666666666666,\"#ed7953\"],[0.7777777777777778,\"#fb9f3a\"],[0.8888888888888888,\"#fdca26\"],[1.0,\"#f0f921\"]]}],\"mesh3d\":[{\"type\":\"mesh3d\",\"colorbar\":{\"outlinewidth\":0,\"ticks\":\"\"}}],\"scatter\":[{\"fillpattern\":{\"fillmode\":\"overlay\",\"size\":10,\"solidity\":0.2},\"type\":\"scatter\"}],\"parcoords\":[{\"type\":\"parcoords\",\"line\":{\"colorbar\":{\"outlinewidth\":0,\"ticks\":\"\"}}}],\"scatterpolargl\":[{\"type\":\"scatterpolargl\",\"marker\":{\"colorbar\":{\"outlinewidth\":0,\"ticks\":\"\"}}}],\"bar\":[{\"error_x\":{\"color\":\"#2a3f5f\"},\"error_y\":{\"color\":\"#2a3f5f\"},\"marker\":{\"line\":{\"color\":\"#E5ECF6\",\"width\":0.5},\"pattern\":{\"fillmode\":\"overlay\",\"size\":10,\"solidity\":0.2}},\"type\":\"bar\"}],\"scattergeo\":[{\"type\":\"scattergeo\",\"marker\":{\"colorbar\":{\"outlinewidth\":0,\"ticks\":\"\"}}}],\"scatterpolar\":[{\"type\":\"scatterpolar\",\"marker\":{\"colorbar\":{\"outlinewidth\":0,\"ticks\":\"\"}}}],\"histogram\":[{\"marker\":{\"pattern\":{\"fillmode\":\"overlay\",\"size\":10,\"solidity\":0.2}},\"type\":\"histogram\"}],\"scattergl\":[{\"type\":\"scattergl\",\"marker\":{\"colorbar\":{\"outlinewidth\":0,\"ticks\":\"\"}}}],\"scatter3d\":[{\"type\":\"scatter3d\",\"line\":{\"colorbar\":{\"outlinewidth\":0,\"ticks\":\"\"}},\"marker\":{\"colorbar\":{\"outlinewidth\":0,\"ticks\":\"\"}}}],\"scattermapbox\":[{\"type\":\"scattermapbox\",\"marker\":{\"colorbar\":{\"outlinewidth\":0,\"ticks\":\"\"}}}],\"scatterternary\":[{\"type\":\"scatterternary\",\"marker\":{\"colorbar\":{\"outlinewidth\":0,\"ticks\":\"\"}}}],\"scattercarpet\":[{\"type\":\"scattercarpet\",\"marker\":{\"colorbar\":{\"outlinewidth\":0,\"ticks\":\"\"}}}],\"carpet\":[{\"aaxis\":{\"endlinecolor\":\"#2a3f5f\",\"gridcolor\":\"white\",\"linecolor\":\"white\",\"minorgridcolor\":\"white\",\"startlinecolor\":\"#2a3f5f\"},\"baxis\":{\"endlinecolor\":\"#2a3f5f\",\"gridcolor\":\"white\",\"linecolor\":\"white\",\"minorgridcolor\":\"white\",\"startlinecolor\":\"#2a3f5f\"},\"type\":\"carpet\"}],\"table\":[{\"cells\":{\"fill\":{\"color\":\"#EBF0F8\"},\"line\":{\"color\":\"white\"}},\"header\":{\"fill\":{\"color\":\"#C8D4E3\"},\"line\":{\"color\":\"white\"}},\"type\":\"table\"}],\"barpolar\":[{\"marker\":{\"line\":{\"color\":\"#E5ECF6\",\"width\":0.5},\"pattern\":{\"fillmode\":\"overlay\",\"size\":10,\"solidity\":0.2}},\"type\":\"barpolar\"}],\"pie\":[{\"automargin\":true,\"type\":\"pie\"}]},\"layout\":{\"autotypenumbers\":\"strict\",\"colorway\":[\"#636efa\",\"#EF553B\",\"#00cc96\",\"#ab63fa\",\"#FFA15A\",\"#19d3f3\",\"#FF6692\",\"#B6E880\",\"#FF97FF\",\"#FECB52\"],\"font\":{\"color\":\"#2a3f5f\"},\"hovermode\":\"closest\",\"hoverlabel\":{\"align\":\"left\"},\"paper_bgcolor\":\"white\",\"plot_bgcolor\":\"#E5ECF6\",\"polar\":{\"bgcolor\":\"#E5ECF6\",\"angularaxis\":{\"gridcolor\":\"white\",\"linecolor\":\"white\",\"ticks\":\"\"},\"radialaxis\":{\"gridcolor\":\"white\",\"linecolor\":\"white\",\"ticks\":\"\"}},\"ternary\":{\"bgcolor\":\"#E5ECF6\",\"aaxis\":{\"gridcolor\":\"white\",\"linecolor\":\"white\",\"ticks\":\"\"},\"baxis\":{\"gridcolor\":\"white\",\"linecolor\":\"white\",\"ticks\":\"\"},\"caxis\":{\"gridcolor\":\"white\",\"linecolor\":\"white\",\"ticks\":\"\"}},\"coloraxis\":{\"colorbar\":{\"outlinewidth\":0,\"ticks\":\"\"}},\"colorscale\":{\"sequential\":[[0.0,\"#0d0887\"],[0.1111111111111111,\"#46039f\"],[0.2222222222222222,\"#7201a8\"],[0.3333333333333333,\"#9c179e\"],[0.4444444444444444,\"#bd3786\"],[0.5555555555555556,\"#d8576b\"],[0.6666666666666666,\"#ed7953\"],[0.7777777777777778,\"#fb9f3a\"],[0.8888888888888888,\"#fdca26\"],[1.0,\"#f0f921\"]],\"sequentialminus\":[[0.0,\"#0d0887\"],[0.1111111111111111,\"#46039f\"],[0.2222222222222222,\"#7201a8\"],[0.3333333333333333,\"#9c179e\"],[0.4444444444444444,\"#bd3786\"],[0.5555555555555556,\"#d8576b\"],[0.6666666666666666,\"#ed7953\"],[0.7777777777777778,\"#fb9f3a\"],[0.8888888888888888,\"#fdca26\"],[1.0,\"#f0f921\"]],\"diverging\":[[0,\"#8e0152\"],[0.1,\"#c51b7d\"],[0.2,\"#de77ae\"],[0.3,\"#f1b6da\"],[0.4,\"#fde0ef\"],[0.5,\"#f7f7f7\"],[0.6,\"#e6f5d0\"],[0.7,\"#b8e186\"],[0.8,\"#7fbc41\"],[0.9,\"#4d9221\"],[1,\"#276419\"]]},\"xaxis\":{\"gridcolor\":\"white\",\"linecolor\":\"white\",\"ticks\":\"\",\"title\":{\"standoff\":15},\"zerolinecolor\":\"white\",\"automargin\":true,\"zerolinewidth\":2},\"yaxis\":{\"gridcolor\":\"white\",\"linecolor\":\"white\",\"ticks\":\"\",\"title\":{\"standoff\":15},\"zerolinecolor\":\"white\",\"automargin\":true,\"zerolinewidth\":2},\"scene\":{\"xaxis\":{\"backgroundcolor\":\"#E5ECF6\",\"gridcolor\":\"white\",\"linecolor\":\"white\",\"showbackground\":true,\"ticks\":\"\",\"zerolinecolor\":\"white\",\"gridwidth\":2},\"yaxis\":{\"backgroundcolor\":\"#E5ECF6\",\"gridcolor\":\"white\",\"linecolor\":\"white\",\"showbackground\":true,\"ticks\":\"\",\"zerolinecolor\":\"white\",\"gridwidth\":2},\"zaxis\":{\"backgroundcolor\":\"#E5ECF6\",\"gridcolor\":\"white\",\"linecolor\":\"white\",\"showbackground\":true,\"ticks\":\"\",\"zerolinecolor\":\"white\",\"gridwidth\":2}},\"shapedefaults\":{\"line\":{\"color\":\"#2a3f5f\"}},\"annotationdefaults\":{\"arrowcolor\":\"#2a3f5f\",\"arrowhead\":0,\"arrowwidth\":1},\"geo\":{\"bgcolor\":\"white\",\"landcolor\":\"#E5ECF6\",\"subunitcolor\":\"white\",\"showland\":true,\"showlakes\":true,\"lakecolor\":\"white\"},\"title\":{\"x\":0.05},\"mapbox\":{\"style\":\"light\"}}},\"scene\":{\"xaxis\":{\"nticks\":4,\"range\":[0,10]},\"yaxis\":{\"nticks\":4,\"range\":[0,10]},\"zaxis\":{\"nticks\":4,\"range\":[0,10]}},\"margin\":{\"r\":20,\"l\":10,\"b\":10,\"t\":10},\"width\":700},                        {\"responsive\": true}                    ).then(function(){\n",
       "                            \n",
       "var gd = document.getElementById('0c1e3739-516e-4410-a848-8457fde18c15');\n",
       "var x = new MutationObserver(function (mutations, observer) {{\n",
       "        var display = window.getComputedStyle(gd).display;\n",
       "        if (!display || display === 'none') {{\n",
       "            console.log([gd, 'removed!']);\n",
       "            Plotly.purge(gd);\n",
       "            observer.disconnect();\n",
       "        }}\n",
       "}});\n",
       "\n",
       "// Listen for the removal of the full notebook cells\n",
       "var notebookContainer = gd.closest('#notebook-container');\n",
       "if (notebookContainer) {{\n",
       "    x.observe(notebookContainer, {childList: true});\n",
       "}}\n",
       "\n",
       "// Listen for the clearing of the current output cell\n",
       "var outputEl = gd.closest('.output');\n",
       "if (outputEl) {{\n",
       "    x.observe(outputEl, {childList: true});\n",
       "}}\n",
       "\n",
       "                        })                };                });            </script>        </div>"
      ]
     },
     "metadata": {},
     "output_type": "display_data"
    }
   ],
   "source": [
    "\n",
    "\n",
    "def add_mesh_3d(fig, coordinates: np.array):\n",
    "    fig.add_trace(\n",
    "        go.Mesh3d(\n",
    "            # 8 vertices of a cube\n",
    "            x=coordinates[0],\n",
    "            y=coordinates[1],\n",
    "            z=coordinates[2],\n",
    "            colorbar_title='z',\n",
    "            colorscale=[[0, 'gold'],\n",
    "                        [0.5, 'mediumturquoise'],\n",
    "                        [1, 'magenta']],\n",
    "            # Intensity of each vertex, which will be interpolated and color-coded\n",
    "            intensity = np.linspace(0, 1, 8, endpoint=True),\n",
    "            # i, j and k give the vertices of triangles\n",
    "            i = [7, 0, 0, 0, 4, 4, 6, 6, 4, 0, 3, 2],\n",
    "            j = [3, 4, 1, 2, 5, 6, 5, 2, 0, 1, 6, 3],\n",
    "            k = [0, 7, 2, 3, 6, 7, 1, 1, 5, 5, 7, 6],\n",
    "            name='y',\n",
    "            flatshading=True\n",
    "        )\n",
    "    )\n",
    "    \n",
    "fig = go.Figure()\n",
    "\n",
    "for box in list(boxes.values()):\n",
    "    add_mesh_3d(fig, box)\n",
    "\n",
    "fig.update_layout(\n",
    "    scene = {\n",
    "        \"xaxis\": {\n",
    "            \"nticks\": 4, \n",
    "            \"range\": [0,10],\n",
    "        },\n",
    "        \"yaxis\": {\n",
    "            \"nticks\": 4, \n",
    "            \"range\": [0, 10],\n",
    "        },\n",
    "        \"zaxis\": {\n",
    "            \"nticks\": 4, \n",
    "            \"range\": [0,10],\n",
    "        },\n",
    "    },\n",
    "    width=700,\n",
    "    margin=dict(r=20, l=10, b=10, t=10))\n",
    "\n",
    "fig.show()\n"
   ]
  },
  {
   "cell_type": "code",
   "execution_count": 151,
   "id": "27cb80d6-ded0-4c27-b550-88017a5e9032",
   "metadata": {},
   "outputs": [
    {
     "data": {
      "text/plain": [
       "array([[6, 6, 0, 0, 6, 6, 0, 0],\n",
       "       [2, 7, 7, 2, 2, 7, 7, 2],\n",
       "       [8, 8, 8, 8, 1, 1, 1, 1]])"
      ]
     },
     "execution_count": 151,
     "metadata": {},
     "output_type": "execute_result"
    }
   ],
   "source": [
    "# TODO: Explore paritioning and showing points of partition to be considered\n",
    "box_alpha = boxes[\"alpha\"]\n",
    "box_alpha"
   ]
  },
  {
   "cell_type": "code",
   "execution_count": 177,
   "id": "b2bc71dc-ed3e-4ef4-8af6-03bf91e4fe40",
   "metadata": {},
   "outputs": [
    {
     "data": {
      "text/plain": [
       "{'000': [],\n",
       " '002': [],\n",
       " '004': [],\n",
       " '006': [],\n",
       " '008': [],\n",
       " '020': [],\n",
       " '022': [],\n",
       " '024': [],\n",
       " '026': [],\n",
       " '028': [],\n",
       " '040': [],\n",
       " '042': [],\n",
       " '044': [],\n",
       " '046': [],\n",
       " '048': [],\n",
       " '060': [],\n",
       " '062': [],\n",
       " '064': [],\n",
       " '066': [],\n",
       " '068': [],\n",
       " '080': [],\n",
       " '082': [],\n",
       " '084': [],\n",
       " '086': [],\n",
       " '088': [],\n",
       " '200': [],\n",
       " '202': [],\n",
       " '204': [],\n",
       " '206': [],\n",
       " '208': [],\n",
       " '220': [],\n",
       " '222': [],\n",
       " '224': [],\n",
       " '226': [],\n",
       " '228': [],\n",
       " '240': [],\n",
       " '242': [],\n",
       " '244': [],\n",
       " '246': [],\n",
       " '248': [],\n",
       " '260': [],\n",
       " '262': [],\n",
       " '264': [],\n",
       " '266': [],\n",
       " '268': [],\n",
       " '280': [],\n",
       " '282': [],\n",
       " '284': [],\n",
       " '286': [],\n",
       " '288': [],\n",
       " '400': [],\n",
       " '402': [],\n",
       " '404': [],\n",
       " '406': [],\n",
       " '408': [],\n",
       " '420': [],\n",
       " '422': [],\n",
       " '424': [],\n",
       " '426': [],\n",
       " '428': [],\n",
       " '440': [],\n",
       " '442': [],\n",
       " '444': [],\n",
       " '446': [],\n",
       " '448': [],\n",
       " '460': [],\n",
       " '462': [],\n",
       " '464': [],\n",
       " '466': [],\n",
       " '468': [],\n",
       " '480': [],\n",
       " '482': [],\n",
       " '484': [],\n",
       " '486': [],\n",
       " '488': [],\n",
       " '600': [],\n",
       " '602': [],\n",
       " '604': [],\n",
       " '606': [],\n",
       " '608': [],\n",
       " '620': [],\n",
       " '622': [],\n",
       " '624': [],\n",
       " '626': [],\n",
       " '628': [],\n",
       " '640': [],\n",
       " '642': [],\n",
       " '644': [],\n",
       " '646': [],\n",
       " '648': [],\n",
       " '660': [],\n",
       " '662': [],\n",
       " '664': [],\n",
       " '666': [],\n",
       " '668': [],\n",
       " '680': [],\n",
       " '682': [],\n",
       " '684': [],\n",
       " '686': [],\n",
       " '688': [],\n",
       " '800': [],\n",
       " '802': [],\n",
       " '804': [],\n",
       " '806': [],\n",
       " '808': [],\n",
       " '820': [],\n",
       " '822': [],\n",
       " '824': [],\n",
       " '826': [],\n",
       " '828': [],\n",
       " '840': [],\n",
       " '842': [],\n",
       " '844': [],\n",
       " '846': [],\n",
       " '848': [],\n",
       " '860': [],\n",
       " '862': [],\n",
       " '864': [],\n",
       " '866': [],\n",
       " '868': [],\n",
       " '880': [],\n",
       " '882': [],\n",
       " '884': [],\n",
       " '886': [],\n",
       " '888': []}"
      ]
     },
     "execution_count": 177,
     "metadata": {},
     "output_type": "execute_result"
    }
   ],
   "source": [
    "import itertools\n",
    "\n",
    "partition_map = {}\n",
    "dimensions = [\"x\", \"y\", \"z\"]\n",
    "range_min = 0\n",
    "range_max = 10\n",
    "fidelity = 2\n",
    "\n",
    "x_vals = list(range(range_min, range_max, fidelity))\n",
    "all_combo = itertools.product(x_vals, x_vals, x_vals)\n",
    "for combo in all_combo:\n",
    "    partition_map[\"\".join([str(i) for i in combo])] = []\n",
    "    \n",
    "partition_map"
   ]
  },
  {
   "cell_type": "code",
   "execution_count": 168,
   "id": "b1490129-8fd5-4a2c-8fb0-42017d0f1b79",
   "metadata": {},
   "outputs": [
    {
     "data": {
      "text/plain": [
       "125"
      ]
     },
     "execution_count": 168,
     "metadata": {},
     "output_type": "execute_result"
    }
   ],
   "source": [
    "len(partition_map)"
   ]
  },
  {
   "cell_type": "code",
   "execution_count": 181,
   "id": "6aabaecb-fffe-42d1-a7ac-a200075ff639",
   "metadata": {},
   "outputs": [
    {
     "name": "stdout",
     "output_type": "stream",
     "text": [
      "[6 2 8] -> [6, 2, 8]\n",
      "[6 7 8] -> [6, 6, 8]\n",
      "[0 7 8] -> [0, 6, 8]\n",
      "[0 2 8] -> [0, 2, 8]\n",
      "[6 2 1] -> [6, 2, 0]\n",
      "[6 7 1] -> [6, 6, 0]\n",
      "[0 7 1] -> [0, 6, 0]\n",
      "[0 2 1] -> [0, 2, 0]\n"
     ]
    },
    {
     "data": {
      "text/plain": [
       "{'000': [],\n",
       " '002': [],\n",
       " '004': [],\n",
       " '006': [],\n",
       " '008': [],\n",
       " '020': ['alpha'],\n",
       " '022': [],\n",
       " '024': [],\n",
       " '026': [],\n",
       " '028': ['alpha'],\n",
       " '040': [],\n",
       " '042': [],\n",
       " '044': [],\n",
       " '046': [],\n",
       " '048': [],\n",
       " '060': ['alpha'],\n",
       " '062': [],\n",
       " '064': [],\n",
       " '066': [],\n",
       " '068': ['alpha'],\n",
       " '080': [],\n",
       " '082': [],\n",
       " '084': [],\n",
       " '086': [],\n",
       " '088': [],\n",
       " '200': [],\n",
       " '202': [],\n",
       " '204': [],\n",
       " '206': [],\n",
       " '208': [],\n",
       " '220': [],\n",
       " '222': [],\n",
       " '224': [],\n",
       " '226': [],\n",
       " '228': [],\n",
       " '240': [],\n",
       " '242': [],\n",
       " '244': [],\n",
       " '246': [],\n",
       " '248': [],\n",
       " '260': [],\n",
       " '262': [],\n",
       " '264': [],\n",
       " '266': [],\n",
       " '268': [],\n",
       " '280': [],\n",
       " '282': [],\n",
       " '284': [],\n",
       " '286': [],\n",
       " '288': [],\n",
       " '400': [],\n",
       " '402': [],\n",
       " '404': [],\n",
       " '406': [],\n",
       " '408': [],\n",
       " '420': [],\n",
       " '422': [],\n",
       " '424': [],\n",
       " '426': [],\n",
       " '428': [],\n",
       " '440': [],\n",
       " '442': [],\n",
       " '444': [],\n",
       " '446': [],\n",
       " '448': [],\n",
       " '460': [],\n",
       " '462': [],\n",
       " '464': [],\n",
       " '466': [],\n",
       " '468': [],\n",
       " '480': [],\n",
       " '482': [],\n",
       " '484': [],\n",
       " '486': [],\n",
       " '488': [],\n",
       " '600': [],\n",
       " '602': [],\n",
       " '604': [],\n",
       " '606': [],\n",
       " '608': [],\n",
       " '620': ['alpha'],\n",
       " '622': [],\n",
       " '624': [],\n",
       " '626': [],\n",
       " '628': ['alpha'],\n",
       " '640': [],\n",
       " '642': [],\n",
       " '644': [],\n",
       " '646': [],\n",
       " '648': [],\n",
       " '660': ['alpha'],\n",
       " '662': [],\n",
       " '664': [],\n",
       " '666': [],\n",
       " '668': ['alpha'],\n",
       " '680': [],\n",
       " '682': [],\n",
       " '684': [],\n",
       " '686': [],\n",
       " '688': [],\n",
       " '800': [],\n",
       " '802': [],\n",
       " '804': [],\n",
       " '806': [],\n",
       " '808': [],\n",
       " '820': [],\n",
       " '822': [],\n",
       " '824': [],\n",
       " '826': [],\n",
       " '828': [],\n",
       " '840': [],\n",
       " '842': [],\n",
       " '844': [],\n",
       " '846': [],\n",
       " '848': [],\n",
       " '860': [],\n",
       " '862': [],\n",
       " '864': [],\n",
       " '866': [],\n",
       " '868': [],\n",
       " '880': [],\n",
       " '882': [],\n",
       " '884': [],\n",
       " '886': [],\n",
       " '888': []}"
      ]
     },
     "execution_count": 181,
     "metadata": {},
     "output_type": "execute_result"
    }
   ],
   "source": [
    "\n",
    "for point in np.transpose(box_alpha):\n",
    "    step_values = [i - i % fidelity for i in point]\n",
    "    print(f\"{point} -> {step_values}\")\n",
    "    key = \"\".join([str(i) for i in step_values])\n",
    "    \n",
    "    if \"alpha\" not in partition_map[key]:\n",
    "        partition_map[key].append(\"alpha\")\n",
    "\n",
    "partition_map"
   ]
  },
  {
   "cell_type": "code",
   "execution_count": 196,
   "id": "68ff46bb-91a4-40e6-a3b8-0141e0580e89",
   "metadata": {},
   "outputs": [
    {
     "data": {
      "text/plain": [
       "0"
      ]
     },
     "execution_count": 196,
     "metadata": {},
     "output_type": "execute_result"
    }
   ],
   "source": [
    "# TODO: Rasterization method: https://en.wikipedia.org/wiki/Line_drawing_algorithm\n",
    "from collections import namedtuple\n",
    "\n",
    "Point = namedtuple(\"Point\", \"x y\")\n",
    "\n",
    "point_a = Point(0, 7)\n",
    "point_b = Point(6, 8)\n",
    "point_a.x"
   ]
  },
  {
   "cell_type": "code",
   "execution_count": 249,
   "id": "ad3656b1-518e-4d7d-bbf9-354a012a31bd",
   "metadata": {},
   "outputs": [
    {
     "data": {
      "text/plain": [
       "[(0, 6), (2, 6), (4, 6), (6, 6)]"
      ]
     },
     "execution_count": 249,
     "metadata": {},
     "output_type": "execute_result"
    }
   ],
   "source": [
    "# TODO: This works. Turn it into a function. RASTERISATION -> https://en.wikipedia.org/wiki/Rasterisation\n",
    "# Bresenham's line algorithm: https://en.wikipedia.org/wiki/Bresenham%27s_line_algorithm\n",
    "\n",
    "# dx = point_b.x - point_a.x\n",
    "# dy = point_b.y - point_b.y\n",
    "\n",
    "# for x in range(point_a.x, point_b.x + 1, 2):\n",
    "#     y = int(point_a.y + dy * (x - point_a.x) / dx)\n",
    "#     y = y - y % 2\n",
    "#     print(x, y)\n",
    "    \n",
    "def rasterize(x_1, x_2, y_1, y_2, fidelity):\n",
    "    def rasterize_low(x_1, x_2, y_1, y_2, fidelity):\n",
    "        dx = x_2 - x_1\n",
    "        dy = y_2 - y_1\n",
    "        yi = fidelity\n",
    "        if dy < 0:\n",
    "            yi = -1\n",
    "            dy = -dy\n",
    "\n",
    "        D = (2 * dy) - dx\n",
    "        y = y_1 - y_1 % fidelity\n",
    "\n",
    "        rasterized_points = []\n",
    "\n",
    "        for x in range(x_1, x_2 + 1, fidelity):\n",
    "            rasterized_points.append((x, y))\n",
    "            if D > 0:\n",
    "                y = y + yi\n",
    "                D = D + (2 * (dy - dx))\n",
    "            else:\n",
    "                D = D + (2 * dy)\n",
    "\n",
    "        return rasterized_points\n",
    "    \n",
    "    def rasterize_high(x_1, x_2, y_1, y_2, fidelity):\n",
    "        dx = x_2 - x_1\n",
    "        dy = y_2 - y_1\n",
    "        xi = fidelity\n",
    "        if dx < 0:\n",
    "            xi = -1\n",
    "            dx = -dx\n",
    "\n",
    "        D = (2 * dx) - dy\n",
    "        x = x_1 - x_1 % fidelity\n",
    "\n",
    "        rasterized_points = []\n",
    "        \n",
    "        for y in range(y_1, y_2 + 1, fidelity):\n",
    "            rasterized_points.append((x, y))\n",
    "            if D > 0:\n",
    "                x = x + xi\n",
    "                D = D + (2 * (dx - dy))\n",
    "            else:\n",
    "                D = D + (2 * dx)\n",
    "\n",
    "        return rasterized_points\n",
    "    \n",
    "    if abs(y_2 - y_1) < abs(x_2 - x_1):\n",
    "        if x_1 > x_2:\n",
    "            return rasterize_low(x_2, x_1, y_2, y_1, fidelity)\n",
    "        else:\n",
    "            return rasterize_low(x_1, x_2, y_1, y_2, fidelity)\n",
    "    else:\n",
    "        if y_1 > y_2:\n",
    "            return rasterize_high(x_2, x_1, y_2, y_1, fidelity)\n",
    "        else:\n",
    "            return rasterize_high(x_1, x_2, y_1, y_2, fidelity)\n",
    "    \n",
    "# TODO: How to combine rasterisation from 3d planes?\n",
    "rasterize(point_a.x, point_b.x, point_a.y, point_b.y, 2)"
   ]
  },
  {
   "cell_type": "code",
   "execution_count": 208,
   "id": "f26b0f5e-5682-4b92-98c7-d315dd83ae3b",
   "metadata": {},
   "outputs": [],
   "source": [
    "# Example showing the compilation from rasterisation\n",
    "\n",
    "x_vals = [0, 1, 2, 3]\n",
    "y_vals = [3, 4, 5, 6]\n",
    "z_vals = [4, 5, 6]\n",
    "\n",
    "# list(itertools.product(x_vals, y_vals, z_vals))"
   ]
  },
  {
   "cell_type": "code",
   "execution_count": 209,
   "id": "dac774dc-7834-4473-a140-95aa2d9491be",
   "metadata": {},
   "outputs": [
    {
     "data": {
      "text/plain": [
       "array([[6, 6, 0, 0, 6, 6, 0, 0],\n",
       "       [2, 7, 7, 2, 2, 7, 7, 2],\n",
       "       [8, 8, 8, 8, 1, 1, 1, 1]])"
      ]
     },
     "execution_count": 209,
     "metadata": {},
     "output_type": "execute_result"
    }
   ],
   "source": [
    "box_alpha"
   ]
  },
  {
   "cell_type": "code",
   "execution_count": 250,
   "id": "4d45362d-7fb2-4b05-afe9-0d8a1c311ac3",
   "metadata": {},
   "outputs": [
    {
     "name": "stdout",
     "output_type": "stream",
     "text": [
      "6, 2 -> 6, 7\n",
      "2 7\n",
      "2\n",
      "4\n",
      "6\n",
      "[(6, 2), (6, 4), (6, 6)]\n",
      "6, 7 -> 0, 7\n",
      "[(0, 6), (2, 6), (4, 6), (6, 6)]\n",
      "0, 7 -> 0, 2\n",
      "y_2 > y_1\n",
      "2 7\n",
      "2\n",
      "4\n",
      "6\n",
      "[(0, 2), (0, 4), (0, 6)]\n",
      "0, 2 -> 6, 2\n",
      "[(0, 2), (2, 2), (4, 2), (6, 2)]\n",
      "6, 2 -> 6, 7\n",
      "2 7\n",
      "2\n",
      "4\n",
      "6\n",
      "[(6, 2), (6, 4), (6, 6)]\n",
      "6, 7 -> 0, 7\n",
      "[(0, 6), (2, 6), (4, 6), (6, 6)]\n",
      "0, 7 -> 0, 2\n",
      "y_2 > y_1\n",
      "2 7\n",
      "2\n",
      "4\n",
      "6\n",
      "[(0, 2), (0, 4), (0, 6)]\n"
     ]
    }
   ],
   "source": [
    "# Iterate thru all points and rasterize all lines\n",
    "for i, x_val in enumerate(box_alpha[0][:-1]):  # x values\n",
    "    print(f\"{x_val}, {box_alpha[1][i]} -> {box_alpha[0][i + 1]}, {box_alpha[1][i + 1]}\")\n",
    "    x_1 = x_val\n",
    "    x_2 = box_alpha[0][i + 1]\n",
    "    y_1 = box_alpha[1][i]\n",
    "    y_2 = box_alpha[1][i + 1]\n",
    "    print(rasterize(x_1, x_2, y_1, y_2, 2))"
   ]
  }
 ],
 "metadata": {
  "kernelspec": {
   "display_name": "Python 3 (ipykernel)",
   "language": "python",
   "name": "python3"
  },
  "language_info": {
   "codemirror_mode": {
    "name": "ipython",
    "version": 3
   },
   "file_extension": ".py",
   "mimetype": "text/x-python",
   "name": "python",
   "nbconvert_exporter": "python",
   "pygments_lexer": "ipython3",
   "version": "3.8.10"
  }
 },
 "nbformat": 4,
 "nbformat_minor": 5
}
